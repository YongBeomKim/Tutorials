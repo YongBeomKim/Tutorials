{
 "cells": [
  {
   "cell_type": "markdown",
   "metadata": {},
   "source": [
    "<br><br>\n",
    "# ** @ 데코레이터 **\n",
    "<br>\n",
    "Python의 기본 Class와 같이 개념을 잘 익히기만 하면 된다"
   ]
  },
  {
   "cell_type": "markdown",
   "metadata": {},
   "source": [
    "<br>\n",
    "## **퍼스트클래스 함수**\n",
    "**  (First Class Function) **\n",
    "1. 매개변수에, 함수객체를 사용할 수 있다\n",
    "1. 매개변수등으로 함수가 재활용시, 기존과 동일한 메모리 주소에서 불러온다\n",
    "1. 복제 후, 원본을 삭제해도 동일한 메모리 속의 '함수객체 사본'은 잔존한다\n",
    "1. 요약하면 함수 (function) 를 first-class citizen으로 취급이 가능하다"
   ]
  },
  {
   "cell_type": "code",
   "execution_count": 1,
   "metadata": {},
   "outputs": [
    {
     "name": "stdout",
     "output_type": "stream",
     "text": [
      "  <function square at 0x7fecc1d8d400> \n",
      "  <function square at 0x7fecc1d8d400>\n",
      "25 25\n"
     ]
    }
   ],
   "source": [
    "# 기본함수의 취급\n",
    "def square(x):\n",
    "    return x * x\n",
    "\n",
    "f = square\n",
    "print(' ', square, '\\n ', f) # 둘 다 메모리 주소값이 동일하다\n",
    "print(square(5), f(5))"
   ]
  },
  {
   "cell_type": "code",
   "execution_count": 2,
   "metadata": {},
   "outputs": [
    {
     "data": {
      "text/plain": [
       "[1, 4, 9, 16, 25]"
      ]
     },
     "execution_count": 2,
     "metadata": {},
     "output_type": "execute_result"
    }
   ],
   "source": [
    "# 함수객체 (뒤에서 first citizen으로 재활용)\n",
    "def square(x):\n",
    "    return x * x\n",
    "\n",
    "# Warraper 함수 \n",
    "def my_map(func, arg_list):\n",
    "    result = []\n",
    "    for i in arg_list:\n",
    "        result.append(func(i)) # square 함수 호출, func == square\n",
    "    return result\n",
    "\n",
    "num_list = [1, 2, 3, 4, 5]\n",
    "squares = my_map(square, num_list)\n",
    "squares"
   ]
  },
  {
   "cell_type": "code",
   "execution_count": 3,
   "metadata": {},
   "outputs": [
    {
     "name": "stdout",
     "output_type": "stream",
     "text": [
      "<function logger.<locals>.log_message at 0x7fecc1d8dea0>\n",
      "Log:  Hi\n"
     ]
    }
   ],
   "source": [
    "# 간단한 로깅 함수\n",
    "def logger(msg):    \n",
    "    def log_message(): #1\n",
    "        print ('Log: ', msg)\n",
    "    return log_message\n",
    "\n",
    "log_hi = logger('Hi')  # 함수를 복제한다\n",
    "print (log_hi)         # log_message 오브젝트가 출력됩니다.\n",
    "log_hi()               # \"Log: Hi\"가 출력됩니다."
   ]
  },
  {
   "cell_type": "code",
   "execution_count": 4,
   "metadata": {},
   "outputs": [
    {
     "name": "stdout",
     "output_type": "stream",
     "text": [
      "NameError: logger는 존재하지 않습니다.\n",
      "Log:  Hi\n"
     ]
    }
   ],
   "source": [
    "del logger             # 글로벌 네임스페이스에서 logger 오브젝트를 지운다\n",
    "\n",
    "# logger 오브젝트가 지워진 것을 확인합니다.\n",
    "try:\n",
    "    print (logger)\n",
    "except NameError:\n",
    "    print ('NameError: logger는 존재하지 않습니다.')\n",
    "log_hi() # logger가 지워진 뒤에도 Log: Hi\"가 출력됩니다."
   ]
  },
  {
   "cell_type": "markdown",
   "metadata": {},
   "source": [
    "<br>\n",
    "## **Closure**\n",
    "1. 개념 : 함수객체가 매개변수등으로 복제가 된 경우, 원본함수를 'Closure'라고 한다\n",
    "1. Code : [Python Code](http://schoolofweb.net/blog/posts/%ED%8C%8C%EC%9D%B4%EC%8D%AC-%ED%81%B4%EB%A1%9C%EC%A0%80-closure/)"
   ]
  },
  {
   "cell_type": "code",
   "execution_count": 5,
   "metadata": {},
   "outputs": [
    {
     "name": "stdout",
     "output_type": "stream",
     "text": [
      "Hi\n"
     ]
    }
   ],
   "source": [
    "def outer_func():       # 1\n",
    "    message = 'Hi'      # 3 : 함수내 전역변수\n",
    "    def inner_func():   # 4\n",
    "        print (message) \n",
    "    return inner_func() # 5 -> #4를 호출한다\n",
    "\n",
    "outer_func()            # 2 "
   ]
  },
  {
   "cell_type": "code",
   "execution_count": 6,
   "metadata": {},
   "outputs": [
    {
     "name": "stdout",
     "output_type": "stream",
     "text": [
      "<function outer_func.<locals>.inner_func at 0x7fecc1544510>\n",
      "Hi\n"
     ]
    }
   ],
   "source": [
    "def outer_func():       # 1\n",
    "    message = 'Hi'      # 3\n",
    "    def inner_func():   # 4\n",
    "        print (message) \n",
    "    return inner_func   # 5  inner_func() 대신에 inner_func 를 출력한다\n",
    "\n",
    "my_func = outer_func()  # 1\n",
    "print(my_func)          # 함수 객체 자체\n",
    "my_func()               # 함수의 결과  (Oh!!! 놀라워라!!)"
   ]
  },
  {
   "cell_type": "code",
   "execution_count": 7,
   "metadata": {},
   "outputs": [
    {
     "name": "stdout",
     "output_type": "stream",
     "text": [
      "<h1>Some text<h1>\n",
      "<p>Some text<p>\n"
     ]
    }
   ],
   "source": [
    "def outer_func(tag):    # 1\n",
    "    text = 'Some text'  # 5\n",
    "    tag = tag           # 6\n",
    "\n",
    "    def inner_func():   # 7\n",
    "        print ('<{0}>{1}<{0}>'.format(tag, text))  #9\n",
    "\n",
    "    return inner_func   # 8\n",
    "\n",
    "h1_func = outer_func('h1') # 2\n",
    "p_func  = outer_func('p')  # 3\n",
    "h1_func()  #4\n",
    "p_func()  #10"
   ]
  },
  {
   "cell_type": "markdown",
   "metadata": {},
   "source": [
    "<br>\n",
    "## **데코레이터 (Decorator)**\n",
    "기존 코드실행에 앞서서 여러가지 기능을 추가하는 파이썬 구문 [Python Code](http://schoolofweb.net/blog/posts/%ED%8C%8C%EC%9D%B4%EC%8D%AC-%EB%8D%B0%EC%BD%94%EB%A0%88%EC%9D%B4%ED%84%B0-decorator/)"
   ]
  },
  {
   "cell_type": "markdown",
   "metadata": {},
   "source": [
    "<br>\n",
    "### **01 데코레이터 작성과정**\n",
    "퍼스트클래스와 클로저 연관성 정의하기"
   ]
  },
  {
   "cell_type": "code",
   "execution_count": 8,
   "metadata": {},
   "outputs": [
    {
     "name": "stdout",
     "output_type": "stream",
     "text": [
      "Hi closure 함수\n",
      "Bye closure 함수\n"
     ]
    }
   ],
   "source": [
    "# Closure 함수를 사용하여 재활용\n",
    "def outer_function(msg):\n",
    "    def inner_function():\n",
    "        print (msg, 'closure 함수')\n",
    "    return inner_function\n",
    "\n",
    "hi_func  = outer_function('Hi')\n",
    "bye_func = outer_function('Bye')\n",
    "hi_func()\n",
    "bye_func()"
   ]
  },
  {
   "cell_type": "code",
   "execution_count": 9,
   "metadata": {},
   "outputs": [
    {
     "name": "stdout",
     "output_type": "stream",
     "text": [
      "display_1 함수가 호출되기전 입니다.\n",
      "display_1 함수가 실행됐습니다.\n",
      "display_2 함수가 호출되기전 입니다.\n",
      "display_2 함수가 실행됐습니다.\n"
     ]
    }
   ],
   "source": [
    "def decorator_function(original_function):\n",
    "    def wrapper_function():\n",
    "        print ('{} 함수가 호출되기전 입니다.'.format(original_function.__name__))\n",
    "        return original_function()\n",
    "    return wrapper_function\n",
    "\n",
    "def display_1(): print ('display_1 함수가 실행됐습니다.')\n",
    "def display_2(): print ('display_2 함수가 실행됐습니다.')\n",
    "display_1 = decorator_function(display_1)  #1\n",
    "display_2 = decorator_function(display_2)  #2\n",
    "\n",
    "display_1()\n",
    "display_2()"
   ]
  },
  {
   "cell_type": "markdown",
   "metadata": {},
   "source": [
    "<br>\n",
    "### **02 함수형 데코레이터**\n",
    "def 내부의 def "
   ]
  },
  {
   "cell_type": "code",
   "execution_count": 10,
   "metadata": {},
   "outputs": [
    {
     "name": "stdout",
     "output_type": "stream",
     "text": [
      "display_info 함수가 호출되기전 입니다.\n",
      "display_info(John, 25) 함수가 실행됐습니다.\n"
     ]
    }
   ],
   "source": [
    "# Decoration에 사용할 인자들을 맞게 설정한다\n",
    "def decorator_function(original_function):\n",
    "    def wrapper_function(*args, **kwargs):         #1\n",
    "        print ('{} 함수가 호출되기전 입니다.'.format(\n",
    "            original_function.__name__))\n",
    "        return original_function(*args, **kwargs)  #2\n",
    "    return wrapper_function\n",
    "\n",
    "@decorator_function\n",
    "def display_info(name, age):\n",
    "    print ('display_info({}, {}) 함수가 실행됐습니다.'.format(name, age))\n",
    "\n",
    "display_info('John', 25)"
   ]
  },
  {
   "cell_type": "markdown",
   "metadata": {},
   "source": [
    "<br>\n",
    "### **03 클래스형 데코레이터**\n",
    "class def def"
   ]
  },
  {
   "cell_type": "code",
   "execution_count": 11,
   "metadata": {},
   "outputs": [
    {
     "name": "stdout",
     "output_type": "stream",
     "text": [
      "display 함수가 호출되기전 입니다.\n",
      "display 함수가 실행됐습니다.\n",
      "display_info 함수가 호출되기전 입니다.\n",
      "display_info(John, 25) 함수가 실행됐습니다.\n"
     ]
    }
   ],
   "source": [
    "# 클래스 형식의 데코레이터\n",
    "class DecoratorClass:  # 1\n",
    "    def __init__(self, original_function): # 초기 객체를 정의한다\n",
    "        self.original_function = original_function\n",
    "\n",
    "    def __call__(self, *args, **kwargs):   # 클래스 __call__ 작동함수를 정의한다\n",
    "        print ('{} 함수가 호출되기전 입니다.'.format(self.original_function.__name__))\n",
    "        return self.original_function(*args, **kwargs)\n",
    "\n",
    "@DecoratorClass        # 2\n",
    "def display():\n",
    "    print ('display 함수가 실행됐습니다.')\n",
    "\n",
    "@DecoratorClass        # 3\n",
    "def display_info(name, age):\n",
    "    print ('display_info({}, {}) 함수가 실행됐습니다.'.format(name, age))\n",
    "\n",
    "display()\n",
    "display_info('John', 25)"
   ]
  },
  {
   "cell_type": "markdown",
   "metadata": {},
   "source": [
    "<br>\n",
    "### **04 다수의  데코레이터**\n",
    "1. #1의 my_logger가 먼저 실행되고 #2의 my_timer에게 #3에서 wrapper 함수를 인자로써 리턴\n",
    "1. #4에서 original_function은 물론 wrapper 함수와 같습니다."
   ]
  },
  {
   "cell_type": "code",
   "execution_count": 12,
   "metadata": {},
   "outputs": [
    {
     "name": "stdout",
     "output_type": "stream",
     "text": [
      "display_info(John, 25) 함수가 실행됐습니다.\n",
      "display_info 함수가 실행된 총 시간: 1.001589059829712 초\n"
     ]
    }
   ],
   "source": [
    "# \n",
    "def my_logger(original_function):\n",
    "    import datetime, time, logging\n",
    "    logging.basicConfig(filename='{}.log'.format(original_function.__name__), level=logging.INFO)    \n",
    "\n",
    "    def wrapper(*args, **kwargs):\n",
    "        timestamp = datetime.datetime.now().strftime('%Y-%m-%d %H:%M')\n",
    "        logging.info('[{}] 실행결과 args - {}, kwargs - {}'.format(timestamp, args, kwargs))\n",
    "        return original_function(*args, **kwargs)\n",
    "    return wrapper\n",
    "\n",
    "def my_timer(original_function):\n",
    "    import datetime, time, logging\n",
    "\n",
    "    def wrapper(*args, **kwargs):\n",
    "        t1 = time.time()\n",
    "        result = original_function(*args, **kwargs)\n",
    "        t2 = time.time() - t1\n",
    "        print ('{} 함수가 실행된 총 시간: {} 초'.format(original_function.__name__, t2))\n",
    "        return result\n",
    "    return wrapper\n",
    "\n",
    "@my_logger  # 1\n",
    "@my_timer   # 2\n",
    "def display_info(name, age):\n",
    "    import datetime, time, logging\n",
    "    time.sleep(1)\n",
    "    print ('display_info({}, {}) 함수가 실행됐습니다.'.format(name, age))\n",
    "\n",
    "display_info('John', 25)"
   ]
  },
  {
   "cell_type": "code",
   "execution_count": 13,
   "metadata": {},
   "outputs": [
    {
     "name": "stdout",
     "output_type": "stream",
     "text": [
      "display_info(Jimmy, 30) 함수가 실행됐습니다.\n",
      "display_info 함수가 실행된 총 시간: 1.0012729167938232 초\n"
     ]
    }
   ],
   "source": [
    "from functools import wraps\n",
    "import datetime, time\n",
    "\n",
    "def my_logger(original_function):\n",
    "    import logging\n",
    "    logging.basicConfig(filename='{}.log'.format(original_function.__name__), level=logging.INFO)\n",
    "    \n",
    "    @wraps(original_function)  #1\n",
    "    def wrapper(*args, **kwargs):\n",
    "        timestamp = datetime.datetime.now().strftime('%Y-%m-%d %H:%M')\n",
    "        logging.info('[{}] 실행결과 args - {}, kwargs - {}'.format(timestamp, args, kwargs))\n",
    "        return original_function(*args, **kwargs)\n",
    "    return wrapper\n",
    "\n",
    "\n",
    "def my_timer(original_function):\n",
    "    import time\n",
    "\n",
    "    @wraps(original_function)  #2\n",
    "    def wrapper(*args, **kwargs):\n",
    "        t1     = time.time()\n",
    "        result = original_function(*args, **kwargs)\n",
    "        t2     = time.time() - t1\n",
    "        print ('{} 함수가 실행된 총 시간: {} 초'.format(original_function.__name__, t2))\n",
    "        return result\n",
    "    return wrapper\n",
    "\n",
    "@my_timer\n",
    "@my_logger\n",
    "def display_info(name, age):\n",
    "    time.sleep(1)\n",
    "    print ('display_info({}, {}) 함수가 실행됐습니다.'.format(name, age))\n",
    "\n",
    "display_info('Jimmy', 30)  #3"
   ]
  }
 ],
 "metadata": {
  "kernelspec": {
   "display_name": "Python 3",
   "language": "python",
   "name": "python3"
  },
  "language_info": {
   "codemirror_mode": {
    "name": "ipython",
    "version": 3
   },
   "file_extension": ".py",
   "mimetype": "text/x-python",
   "name": "python",
   "nbconvert_exporter": "python",
   "pygments_lexer": "ipython3",
   "version": "3.6.3"
  }
 },
 "nbformat": 4,
 "nbformat_minor": 2
}
