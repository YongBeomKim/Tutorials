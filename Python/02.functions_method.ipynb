{
 "cells": [
  {
   "cell_type": "markdown",
   "metadata": {},
   "source": [
    "review"
   ]
  },
  {
   "cell_type": "markdown",
   "metadata": {},
   "source": [
    "    파이썬 코딩의 기본 3요소\n",
    "    Data,  함수,  연결부호"
   ]
  },
  {
   "cell_type": "markdown",
   "metadata": {},
   "source": [
    "Data"
   ]
  },
  {
   "cell_type": "markdown",
   "metadata": {},
   "source": [
    "    <data>\n",
    "    숫자   :  유일하게 컴퓨터가 인식 연산 가능한 type\n",
    "    '문자' :  문자의 counting,  문자열 더하기,  slicing\n",
    "    변수명  :  변수는 문자로만 가능 (내부는 임의의 값들로 수정 변환이 가능)\n",
    "    tuple1, tuple2 : 여러 객체를 병렬적으로 처리 (2개 , 3개 , 여러개도 병렬처리 가능 : 꼭 짝은 맞아야 한다!!)\n",
    "    ex) (tuple1, tuple2) : 컴퓨터가 연산처리 결과로 tuple을 출력시 () 소괄호로 표시\n",
    "    [list형 데이터] - 숫자/ 문자\n",
    "    {dict형 데이터} - { key값 : value값 } - 숫자 /문자"
   ]
  },
  {
   "cell_type": "markdown",
   "metadata": {},
   "source": [
    "연결부호"
   ]
  },
  {
   "cell_type": "markdown",
   "metadata": {},
   "source": [
    "    '' , \"\"  문자열 지정 (연산 불가능한 객체)\n",
    "    . 종속   \n",
    "    , 병렬나열\n",
    "    : 내부설계\n",
    "    = 입력\n",
    "    == 대등조건\n",
    "    != 부 대등조건"
   ]
  },
  {
   "cell_type": "markdown",
   "metadata": {
    "collapsed": true
   },
   "source": [
    "Function"
   ]
  },
  {
   "cell_type": "markdown",
   "metadata": {},
   "source": [
    "    반복문 : for, while, loop.....   \n",
    "        1.list. dict같은 반복 조건이 필요\n",
    "        2. 같은 조건/ 함수/ 내용을 반복\n",
    "    판단문 : if    -  True / False"
   ]
  },
  {
   "cell_type": "markdown",
   "metadata": {},
   "source": [
    "## (data) string formating\n",
    "formating : 문자열 내부에 변수값을 지정 및 활용"
   ]
  },
  {
   "cell_type": "code",
   "execution_count": 1,
   "metadata": {},
   "outputs": [
    {
     "data": {
      "text/plain": [
       "'I am 21 years old in korea'"
      ]
     },
     "execution_count": 1,
     "metadata": {},
     "output_type": "execute_result"
    }
   ],
   "source": [
    "# %d : digit variable  \n",
    "\"I am %d years old in korea\" %21"
   ]
  },
  {
   "cell_type": "code",
   "execution_count": 2,
   "metadata": {},
   "outputs": [
    {
     "data": {
      "text/plain": [
       "'I am an Account in korea'"
      ]
     },
     "execution_count": 2,
     "metadata": {},
     "output_type": "execute_result"
    }
   ],
   "source": [
    "# %s : String variable \n",
    "# \"I am an %s in korea\" %Account   # Account 변수에 값이 입력되어 있으면 정상실행된다.\n",
    "\"I am an %s in korea\" %\"Account\""
   ]
  },
  {
   "cell_type": "markdown",
   "metadata": {},
   "source": [
    "formating 에서 변수를 사용"
   ]
  },
  {
   "cell_type": "code",
   "execution_count": 3,
   "metadata": {},
   "outputs": [
    {
     "data": {
      "text/plain": [
       "'I am 12 years old in korea'"
      ]
     },
     "execution_count": 3,
     "metadata": {},
     "output_type": "execute_result"
    }
   ],
   "source": [
    "# %d : digit variable  \n",
    "age = 12\n",
    "\"I am %d years old in korea\" %age"
   ]
  },
  {
   "cell_type": "code",
   "execution_count": 4,
   "metadata": {},
   "outputs": [
    {
     "data": {
      "text/plain": [
       "'I am an account in korea'"
      ]
     },
     "execution_count": 4,
     "metadata": {},
     "output_type": "execute_result"
    }
   ],
   "source": [
    "# %s : String variable \n",
    "Account = 'account'\n",
    "\"I am an %s in korea\" %Account\n",
    "#\"I am an %d in korea\" %Account"
   ]
  },
  {
   "cell_type": "code",
   "execution_count": 5,
   "metadata": {},
   "outputs": [
    {
     "data": {
      "text/plain": [
       "'I am 12 years old in korea'"
      ]
     },
     "execution_count": 5,
     "metadata": {},
     "output_type": "execute_result"
    }
   ],
   "source": [
    "# %s 는 다양한 입력형태를 자동으로 변환\n",
    "\"I am %s years old in korea\" %age"
   ]
  },
  {
   "cell_type": "markdown",
   "metadata": {},
   "source": [
    "formating 변수를 2개 이상 활용"
   ]
  },
  {
   "cell_type": "code",
   "execution_count": 6,
   "metadata": {},
   "outputs": [
    {
     "data": {
      "text/plain": [
       "'I ate an 10 apple. so i sick for three days'"
      ]
     },
     "execution_count": 6,
     "metadata": {},
     "output_type": "execute_result"
    }
   ],
   "source": [
    "number = 10\n",
    "day = 'three'\n",
    "\"I ate an %d apple. so i sick for %s days\" %(number, day)"
   ]
  },
  {
   "cell_type": "code",
   "execution_count": 7,
   "metadata": {},
   "outputs": [
    {
     "data": {
      "text/plain": [
       "\"this program's error is 90%.\""
      ]
     },
     "execution_count": 7,
     "metadata": {},
     "output_type": "execute_result"
    }
   ],
   "source": [
    "# %d %% : %를 화면에 출력하고 싶을 떈 double inputing을 하면 된다. \n",
    "error = 90\n",
    "\"this program's error is %d%%.\" %error"
   ]
  },
  {
   "cell_type": "markdown",
   "metadata": {},
   "source": [
    "    %c : character 문자 1개\n",
    "    %s : String 문자열\n",
    "    %d : integer 정수\n",
    "    %f : floating point 부동소수"
   ]
  },
  {
   "cell_type": "markdown",
   "metadata": {},
   "source": [
    "# Quiz"
   ]
  },
  {
   "cell_type": "markdown",
   "metadata": {},
   "source": [
    "    \"2017년 대한민국 최고 회계사\" 를\n",
    "    1) year = 2017 숫자를 입력한 변수을 활용하여\n",
    "    2) %d 로 통해서화면에 출력해보자\n",
    "    \n",
    "    start>> \"\" %"
   ]
  },
  {
   "cell_type": "markdown",
   "metadata": {},
   "source": [
    "    \"2017년 대한민국 최고 회계사\" 를\n",
    "    1) year = 2017  숫자를 입력한 변수을 활용하여\n",
    "    2) %s 로 통해서화면에 출력해보자\n",
    "    \n",
    "    start>> \"\" %"
   ]
  },
  {
   "cell_type": "markdown",
   "metadata": {},
   "source": [
    "입력공간 크기값 지정"
   ]
  },
  {
   "cell_type": "code",
   "execution_count": 8,
   "metadata": {},
   "outputs": [
    {
     "data": {
      "text/plain": [
       "'      1020'"
      ]
     },
     "execution_count": 8,
     "metadata": {},
     "output_type": "execute_result"
    }
   ],
   "source": [
    "# default : 오른쪽 정렬\n",
    "#%10  d  (전체 입력공간의 최소 크기를 지정)\n",
    "\"%10d\" %1020\n",
    "\n",
    "#%10  s  (전체 입력공간의 최소크기를 지정)\n",
    "\"%10s\" %\"Hello come to the real world\"\n",
    "\n",
    "#%-10  s  (전체 입력공간의 최소크기를 지정)\n",
    "# -10 : 왼쪽부터 정렬\n",
    "\"%-10s jane\" %\"hello\""
   ]
  },
  {
   "cell_type": "markdown",
   "metadata": {},
   "source": [
    "### 숫자 소숫점 자리 표현하기"
   ]
  },
  {
   "cell_type": "code",
   "execution_count": 11,
   "metadata": {},
   "outputs": [
    {
     "data": {
      "text/plain": [
       "'3.1416'"
      ]
     },
     "execution_count": 11,
     "metadata": {},
     "output_type": "execute_result"
    }
   ],
   "source": [
    "# using float\n",
    "\"%0.4f\"  % 3.141592"
   ]
  },
  {
   "cell_type": "code",
   "execution_count": 12,
   "metadata": {},
   "outputs": [
    {
     "data": {
      "text/plain": [
       "'3.1416'"
      ]
     },
     "execution_count": 12,
     "metadata": {},
     "output_type": "execute_result"
    }
   ],
   "source": [
    "# using float\n",
    "\"%.4f\"  % 3.141592"
   ]
  },
  {
   "cell_type": "code",
   "execution_count": 13,
   "metadata": {},
   "outputs": [
    {
     "data": {
      "text/plain": [
       "'    3.1416'"
      ]
     },
     "execution_count": 13,
     "metadata": {},
     "output_type": "execute_result"
    }
   ],
   "source": [
    "# using float\n",
    "\"%10.4f\"  % 3.141592"
   ]
  },
  {
   "cell_type": "markdown",
   "metadata": {},
   "source": [
    "# Quiz"
   ]
  },
  {
   "cell_type": "markdown",
   "metadata": {},
   "source": [
    "    20000원\n",
    "    2200원\n",
    "    100원\n",
    "    위 3줄을 모두 10칸 오른쪽 정렬로 일괄 출력해보자\n",
    "    \n",
    "        20000원\n",
    "         2200원\n",
    "          100원\n",
    "    \n",
    "    start>> '%10s'"
   ]
  },
  {
   "cell_type": "markdown",
   "metadata": {},
   "source": [
    "# Quiz"
   ]
  },
  {
   "cell_type": "markdown",
   "metadata": {},
   "source": [
    "    pi = 3.1415921213\n",
    "    위 변수값을 소숫점 2자리 까지 화면에 출력해보자"
   ]
  },
  {
   "cell_type": "markdown",
   "metadata": {},
   "source": [
    "### 문자열 관련 함수"
   ]
  },
  {
   "cell_type": "code",
   "execution_count": 14,
   "metadata": {},
   "outputs": [
    {
     "data": {
      "text/plain": [
       "1"
      ]
     },
     "execution_count": 14,
     "metadata": {},
     "output_type": "execute_result"
    }
   ],
   "source": [
    "# 문자의 갯수 세기\n",
    "a = 'hobby'\n",
    "a.count('ho')"
   ]
  },
  {
   "cell_type": "code",
   "execution_count": 15,
   "metadata": {},
   "outputs": [
    {
     "data": {
      "text/plain": [
       "0"
      ]
     },
     "execution_count": 15,
     "metadata": {},
     "output_type": "execute_result"
    }
   ],
   "source": [
    "# -1 : 입력값이 없으면 출력\n",
    "a = 'Python is best choice'\n",
    "a.find('P')"
   ]
  },
  {
   "cell_type": "code",
   "execution_count": 16,
   "metadata": {},
   "outputs": [
    {
     "data": {
      "text/plain": [
       "8"
      ]
     },
     "execution_count": 16,
     "metadata": {},
     "output_type": "execute_result"
    }
   ],
   "source": [
    "# -1 : 입력값이 없으면 출력\n",
    "a = 'Life is too short'\n",
    "a.index('t')"
   ]
  },
  {
   "cell_type": "code",
   "execution_count": 17,
   "metadata": {},
   "outputs": [
    {
     "data": {
      "text/plain": [
       "'H,e,l,l,o, ,W,o,r,l,d'"
      ]
     },
     "execution_count": 17,
     "metadata": {},
     "output_type": "execute_result"
    }
   ],
   "source": [
    "a =\",\"\n",
    "a.join('Hello World')"
   ]
  },
  {
   "cell_type": "code",
   "execution_count": 18,
   "metadata": {},
   "outputs": [
    {
     "data": {
      "text/plain": [
       "'당기손이익  '"
      ]
     },
     "execution_count": 18,
     "metadata": {},
     "output_type": "execute_result"
    }
   ],
   "source": [
    "# Left strip (왼쪽의 공백 제거)\n",
    "a = \"    당기손이익  \"\n",
    "a.lstrip()"
   ]
  },
  {
   "cell_type": "code",
   "execution_count": 19,
   "metadata": {},
   "outputs": [
    {
     "data": {
      "text/plain": [
       "'  당기손이익'"
      ]
     },
     "execution_count": 19,
     "metadata": {},
     "output_type": "execute_result"
    }
   ],
   "source": [
    "# Right strip (오른쪽 공백 제거)\n",
    "a = \"  당기손이익   \"\n",
    "a.rstrip()"
   ]
  },
  {
   "cell_type": "code",
   "execution_count": 20,
   "metadata": {},
   "outputs": [
    {
     "data": {
      "text/plain": [
       "'당기손이익'"
      ]
     },
     "execution_count": 20,
     "metadata": {},
     "output_type": "execute_result"
    }
   ],
   "source": [
    "# strip (양쪽 공백 제거)\n",
    "a = \"  당기손이익   \"\n",
    "a.strip()"
   ]
  },
  {
   "cell_type": "code",
   "execution_count": 21,
   "metadata": {},
   "outputs": [
    {
     "data": {
      "text/plain": [
       "'Your leg is too short'"
      ]
     },
     "execution_count": 21,
     "metadata": {},
     "output_type": "execute_result"
    }
   ],
   "source": [
    "a = \"Life is too short\"\n",
    "a.replace(\"Life\",  \"Your leg\")"
   ]
  },
  {
   "cell_type": "code",
   "execution_count": 22,
   "metadata": {},
   "outputs": [
    {
     "data": {
      "text/plain": [
       "['당기손이익', '(연결)']"
      ]
     },
     "execution_count": 22,
     "metadata": {},
     "output_type": "execute_result"
    }
   ],
   "source": [
    "# 공백을 기준으로 문자열 나눔\n",
    "a = \"당기손이익  (연결)\"\n",
    "a.split()"
   ]
  },
  {
   "cell_type": "code",
   "execution_count": 23,
   "metadata": {},
   "outputs": [
    {
     "data": {
      "text/plain": [
       "['할부원금', '100,000']"
      ]
     },
     "execution_count": 23,
     "metadata": {},
     "output_type": "execute_result"
    }
   ],
   "source": [
    "# 공백을 기준으로 문자열 나눔\n",
    "a = \"할부원금:100,000\"\n",
    "a.split(':')"
   ]
  },
  {
   "cell_type": "markdown",
   "metadata": {},
   "source": [
    "# Quiz"
   ]
  },
  {
   "cell_type": "markdown",
   "metadata": {},
   "source": [
    "    price = 20000\n",
    "    .join 메소드를 활용해서  '20000원'  으로 출력해보자"
   ]
  },
  {
   "cell_type": "markdown",
   "metadata": {},
   "source": [
    "# Quiz"
   ]
  },
  {
   "cell_type": "markdown",
   "metadata": {},
   "source": [
    "    price = 20000원\n",
    "    .replace 메소드를 활용해서  '20000krw'  으로 출력해보자"
   ]
  },
  {
   "cell_type": "markdown",
   "metadata": {},
   "source": [
    "## .format 함수를 활용\n",
    "index 위치값을 활용한 문자열 삽입 (포맷형식은 자동조정)"
   ]
  },
  {
   "cell_type": "code",
   "execution_count": 24,
   "metadata": {},
   "outputs": [
    {
     "data": {
      "text/plain": [
       "'I eat 3 apples'"
      ]
     },
     "execution_count": 24,
     "metadata": {},
     "output_type": "execute_result"
    }
   ],
   "source": [
    "\"I eat {0} apples\".format(3)\n",
    "\n",
    "number = 3.141592\n",
    "day = \"three\"\n",
    "\"I ate {0} apples. so I was sick for {1} days\".format(number, day)\n",
    "\n",
    "# :0.2f 2자리까지 출력\n",
    "number = 3.141592\n",
    "day = \"three\"\n",
    "\"I ate {0:0.2f} apples. so I was sick for {1} days\".format(number, day)\n",
    "\n",
    "# :<  왼쪽 정렬\n",
    "number = 3.141592\n",
    "day = \"three\"\n",
    "\"I ate {0:<16} apples. so I was sick for {1} days\".format(number, day)\n",
    "\n",
    "# :>  오른쪽 정렬\n",
    "number = 3.141592\n",
    "day = \"three\"\n",
    "\"I ate {0:>16} apples. so I was sick for {1} days\".format(number, day)\n",
    "\n",
    "# :^  가운데 정렬\n",
    "number = 3.141592\n",
    "day = \"three\"\n",
    "\"I ate {0:^16} apples. so I was sick for {1} days\".format(number, day)\n",
    "\n",
    "# :-^  공백 채우기\n",
    "number = 3.141592\n",
    "day = \"three\"\n",
    "\"I ate {0:-^16} apples. so I was sick for {1} days\".format(number, day)"
   ]
  },
  {
   "cell_type": "markdown",
   "metadata": {},
   "source": [
    "# Quiz\n",
    "\n",
    "    pi = 3.14159215\n",
    "    .format 함수를 활용해서\n",
    "    'Pi number is 3.14'로 출력하라\n",
    "\n",
    "    hint>> \"Pi number is {0:  }\".format()"
   ]
  },
  {
   "cell_type": "markdown",
   "metadata": {},
   "source": [
    "# Quiz"
   ]
  },
  {
   "cell_type": "code",
   "execution_count": 31,
   "metadata": {},
   "outputs": [
    {
     "data": {
      "text/plain": [
       "['-0.47%', '+0.72%', '-1.76%', '-0.93%', '-0.92%', '-2.14%']"
      ]
     },
     "execution_count": 31,
     "metadata": {},
     "output_type": "execute_result"
    }
   ],
   "source": [
    "from intro import naver_short_table\n",
    "table = naver_short_table('035420')\n",
    "rates = list(table.등락률)\n",
    "rates"
   ]
  },
  {
   "cell_type": "markdown",
   "metadata": {},
   "source": [
    "    rates[0] 의 '-0.47%'의 '%'를 각각 지우고\n",
    "    소숫점 3자리 숫자로 바꿔서 출력해보자\n",
    "    \n",
    "    hint>> rate[0].replace()  /100\n",
    "    hint>>"
   ]
  },
  {
   "cell_type": "code",
   "execution_count": 32,
   "metadata": {
    "collapsed": true
   },
   "outputs": [],
   "source": [
    "num = float(rates[0].replace(\"%\",\"\"))/100"
   ]
  },
  {
   "cell_type": "code",
   "execution_count": 33,
   "metadata": {},
   "outputs": [
    {
     "data": {
      "text/plain": [
       "'-0.005'"
      ]
     },
     "execution_count": 33,
     "metadata": {},
     "output_type": "execute_result"
    }
   ],
   "source": [
    "\"%0.3f\" %num"
   ]
  },
  {
   "cell_type": "markdown",
   "metadata": {},
   "source": [
    "for 반복문을 활용한 포매팅 변경하기"
   ]
  },
  {
   "cell_type": "code",
   "execution_count": 34,
   "metadata": {},
   "outputs": [
    {
     "name": "stdout",
     "output_type": "stream",
     "text": [
      "-0.005\n",
      "0.007\n",
      "-0.018\n",
      "-0.009\n",
      "-0.009\n",
      "-0.021\n"
     ]
    }
   ],
   "source": [
    "for rate in rates:\n",
    "    num = float(rate.replace(\"%\",\"\"))/100\n",
    "    print(\"%0.3f\" %num)"
   ]
  },
  {
   "cell_type": "markdown",
   "metadata": {
    "collapsed": true
   },
   "source": [
    "## [list] 리스트 자료 관리하기"
   ]
  },
  {
   "cell_type": "markdown",
   "metadata": {},
   "source": [
    "#### 자료형 구분하기"
   ]
  },
  {
   "cell_type": "code",
   "execution_count": 35,
   "metadata": {
    "collapsed": true
   },
   "outputs": [],
   "source": [
    "a = [1,2,3, [11,12,13]]"
   ]
  },
  {
   "cell_type": "code",
   "execution_count": 36,
   "metadata": {},
   "outputs": [
    {
     "data": {
      "text/plain": [
       "[3, [11, 12, 13]]"
      ]
     },
     "execution_count": 36,
     "metadata": {},
     "output_type": "execute_result"
    }
   ],
   "source": [
    "# Slicing\n",
    "a[2:]"
   ]
  },
  {
   "cell_type": "code",
   "execution_count": 37,
   "metadata": {},
   "outputs": [
    {
     "data": {
      "text/plain": [
       "[11, 12, 13]"
      ]
     },
     "execution_count": 37,
     "metadata": {},
     "output_type": "execute_result"
    }
   ],
   "source": [
    "# indexing\n",
    "a[-1]"
   ]
  },
  {
   "cell_type": "code",
   "execution_count": 38,
   "metadata": {},
   "outputs": [
    {
     "data": {
      "text/plain": [
       "11"
      ]
     },
     "execution_count": 38,
     "metadata": {},
     "output_type": "execute_result"
    }
   ],
   "source": [
    "# indexing (2 dim)\n",
    "a[-1][0]"
   ]
  },
  {
   "cell_type": "markdown",
   "metadata": {},
   "source": [
    "#### Add, append,  insert data"
   ]
  },
  {
   "cell_type": "code",
   "execution_count": 39,
   "metadata": {},
   "outputs": [
    {
     "data": {
      "text/plain": [
       "[1, 2, 3, [11, 12, 13], 4, 5, 6]"
      ]
     },
     "execution_count": 39,
     "metadata": {},
     "output_type": "execute_result"
    }
   ],
   "source": [
    "b = [4,5,6]\n",
    "a + b"
   ]
  },
  {
   "cell_type": "code",
   "execution_count": 40,
   "metadata": {},
   "outputs": [
    {
     "data": {
      "text/plain": [
       "[4, 5, 6, 1, 2, 3, [11, 12, 13]]"
      ]
     },
     "execution_count": 40,
     "metadata": {},
     "output_type": "execute_result"
    }
   ],
   "source": [
    "b + a"
   ]
  },
  {
   "cell_type": "code",
   "execution_count": 41,
   "metadata": {},
   "outputs": [
    {
     "data": {
      "text/plain": [
       "[1, 2, 3, [11, 12, 13], 1, 2, 3, [11, 12, 13], 1, 2, 3, [11, 12, 13]]"
      ]
     },
     "execution_count": 41,
     "metadata": {},
     "output_type": "execute_result"
    }
   ],
   "source": [
    "# 반복\n",
    "a * 3"
   ]
  },
  {
   "cell_type": "code",
   "execution_count": 42,
   "metadata": {},
   "outputs": [
    {
     "data": {
      "text/plain": [
       "[4, 5, 6, 5]"
      ]
     },
     "execution_count": 42,
     "metadata": {},
     "output_type": "execute_result"
    }
   ],
   "source": [
    "b.append(5)\n",
    "b"
   ]
  },
  {
   "cell_type": "code",
   "execution_count": 43,
   "metadata": {},
   "outputs": [
    {
     "data": {
      "text/plain": [
       "[4, 5, 6, 5, [21, 22, 23]]"
      ]
     },
     "execution_count": 43,
     "metadata": {},
     "output_type": "execute_result"
    }
   ],
   "source": [
    "b.append([21,22,23])\n",
    "b"
   ]
  },
  {
   "cell_type": "code",
   "execution_count": 44,
   "metadata": {},
   "outputs": [
    {
     "data": {
      "text/plain": [
       "[10, 5, 6, 5, [21, 22, 23]]"
      ]
     },
     "execution_count": 44,
     "metadata": {},
     "output_type": "execute_result"
    }
   ],
   "source": [
    "b[0] = 10\n",
    "b"
   ]
  },
  {
   "cell_type": "code",
   "execution_count": 45,
   "metadata": {},
   "outputs": [
    {
     "data": {
      "text/plain": [
       "[[31, 32, 33], 10, 5, 6, 5, [21, 22, 23]]"
      ]
     },
     "execution_count": 45,
     "metadata": {},
     "output_type": "execute_result"
    }
   ],
   "source": [
    "# 기존값들 그대로 유지한 채 새로운 값 입력\n",
    "# 해당 위치에 입력하면, 나머지는 뒤로 밀려난다\n",
    "# list객체.insert(삽입할 인덱스 위치, 입력값)\n",
    "b.insert(0, [31,32,33])\n",
    "b"
   ]
  },
  {
   "cell_type": "markdown",
   "metadata": {},
   "source": [
    "#### Delete data"
   ]
  },
  {
   "cell_type": "code",
   "execution_count": 46,
   "metadata": {
    "scrolled": true
   },
   "outputs": [
    {
     "data": {
      "text/plain": [
       "[[31, 32, 33], 10, 5, 6, 5]"
      ]
     },
     "execution_count": 46,
     "metadata": {},
     "output_type": "execute_result"
    }
   ],
   "source": [
    "# pop()  insert()로 입력시 쌍을 이뤄서 실행하는 경우가 많다\n",
    "b.pop()\n",
    "b"
   ]
  },
  {
   "cell_type": "code",
   "execution_count": 47,
   "metadata": {},
   "outputs": [
    {
     "data": {
      "text/plain": [
       "[[31, 32, 33], 10]"
      ]
     },
     "execution_count": 47,
     "metadata": {},
     "output_type": "execute_result"
    }
   ],
   "source": [
    "# Slicing 을 활용해서 삭제하기\n",
    "b[2:5] = []\n",
    "b"
   ]
  },
  {
   "cell_type": "code",
   "execution_count": 48,
   "metadata": {},
   "outputs": [
    {
     "data": {
      "text/plain": [
       "[[], 10]"
      ]
     },
     "execution_count": 48,
     "metadata": {},
     "output_type": "execute_result"
    }
   ],
   "source": [
    "# index를 활용해서 삭제하기\n",
    "# 빈 list가 입력되어 있다.\n",
    "b[0] = []\n",
    "b"
   ]
  },
  {
   "cell_type": "code",
   "execution_count": 49,
   "metadata": {},
   "outputs": [
    {
     "data": {
      "text/plain": [
       "[10]"
      ]
     },
     "execution_count": 49,
     "metadata": {},
     "output_type": "execute_result"
    }
   ],
   "source": [
    "del b[0]\n",
    "b"
   ]
  },
  {
   "cell_type": "code",
   "execution_count": 50,
   "metadata": {},
   "outputs": [
    {
     "data": {
      "text/plain": [
       "[]"
      ]
     },
     "execution_count": 50,
     "metadata": {},
     "output_type": "execute_result"
    }
   ],
   "source": [
    "# value 를 기준으로 삭제하기 (처음 조건에 해당되는 값을 삭제)\n",
    "b.remove(10)\n",
    "b"
   ]
  },
  {
   "cell_type": "markdown",
   "metadata": {},
   "source": [
    "#### Sorting"
   ]
  },
  {
   "cell_type": "code",
   "execution_count": 51,
   "metadata": {},
   "outputs": [
    {
     "data": {
      "text/plain": [
       "[1, 2, 3, 4, 5, 10]"
      ]
     },
     "execution_count": 51,
     "metadata": {},
     "output_type": "execute_result"
    }
   ],
   "source": [
    "# 기본: 오름차순 정렬\n",
    "a = [5, 2, 4, 10, 1, 3]\n",
    "a.sort()\n",
    "a"
   ]
  },
  {
   "cell_type": "code",
   "execution_count": 52,
   "metadata": {},
   "outputs": [
    {
     "data": {
      "text/plain": [
       "[10, 5, 4, 3, 2, 1]"
      ]
     },
     "execution_count": 52,
     "metadata": {},
     "output_type": "execute_result"
    }
   ],
   "source": [
    "# 내림차순 정렬 옵션\n",
    "a.sort(reverse=True)\n",
    "a"
   ]
  },
  {
   "cell_type": "code",
   "execution_count": 53,
   "metadata": {},
   "outputs": [
    {
     "data": {
      "text/plain": [
       "['apple', 'bike', 'dictionary', 'list', 'zoo']"
      ]
     },
     "execution_count": 53,
     "metadata": {},
     "output_type": "execute_result"
    }
   ],
   "source": [
    "# 알파벳에도 동일한 기준으로 정렬\n",
    "a = [\"bike\", 'apple','zoo','list','dictionary']\n",
    "a.sort()\n",
    "a"
   ]
  },
  {
   "cell_type": "code",
   "execution_count": 54,
   "metadata": {},
   "outputs": [
    {
     "data": {
      "text/plain": [
       "['한국', '중국', '일본', '대만']"
      ]
     },
     "execution_count": 54,
     "metadata": {},
     "output_type": "execute_result"
    }
   ],
   "source": [
    "# 한글에도 동일한 기준으로 정렬\n",
    "a = ['일본', '중국' , '한국', '대만']\n",
    "a.sort(reverse=True)\n",
    "a"
   ]
  },
  {
   "cell_type": "markdown",
   "metadata": {},
   "source": [
    "#### reverse() 그대로 뒤집기"
   ]
  },
  {
   "cell_type": "code",
   "execution_count": 55,
   "metadata": {},
   "outputs": [
    {
     "data": {
      "text/plain": [
       "['대만', '한국', '중국', '일본']"
      ]
     },
     "execution_count": 55,
     "metadata": {},
     "output_type": "execute_result"
    }
   ],
   "source": [
    "a = ['일본', '중국' , '한국', '대만']\n",
    "a.reverse()\n",
    "a"
   ]
  },
  {
   "cell_type": "markdown",
   "metadata": {
    "collapsed": true
   },
   "source": [
    "    [ list ] 데이터 활용하기\n",
    "    찾기   : [n1] indexing, [n1:n2] slicing\n",
    "    더하기  : .append(객체) , .insert(index주소, 객체) , + \n",
    "    제거하기 : .remove(객체), .pop() , list[n1:n2] = [] , del list[index주소]\n",
    "    정렬 : .sort(reverse=False) , .reverse()"
   ]
  },
  {
   "cell_type": "markdown",
   "metadata": {
    "collapsed": true
   },
   "source": [
    "## {dict} 딕셔너리 자료 관리하기"
   ]
  },
  {
   "cell_type": "code",
   "execution_count": 56,
   "metadata": {},
   "outputs": [
    {
     "data": {
      "text/plain": [
       "{'000660': 'SK하이닉스', '005390': '삼성전자', '034220': 'LG디스플레이', '035420': '네이버'}"
      ]
     },
     "execution_count": 56,
     "metadata": {},
     "output_type": "execute_result"
    }
   ],
   "source": [
    "# 딕셔너리 내용 추가하기\n",
    "krx_code = {'000660': 'SK하이닉스', '005390': '삼성전자', '035420': '네이버'}\n",
    "krx_code['034220'] = 'LG디스플레이'\n",
    "krx_code"
   ]
  },
  {
   "cell_type": "code",
   "execution_count": 57,
   "metadata": {},
   "outputs": [
    {
     "data": {
      "text/plain": [
       "{'005390': '삼성전자', '034220': 'LG디스플레이', '035420': '네이버'}"
      ]
     },
     "execution_count": 57,
     "metadata": {},
     "output_type": "execute_result"
    }
   ],
   "source": [
    "del krx_code['000660']\n",
    "krx_code"
   ]
  },
  {
   "cell_type": "code",
   "execution_count": 58,
   "metadata": {
    "collapsed": true
   },
   "outputs": [],
   "source": [
    "krx_code2 = {'000661': 'SK하이닉스', '005391': '삼성전자', '035421': '네이버'}"
   ]
  },
  {
   "cell_type": "code",
   "execution_count": 59,
   "metadata": {
    "collapsed": true
   },
   "outputs": [],
   "source": [
    "# krx_code + krx_code2\n",
    "for code in krx_code2:\n",
    "    if code not in krx_code:\n",
    "        krx_code[code] = krx_code2[code]"
   ]
  },
  {
   "cell_type": "code",
   "execution_count": 60,
   "metadata": {},
   "outputs": [
    {
     "data": {
      "text/plain": [
       "{'000661': 'SK하이닉스',\n",
       " '005390': '삼성전자',\n",
       " '005391': '삼성전자',\n",
       " '034220': 'LG디스플레이',\n",
       " '035420': '네이버',\n",
       " '035421': '네이버'}"
      ]
     },
     "execution_count": 60,
     "metadata": {},
     "output_type": "execute_result"
    }
   ],
   "source": [
    "krx_code"
   ]
  },
  {
   "cell_type": "markdown",
   "metadata": {
    "collapsed": true
   },
   "source": [
    "    {dict}의 자료 관리\n",
    "    기본적 Key 값들만 출력된다.\n",
    "    {dict}[key값] 을 해야 value 를 입력 / 출력\n",
    "\n",
    "    제거 : key 값 만으로 삭제가능\n",
    "    추가 : dict객체이름[ key값 ] = value값\n",
    "    연결 : for 반복문을 통해서 연결한다."
   ]
  },
  {
   "cell_type": "markdown",
   "metadata": {},
   "source": [
    "# Quiz"
   ]
  },
  {
   "cell_type": "markdown",
   "metadata": {},
   "source": [
    "    krx_code 자료를\n",
    "    krx_code.items()를 활용해서\n",
    "    code 와 '회사이름' 의 key , value 값을 \n",
    "    '회사이름' 과 code 의 key , value 형태로 변환해서 출력해라\n",
    "    \n",
    "    hint>>  code = {} \n",
    "            for  튜플자료형   in   krx_code.items():\n",
    "                    code['key값'] = 'value 값'"
   ]
  },
  {
   "cell_type": "code",
   "execution_count": 61,
   "metadata": {},
   "outputs": [
    {
     "data": {
      "text/plain": [
       "{'LG디스플레이': '034220', 'SK하이닉스': '000661', '네이버': '035420', '삼성전자': '005390'}"
      ]
     },
     "execution_count": 61,
     "metadata": {},
     "output_type": "execute_result"
    }
   ],
   "source": [
    "code = {}\n",
    "for k , v in krx_code.items():\n",
    "    code[v] = k\n",
    "code"
   ]
  },
  {
   "cell_type": "markdown",
   "metadata": {},
   "source": [
    "### Boolean 함수\n",
    "True, False : Masking 역활로 활용"
   ]
  },
  {
   "cell_type": "code",
   "execution_count": 62,
   "metadata": {
    "collapsed": true
   },
   "outputs": [],
   "source": [
    "a = [1,2,3,4,5,6,7,8,9]"
   ]
  },
  {
   "cell_type": "code",
   "execution_count": 63,
   "metadata": {},
   "outputs": [
    {
     "data": {
      "text/plain": [
       "False"
      ]
     },
     "execution_count": 63,
     "metadata": {},
     "output_type": "execute_result"
    }
   ],
   "source": [
    "10 in a"
   ]
  },
  {
   "cell_type": "code",
   "execution_count": 64,
   "metadata": {},
   "outputs": [
    {
     "data": {
      "text/plain": [
       "True"
      ]
     },
     "execution_count": 64,
     "metadata": {},
     "output_type": "execute_result"
    }
   ],
   "source": [
    "6 in a"
   ]
  },
  {
   "cell_type": "code",
   "execution_count": 65,
   "metadata": {},
   "outputs": [
    {
     "data": {
      "text/plain": [
       "True"
      ]
     },
     "execution_count": 65,
     "metadata": {},
     "output_type": "execute_result"
    }
   ],
   "source": [
    "10 not in a"
   ]
  },
  {
   "cell_type": "code",
   "execution_count": 66,
   "metadata": {},
   "outputs": [
    {
     "data": {
      "text/plain": [
       "False"
      ]
     },
     "execution_count": 66,
     "metadata": {},
     "output_type": "execute_result"
    }
   ],
   "source": [
    "'a' in 'Account'"
   ]
  },
  {
   "cell_type": "code",
   "execution_count": 67,
   "metadata": {},
   "outputs": [
    {
     "data": {
      "text/plain": [
       "True"
      ]
     },
     "execution_count": 67,
     "metadata": {},
     "output_type": "execute_result"
    }
   ],
   "source": [
    "'a' in 'account'"
   ]
  },
  {
   "cell_type": "markdown",
   "metadata": {},
   "source": [
    "#### if"
   ]
  },
  {
   "cell_type": "code",
   "execution_count": 68,
   "metadata": {
    "collapsed": true
   },
   "outputs": [],
   "source": [
    "pocket = ['paper','cellphone']"
   ]
  },
  {
   "cell_type": "code",
   "execution_count": 69,
   "metadata": {},
   "outputs": [
    {
     "name": "stdout",
     "output_type": "stream",
     "text": [
      "print the paper\n"
     ]
    }
   ],
   "source": [
    "if 'paper'  in pocket:\n",
    "    print('print the paper')\n",
    "elif 'money' in pocket:\n",
    "    print('have a money')\n",
    "else:\n",
    "    print(\"have nothing\")"
   ]
  },
  {
   "cell_type": "code",
   "execution_count": 70,
   "metadata": {},
   "outputs": [
    {
     "name": "stdout",
     "output_type": "stream",
     "text": [
      "print the paper\n"
     ]
    }
   ],
   "source": [
    "if 'paper'   in pocket: print('print the paper')\n",
    "elif 'money' in pocket: print('have a money')\n",
    "else:                   print(\"have nothing\")"
   ]
  },
  {
   "cell_type": "markdown",
   "metadata": {},
   "source": [
    "### [ list 내부에서 활용하는  함수 ]"
   ]
  },
  {
   "cell_type": "code",
   "execution_count": 71,
   "metadata": {
    "collapsed": true
   },
   "outputs": [],
   "source": [
    "a = [1,2,3,4,5,6,7,8,9]"
   ]
  },
  {
   "cell_type": "code",
   "execution_count": 72,
   "metadata": {},
   "outputs": [
    {
     "name": "stdout",
     "output_type": "stream",
     "text": [
      "6\n",
      "7\n",
      "8\n",
      "9\n"
     ]
    }
   ],
   "source": [
    "# list 자료를 활용\n",
    "for num in a:\n",
    "    if num > 5:\n",
    "        print(num)"
   ]
  },
  {
   "cell_type": "code",
   "execution_count": 73,
   "metadata": {},
   "outputs": [
    {
     "data": {
      "text/plain": [
       "[6, 7, 8, 9]"
      ]
     },
     "execution_count": 73,
     "metadata": {},
     "output_type": "execute_result"
    }
   ],
   "source": [
    "data = [num     for num in a     if num>5]\n",
    "data"
   ]
  },
  {
   "cell_type": "code",
   "execution_count": 74,
   "metadata": {},
   "outputs": [
    {
     "name": "stdout",
     "output_type": "stream",
     "text": [
      "네이버\n",
      "삼성전자\n",
      "네이버\n",
      "SK하이닉스\n",
      "LG디스플레이\n"
     ]
    }
   ],
   "source": [
    "# dict 자료를 활용\n",
    "for code in krx_code:\n",
    "    if code != '005390':\n",
    "        print(krx_code[code])"
   ]
  },
  {
   "cell_type": "code",
   "execution_count": 75,
   "metadata": {},
   "outputs": [
    {
     "data": {
      "text/plain": [
       "['네이버', '네이버', 'SK하이닉스', '삼성전자', 'LG디스플레이']"
      ]
     },
     "execution_count": 75,
     "metadata": {},
     "output_type": "execute_result"
    }
   ],
   "source": [
    "code =  [ krx_code[code]  for code in krx_code   if code != '005391']\n",
    "code"
   ]
  },
  {
   "cell_type": "markdown",
   "metadata": {},
   "source": [
    "### for 함수\n",
    "반복문 with  Range"
   ]
  },
  {
   "cell_type": "markdown",
   "metadata": {},
   "source": [
    "range(start, end, step)"
   ]
  },
  {
   "cell_type": "code",
   "execution_count": 76,
   "metadata": {},
   "outputs": [
    {
     "name": "stdout",
     "output_type": "stream",
     "text": [
      "0\n",
      "1\n",
      "2\n",
      "3\n",
      "4\n",
      "5\n",
      "6\n",
      "7\n",
      "8\n",
      "9\n"
     ]
    }
   ],
   "source": [
    "for i in range(10): \n",
    "    print(i)"
   ]
  },
  {
   "cell_type": "code",
   "execution_count": 77,
   "metadata": {},
   "outputs": [
    {
     "data": {
      "text/plain": [
       "[0, 1, 2, 3, 4, 5, 6, 7, 8, 9]"
      ]
     },
     "execution_count": 77,
     "metadata": {},
     "output_type": "execute_result"
    }
   ],
   "source": [
    "[ i   for i  in range(10)]"
   ]
  },
  {
   "cell_type": "code",
   "execution_count": 78,
   "metadata": {},
   "outputs": [
    {
     "data": {
      "text/plain": [
       "[1, 2, 3, 4, 5, 6, 7, 8, 9]"
      ]
     },
     "execution_count": 78,
     "metadata": {},
     "output_type": "execute_result"
    }
   ],
   "source": [
    "[ i   for i  in range(1,10)]"
   ]
  },
  {
   "cell_type": "code",
   "execution_count": 79,
   "metadata": {},
   "outputs": [
    {
     "data": {
      "text/plain": [
       "[2, 4, 6, 8]"
      ]
     },
     "execution_count": 79,
     "metadata": {},
     "output_type": "execute_result"
    }
   ],
   "source": [
    "[ i   for i  in range(2,10,2)]"
   ]
  },
  {
   "cell_type": "code",
   "execution_count": 80,
   "metadata": {},
   "outputs": [
    {
     "data": {
      "text/plain": [
       "[2, 4, 6, 8, 10]"
      ]
     },
     "execution_count": 80,
     "metadata": {},
     "output_type": "execute_result"
    }
   ],
   "source": [
    "[ i   for i  in range(2,11,2)]"
   ]
  },
  {
   "cell_type": "markdown",
   "metadata": {
    "collapsed": true
   },
   "source": [
    "slicing [ start : end : step ] "
   ]
  },
  {
   "cell_type": "code",
   "execution_count": 81,
   "metadata": {
    "collapsed": true
   },
   "outputs": [],
   "source": [
    "data = [ i  for i in range(0,100)]"
   ]
  },
  {
   "cell_type": "code",
   "execution_count": 82,
   "metadata": {},
   "outputs": [
    {
     "data": {
      "text/plain": [
       "1"
      ]
     },
     "execution_count": 82,
     "metadata": {},
     "output_type": "execute_result"
    }
   ],
   "source": [
    "data[1]"
   ]
  },
  {
   "cell_type": "code",
   "execution_count": 83,
   "metadata": {},
   "outputs": [
    {
     "data": {
      "text/plain": [
       "[1, 2, 3, 4, 5, 6, 7, 8, 9]"
      ]
     },
     "execution_count": 83,
     "metadata": {},
     "output_type": "execute_result"
    }
   ],
   "source": [
    "data[1:10]"
   ]
  },
  {
   "cell_type": "code",
   "execution_count": 84,
   "metadata": {},
   "outputs": [
    {
     "data": {
      "text/plain": [
       "[0, 10, 20, 30, 40, 50, 60, 70, 80, 90]"
      ]
     },
     "execution_count": 84,
     "metadata": {},
     "output_type": "execute_result"
    }
   ],
   "source": [
    "data[::10]"
   ]
  },
  {
   "cell_type": "markdown",
   "metadata": {},
   "source": [
    "# Quiz"
   ]
  },
  {
   "cell_type": "markdown",
   "metadata": {},
   "source": [
    "    [list 내부활용 for 문]을 사용해서\n",
    "    data = 0 ~ 200까지 숫자 list를 생성 후\n",
    "    data의 20 단위의 숫차를 출력해라\n",
    "    \n",
    "    hint>>  range( start, end, step )\n",
    "            slicing[ start : end : step ]"
   ]
  },
  {
   "cell_type": "code",
   "execution_count": null,
   "metadata": {
    "collapsed": true
   },
   "outputs": [],
   "source": []
  },
  {
   "cell_type": "code",
   "execution_count": null,
   "metadata": {
    "collapsed": true
   },
   "outputs": [],
   "source": []
  },
  {
   "cell_type": "code",
   "execution_count": null,
   "metadata": {
    "collapsed": true
   },
   "outputs": [],
   "source": []
  },
  {
   "cell_type": "code",
   "execution_count": null,
   "metadata": {
    "collapsed": true
   },
   "outputs": [],
   "source": []
  }
 ],
 "metadata": {
  "kernelspec": {
   "display_name": "Python 3",
   "language": "python",
   "name": "python3"
  },
  "language_info": {
   "codemirror_mode": {
    "name": "ipython",
    "version": 3
   },
   "file_extension": ".py",
   "mimetype": "text/x-python",
   "name": "python",
   "nbconvert_exporter": "python",
   "pygments_lexer": "ipython3",
   "version": "3.6.1"
  }
 },
 "nbformat": 4,
 "nbformat_minor": 2
}
