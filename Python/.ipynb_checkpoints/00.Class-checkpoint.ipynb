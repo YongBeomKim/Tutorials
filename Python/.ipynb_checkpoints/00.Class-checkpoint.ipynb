{
 "cells": [
  {
   "cell_type": "markdown",
   "metadata": {},
   "source": [
    "# 클래스 함수 활용하기"
   ]
  },
  {
   "cell_type": "markdown",
   "metadata": {},
   "source": [
    "# 1-1 Python 3.6 프로그래밍\n",
    "class (객체지향)"
   ]
  },
  {
   "cell_type": "markdown",
   "metadata": {},
   "source": [
    "## 1 INTRODUCTION\n",
    "self : 인스턴스 객체를 나타내는 첫 인자"
   ]
  },
  {
   "cell_type": "code",
   "execution_count": null,
   "metadata": {
    "collapsed": true
   },
   "outputs": [],
   "source": [
    "# 인스턴스 객체를 통한 멤버변수나 함수이름을 찾는 규칙\n",
    "# 1 instance 객체영역\n",
    "# 2 classs 객체영역 (self 로 상속영역)\n",
    "# 3 전역변수"
   ]
  },
  {
   "cell_type": "code",
   "execution_count": null,
   "metadata": {
    "collapsed": true
   },
   "outputs": [],
   "source": [
    "# class 의 상속관계 검색의 원칙\n",
    "# 1 instance 객체영역\n",
    "# 2 class 객체간의 상속영역 확인\n",
    "# 3 전역확인"
   ]
  },
  {
   "cell_type": "markdown",
   "metadata": {},
   "source": [
    "### 01 Class \n",
    "객체와 객체이름공간"
   ]
  },
  {
   "cell_type": "code",
   "execution_count": 1,
   "metadata": {},
   "outputs": [
    {
     "name": "stdout",
     "output_type": "stream",
     "text": [
      "My name is Default name\n"
     ]
    }
   ],
   "source": [
    "class Person:\n",
    "    Name = \"Default name\" # 맴버변수\n",
    "    def address(self):    # 맴버 메서드 (클래스 내부)\n",
    "        print('My name is {}'.format(self.Name))\n",
    "\n",
    "p1 = Person()  # p1 인스턴스 객체 (class 를 복제한 객체)\n",
    "p1.address()   # 맴버 변수값을 출력"
   ]
  },
  {
   "cell_type": "code",
   "execution_count": 2,
   "metadata": {},
   "outputs": [
    {
     "data": {
      "text/plain": [
       "'korea'"
      ]
     },
     "execution_count": 2,
     "metadata": {},
     "output_type": "execute_result"
    }
   ],
   "source": [
    "p2 = Person()\n",
    "p2.name = \"korea\"\n",
    "p2.name"
   ]
  },
  {
   "cell_type": "code",
   "execution_count": 4,
   "metadata": {},
   "outputs": [
    {
     "name": "stdout",
     "output_type": "stream",
     "text": [
      "My name is Default name\n"
     ]
    }
   ],
   "source": [
    "# p2.name 객체가 변했어도, 직접 반영되진 않음에 주의!!!\n",
    "p2.address()"
   ]
  },
  {
   "cell_type": "markdown",
   "metadata": {},
   "source": [
    "## 2 새로운 '맴버변수' 생성 \n",
    "class 와 Instance 의 이름공간이 분리되어서 '맴버변수'의 추가/ 삭제가 가능"
   ]
  },
  {
   "cell_type": "markdown",
   "metadata": {},
   "source": [
    "### 01 Class 에 '맴버변수' 추가\n",
    "Class 에 새로운 객체를 추가해서, p1, p2 Instance에서도 영향을 준다"
   ]
  },
  {
   "cell_type": "code",
   "execution_count": 11,
   "metadata": {},
   "outputs": [
    {
     "name": "stdout",
     "output_type": "stream",
     "text": [
      " p1.title : New Python \n",
      " p2.title : New Python\n"
     ]
    }
   ],
   "source": [
    "# 이미 선언되지 않은 새로운 '맴버변수' 생성\n",
    "# 상위 Class 내부에 포함되어 p1, p2 에 모두 영향을 준다\n",
    "Person.title = \"New Python\"\n",
    "print( \" p1.title :\",   p1.title,\n",
    "      '\\n p2.title :' , p2.title)"
   ]
  },
  {
   "cell_type": "markdown",
   "metadata": {},
   "source": [
    "### 02 Instance 에 '맴버변수'를 추가\n",
    "p1 인스턴스만 추가"
   ]
  },
  {
   "cell_type": "code",
   "execution_count": null,
   "metadata": {
    "collapsed": true
   },
   "outputs": [],
   "source": [
    "p1.age = 20\n",
    "p1.age"
   ]
  },
  {
   "cell_type": "code",
   "execution_count": 15,
   "metadata": {},
   "outputs": [
    {
     "ename": "AttributeError",
     "evalue": "'Person' object has no attribute 'age'",
     "output_type": "error",
     "traceback": [
      "\u001b[0;31m---------------------------------------------------------------------------\u001b[0m",
      "\u001b[0;31mAttributeError\u001b[0m                            Traceback (most recent call last)",
      "\u001b[0;32m<ipython-input-15-45b78b4c36fe>\u001b[0m in \u001b[0;36m<module>\u001b[0;34m()\u001b[0m\n\u001b[0;32m----> 1\u001b[0;31m \u001b[0mp2\u001b[0m\u001b[0;34m.\u001b[0m\u001b[0mage\u001b[0m\u001b[0;34m\u001b[0m\u001b[0m\n\u001b[0m",
      "\u001b[0;31mAttributeError\u001b[0m: 'Person' object has no attribute 'age'"
     ]
    }
   ],
   "source": [
    "p2.age"
   ]
  },
  {
   "cell_type": "code",
   "execution_count": null,
   "metadata": {
    "collapsed": true
   },
   "outputs": [],
   "source": [
    "# class 내부에 반복연산을 필요로 하는경우\n",
    "# '연산전용 함수'를 만든다.\n",
    "# 용도에 따라 '연산함수'를 다양하게 적용해서 활용한다. (그래야 내부 객체를 관리하기에 용이하다)\n",
    "# 클래스 내부 self.매개변수 와 매개변수 의 차이는, \n",
    "#        후자는 '전역변수'에서 찾아서 처리를 한다 (전역에서 같은 이름이 있으면 어찌저찌 처리가 된다)"
   ]
  },
  {
   "cell_type": "code",
   "execution_count": 16,
   "metadata": {},
   "outputs": [
    {
     "data": {
      "text/plain": [
       "'Change the Class Data'"
      ]
     },
     "execution_count": 16,
     "metadata": {},
     "output_type": "execute_result"
    }
   ],
   "source": [
    "# __class__ 속성을 활용해, 클래스 이름공간의 데이터를 변경한다\n",
    "i2 = Person()\n",
    "i2.__class__.data = 'Change the Class Data'\n",
    "i2.data"
   ]
  },
  {
   "cell_type": "code",
   "execution_count": 17,
   "metadata": {},
   "outputs": [
    {
     "data": {
      "text/plain": [
       "'Change the Class Data'"
      ]
     },
     "execution_count": 17,
     "metadata": {},
     "output_type": "execute_result"
    }
   ],
   "source": [
    "p1.data"
   ]
  },
  {
   "cell_type": "markdown",
   "metadata": {},
   "source": [
    "### 03 isinstance ( Instance객체 , Class 객체 ) 내장함수 활용\n",
    "객체의 상속여부를 확인하는 함수"
   ]
  },
  {
   "cell_type": "code",
   "execution_count": 18,
   "metadata": {},
   "outputs": [
    {
     "data": {
      "text/plain": [
       "True"
      ]
     },
     "execution_count": 18,
     "metadata": {},
     "output_type": "execute_result"
    }
   ],
   "source": [
    "class Person :\n",
    "    pass\n",
    "class Bird:\n",
    "    pass\n",
    "class Student(Person):\n",
    "    pass\n",
    "\n",
    "p, s = Person(), Student()\n",
    "isinstance(p, Person)"
   ]
  },
  {
   "cell_type": "code",
   "execution_count": 19,
   "metadata": {},
   "outputs": [
    {
     "data": {
      "text/plain": [
       "False"
      ]
     },
     "execution_count": 19,
     "metadata": {},
     "output_type": "execute_result"
    }
   ],
   "source": [
    "isinstance(p, Bird)"
   ]
  },
  {
   "cell_type": "markdown",
   "metadata": {},
   "source": [
    "### 04  class() 객체 생성자:\n",
    "\\__init__를 포함하는 변수, 함수명은 특별한 용도가 미리 정의되어 있다"
   ]
  },
  {
   "cell_type": "code",
   "execution_count": 20,
   "metadata": {
    "collapsed": true
   },
   "outputs": [],
   "source": [
    "class MyClass:\n",
    "    def __init__(self, value):\n",
    "        self.value = value\n",
    "        print(\"Class is created! Value = \", value)\n",
    "        \n",
    "    def __del__(self):\n",
    "        print('class is deleted!')\n",
    "\n",
    "def foo():\n",
    "    # 함수 foo() 내부에만 instance d 가 존재\n",
    "    d = MyClass(10)"
   ]
  },
  {
   "cell_type": "code",
   "execution_count": 22,
   "metadata": {},
   "outputs": [
    {
     "name": "stdout",
     "output_type": "stream",
     "text": [
      "Class is created! Value =  10\n",
      "class is deleted!\n"
     ]
    }
   ],
   "source": [
    "# __init__ 함수가 클래스 작동과 함께 실행\n",
    "# __del__ 함수도 클래스 종료와 함께 실행\n",
    "foo()"
   ]
  },
  {
   "cell_type": "code",
   "execution_count": null,
   "metadata": {
    "collapsed": true
   },
   "outputs": [],
   "source": [
    "# __del__의 경우 'reference Count' 가 1 이상 존재하면 자동으로 소멸자가 호출되지 않는다.\n",
    "# Myclas'value' instance 에 10을 삽입\n",
    "c = MyClass(10)  # reference Count 1 추가"
   ]
  },
  {
   "cell_type": "code",
   "execution_count": 23,
   "metadata": {},
   "outputs": [
    {
     "name": "stdout",
     "output_type": "stream",
     "text": [
      "Class is created! Value =  10\n"
     ]
    },
    {
     "data": {
      "text/plain": [
       "10"
      ]
     },
     "execution_count": 23,
     "metadata": {},
     "output_type": "execute_result"
    }
   ],
   "source": [
    "c.value"
   ]
  },
  {
   "cell_type": "code",
   "execution_count": 24,
   "metadata": {
    "collapsed": true
   },
   "outputs": [],
   "source": [
    "c_copy = c       # reference Count 2 추가"
   ]
  },
  {
   "cell_type": "code",
   "execution_count": 25,
   "metadata": {
    "collapsed": true
   },
   "outputs": [],
   "source": [
    "del c            # reference Count 1 감소"
   ]
  },
  {
   "cell_type": "code",
   "execution_count": 26,
   "metadata": {},
   "outputs": [
    {
     "name": "stdout",
     "output_type": "stream",
     "text": [
      "class is deleted!\n"
     ]
    }
   ],
   "source": [
    "del c_copy       # reference Count 0 감소 ( __del__ : 참조객체가 모두 소멸할시 실행)"
   ]
  },
  {
   "cell_type": "markdown",
   "metadata": {},
   "source": [
    "## 3 정적 메서드(static method)  , 클래스 메서드(class method)\n",
    "정적메서드 : Class를 통해서 직접호출 (self를 사용하지 않는다)\n",
    "\n",
    "클래스 메서드 : 암묵적 첫 인자로 class 객체가 전달"
   ]
  },
  {
   "cell_type": "markdown",
   "metadata": {},
   "source": [
    "### 01 정적 메서드\n",
    "Class를 통해서 직접호출 (self를 사용하지 않는다)"
   ]
  },
  {
   "cell_type": "code",
   "execution_count": 27,
   "metadata": {
    "collapsed": true
   },
   "outputs": [],
   "source": [
    "class CounterManager:\n",
    "    insCount = 0\n",
    "    \n",
    "    # instance 가 생성될 때 실행\n",
    "    def __init__(self): \n",
    "        CounterManager.insCount += 1\n",
    "        \n",
    "    # instance 객체의 갯수를 출력\n",
    "    def printInstanceCount():\n",
    "        print(\"Instance Count:  \", CounterManager.insCount)"
   ]
  },
  {
   "cell_type": "code",
   "execution_count": 28,
   "metadata": {},
   "outputs": [
    {
     "name": "stdout",
     "output_type": "stream",
     "text": [
      "Instance Count:   3\n"
     ]
    }
   ],
   "source": [
    "a, b ,c = CounterManager(), CounterManager(), CounterManager()\n",
    "CounterManager.printInstanceCount()"
   ]
  },
  {
   "cell_type": "code",
   "execution_count": 29,
   "metadata": {},
   "outputs": [
    {
     "ename": "TypeError",
     "evalue": "printInstanceCount() takes 0 positional arguments but 1 was given",
     "output_type": "error",
     "traceback": [
      "\u001b[0;31m---------------------------------------------------------------------------\u001b[0m",
      "\u001b[0;31mTypeError\u001b[0m                                 Traceback (most recent call last)",
      "\u001b[0;32m<ipython-input-29-bd3acb17d8ce>\u001b[0m in \u001b[0;36m<module>\u001b[0;34m()\u001b[0m\n\u001b[1;32m      1\u001b[0m \u001b[0;31m# self 가 없어서, instance 를 통해서는 호출되지 않는다.\u001b[0m\u001b[0;34m\u001b[0m\u001b[0;34m\u001b[0m\u001b[0m\n\u001b[0;32m----> 2\u001b[0;31m \u001b[0mb\u001b[0m\u001b[0;34m.\u001b[0m\u001b[0mprintInstanceCount\u001b[0m\u001b[0;34m(\u001b[0m\u001b[0;34m)\u001b[0m\u001b[0;34m\u001b[0m\u001b[0m\n\u001b[0m",
      "\u001b[0;31mTypeError\u001b[0m: printInstanceCount() takes 0 positional arguments but 1 was given"
     ]
    }
   ],
   "source": [
    "# self 가 없어서, instance 를 통해서는 호출되지 않는다.\n",
    "b.printInstanceCount()"
   ]
  },
  {
   "cell_type": "markdown",
   "metadata": {},
   "source": [
    "### 02 동적 메서드\n",
    "Class를 통해서 직접호출 (self를 사용하지 않는다)"
   ]
  },
  {
   "cell_type": "code",
   "execution_count": 30,
   "metadata": {
    "collapsed": true
   },
   "outputs": [],
   "source": [
    "class CounterManager:\n",
    "    insCount = 0\n",
    "    def __init__(self):\n",
    "        CounterManager.insCount += 1\n",
    "        \n",
    "    def staticPrintCount():\n",
    "        print(\"Instance Count :  \", CounterManager.insCount)\n",
    "    \n",
    "    # staticmethod() 정적 메서트로 등록\n",
    "    SPrintCount = staticmethod(staticPrintCount)\n",
    "    \n",
    "    def classPrintCount(cls):\n",
    "        print(\"Instance Count :  \", cls.insCount)\n",
    "    \n",
    "    # classmethod() 클래스 메서드로 등록\n",
    "    CPrintCount = classmethod(classPrintCount)\n",
    "\n",
    "a ,b, c = CounterManager(),CounterManager(),CounterManager()"
   ]
  },
  {
   "cell_type": "code",
   "execution_count": 31,
   "metadata": {},
   "outputs": [
    {
     "name": "stdout",
     "output_type": "stream",
     "text": [
      "Instance Count :   3\n",
      "Instance Count :   3\n"
     ]
    }
   ],
   "source": [
    "# 정적 메서드로 인스턴스 객체 갯수를 출력\n",
    "# 암묵적 받는 첫 인자 (self) 를 불필요\n",
    "# 정적 메서드로 등록\n",
    "CounterManager.SPrintCount()\n",
    "b.SPrintCount()"
   ]
  },
  {
   "cell_type": "code",
   "execution_count": 32,
   "metadata": {},
   "outputs": [
    {
     "name": "stdout",
     "output_type": "stream",
     "text": [
      "Instance Count :   3\n",
      "Instance Count :   3\n"
     ]
    }
   ],
   "source": [
    "# 클래스 메서드로 인스턴스 객체 개수를 출력\n",
    "# 암묵적 받는 첫 인자 '클래스객체'를 사용\n",
    "# 정적메서드, 클래스메서드, 인스턴스객체 모두에서 호출가능\n",
    "CounterManager.CPrintCount()\n",
    "b.CPrintCount()"
   ]
  },
  {
   "cell_type": "markdown",
   "metadata": {},
   "source": [
    "## 4 연산자 중복 정의\n",
    "\\__sub__"
   ]
  },
  {
   "cell_type": "code",
   "execution_count": 33,
   "metadata": {
    "collapsed": true
   },
   "outputs": [],
   "source": [
    "class GString:\n",
    "    def __init__(self, init=None):\n",
    "        self.content= init\n",
    "        \n",
    "    # __sub__ 연산자 중복을 처리\n",
    "    def __sub__(self, str):\n",
    "        for i in str:\n",
    "            self.content = self.content.replace(i , '')\n",
    "        return GString(self.content)\n",
    "    \n",
    "    def Remove(self, str):\n",
    "        return self.__sub__(str)"
   ]
  },
  {
   "cell_type": "code",
   "execution_count": 34,
   "metadata": {},
   "outputs": [
    {
     "ename": "TypeError",
     "evalue": "unsupported operand type(s) for +: 'GString' and 'str'",
     "output_type": "error",
     "traceback": [
      "\u001b[0;31m---------------------------------------------------------------------------\u001b[0m",
      "\u001b[0;31mTypeError\u001b[0m                                 Traceback (most recent call last)",
      "\u001b[0;32m<ipython-input-34-29e8def576a1>\u001b[0m in \u001b[0;36m<module>\u001b[0;34m()\u001b[0m\n\u001b[1;32m      1\u001b[0m \u001b[0mg\u001b[0m \u001b[0;34m=\u001b[0m \u001b[0mGString\u001b[0m\u001b[0;34m(\u001b[0m\u001b[0;34m\"ABCdefghik.\"\u001b[0m\u001b[0;34m)\u001b[0m\u001b[0;34m\u001b[0m\u001b[0m\n\u001b[0;32m----> 2\u001b[0;31m \u001b[0mg\u001b[0m \u001b[0;34m+\u001b[0m \u001b[0;34m'apple'\u001b[0m\u001b[0;34m\u001b[0m\u001b[0m\n\u001b[0m",
      "\u001b[0;31mTypeError\u001b[0m: unsupported operand type(s) for +: 'GString' and 'str'"
     ]
    }
   ],
   "source": [
    "g = GString(\"ABCdefghik.\")\n",
    "g + 'apple'"
   ]
  },
  {
   "cell_type": "markdown",
   "metadata": {},
   "source": [
    "## 5 상속 \n",
    "부모 class 의 '데이터', '메서드'를 자식 클래스로 물려준다"
   ]
  },
  {
   "cell_type": "markdown",
   "metadata": {},
   "source": [
    "### 01 상속\n",
    "class( 부모 class 명):"
   ]
  },
  {
   "cell_type": "code",
   "execution_count": 35,
   "metadata": {
    "collapsed": true
   },
   "outputs": [],
   "source": [
    "class Person:\n",
    "    # 부모 클래스의 속성을 정의\n",
    "    def __init__(self, name, phoneNumber):\n",
    "        self.Name = name\n",
    "        self.PhoneNumber = phoneNumber\n",
    "        \n",
    "    def PrintInfo(self):\n",
    "        print(\"Info( Name : {}, Phone : {})\".format(self.Name, self.PhoneNumber))\n",
    "        \n",
    "    def PrintPersonData(self):\n",
    "        print(\"Person( Name : {} , Phone {})\".format(self.Name, self.PhoneNumber))"
   ]
  },
  {
   "cell_type": "code",
   "execution_count": 36,
   "metadata": {},
   "outputs": [
    {
     "name": "stdout",
     "output_type": "stream",
     "text": [
      "Person( Name : Hans Zimmer , Phone 010-111-2222)\n"
     ]
    }
   ],
   "source": [
    "# class 클래스(부모클래스)\n",
    "# 부모클래스를 지정만 해도 해당 객체들이 자동으로 연결된다 \n",
    "# Python 의 강력한 근거\n",
    "class Student(Person):\n",
    "    # 자식클래스를 생성\n",
    "    def __init__(self, name, phoneNumber, subject, studentID):\n",
    "        self.Name = name\n",
    "        self.PhoneNumber = phoneNumber\n",
    "        self.Subject = subject\n",
    "        self.StudentID = studentID\n",
    "\n",
    "p = Person(\"Hans Zimmer\", '010-111-2222')\n",
    "p.PrintPersonData()"
   ]
  },
  {
   "cell_type": "code",
   "execution_count": 37,
   "metadata": {},
   "outputs": [
    {
     "data": {
      "text/plain": [
       "{'Name': 'Hans Zimmer', 'PhoneNumber': '010-111-2222'}"
      ]
     },
     "execution_count": 37,
     "metadata": {},
     "output_type": "execute_result"
    }
   ],
   "source": [
    "# Person 클래스의 instance 객체를 {dict}으로 출력\n",
    "p.__dict__"
   ]
  },
  {
   "cell_type": "code",
   "execution_count": 38,
   "metadata": {},
   "outputs": [
    {
     "name": "stdout",
     "output_type": "stream",
     "text": [
      "Person( Name : Marry Jane , Phone 010-222-2222)\n"
     ]
    }
   ],
   "source": [
    "s = Student(\"Marry Jane\", \"010-222-2222\", \"Data Science\", \"005930\")\n",
    "s.PrintPersonData()"
   ]
  },
  {
   "cell_type": "code",
   "execution_count": 39,
   "metadata": {},
   "outputs": [
    {
     "data": {
      "text/plain": [
       "{'Name': 'Marry Jane',\n",
       " 'PhoneNumber': '010-222-2222',\n",
       " 'StudentID': '005930',\n",
       " 'Subject': 'Data Science'}"
      ]
     },
     "execution_count": 39,
     "metadata": {},
     "output_type": "execute_result"
    }
   ],
   "source": [
    "s.__dict__"
   ]
  },
  {
   "cell_type": "code",
   "execution_count": 40,
   "metadata": {},
   "outputs": [
    {
     "data": {
      "text/plain": [
       "True"
      ]
     },
     "execution_count": 40,
     "metadata": {},
     "output_type": "execute_result"
    }
   ],
   "source": [
    "# issubclass ( 자식클래스 , 부모클래스 ) \n",
    "# 클래스의 상속관계 확인\n",
    "issubclass(Student, Person)"
   ]
  },
  {
   "cell_type": "code",
   "execution_count": 41,
   "metadata": {},
   "outputs": [
    {
     "data": {
      "text/plain": [
       "False"
      ]
     },
     "execution_count": 41,
     "metadata": {},
     "output_type": "execute_result"
    }
   ],
   "source": [
    "# 상속관계가 없는경우\n",
    "class Dog:pass\n",
    "issubclass(Dog, Person)"
   ]
  },
  {
   "cell_type": "markdown",
   "metadata": {},
   "source": [
    "### 02 부모 클래스 생성자 호출\n",
    "부모 상속을 더 명확하게 정의"
   ]
  },
  {
   "cell_type": "code",
   "execution_count": 42,
   "metadata": {
    "collapsed": true
   },
   "outputs": [],
   "source": [
    "class Person: # 부모 클래스\n",
    "    def __init__(self, name, phoneNumber):\n",
    "        self.Name = name\n",
    "        self.PhoneNumber = phoneNumber\n",
    "        \n",
    "    def PrintInfo(self):\n",
    "        print(\"Info( Name : {}, Phone : {})\".format(self.Name, self.PhoneNumber))\n",
    "        \n",
    "    def PrintPersonData(self):\n",
    "        print(\"Person( Name : {} , Phone {})\".format(self.Name, self.PhoneNumber))"
   ]
  },
  {
   "cell_type": "code",
   "execution_count": 43,
   "metadata": {
    "collapsed": true
   },
   "outputs": [],
   "source": [
    "class Student(Person): # 자식 클래스\n",
    "    def __init__(self, name, phoneNumber, subject, studentID):\n",
    "        \n",
    "        # 부모 class 객체와 연결을 명시적으로 지정\n",
    "        Person.__init__(self, name, phoneNumber) # self : 인스턴스 객체를 나타내는 첫 인자        \n",
    "        self.Name = name\n",
    "        self.PhoneNumber = phoneNumber\n",
    "        self.Subject = subject\n",
    "        self.StudentID = studentID"
   ]
  },
  {
   "cell_type": "markdown",
   "metadata": {},
   "source": [
    "## 6 메서드 추가/ 재정의\n",
    "부모 class 의 '데이터', '메서드'를 자식 클래스로 물려준다"
   ]
  },
  {
   "cell_type": "code",
   "execution_count": 44,
   "metadata": {
    "collapsed": true
   },
   "outputs": [],
   "source": [
    "class Student(Person): # 자식 클래스\n",
    "    def __init__(self, name, phoneNumber, subject, studentID):\n",
    "        # 부모 class 객체와 연결을 명시적으로 지정\n",
    "        Person.__init__(self, name, phoneNumber) \n",
    "#         상속선언으로 불필요한 부분        \n",
    "#         self.Name = name\n",
    "#         self.PhoneNumber = phoneNumber  \n",
    "        self.Subject = subject\n",
    "        self.StudentID = studentID\n",
    "        \n",
    "    # 부모 class 메서드 객체를 활용한 새로운 메서드 추가\n",
    "    def PrintStudentData(self):\n",
    "        print(\"Student(Subject: {}, Student ID: {})\".format(self.Subject, self.StudentID))"
   ]
  },
  {
   "cell_type": "code",
   "execution_count": 45,
   "metadata": {},
   "outputs": [
    {
     "name": "stdout",
     "output_type": "stream",
     "text": [
      "Person( Name : X-man , Phone 000-000-0000)\n"
     ]
    }
   ],
   "source": [
    "s = Student(\"X-man\", \"000-000-0000\", \"20th FOX\", \"0000000\")\n",
    "s.PrintPersonData()"
   ]
  },
  {
   "cell_type": "code",
   "execution_count": 46,
   "metadata": {},
   "outputs": [
    {
     "name": "stdout",
     "output_type": "stream",
     "text": [
      "Student(Subject: 20th FOX, Student ID: 0000000)\n"
     ]
    }
   ],
   "source": [
    "s.PrintStudentData()"
   ]
  },
  {
   "cell_type": "markdown",
   "metadata": {},
   "source": [
    "## 7 메서드를 재정의하기\n",
    "부모 class 의 '데이터', '메서드'를 자식 클래스로 물려준다"
   ]
  },
  {
   "cell_type": "code",
   "execution_count": 47,
   "metadata": {},
   "outputs": [
    {
     "name": "stdout",
     "output_type": "stream",
     "text": [
      "Info(Name: Rogun, Phone : xxx-xxxx-xxxx)\n",
      "Info(Subject : Wolverin, Student Id : XXX00XX)\n"
     ]
    }
   ],
   "source": [
    "class Student(Person): # 자식 클래스\n",
    "    def __init__(self, name, phoneNumber, subject, studentID):\n",
    "        \n",
    "        Person.__init__(self, name, phoneNumber) \n",
    "        self.Subject = subject      # 부모에 없는 매개변수만 선언\n",
    "        self.StudentID = studentID\n",
    "        \n",
    "    # 부모 class 메서드 객체를 활용한 새로운 메서드 추가\n",
    "    def PrintStudentData(self):\n",
    "        print(\"Student(Subject: {}, Student ID: {})\".format(self.Subject, self.StudentID))\n",
    "        \n",
    "    def PrintInfo(self):  # 부모 class 의 메서드함수 를 재정의 (Method Overwriting)\n",
    "        print(\"Info(Name: {}, Phone : {})\".format(self.Name, self.PhoneNumber))\n",
    "        print(\"Info(Subject : {}, Student Id : {})\".format(self.Subject, self.StudentID))\n",
    "\n",
    "s = Student(\"Rogun\", \"xxx-xxxx-xxxx\", \"Wolverin\", \"XXX00XX\")\n",
    "s.PrintInfo()"
   ]
  },
  {
   "cell_type": "code",
   "execution_count": 50,
   "metadata": {},
   "outputs": [
    {
     "name": "stdout",
     "output_type": "stream",
     "text": [
      "Info( Name : Mia, Phone : 010-321-4321)\n",
      "Info(Name: La La Land, Phone : 000-0000-0000)\n",
      "Info(Subject : Movie, Student Id : 999999)\n"
     ]
    }
   ],
   "source": [
    "p = Person(\"Mia\", \"010-321-4321\")\n",
    "s = Student(\"La La Land\", \"000-0000-0000\", \"Movie\",\"999999\")\n",
    "PersonList = [p, s]\n",
    "\n",
    "# 클래스의 인스턴스 매개함수를 [list] 로 순차적 연산\n",
    "for item in PersonList:\n",
    "    item.PrintInfo()  "
   ]
  },
  {
   "cell_type": "markdown",
   "metadata": {},
   "source": [
    "## 8 메서드 확장하기\n",
    "상복 메서드에 추가 기능을 부여"
   ]
  },
  {
   "cell_type": "code",
   "execution_count": 51,
   "metadata": {
    "collapsed": true
   },
   "outputs": [],
   "source": [
    "class Student(Person): # 자식 클래스\n",
    "    def __init__(self, name, phoneNumber, subject, studentID):\n",
    "        \n",
    "        Person.__init__(self, name, phoneNumber) \n",
    "        self.Subject = subject      # 부모에 없는 매개변수만 선언\n",
    "        self.StudentID = studentID\n",
    "        \n",
    "    # 부모 class 메서드 객체를 활용한 새로운 메서드 추가\n",
    "    def PrintStudentData(self):\n",
    "        print(\"Student(Subject: {}, Student ID: {})\".format(self.Subject, self.StudentID))\n",
    "        \n",
    "    def PrintInfo(self):  # 부모 class 의 메서드함수 를 재정의 (Method Overwriting)        \n",
    "        # Person() 의 데이터를 출력\n",
    "        print(\"Info(Name: {}, Phone : {})\".format(self.Name, self.PhoneNumber))  \n",
    "        # Student() 의 데이터를 출력 \n",
    "        print(\"Info(Subject : {}, Student Id : {})\".format(self.Subject, self.StudentID))"
   ]
  },
  {
   "cell_type": "code",
   "execution_count": 52,
   "metadata": {
    "collapsed": true
   },
   "outputs": [],
   "source": [
    "class Student(Person): # 자식 클래스\n",
    "    def __init__(self, name, phoneNumber, subject, studentID):\n",
    "        \n",
    "        Person.__init__(self, name, phoneNumber) \n",
    "        self.Subject = subject      # 부모에 없는 매개변수만 선언\n",
    "        self.StudentID = studentID\n",
    "        \n",
    "    # 부모 class 메서드 객체를 활용한 새로운 메서드 추가\n",
    "    def PrintStudentData(self):\n",
    "        print(\"Student(Subject: {}, Student ID: {})\".format(self.Subject, self.StudentID))\n",
    "        \n",
    "    def PrintInfo(self):  \n",
    "        # 부모 클래스의  PrintPersonData() 메서드를 그대로 상속\n",
    "        Person.PrintPersonData(self)\n",
    "        # Student() 의 데이터를 출력 \n",
    "        print(\"Info(Subject : {}, Student Id : {})\".format(self.Subject, self.StudentID))"
   ]
  },
  {
   "cell_type": "markdown",
   "metadata": {},
   "source": [
    "## 9 클래스 상속과 이름공간\n",
    "상복 메서드에 추가 기능을 부여"
   ]
  },
  {
   "cell_type": "code",
   "execution_count": 53,
   "metadata": {
    "collapsed": true
   },
   "outputs": [],
   "source": [
    "# class 의 상속관계 검색의 원칙\n",
    "# 중복 데이터/ 메서드를 최소화 해서 메모리 사용효율을 높이기 위해\n",
    "# 1 instance 객체영역\n",
    "# 2 class 객체간의 상속영역 확인\n",
    "# 3 전역확인"
   ]
  },
  {
   "cell_type": "markdown",
   "metadata": {},
   "source": [
    "### 01 subclass(자식) 와 superclass(부모) 간단예제\n",
    "부모 상속을 더 명확하게 정의"
   ]
  },
  {
   "cell_type": "code",
   "execution_count": 54,
   "metadata": {
    "collapsed": true
   },
   "outputs": [],
   "source": [
    "class SuperClass:\n",
    "    x = 10\n",
    "    def printX(self):\n",
    "        print(self.x)\n",
    "        \n",
    "class SubClass(SuperClass):\n",
    "    y = 20\n",
    "    def printY(self):\n",
    "        print(self.y)"
   ]
  },
  {
   "cell_type": "code",
   "execution_count": 56,
   "metadata": {},
   "outputs": [
    {
     "data": {
      "text/plain": [
       "mappingproxy({'__doc__': None,\n",
       "              '__module__': '__main__',\n",
       "              'printY': <function __main__.SubClass.printY>,\n",
       "              'y': 20})"
      ]
     },
     "execution_count": 56,
     "metadata": {},
     "output_type": "execute_result"
    }
   ],
   "source": [
    "s = SubClass()\n",
    "s.a = 30\n",
    "SubClass.__dict__"
   ]
  },
  {
   "cell_type": "code",
   "execution_count": 57,
   "metadata": {},
   "outputs": [
    {
     "data": {
      "text/plain": [
       "mappingproxy({'__dict__': <attribute '__dict__' of 'SuperClass' objects>,\n",
       "              '__doc__': None,\n",
       "              '__module__': '__main__',\n",
       "              '__weakref__': <attribute '__weakref__' of 'SuperClass' objects>,\n",
       "              'printX': <function __main__.SuperClass.printX>,\n",
       "              'x': 10})"
      ]
     },
     "execution_count": 57,
     "metadata": {},
     "output_type": "execute_result"
    }
   ],
   "source": [
    "SuperClass.__dict__"
   ]
  },
  {
   "cell_type": "code",
   "execution_count": 58,
   "metadata": {},
   "outputs": [
    {
     "data": {
      "text/plain": [
       "{'a': 30}"
      ]
     },
     "execution_count": 58,
     "metadata": {},
     "output_type": "execute_result"
    }
   ],
   "source": [
    "# s 인스턴스에 a 객체값 부여해도, SuperClass() 에는 영향이 없다\n",
    "s.__dict__"
   ]
  },
  {
   "cell_type": "markdown",
   "metadata": {},
   "source": [
    "### 02 subclass(자식) 와 superclass(부모) 간단예제 2\n",
    "부모 상속을 더 명확하게 정의"
   ]
  },
  {
   "cell_type": "code",
   "execution_count": 59,
   "metadata": {
    "collapsed": true
   },
   "outputs": [],
   "source": [
    "class SubClass(SuperClass):\n",
    "    y = 20\n",
    "    def printX(self):\n",
    "        print(\"SubClass : \", self.x)\n",
    "    def printY(self):\n",
    "        print(self.y)"
   ]
  },
  {
   "cell_type": "code",
   "execution_count": 60,
   "metadata": {
    "collapsed": true
   },
   "outputs": [],
   "source": [
    "s = SubClass()\n",
    "s.a = 30"
   ]
  },
  {
   "cell_type": "code",
   "execution_count": 61,
   "metadata": {
    "collapsed": true
   },
   "outputs": [],
   "source": [
    "# SuperClass 의 '맴버변수'에 값을 할당한다\n",
    "s.x = 50"
   ]
  },
  {
   "cell_type": "code",
   "execution_count": 64,
   "metadata": {},
   "outputs": [
    {
     "data": {
      "text/plain": [
       "{'a': 30, 'x': 50}"
      ]
     },
     "execution_count": 64,
     "metadata": {},
     "output_type": "execute_result"
    }
   ],
   "source": [
    "# s 인스턴스 내부에서 SuperClass 의 x 가 바뀌었다!!!\n",
    "s.__dict__"
   ]
  },
  {
   "cell_type": "code",
   "execution_count": 62,
   "metadata": {
    "scrolled": true
   },
   "outputs": [
    {
     "data": {
      "text/plain": [
       "mappingproxy({'__dict__': <attribute '__dict__' of 'SuperClass' objects>,\n",
       "              '__doc__': None,\n",
       "              '__module__': '__main__',\n",
       "              '__weakref__': <attribute '__weakref__' of 'SuperClass' objects>,\n",
       "              'printX': <function __main__.SuperClass.printX>,\n",
       "              'x': 10})"
      ]
     },
     "execution_count": 62,
     "metadata": {},
     "output_type": "execute_result"
    }
   ],
   "source": [
    "# but!!) SuperClass 에는 직접 영향은 없다 !!!!\n",
    "SuperClass.__dict__"
   ]
  },
  {
   "cell_type": "code",
   "execution_count": 63,
   "metadata": {},
   "outputs": [
    {
     "data": {
      "text/plain": [
       "mappingproxy({'__doc__': None,\n",
       "              '__module__': '__main__',\n",
       "              'printX': <function __main__.SubClass.printX>,\n",
       "              'printY': <function __main__.SubClass.printY>,\n",
       "              'y': 20})"
      ]
     },
     "execution_count": 63,
     "metadata": {},
     "output_type": "execute_result"
    }
   ],
   "source": [
    "SubClass.__dict__"
   ]
  },
  {
   "cell_type": "markdown",
   "metadata": {},
   "source": [
    "### 03 다중상속\n",
    "2개 이상의 클래스에서 상속을 받는 경우"
   ]
  },
  {
   "cell_type": "code",
   "execution_count": 72,
   "metadata": {
    "collapsed": true
   },
   "outputs": [],
   "source": [
    "class Tiger:\n",
    "    def jump(self):\n",
    "        print(\"Jumping higer as Tiger\")\n",
    "        \n",
    "class Lion:\n",
    "    def bite(self):\n",
    "        print(\"Eating a food as Lion\")\n",
    "\n",
    "class Liger(Tiger, Lion):\n",
    "    def play(self):\n",
    "        print(\"Tiger and Lion live in the Zoo\")"
   ]
  },
  {
   "cell_type": "code",
   "execution_count": 77,
   "metadata": {},
   "outputs": [
    {
     "name": "stdout",
     "output_type": "stream",
     "text": [
      "Eating a food as Lion\n"
     ]
    }
   ],
   "source": [
    "# Tiger, Lion 의 모든 메서드함수를 활용가능\n",
    "# 다중상속시, 상속받을 '메서드의 나열 순서'도 영향을 준다\n",
    "# 메서드 원본은 위에, 상속받는 메서드는 아래에 기술한다!!!!\n",
    "l = Liger()\n",
    "\n",
    "l.bite()"
   ]
  },
  {
   "cell_type": "code",
   "execution_count": 75,
   "metadata": {},
   "outputs": [
    {
     "name": "stdout",
     "output_type": "stream",
     "text": [
      "Jumping higer as Tiger\n"
     ]
    }
   ],
   "source": [
    "l.jump()"
   ]
  },
  {
   "cell_type": "code",
   "execution_count": 76,
   "metadata": {},
   "outputs": [
    {
     "name": "stdout",
     "output_type": "stream",
     "text": [
      "Tiger and Lion live in the Zoo\n"
     ]
    }
   ],
   "source": [
    "l.play()"
   ]
  },
  {
   "cell_type": "markdown",
   "metadata": {},
   "source": [
    "### 04 다중상속시 메서드 순서와 영향\n",
    "2개 이상의 클래스에서 상속은 메서드 기술 순서에 영향을 받는다"
   ]
  },
  {
   "cell_type": "code",
   "execution_count": 78,
   "metadata": {
    "collapsed": true
   },
   "outputs": [],
   "source": [
    "class Tiger:\n",
    "    def Jump(self):\n",
    "        print(\"호랑이처럼 멀리 점프하기\")\n",
    "\n",
    "    def Cry(self):\n",
    "        print(\"호랑이: 어흥~\")\n",
    "\n",
    "class Lion:\n",
    "    def Bite(self):\n",
    "        print(\"사자처럼 한입에 꿀꺽하기\")\n",
    "\n",
    "    def Cry(self):\n",
    "        print(\"사자: 으르렁~\")\n",
    "\n",
    "# Tiger 우선, Lion 다음의 순서로 상속한다\n",
    "class Liger(Tiger, Lion):\n",
    "    def Play(self):\n",
    "        print(\"라이거만의 사육사와 재미있게 놀기\")"
   ]
  },
  {
   "cell_type": "code",
   "execution_count": 79,
   "metadata": {},
   "outputs": [
    {
     "name": "stdout",
     "output_type": "stream",
     "text": [
      "호랑이: 어흥~\n"
     ]
    }
   ],
   "source": [
    "# 인스턴스의 메서드가 동일한 경우\n",
    "# Liger(Tiger, Lion) : Tiger() 메서드를 우선 호출한다\n",
    "l = Liger()\n",
    "l.Cry() "
   ]
  },
  {
   "cell_type": "code",
   "execution_count": 80,
   "metadata": {},
   "outputs": [
    {
     "data": {
      "text/plain": [
       "(__main__.Liger, __main__.Tiger, __main__.Lion, object)"
      ]
     },
     "execution_count": 80,
     "metadata": {},
     "output_type": "execute_result"
    }
   ],
   "source": [
    "# __mro__ : 메서드를 찾는 순서를 기술\n",
    "Liger.__mro__"
   ]
  },
  {
   "cell_type": "markdown",
   "metadata": {},
   "source": [
    "### 05 상위 클래스에서 메서드 호출\n",
    "super()"
   ]
  },
  {
   "cell_type": "markdown",
   "metadata": {},
   "source": [
    "#### 1) 상위 클래스 상속시\n",
    "상위 클래스 상속을 반복하는 문제가 발생"
   ]
  },
  {
   "cell_type": "code",
   "execution_count": null,
   "metadata": {
    "collapsed": true
   },
   "outputs": [],
   "source": [
    "class Animal:\n",
    "    def __init__(self):\n",
    "        print(\"Animal __init__()\")"
   ]
  },
  {
   "cell_type": "code",
   "execution_count": null,
   "metadata": {
    "collapsed": true
   },
   "outputs": [],
   "source": [
    "class Tiger(Animal):\n",
    "    def __init__(self):\n",
    "        Animal.__init__(self)    # Animal() 생성자 메서드를 호출\n",
    "        print(\"Tiger __init__()\")"
   ]
  },
  {
   "cell_type": "code",
   "execution_count": null,
   "metadata": {
    "collapsed": true
   },
   "outputs": [],
   "source": [
    "class Lion(Animal):\n",
    "    def __init__(self):\n",
    "        Animal.__init__(self)    # Animal() 생성자 메서드를 호출\n",
    "        print(\"Lion __init__()\")"
   ]
  },
  {
   "cell_type": "code",
   "execution_count": 81,
   "metadata": {
    "collapsed": true
   },
   "outputs": [],
   "source": [
    "class Liger(Tiger, Lion):\n",
    "    def __init__(self):\n",
    "        Tiger.__init__(self)    # Tiger() 생성자 메서드를 호출\n",
    "        Lion.__init__(self)     # Lion() 생성자 메서드를 호출\n",
    "        print(\"Liger __init__()\")"
   ]
  },
  {
   "cell_type": "code",
   "execution_count": 82,
   "metadata": {},
   "outputs": [
    {
     "name": "stdout",
     "output_type": "stream",
     "text": [
      "Animal __init__()\n",
      "Tiger __init__()\n",
      "Animal __init__()\n",
      "Lion __init__()\n",
      "Liger __init__()\n"
     ]
    }
   ],
   "source": [
    "# Tiger() Lion() 호출시 \n",
    "# Animal() 은 2번 호출되는 문제가 발생한다\n",
    "# 1번 호출위해 super()를 활용\n",
    "l = Liger()"
   ]
  },
  {
   "cell_type": "markdown",
   "metadata": {},
   "source": [
    "#### 2) super() 를 활용\n",
    "상위 클래스 상속을 지정"
   ]
  },
  {
   "cell_type": "code",
   "execution_count": 83,
   "metadata": {
    "collapsed": true
   },
   "outputs": [],
   "source": [
    "class Animal:\n",
    "    def __init__(self):\n",
    "        print(\"Animal __init__()\")"
   ]
  },
  {
   "cell_type": "code",
   "execution_count": 84,
   "metadata": {
    "collapsed": true
   },
   "outputs": [],
   "source": [
    "class Tiger(Animal):\n",
    "    def __init__(self):\n",
    "        super().__init__()\n",
    "        print(\"Tiger __init__()\")"
   ]
  },
  {
   "cell_type": "code",
   "execution_count": 85,
   "metadata": {
    "collapsed": true
   },
   "outputs": [],
   "source": [
    "class Lion(Animal):\n",
    "    def __init__(self):\n",
    "        super().__init__()\n",
    "        print(\"Lion __init__()\")"
   ]
  },
  {
   "cell_type": "code",
   "execution_count": 86,
   "metadata": {
    "collapsed": true
   },
   "outputs": [],
   "source": [
    "class Liger(Tiger, Lion):\n",
    "    def __init__(self):\n",
    "        super().__init__()\n",
    "        print(\"Liger __init__()\")"
   ]
  },
  {
   "cell_type": "code",
   "execution_count": 87,
   "metadata": {},
   "outputs": [
    {
     "name": "stdout",
     "output_type": "stream",
     "text": [
      "Animal __init__()\n",
      "Lion __init__()\n",
      "Tiger __init__()\n",
      "Liger __init__()\n"
     ]
    }
   ],
   "source": [
    "# Tiger() Lion() 호출시 \n",
    "# Animal() 은 2번 호출되는 문제가 발생한다\n",
    "# 1번 호출위해 super()를 활용\n",
    "l = Liger()"
   ]
  },
  {
   "cell_type": "code",
   "execution_count": 90,
   "metadata": {},
   "outputs": [
    {
     "data": {
      "text/plain": [
       "(__main__.Liger, __main__.Tiger, __main__.Lion, __main__.Animal, object)"
      ]
     },
     "execution_count": 90,
     "metadata": {},
     "output_type": "execute_result"
    }
   ],
   "source": [
    "Liger.__mro__"
   ]
  },
  {
   "cell_type": "code",
   "execution_count": null,
   "metadata": {
    "collapsed": true
   },
   "outputs": [],
   "source": []
  },
  {
   "cell_type": "markdown",
   "metadata": {},
   "source": [
    "# 파이썬을 활용한 알고리즘 트레이딩"
   ]
  },
  {
   "cell_type": "markdown",
   "metadata": {},
   "source": [
    "## 1. 계산기 프로그램 "
   ]
  },
  {
   "cell_type": "markdown",
   "metadata": {},
   "source": [
    "### How to useing the 'self' indicator in Class Function\n",
    "\n",
    "- 개별적 전역, 지역변수를 지정하면 되긴하나\n",
    "- 그 함수의 갯수가 많아질 수록 일일히 정하기가 어렵다"
   ]
  },
  {
   "cell_type": "code",
   "execution_count": 1,
   "metadata": {
    "collapsed": true
   },
   "outputs": [],
   "source": [
    "result1, result2 = 0, 0\n",
    "class Calculator_old:\n",
    "    def adder1(num):\n",
    "        global result1\n",
    "        result1 += num\n",
    "        return result1\n",
    "    def adder2(num):\n",
    "        global result2\n",
    "        result2 += num\n",
    "        return result2"
   ]
  },
  {
   "cell_type": "code",
   "execution_count": 2,
   "metadata": {},
   "outputs": [
    {
     "name": "stdout",
     "output_type": "stream",
     "text": [
      "3\n",
      "4\n"
     ]
    },
    {
     "data": {
      "text/plain": [
       "13"
      ]
     },
     "execution_count": 2,
     "metadata": {},
     "output_type": "execute_result"
    }
   ],
   "source": [
    "print(Calculator_old.adder1(3)) ; print(Calculator_old.adder2(4)) ; Calculator_old.adder1(10)"
   ]
  },
  {
   "cell_type": "markdown",
   "metadata": {},
   "source": [
    "### Useing the 'self' in Class\n",
    "- 개별적 전역, 지역변수를 지정하면 되긴하나\n",
    "- 그 함수의 갯수가 많아질 수록 일일히 정하기가 어렵다"
   ]
  },
  {
   "cell_type": "code",
   "execution_count": 3,
   "metadata": {},
   "outputs": [
    {
     "name": "stdout",
     "output_type": "stream",
     "text": [
      "3\n",
      "7\n",
      "3\n"
     ]
    },
    {
     "data": {
      "text/plain": [
       "10"
      ]
     },
     "execution_count": 3,
     "metadata": {},
     "output_type": "execute_result"
    }
   ],
   "source": [
    "class Calculator:\n",
    "    # 개별 함수마다 별도의 결과값을 유지한다\n",
    "    def __init__(self):\n",
    "        self.result = 0\n",
    "    # 'self' 객체는 __init__를 거쳤음을 확인하는 인자다    \n",
    "    def adder(self, num):\n",
    "        self.result += num\n",
    "        return self.result\n",
    "\n",
    "cal1 = Calculator()  ; cal2 = Calculator()  # 인스턴스 생성\n",
    "print(cal1.adder(3)) ; print(cal1.adder(4))\n",
    "print(cal2.adder(3)) ; cal2.adder(7)"
   ]
  },
  {
   "cell_type": "markdown",
   "metadata": {},
   "source": [
    "## 2. Class 의 개념잡기\n",
    "- 인스턴스(instance) : 객체 중 '클래스'에 의해서 생성된 객체로 함수 등을 품고 있다.  ex)  a = Simple()"
   ]
  },
  {
   "cell_type": "markdown",
   "metadata": {},
   "source": [
    "### Simple Instance"
   ]
  },
  {
   "cell_type": "code",
   "execution_count": 4,
   "metadata": {},
   "outputs": [
    {
     "data": {
      "text/plain": [
       "<__main__.Simple at 0x7f1108869518>"
      ]
     },
     "execution_count": 4,
     "metadata": {},
     "output_type": "execute_result"
    }
   ],
   "source": [
    "class Simple:\n",
    "    pass\n",
    "a = Simple(); a # 인스턴스"
   ]
  },
  {
   "cell_type": "code",
   "execution_count": 5,
   "metadata": {},
   "outputs": [
    {
     "data": {
      "text/plain": [
       "'영구는 배꼽이 두개다'"
      ]
     },
     "execution_count": 5,
     "metadata": {},
     "output_type": "execute_result"
    }
   ],
   "source": [
    "class Service:\n",
    "    secreat = \"영구는 배꼽이 두개다\"\n",
    "pey = Service()  # 인스턴스 생성 : 클래스에 가입해 아이디를 받는다\n",
    "pey.secreat"
   ]
  },
  {
   "cell_type": "markdown",
   "metadata": {},
   "source": [
    "### Class Function\n",
    "- def __init__(self): 에서 self 객체 역활은 정적 메서드 생성으로 클래스 내부 확인절차를 거쳤는지를 확인 (정적 메서드)"
   ]
  },
  {
   "cell_type": "code",
   "execution_count": 6,
   "metadata": {},
   "outputs": [
    {
     "name": "stdout",
     "output_type": "stream",
     "text": [
      "1 + 1 = 2  \n"
     ]
    }
   ],
   "source": [
    "class Service:\n",
    "    secreat = \"영구는 배꼽이 두개다\"\n",
    "    def sum(self, a, b):\n",
    "        result = a + b\n",
    "        print(\"%s + %s = %s  \"  %(a,b,result))\n",
    "pey = Service()  # 인스턴스 생성 : 클래스 서비스에 가입해 아이디를 얻는다 \n",
    "pey.sum(1,1)"
   ]
  },
  {
   "cell_type": "code",
   "execution_count": 7,
   "metadata": {},
   "outputs": [
    {
     "name": "stdout",
     "output_type": "stream",
     "text": [
      "function 2\n"
     ]
    }
   ],
   "source": [
    "class Foo:\n",
    "    def func1():\n",
    "        print(\"function 1\")\n",
    "    def func2(self):    \n",
    "        print(\"function 2\")\n",
    "f = Foo()\n",
    "f.func2()"
   ]
  },
  {
   "cell_type": "code",
   "execution_count": 8,
   "metadata": {},
   "outputs": [
    {
     "name": "stdout",
     "output_type": "stream",
     "text": [
      "홍길동 님   1 + 1  = 2입니다.\n"
     ]
    }
   ],
   "source": [
    "class Service:\n",
    "    # self : 클래스 내부함수간 객체를 연결\n",
    "    def setname(self,name):\n",
    "        self.name = name\n",
    "    def sum(self,a,b):\n",
    "        result = a + b\n",
    "        print(\"%s 님   %s + %s  = %s입니다.\"  %(self.name, a, b, result))\n",
    "pey = Service()\n",
    "pey.setname(\"홍길동\")\n",
    "pey.sum(1,1)"
   ]
  },
  {
   "cell_type": "code",
   "execution_count": 9,
   "metadata": {},
   "outputs": [
    {
     "name": "stdout",
     "output_type": "stream",
     "text": [
      " 홍길동 님 1 + 1 = 2 입니다.\n"
     ]
    }
   ],
   "source": [
    "class Service():\n",
    "    secret = \"영구는 배꼽이 두개다\"\n",
    "    # 인스턴스를 만들떄 마다 항상 실행한다\n",
    "    def __init__(self,name):\n",
    "        self.name = name\n",
    "    def sum(self,a,b):\n",
    "        result = a + b\n",
    "        print(\" %s 님 %s + %s = %s 입니다.\"  %(self.name,  a, b, result))\n",
    "\n",
    "# __init__ 함수에 해당 내용이 저장\n",
    "# 별도 인스턴스의 함수로 기본값을 별도로 만들필요 없이 __init__를 통해서 함수가 실행\n",
    "pey = Service(\"홍길동\")\n",
    "pey.sum(1,1)"
   ]
  },
  {
   "cell_type": "markdown",
   "metadata": {},
   "source": [
    "## 3. Class 자세히 알기\n",
    "- 사칙연산 개별 함수를 만들어 작동하는 클래스 생성하기"
   ]
  },
  {
   "cell_type": "code",
   "execution_count": 10,
   "metadata": {},
   "outputs": [
    {
     "name": "stdout",
     "output_type": "stream",
     "text": [
      "<class '__main__.FourCal'>\n"
     ]
    }
   ],
   "source": [
    "class FourCal:\n",
    "    pass\n",
    "a = FourCal()\n",
    "# FourCal 클래스의  __main__ 인스턴스임을 출력\n",
    "print(type(a))"
   ]
  },
  {
   "cell_type": "code",
   "execution_count": 11,
   "metadata": {
    "collapsed": true
   },
   "outputs": [],
   "source": [
    "class FourCal:\n",
    "    # 클래스 메서드 정의 ( 메서드 입력변수 )\n",
    "    def setdata(self, first, second):\n",
    "        # 클래스의 메서드 실행문\n",
    "        self.first = first\n",
    "        self.second = second\n",
    "    def sum(a,b):\n",
    "        return a + b"
   ]
  },
  {
   "cell_type": "code",
   "execution_count": 12,
   "metadata": {
    "scrolled": false
   },
   "outputs": [
    {
     "name": "stdout",
     "output_type": "stream",
     "text": [
      "4 2\n"
     ]
    }
   ],
   "source": [
    "# 클래스와 함수를 병행해서 작동하는 방법은 지금은 잘 쓰지 않는다 !!!\n",
    "# 만약 이와같이 입력을 한다면 3개받아야만 작동!!  (장점보다는 단점이 많은 방법이다.)\n",
    "FourCal.setdata(a,4,2)  \n",
    "print(a.first, a.second)"
   ]
  },
  {
   "cell_type": "code",
   "execution_count": 13,
   "metadata": {},
   "outputs": [
    {
     "data": {
      "text/plain": [
       "7"
      ]
     },
     "execution_count": 13,
     "metadata": {},
     "output_type": "execute_result"
    }
   ],
   "source": [
    "class FourCal:\n",
    "    # 클래스 메서드 정의 ( 메서드 입력변수 )\n",
    "    def setdata(self, first, second):\n",
    "        # 클래스의 메서드 실행문\n",
    "        self.first = first\n",
    "        self.second = second\n",
    "    def sum(self):\n",
    "        return self.first + self.second\n",
    "\n",
    "a = FourCal()\n",
    "a.setdata(4,3)  # 인스턴스 선언할떄 변수를 함께 입력한다.\n",
    "a.sum()         # 함수실행은 변수입력없이 함수만으로 내용을 출력한다."
   ]
  },
  {
   "cell_type": "code",
   "execution_count": 14,
   "metadata": {
    "collapsed": true
   },
   "outputs": [],
   "source": [
    "class FourCals:\n",
    "    def setdata(self, first, second):\n",
    "        self.first = first\n",
    "        self.second = second\n",
    "    def sum(self):\n",
    "        return self.first + self.second\n",
    "    def mul(self):\n",
    "        return self.first * self.second\n",
    "    def sub(self):\n",
    "        return self.first - self.second\n",
    "    def div(self):\n",
    "        return self.first / self.second\n",
    "\n",
    "a = FourCals()\n",
    "b = FourCals()\n",
    "a.setdata(3,4)\n",
    "b.setdata(7,6)"
   ]
  },
  {
   "cell_type": "code",
   "execution_count": 15,
   "metadata": {},
   "outputs": [
    {
     "data": {
      "text/plain": [
       "7"
      ]
     },
     "execution_count": 15,
     "metadata": {},
     "output_type": "execute_result"
    }
   ],
   "source": [
    "a.sum()"
   ]
  },
  {
   "cell_type": "code",
   "execution_count": 16,
   "metadata": {},
   "outputs": [
    {
     "data": {
      "text/plain": [
       "13"
      ]
     },
     "execution_count": 16,
     "metadata": {},
     "output_type": "execute_result"
    }
   ],
   "source": [
    "b.sum()"
   ]
  },
  {
   "cell_type": "code",
   "execution_count": 17,
   "metadata": {},
   "outputs": [
    {
     "data": {
      "text/plain": [
       "0.75"
      ]
     },
     "execution_count": 17,
     "metadata": {},
     "output_type": "execute_result"
    }
   ],
   "source": [
    "a.div()"
   ]
  },
  {
   "cell_type": "markdown",
   "metadata": {},
   "source": [
    "## 4. 박씨네집 클래스 만들기"
   ]
  },
  {
   "cell_type": "markdown",
   "metadata": {},
   "source": [
    "#### 01. 클래스 내부 함수만들기"
   ]
  },
  {
   "cell_type": "code",
   "execution_count": 18,
   "metadata": {
    "collapsed": true
   },
   "outputs": [],
   "source": [
    "class HousePark:\n",
    "    lastname  = \"박\"\n",
    "    def setname(self, name):\n",
    "        self.fullname = self.lastname + name\n",
    "    def travel(self, where):\n",
    "        print(\" %s %s 여행을 가다.\"  %(self.fullname, where) )        "
   ]
  },
  {
   "cell_type": "code",
   "execution_count": 19,
   "metadata": {},
   "outputs": [
    {
     "name": "stdout",
     "output_type": "stream",
     "text": [
      " 박응용 부산 여행을 가다.\n"
     ]
    }
   ],
   "source": [
    "# 인스턴스 선언할떄 기본적인 변수들을 입력한다\n",
    "# 클래스 내부 함수별 개별적인 연산으로 결과를 출력한다.\n",
    "pey = HousePark()\n",
    "pey.setname(\"응용\")\n",
    "pey.travel(\"부산\")"
   ]
  },
  {
   "cell_type": "markdown",
   "metadata": {},
   "source": [
    "#### 02. 초기값 설정하기\n",
    "- __init__ 함수로 초기값 함수로 설정하기"
   ]
  },
  {
   "cell_type": "code",
   "execution_count": 20,
   "metadata": {},
   "outputs": [
    {
     "name": "stdout",
     "output_type": "stream",
     "text": [
      " 박응용 태국 여행을 가다.\n"
     ]
    }
   ],
   "source": [
    "class HousePark:\n",
    "    lastname  = \"박\"\n",
    "    def __init__(self, name):\n",
    "        self.fullname = self.lastname + name\n",
    "    def travel(self, where):\n",
    "        print(\" %s %s 여행을 가다.\"  %(self.fullname, where) )        \n",
    "# 인스턴스 선언시 __init__ 함수의 조건은 만족해야만 한다\n",
    "# __init__의 변수갯수는 맞춰줘야 한다.\n",
    "#pey = HousePark()\n",
    "pey = HousePark(\"응용\")\n",
    "pey.travel(\"태국\")"
   ]
  },
  {
   "cell_type": "markdown",
   "metadata": {},
   "source": [
    "#### 03. 클래스 상속하기\n",
    "- 별개 클래스의 함수를 상속해서 연산한다."
   ]
  },
  {
   "cell_type": "code",
   "execution_count": 21,
   "metadata": {},
   "outputs": [
    {
     "name": "stdout",
     "output_type": "stream",
     "text": [
      " 김줄리엣 독도 여행을 가다.\n"
     ]
    }
   ],
   "source": [
    "class HouseKim(HousePark):\n",
    "    lastname = \"김\"\n",
    "juliet = HouseKim(\"줄리엣\")\n",
    "juliet.travel(\"독도\")"
   ]
  },
  {
   "cell_type": "markdown",
   "metadata": {},
   "source": [
    "#### 04. 메소드 오버라이딩"
   ]
  },
  {
   "cell_type": "code",
   "execution_count": 22,
   "metadata": {},
   "outputs": [
    {
     "name": "stdout",
     "output_type": "stream",
     "text": [
      " 김줄리엣, 독도 여행 3 일 간다..\n"
     ]
    }
   ],
   "source": [
    "class HouseKim(HousePark):\n",
    "    lastname = \"김\"\n",
    "    # 동일한 함수이나, 상속받은 뒤에서는 별도로 정의하면 후순의 함수가 우선한다\n",
    "    def travel(self, where, day):\n",
    "        print(\" %s, %s 여행 %s 일 간다..\"  %(self.fullname,where, day)) \n",
    "juliet = HouseKim(\"줄리엣\")\n",
    "juliet.travel(\"독도\",3)"
   ]
  },
  {
   "cell_type": "markdown",
   "metadata": {},
   "source": [
    "#### 05. 연산자 오버라이딩"
   ]
  },
  {
   "cell_type": "code",
   "execution_count": 23,
   "metadata": {
    "collapsed": true
   },
   "outputs": [],
   "source": [
    "class HousePark:\n",
    "    lastname = \"박\"\n",
    "    def __init__(self,name):\n",
    "        self.fullname = self.lastname + name \n",
    "    def travel(self, where):\n",
    "        print(\" %s, %s 여행을 가다.\"  %(self.fullname, where))\n",
    "    def love(self, other):\n",
    "        print(\" %s ,%s 사랑에 빠졌네 \" %(self.fullname, other.fullname))\n",
    "    def fight(self, other):\n",
    "        print(\" %s, %s 싸우네 \" %(self.fullname, other.fullname))\n",
    "    def __sub__(self,other):\n",
    "        print(\" %s ,%s 이혼했네\" %(self.fullname, other.fullname))\n",
    "    def __add__(self,other):     # 인스턴스 내부의 함수간의 + 로 묶일때 시행할 함수를 정의한다\n",
    "        print(\" %s ,%s 결혼했네\" %(self.fullname, other.fullname ))\n",
    "\n",
    "class HouseKim(HousePark):\n",
    "    lastname = \"김\"\n",
    "    def travel(self, where, day):\n",
    "        print(\" %s %s 여행 %d 일 가네\" %(self.fullname, where, day))"
   ]
  },
  {
   "cell_type": "code",
   "execution_count": 24,
   "metadata": {},
   "outputs": [
    {
     "name": "stdout",
     "output_type": "stream",
     "text": [
      " 박응용, 부산 여행을 가다.\n",
      " 김줄리엣 부산 여행 3 일 가네\n",
      " 박응용 ,김줄리엣 사랑에 빠졌네 \n",
      " 박응용 ,김줄리엣 결혼했네\n",
      " 박응용, 김줄리엣 싸우네 \n",
      " 박응용 ,김줄리엣 이혼했네\n"
     ]
    }
   ],
   "source": [
    "pey = HousePark(\"응용\")\n",
    "juliet = HouseKim(\"줄리엣\")\n",
    "pey.travel(\"부산\")\n",
    "juliet.travel(\"부산\",3)\n",
    "pey.love(juliet)\n",
    "pey + juliet  # def __add__(self): 의 정의내용이 실행\n",
    "pey.fight(juliet)\n",
    "pey - juliet  # def __sub__(self): 의 정의내용이 "
   ]
  },
  {
   "cell_type": "markdown",
   "metadata": {},
   "source": [
    "# Module"
   ]
  },
  {
   "cell_type": "markdown",
   "metadata": {},
   "source": [
    "## Import \n",
    "- 모듈이름.py 에서 확장자를 제외한 이름만 지칭\n",
    "- import 모듈이름 "
   ]
  },
  {
   "cell_type": "code",
   "execution_count": 25,
   "metadata": {},
   "outputs": [
    {
     "name": "stdout",
     "output_type": "stream",
     "text": [
      "def sum(a,b):\r\n",
      "\treturn a + b\r\n",
      "\r\n",
      "def safe_sum(a,b):\r\n",
      "    if type(a) != type(b):\r\n",
      "        print(\"더이상 할 수 있는게 없습니다.\")\r\n",
      "        return\r\n",
      "    else:\r\n",
      "        result = sum(a,b)\r\n",
      "    return result"
     ]
    }
   ],
   "source": [
    "!cat mod1.py"
   ]
  },
  {
   "cell_type": "code",
   "execution_count": 26,
   "metadata": {},
   "outputs": [
    {
     "name": "stdout",
     "output_type": "stream",
     "text": [
      "7\n",
      "7\n",
      "더이상 할 수 있는게 없습니다.\n"
     ]
    }
   ],
   "source": [
    "import mod1\n",
    "print(mod1.sum(3,4))\n",
    "print(mod1.safe_sum(3,4))\n",
    "mod1.safe_sum(3,\"한글\")"
   ]
  },
  {
   "cell_type": "markdown",
   "metadata": {},
   "source": [
    "## from Import "
   ]
  },
  {
   "cell_type": "code",
   "execution_count": 27,
   "metadata": {},
   "outputs": [
    {
     "name": "stdout",
     "output_type": "stream",
     "text": [
      "더이상 할 수 있는게 없습니다.\n"
     ]
    }
   ],
   "source": [
    "from mod1 import safe_sum\n",
    "safe_sum(3, \"한글\")"
   ]
  },
  {
   "cell_type": "markdown",
   "metadata": {},
   "source": [
    "## if '\\_\\_name\\_\\_' = '\\_\\_main\\_\\_'"
   ]
  },
  {
   "cell_type": "code",
   "execution_count": 28,
   "metadata": {},
   "outputs": [
    {
     "name": "stdout",
     "output_type": "stream",
     "text": [
      "def sum(a,b):\r\n",
      "\treturn a + b\r\n",
      "\r\n",
      "def safe_sum(a,b):\r\n",
      "    if type(a) != type(b):\r\n",
      "        print(\"더이상 할 수 있는게 없습니다.\")\r\n",
      "        return\r\n",
      "    else:\r\n",
      "        result = sum(a,b)\r\n",
      "    return result\r\n",
      "\r\n",
      "# 파일을 직접 시행한 경우에만 작동하는 함수\r\n",
      "if __name__ == \"__main__\":\r\n",
      "\tprint(safe_sum(\"a\",1))\r\n",
      "\tprint(safe_sum(1,3))\r\n",
      "\tprint(sum(10, 10.3))"
     ]
    }
   ],
   "source": [
    "!cat mod2.py"
   ]
  },
  {
   "cell_type": "code",
   "execution_count": 29,
   "metadata": {},
   "outputs": [
    {
     "name": "stdout",
     "output_type": "stream",
     "text": [
      "더이상 할 수 있는게 없습니다.\n",
      "None\n",
      "4\n",
      "20.3\n"
     ]
    }
   ],
   "source": [
    "%run mod2.py"
   ]
  },
  {
   "cell_type": "code",
   "execution_count": 30,
   "metadata": {
    "collapsed": true
   },
   "outputs": [],
   "source": [
    "import mod2"
   ]
  },
  {
   "cell_type": "markdown",
   "metadata": {},
   "source": [
    "## 클래스나 변수등을 포함하는 모듈"
   ]
  },
  {
   "cell_type": "code",
   "execution_count": 31,
   "metadata": {},
   "outputs": [
    {
     "name": "stdout",
     "output_type": "stream",
     "text": [
      "PI = 3.141592\r\n",
      "\r\n",
      "class Math:\r\n",
      "    # 인스턴스 생성시 기본값을 받아서 self 인자를 입력\r\n",
      "    def solv(self,r):\r\n",
      "        return PI * (r**2)\r\n",
      "\r\n",
      "# 단순 내부적 연산만 (클래스에 비포함)\r\n",
      "def sum(a,b):\r\n",
      "    return a + b\r\n",
      "\r\n",
      "# 파일을 직접 시행한 경우에만 작동하는 함수\r\n",
      "if __name__ == \"__main__\":\r\n",
      "    print(PI)\r\n",
      "    a = Math()\r\n",
      "    print(a.solv(2))\r\n",
      "    print(sum(PI, 4.4))"
     ]
    }
   ],
   "source": [
    "!cat mod3.py"
   ]
  },
  {
   "cell_type": "code",
   "execution_count": 32,
   "metadata": {},
   "outputs": [
    {
     "data": {
      "text/plain": [
       "3.141592"
      ]
     },
     "execution_count": 32,
     "metadata": {},
     "output_type": "execute_result"
    }
   ],
   "source": [
    "import mod3\n",
    "# 클래스 내부 객체\n",
    "mod3.PI"
   ]
  },
  {
   "cell_type": "code",
   "execution_count": 33,
   "metadata": {},
   "outputs": [
    {
     "data": {
      "text/plain": [
       "12.566368"
      ]
     },
     "execution_count": 33,
     "metadata": {},
     "output_type": "execute_result"
    }
   ],
   "source": [
    "a = mod3.Math()\n",
    "a.solv(2)"
   ]
  },
  {
   "cell_type": "code",
   "execution_count": 34,
   "metadata": {},
   "outputs": [
    {
     "data": {
      "text/plain": [
       "7.5415920000000005"
      ]
     },
     "execution_count": 34,
     "metadata": {},
     "output_type": "execute_result"
    }
   ],
   "source": [
    "mod3.sum(mod3.PI,4.4)"
   ]
  },
  {
   "cell_type": "markdown",
   "metadata": {},
   "source": [
    "# @classmath Decorator"
   ]
  },
  {
   "cell_type": "markdown",
   "metadata": {},
   "source": [
    "## 클래스와 데코레이터\n",
    "- 출처 : http://jonnung.github.io/python/2015/08/17/python-decorator/"
   ]
  },
  {
   "cell_type": "markdown",
   "metadata": {},
   "source": [
    "### 함수로 접근하기"
   ]
  },
  {
   "cell_type": "code",
   "execution_count": 35,
   "metadata": {
    "collapsed": true
   },
   "outputs": [],
   "source": [
    "def is_admin(user_name):\n",
    "    if user_name != 'admin':\n",
    "        raise Exception(\"권한이 없다니까요\")"
   ]
  },
  {
   "cell_type": "code",
   "execution_count": 36,
   "metadata": {},
   "outputs": [
    {
     "name": "stdout",
     "output_type": "stream",
     "text": [
      "None\n"
     ]
    }
   ],
   "source": [
    "class Greet(object):\n",
    "    current_user = None\n",
    "    def set_name(self, name):\n",
    "        is_admin(name)\n",
    "        self.current_user = name\n",
    "    def get_greeting(self, name):\n",
    "        is_admin(name)\n",
    "        return \"Hello {}\".format(self.current_user)\n",
    "\n",
    "greet = Greet()\n",
    "print(greet.set_name('admin'))"
   ]
  },
  {
   "cell_type": "code",
   "execution_count": 37,
   "metadata": {
    "collapsed": true
   },
   "outputs": [],
   "source": [
    "#Exception Error accured\n",
    "#greet.get_greeting('eunwoo')"
   ]
  },
  {
   "cell_type": "markdown",
   "metadata": {},
   "source": [
    "### 데코레이터로 접근하기 01"
   ]
  },
  {
   "cell_type": "code",
   "execution_count": 38,
   "metadata": {
    "collapsed": true
   },
   "outputs": [],
   "source": [
    "def is_admin(func):\n",
    "    def wrapper(*args, **kwargs): # 데코레이터 생성하기\n",
    "        if kwargs.get('username') != 'admin':\n",
    "            raise Exception(\"아 진짜 안된다니까 그러네..\")\n",
    "        return func(*args, **kwargs)\n",
    "    return wrapper"
   ]
  },
  {
   "cell_type": "code",
   "execution_count": 39,
   "metadata": {
    "collapsed": true
   },
   "outputs": [],
   "source": [
    "class Greet(object):\n",
    "    current_user = None\n",
    "    @is_admin\n",
    "    def set_name(self, username):\n",
    "        self.current_user = username\n",
    "    @is_admin\n",
    "    def get_greeting(self, username):\n",
    "        return \"Hello {}\".format(self.current_user)"
   ]
  },
  {
   "cell_type": "code",
   "execution_count": 40,
   "metadata": {},
   "outputs": [
    {
     "name": "stdout",
     "output_type": "stream",
     "text": [
      "None\n"
     ]
    },
    {
     "data": {
      "text/plain": [
       "'Hello admin'"
      ]
     },
     "execution_count": 40,
     "metadata": {},
     "output_type": "execute_result"
    }
   ],
   "source": [
    "greet = Greet() ; print(greet.set_name(username='admin'))\n",
    "greet.get_greeting(username='admin')"
   ]
  },
  {
   "cell_type": "markdown",
   "metadata": {},
   "source": [
    "### 데코레이터로 접근하기 02\n",
    "- 메소드 속성을 그대로 유지한채 데코레이터 실행"
   ]
  },
  {
   "cell_type": "code",
   "execution_count": 41,
   "metadata": {
    "collapsed": true
   },
   "outputs": [],
   "source": [
    "from functools import wraps\n",
    "def is_admin(func):\n",
    "    @wraps(func)\n",
    "    def wrapper(*args, **kwargs):\n",
    "        if kwargs.get('username') != 'admin':\n",
    "            raise Exception(\"아 진짜 안된다니까 그러네..\")\n",
    "        return func(*args, **kwargs)\n",
    "    return wrapper"
   ]
  },
  {
   "cell_type": "code",
   "execution_count": 42,
   "metadata": {},
   "outputs": [
    {
     "name": "stdout",
     "output_type": "stream",
     "text": [
      "get_greeting\n"
     ]
    }
   ],
   "source": [
    "class Greet(object):\n",
    "    current_user = None\n",
    "    @is_admin\n",
    "    def set_name(self, username):\n",
    "        self.current_user = username\n",
    "    @is_admin\n",
    "    def get_greeting(self, username):\n",
    "        return \"Hello {}\".format(self.current_user)\n",
    "\n",
    "greet = Greet() ; print(greet.get_greeting.__name__)\n",
    "greet.get_greeting.__doc__"
   ]
  },
  {
   "cell_type": "code",
   "execution_count": 24,
   "metadata": {
    "collapsed": true
   },
   "outputs": [],
   "source": [
    "codes = [1,2,3,4,5,5]"
   ]
  },
  {
   "cell_type": "code",
   "execution_count": 25,
   "metadata": {
    "collapsed": true
   },
   "outputs": [],
   "source": [
    "train = Daum()"
   ]
  },
  {
   "cell_type": "code",
   "execution_count": 26,
   "metadata": {},
   "outputs": [
    {
     "name": "stdout",
     "output_type": "stream",
     "text": [
      "I got a code that is... 1\n",
      "I got a code that is... 2\n",
      "I got a code that is... 3\n",
      "I got a code that is... 4\n",
      "I got a code that is... 5\n",
      "I got a code that is... 5\n"
     ]
    }
   ],
   "source": [
    "train.codes(codes)"
   ]
  }
 ],
 "metadata": {
  "kernelspec": {
   "display_name": "Python 3",
   "language": "python",
   "name": "python3"
  },
  "language_info": {
   "codemirror_mode": {
    "name": "ipython",
    "version": 3
   },
   "file_extension": ".py",
   "mimetype": "text/x-python",
   "name": "python",
   "nbconvert_exporter": "python",
   "pygments_lexer": "ipython3",
   "version": "3.6.3"
  }
 },
 "nbformat": 4,
 "nbformat_minor": 2
}
