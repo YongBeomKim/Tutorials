{
 "cells": [
  {
   "cell_type": "markdown",
   "metadata": {},
   "source": [
    "# 왜 파이썬을 써야 하는가?"
   ]
  },
  {
   "cell_type": "markdown",
   "metadata": {},
   "source": [
    "## 1. 강력한 다양한 도구들을, 간결한 코드로 빠르게 활용가능하다\n",
    "- https://dart.fss.or.kr/dsac001/mainY.do"
   ]
  },
  {
   "cell_type": "markdown",
   "metadata": {},
   "source": [
    "### Naver 금융 사이트 크롤링"
   ]
  },
  {
   "cell_type": "code",
   "execution_count": 2,
   "metadata": {},
   "outputs": [
    {
     "name": "stdout",
     "output_type": "stream",
     "text": [
      "4\n"
     ]
    }
   ],
   "source": [
    "code = '035420'\n",
    "import pandas as pd\n",
    "web = pd.read_html('http://finance.daum.net/item/main.daum?code='+code)\n",
    "print(len(web))"
   ]
  },
  {
   "cell_type": "code",
   "execution_count": 10,
   "metadata": {
    "collapsed": true
   },
   "outputs": [],
   "source": [
    "df = web[3]\n",
    "df.to_csv('./daum.csv',encoding='ms949')"
   ]
  },
  {
   "cell_type": "markdown",
   "metadata": {},
   "source": [
    "### 대용량 text 관리하기"
   ]
  },
  {
   "cell_type": "code",
   "execution_count": 2,
   "metadata": {
    "scrolled": true
   },
   "outputs": [
    {
     "name": "stdout",
     "output_type": "stream",
     "text": [
      "                재무제표종류      종목코드 회사명       시장구분   업종       업종명  결산월  \\\n",
      "0  현금흐름표, 간접법 - 별도재무제표  [060310]  3S  코스닥시장상장법인  262  전자부품 제조업    3   \n",
      "1  현금흐름표, 간접법 - 별도재무제표  [060310]  3S  코스닥시장상장법인  262  전자부품 제조업    3   \n",
      "\n",
      "        결산기준일  보고서종류   통화                                         항목코드  \\\n",
      "0  2016-03-31  사업보고서  KRW  ifrs_CashFlowsFromUsedInOperatingActivities   \n",
      "1  2016-03-31  사업보고서  KRW       dart_ProfitLossForStatementOfCashFlows   \n",
      "\n",
      "            항목명            당기  Unnamed: 13            전기           전전기  \\\n",
      "0      영업활동현금흐름  1.896017e+09          NaN  2.923614e+08  2.296141e+09   \n",
      "1     당기순이익(손실) -3.620523e+09          NaN -5.538219e+09 -4.784630e+09   \n",
      "\n",
      "   Unnamed: 16  \n",
      "0          NaN  \n",
      "1          NaN  \n"
     ]
    }
   ],
   "source": [
    "import pandas as pd\n",
    "cf = pd.read_csv(\"./data/2016_4Q_cahs_flow.txt\", sep='\\t', thousands=',', encoding='cp949')\n",
    "print(cf.head(2))"
   ]
  },
  {
   "cell_type": "code",
   "execution_count": 3,
   "metadata": {
    "collapsed": true
   },
   "outputs": [],
   "source": [
    "#drop the column\n",
    "# cash_flow.drop(cash_flow.columns[-1] , axis=1, inplace=True)\n",
    "# cash_flow.columns"
   ]
  },
  {
   "cell_type": "markdown",
   "metadata": {},
   "source": [
    "Select the column to make a simple table"
   ]
  },
  {
   "cell_type": "code",
   "execution_count": 4,
   "metadata": {},
   "outputs": [
    {
     "name": "stderr",
     "output_type": "stream",
     "text": [
      "/home/markbaum/Python/Jupyter/lib/python3.5/site-packages/ipykernel_launcher.py:2: SettingWithCopyWarning: \n",
      "A value is trying to be set on a copy of a slice from a DataFrame.\n",
      "Try using .loc[row_indexer,col_indexer] = value instead\n",
      "\n",
      "See the caveats in the documentation: http://pandas.pydata.org/pandas-docs/stable/indexing.html#indexing-view-versus-copy\n",
      "  \n"
     ]
    },
    {
     "data": {
      "text/html": [
       "<div>\n",
       "<style>\n",
       "    .dataframe thead tr:only-child th {\n",
       "        text-align: right;\n",
       "    }\n",
       "\n",
       "    .dataframe thead th {\n",
       "        text-align: left;\n",
       "    }\n",
       "\n",
       "    .dataframe tbody tr th {\n",
       "        vertical-align: top;\n",
       "    }\n",
       "</style>\n",
       "<table border=\"1\" class=\"dataframe\">\n",
       "  <thead>\n",
       "    <tr style=\"text-align: right;\">\n",
       "      <th></th>\n",
       "      <th>종목코드</th>\n",
       "      <th>회사명</th>\n",
       "      <th>결산기준일</th>\n",
       "      <th>항목명</th>\n",
       "      <th>당기</th>\n",
       "      <th>전기</th>\n",
       "      <th>Change</th>\n",
       "    </tr>\n",
       "  </thead>\n",
       "  <tbody>\n",
       "    <tr>\n",
       "      <th>0</th>\n",
       "      <td>[060310]</td>\n",
       "      <td>3S</td>\n",
       "      <td>2016-03-31</td>\n",
       "      <td>영업활동현금흐름</td>\n",
       "      <td>1.896017e+09</td>\n",
       "      <td>2.923614e+08</td>\n",
       "      <td>0.845802</td>\n",
       "    </tr>\n",
       "    <tr>\n",
       "      <th>1</th>\n",
       "      <td>[060310]</td>\n",
       "      <td>3S</td>\n",
       "      <td>2016-03-31</td>\n",
       "      <td>당기순이익(손실)</td>\n",
       "      <td>-3.620523e+09</td>\n",
       "      <td>-5.538219e+09</td>\n",
       "      <td>-0.529674</td>\n",
       "    </tr>\n",
       "    <tr>\n",
       "      <th>2</th>\n",
       "      <td>[060310]</td>\n",
       "      <td>3S</td>\n",
       "      <td>2016-03-31</td>\n",
       "      <td>당기순이익조정을 위한 가감</td>\n",
       "      <td>6.260199e+09</td>\n",
       "      <td>6.741938e+09</td>\n",
       "      <td>-0.076953</td>\n",
       "    </tr>\n",
       "    <tr>\n",
       "      <th>3</th>\n",
       "      <td>[060310]</td>\n",
       "      <td>3S</td>\n",
       "      <td>2016-03-31</td>\n",
       "      <td>감가상각비</td>\n",
       "      <td>2.705374e+09</td>\n",
       "      <td>2.510785e+09</td>\n",
       "      <td>0.071927</td>\n",
       "    </tr>\n",
       "    <tr>\n",
       "      <th>4</th>\n",
       "      <td>[060310]</td>\n",
       "      <td>3S</td>\n",
       "      <td>2016-03-31</td>\n",
       "      <td>대손상각비</td>\n",
       "      <td>2.016450e+07</td>\n",
       "      <td>1.057005e+08</td>\n",
       "      <td>-4.241908</td>\n",
       "    </tr>\n",
       "  </tbody>\n",
       "</table>\n",
       "</div>"
      ],
      "text/plain": [
       "       종목코드 회사명       결산기준일                항목명            당기            전기  \\\n",
       "0  [060310]  3S  2016-03-31           영업활동현금흐름  1.896017e+09  2.923614e+08   \n",
       "1  [060310]  3S  2016-03-31          당기순이익(손실) -3.620523e+09 -5.538219e+09   \n",
       "2  [060310]  3S  2016-03-31     당기순이익조정을 위한 가감  6.260199e+09  6.741938e+09   \n",
       "3  [060310]  3S  2016-03-31              감가상각비  2.705374e+09  2.510785e+09   \n",
       "4  [060310]  3S  2016-03-31              대손상각비  2.016450e+07  1.057005e+08   \n",
       "\n",
       "     Change  \n",
       "0  0.845802  \n",
       "1 -0.529674  \n",
       "2 -0.076953  \n",
       "3  0.071927  \n",
       "4 -4.241908  "
      ]
     },
     "execution_count": 4,
     "metadata": {},
     "output_type": "execute_result"
    }
   ],
   "source": [
    "cf_p = cf[cf.columns[[1,2,7,11,12,14]]]\n",
    "cf_p['Change'] = (cf_p.당기 - cf_p.전기)/cf_p.당기\n",
    "cf_p = cf_p.fillna(0)\n",
    "cf_p.head(5)"
   ]
  },
  {
   "cell_type": "code",
   "execution_count": 5,
   "metadata": {
    "collapsed": true
   },
   "outputs": [],
   "source": [
    "cf_p = cf_p[cf_p.항목명 == cf_p.항목명[1]]"
   ]
  },
  {
   "cell_type": "code",
   "execution_count": 6,
   "metadata": {},
   "outputs": [
    {
     "data": {
      "text/plain": [
       "<matplotlib.axes._subplots.AxesSubplot at 0x7fe3f7588940>"
      ]
     },
     "execution_count": 6,
     "metadata": {},
     "output_type": "execute_result"
    },
    {
     "data": {
      "image/png": "[encoded data removed]",
      "text/plain": [
       "<matplotlib.figure.Figure at 0x7fe3f7566eb8>"
      ]
     },
     "metadata": {},
     "output_type": "display_data"
    }
   ],
   "source": [
    "%matplotlib inline\n",
    "cf_p.Change.plot(kind='line')"
   ]
  },
  {
   "cell_type": "code",
   "execution_count": 7,
   "metadata": {},
   "outputs": [
    {
     "data": {
      "text/html": [
       "<div>\n",
       "<style>\n",
       "    .dataframe thead tr:only-child th {\n",
       "        text-align: right;\n",
       "    }\n",
       "\n",
       "    .dataframe thead th {\n",
       "        text-align: left;\n",
       "    }\n",
       "\n",
       "    .dataframe tbody tr th {\n",
       "        vertical-align: top;\n",
       "    }\n",
       "</style>\n",
       "<table border=\"1\" class=\"dataframe\">\n",
       "  <thead>\n",
       "    <tr style=\"text-align: right;\">\n",
       "      <th></th>\n",
       "      <th>종목코드</th>\n",
       "      <th>회사명</th>\n",
       "      <th>결산기준일</th>\n",
       "      <th>항목명</th>\n",
       "      <th>당기</th>\n",
       "      <th>전기</th>\n",
       "      <th>Change</th>\n",
       "    </tr>\n",
       "  </thead>\n",
       "  <tbody>\n",
       "    <tr>\n",
       "      <th>10703</th>\n",
       "      <td>[019010]</td>\n",
       "      <td>그랜드백화점</td>\n",
       "      <td>2016-12-31</td>\n",
       "      <td>당기순이익(손실)</td>\n",
       "      <td>4.606714e+08</td>\n",
       "      <td>3.107768e+10</td>\n",
       "      <td>-66.461695</td>\n",
       "    </tr>\n",
       "    <tr>\n",
       "      <th>21098</th>\n",
       "      <td>[001520]</td>\n",
       "      <td>동양</td>\n",
       "      <td>2016-12-31</td>\n",
       "      <td>당기순이익(손실)</td>\n",
       "      <td>1.205535e+10</td>\n",
       "      <td>6.371824e+11</td>\n",
       "      <td>-51.854755</td>\n",
       "    </tr>\n",
       "    <tr>\n",
       "      <th>30654</th>\n",
       "      <td>[006910]</td>\n",
       "      <td>보성파워텍</td>\n",
       "      <td>2016-12-31</td>\n",
       "      <td>당기순이익(손실)</td>\n",
       "      <td>8.252167e+06</td>\n",
       "      <td>6.174023e+08</td>\n",
       "      <td>-73.816987</td>\n",
       "    </tr>\n",
       "    <tr>\n",
       "      <th>32153</th>\n",
       "      <td>[003960]</td>\n",
       "      <td>사조대림</td>\n",
       "      <td>2016-12-31</td>\n",
       "      <td>당기순이익(손실)</td>\n",
       "      <td>7.854928e+08</td>\n",
       "      <td>4.709755e+10</td>\n",
       "      <td>-58.959247</td>\n",
       "    </tr>\n",
       "    <tr>\n",
       "      <th>42308</th>\n",
       "      <td>[036710]</td>\n",
       "      <td>심텍홀딩스</td>\n",
       "      <td>2016-12-31</td>\n",
       "      <td>당기순이익(손실)</td>\n",
       "      <td>1.477763e+08</td>\n",
       "      <td>1.277407e+11</td>\n",
       "      <td>-863.419836</td>\n",
       "    </tr>\n",
       "  </tbody>\n",
       "</table>\n",
       "</div>"
      ],
      "text/plain": [
       "           종목코드     회사명       결산기준일           항목명            당기            전기  \\\n",
       "10703  [019010]  그랜드백화점  2016-12-31     당기순이익(손실)  4.606714e+08  3.107768e+10   \n",
       "21098  [001520]      동양  2016-12-31     당기순이익(손실)  1.205535e+10  6.371824e+11   \n",
       "30654  [006910]   보성파워텍  2016-12-31     당기순이익(손실)  8.252167e+06  6.174023e+08   \n",
       "32153  [003960]    사조대림  2016-12-31     당기순이익(손실)  7.854928e+08  4.709755e+10   \n",
       "42308  [036710]   심텍홀딩스  2016-12-31     당기순이익(손실)  1.477763e+08  1.277407e+11   \n",
       "\n",
       "           Change  \n",
       "10703  -66.461695  \n",
       "21098  -51.854755  \n",
       "30654  -73.816987  \n",
       "32153  -58.959247  \n",
       "42308 -863.419836  "
      ]
     },
     "execution_count": 7,
     "metadata": {},
     "output_type": "execute_result"
    }
   ],
   "source": [
    "cf_p[cf_p.Change<-50]"
   ]
  },
  {
   "cell_type": "code",
   "execution_count": 8,
   "metadata": {},
   "outputs": [
    {
     "data": {
      "text/html": [
       "<div>\n",
       "<style>\n",
       "    .dataframe thead tr:only-child th {\n",
       "        text-align: right;\n",
       "    }\n",
       "\n",
       "    .dataframe thead th {\n",
       "        text-align: left;\n",
       "    }\n",
       "\n",
       "    .dataframe tbody tr th {\n",
       "        vertical-align: top;\n",
       "    }\n",
       "</style>\n",
       "<table border=\"1\" class=\"dataframe\">\n",
       "  <thead>\n",
       "    <tr style=\"text-align: right;\">\n",
       "      <th></th>\n",
       "      <th>종목코드</th>\n",
       "      <th>회사명</th>\n",
       "      <th>결산기준일</th>\n",
       "      <th>항목명</th>\n",
       "      <th>당기</th>\n",
       "      <th>전기</th>\n",
       "      <th>Change</th>\n",
       "    </tr>\n",
       "  </thead>\n",
       "  <tbody>\n",
       "    <tr>\n",
       "      <th>5689</th>\n",
       "      <td>[034120]</td>\n",
       "      <td>SBS</td>\n",
       "      <td>2016-12-31</td>\n",
       "      <td>당기순이익(손실)</td>\n",
       "      <td>-1.085801e+09</td>\n",
       "      <td>3.459227e+10</td>\n",
       "      <td>32.858766</td>\n",
       "    </tr>\n",
       "    <tr>\n",
       "      <th>17652</th>\n",
       "      <td>[012800]</td>\n",
       "      <td>대창</td>\n",
       "      <td>2016-12-31</td>\n",
       "      <td>당기순이익(손실)</td>\n",
       "      <td>1.531417e+09</td>\n",
       "      <td>-4.950013e+10</td>\n",
       "      <td>33.323079</td>\n",
       "    </tr>\n",
       "    <tr>\n",
       "      <th>23353</th>\n",
       "      <td>[214680]</td>\n",
       "      <td>디알텍</td>\n",
       "      <td>2016-12-31</td>\n",
       "      <td>당기순이익(손실)</td>\n",
       "      <td>-1.918673e+07</td>\n",
       "      <td>2.634946e+09</td>\n",
       "      <td>138.331731</td>\n",
       "    </tr>\n",
       "    <tr>\n",
       "      <th>27570</th>\n",
       "      <td>[096640]</td>\n",
       "      <td>멜파스</td>\n",
       "      <td>2016-12-31</td>\n",
       "      <td>당기순이익(손실)</td>\n",
       "      <td>1.341999e+09</td>\n",
       "      <td>-3.985032e+10</td>\n",
       "      <td>30.694733</td>\n",
       "    </tr>\n",
       "    <tr>\n",
       "      <th>49673</th>\n",
       "      <td>[035290]</td>\n",
       "      <td>에이원앤</td>\n",
       "      <td>2016-12-31</td>\n",
       "      <td>당기순이익(손실)</td>\n",
       "      <td>3.882068e+08</td>\n",
       "      <td>-9.396462e+09</td>\n",
       "      <td>25.204785</td>\n",
       "    </tr>\n",
       "    <tr>\n",
       "      <th>59828</th>\n",
       "      <td>[033110]</td>\n",
       "      <td>이디</td>\n",
       "      <td>2016-12-31</td>\n",
       "      <td>당기순이익(손실)</td>\n",
       "      <td>2.117420e+08</td>\n",
       "      <td>-1.130275e+10</td>\n",
       "      <td>54.379805</td>\n",
       "    </tr>\n",
       "    <tr>\n",
       "      <th>84682</th>\n",
       "      <td>[005860]</td>\n",
       "      <td>한일사료</td>\n",
       "      <td>2016-12-31</td>\n",
       "      <td>당기순이익(손실)</td>\n",
       "      <td>-5.923420e+07</td>\n",
       "      <td>1.231330e+09</td>\n",
       "      <td>21.787480</td>\n",
       "    </tr>\n",
       "  </tbody>\n",
       "</table>\n",
       "</div>"
      ],
      "text/plain": [
       "           종목코드   회사명       결산기준일           항목명            당기            전기  \\\n",
       "5689   [034120]   SBS  2016-12-31     당기순이익(손실) -1.085801e+09  3.459227e+10   \n",
       "17652  [012800]    대창  2016-12-31     당기순이익(손실)  1.531417e+09 -4.950013e+10   \n",
       "23353  [214680]   디알텍  2016-12-31     당기순이익(손실) -1.918673e+07  2.634946e+09   \n",
       "27570  [096640]   멜파스  2016-12-31     당기순이익(손실)  1.341999e+09 -3.985032e+10   \n",
       "49673  [035290]  에이원앤  2016-12-31     당기순이익(손실)  3.882068e+08 -9.396462e+09   \n",
       "59828  [033110]    이디  2016-12-31     당기순이익(손실)  2.117420e+08 -1.130275e+10   \n",
       "84682  [005860]  한일사료  2016-12-31     당기순이익(손실) -5.923420e+07  1.231330e+09   \n",
       "\n",
       "           Change  \n",
       "5689    32.858766  \n",
       "17652   33.323079  \n",
       "23353  138.331731  \n",
       "27570   30.694733  \n",
       "49673   25.204785  \n",
       "59828   54.379805  \n",
       "84682   21.787480  "
      ]
     },
     "execution_count": 8,
     "metadata": {},
     "output_type": "execute_result"
    }
   ],
   "source": [
    "cf_p[cf_p.Change>20]"
   ]
  },
  {
   "cell_type": "markdown",
   "metadata": {},
   "source": [
    "## 2. 더 복잡한 작업을 쉽게 작업하기"
   ]
  },
  {
   "cell_type": "markdown",
   "metadata": {},
   "source": [
    "Naver Finance Infomations"
   ]
  },
  {
   "cell_type": "code",
   "execution_count": 9,
   "metadata": {},
   "outputs": [
    {
     "data": {
      "text/html": [
       "<div>\n",
       "<style>\n",
       "    .dataframe thead tr:only-child th {\n",
       "        text-align: right;\n",
       "    }\n",
       "\n",
       "    .dataframe thead th {\n",
       "        text-align: left;\n",
       "    }\n",
       "\n",
       "    .dataframe tbody tr th {\n",
       "        vertical-align: top;\n",
       "    }\n",
       "</style>\n",
       "<table border=\"1\" class=\"dataframe\">\n",
       "  <thead>\n",
       "    <tr style=\"text-align: right;\">\n",
       "      <th></th>\n",
       "      <th>계정항목(연결)</th>\n",
       "      <th>2016/03</th>\n",
       "      <th>2016/06</th>\n",
       "      <th>2016/09</th>\n",
       "      <th>2016/12</th>\n",
       "      <th>2013</th>\n",
       "      <th>2014</th>\n",
       "      <th>2015</th>\n",
       "      <th>2016</th>\n",
       "    </tr>\n",
       "  </thead>\n",
       "  <tbody>\n",
       "    <tr>\n",
       "      <th>0</th>\n",
       "      <td>매출액(억원)</td>\n",
       "      <td>9372</td>\n",
       "      <td>9872</td>\n",
       "      <td>10130</td>\n",
       "      <td>10849</td>\n",
       "      <td>23119</td>\n",
       "      <td>27584</td>\n",
       "      <td>32539</td>\n",
       "      <td>40226.00</td>\n",
       "    </tr>\n",
       "    <tr>\n",
       "      <th>1</th>\n",
       "      <td>영업이익(억원)</td>\n",
       "      <td>2568</td>\n",
       "      <td>2726</td>\n",
       "      <td>2822</td>\n",
       "      <td>2902</td>\n",
       "      <td>5241</td>\n",
       "      <td>7581</td>\n",
       "      <td>8302</td>\n",
       "      <td>11020.00</td>\n",
       "    </tr>\n",
       "    <tr>\n",
       "      <th>2</th>\n",
       "      <td>당기순이익(억원)</td>\n",
       "      <td>1650</td>\n",
       "      <td>2132</td>\n",
       "      <td>1980</td>\n",
       "      <td>1828</td>\n",
       "      <td>18952</td>\n",
       "      <td>4517</td>\n",
       "      <td>5169</td>\n",
       "      <td>7590.00</td>\n",
       "    </tr>\n",
       "    <tr>\n",
       "      <th>3</th>\n",
       "      <td>EPS(원)</td>\n",
       "      <td>5018</td>\n",
       "      <td>6450</td>\n",
       "      <td>5902</td>\n",
       "      <td>5361</td>\n",
       "      <td>45425</td>\n",
       "      <td>13787</td>\n",
       "      <td>15737</td>\n",
       "      <td>22732.00</td>\n",
       "    </tr>\n",
       "    <tr>\n",
       "      <th>4</th>\n",
       "      <td>ROE(%)</td>\n",
       "      <td>7.62</td>\n",
       "      <td>9.14</td>\n",
       "      <td>6.33</td>\n",
       "      <td>4.84</td>\n",
       "      <td>112.69</td>\n",
       "      <td>27.82</td>\n",
       "      <td>26.46</td>\n",
       "      <td>26.20</td>\n",
       "    </tr>\n",
       "    <tr>\n",
       "      <th>5</th>\n",
       "      <td>부채비율(%)</td>\n",
       "      <td>89.45</td>\n",
       "      <td>87.06</td>\n",
       "      <td>41.81</td>\n",
       "      <td>54.27</td>\n",
       "      <td>82.86</td>\n",
       "      <td>88.85</td>\n",
       "      <td>93.25</td>\n",
       "      <td>54.27</td>\n",
       "    </tr>\n",
       "    <tr>\n",
       "      <th>6</th>\n",
       "      <td>주당배당금(원)</td>\n",
       "      <td>-</td>\n",
       "      <td>-</td>\n",
       "      <td>-</td>\n",
       "      <td>1131</td>\n",
       "      <td>734</td>\n",
       "      <td>782</td>\n",
       "      <td>1100</td>\n",
       "      <td>1131.00</td>\n",
       "    </tr>\n",
       "  </tbody>\n",
       "</table>\n",
       "</div>"
      ],
      "text/plain": [
       "    계정항목(연결) 2016/03 2016/06 2016/09 2016/12    2013   2014   2015      2016\n",
       "0    매출액(억원)    9372    9872   10130   10849   23119  27584  32539  40226.00\n",
       "1   영업이익(억원)    2568    2726    2822    2902    5241   7581   8302  11020.00\n",
       "2  당기순이익(억원)    1650    2132    1980    1828   18952   4517   5169   7590.00\n",
       "3     EPS(원)    5018    6450    5902    5361   45425  13787  15737  22732.00\n",
       "4     ROE(%)    7.62    9.14    6.33    4.84  112.69  27.82  26.46     26.20\n",
       "5    부채비율(%)   89.45   87.06   41.81   54.27   82.86  88.85  93.25     54.27\n",
       "6   주당배당금(원)       -       -       -    1131     734    782   1100   1131.00"
      ]
     },
     "execution_count": 9,
     "metadata": {},
     "output_type": "execute_result"
    }
   ],
   "source": [
    "code = '035420'\n",
    "from intro import naver_finance_table\n",
    "naver_finance_table(code)"
   ]
  },
  {
   "cell_type": "markdown",
   "metadata": {},
   "source": [
    "Darts Main Infos"
   ]
  },
  {
   "cell_type": "code",
   "execution_count": 11,
   "metadata": {},
   "outputs": [
    {
     "name": "stdout",
     "output_type": "stream",
     "text": [
      "      시간    공시대상회사                          보고서명       제출인        접수일자\n",
      "0  19:35   SGA임베디드             주요사항보고서(유상증자결정)     SGA임베디드  2017.07.04\n",
      "1  18:11      옵트론텍           주요사항보고서(자기주식처분결정)        옵트론텍  2017.07.04\n",
      "2  18:11    액토즈소프트           [기재정정]단일판매ㆍ공급계약체결      액토즈소프트  2017.07.04\n",
      "3  18:05      티케이씨              타법인주식및출자증권취득결정        티케이씨  2017.07.04\n",
      "4  17:56  유안타제1호스팩             [기재정정]증권신고서(합병)    유안타제1호스팩  2017.07.04\n",
      "5  17:56        리젠  [기재정정]타법인주식및출자증권취득결정(자율공시)          리젠  2017.07.04\n"
     ]
    }
   ],
   "source": [
    "from intro import dart_main_table\n",
    "dart_all = dart_main_table('https://dart.fss.or.kr/dsac001/mainAll.do')\n",
    "print(dart_all.head(6))"
   ]
  },
  {
   "cell_type": "code",
   "execution_count": 12,
   "metadata": {},
   "outputs": [
    {
     "name": "stdout",
     "output_type": "stream",
     "text": [
      "      시간  공시대상회사                       보고서명     제출인        접수일자\n",
      "0  17:55  보루네오가구                   최대주주변경    보루네오가구  2017.07.04\n",
      "1  17:46    SKC         기업설명회(IR)개최(안내공시)       SKC  2017.07.04\n",
      "2  17:39  쌍용양회공업  [기재정정]주요사항보고서(자기주식처분결정)    쌍용양회공업  2017.07.04\n",
      "3  17:34    대신증권              투자설명서(일괄신고)      대신증권  2017.07.04\n",
      "4  17:32    대신증권  일괄신고추가서류(파생결합증권-주가연계증권)      대신증권  2017.07.04\n",
      "5  17:31    대신증권              투자설명서(일괄신고)      대신증권  2017.07.04\n"
     ]
    }
   ],
   "source": [
    "dart_kospi = dart_main_table('https://dart.fss.or.kr/dsac001/mainY.do')\n",
    "print(dart_kospi.head(6))"
   ]
  },
  {
   "cell_type": "code",
   "execution_count": 13,
   "metadata": {},
   "outputs": [
    {
     "name": "stdout",
     "output_type": "stream",
     "text": [
      "      시간    공시대상회사                          보고서명       제출인        접수일자\n",
      "0  18:11      옵트론텍           주요사항보고서(자기주식처분결정)        옵트론텍  2017.07.04\n",
      "1  18:11    액토즈소프트           [기재정정]단일판매ㆍ공급계약체결      액토즈소프트  2017.07.04\n",
      "2  17:56  유안타제1호스팩             [기재정정]증권신고서(합병)    유안타제1호스팩  2017.07.04\n",
      "3  17:56        리젠  [기재정정]타법인주식및출자증권취득결정(자율공시)          리젠  2017.07.04\n",
      "4  17:35      아이엠텍       [기재정정]분기보고서 (2017.03)        아이엠텍  2017.07.04\n",
      "5  17:21      유지인트                  [기재정정]참고서류        유지인트  2017.07.04\n"
     ]
    }
   ],
   "source": [
    "dart_kosdaq = dart_main_table('https://dart.fss.or.kr/dsac001/mainK.do')\n",
    "print(dart_kosdaq.head(6))"
   ]
  },
  {
   "cell_type": "code",
   "execution_count": 14,
   "metadata": {
    "collapsed": true
   },
   "outputs": [],
   "source": [
    "dart = [dart_all, dart_kosdaq, dart_kospi]\n",
    "dart_table = pd.concat(dart)\n",
    "dart_table = dart_table.drop_duplicates(dart_table.columns, keep='first')"
   ]
  },
  {
   "cell_type": "code",
   "execution_count": 15,
   "metadata": {
    "collapsed": true
   },
   "outputs": [],
   "source": [
    "#set(dart_table.공시대상회사)"
   ]
  },
  {
   "cell_type": "code",
   "execution_count": 16,
   "metadata": {},
   "outputs": [
    {
     "data": {
      "text/html": [
       "<div>\n",
       "<style>\n",
       "    .dataframe thead tr:only-child th {\n",
       "        text-align: right;\n",
       "    }\n",
       "\n",
       "    .dataframe thead th {\n",
       "        text-align: left;\n",
       "    }\n",
       "\n",
       "    .dataframe tbody tr th {\n",
       "        vertical-align: top;\n",
       "    }\n",
       "</style>\n",
       "<table border=\"1\" class=\"dataframe\">\n",
       "  <thead>\n",
       "    <tr style=\"text-align: right;\">\n",
       "      <th></th>\n",
       "      <th>시간</th>\n",
       "      <th>공시대상회사</th>\n",
       "      <th>보고서명</th>\n",
       "      <th>제출인</th>\n",
       "      <th>접수일자</th>\n",
       "    </tr>\n",
       "  </thead>\n",
       "  <tbody>\n",
       "    <tr>\n",
       "      <th>81</th>\n",
       "      <td>10:45</td>\n",
       "      <td>삼성전자</td>\n",
       "      <td>장래사업ㆍ경영계획(공정공시)</td>\n",
       "      <td>삼성전자</td>\n",
       "      <td>2017.07.04</td>\n",
       "    </tr>\n",
       "  </tbody>\n",
       "</table>\n",
       "</div>"
      ],
      "text/plain": [
       "       시간 공시대상회사               보고서명   제출인        접수일자\n",
       "81  10:45   삼성전자  장래사업ㆍ경영계획(공정공시)    삼성전자  2017.07.04"
      ]
     },
     "execution_count": 16,
     "metadata": {},
     "output_type": "execute_result"
    }
   ],
   "source": [
    "dart_table[dart_table.공시대상회사 == '삼성전자']"
   ]
  },
  {
   "cell_type": "markdown",
   "metadata": {},
   "source": [
    "    직관적이고 빠른 작업이 가능하다\n",
    "    하지만 파이썬을 코딩하는 과정은 쉽지 않다. \n",
    "    역설적으로 어렵기 때문에 다양한 기능들을 구현할 수 있다.\n",
    "    \n",
    "    코딩은 기본적인 부분들만 익숙해 지고 나면,\n",
    "    부가적 필요한 기능은 인터넷 검색등 손쉽게 바로 소스코드를 찾을 수 있다.\n",
    "    (익숙해 질 수록 원하는 기능을 빠르게 찾게 된다)\n",
    "    (정해진 반복적인 작업을 대신하는 역활로써는 강력한 기능들이 제공가능하다)"
   ]
  },
  {
   "cell_type": "markdown",
   "metadata": {
    "collapsed": true
   },
   "source": [
    "# 기초가 전체중 50%를 차지한다!!!"
   ]
  },
  {
   "cell_type": "code",
   "execution_count": null,
   "metadata": {
    "collapsed": true
   },
   "outputs": [],
   "source": [
    "# 파이썬 코딩의 기본 3요소\n",
    "# Data,  함수,  연결기호"
   ]
  },
  {
   "cell_type": "markdown",
   "metadata": {},
   "source": [
    "## Data\n",
    "숫자, 문자"
   ]
  },
  {
   "cell_type": "markdown",
   "metadata": {},
   "source": [
    "### 숫자 : integer , float\n",
    "- 컴퓨터가 이해 및 처리 가능한 유일한 type"
   ]
  },
  {
   "cell_type": "code",
   "execution_count": 17,
   "metadata": {},
   "outputs": [
    {
     "data": {
      "text/plain": [
       "3"
      ]
     },
     "execution_count": 17,
     "metadata": {},
     "output_type": "execute_result"
    }
   ],
   "source": [
    "1 + 2"
   ]
  },
  {
   "cell_type": "code",
   "execution_count": 18,
   "metadata": {},
   "outputs": [
    {
     "data": {
      "text/plain": [
       "-10"
      ]
     },
     "execution_count": 18,
     "metadata": {},
     "output_type": "execute_result"
    }
   ],
   "source": [
    "10 - 20"
   ]
  },
  {
   "cell_type": "code",
   "execution_count": 19,
   "metadata": {},
   "outputs": [
    {
     "data": {
      "text/plain": [
       "3.1415925197"
      ]
     },
     "execution_count": 19,
     "metadata": {},
     "output_type": "execute_result"
    }
   ],
   "source": [
    "3.14159252 - 0.0000000003"
   ]
  },
  {
   "cell_type": "code",
   "execution_count": 20,
   "metadata": {},
   "outputs": [
    {
     "data": {
      "text/plain": [
       "0.75"
      ]
     },
     "execution_count": 20,
     "metadata": {},
     "output_type": "execute_result"
    }
   ],
   "source": [
    "3 / 4"
   ]
  },
  {
   "cell_type": "code",
   "execution_count": 21,
   "metadata": {},
   "outputs": [
    {
     "data": {
      "text/plain": [
       "7"
      ]
     },
     "execution_count": 21,
     "metadata": {},
     "output_type": "execute_result"
    }
   ],
   "source": [
    "30//4 # 몫"
   ]
  },
  {
   "cell_type": "code",
   "execution_count": 22,
   "metadata": {},
   "outputs": [
    {
     "data": {
      "text/plain": [
       "2"
      ]
     },
     "execution_count": 22,
     "metadata": {},
     "output_type": "execute_result"
    }
   ],
   "source": [
    "30%4  # 나머지"
   ]
  },
  {
   "cell_type": "markdown",
   "metadata": {},
   "source": [
    "### 문자 : String\n",
    "- 문자열은 3가지 연산만 가능 \n",
    "    1. 문자 연결\n",
    "    2. indexing/ slicing\n",
    "    3. counting.... 끝!!!\n",
    "- 32비트/ 64비트 : 32진수, 64진수 숫자로 문자를 치환해서 연산처리\n",
    "- 박근혜 + 최순실 = '최태민' : 답을 알 수 없다\n",
    "- 문재인 / 홍준표 = '바른정당'   : 답을 알 수 없다"
   ]
  },
  {
   "cell_type": "code",
   "execution_count": 23,
   "metadata": {},
   "outputs": [
    {
     "data": {
      "text/plain": [
       "'0'"
      ]
     },
     "execution_count": 23,
     "metadata": {},
     "output_type": "execute_result"
    }
   ],
   "source": [
    "'0'\n",
    "\n",
    "# 문자 연결\n",
    "\"10\" + '2'\n",
    "\n",
    "'대한'+'2017'+'대한회계사회'+'gogo!!'\n",
    "\n",
    "#  indexing : 특정 지점을 콕 집는다.\n",
    "#'대한민국' - '민국'\n",
    "gogo = '대한민국'\n",
    "gogo[2] \n",
    "\n",
    "# slicing : 특정 범위를 지정\n",
    "gogo[:2]  "
   ]
  },
  {
   "cell_type": "markdown",
   "metadata": {},
   "source": [
    "# Data Quiz"
   ]
  },
  {
   "cell_type": "markdown",
   "metadata": {},
   "source": [
    "    '2017년 대한민국' 에서 '2017' 를 숫자로 뽑아내라...\n",
    "\n",
    "    start>>>\n",
    "    text = '2017년 대한민국'  \n",
    "    tips>>\n",
    "    1. slicing 으로 '2017'문자를 추출\n",
    "    2. '2017'문자를 숫자로 변환"
   ]
  },
  {
   "cell_type": "code",
   "execution_count": 39,
   "metadata": {
    "collapsed": true
   },
   "outputs": [],
   "source": [
    "text = '2017년 대한민국'"
   ]
  },
  {
   "cell_type": "markdown",
   "metadata": {},
   "source": [
    "## Data\n",
    "[ List ] , { dictionary : 설명 }"
   ]
  },
  {
   "cell_type": "markdown",
   "metadata": {},
   "source": [
    "### [ List ]"
   ]
  },
  {
   "cell_type": "code",
   "execution_count": 40,
   "metadata": {
    "collapsed": true
   },
   "outputs": [],
   "source": [
    "lists = [1,2,3,4,5,'회계','재무']\n",
    "\n",
    "lists[-1]\n",
    "\n",
    "# List 내부 데이타 : 숫자, 문자\n",
    "# List 내부 인덱스 : 0,1,2,3,4....... (무조건 순서대로 진행)\n",
    "#  장점 : 만들기가 쉽다\n",
    "#      : 인덱스 주소만 알면 검색과 활용이 쉽다.\n",
    "#      : matrix 구조를 활용하면 대용량 데이터도 처리가 가능하다\n",
    "\n",
    "#  단점 : 무조건 0부터 작업을 시작 (for 문을 활용시 주요한 특징)\n",
    "#      : 1게 list가 100만개 데이터를 갖고 있으면, 이 리스트를 10번 검색하는 경우 무조건 100만번 + N 번의 작업이 필요 ()\n",
    "\n",
    "# 자료가 3000만개일 때 3번 반복시 시간측정\n",
    "import time; t0 = time.time()\n",
    "[ print(i/10000000) for i in range(30000000) if i%10000000 == 0]\n",
    "t1 = time.time() ; print(int(t1-t0),'sec')    "
   ]
  },
  {
   "cell_type": "markdown",
   "metadata": {},
   "source": [
    "### {Dictionary : 설명}    "
   ]
  },
  {
   "cell_type": "code",
   "execution_count": 45,
   "metadata": {
    "collapsed": true
   },
   "outputs": [],
   "source": [
    "dictionary = {'005390':'삼성전자', '035420':'네이버'}\n",
    "\n",
    "dictionary['005390']\n",
    "\n",
    "dictionary['000660'] = 'SK하이닉스'\n",
    "\n",
    "dictionary"
   ]
  },
  {
   "cell_type": "code",
   "execution_count": 49,
   "metadata": {
    "collapsed": true
   },
   "outputs": [],
   "source": [
    "# dictionary = { key값 : value }\n",
    "# 장점 : 상대적으로 만들기가 쉽다\n",
    "#     : 검색이 빠르다, Key값이 일치하면 바로 결과를 출력\n",
    "#     : 1개 key 값에 value는 여러개도 가능 (value 값도  [list],{ dict} 모두 가능)\n",
    "\n",
    "# 단점 : 순서가 없어서 정렬을 할 수 없다.\n",
    "#     : key값의 오타로 비슷한 key 값들이 중복되어 존재할 가능성이 있다\n",
    "#     : key값과 value를 모두 알아야만 자료를 찾을 수 있다."
   ]
  },
  {
   "cell_type": "markdown",
   "metadata": {},
   "source": [
    "정리"
   ]
  },
  {
   "cell_type": "markdown",
   "metadata": {},
   "source": [
    "    <data>\n",
    "    2017, 3.141592..\n",
    "    '대한민국 대표 공인 회계사'\n",
    "    codes\n",
    "    [1, 2, 3, 4 ,'대한민국', 서울시]\n",
    "    {'000660': 'SK하이닉스', '005390': '삼성전자', '035420': '네이버'}"
   ]
  },
  {
   "cell_type": "markdown",
   "metadata": {},
   "source": [
    "    <data>\n",
    "    숫자   :  유일하게 컴퓨터가 인식 연산 가능한 type\n",
    "    '문자' :  문자의 counting,  문자열 더하기,  indexing/ slicing\n",
    "    변수명  :  변수는 문자로만 가능 (내부는 임의의 값들로 수정 변환이 가능)\n",
    "    [list형 데이터] - 숫자/ 문자\n",
    "    {dict형 데이터} - { key값 : value값 } - 숫자 /문자"
   ]
  },
  {
   "cell_type": "markdown",
   "metadata": {},
   "source": [
    "# Data Quiz"
   ]
  },
  {
   "cell_type": "markdown",
   "metadata": {},
   "source": [
    "    lists = [2017, '년', '대한민국'] 의 자료를 활용해서\n",
    "    '2017년대한민국' 1개의 문자열로 변환해 보시오.\n",
    "\n",
    "    start>> lists = [2017, '년', '대한민국']\n",
    "    tips>>\n",
    "    1.lists[0] 의 인덱스를 활용해서 각각의 객체를 추출\n",
    "    2. 문자와 문자 객체를 + 를 통해서 1개로 합친다"
   ]
  },
  {
   "cell_type": "markdown",
   "metadata": {},
   "source": [
    "# Data Quiz"
   ]
  },
  {
   "cell_type": "markdown",
   "metadata": {},
   "source": [
    "    dictionary = {'005390':'삼성전자', '035420':'네이버'} 자료를 통해서\n",
    "    1. 030200 코드인 'KT'를 위 자료에 추가하라\n",
    "    2. 005390 코드인 '삼성전자'를 화면에 출력하라\n",
    "\n",
    "    start>> dictoinary\n",
    "    tips>>\n",
    "    1.딕셔너리 추가\n",
    "    dictionary ['key문자열'] = 'value 문자열'"
   ]
  },
  {
   "cell_type": "markdown",
   "metadata": {},
   "source": [
    "# Function"
   ]
  },
  {
   "cell_type": "markdown",
   "metadata": {},
   "source": [
    "## 함수\n",
    "반복문, 판단문"
   ]
  },
  {
   "cell_type": "markdown",
   "metadata": {},
   "source": [
    "### 반복문 : for\n",
    "list / dict 객체들을 순차적 반복 처리"
   ]
  },
  {
   "cell_type": "code",
   "execution_count": 51,
   "metadata": {},
   "outputs": [
    {
     "data": {
      "text/plain": [
       "[1, 2, 3, 4, 5, '회계', '재무']"
      ]
     },
     "execution_count": 51,
     "metadata": {},
     "output_type": "execute_result"
    }
   ],
   "source": [
    "lists"
   ]
  },
  {
   "cell_type": "code",
   "execution_count": 52,
   "metadata": {
    "scrolled": true
   },
   "outputs": [
    {
     "name": "stdout",
     "output_type": "stream",
     "text": [
      "1\n",
      "2\n",
      "3\n",
      "4\n",
      "5\n",
      "회계\n",
      "재무\n"
     ]
    }
   ],
   "source": [
    "for out in lists:\n",
    "    print(out)"
   ]
  },
  {
   "cell_type": "code",
   "execution_count": 53,
   "metadata": {},
   "outputs": [
    {
     "data": {
      "text/plain": [
       "{'000660': 'SK하이닉스', '005390': '삼성전자', '035420': '네이버'}"
      ]
     },
     "execution_count": 53,
     "metadata": {},
     "output_type": "execute_result"
    }
   ],
   "source": [
    "dictionary"
   ]
  },
  {
   "cell_type": "code",
   "execution_count": 54,
   "metadata": {},
   "outputs": [
    {
     "name": "stdout",
     "output_type": "stream",
     "text": [
      "000660\n",
      "005390\n",
      "035420\n"
     ]
    }
   ],
   "source": [
    "# value 값 순서대로 key값이 출력\n",
    "for out in dictionary:\n",
    "    print(out)"
   ]
  },
  {
   "cell_type": "markdown",
   "metadata": {},
   "source": [
    "## 판단문 : if\n",
    "개별 객체가 조건에 해당되는지를 판단"
   ]
  },
  {
   "cell_type": "code",
   "execution_count": 55,
   "metadata": {},
   "outputs": [
    {
     "name": "stdout",
     "output_type": "stream",
     "text": [
      "회계\n",
      "재무\n"
     ]
    }
   ],
   "source": [
    "for out in lists:\n",
    "    if type(out) == str:\n",
    "        print(out)"
   ]
  },
  {
   "cell_type": "code",
   "execution_count": 56,
   "metadata": {},
   "outputs": [
    {
     "name": "stdout",
     "output_type": "stream",
     "text": [
      "1\n",
      "2\n",
      "3\n",
      "4\n",
      "5\n"
     ]
    }
   ],
   "source": [
    "for out in lists:\n",
    "    if type(out) == int:\n",
    "        print(out)"
   ]
  },
  {
   "cell_type": "code",
   "execution_count": 57,
   "metadata": {},
   "outputs": [
    {
     "name": "stdout",
     "output_type": "stream",
     "text": [
      "005390\n"
     ]
    }
   ],
   "source": [
    "for out in dictionary:\n",
    "    if out == '005390':\n",
    "        print(out)"
   ]
  },
  {
   "cell_type": "markdown",
   "metadata": {},
   "source": [
    "## tuple\n",
    "(객체명, 객체명) : 각각을 병렬적 객체로 인식"
   ]
  },
  {
   "cell_type": "code",
   "execution_count": 58,
   "metadata": {},
   "outputs": [
    {
     "data": {
      "text/plain": [
       "{'000660': 'SK하이닉스', '005390': '삼성전자', '035420': '네이버'}"
      ]
     },
     "execution_count": 58,
     "metadata": {},
     "output_type": "execute_result"
    }
   ],
   "source": [
    "dictionary"
   ]
  },
  {
   "cell_type": "code",
   "execution_count": 59,
   "metadata": {},
   "outputs": [
    {
     "data": {
      "text/plain": [
       "dict_items([('000660', 'SK하이닉스'), ('005390', '삼성전자'), ('035420', '네이버')])"
      ]
     },
     "execution_count": 59,
     "metadata": {},
     "output_type": "execute_result"
    }
   ],
   "source": [
    "dictionary.items()"
   ]
  },
  {
   "cell_type": "code",
   "execution_count": 60,
   "metadata": {},
   "outputs": [
    {
     "name": "stdout",
     "output_type": "stream",
     "text": [
      "삼성전자\n"
     ]
    }
   ],
   "source": [
    "for k, v in dictionary.items():\n",
    "    if k == '005390':\n",
    "        print(v)"
   ]
  },
  {
   "cell_type": "markdown",
   "metadata": {},
   "source": [
    "# 연결기호"
   ]
  },
  {
   "cell_type": "markdown",
   "metadata": {},
   "source": [
    "## '' , \"\"\n",
    "이것은 문자열이다\n",
    "\n",
    "\"\"\"   Hello this is web browser text book in jupyter notebook,\n",
    "you can edit in web brower , so could be ues in server version \"\"\"\n",
    "\n",
    ". 종속\n",
    "\n",
    "dictionary.items()\n",
    "\n",
    "lists.append('apple')\n",
    "\n",
    "lists\n",
    "\n",
    ", 대등\n",
    "\n",
    "lists\n",
    "\n",
    "for k ,v  in dictionary.items():\n",
    "    print('Code : ', k , '  name : ',v)\n",
    "\n",
    ": 부분집합 (내부에 제한된 일부분)\n",
    "\n",
    "for out in lists:\n",
    "    print(out)"
   ]
  },
  {
   "cell_type": "markdown",
   "metadata": {},
   "source": [
    "    '' , \"\"  문자열 지정 (연산 불가능한 객체)\n",
    "    . 종속   \n",
    "    , 병렬나열\n",
    "    : 내부설계\n",
    "    = 입력\n",
    "    == 대등조건\n",
    "    != 부 대등조건"
   ]
  },
  {
   "cell_type": "markdown",
   "metadata": {},
   "source": [
    "# Function"
   ]
  },
  {
   "cell_type": "markdown",
   "metadata": {},
   "source": [
    "    lists = [1, 2, 3, 4. 5] \n",
    "오류의 원인을 설명하시오"
   ]
  },
  {
   "cell_type": "markdown",
   "metadata": {},
   "source": [
    "    for out in lists;\n",
    "        print(out)\n",
    "오류의 원인을 설명하시오"
   ]
  },
  {
   "cell_type": "markdown",
   "metadata": {},
   "source": [
    "    code = '005390\"\n",
    "오류의 원인을 설명하시오"
   ]
  },
  {
   "cell_type": "markdown",
   "metadata": {},
   "source": [
    "    <data>\n",
    "    2017, 3.141592..\n",
    "    '대한민국 대표 공인 회계사'\n",
    "    codes\n",
    "    tuple1, tuple2\n",
    "    [1, 2, 3, 4 ,'대한민국', 서울시]\n",
    "    {'000660': 'SK하이닉스', '005390': '삼성전자', '035420': '네이버'}"
   ]
  },
  {
   "cell_type": "markdown",
   "metadata": {},
   "source": [
    "    <data>\n",
    "    숫자   :  유일하게 컴퓨터가 인식 연산 가능한 type\n",
    "    '문자' :  문자의 counting,  문자열 더하기,  indexing, slicing\n",
    "    변수명  :  변수는 문자로만 가능 (내부는 임의의 값들로 수정 변환이 가능)\n",
    "    tuple1, tuple2 : 여러 객체를 병렬적으로 처리 (2개 , 3개 , 여러개도 병렬처리 가능 : 꼭 짝은 맞아야 한다!!)\n",
    "    ex) (tuple1, tuple2) : 컴퓨터가 연산처리 결과로 tuple을 출력시 () 소괄호로 표시\n",
    "    [list형 데이터] - 숫자/ 문자\n",
    "    {dict형 데이터} - { key값 : value값 } - 숫자 /문자`m"
   ]
  },
  {
   "cell_type": "code",
   "execution_count": null,
   "metadata": {
    "collapsed": true
   },
   "outputs": [],
   "source": []
  },
  {
   "cell_type": "code",
   "execution_count": null,
   "metadata": {
    "collapsed": true
   },
   "outputs": [],
   "source": []
  }
 ],
 "metadata": {
  "kernelspec": {
   "display_name": "Python 3",
   "language": "python",
   "name": "python3"
  },
  "language_info": {
   "codemirror_mode": {
    "name": "ipython",
    "version": 3
   },
   "file_extension": ".py",
   "mimetype": "text/x-python",
   "name": "python",
   "nbconvert_exporter": "python",
   "pygments_lexer": "ipython3",
   "version": "3.6.1"
  }
 },
 "nbformat": 4,
 "nbformat_minor": 2
}
