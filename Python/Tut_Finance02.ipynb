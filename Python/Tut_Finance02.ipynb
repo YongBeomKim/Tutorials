{
 "cells": [
  {
   "cell_type": "markdown",
   "metadata": {},
   "source": [
    "# Tutorial 02"
   ]
  },
  {
   "cell_type": "markdown",
   "metadata": {},
   "source": [
    "## 0 Review()"
   ]
  },
  {
   "cell_type": "code",
   "execution_count": null,
   "metadata": {
    "collapsed": true
   },
   "outputs": [],
   "source": [
    "# 숫자\n",
    "# integer(정수) : index, slicing, counting\n",
    "# float(실수) : 연산\n",
    "\n",
    "# 문자\n",
    "# 'datum' :  문자와 문자의 사칙연산,  Indexing/ Slicing,  Counting....\n",
    "# data  :  매개변수\n",
    "\n",
    "# [ list ]   :  integer index 값이 숨어있다. (0 ~ -1)\n",
    "\n",
    "# { key : value }"
   ]
  },
  {
   "cell_type": "markdown",
   "metadata": {},
   "source": [
    "<p>출처 : http://pbpython.com/pandas-list-dict.html</p>\n",
    "</br><img src = \"http://pbpython.com/images/pandas-dataframe-shadow.png\" align=\"left\">"
   ]
  },
  {
   "cell_type": "code",
   "execution_count": 111,
   "metadata": {
    "collapsed": true
   },
   "outputs": [],
   "source": [
    "### 앞에서 사용된 기본함수들\n",
    "# len()\n",
    "# type()\n",
    "# int()\n",
    "# float()\n",
    "# str()\n",
    "# list()\n",
    "# dict()"
   ]
  },
  {
   "cell_type": "code",
   "execution_count": 6,
   "metadata": {
    "collapsed": true
   },
   "outputs": [],
   "source": [
    "lists = [1, 2, 3, '회계', '재무', 2017, ['08-15', '22:00:30'], ['Python', 'Jupyter'], 'apple']"
   ]
  },
  {
   "cell_type": "code",
   "execution_count": null,
   "metadata": {
    "collapsed": true
   },
   "outputs": [],
   "source": []
  },
  {
   "cell_type": "markdown",
   "metadata": {},
   "source": [
    "## 3 Function (기본함수/모듈, 외부함수/ 모듈)\n",
    "반복문, 조건문"
   ]
  },
  {
   "cell_type": "markdown",
   "metadata": {},
   "source": [
    "### 01. 반복문\n",
    "for - list / dict 객체들을 순차적 반복 처리"
   ]
  },
  {
   "cell_type": "code",
   "execution_count": 147,
   "metadata": {},
   "outputs": [
    {
     "name": "stdout",
     "output_type": "stream",
     "text": [
      "1\n",
      "2\n",
      "3\n",
      "회계\n",
      "재무\n",
      "2017\n",
      "['08-15', '22:00:30']\n",
      "['Python', 'Jupyter']\n"
     ]
    }
   ],
   "source": [
    "# ':' 부분집합으로 아래의 내용은 위 함수의 조건 내에서만 실행\n",
    "# indent (안으로 약간 들여쓰다) - 부분집합에 해당을 인식\n",
    "\n",
    "for list_item in lists :   \n",
    "    print(list_item)       "
   ]
  },
  {
   "cell_type": "code",
   "execution_count": 151,
   "metadata": {},
   "outputs": [
    {
     "name": "stdout",
     "output_type": "stream",
     "text": [
      "005390\n",
      "035420\n"
     ]
    }
   ],
   "source": [
    "for key in dictionary:\n",
    "    print(key)"
   ]
  },
  {
   "cell_type": "code",
   "execution_count": 155,
   "metadata": {},
   "outputs": [
    {
     "name": "stdout",
     "output_type": "stream",
     "text": [
      "005390 삼성전자\n",
      "035420 네이버\n"
     ]
    }
   ],
   "source": [
    "for key , value in dictionary.items() :\n",
    "    print(key, value)"
   ]
  },
  {
   "cell_type": "code",
   "execution_count": 156,
   "metadata": {},
   "outputs": [
    {
     "name": "stdout",
     "output_type": "stream",
     "text": [
      "0 1\n",
      "1 2\n",
      "2 3\n",
      "3 회계\n",
      "4 재무\n",
      "5 2017\n",
      "6 ['08-15', '22:00:30']\n",
      "7 ['Python', 'Jupyter']\n"
     ]
    }
   ],
   "source": [
    "# enumerate()\n",
    "for index, list_item in enumerate(lists) :\n",
    "    print(index , list_item)"
   ]
  },
  {
   "cell_type": "code",
   "execution_count": 18,
   "metadata": {},
   "outputs": [
    {
     "name": "stdout",
     "output_type": "stream",
     "text": [
      "0\n",
      "1\n",
      "2\n",
      "3\n"
     ]
    }
   ],
   "source": [
    "# range( 종료값 )  \n",
    "# 종료값 - Counting : integer\n",
    "for i in range(4): print(i)"
   ]
  },
  {
   "cell_type": "code",
   "execution_count": 20,
   "metadata": {},
   "outputs": [
    {
     "name": "stdout",
     "output_type": "stream",
     "text": [
      "0\n",
      "20\n",
      "40\n",
      "60\n",
      "80\n"
     ]
    }
   ],
   "source": [
    "# range( 시작, 종료, step)\n",
    "# 시작, 종료값 , step - Counting : integer\n",
    "for i in range(0,100,20): print(i)"
   ]
  },
  {
   "cell_type": "code",
   "execution_count": 23,
   "metadata": {},
   "outputs": [
    {
     "name": "stdout",
     "output_type": "stream",
     "text": [
      "100\n",
      "80\n",
      "60\n",
      "40\n",
      "20\n"
     ]
    }
   ],
   "source": [
    "for i in range(100,10,-20): print(i)"
   ]
  },
  {
   "cell_type": "code",
   "execution_count": 25,
   "metadata": {},
   "outputs": [
    {
     "ename": "TypeError",
     "evalue": "'float' object cannot be interpreted as an integer",
     "output_type": "error",
     "traceback": [
      "\u001b[0;31m---------------------------------------------------------------------------\u001b[0m",
      "\u001b[0;31mTypeError\u001b[0m                                 Traceback (most recent call last)",
      "\u001b[0;32m<ipython-input-25-3bdb499df49b>\u001b[0m in \u001b[0;36m<module>\u001b[0;34m()\u001b[0m\n\u001b[1;32m      1\u001b[0m \u001b[0;31m# range( 시작, 종료, step)\u001b[0m\u001b[0;34m\u001b[0m\u001b[0;34m\u001b[0m\u001b[0m\n\u001b[1;32m      2\u001b[0m \u001b[0;31m# step : float (실수가 가능하다!!)\u001b[0m\u001b[0;34m\u001b[0m\u001b[0;34m\u001b[0m\u001b[0m\n\u001b[0;32m----> 3\u001b[0;31m \u001b[0;32mfor\u001b[0m \u001b[0mi\u001b[0m \u001b[0;32min\u001b[0m \u001b[0mrange\u001b[0m\u001b[0;34m(\u001b[0m\u001b[0;36m0\u001b[0m\u001b[0;34m,\u001b[0m\u001b[0;36m1\u001b[0m\u001b[0;34m,\u001b[0m\u001b[0;36m0.2\u001b[0m\u001b[0;34m)\u001b[0m\u001b[0;34m:\u001b[0m \u001b[0mprint\u001b[0m\u001b[0;34m(\u001b[0m\u001b[0mi\u001b[0m\u001b[0;34m)\u001b[0m\u001b[0;34m\u001b[0m\u001b[0m\n\u001b[0m",
      "\u001b[0;31mTypeError\u001b[0m: 'float' object cannot be interpreted as an integer"
     ]
    }
   ],
   "source": [
    "# range( 시작, 종료, step)\n",
    "# step : float (실수는 불가능하다!!)\n",
    "# 기본 법칙에서 위배된 실행은 불가능하다\n",
    "for i in range(0,1,0.2): print(i)"
   ]
  },
  {
   "cell_type": "code",
   "execution_count": 26,
   "metadata": {},
   "outputs": [
    {
     "data": {
      "text/plain": [
       "array([ 0. ,  0.1,  0.2,  0.3,  0.4,  0.5,  0.6,  0.7,  0.8,  0.9])"
      ]
     },
     "execution_count": 26,
     "metadata": {},
     "output_type": "execute_result"
    }
   ],
   "source": [
    "# 기본 규칙을 벗어나려면....\n",
    "# Numpy 등 외부모듈을 사용해야 한다.\n",
    "import numpy as np\n",
    "np.arange(0, 1, 0.1)"
   ]
  },
  {
   "cell_type": "code",
   "execution_count": null,
   "metadata": {
    "collapsed": true
   },
   "outputs": [],
   "source": []
  },
  {
   "cell_type": "markdown",
   "metadata": {},
   "source": [
    "### 02. 판단문 - Boolean 연산자 (컴퓨터 용어)\n",
    "if - [True, False, True, True ......] 딱 2가지로만 출력\n",
    "\n",
    "Masking (데이터 선별기능)"
   ]
  },
  {
   "cell_type": "code",
   "execution_count": 159,
   "metadata": {},
   "outputs": [
    {
     "name": "stdout",
     "output_type": "stream",
     "text": [
      "1\n",
      "2\n",
      "3\n",
      "2017\n"
     ]
    }
   ],
   "source": [
    "for out in lists:\n",
    "    if type(out) == int:\n",
    "        print(out)"
   ]
  },
  {
   "cell_type": "code",
   "execution_count": 157,
   "metadata": {},
   "outputs": [
    {
     "name": "stdout",
     "output_type": "stream",
     "text": [
      "회계\n",
      "재무\n"
     ]
    }
   ],
   "source": [
    "for out in lists:\n",
    "    if type(out) == str:\n",
    "        print(out)"
   ]
  },
  {
   "cell_type": "code",
   "execution_count": 158,
   "metadata": {},
   "outputs": [
    {
     "name": "stdout",
     "output_type": "stream",
     "text": [
      "['08-15', '22:00:30']\n",
      "['Python', 'Jupyter']\n"
     ]
    }
   ],
   "source": [
    "for out in lists:\n",
    "    if type(out) == list:\n",
    "        print(out)"
   ]
  },
  {
   "cell_type": "code",
   "execution_count": 160,
   "metadata": {},
   "outputs": [
    {
     "name": "stdout",
     "output_type": "stream",
     "text": [
      "6 ['08-15', '22:00:30']\n",
      "7 ['Python', 'Jupyter']\n"
     ]
    }
   ],
   "source": [
    "for index, out in enumerate(lists):\n",
    "    if type(out) == list:\n",
    "        print(index, out)"
   ]
  },
  {
   "cell_type": "code",
   "execution_count": null,
   "metadata": {
    "collapsed": true
   },
   "outputs": [],
   "source": []
  },
  {
   "cell_type": "markdown",
   "metadata": {},
   "source": [
    "### 03. [  실행함수            반복문     조건문] --  [ list 함수]\n",
    " 1. [ 동사      명사와 형용사 ] \n",
    " 2. 영어의 '명령문' 형식을 [ list ] 내부에 차용\n",
    " 3. 단 1줄에.....  [최종실행함수   반복문 조건문]  3개의 함수의 실행결과를 list로 일괄출력\n",
    "\n",
    "반복문 / 조건문 충족 --> 최종 실행함수 --> 순차적 list 로 출력"
   ]
  },
  {
   "cell_type": "code",
   "execution_count": 7,
   "metadata": {},
   "outputs": [
    {
     "name": "stdout",
     "output_type": "stream",
     "text": [
      "6 ['08-15', '22:00:30']\n",
      "7 ['Python', 'Jupyter']\n"
     ]
    }
   ],
   "source": [
    "for index, out in enumerate(lists):\n",
    "    if type(out) == list:\n",
    "        print(index, out)"
   ]
  },
  {
   "cell_type": "code",
   "execution_count": 11,
   "metadata": {},
   "outputs": [
    {
     "data": {
      "text/plain": [
       "[(0, 1),\n",
       " (1, 2),\n",
       " (2, 3),\n",
       " (3, '회계'),\n",
       " (4, '재무'),\n",
       " (5, 2017),\n",
       " (6, ['08-15', '22:00:30']),\n",
       " (7, ['Python', 'Jupyter']),\n",
       " (8, 'apple')]"
      ]
     },
     "execution_count": 11,
     "metadata": {},
     "output_type": "execute_result"
    }
   ],
   "source": [
    "[(index, out)     for index, out in enumerate(lists)]"
   ]
  },
  {
   "cell_type": "code",
   "execution_count": 13,
   "metadata": {},
   "outputs": [
    {
     "data": {
      "text/plain": [
       "[(3, '회계'), (4, '재무'), (8, 'apple')]"
      ]
     },
     "execution_count": 13,
     "metadata": {},
     "output_type": "execute_result"
    }
   ],
   "source": [
    "[(index, out)     for index, out in enumerate(lists)  if type(out) == str]"
   ]
  },
  {
   "cell_type": "markdown",
   "metadata": {
    "collapsed": true
   },
   "source": [
    "## QUIZ 01\n",
    "\n",
    "range() 함수를 사용해서 2010 ~ 2017 까지 숫자 중 2 단계씩의 숫자를 출력하라\n",
    "\n",
    "    tip)  range( start, end, step)"
   ]
  },
  {
   "cell_type": "markdown",
   "metadata": {
    "collapsed": true
   },
   "source": [
    "## QUIZ 02\n",
    "\n",
    "range() 함수를 사용해서 2017 ~ 1990 까지 숫자 중 4의 배수만 list로 출력하라\n",
    "\n",
    "    tip) 2014 % 4 == 0 : 4로 나눌 떄 나머지가 없을 것"
   ]
  },
  {
   "cell_type": "code",
   "execution_count": null,
   "metadata": {
    "collapsed": true
   },
   "outputs": [],
   "source": []
  },
  {
   "cell_type": "markdown",
   "metadata": {},
   "source": [
    "## 4 연결기호\n",
    "그냥 쓰다보면, 나중에 큰 코 다치는 주요한 부분"
   ]
  },
  {
   "cell_type": "code",
   "execution_count": null,
   "metadata": {
    "collapsed": true
   },
   "outputs": [],
   "source": [
    "## 01 =\n",
    "#  (실행) 데이터 입력 \n",
    "\n",
    "a = ['2017-01-01']"
   ]
  },
  {
   "cell_type": "code",
   "execution_count": 28,
   "metadata": {},
   "outputs": [
    {
     "data": {
      "text/plain": [
       "[0, 2, 4, 6, 8]"
      ]
     },
     "execution_count": 28,
     "metadata": {},
     "output_type": "execute_result"
    }
   ],
   "source": [
    "## 02 ==\n",
    "#  (판단) 조건문 \n",
    "[i         for i in range(10)       if i % 2 ==0]"
   ]
  },
  {
   "cell_type": "code",
   "execution_count": null,
   "metadata": {
    "collapsed": true
   },
   "outputs": [],
   "source": [
    "## 01 ' ' (단 따옴표) ,  \" \" (쌍 따옴표)  \n",
    "#  ex) '제주도'는 '한반도'의 부속도서로써...\n",
    "#  이것이 문자열이다\n",
    "\n",
    "\"\"\"   Hello this is web browser text book in jupyter notebook,\n",
    "you can edit in web brower , so could be ues in server version \"\"\""
   ]
  },
  {
   "cell_type": "code",
   "execution_count": 161,
   "metadata": {},
   "outputs": [
    {
     "data": {
      "text/plain": [
       "[1,\n",
       " 2,\n",
       " 3,\n",
       " '회계',\n",
       " '재무',\n",
       " 2017,\n",
       " ['08-15', '22:00:30'],\n",
       " ['Python', 'Jupyter'],\n",
       " 'apple']"
      ]
     },
     "execution_count": 161,
     "metadata": {},
     "output_type": "execute_result"
    }
   ],
   "source": [
    "## 02 . \n",
    "# ex) 3.141592....\n",
    "# 종속-1 : .메소드함수()\n",
    "dictionary.items()\n",
    "lists.append('apple')\n",
    "lists"
   ]
  },
  {
   "cell_type": "code",
   "execution_count": 161,
   "metadata": {},
   "outputs": [
    {
     "data": {
      "text/plain": [
       "[1,\n",
       " 2,\n",
       " 3,\n",
       " '회계',\n",
       " '재무',\n",
       " 2017,\n",
       " ['08-15', '22:00:30'],\n",
       " ['Python', 'Jupyter'],\n",
       " 'apple']"
      ]
     },
     "execution_count": 161,
     "metadata": {},
     "output_type": "execute_result"
    }
   ],
   "source": [
    "## 03 ,     \n",
    "# ex) 삼성, Lg, SK, Kt...\n",
    "# 대등관게 (비중이 같은 관계) \n",
    "for k ,v  in dictionary.items():\n",
    "    print('Code : ', k , '  name : ',v)"
   ]
  },
  {
   "cell_type": "code",
   "execution_count": 3,
   "metadata": {},
   "outputs": [
    {
     "name": "stdout",
     "output_type": "stream",
     "text": [
      "1\n",
      "2\n",
      "3\n",
      "회계\n",
      "재무\n",
      "2017\n",
      "['08-15', '22:00:30']\n",
      "['Python', 'Jupyter']\n",
      "apple\n"
     ]
    }
   ],
   "source": [
    "## 04 : \n",
    "# ex) 파이썬 : 이번 학습의 주요 아이템이다.\n",
    "# 내부를 Detail하게 서술 1) 코딩내용은 함수에 종속되어서 실행\n",
    "#                    2) .메소드함수() 와 비교해서 사용자 편집성이 더 강하다\n",
    "#                    3) indent 가 꼭 따라온다/\n",
    "#                    4) 단 1줄로 처리 가능시 바로 뒤에 연달아서 입력 가능\n",
    "\n",
    "for out in lists: print(out)"
   ]
  },
  {
   "cell_type": "markdown",
   "metadata": {
    "collapsed": true
   },
   "source": [
    "## QUIZ 01\n",
    "    [i         for i . v  in enumerate(range(10))       if i % 2 = 0 ]\n",
    "\n",
    "    를 실행하면 Syntax Error 가 발생한다. 오류 2개가 무엇인지 설명하시오"
   ]
  },
  {
   "cell_type": "code",
   "execution_count": 32,
   "metadata": {},
   "outputs": [
    {
     "ename": "SyntaxError",
     "evalue": "invalid syntax (<ipython-input-32-cdb35ef778e8>, line 1)",
     "output_type": "error",
     "traceback": [
      "\u001b[0;36m  File \u001b[0;32m\"<ipython-input-32-cdb35ef778e8>\"\u001b[0;36m, line \u001b[0;32m1\u001b[0m\n\u001b[0;31m    [i         for i . v  in enumerate(range(10))       if i % 2 = 0 ]\u001b[0m\n\u001b[0m                                                                 ^\u001b[0m\n\u001b[0;31mSyntaxError\u001b[0m\u001b[0;31m:\u001b[0m invalid syntax\n"
     ]
    }
   ],
   "source": [
    "[i         for i . v  in enumerate(range(10))       if i % 2 = 0 ]"
   ]
  },
  {
   "cell_type": "code",
   "execution_count": null,
   "metadata": {
    "collapsed": true
   },
   "outputs": [],
   "source": []
  },
  {
   "cell_type": "markdown",
   "metadata": {},
   "source": [
    "## 5 .formating   in String\n",
    "엑셀의 사용자함수 - 단어의 순서 및 형식을 변경/ 정의가능\n",
    "\n",
    "%d, %s  -->  %매개변수 or %21"
   ]
  },
  {
   "cell_type": "markdown",
   "metadata": {},
   "source": [
    "### 01 %d  : digit \n",
    "문자열 속 숫자(integer) 매개변수 아라비아 숫자"
   ]
  },
  {
   "cell_type": "code",
   "execution_count": 38,
   "metadata": {},
   "outputs": [
    {
     "data": {
      "text/plain": [
       "'I am 18 years olds'"
      ]
     },
     "execution_count": 38,
     "metadata": {},
     "output_type": "execute_result"
    }
   ],
   "source": [
    "# %d  digit : 아라비아 숫자\n",
    "# string 속에서 %d 임시 매개변수를 지정\n",
    "\n",
    "'I am %d years olds' %18"
   ]
  },
  {
   "cell_type": "code",
   "execution_count": 43,
   "metadata": {},
   "outputs": [
    {
     "data": {
      "text/plain": [
       "'I am 3 years olds'"
      ]
     },
     "execution_count": 43,
     "metadata": {},
     "output_type": "execute_result"
    }
   ],
   "source": [
    "# %d  digit : 아라비아 숫자\n",
    "# string 속에서 %d 임시 매개변수를 지정\n",
    "\n",
    "'I am %d years olds' %3.1415"
   ]
  },
  {
   "cell_type": "code",
   "execution_count": 54,
   "metadata": {},
   "outputs": [
    {
     "data": {
      "text/plain": [
       "'I am 21.300000 years olds'"
      ]
     },
     "execution_count": 54,
     "metadata": {},
     "output_type": "execute_result"
    }
   ],
   "source": [
    "# %f  float : 실수\n",
    "\n",
    "age = 21.3\n",
    "'I am %f years olds' %age"
   ]
  },
  {
   "cell_type": "code",
   "execution_count": 35,
   "metadata": {},
   "outputs": [
    {
     "ename": "TypeError",
     "evalue": "%d format: a number is required, not str",
     "output_type": "error",
     "traceback": [
      "\u001b[0;31m---------------------------------------------------------------------------\u001b[0m",
      "\u001b[0;31mTypeError\u001b[0m                                 Traceback (most recent call last)",
      "\u001b[0;32m<ipython-input-35-c702c0f3d08d>\u001b[0m in \u001b[0;36m<module>\u001b[0;34m()\u001b[0m\n\u001b[1;32m      1\u001b[0m \u001b[0mage\u001b[0m \u001b[0;34m=\u001b[0m \u001b[0;34m'21'\u001b[0m\u001b[0;34m\u001b[0m\u001b[0m\n\u001b[0;32m----> 2\u001b[0;31m \u001b[0;34m'I am %d years olds'\u001b[0m \u001b[0;34m%\u001b[0m\u001b[0mage\u001b[0m\u001b[0;34m\u001b[0m\u001b[0m\n\u001b[0m",
      "\u001b[0;31mTypeError\u001b[0m: %d format: a number is required, not str"
     ]
    }
   ],
   "source": [
    "age = '21'\n",
    "'I am %d years olds' %age"
   ]
  },
  {
   "cell_type": "markdown",
   "metadata": {},
   "source": [
    "### 02  %s  : string \n",
    "문자열 속 문자 매개변수"
   ]
  },
  {
   "cell_type": "code",
   "execution_count": 50,
   "metadata": {},
   "outputs": [
    {
     "data": {
      "text/plain": [
       "'I am 21 years olds'"
      ]
     },
     "execution_count": 50,
     "metadata": {},
     "output_type": "execute_result"
    }
   ],
   "source": [
    "# %s  String\n",
    "age = '21'\n",
    "'I am %s years olds' %age"
   ]
  },
  {
   "cell_type": "code",
   "execution_count": 45,
   "metadata": {},
   "outputs": [
    {
     "data": {
      "text/plain": [
       "'He is a famous Accountant in Korea'"
      ]
     },
     "execution_count": 45,
     "metadata": {},
     "output_type": "execute_result"
    }
   ],
   "source": [
    "# %s  String\n",
    "'He is a famous %s in Korea' %\"Accountant\""
   ]
  },
  {
   "cell_type": "markdown",
   "metadata": {},
   "source": [
    "### 03  formating 변수가  여럿 사용하는 경우 \n",
    "문자열 속 문자 매개변수"
   ]
  },
  {
   "cell_type": "code",
   "execution_count": 46,
   "metadata": {},
   "outputs": [
    {
     "data": {
      "text/plain": [
       "'I ate 10 Apples, so I sick for 30 days'"
      ]
     },
     "execution_count": 46,
     "metadata": {},
     "output_type": "execute_result"
    }
   ],
   "source": [
    "number = 10\n",
    "day = '30'\n",
    "'I ate %d Apples, so I sick for %s days' %(number, day)   # %(0번 순서, 1번 순서)"
   ]
  },
  {
   "cell_type": "code",
   "execution_count": 47,
   "metadata": {},
   "outputs": [
    {
     "data": {
      "text/plain": [
       "'I ate 2 Apples, so I sick for two days'"
      ]
     },
     "execution_count": 47,
     "metadata": {},
     "output_type": "execute_result"
    }
   ],
   "source": [
    "'I ate %d Apples, so I sick for %s days' %(2, 'two')   # %(0번 순서, 1번 순서)"
   ]
  },
  {
   "cell_type": "code",
   "execution_count": 49,
   "metadata": {},
   "outputs": [
    {
     "data": {
      "text/plain": [
       "'This program has 9% error rate'"
      ]
     },
     "execution_count": 49,
     "metadata": {},
     "output_type": "execute_result"
    }
   ],
   "source": [
    "# %% \n",
    "'This program has %d%% error rate' %(9)"
   ]
  },
  {
   "cell_type": "code",
   "execution_count": 51,
   "metadata": {},
   "outputs": [
    {
     "data": {
      "text/plain": [
       "'This program has 0.156000% error rate'"
      ]
     },
     "execution_count": 51,
     "metadata": {},
     "output_type": "execute_result"
    }
   ],
   "source": [
    "# %% \n",
    "'This program has %f%% error rate' %(0.156)"
   ]
  },
  {
   "cell_type": "code",
   "execution_count": 55,
   "metadata": {
    "collapsed": true
   },
   "outputs": [],
   "source": [
    "# %c : character 문자 1개\n",
    "# %s : String 문자열\n",
    "# %d : integer 정수\n",
    "# %f : floating point 부동소수"
   ]
  },
  {
   "cell_type": "markdown",
   "metadata": {
    "collapsed": true
   },
   "source": [
    "## QUIZ 01\n",
    "    \"2017년 대한민국 상위 회계사 0.111%가 우리 수업을 수강하고 있습니다\" 를\n",
    "    %f 0.111% , %d 2017 , %s '회계사' 를 활용해서 만들어보세요"
   ]
  },
  {
   "cell_type": "code",
   "execution_count": null,
   "metadata": {
    "collapsed": true
   },
   "outputs": [],
   "source": [
    "\"% 년 대한민국 상위 %  %% 가 우리 수업을 수강하고 계십니다\""
   ]
  },
  {
   "cell_type": "code",
   "execution_count": null,
   "metadata": {
    "collapsed": true
   },
   "outputs": [],
   "source": []
  },
  {
   "cell_type": "markdown",
   "metadata": {},
   "source": [
    "### 04 자릿수 조정하기\n",
    "default : 오른쪽 정렬\n",
    "\n",
    "    %c : character 문자 1개\n",
    "    %s : String 문자열\n",
    "    %d : integer 정수\n",
    "    %f : floating point 부동소수"
   ]
  },
  {
   "cell_type": "code",
   "execution_count": 26,
   "metadata": {},
   "outputs": [
    {
     "data": {
      "text/plain": [
       "'hi my friend.... Hello come to the real world'"
      ]
     },
     "execution_count": 26,
     "metadata": {},
     "output_type": "execute_result"
    }
   ],
   "source": [
    "## String\n",
    "\n",
    "#%6  s  (전체 입력공간의 최소크기를 지정)\n",
    "\"hi my friend.... %6s\" %\"Hello come to the real world\""
   ]
  },
  {
   "cell_type": "code",
   "execution_count": 27,
   "metadata": {},
   "outputs": [
    {
     "data": {
      "text/plain": [
       "'Oh!! my girl.... hello  jane'"
      ]
     },
     "execution_count": 27,
     "metadata": {},
     "output_type": "execute_result"
    }
   ],
   "source": [
    "#%-6  s  (전체 입력공간의 최소크기를 지정)\n",
    "# -6 : 왼쪽부터 정렬\n",
    "\"Oh!! my girl.... %-6s jane\" %\"hello\""
   ]
  },
  {
   "cell_type": "code",
   "execution_count": 28,
   "metadata": {},
   "outputs": [
    {
     "data": {
      "text/plain": [
       "'your ID number is    1020'"
      ]
     },
     "execution_count": 28,
     "metadata": {},
     "output_type": "execute_result"
    }
   ],
   "source": [
    "## Digit\n",
    "\n",
    "#%6 (전체 입력공간 크기 값)\n",
    "\"your ID number is  %6d\" %1020"
   ]
  },
  {
   "cell_type": "code",
   "execution_count": 29,
   "metadata": {},
   "outputs": [
    {
     "data": {
      "text/plain": [
       "'Pi * 100 is   3123.141592'"
      ]
     },
     "execution_count": 29,
     "metadata": {},
     "output_type": "execute_result"
    }
   ],
   "source": [
    "## float\n",
    "\n",
    "#%2f (입력은 가능하나 인식은 못 함)  # 코딩시 실수하는 부분!!\n",
    "\"Pi * 100 is   %2f\" %3123.141592"
   ]
  },
  {
   "cell_type": "code",
   "execution_count": 30,
   "metadata": {},
   "outputs": [
    {
     "data": {
      "text/plain": [
       "'Pi * 100 is   3123.14'"
      ]
     },
     "execution_count": 30,
     "metadata": {},
     "output_type": "execute_result"
    }
   ],
   "source": [
    "#%.2f (소숫점 자리 수)\n",
    "\"Pi * 100 is   %0.2f\" %3123.141592"
   ]
  },
  {
   "cell_type": "code",
   "execution_count": 31,
   "metadata": {},
   "outputs": [
    {
     "data": {
      "text/plain": [
       "'Pi is   3.12314'"
      ]
     },
     "execution_count": 31,
     "metadata": {},
     "output_type": "execute_result"
    }
   ],
   "source": [
    "#%.2f (소숫점 자리 수)\n",
    "\"Pi is   %.5f\" %3.123141592"
   ]
  },
  {
   "cell_type": "markdown",
   "metadata": {
    "collapsed": true
   },
   "source": [
    "## QUIZ 01\n",
    "    price = ['100원' , '20,000원' , '1,000,000원']\n",
    "    를 총 10개칸의 오른쪽 정렬로 일괄 출력을 하자"
   ]
  },
  {
   "cell_type": "code",
   "execution_count": 77,
   "metadata": {},
   "outputs": [
    {
     "name": "stdout",
     "output_type": "stream",
     "text": [
      "      100원\n",
      "   20,000원\n",
      "1,000,000원\n"
     ]
    }
   ],
   "source": [
    "price = ['100원' , '20,000원' , '1,000,000원']\n",
    "for i in price:\n",
    "    print('%10s'%i)"
   ]
  },
  {
   "cell_type": "code",
   "execution_count": null,
   "metadata": {
    "collapsed": true
   },
   "outputs": [],
   "source": []
  },
  {
   "cell_type": "markdown",
   "metadata": {},
   "source": [
    "### 05 기타 string 관련 메소드 들\n",
    "아.. 이런게있구나 알아두는 정도\n",
    "\n",
    "실무 - Web Crawling/ pdf 문서의 오타/ 파일의 이름 변경등.. 다양한 전처리.. import re 를 더 많이 쓴다 ('정규표현식'의 문법에 익숙하므로)\n",
    "\n",
    "    .count()\n",
    "    .find()\n",
    "    .index()\n",
    "    .join()\n",
    "\n",
    "    .strip()   # 모든 공백제거\n",
    "    .lstrip()  # 왼쪽 공백만 제거\n",
    "    .rstrip()  # 오른쪽 공백만 제거\n",
    "\n",
    "    .replace()\n",
    "    .strip()"
   ]
  },
  {
   "cell_type": "code",
   "execution_count": 1,
   "metadata": {
    "collapsed": true
   },
   "outputs": [],
   "source": [
    "a = 'Accoutant'"
   ]
  },
  {
   "cell_type": "code",
   "execution_count": 3,
   "metadata": {},
   "outputs": [
    {
     "data": {
      "text/plain": [
       "1"
      ]
     },
     "execution_count": 3,
     "metadata": {},
     "output_type": "execute_result"
    }
   ],
   "source": [
    "# .count()\n",
    "a.count('A')"
   ]
  },
  {
   "cell_type": "code",
   "execution_count": 4,
   "metadata": {},
   "outputs": [
    {
     "data": {
      "text/plain": [
       "2"
      ]
     },
     "execution_count": 4,
     "metadata": {},
     "output_type": "execute_result"
    }
   ],
   "source": [
    "a.count('c')"
   ]
  },
  {
   "cell_type": "code",
   "execution_count": 5,
   "metadata": {},
   "outputs": [
    {
     "data": {
      "text/plain": [
       "5"
      ]
     },
     "execution_count": 5,
     "metadata": {},
     "output_type": "execute_result"
    }
   ],
   "source": [
    "# .index()\n",
    "a.index('t')"
   ]
  },
  {
   "cell_type": "code",
   "execution_count": 7,
   "metadata": {},
   "outputs": [
    {
     "ename": "ValueError",
     "evalue": "substring not found",
     "output_type": "error",
     "traceback": [
      "\u001b[0;31m---------------------------------------------------------------------------\u001b[0m",
      "\u001b[0;31mValueError\u001b[0m                                Traceback (most recent call last)",
      "\u001b[0;32m<ipython-input-7-628bdf79192a>\u001b[0m in \u001b[0;36m<module>\u001b[0;34m()\u001b[0m\n\u001b[0;32m----> 1\u001b[0;31m \u001b[0ma\u001b[0m\u001b[0;34m.\u001b[0m\u001b[0mindex\u001b[0m\u001b[0;34m(\u001b[0m\u001b[0;34m'z'\u001b[0m\u001b[0;34m)\u001b[0m\u001b[0;34m\u001b[0m\u001b[0m\n\u001b[0m",
      "\u001b[0;31mValueError\u001b[0m: substring not found"
     ]
    }
   ],
   "source": [
    "a.index('z')"
   ]
  },
  {
   "cell_type": "code",
   "execution_count": 8,
   "metadata": {},
   "outputs": [
    {
     "data": {
      "text/plain": [
       "'KAccoutantoAccoutantrAccoutanteAccoutanta'"
      ]
     },
     "execution_count": 8,
     "metadata": {},
     "output_type": "execute_result"
    }
   ],
   "source": [
    "# .join()\n",
    "a.join('Korea')"
   ]
  },
  {
   "cell_type": "code",
   "execution_count": 9,
   "metadata": {},
   "outputs": [
    {
     "data": {
      "text/plain": [
       "'KoreaAccoutant'"
      ]
     },
     "execution_count": 9,
     "metadata": {},
     "output_type": "execute_result"
    }
   ],
   "source": [
    "'Korea' + a"
   ]
  },
  {
   "cell_type": "code",
   "execution_count": 11,
   "metadata": {},
   "outputs": [
    {
     "data": {
      "text/plain": [
       "' I am a South Korea Accountant'"
      ]
     },
     "execution_count": 11,
     "metadata": {},
     "output_type": "execute_result"
    }
   ],
   "source": [
    "# replace()\n",
    "b = ' I am a Japan Accountant'\n",
    "b.replace('Japan', 'South Korea')"
   ]
  },
  {
   "cell_type": "code",
   "execution_count": 12,
   "metadata": {},
   "outputs": [
    {
     "data": {
      "text/plain": [
       "['I', 'am', 'a', 'Japanease', 'Accountant']"
      ]
     },
     "execution_count": 12,
     "metadata": {},
     "output_type": "execute_result"
    }
   ],
   "source": [
    "# split()   # 기본은 '공백'을 기준으로 나눈다\n",
    "b.split()"
   ]
  },
  {
   "cell_type": "code",
   "execution_count": 13,
   "metadata": {},
   "outputs": [
    {
     "data": {
      "text/plain": [
       "['이번', '결산월', '회계작업에', '투입', '가능한', '인원은', '2명', '에', '불과하다']"
      ]
     },
     "execution_count": 13,
     "metadata": {},
     "output_type": "execute_result"
    }
   ],
   "source": [
    "c = '이번\\t결산월\\t회계작업에\\t투입\\t가능한\\t인원은\\t2명\\t에\\t불과하다'\n",
    "c.split('\\t')"
   ]
  },
  {
   "cell_type": "markdown",
   "metadata": {},
   "source": [
    "## Quiz \n",
    "    import glob\n",
    "    filename = glob.glob('./*.*') \n",
    "    을 for 반복문을 활용해서 폴더 , 파일이름 , 확장자를 구별해서 화면에 출력하라"
   ]
  },
  {
   "cell_type": "code",
   "execution_count": 19,
   "metadata": {
    "collapsed": true
   },
   "outputs": [],
   "source": [
    "import glob\n",
    "filelist = glob.glob('./*.*')"
   ]
  },
  {
   "cell_type": "code",
   "execution_count": 20,
   "metadata": {},
   "outputs": [
    {
     "name": "stdout",
     "output_type": "stream",
     "text": [
      "['', '/daum', 'csv']\n",
      "['', '/04', 'Wavelet analysis', 'ipynb']\n",
      "['', '/02', 'functions_method', 'ipynb']\n",
      "['', '/Tut_Finance01', 'ipynb']\n",
      "['', '/03', 'pandas', 'ipynb']\n",
      "['', '/sklearn01', 'intro', 'ipynb']\n",
      "['', '/intro', 'py']\n",
      "['', '/01', 'Introduction', 'ipynb']\n",
      "['', '/05', 'Time_Series', 'ipynb']\n",
      "['', '/Tut_Finance02', 'ipynb']\n"
     ]
    }
   ],
   "source": [
    "for file in filelist:\n",
    "    print(file.split('.'))"
   ]
  },
  {
   "cell_type": "code",
   "execution_count": null,
   "metadata": {
    "collapsed": true
   },
   "outputs": [],
   "source": []
  },
  {
   "cell_type": "code",
   "execution_count": null,
   "metadata": {
    "collapsed": true
   },
   "outputs": [],
   "source": []
  },
  {
   "cell_type": "markdown",
   "metadata": {},
   "source": [
    "### 06 .format()\n",
    "'index값' 과 '속성값' 2개를 {dict} 포맷을 활용해서 적용한다"
   ]
  },
  {
   "cell_type": "code",
   "execution_count": 23,
   "metadata": {},
   "outputs": [
    {
     "data": {
      "text/plain": [
       "'I eat apple apple'"
      ]
     },
     "execution_count": 23,
     "metadata": {},
     "output_type": "execute_result"
    }
   ],
   "source": [
    "# ' { index } '.format( tuple )  # 변하지 않을 값을 사용자가 입력한다, tuple의 활용 예.. \n",
    "\"I {0} {1} apple\".format('eat','apple') "
   ]
  },
  {
   "cell_type": "code",
   "execution_count": 24,
   "metadata": {},
   "outputs": [
    {
     "data": {
      "text/plain": [
       "'I eat apple apple eat'"
      ]
     },
     "execution_count": 24,
     "metadata": {},
     "output_type": "execute_result"
    }
   ],
   "source": [
    "# {} 객체를 쓰면 반복적인 작업에도 유용하다\n",
    "\"I {0} {1} apple {0}\".format('eat','apple') "
   ]
  },
  {
   "cell_type": "code",
   "execution_count": 25,
   "metadata": {},
   "outputs": [
    {
     "data": {
      "text/plain": [
       "'I ate 3.14 apples. so I was sick for three days'"
      ]
     },
     "execution_count": 25,
     "metadata": {},
     "output_type": "execute_result"
    }
   ],
   "source": [
    "# { index : 0.2f } 2자리까지 출력\n",
    "number = 3.141592\n",
    "day = \"three\"\n",
    "\"I ate {0:0.2f} apples. so I was sick for {1} days\".format(number, day)"
   ]
  },
  {
   "cell_type": "code",
   "execution_count": 1,
   "metadata": {},
   "outputs": [
    {
     "data": {
      "text/plain": [
       "'I ate 314.159200% apples. so I was sick for three days'"
      ]
     },
     "execution_count": 1,
     "metadata": {},
     "output_type": "execute_result"
    }
   ],
   "source": [
    "# { index : % } 해당 float를 %로 변환해서 출력\n",
    "number = 3.141592\n",
    "day = \"three\"\n",
    "\"I ate {0:%} apples. so I was sick for {1} days\".format(number, day)"
   ]
  },
  {
   "cell_type": "code",
   "execution_count": 2,
   "metadata": {},
   "outputs": [
    {
     "data": {
      "text/plain": [
       "'I ate 3.141592e+00 apples. so I was sick for three days'"
      ]
     },
     "execution_count": 2,
     "metadata": {},
     "output_type": "execute_result"
    }
   ],
   "source": [
    "# { index : e } 해당 float를 10진수 포맷으로 변환해서 출력\n",
    "number = 3.141592\n",
    "day = \"three\"\n",
    "\"I ate {0:e} apples. so I was sick for {1} days\".format(number, day)"
   ]
  },
  {
   "cell_type": "code",
   "execution_count": 32,
   "metadata": {},
   "outputs": [
    {
     "data": {
      "text/plain": [
       "'I ate 3.141592         apples. so I was sick for three days'"
      ]
     },
     "execution_count": 32,
     "metadata": {},
     "output_type": "execute_result"
    }
   ],
   "source": [
    "# { index : <  왼쪽 정렬 자릿수 }\n",
    "number = 3.141592\n",
    "day = \"three\"\n",
    "\"I ate {0:<16} apples. so I was sick for {1} days\".format(number, day)"
   ]
  },
  {
   "cell_type": "code",
   "execution_count": 33,
   "metadata": {},
   "outputs": [
    {
     "data": {
      "text/plain": [
       "'I ate         3.141592 apples. so I was sick for three days'"
      ]
     },
     "execution_count": 33,
     "metadata": {},
     "output_type": "execute_result"
    }
   ],
   "source": [
    "# { index : >  오른쪽 정렬 자릿수 }\n",
    "number = 3.141592\n",
    "day = \"three\"\n",
    "\"I ate {0:>16} apples. so I was sick for {1} days\".format(number, day)"
   ]
  },
  {
   "cell_type": "code",
   "execution_count": 34,
   "metadata": {},
   "outputs": [
    {
     "data": {
      "text/plain": [
       "'I ate     3.141592     apples. so I was sick for three days'"
      ]
     },
     "execution_count": 34,
     "metadata": {},
     "output_type": "execute_result"
    }
   ],
   "source": [
    "# { index : ^  가운데 정렬 자릿수 }\n",
    "number = 3.141592\n",
    "day = \"three\"\n",
    "\"I ate {0:^16} apples. so I was sick for {1} days\".format(number, day)"
   ]
  },
  {
   "cell_type": "code",
   "execution_count": 35,
   "metadata": {},
   "outputs": [
    {
     "data": {
      "text/plain": [
       "'I ate ----3.141592---- apples. so I was sick for three days'"
      ]
     },
     "execution_count": 35,
     "metadata": {},
     "output_type": "execute_result"
    }
   ],
   "source": [
    "# { index : 공백 채울 내용 ^ 자릿수 }\n",
    "number = 3.141592\n",
    "day = \"three\"\n",
    "\"I ate {0:-^16} apples. so I was sick for {1} days\".format(number, day)"
   ]
  },
  {
   "cell_type": "markdown",
   "metadata": {},
   "source": [
    "## Quiz 1\n",
    "\n",
    "    pi = 3.14159215\n",
    "    .format 함수를 활용해서\n",
    "    'Pi number is 3.14'로 출력하라\n",
    "\n",
    "    hint>> \"Pi number is {0:  }\".format()"
   ]
  },
  {
   "cell_type": "markdown",
   "metadata": {},
   "source": [
    "## Quiz 2\n",
    "\n",
    "    ['+0.17%', '-0.25%', '-0.17%', '-2.49%', '+0.82%', '+0.83%']\n",
    "    결과를 %를 삭제한 소숫점 5자리 실수로 변경해보자\n",
    "    \n",
    "    hint>> .replce('%', '') "
   ]
  },
  {
   "cell_type": "code",
   "execution_count": 37,
   "metadata": {},
   "outputs": [
    {
     "data": {
      "text/plain": [
       "['+0.17%', '-0.25%', '-0.17%', '-2.49%', '+0.82%', '+0.83%']"
      ]
     },
     "execution_count": 37,
     "metadata": {},
     "output_type": "execute_result"
    }
   ],
   "source": [
    "from intro import naver_short_table\n",
    "table = naver_short_table('005930')\n",
    "rates = list(table.등락률)\n",
    "rates"
   ]
  },
  {
   "cell_type": "code",
   "execution_count": 46,
   "metadata": {},
   "outputs": [
    {
     "name": "stdout",
     "output_type": "stream",
     "text": [
      "0.00170\n",
      "-0.00250\n",
      "-0.00170\n",
      "-0.02490\n",
      "0.00820\n",
      "0.00830\n"
     ]
    }
   ],
   "source": [
    "for rate in rates:\n",
    "    rate = rate.replace('%', '')  # % 가 제외된 실수형태의 string\n",
    "    rate = float(rate)/100        # string 을 float으로 변경 후 100을 나눈다\n",
    "    print(\"%0.5f\" % rate)         # float 결과를 5자릿수를 맞춰서 화면에 출력한다"
   ]
  },
  {
   "cell_type": "code",
   "execution_count": null,
   "metadata": {
    "collapsed": true
   },
   "outputs": [],
   "source": []
  },
  {
   "cell_type": "code",
   "execution_count": null,
   "metadata": {
    "collapsed": true
   },
   "outputs": [],
   "source": []
  },
  {
   "cell_type": "markdown",
   "metadata": {},
   "source": [
    "## 6  [ list ] 객체 가공 총정리\n",
    "Python 의 자료관리의 Basic 기초, 다른 자료형 공부시 항상 [ list ] 에서 파생하며 공부 할 것!!"
   ]
  },
  {
   "cell_type": "markdown",
   "metadata": {},
   "source": [
    "### 01 자료 살펴보기\n",
    "indexing, slicing"
   ]
  },
  {
   "cell_type": "code",
   "execution_count": 65,
   "metadata": {
    "collapsed": true
   },
   "outputs": [],
   "source": [
    "a = [ 1 , 2 , 3 , [11, 12, 13]]  # 2차원 자료"
   ]
  },
  {
   "cell_type": "code",
   "execution_count": 66,
   "metadata": {},
   "outputs": [
    {
     "data": {
      "text/plain": [
       "[3, [11, 12, 13]]"
      ]
     },
     "execution_count": 66,
     "metadata": {},
     "output_type": "execute_result"
    }
   ],
   "source": [
    "# Slicing\n",
    "a[2:]"
   ]
  },
  {
   "cell_type": "code",
   "execution_count": 67,
   "metadata": {},
   "outputs": [
    {
     "data": {
      "text/plain": [
       "[11, 12, 13]"
      ]
     },
     "execution_count": 67,
     "metadata": {},
     "output_type": "execute_result"
    }
   ],
   "source": [
    "a[-1]"
   ]
  },
  {
   "cell_type": "code",
   "execution_count": 68,
   "metadata": {},
   "outputs": [
    {
     "data": {
      "text/plain": [
       "11"
      ]
     },
     "execution_count": 68,
     "metadata": {},
     "output_type": "execute_result"
    }
   ],
   "source": [
    "a[-1][0] # slice in 2dim"
   ]
  },
  {
   "cell_type": "markdown",
   "metadata": {},
   "source": [
    "### 02 Appending\n",
    "자료 추가하기"
   ]
  },
  {
   "cell_type": "code",
   "execution_count": 69,
   "metadata": {},
   "outputs": [
    {
     "data": {
      "text/plain": [
       "[1, 2, 3, [11, 12, 13], [10, 20, 30]]"
      ]
     },
     "execution_count": 69,
     "metadata": {},
     "output_type": "execute_result"
    }
   ],
   "source": [
    "a.append(b)\n",
    "a"
   ]
  },
  {
   "cell_type": "code",
   "execution_count": 70,
   "metadata": {},
   "outputs": [
    {
     "data": {
      "text/plain": [
       "[100, 2, 3, [11, 12, 13], [10, 20, 30]]"
      ]
     },
     "execution_count": 70,
     "metadata": {},
     "output_type": "execute_result"
    }
   ],
   "source": [
    "a[0] = 100  # 데이터 교체\n",
    "a"
   ]
  },
  {
   "cell_type": "code",
   "execution_count": 71,
   "metadata": {},
   "outputs": [
    {
     "data": {
      "text/plain": [
       "[[100, 200, 300], 100, 2, 3, [11, 12, 13], [10, 20, 30]]"
      ]
     },
     "execution_count": 71,
     "metadata": {},
     "output_type": "execute_result"
    }
   ],
   "source": [
    "# .insert( index , data )  \n",
    "# 데이터를 index 위치에 추가하고, \n",
    "# index 뒤 데이터들을 1자리씩 뒤로 자동으로 옮겨준다\n",
    "a.insert(0, [100, 200, 300])\n",
    "a"
   ]
  },
  {
   "cell_type": "code",
   "execution_count": 72,
   "metadata": {},
   "outputs": [
    {
     "data": {
      "text/plain": [
       "[[100, 200, 300], 100, 2, 3, [11, 12, 13], [10, 20, 30], 10, 20, 30]"
      ]
     },
     "execution_count": 72,
     "metadata": {},
     "output_type": "execute_result"
    }
   ],
   "source": [
    "b = [10, 20, 30]\n",
    "c = a + b\n",
    "c"
   ]
  },
  {
   "cell_type": "markdown",
   "metadata": {},
   "source": [
    "### 03 Delete\n",
    "자료 삭제하기"
   ]
  },
  {
   "cell_type": "code",
   "execution_count": 73,
   "metadata": {},
   "outputs": [
    {
     "data": {
      "text/plain": [
       "[10, 20, 30]"
      ]
     },
     "execution_count": 73,
     "metadata": {},
     "output_type": "execute_result"
    }
   ],
   "source": [
    "# .append() 연산직후, 결과를 되돌릴때, insert 로 늘어난 길이를 1 줄일떄\n",
    "# .pop() 으로 날라가는 자료를 화면에 출력\n",
    "a.pop()  "
   ]
  },
  {
   "cell_type": "code",
   "execution_count": 78,
   "metadata": {},
   "outputs": [
    {
     "data": {
      "text/plain": [
       "[[100, 200, 300], 100, [10, 20, 30], 10, 20, 30]"
      ]
     },
     "execution_count": 78,
     "metadata": {},
     "output_type": "execute_result"
    }
   ],
   "source": [
    "# slicing 문법을 활용해서 삭제하기\n",
    "c[2:5] = []\n",
    "c"
   ]
  },
  {
   "cell_type": "code",
   "execution_count": 79,
   "metadata": {},
   "outputs": [
    {
     "data": {
      "text/plain": [
       "[[], 100, [10, 20, 30], 10, 20, 30]"
      ]
     },
     "execution_count": 79,
     "metadata": {},
     "output_type": "execute_result"
    }
   ],
   "source": [
    "# index 를 활용해서 삭제하기\n",
    "# 빈 [ list ] 가 대신 입력되어서 깔끔하지 못하다\n",
    "c[0] = []\n",
    "c"
   ]
  },
  {
   "cell_type": "code",
   "execution_count": 81,
   "metadata": {},
   "outputs": [
    {
     "data": {
      "text/plain": [
       "[100, [10, 20, 30], 10, 20, 30]"
      ]
     },
     "execution_count": 81,
     "metadata": {},
     "output_type": "execute_result"
    }
   ],
   "source": [
    "del c[0]\n",
    "c"
   ]
  },
  {
   "cell_type": "code",
   "execution_count": 82,
   "metadata": {},
   "outputs": [
    {
     "data": {
      "text/plain": [
       "[20, 30]"
      ]
     },
     "execution_count": 82,
     "metadata": {},
     "output_type": "execute_result"
    }
   ],
   "source": [
    "# .remove()  # value 값을 지정하면 해당하는 최초 index 값만 삭제한다\n",
    "b.remove(30)  "
   ]
  },
  {
   "cell_type": "code",
   "execution_count": 83,
   "metadata": {},
   "outputs": [
    {
     "data": {
      "text/plain": [
       "[10, 20, 30, 50, 10, 60, 80, 10]"
      ]
     },
     "execution_count": 83,
     "metadata": {},
     "output_type": "execute_result"
    }
   ],
   "source": [
    "d = [10, 10, 20, 30, 50, 10, 60 ,80, 10]\n",
    "d.remove(10)\n",
    "d"
   ]
  },
  {
   "cell_type": "markdown",
   "metadata": {},
   "source": [
    "### 05 .sort()\n",
    "기본설정 : 오름차순"
   ]
  },
  {
   "cell_type": "code",
   "execution_count": 89,
   "metadata": {},
   "outputs": [
    {
     "data": {
      "text/plain": [
       "[10, 9, 8, 7, 6, 5, 4, 3, 2, 1]"
      ]
     },
     "execution_count": 89,
     "metadata": {},
     "output_type": "execute_result"
    }
   ],
   "source": [
    "a = [ i  for i in range(10,0,-1)]\n",
    "a"
   ]
  },
  {
   "cell_type": "code",
   "execution_count": 90,
   "metadata": {},
   "outputs": [
    {
     "data": {
      "text/plain": [
       "[1, 2, 3, 4, 5, 6, 7, 8, 9, 10]"
      ]
     },
     "execution_count": 90,
     "metadata": {},
     "output_type": "execute_result"
    }
   ],
   "source": [
    "a.sort()\n",
    "a"
   ]
  },
  {
   "cell_type": "code",
   "execution_count": 93,
   "metadata": {},
   "outputs": [
    {
     "data": {
      "text/plain": [
       "[10, 9, 8, 7, 6, 5, 4, 3, 2, 1]"
      ]
     },
     "execution_count": 93,
     "metadata": {},
     "output_type": "execute_result"
    }
   ],
   "source": [
    "# reverse 옵션을 활성화\n",
    "a.sort(reverse=True)\n",
    "a"
   ]
  },
  {
   "cell_type": "code",
   "execution_count": 95,
   "metadata": {},
   "outputs": [
    {
     "data": {
      "text/plain": [
       "['Daegu', 'In-chon', 'Pusan', 'Seoul']"
      ]
     },
     "execution_count": 95,
     "metadata": {},
     "output_type": "execute_result"
    }
   ],
   "source": [
    "# 알파벳 순서도 똑같이 정렬을 해준다\n",
    "korea = ['Seoul','In-chon','Pusan', 'Daegu']\n",
    "korea.sort()\n",
    "korea"
   ]
  },
  {
   "cell_type": "code",
   "execution_count": 96,
   "metadata": {},
   "outputs": [
    {
     "data": {
      "text/plain": [
       "['대구', '대전', '부산', '서울']"
      ]
     },
     "execution_count": 96,
     "metadata": {},
     "output_type": "execute_result"
    }
   ],
   "source": [
    "# 한글의 규칙도 알아서 적용 (시스템 상의 언어팩 데이터를 기초로 정렬)\n",
    "korea = ['서울', '대전', '대구', '부산']\n",
    "korea.sort()\n",
    "korea"
   ]
  },
  {
   "cell_type": "code",
   "execution_count": 97,
   "metadata": {},
   "outputs": [
    {
     "data": {
      "text/plain": [
       "['서울', '부산', '대전', '대구']"
      ]
     },
     "execution_count": 97,
     "metadata": {},
     "output_type": "execute_result"
    }
   ],
   "source": [
    "# .reverse() : 있다는 건만 눈으로 확인, 실무에선 위 .sort() 메소드만 쓰자!\n",
    "korea.reverse()\n",
    "korea"
   ]
  },
  {
   "cell_type": "code",
   "execution_count": 98,
   "metadata": {
    "collapsed": true
   },
   "outputs": [],
   "source": [
    "# [ list ] 데이터 활용하기\n",
    "# 찾기   : [n1] indexing, [n1:n2] slicing\n",
    "# 더하기  : .append(객체) , .insert(index주소, 객체) , + \n",
    "# 제거하기 : .remove(객체), .pop() , list[n1:n2] = [] , del list[index주소]\n",
    "# 정렬 : .sort(reverse=False) , .reverse()"
   ]
  },
  {
   "cell_type": "code",
   "execution_count": null,
   "metadata": {
    "collapsed": true
   },
   "outputs": [],
   "source": []
  }
 ],
 "metadata": {
  "kernelspec": {
   "display_name": "Python 3",
   "language": "python",
   "name": "python3"
  },
  "language_info": {
   "codemirror_mode": {
    "name": "ipython",
    "version": 3
   },
   "file_extension": ".py",
   "mimetype": "text/x-python",
   "name": "python",
   "nbconvert_exporter": "python",
   "pygments_lexer": "ipython3",
   "version": "3.6.1"
  }
 },
 "nbformat": 4,
 "nbformat_minor": 2
}
