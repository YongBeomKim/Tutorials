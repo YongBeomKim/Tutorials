{
 "cells": [
  {
   "cell_type": "markdown",
   "metadata": {},
   "source": [
    "# Tutorial 04"
   ]
  },
  {
   "cell_type": "markdown",
   "metadata": {},
   "source": [
    "## 0 Review()"
   ]
  },
  {
   "cell_type": "code",
   "execution_count": 1,
   "metadata": {
    "collapsed": true
   },
   "outputs": [],
   "source": [
    "# 파이썬 코딩의 기본 3요소\n",
    "# Data,  함수,  연결부호"
   ]
  },
  {
   "cell_type": "code",
   "execution_count": 2,
   "metadata": {
    "collapsed": true
   },
   "outputs": [],
   "source": [
    "# 01 Data\n",
    "\n",
    "# 숫자 (integer)\n",
    "# integer(정수) : index, slicing, counting\n",
    "# float(실수) : 연산\n",
    "\n",
    "# 문자 (string)\n",
    "# 'datum' :  문자와 문자의 사칙연산,  Indexing/ Slicing,  Counting....\n",
    "# data  :  매개변수\n",
    "# .format( tuple )\n",
    "\n",
    "# [ list ] :  integer index 값이 숨어있다. (0 ~ -1)\n",
    "# enumerate()  : enumerate - 열거하다 , 차례로 들다\n",
    "\n",
    "# { dict } :  { key : value }\n",
    "# .items()"
   ]
  },
  {
   "cell_type": "code",
   "execution_count": 3,
   "metadata": {
    "collapsed": true
   },
   "outputs": [],
   "source": [
    "# 02 연결부호\n",
    "\n",
    "# '' , \"\"  문자열 지정 (연산 불가능한 객체)\n",
    "# . 종속   \n",
    "# , 병렬나열\n",
    "# : 내부설계\n",
    "# = 입력\n",
    "\n",
    "# is           # if 판단문\n",
    "# == 대등조건\n",
    "# != 부 대등조건\n",
    "# in           # if 판단문, for 반복문\n",
    "# not in"
   ]
  },
  {
   "cell_type": "code",
   "execution_count": 4,
   "metadata": {
    "collapsed": true
   },
   "outputs": [],
   "source": [
    "# 03 함수\n",
    "\n",
    "# 반복문 : for, while, loop.....   \n",
    "#     1.list. dict같은 반복 조건이 필요\n",
    "#     2. 같은 조건/ 함수/ 내용을 반복\n",
    "#     3. range( start, end, step )\n",
    "\n",
    "# 판단문 : if    -  True / False\n",
    "    \n",
    "# [list 내부활용 함수문]"
   ]
  },
  {
   "cell_type": "code",
   "execution_count": 5,
   "metadata": {
    "collapsed": true
   },
   "outputs": [],
   "source": [
    "# 1. Series\n",
    "# 2. ndarray\n",
    "# 3. Dataframe : 생성/ 변경 "
   ]
  },
  {
   "cell_type": "code",
   "execution_count": 1,
   "metadata": {
    "collapsed": true
   },
   "outputs": [],
   "source": [
    "# 04. pandas Series\n",
    "\n",
    "# pd.Series( [ data ] , index = [ index ])\n",
    "\n",
    "# index, values\n",
    "# series.plot(kind = 'line')\n",
    "\n",
    "# series 사칙연산\n",
    "# series [ Boolean 함수 ]\n",
    "# series.index = [ list ]\n",
    "\n",
    "# series.isnull()\n",
    "# series.drop( )"
   ]
  },
  {
   "cell_type": "code",
   "execution_count": null,
   "metadata": {
    "collapsed": true
   },
   "outputs": [],
   "source": [
    "# 05. pandas DataFrame\n",
    "\n",
    "# pd.DataFrame( { columns :  [ data ] ,\n",
    "#                 columns :  [ data ] } )\n",
    "\n",
    "# df.column이름\n",
    "# df.rename( columns = { 기존 column , 새로운 column } )\n",
    "# df.insert( 컬럼순서,  컬럼명 ,  data )\n",
    "\n",
    "# df[ index Slicing ]\n",
    "# df.iloc[ index slicing,  column slicing ]\n",
    "# df.reset_index()        :  index  -> column\n",
    "# df.set_index( '컬럼명' ) :  column -> index"
   ]
  },
  {
   "cell_type": "code",
   "execution_count": null,
   "metadata": {
    "collapsed": true
   },
   "outputs": [],
   "source": [
    "# 06. pandas DataFrame\n",
    "\n",
    "# df[ boolean 함수 ].column이름\n",
    "\n",
    "# axis = 0 : index\n",
    "# axis = 1 : column\n",
    "# df.drop( 'index이름'  , axis = 0 )\n",
    "# df.drop( 'column이름' ,  axis = 1 )\n",
    "\n",
    "# df.index.tolist()\n",
    "# df.column.tolist()"
   ]
  },
  {
   "cell_type": "code",
   "execution_count": null,
   "metadata": {
    "collapsed": true
   },
   "outputs": [],
   "source": [
    "# df.sort_index ( axis = 0/1) \n",
    "# df.sort_value ( by = '인덱스/컬럼명' , axis = 0/1)\n",
    "\n",
    "# 테이블 기술통계 : 꼭 뒤에 ()를 붙여야 결과가 출력된다.\n",
    "\n",
    "# .count( axis = 0/1 , skipna = True/False)\n",
    "# .describe()\n",
    "# .min()     .max()\n",
    "# .idxmin()  .idxmax()\n",
    "# .quantile()   \n",
    "# .sum()\n",
    "# .mean()    .median()\n",
    "# .var()     .std()      분산      정규분산\n",
    "# .cov()     .corr()     공분산     표준편차\n",
    "# .cumsum()  .cumprod()  누적 합    누적 곱\n",
    "# .cummin()  .cummax()   누적최소값, 누적최대값"
   ]
  },
  {
   "cell_type": "code",
   "execution_count": null,
   "metadata": {
    "collapsed": true
   },
   "outputs": [],
   "source": [
    "# df / Series [ Series filter 조건 ]    # 조건이 True 인 index 를 기준으로 출력\n",
    "\n",
    "# df.iloc[ 인덱스 , 컬럼 ]   # Excel VBA 의 Cells 처럼 위치값 순서값만 인식\n",
    "#                         # 이를 통해서, 부분 잘라내기 및 재정렬을 할 수 있다.\n",
    "\n",
    "# df.ix[ 인덱스 , 컬럼 ]    # 위치값 과 인덱스 컬럼 이름으로 index 를 인식\n",
    "#                         # 인덱스/ 컬럼이 숫자로 구성된 경우, 이름을 우선적 기준으로 작동\n",
    "#                         # 이를 통해서, 부분 잘라내기 및 재정렬을 할 수 있다."
   ]
  },
  {
   "cell_type": "code",
   "execution_count": null,
   "metadata": {
    "collapsed": true
   },
   "outputs": [],
   "source": [
    "# 07. time()\n",
    "# time.time()            # timestamp 결과값을 출력 - 1970.1.1을 시작으로 초단위 값을 출력\n",
    "\n",
    "# 08. datetime()\n",
    "# datetime.datetime()    # 년 월 일 시 분 초를 각 각 구별가능한 객체로 출력\n",
    "# datetime.datetime.now()\n",
    "# datetime.datetime('2017', '01', '01, '12', '00', '00)\n",
    "# datetime객체 .strftime('%Y-%m-%d')           # 화면에 출력할 형태를 정의  \n",
    "#                                             # %는 .format() 을 재활용\n",
    "\n",
    "# pd.date_range( 'start date' , 'end date' , period =  , freq = )\n",
    "# df.ix[ '2015':'2017]                        # index 가 datetime 인 경우, 날짜값으로 slicing\n",
    "# series.rollind(묶음기준기간).mean()            # 묶음기간의 평균값을 계산한다"
   ]
  },
  {
   "cell_type": "code",
   "execution_count": null,
   "metadata": {
    "collapsed": true
   },
   "outputs": [],
   "source": [
    "# 08. lambda, filter, map \n",
    "# for 문은 무게가 크고 불필요한 정보도 메모리에 올려서 연산을 한다\n",
    "\n",
    "# map    : 연속된 객체에 '모두'에 연산할 함수들을 연결만 한다   # result( map 객체 )  : 순차적 처리\n",
    "# filter : 연속된 객체중 '조건이 True'인 객체의 결과만 저장한다. \n",
    "\n",
    "# lambda : 해당객체의 위치에서 연산하고, 결과를 출력하는 반복자 \n",
    "# for 문에 비해 개념이 어럽지만, 대용량 복잡한 처리시 속도차이가 크므로 자주 쓰도록 노력하자"
   ]
  },
  {
   "cell_type": "code",
   "execution_count": null,
   "metadata": {
    "collapsed": true
   },
   "outputs": [],
   "source": []
  },
  {
   "cell_type": "markdown",
   "metadata": {
    "collapsed": true
   },
   "source": [
    "## 6. Web Crawling\n",
    "웹의 데이터를 불러와서 활용하기\n",
    "\n",
    "https://developer.mozilla.org/ko/docs/Web/HTML/Element/table"
   ]
  },
  {
   "cell_type": "markdown",
   "metadata": {},
   "source": [
    "### 01 Web 페이지의 테이블 가져오기\n",
    "'http://dart.fss.or.kr/' 메인페이지 많이 본 문서 크롤링"
   ]
  },
  {
   "cell_type": "code",
   "execution_count": 41,
   "metadata": {},
   "outputs": [
    {
     "data": {
      "text/plain": [
       "5"
      ]
     },
     "execution_count": 41,
     "metadata": {},
     "output_type": "execute_result"
    }
   ],
   "source": [
    "# 웹 페이지 속 DataFrame 변환 가능한 테이블 모두 가져오기\n",
    "web_tables = pd.read_html('http://dart.fss.or.kr/')\n",
    "len(web_tables)"
   ]
  },
  {
   "cell_type": "code",
   "execution_count": 44,
   "metadata": {},
   "outputs": [
    {
     "data": {
      "text/html": [
       "<div>\n",
       "<table border=\"1\" class=\"dataframe\">\n",
       "  <thead>\n",
       "    <tr style=\"text-align: right;\">\n",
       "      <th></th>\n",
       "      <th>결산월</th>\n",
       "      <th>제출기한</th>\n",
       "      <th>보고서명</th>\n",
       "    </tr>\n",
       "  </thead>\n",
       "  <tbody>\n",
       "    <tr>\n",
       "      <th>0</th>\n",
       "      <td>3</td>\n",
       "      <td>2017-08-14  (08-29)</td>\n",
       "      <td>1분기보고서</td>\n",
       "    </tr>\n",
       "    <tr>\n",
       "      <th>1</th>\n",
       "      <td>9</td>\n",
       "      <td>2017-08-14  (08-29)</td>\n",
       "      <td>3분기보고서</td>\n",
       "    </tr>\n",
       "    <tr>\n",
       "      <th>2</th>\n",
       "      <td>12</td>\n",
       "      <td>2017-08-14  (08-29)</td>\n",
       "      <td>반기보고서</td>\n",
       "    </tr>\n",
       "    <tr>\n",
       "      <th>3</th>\n",
       "      <td>5</td>\n",
       "      <td>2017-08-29</td>\n",
       "      <td>사업보고서</td>\n",
       "    </tr>\n",
       "  </tbody>\n",
       "</table>\n",
       "</div>"
      ],
      "text/plain": [
       "   결산월                 제출기한    보고서명\n",
       "0    3  2017-08-14  (08-29)  1분기보고서\n",
       "1    9  2017-08-14  (08-29)  3분기보고서\n",
       "2   12  2017-08-14  (08-29)   반기보고서\n",
       "3    5           2017-08-29   사업보고서"
      ]
     },
     "execution_count": 44,
     "metadata": {},
     "output_type": "execute_result"
    }
   ],
   "source": [
    "web_tables[4]"
   ]
  },
  {
   "cell_type": "code",
   "execution_count": 49,
   "metadata": {},
   "outputs": [
    {
     "data": {
      "text/html": [
       "<div>\n",
       "<table border=\"1\" class=\"dataframe\">\n",
       "  <thead>\n",
       "    <tr style=\"text-align: right;\">\n",
       "      <th></th>\n",
       "      <th>순위</th>\n",
       "      <th>회사명</th>\n",
       "      <th>보고서명</th>\n",
       "    </tr>\n",
       "  </thead>\n",
       "  <tbody>\n",
       "    <tr>\n",
       "      <th>0</th>\n",
       "      <td>1</td>\n",
       "      <td>삼성전자</td>\n",
       "      <td>분기보고서</td>\n",
       "    </tr>\n",
       "    <tr>\n",
       "      <th>1</th>\n",
       "      <td>2</td>\n",
       "      <td>삼성전자</td>\n",
       "      <td>사업보고서</td>\n",
       "    </tr>\n",
       "    <tr>\n",
       "      <th>2</th>\n",
       "      <td>3</td>\n",
       "      <td>선진</td>\n",
       "      <td>반기보고서</td>\n",
       "    </tr>\n",
       "    <tr>\n",
       "      <th>3</th>\n",
       "      <td>4</td>\n",
       "      <td>현대종합상사</td>\n",
       "      <td>반기보고서</td>\n",
       "    </tr>\n",
       "    <tr>\n",
       "      <th>4</th>\n",
       "      <td>5</td>\n",
       "      <td>한국항공우주</td>\n",
       "      <td>풍문또는보도에대한해명(미확정)</td>\n",
       "    </tr>\n",
       "    <tr>\n",
       "      <th>0</th>\n",
       "      <td>6</td>\n",
       "      <td>대화제약</td>\n",
       "      <td>반기보고서</td>\n",
       "    </tr>\n",
       "    <tr>\n",
       "      <th>1</th>\n",
       "      <td>7</td>\n",
       "      <td>HB테크놀러지</td>\n",
       "      <td>반기보고서</td>\n",
       "    </tr>\n",
       "    <tr>\n",
       "      <th>2</th>\n",
       "      <td>8</td>\n",
       "      <td>컴투스</td>\n",
       "      <td>연결재무제표기준영업(잠정)실적(공정공시)</td>\n",
       "    </tr>\n",
       "    <tr>\n",
       "      <th>3</th>\n",
       "      <td>9</td>\n",
       "      <td>파라다이스</td>\n",
       "      <td>연결재무제표기준영업(잠정)실적(공정공시)</td>\n",
       "    </tr>\n",
       "    <tr>\n",
       "      <th>4</th>\n",
       "      <td>10</td>\n",
       "      <td>CS홀딩스</td>\n",
       "      <td>영업(잠정)실적(공정공시)</td>\n",
       "    </tr>\n",
       "    <tr>\n",
       "      <th>0</th>\n",
       "      <td>11</td>\n",
       "      <td>이테크건설</td>\n",
       "      <td>연결재무제표기준영업(잠정)실적(공정공시)</td>\n",
       "    </tr>\n",
       "    <tr>\n",
       "      <th>1</th>\n",
       "      <td>12</td>\n",
       "      <td>한국토지신탁</td>\n",
       "      <td>연결재무제표기준영업(잠정)실적(공정공시)</td>\n",
       "    </tr>\n",
       "    <tr>\n",
       "      <th>2</th>\n",
       "      <td>13</td>\n",
       "      <td>CJ E&amp;M</td>\n",
       "      <td>연결재무제표기준영업(잠정)실적(공정공시)</td>\n",
       "    </tr>\n",
       "    <tr>\n",
       "      <th>3</th>\n",
       "      <td>14</td>\n",
       "      <td>와이지-원</td>\n",
       "      <td>연결재무제표기준영업(잠정)실적(공정공시)</td>\n",
       "    </tr>\n",
       "    <tr>\n",
       "      <th>4</th>\n",
       "      <td>15</td>\n",
       "      <td>롯데쇼핑</td>\n",
       "      <td>반기보고서</td>\n",
       "    </tr>\n",
       "    <tr>\n",
       "      <th>0</th>\n",
       "      <td>16</td>\n",
       "      <td>파라다이스</td>\n",
       "      <td>연결재무제표기준영업(잠정)실적(공정공시)</td>\n",
       "    </tr>\n",
       "    <tr>\n",
       "      <th>1</th>\n",
       "      <td>17</td>\n",
       "      <td>테라세미콘</td>\n",
       "      <td>연결재무제표기준영업(잠정)실적(공정공시)</td>\n",
       "    </tr>\n",
       "    <tr>\n",
       "      <th>2</th>\n",
       "      <td>18</td>\n",
       "      <td>모다이노칩</td>\n",
       "      <td>연결재무제표기준영업(잠정)실적(공정공시)</td>\n",
       "    </tr>\n",
       "    <tr>\n",
       "      <th>3</th>\n",
       "      <td>19</td>\n",
       "      <td>인바디</td>\n",
       "      <td>연결재무제표기준영업(잠정)실적(공정공시)</td>\n",
       "    </tr>\n",
       "    <tr>\n",
       "      <th>4</th>\n",
       "      <td>20</td>\n",
       "      <td>이녹스첨단소재</td>\n",
       "      <td>연결재무제표기준영업(잠정)실적(공정공시)</td>\n",
       "    </tr>\n",
       "  </tbody>\n",
       "</table>\n",
       "</div>"
      ],
      "text/plain": [
       "   순위      회사명                    보고서명\n",
       "0   1     삼성전자                   분기보고서\n",
       "1   2     삼성전자                   사업보고서\n",
       "2   3       선진                   반기보고서\n",
       "3   4   현대종합상사                   반기보고서\n",
       "4   5   한국항공우주        풍문또는보도에대한해명(미확정)\n",
       "0   6     대화제약                   반기보고서\n",
       "1   7  HB테크놀러지                   반기보고서\n",
       "2   8      컴투스  연결재무제표기준영업(잠정)실적(공정공시)\n",
       "3   9    파라다이스  연결재무제표기준영업(잠정)실적(공정공시)\n",
       "4  10    CS홀딩스          영업(잠정)실적(공정공시)\n",
       "0  11    이테크건설  연결재무제표기준영업(잠정)실적(공정공시)\n",
       "1  12   한국토지신탁  연결재무제표기준영업(잠정)실적(공정공시)\n",
       "2  13   CJ E&M  연결재무제표기준영업(잠정)실적(공정공시)\n",
       "3  14    와이지-원  연결재무제표기준영업(잠정)실적(공정공시)\n",
       "4  15     롯데쇼핑                   반기보고서\n",
       "0  16    파라다이스  연결재무제표기준영업(잠정)실적(공정공시)\n",
       "1  17    테라세미콘  연결재무제표기준영업(잠정)실적(공정공시)\n",
       "2  18    모다이노칩  연결재무제표기준영업(잠정)실적(공정공시)\n",
       "3  19      인바디  연결재무제표기준영업(잠정)실적(공정공시)\n",
       "4  20  이녹스첨단소재  연결재무제표기준영업(잠정)실적(공정공시)"
      ]
     },
     "execution_count": 49,
     "metadata": {},
     "output_type": "execute_result"
    }
   ],
   "source": [
    "# 여러 테이블 합치기\n",
    "df = pd.concat([web_tables[0], web_tables[1], web_tables[2], web_tables[3]] ,axis = 0)\n",
    "df"
   ]
  },
  {
   "cell_type": "markdown",
   "metadata": {},
   "source": [
    "### 02 Web 페이지의 상세정보 가져오기\n",
    "'http://dart.fss.or.kr/' 메인페이지 많이 본 문서 url 값 가져오기"
   ]
  },
  {
   "cell_type": "code",
   "execution_count": 5,
   "metadata": {
    "collapsed": true
   },
   "outputs": [],
   "source": [
    "# Web 의 간단개요..\n",
    "\n",
    "# request ( 접속하는 사용자가 Server에 요청)          # 필요한 도서를 대출신청\n",
    "# response ( server 에서 결과값을 반응)             # 해당 도서를 빌려준다 / 도서가 없다 404\n",
    "\n",
    "# web crawling\n",
    "# 서버에서 response 한 정보중 내가 필요한 부분만 Scrap  # 도서 중 필요한 부분만 Scraping 한다\n",
    "# Scraping은 해당 도서가 잘 뜯기는 방향으로 잘 뜯는다    # Html Tag 구조를 간단하게 이해하기\n",
    "\n",
    "# 여기서는 해당 Web Page 의 Table 만을 기준으로 알아보자"
   ]
  },
  {
   "cell_type": "markdown",
   "metadata": {},
   "source": [
    "<table>\n",
    "  <tr>\n",
    "    <td>John</td>\n",
    "    <td>Doe</td>\n",
    "  </tr>\n",
    "  <tr>\n",
    "    <td>Jane</td>\n",
    "    <td>Doe</td>\n",
    "  </tr>\n",
    "</table>"
   ]
  },
  {
   "cell_type": "code",
   "execution_count": 30,
   "metadata": {
    "collapsed": true
   },
   "outputs": [],
   "source": [
    "div = ['tab1c1', 'tab1c2',  'tab1c3',  'tab1c4']"
   ]
  },
  {
   "cell_type": "code",
   "execution_count": 75,
   "metadata": {
    "collapsed": true
   },
   "outputs": [],
   "source": [
    "url = 'http://dart.fss.or.kr/'\n",
    "import requests\n",
    "response = requests.get(url)"
   ]
  },
  {
   "cell_type": "code",
   "execution_count": 66,
   "metadata": {},
   "outputs": [
    {
     "data": {
      "text/plain": [
       "['/dsae001/selectPopup.ax?selectKey=00126380',\n",
       " '/dsaf001/main.do?rcpNo=20170515003806',\n",
       " '/dsae001/selectPopup.ax?selectKey=00126380',\n",
       " '/dsaf001/main.do?rcpNo=20170331004518',\n",
       " '/dsae001/selectPopup.ax?selectKey=00855093',\n",
       " '/dsaf001/main.do?rcpNo=20170809000091',\n",
       " '/dsae001/selectPopup.ax?selectKey=00164812',\n",
       " '/dsaf001/main.do?rcpNo=20170808000375',\n",
       " '/dsae001/selectPopup.ax?selectKey=00309503',\n",
       " '/dsaf001/main.do?rcpNo=20170803800001']"
      ]
     },
     "execution_count": 66,
     "metadata": {},
     "output_type": "execute_result"
    }
   ],
   "source": [
    "from lxml.html import fromstring, tostring\n",
    "html = fromstring(response.text)\n",
    "\n",
    "# html 중 <table> 태그를 기준으로 xpath를 지정 한 부분의 html을 지정\n",
    "hrefs = html.xpath('//div[@id=\"tab1c1\"]//tr/td/a/@href')\n",
    "hrefs"
   ]
  },
  {
   "cell_type": "code",
   "execution_count": 69,
   "metadata": {},
   "outputs": [
    {
     "data": {
      "text/plain": [
       "['http://dart.fss.or.kr/dsaf001/main.do?rcpNo=20170515003806',\n",
       " 'http://dart.fss.or.kr/dsaf001/main.do?rcpNo=20170331004518',\n",
       " 'http://dart.fss.or.kr/dsaf001/main.do?rcpNo=20170809000091',\n",
       " 'http://dart.fss.or.kr/dsaf001/main.do?rcpNo=20170808000375',\n",
       " 'http://dart.fss.or.kr/dsaf001/main.do?rcpNo=20170803800001']"
      ]
     },
     "execution_count": 69,
     "metadata": {},
     "output_type": "execute_result"
    }
   ],
   "source": [
    "[url[:-1] + href   for href in hrefs    if href[9:13] == 'main']"
   ]
  },
  {
   "cell_type": "code",
   "execution_count": null,
   "metadata": {
    "collapsed": true
   },
   "outputs": [],
   "source": []
  },
  {
   "cell_type": "markdown",
   "metadata": {},
   "source": [
    "### 03 Web 페이지의 상세정보 가져오기\n",
    "for 반복문으로 정렬 및 위 테이블이 이어 붙이기"
   ]
  },
  {
   "cell_type": "code",
   "execution_count": 88,
   "metadata": {},
   "outputs": [
    {
     "data": {
      "text/plain": [
       "['http://dart.fss.or.kr/dsaf001/main.do?rcpNo=20170515003806',\n",
       " 'http://dart.fss.or.kr/dsaf001/main.do?rcpNo=20170331004518',\n",
       " 'http://dart.fss.or.kr/dsaf001/main.do?rcpNo=20170809000091',\n",
       " 'http://dart.fss.or.kr/dsaf001/main.do?rcpNo=20170808000375',\n",
       " 'http://dart.fss.or.kr/dsaf001/main.do?rcpNo=20170803800001',\n",
       " 'http://dart.fss.or.kr/dsaf001/main.do?rcpNo=20170808000123',\n",
       " 'http://dart.fss.or.kr/dsaf001/main.do?rcpNo=20170809000151',\n",
       " 'http://dart.fss.or.kr/dsaf001/main.do?rcpNo=20170808900012',\n",
       " 'http://dart.fss.or.kr/dsaf001/main.do?rcpNo=20170808900106',\n",
       " 'http://dart.fss.or.kr/dsaf001/main.do?rcpNo=20170808800226',\n",
       " 'http://dart.fss.or.kr/dsaf001/main.do?rcpNo=20170808900067',\n",
       " 'http://dart.fss.or.kr/dsaf001/main.do?rcpNo=20170808800176',\n",
       " 'http://dart.fss.or.kr/dsaf001/main.do?rcpNo=20170809900243',\n",
       " 'http://dart.fss.or.kr/dsaf001/main.do?rcpNo=20170808900262',\n",
       " 'http://dart.fss.or.kr/dsaf001/main.do?rcpNo=20170801000422',\n",
       " 'http://dart.fss.or.kr/dsaf001/main.do?rcpNo=20170808900105',\n",
       " 'http://dart.fss.or.kr/dsaf001/main.do?rcpNo=20170808900132',\n",
       " 'http://dart.fss.or.kr/dsaf001/main.do?rcpNo=20170808900196',\n",
       " 'http://dart.fss.or.kr/dsaf001/main.do?rcpNo=20170808900080',\n",
       " 'http://dart.fss.or.kr/dsaf001/main.do?rcpNo=20170808900147']"
      ]
     },
     "execution_count": 88,
     "metadata": {},
     "output_type": "execute_result"
    }
   ],
   "source": [
    "url = 'http://dart.fss.or.kr/'\n",
    "div = [\"tab1c1\", 'tab1c2',  'tab1c3',  'tab1c4']\n",
    "response = requests.get(url)\n",
    "html = fromstring(response.text)\n",
    "result = []\n",
    "for di in div:\n",
    "    hrefs = html.xpath('//div[@id=\"'+di+'\"]//tr/td/a/@href')\n",
    "    hrefs = [url[:-1] + href   for href in hrefs    if href[9:13] == 'main']\n",
    "    result = result + hrefs\n",
    "result"
   ]
  },
  {
   "cell_type": "code",
   "execution_count": 90,
   "metadata": {},
   "outputs": [
    {
     "data": {
      "text/html": [
       "<div>\n",
       "<table border=\"1\" class=\"dataframe\">\n",
       "  <thead>\n",
       "    <tr style=\"text-align: right;\">\n",
       "      <th></th>\n",
       "      <th>순위</th>\n",
       "      <th>회사명</th>\n",
       "      <th>보고서명</th>\n",
       "      <th>urls</th>\n",
       "    </tr>\n",
       "  </thead>\n",
       "  <tbody>\n",
       "    <tr>\n",
       "      <th>0</th>\n",
       "      <td>1</td>\n",
       "      <td>삼성전자</td>\n",
       "      <td>분기보고서</td>\n",
       "      <td>http://dart.fss.or.kr/dsaf001/main.do?rcpNo=20...</td>\n",
       "    </tr>\n",
       "    <tr>\n",
       "      <th>1</th>\n",
       "      <td>2</td>\n",
       "      <td>삼성전자</td>\n",
       "      <td>사업보고서</td>\n",
       "      <td>http://dart.fss.or.kr/dsaf001/main.do?rcpNo=20...</td>\n",
       "    </tr>\n",
       "    <tr>\n",
       "      <th>2</th>\n",
       "      <td>3</td>\n",
       "      <td>선진</td>\n",
       "      <td>반기보고서</td>\n",
       "      <td>http://dart.fss.or.kr/dsaf001/main.do?rcpNo=20...</td>\n",
       "    </tr>\n",
       "    <tr>\n",
       "      <th>3</th>\n",
       "      <td>4</td>\n",
       "      <td>현대종합상사</td>\n",
       "      <td>반기보고서</td>\n",
       "      <td>http://dart.fss.or.kr/dsaf001/main.do?rcpNo=20...</td>\n",
       "    </tr>\n",
       "    <tr>\n",
       "      <th>4</th>\n",
       "      <td>5</td>\n",
       "      <td>한국항공우주</td>\n",
       "      <td>풍문또는보도에대한해명(미확정)</td>\n",
       "      <td>http://dart.fss.or.kr/dsaf001/main.do?rcpNo=20...</td>\n",
       "    </tr>\n",
       "    <tr>\n",
       "      <th>0</th>\n",
       "      <td>6</td>\n",
       "      <td>대화제약</td>\n",
       "      <td>반기보고서</td>\n",
       "      <td>http://dart.fss.or.kr/dsaf001/main.do?rcpNo=20...</td>\n",
       "    </tr>\n",
       "    <tr>\n",
       "      <th>1</th>\n",
       "      <td>7</td>\n",
       "      <td>HB테크놀러지</td>\n",
       "      <td>반기보고서</td>\n",
       "      <td>http://dart.fss.or.kr/dsaf001/main.do?rcpNo=20...</td>\n",
       "    </tr>\n",
       "    <tr>\n",
       "      <th>2</th>\n",
       "      <td>8</td>\n",
       "      <td>컴투스</td>\n",
       "      <td>연결재무제표기준영업(잠정)실적(공정공시)</td>\n",
       "      <td>http://dart.fss.or.kr/dsaf001/main.do?rcpNo=20...</td>\n",
       "    </tr>\n",
       "    <tr>\n",
       "      <th>3</th>\n",
       "      <td>9</td>\n",
       "      <td>파라다이스</td>\n",
       "      <td>연결재무제표기준영업(잠정)실적(공정공시)</td>\n",
       "      <td>http://dart.fss.or.kr/dsaf001/main.do?rcpNo=20...</td>\n",
       "    </tr>\n",
       "    <tr>\n",
       "      <th>4</th>\n",
       "      <td>10</td>\n",
       "      <td>CS홀딩스</td>\n",
       "      <td>영업(잠정)실적(공정공시)</td>\n",
       "      <td>http://dart.fss.or.kr/dsaf001/main.do?rcpNo=20...</td>\n",
       "    </tr>\n",
       "    <tr>\n",
       "      <th>0</th>\n",
       "      <td>11</td>\n",
       "      <td>이테크건설</td>\n",
       "      <td>연결재무제표기준영업(잠정)실적(공정공시)</td>\n",
       "      <td>http://dart.fss.or.kr/dsaf001/main.do?rcpNo=20...</td>\n",
       "    </tr>\n",
       "    <tr>\n",
       "      <th>1</th>\n",
       "      <td>12</td>\n",
       "      <td>한국토지신탁</td>\n",
       "      <td>연결재무제표기준영업(잠정)실적(공정공시)</td>\n",
       "      <td>http://dart.fss.or.kr/dsaf001/main.do?rcpNo=20...</td>\n",
       "    </tr>\n",
       "    <tr>\n",
       "      <th>2</th>\n",
       "      <td>13</td>\n",
       "      <td>CJ E&amp;M</td>\n",
       "      <td>연결재무제표기준영업(잠정)실적(공정공시)</td>\n",
       "      <td>http://dart.fss.or.kr/dsaf001/main.do?rcpNo=20...</td>\n",
       "    </tr>\n",
       "    <tr>\n",
       "      <th>3</th>\n",
       "      <td>14</td>\n",
       "      <td>와이지-원</td>\n",
       "      <td>연결재무제표기준영업(잠정)실적(공정공시)</td>\n",
       "      <td>http://dart.fss.or.kr/dsaf001/main.do?rcpNo=20...</td>\n",
       "    </tr>\n",
       "    <tr>\n",
       "      <th>4</th>\n",
       "      <td>15</td>\n",
       "      <td>롯데쇼핑</td>\n",
       "      <td>반기보고서</td>\n",
       "      <td>http://dart.fss.or.kr/dsaf001/main.do?rcpNo=20...</td>\n",
       "    </tr>\n",
       "    <tr>\n",
       "      <th>0</th>\n",
       "      <td>16</td>\n",
       "      <td>파라다이스</td>\n",
       "      <td>연결재무제표기준영업(잠정)실적(공정공시)</td>\n",
       "      <td>http://dart.fss.or.kr/dsaf001/main.do?rcpNo=20...</td>\n",
       "    </tr>\n",
       "    <tr>\n",
       "      <th>1</th>\n",
       "      <td>17</td>\n",
       "      <td>테라세미콘</td>\n",
       "      <td>연결재무제표기준영업(잠정)실적(공정공시)</td>\n",
       "      <td>http://dart.fss.or.kr/dsaf001/main.do?rcpNo=20...</td>\n",
       "    </tr>\n",
       "    <tr>\n",
       "      <th>2</th>\n",
       "      <td>18</td>\n",
       "      <td>모다이노칩</td>\n",
       "      <td>연결재무제표기준영업(잠정)실적(공정공시)</td>\n",
       "      <td>http://dart.fss.or.kr/dsaf001/main.do?rcpNo=20...</td>\n",
       "    </tr>\n",
       "    <tr>\n",
       "      <th>3</th>\n",
       "      <td>19</td>\n",
       "      <td>인바디</td>\n",
       "      <td>연결재무제표기준영업(잠정)실적(공정공시)</td>\n",
       "      <td>http://dart.fss.or.kr/dsaf001/main.do?rcpNo=20...</td>\n",
       "    </tr>\n",
       "    <tr>\n",
       "      <th>4</th>\n",
       "      <td>20</td>\n",
       "      <td>이녹스첨단소재</td>\n",
       "      <td>연결재무제표기준영업(잠정)실적(공정공시)</td>\n",
       "      <td>http://dart.fss.or.kr/dsaf001/main.do?rcpNo=20...</td>\n",
       "    </tr>\n",
       "  </tbody>\n",
       "</table>\n",
       "</div>"
      ],
      "text/plain": [
       "   순위      회사명                    보고서명  \\\n",
       "0   1     삼성전자                   분기보고서   \n",
       "1   2     삼성전자                   사업보고서   \n",
       "2   3       선진                   반기보고서   \n",
       "3   4   현대종합상사                   반기보고서   \n",
       "4   5   한국항공우주        풍문또는보도에대한해명(미확정)   \n",
       "0   6     대화제약                   반기보고서   \n",
       "1   7  HB테크놀러지                   반기보고서   \n",
       "2   8      컴투스  연결재무제표기준영업(잠정)실적(공정공시)   \n",
       "3   9    파라다이스  연결재무제표기준영업(잠정)실적(공정공시)   \n",
       "4  10    CS홀딩스          영업(잠정)실적(공정공시)   \n",
       "0  11    이테크건설  연결재무제표기준영업(잠정)실적(공정공시)   \n",
       "1  12   한국토지신탁  연결재무제표기준영업(잠정)실적(공정공시)   \n",
       "2  13   CJ E&M  연결재무제표기준영업(잠정)실적(공정공시)   \n",
       "3  14    와이지-원  연결재무제표기준영업(잠정)실적(공정공시)   \n",
       "4  15     롯데쇼핑                   반기보고서   \n",
       "0  16    파라다이스  연결재무제표기준영업(잠정)실적(공정공시)   \n",
       "1  17    테라세미콘  연결재무제표기준영업(잠정)실적(공정공시)   \n",
       "2  18    모다이노칩  연결재무제표기준영업(잠정)실적(공정공시)   \n",
       "3  19      인바디  연결재무제표기준영업(잠정)실적(공정공시)   \n",
       "4  20  이녹스첨단소재  연결재무제표기준영업(잠정)실적(공정공시)   \n",
       "\n",
       "                                                urls  \n",
       "0  http://dart.fss.or.kr/dsaf001/main.do?rcpNo=20...  \n",
       "1  http://dart.fss.or.kr/dsaf001/main.do?rcpNo=20...  \n",
       "2  http://dart.fss.or.kr/dsaf001/main.do?rcpNo=20...  \n",
       "3  http://dart.fss.or.kr/dsaf001/main.do?rcpNo=20...  \n",
       "4  http://dart.fss.or.kr/dsaf001/main.do?rcpNo=20...  \n",
       "0  http://dart.fss.or.kr/dsaf001/main.do?rcpNo=20...  \n",
       "1  http://dart.fss.or.kr/dsaf001/main.do?rcpNo=20...  \n",
       "2  http://dart.fss.or.kr/dsaf001/main.do?rcpNo=20...  \n",
       "3  http://dart.fss.or.kr/dsaf001/main.do?rcpNo=20...  \n",
       "4  http://dart.fss.or.kr/dsaf001/main.do?rcpNo=20...  \n",
       "0  http://dart.fss.or.kr/dsaf001/main.do?rcpNo=20...  \n",
       "1  http://dart.fss.or.kr/dsaf001/main.do?rcpNo=20...  \n",
       "2  http://dart.fss.or.kr/dsaf001/main.do?rcpNo=20...  \n",
       "3  http://dart.fss.or.kr/dsaf001/main.do?rcpNo=20...  \n",
       "4  http://dart.fss.or.kr/dsaf001/main.do?rcpNo=20...  \n",
       "0  http://dart.fss.or.kr/dsaf001/main.do?rcpNo=20...  \n",
       "1  http://dart.fss.or.kr/dsaf001/main.do?rcpNo=20...  \n",
       "2  http://dart.fss.or.kr/dsaf001/main.do?rcpNo=20...  \n",
       "3  http://dart.fss.or.kr/dsaf001/main.do?rcpNo=20...  \n",
       "4  http://dart.fss.or.kr/dsaf001/main.do?rcpNo=20...  "
      ]
     },
     "execution_count": 90,
     "metadata": {},
     "output_type": "execute_result"
    }
   ],
   "source": [
    "df['urls'] = result\n",
    "df"
   ]
  },
  {
   "cell_type": "markdown",
   "metadata": {},
   "source": [
    "## Quiz\n",
    "    url = 'http://datalab.naver.com/keyword/realtimeList.naver'\n",
    "    '//ul[@class=\"rank_list\"]/li/a/span[@class=\"title\"]/text()'\n",
    "    를 활용해서 naver 실시간 검색어를 [ list ] 로 출력하시요"
   ]
  },
  {
   "cell_type": "code",
   "execution_count": 104,
   "metadata": {},
   "outputs": [
    {
     "data": {
      "text/plain": [
       "['구기동',\n",
       " '애나벨',\n",
       " '엠카운트다운',\n",
       " '김소영 아나운서',\n",
       " '선미',\n",
       " '게임빌',\n",
       " '죽어야 사는 남자',\n",
       " '맨홀',\n",
       " '위택스',\n",
       " '김형준',\n",
       " '크리미널마인드',\n",
       " '인터파크티켓',\n",
       " '내일날씨',\n",
       " '인터넷지로',\n",
       " '북한',\n",
       " '임성빈',\n",
       " '기업은행 채용',\n",
       " '신다은',\n",
       " '검찰인사',\n",
       " '호산']"
      ]
     },
     "execution_count": 104,
     "metadata": {},
     "output_type": "execute_result"
    }
   ],
   "source": [
    "url = 'http://datalab.naver.com/keyword/realtimeList.naver'\n",
    "response = requests.get(url)\n",
    "html = fromstring(response.text)\n",
    "texts = html.xpath('//ul[@class=\"rank_list\"]/li/a/span[@class=\"title\"]/text()')\n",
    "texts[:20]"
   ]
  },
  {
   "cell_type": "code",
   "execution_count": null,
   "metadata": {
    "collapsed": true
   },
   "outputs": [],
   "source": []
  },
  {
   "cell_type": "code",
   "execution_count": null,
   "metadata": {
    "collapsed": true
   },
   "outputs": [],
   "source": []
  },
  {
   "cell_type": "markdown",
   "metadata": {
    "collapsed": true
   },
   "source": [
    "## 8 Sqlite3 \n",
    "자료를 DB로 저장하기..\n",
    "\n",
    "PostgreSQL 을 많이 쓴다.. 대용량 처리에 유용하고, sql 문법으로 다양한 처리가 가능, 그리고 무료다....\n",
    "\n",
    "Excel 처럼 가볍게 쓰기에는 Google Sheet 도 좋다 (하지만 Setting 이 좀 까다롭고, upload에 시간이 오래 걸린다)"
   ]
  },
  {
   "cell_type": "code",
   "execution_count": null,
   "metadata": {
    "collapsed": true
   },
   "outputs": [],
   "source": []
  },
  {
   "cell_type": "markdown",
   "metadata": {},
   "source": [
    "### 01 SQLite\n",
    "파일 생성 및 시작하기"
   ]
  },
  {
   "cell_type": "code",
   "execution_count": 142,
   "metadata": {},
   "outputs": [
    {
     "data": {
      "text/plain": [
       "<module 'collections' from '/home/markbaum/Python/python36/lib/python3.6/collections/__init__.py'>"
      ]
     },
     "execution_count": 142,
     "metadata": {},
     "output_type": "execute_result"
    }
   ],
   "source": [
    "import sqlite3\n",
    "con = sqlite3.connect('./sqlite.db')\n",
    "sqlite3.collections # DB 파일을 생성한다"
   ]
  },
  {
   "cell_type": "code",
   "execution_count": 143,
   "metadata": {},
   "outputs": [
    {
     "name": "stdout",
     "output_type": "stream",
     "text": [
      "2.6.0\n",
      "3.16.2\n",
      "<class 'sqlite3.Connection'>\n"
     ]
    }
   ],
   "source": [
    "print(sqlite3.version)\n",
    "print(sqlite3.sqlite_version)\n",
    "print(type(con))"
   ]
  },
  {
   "cell_type": "code",
   "execution_count": null,
   "metadata": {
    "collapsed": true
   },
   "outputs": [],
   "source": []
  },
  {
   "cell_type": "markdown",
   "metadata": {},
   "source": [
    "### 02 Cursor1 - 데이터 생성하기\n",
    "SQL 명령을 전달하는 객체"
   ]
  },
  {
   "cell_type": "code",
   "execution_count": 145,
   "metadata": {
    "collapsed": true
   },
   "outputs": [],
   "source": [
    "# SQL 객체를 연결하고, 구문을 활성화\n",
    "# Excel 의 WorkBook 생성 및 연결\n",
    "con = sqlite3.connect('./sqlite.db')\n",
    "cursor = con.cursor()"
   ]
  },
  {
   "cell_type": "code",
   "execution_count": 146,
   "metadata": {},
   "outputs": [
    {
     "data": {
      "text/plain": [
       "<sqlite3.Cursor at 0x7f42a1cfa500>"
      ]
     },
     "execution_count": 146,
     "metadata": {},
     "output_type": "execute_result"
    }
   ],
   "source": [
    "# 테이블 생성 (Excel 의 Sheet 생성)\n",
    "cursor.execute(\"create Table KAKAO (Data text, Open int, High int, Low int, Close int, Volumn int)\")\n",
    "# 내용 2줄을 추가한다 (SQL 문법 언어를 String으로 입력) - 문법검사는 비활성화\n",
    "cursor.execute(\"INSERT INTO KAKAO Values('16.06.03', 97000, 98600, 96900, 98000, 321405)\")\n",
    "cursor.execute(\"INSERT INTO KAKAO Values('16.06.02', 95000, 94600, 91900, 96000, 121405)\")"
   ]
  },
  {
   "cell_type": "code",
   "execution_count": 147,
   "metadata": {
    "collapsed": true
   },
   "outputs": [],
   "source": [
    "# 지금까지 수정한 내용을 DB에 반영하고 연결을 닫는다.\n",
    "# (saving from Python to Sqlite)\n",
    "con.commit()\n",
    "con.close()"
   ]
  },
  {
   "cell_type": "code",
   "execution_count": null,
   "metadata": {
    "collapsed": true
   },
   "outputs": [],
   "source": []
  },
  {
   "cell_type": "markdown",
   "metadata": {},
   "source": [
    "### 03 Cursor 2 - 데이터 불러오기\n",
    "SQL 명령을 전달하는 객체"
   ]
  },
  {
   "cell_type": "code",
   "execution_count": 152,
   "metadata": {
    "collapsed": true
   },
   "outputs": [],
   "source": [
    "# SQL 구문을 호충\n",
    "import sqlite3\n",
    "con = sqlite3.connect('./sqlite.db')\n",
    "cursor = con.cursor()"
   ]
  },
  {
   "cell_type": "code",
   "execution_count": 153,
   "metadata": {},
   "outputs": [
    {
     "data": {
      "text/plain": [
       "('16.06.03', 97000, 98600, 96900, 98000, 321405)"
      ]
     },
     "execution_count": 153,
     "metadata": {},
     "output_type": "execute_result"
    }
   ],
   "source": [
    "# Row 단위로 데이터 호출 (자료를 1줄씩 불러온다)\n",
    "cursor.execute(\"SELECT * From KAKAO\")\n",
    "cursor.fetchone()"
   ]
  },
  {
   "cell_type": "code",
   "execution_count": 154,
   "metadata": {},
   "outputs": [
    {
     "data": {
      "text/plain": [
       "[('16.06.02', 95000, 94600, 91900, 96000, 121405)]"
      ]
     },
     "execution_count": 154,
     "metadata": {},
     "output_type": "execute_result"
    }
   ],
   "source": [
    "# 해당 table 의 전체자료 불러오기\n",
    "# 위 1줄을 이미 불러온 상태여서 다음 줄 부터만 불러온다\n",
    "cursor.fetchall()"
   ]
  },
  {
   "cell_type": "code",
   "execution_count": 155,
   "metadata": {},
   "outputs": [
    {
     "data": {
      "text/plain": [
       "[('16.06.03', 97000, 98600, 96900, 98000, 321405),\n",
       " ('16.06.02', 95000, 94600, 91900, 96000, 121405)]"
      ]
     },
     "execution_count": 155,
     "metadata": {},
     "output_type": "execute_result"
    }
   ],
   "source": [
    "# Row 전체를 불러오기\n",
    "# 테이블 커서를 초기화 (맨 위로 회귀하기 위해서 다시 불러온다)\n",
    "cursor.execute(\"SELECT * From KAKAO\") \n",
    "cursor.fetchall()"
   ]
  },
  {
   "cell_type": "code",
   "execution_count": 151,
   "metadata": {
    "collapsed": true
   },
   "outputs": [],
   "source": [
    "# 지금까지 수정한 내용을 DB에 반영하고 연결을 닫는다.\n",
    "# (saving from Python to Sqlite)\n",
    "con.commit()\n",
    "con.close()"
   ]
  },
  {
   "cell_type": "code",
   "execution_count": null,
   "metadata": {
    "collapsed": true
   },
   "outputs": [],
   "source": []
  },
  {
   "cell_type": "markdown",
   "metadata": {},
   "source": [
    "### 04 Indexing and Slicing\n",
    "데이터 가공하기"
   ]
  },
  {
   "cell_type": "code",
   "execution_count": 156,
   "metadata": {},
   "outputs": [
    {
     "data": {
      "text/plain": [
       "'16.06.03'"
      ]
     },
     "execution_count": 156,
     "metadata": {},
     "output_type": "execute_result"
    }
   ],
   "source": [
    "# Row 전체를 불러온 뒤 indexing\n",
    "# 한 테이블의 데이터를 자유자재로 타루기에 용이하다\n",
    "cursor.execute(\"SELECT * From KAKAO\") # 테이블 커서를 초기화 (맨 위로 회귀)\n",
    "kakao = cursor.fetchall()\n",
    "kakao[0][0]  # [row] [column]  # 전체 테이블 내용을 선별해서 호출"
   ]
  },
  {
   "cell_type": "code",
   "execution_count": 157,
   "metadata": {},
   "outputs": [
    {
     "data": {
      "text/plain": [
       "(97000, 98600, 96900, 98000, 321405)"
      ]
     },
     "execution_count": 157,
     "metadata": {},
     "output_type": "execute_result"
    }
   ],
   "source": [
    "kakao[0][1:] # 해당 객체를 반복적으로 활용시에 용이 (위에선 cursor위치별 데이터가 다름에 비해 편리하다)\n",
    "             # 단 메모리에 데이터를 모두 올리고 사용하는 것이여서, table 이 큰 경우에는 무리가 있을 수 있다."
   ]
  },
  {
   "cell_type": "code",
   "execution_count": null,
   "metadata": {
    "collapsed": true
   },
   "outputs": [],
   "source": []
  },
  {
   "cell_type": "markdown",
   "metadata": {},
   "source": [
    "### 05 With Pandas \n",
    "by sqlite3\n",
    "- https://stackoverflow.com/questions/24189150/pandas-writing-dataframe-to-other-postgresql-schema"
   ]
  },
  {
   "cell_type": "markdown",
   "metadata": {},
   "source": [
    "### Writing Data"
   ]
  },
  {
   "cell_type": "code",
   "execution_count": 158,
   "metadata": {
    "collapsed": true
   },
   "outputs": [],
   "source": [
    "import pandas as pd\n",
    "raw_data = {'col0':[1,2,3,4], 'col1':[10,20,30,40], 'col2':[100,200,300,400]}\n",
    "df = pd.DataFrame(raw_data)"
   ]
  },
  {
   "cell_type": "code",
   "execution_count": 159,
   "metadata": {
    "collapsed": true
   },
   "outputs": [],
   "source": [
    "# DataFrame 을 SQlite3 에 저장하기\n",
    "import sqlite3\n",
    "con = sqlite3.connect(\"./sqlite.db\")\n",
    "df.to_sql('DataFrame',con)  # Pandas 에서 바로 연결되어서 저장"
   ]
  },
  {
   "cell_type": "code",
   "execution_count": 167,
   "metadata": {
    "collapsed": true
   },
   "outputs": [],
   "source": [
    "con.commit()\n",
    "con.close()"
   ]
  },
  {
   "cell_type": "markdown",
   "metadata": {},
   "source": [
    "### Reading  Data"
   ]
  },
  {
   "cell_type": "code",
   "execution_count": 165,
   "metadata": {},
   "outputs": [
    {
     "data": {
      "text/html": [
       "<div>\n",
       "<table border=\"1\" class=\"dataframe\">\n",
       "  <thead>\n",
       "    <tr style=\"text-align: right;\">\n",
       "      <th></th>\n",
       "      <th>Data</th>\n",
       "      <th>Open</th>\n",
       "      <th>High</th>\n",
       "      <th>Low</th>\n",
       "      <th>Close</th>\n",
       "      <th>Volumn</th>\n",
       "    </tr>\n",
       "  </thead>\n",
       "  <tbody>\n",
       "    <tr>\n",
       "      <th>0</th>\n",
       "      <td>16.06.03</td>\n",
       "      <td>97000</td>\n",
       "      <td>98600</td>\n",
       "      <td>96900</td>\n",
       "      <td>98000</td>\n",
       "      <td>321405</td>\n",
       "    </tr>\n",
       "    <tr>\n",
       "      <th>1</th>\n",
       "      <td>16.06.02</td>\n",
       "      <td>95000</td>\n",
       "      <td>94600</td>\n",
       "      <td>91900</td>\n",
       "      <td>96000</td>\n",
       "      <td>121405</td>\n",
       "    </tr>\n",
       "  </tbody>\n",
       "</table>\n",
       "</div>"
      ],
      "text/plain": [
       "       Data   Open   High    Low  Close  Volumn\n",
       "0  16.06.03  97000  98600  96900  98000  321405\n",
       "1  16.06.02  95000  94600  91900  96000  121405"
      ]
     },
     "execution_count": 165,
     "metadata": {},
     "output_type": "execute_result"
    }
   ],
   "source": [
    "con = sqlite3.connect(\"./sqlite.db\")\n",
    "df = pd.read_sql(\"Select * from KAKAO\", con, index_col=None)\n",
    "df  # Index 값이 추가된 테이블이 생성"
   ]
  },
  {
   "cell_type": "code",
   "execution_count": 170,
   "metadata": {},
   "outputs": [
    {
     "data": {
      "text/html": [
       "<div>\n",
       "<table border=\"1\" class=\"dataframe\">\n",
       "  <thead>\n",
       "    <tr style=\"text-align: right;\">\n",
       "      <th></th>\n",
       "      <th>index</th>\n",
       "      <th>col0</th>\n",
       "      <th>col1</th>\n",
       "      <th>col2</th>\n",
       "    </tr>\n",
       "  </thead>\n",
       "  <tbody>\n",
       "    <tr>\n",
       "      <th>0</th>\n",
       "      <td>0</td>\n",
       "      <td>1</td>\n",
       "      <td>10</td>\n",
       "      <td>100</td>\n",
       "    </tr>\n",
       "    <tr>\n",
       "      <th>1</th>\n",
       "      <td>1</td>\n",
       "      <td>2</td>\n",
       "      <td>20</td>\n",
       "      <td>200</td>\n",
       "    </tr>\n",
       "    <tr>\n",
       "      <th>2</th>\n",
       "      <td>2</td>\n",
       "      <td>3</td>\n",
       "      <td>30</td>\n",
       "      <td>300</td>\n",
       "    </tr>\n",
       "    <tr>\n",
       "      <th>3</th>\n",
       "      <td>3</td>\n",
       "      <td>4</td>\n",
       "      <td>40</td>\n",
       "      <td>400</td>\n",
       "    </tr>\n",
       "  </tbody>\n",
       "</table>\n",
       "</div>"
      ],
      "text/plain": [
       "   index  col0  col1  col2\n",
       "0      0     1    10   100\n",
       "1      1     2    20   200\n",
       "2      2     3    30   300\n",
       "3      3     4    40   400"
      ]
     },
     "execution_count": 170,
     "metadata": {},
     "output_type": "execute_result"
    }
   ],
   "source": [
    "df = pd.read_sql(\"Select * from DataFrame\", con, index_col=None)\n",
    "df  # Index 값이 추가된 테이블이 생성"
   ]
  },
  {
   "cell_type": "code",
   "execution_count": 171,
   "metadata": {
    "collapsed": true
   },
   "outputs": [],
   "source": [
    "con.commit()\n",
    "con.close()"
   ]
  },
  {
   "cell_type": "code",
   "execution_count": null,
   "metadata": {
    "collapsed": true
   },
   "outputs": [],
   "source": []
  },
  {
   "cell_type": "markdown",
   "metadata": {},
   "source": [
    "### 06 Sqlite with Stock Data\n",
    "by Pandas_datareader"
   ]
  },
  {
   "cell_type": "code",
   "execution_count": 172,
   "metadata": {
    "collapsed": true
   },
   "outputs": [],
   "source": [
    "from pandas_datareader import get_data_google\n",
    "df = get_data_google(\"KRX:005930\", '2010-1-1', '2017-7-10')"
   ]
  },
  {
   "cell_type": "code",
   "execution_count": null,
   "metadata": {
    "collapsed": true
   },
   "outputs": [],
   "source": []
  },
  {
   "cell_type": "code",
   "execution_count": 173,
   "metadata": {
    "collapsed": true
   },
   "outputs": [],
   "source": [
    "# Write Sqlite3\n",
    "con = sqlite3.connect('./sqlite.db')\n",
    "df.to_sql('samsung', con, if_exists = 'replace') # 기존 자료를 지우고 새롭게 저장"
   ]
  },
  {
   "cell_type": "code",
   "execution_count": null,
   "metadata": {
    "collapsed": true
   },
   "outputs": [],
   "source": [
    "# if_exists = \n",
    "# fail: (기존 자료가 있으면 저장하지 않는다) If table exists, do nothing.\n",
    "# replace: (지우고 새롭게 저장) If table exists, drop it, recreate it, and insert data.\n",
    "# append: (내용을 추가) If table exists, insert data. Create if does not exist."
   ]
  },
  {
   "cell_type": "code",
   "execution_count": 174,
   "metadata": {},
   "outputs": [
    {
     "name": "stdout",
     "output_type": "stream",
     "text": [
      "                          Open       High        Low      Close  Volume\n",
      "Date                                                                   \n",
      "2017-07-04 00:00:00  2358000.0  2370000.0  2345000.0  2350000.0  157562\n",
      "2017-07-05 00:00:00  2341000.0  2384000.0  2339000.0  2379000.0  194505\n",
      "2017-07-06 00:00:00  2400000.0  2405000.0  2386000.0  2403000.0  210773\n",
      "2017-07-07 00:00:00  2387000.0  2406000.0  2381000.0  2393000.0  160473\n",
      "2017-07-10 00:00:00  2425000.0  2445000.0  2416000.0  2433000.0  211575\n"
     ]
    }
   ],
   "source": [
    "# Read Sqlite3\n",
    "read_df = pd.read_sql(\"select * from 'samsung'\",con , index_col='Date')\n",
    "print(read_df.tail(5))"
   ]
  },
  {
   "cell_type": "code",
   "execution_count": null,
   "metadata": {
    "collapsed": true
   },
   "outputs": [],
   "source": []
  },
  {
   "cell_type": "code",
   "execution_count": 175,
   "metadata": {
    "collapsed": true
   },
   "outputs": [],
   "source": [
    "from pandas_datareader import get_data_google\n",
    "df = get_data_google(\"KRX:005930\", '2017-6-10', '2017-6-14')"
   ]
  },
  {
   "cell_type": "code",
   "execution_count": 179,
   "metadata": {
    "collapsed": true
   },
   "outputs": [],
   "source": [
    "# Overwriting Sqlite3\n",
    "con = sqlite3.connect('./sqlite.db')\n",
    "df.to_sql('samsung', con, if_exists = 'append')"
   ]
  },
  {
   "cell_type": "code",
   "execution_count": 182,
   "metadata": {},
   "outputs": [
    {
     "name": "stdout",
     "output_type": "stream",
     "text": [
      "                          Open       High        Low      Close  Volume\n",
      "Date                                                                   \n",
      "2017-06-23 00:00:00  2380000.0  2389000.0  2371000.0  2381000.0  172622\n",
      "2017-06-26 00:00:00  2376000.0  2418000.0  2376000.0  2414000.0  160857\n",
      "2017-06-27 00:00:00  2411000.0  2420000.0  2395000.0  2415000.0  187532\n",
      "2017-06-28 00:00:00  2380000.0  2400000.0  2378000.0  2385000.0  188156\n",
      "2017-06-29 00:00:00  2402000.0  2416000.0  2397000.0  2397000.0  159859\n",
      "2017-06-30 00:00:00  2375000.0  2381000.0  2355000.0  2377000.0  234972\n",
      "2017-07-03 00:00:00  2375000.0  2389000.0  2356000.0  2361000.0  135870\n",
      "2017-07-04 00:00:00  2358000.0  2370000.0  2345000.0  2350000.0  157562\n",
      "2017-07-05 00:00:00  2341000.0  2384000.0  2339000.0  2379000.0  194505\n",
      "2017-07-06 00:00:00  2400000.0  2405000.0  2386000.0  2403000.0  210773\n",
      "2017-07-07 00:00:00  2387000.0  2406000.0  2381000.0  2393000.0  160473\n",
      "2017-07-10 00:00:00  2425000.0  2445000.0  2416000.0  2433000.0  211575\n",
      "2017-06-12 00:00:00  2271000.0  2280000.0  2257000.0  2269000.0  217181\n",
      "2017-06-13 00:00:00  2257000.0  2281000.0  2257000.0  2270000.0  167722\n",
      "2017-06-14 00:00:00  2290000.0  2303000.0  2262000.0  2268000.0  194743\n"
     ]
    }
   ],
   "source": [
    "# Read Sqlite3\n",
    "read_df = pd.read_sql(\"select * from 'samsung'\",con , index_col='Date')\n",
    "print(read_df.tail(15))"
   ]
  },
  {
   "cell_type": "code",
   "execution_count": null,
   "metadata": {
    "collapsed": true
   },
   "outputs": [],
   "source": []
  },
  {
   "cell_type": "markdown",
   "metadata": {
    "collapsed": true
   },
   "source": [
    "#### Appendix   Google Sheet 와 연동하기\n",
    "실무에서 DB 는 SQL 서버를 통해서 자료를 저장하고\n",
    "\n",
    "기본적인 작업은 SQL 문법을 통해서 간단한 편집등을 한다"
   ]
  },
  {
   "cell_type": "markdown",
   "metadata": {},
   "source": [
    "### https://developers.google.com/sheets/api/quickstart/python#step_1_turn_on_the_api_name"
   ]
  },
  {
   "cell_type": "code",
   "execution_count": null,
   "metadata": {
    "collapsed": true
   },
   "outputs": [],
   "source": [
    "# pip3 install --upgrade google-api-python-client  # 필요한 모듈을 설치한다\n",
    "\n",
    "# https://www.youtube.com/watch?v=vISRn5qFrkM\n",
    "# https://developers.google.com/sheets/api/quickstart/python"
   ]
  },
  {
   "cell_type": "code",
   "execution_count": null,
   "metadata": {
    "collapsed": true
   },
   "outputs": [],
   "source": [
    "import gspread\n",
    "import pandas as pd\n",
    "from oauth2client.service_account import ServiceAccountCredentials\n",
    "\n",
    "scope = ['https://spreadsheets.google.com/feeds']\n",
    "creds = ServiceAccountCredentials.from_json_keyfile_name('./My Project-a0acxxxxx.json',scope)\n",
    "client = gspread.authorize(creds)        # API 연결인증\n",
    "sheet = client.open('Code_Yahoo').sheet1 # G-sheet '시트이름' 연결\n",
    "# Sheet 의 전체데이터 DataFrame으로 불러오기\n",
    "sheet_data = sheet.get_all_records()\n",
    "df = pd.DataFrame(sheet_data)"
   ]
  },
  {
   "cell_type": "code",
   "execution_count": null,
   "metadata": {
    "collapsed": true
   },
   "outputs": [],
   "source": []
  },
  {
   "cell_type": "code",
   "execution_count": null,
   "metadata": {
    "collapsed": true
   },
   "outputs": [],
   "source": []
  },
  {
   "cell_type": "code",
   "execution_count": null,
   "metadata": {
    "collapsed": true
   },
   "outputs": [],
   "source": []
  },
  {
   "cell_type": "code",
   "execution_count": null,
   "metadata": {
    "collapsed": true
   },
   "outputs": [],
   "source": []
  },
  {
   "cell_type": "code",
   "execution_count": null,
   "metadata": {
    "collapsed": true
   },
   "outputs": [],
   "source": []
  },
  {
   "cell_type": "code",
   "execution_count": null,
   "metadata": {
    "collapsed": true
   },
   "outputs": [],
   "source": [
    "# 결측치 처리\n",
    "# 시계열 데이터 생성 수정 변경 삽입 index에 포함\n",
    "# 데이터 수정과  reduce , map, lambda , pickle (중간 객체 저장)\n",
    "# Web Cawling   by xpath   pd.concat()  pd.merge()\n",
    "# 계층적 Table\n",
    "# Google Sheet 와 연동\n",
    "# matplotlib 와 시각화"
   ]
  },
  {
   "cell_type": "code",
   "execution_count": null,
   "metadata": {
    "collapsed": true
   },
   "outputs": [],
   "source": []
  },
  {
   "cell_type": "code",
   "execution_count": null,
   "metadata": {
    "collapsed": true
   },
   "outputs": [],
   "source": []
  },
  {
   "cell_type": "code",
   "execution_count": null,
   "metadata": {
    "collapsed": true
   },
   "outputs": [],
   "source": []
  },
  {
   "cell_type": "code",
   "execution_count": null,
   "metadata": {
    "collapsed": true
   },
   "outputs": [],
   "source": []
  },
  {
   "cell_type": "code",
   "execution_count": null,
   "metadata": {
    "collapsed": true
   },
   "outputs": [],
   "source": []
  },
  {
   "cell_type": "code",
   "execution_count": null,
   "metadata": {
    "collapsed": true
   },
   "outputs": [],
   "source": []
  },
  {
   "cell_type": "code",
   "execution_count": null,
   "metadata": {
    "collapsed": true
   },
   "outputs": [],
   "source": [
    "# 확장된 회계등식 (매개변수의 활용예제)\n",
    "# 자산(현금) + 비용 = 부채 + 자본(자본금) + 수익\n",
    "\n",
    "# 자산 = 부채 + 자본 + 수익 - 비용 (수익 - 비용 = 당기순이익)\n",
    "# 자산 = 부채 + 자본 + 당기순이익"
   ]
  },
  {
   "cell_type": "code",
   "execution_count": null,
   "metadata": {
    "collapsed": true
   },
   "outputs": [],
   "source": [
    "## 분개 (tuple list의 활용예제)\n",
    "# asset(자산) = \n",
    "# Debit(차변) \n",
    "# credit(대변)\n",
    "# Cost(비용)\n",
    "# Capital(자본)"
   ]
  },
  {
   "cell_type": "code",
   "execution_count": 106,
   "metadata": {
    "collapsed": true
   },
   "outputs": [],
   "source": [
    "my_list = [(True, 10), (False, 20), (True,30)]"
   ]
  },
  {
   "cell_type": "code",
   "execution_count": 107,
   "metadata": {},
   "outputs": [
    {
     "name": "stdout",
     "output_type": "stream",
     "text": [
      "(True, 10)\n",
      "(True, 30)\n"
     ]
    }
   ],
   "source": [
    "for idx in my_list:\n",
    "    if idx[0] == True:\n",
    "        print(idx)"
   ]
  },
  {
   "cell_type": "code",
   "execution_count": 108,
   "metadata": {},
   "outputs": [
    {
     "data": {
      "text/plain": [
       "3"
      ]
     },
     "execution_count": 108,
     "metadata": {},
     "output_type": "execute_result"
    }
   ],
   "source": [
    "# tuple 은 여러개 모두 가능 \n",
    "# 하지만 실무에선 list를 더 많이 쓴다 ## tuple 은 Overwriting (수정) 이 불가능\n",
    "a = (1,2,'a')\n",
    "len(a)"
   ]
  },
  {
   "cell_type": "code",
   "execution_count": 109,
   "metadata": {},
   "outputs": [
    {
     "data": {
      "text/plain": [
       "'a'"
      ]
     },
     "execution_count": 109,
     "metadata": {},
     "output_type": "execute_result"
    }
   ],
   "source": [
    "a[2]"
   ]
  },
  {
   "cell_type": "code",
   "execution_count": 110,
   "metadata": {
    "collapsed": true
   },
   "outputs": [],
   "source": [
    "Day170101 = {'Debit':{'Cash':100_000_000},\n",
    "             'Credit':{'Capital':100_000_000}}"
   ]
  },
  {
   "cell_type": "code",
   "execution_count": 111,
   "metadata": {
    "collapsed": true
   },
   "outputs": [],
   "source": [
    "Day170102 = {'Debit':{'Lease':1_000_000},\n",
    "             'Credit':{'Cash':1_000_000}}"
   ]
  },
  {
   "cell_type": "code",
   "execution_count": 112,
   "metadata": {
    "collapsed": true
   },
   "outputs": [],
   "source": [
    "Day170103 = {'Debit':{'Trans_cost':1_500_000},\n",
    "             'Credit':{'Cash':1_500_000}}"
   ]
  },
  {
   "cell_type": "code",
   "execution_count": 113,
   "metadata": {
    "collapsed": true
   },
   "outputs": [],
   "source": [
    "Day170104 = {'Debit':{'Payment':700_000},\n",
    "             'Credit':{'Cash':700_000}}"
   ]
  },
  {
   "cell_type": "code",
   "execution_count": 114,
   "metadata": {
    "collapsed": true
   },
   "outputs": [],
   "source": [
    "Day170105 = {'Debit':{'Machine':9_000_000},\n",
    "             'Credit':{'Cash_payable':9_000_000}}"
   ]
  },
  {
   "cell_type": "code",
   "execution_count": 115,
   "metadata": {},
   "outputs": [
    {
     "data": {
      "text/plain": [
       "{'Credit': {'Capital': 100000000, 'Cash': 3200000, 'Cash_payable': 9000000},\n",
       " 'Debit': {'Cash': 100000000,\n",
       "  'Lease': 1000000,\n",
       "  'Machine': 9000000,\n",
       "  'Payment': 700000,\n",
       "  'Trans_cost': 1500000}}"
      ]
     },
     "execution_count": 115,
     "metadata": {},
     "output_type": "execute_result"
    }
   ],
   "source": [
    "# Merging Data to List\n",
    "date = [Day170101, Day170102, Day170103, Day170104, Day170105]\n",
    "\n",
    "result = {}\n",
    "for day in date:\n",
    "\n",
    "    for data in day.keys():  # 대변과 차변을 순차적 정리 \n",
    "        if data not in result:\n",
    "            result[data] = {}\n",
    "\n",
    "        for component in day[data]:\n",
    "            if component not in result[data]:\n",
    "                result[data][component] = day[data][component]  \n",
    "            else:\n",
    "                result[data][component] += day[data][component]\n",
    "result"
   ]
  },
  {
   "cell_type": "code",
   "execution_count": 116,
   "metadata": {
    "collapsed": true
   },
   "outputs": [],
   "source": [
    "# 함수로 처리 (return 만 출력, 나머지는 메모리에서 삭제)\n",
    "\n",
    "def financial_summary(datelist):\n",
    "    result = {}             # '대변','차변' (정의)\n",
    "    for day in datelist:    # for 반복문으로 '일별' 처리\n",
    "         \n",
    "        for data in day.keys():            # '일별'데이터의 '대변'과 '차변' 순차처리\n",
    "            if data not in result:         # '계정항목' (신규조건)\n",
    "                result[data] = {}    \n",
    "\n",
    "            for component in day[data]:                             # '대변/차변의 계정항목' 데이터 순차처리\n",
    "                if component not in result[data]:                   # '계정항목' 에 데이터를 입력(신규조건) \n",
    "                    result[data][component] = day[data][component]  \n",
    "                else:                                               # '계정항목' 에 데이터를 추가            \n",
    "                    result[data][component] += day[data][component]\n",
    "    return result\n",
    "date = [Day170101, Day170102, Day170103, Day170104, Day170105]\n",
    "f_sheet = financial_summary(date)"
   ]
  },
  {
   "cell_type": "code",
   "execution_count": 117,
   "metadata": {},
   "outputs": [
    {
     "data": {
      "text/html": [
       "<div>\n",
       "<table border=\"1\" class=\"dataframe\">\n",
       "  <thead>\n",
       "    <tr style=\"text-align: right;\">\n",
       "      <th></th>\n",
       "      <th>Debit</th>\n",
       "      <th>Credit</th>\n",
       "    </tr>\n",
       "  </thead>\n",
       "  <tbody>\n",
       "    <tr>\n",
       "      <th>Capital</th>\n",
       "      <td>NaN</td>\n",
       "      <td>100000000.0</td>\n",
       "    </tr>\n",
       "    <tr>\n",
       "      <th>Cash</th>\n",
       "      <td>100000000.0</td>\n",
       "      <td>3200000.0</td>\n",
       "    </tr>\n",
       "    <tr>\n",
       "      <th>Cash_payable</th>\n",
       "      <td>NaN</td>\n",
       "      <td>9000000.0</td>\n",
       "    </tr>\n",
       "    <tr>\n",
       "      <th>Lease</th>\n",
       "      <td>1000000.0</td>\n",
       "      <td>NaN</td>\n",
       "    </tr>\n",
       "    <tr>\n",
       "      <th>Machine</th>\n",
       "      <td>9000000.0</td>\n",
       "      <td>NaN</td>\n",
       "    </tr>\n",
       "    <tr>\n",
       "      <th>Payment</th>\n",
       "      <td>700000.0</td>\n",
       "      <td>NaN</td>\n",
       "    </tr>\n",
       "    <tr>\n",
       "      <th>Trans_cost</th>\n",
       "      <td>1500000.0</td>\n",
       "      <td>NaN</td>\n",
       "    </tr>\n",
       "  </tbody>\n",
       "</table>\n",
       "</div>"
      ],
      "text/plain": [
       "                    Debit       Credit\n",
       "Capital               NaN  100000000.0\n",
       "Cash          100000000.0    3200000.0\n",
       "Cash_payable          NaN    9000000.0\n",
       "Lease           1000000.0          NaN\n",
       "Machine         9000000.0          NaN\n",
       "Payment          700000.0          NaN\n",
       "Trans_cost      1500000.0          NaN"
      ]
     },
     "execution_count": 117,
     "metadata": {},
     "output_type": "execute_result"
    }
   ],
   "source": [
    "# Merging Data to DataFrame\n",
    "import pandas as pd\n",
    "\n",
    "cols = list(f_sheet.keys())\n",
    "df = pd.DataFrame(f_sheet, columns=cols)\n",
    "df"
   ]
  },
  {
   "cell_type": "code",
   "execution_count": 118,
   "metadata": {},
   "outputs": [
    {
     "data": {
      "text/html": [
       "<div>\n",
       "<table border=\"1\" class=\"dataframe\">\n",
       "  <thead>\n",
       "    <tr style=\"text-align: right;\">\n",
       "      <th></th>\n",
       "      <th>Debit</th>\n",
       "      <th>Credit</th>\n",
       "    </tr>\n",
       "  </thead>\n",
       "  <tbody>\n",
       "    <tr>\n",
       "      <th>Capital</th>\n",
       "      <td>nan</td>\n",
       "      <td>100,000,000.0</td>\n",
       "    </tr>\n",
       "    <tr>\n",
       "      <th>Cash</th>\n",
       "      <td>100,000,000.0</td>\n",
       "      <td>3,200,000.0</td>\n",
       "    </tr>\n",
       "    <tr>\n",
       "      <th>Cash_payable</th>\n",
       "      <td>nan</td>\n",
       "      <td>9,000,000.0</td>\n",
       "    </tr>\n",
       "    <tr>\n",
       "      <th>Lease</th>\n",
       "      <td>1,000,000.0</td>\n",
       "      <td>nan</td>\n",
       "    </tr>\n",
       "    <tr>\n",
       "      <th>Machine</th>\n",
       "      <td>9,000,000.0</td>\n",
       "      <td>nan</td>\n",
       "    </tr>\n",
       "    <tr>\n",
       "      <th>Payment</th>\n",
       "      <td>700,000.0</td>\n",
       "      <td>nan</td>\n",
       "    </tr>\n",
       "    <tr>\n",
       "      <th>Trans_cost</th>\n",
       "      <td>1,500,000.0</td>\n",
       "      <td>nan</td>\n",
       "    </tr>\n",
       "  </tbody>\n",
       "</table>\n",
       "</div>"
      ],
      "text/plain": [
       "                      Debit         Credit\n",
       "Capital                 nan  100,000,000.0\n",
       "Cash          100,000,000.0    3,200,000.0\n",
       "Cash_payable            nan    9,000,000.0\n",
       "Lease           1,000,000.0            nan\n",
       "Machine         9,000,000.0            nan\n",
       "Payment           700,000.0            nan\n",
       "Trans_cost      1,500,000.0            nan"
      ]
     },
     "execution_count": 118,
     "metadata": {},
     "output_type": "execute_result"
    }
   ],
   "source": [
    "# DataFrame ',' thousand comma 추가하기\n",
    "for col in df.columns:\n",
    "    df[col] = list(map(lambda x: '{:,}'.format(x), list(df[col])))\n",
    "df"
   ]
  },
  {
   "cell_type": "markdown",
   "metadata": {},
   "source": [
    "## 2 현금 및 현금성자산 분류\n",
    "31p - 단순 유무만 판단하면 되는건가??"
   ]
  },
  {
   "cell_type": "code",
   "execution_count": 119,
   "metadata": {
    "collapsed": true
   },
   "outputs": [],
   "source": [
    "name = {'cash':'현금', 'post':'우표', 'Check_account':'당좌수표',\n",
    "        'coupon':'이자표', 'div_check':'배당표', 'Certi_deposit': '양도성예금증서'}"
   ]
  },
  {
   "cell_type": "code",
   "execution_count": 120,
   "metadata": {
    "collapsed": true
   },
   "outputs": [],
   "source": [
    "A_sheet = {'cash':425_000, 'post' : 10_000, 'Check_account':100_000,\n",
    "           'coupon':40_000, 'div_check':20_000, 'Certi_deposit': 4_000_000}"
   ]
  },
  {
   "cell_type": "code",
   "execution_count": 121,
   "metadata": {
    "collapsed": true
   },
   "outputs": [],
   "source": [
    "full_item = ['cash', 'post', 'Check_account', 'coupon', 'div_check', 'Certi_deposit'] # 재무제표 item 목록\n",
    "report_item = ['cash', 'Check_account', 'coupon', 'div_check']  # 현금 및 현금성 자산 item 목록 list"
   ]
  },
  {
   "cell_type": "code",
   "execution_count": 122,
   "metadata": {},
   "outputs": [
    {
     "data": {
      "text/plain": [
       "{'Certi_deposit': 4000000,\n",
       " 'Check_account': 100000,\n",
       " 'cash': 425000,\n",
       " 'coupon': 40000,\n",
       " 'div_check': 20000,\n",
       " 'post': 10000}"
      ]
     },
     "execution_count": 122,
     "metadata": {},
     "output_type": "execute_result"
    }
   ],
   "source": [
    "# condition = list(name.keys()); condition\n",
    "# condition = [condition[i] for i in [0,2,3,4]]\n",
    "# condition\n",
    "A_sheet"
   ]
  },
  {
   "cell_type": "code",
   "execution_count": 123,
   "metadata": {},
   "outputs": [
    {
     "data": {
      "text/plain": [
       "{'Check_account': 100000, 'cash': 425000, 'coupon': 40000, 'div_check': 20000}"
      ]
     },
     "execution_count": 123,
     "metadata": {},
     "output_type": "execute_result"
    }
   ],
   "source": [
    "result = {}\n",
    "for item in report_item:\n",
    "    result[item] = A_sheet[item]\n",
    "result"
   ]
  },
  {
   "cell_type": "markdown",
   "metadata": {},
   "source": [
    "## 3 Pandas, Numpy\n",
    "데이터 정리"
   ]
  },
  {
   "cell_type": "code",
   "execution_count": 124,
   "metadata": {
    "collapsed": true
   },
   "outputs": [],
   "source": [
    "# 자료의 입력\n",
    "# 실제 개별 숫자 입력을 프로그래머가 직접 입력하는 경우는 없다 ===> 알바가 더 잘 하고 유용함... \n",
    "# 하지만... 1 수정 및 연산을 하려면 기본적인 구조는 알아야 함\n",
    "#          2 Web Crawling 등.. 기존에 없는 자료 Table을 생성하는 단계에서 구조설계를 위해 필요\n",
    "#                             또한 내부 등에서도 오류를 수정 보완을 위한 구조수정을 위해 필요"
   ]
  },
  {
   "cell_type": "code",
   "execution_count": 125,
   "metadata": {
    "collapsed": true
   },
   "outputs": [],
   "source": [
    "# 자료형\n",
    "# 기본 : list, dict, tuple (컴퓨터 연산결과, 자료생성시 잘 사용하지 않는다)\n",
    "# 확장1(관리_DB) : list  --> dict (index 확장가능 단 순서가 불규칙) \n",
    "#                      --> pd.Series (index 확장 및 순서정렬) \n",
    "#                      --> pd.DataFrame (index 값이 2 : table)\n",
    "# 확장2(연산_ML) : list  --> np.array() : Matrix 연산자료 \n",
    "#                                    string 도 자료는 가능하나,  연산을 위해 float등 숫자를 주로 가능"
   ]
  },
  {
   "cell_type": "code",
   "execution_count": 126,
   "metadata": {},
   "outputs": [
    {
     "data": {
      "text/plain": [
       "cash     4000\n",
       "cash     3000\n",
       "check    3500\n",
       "land     2000\n",
       "dtype: int64"
      ]
     },
     "execution_count": 126,
     "metadata": {},
     "output_type": "execute_result"
    }
   ],
   "source": [
    "import pandas as pd\n",
    "import numpy as np\n",
    "from pandas import DataFrame ,Series\n",
    "\n",
    "# Series : list의 확장 모듈 ( index 값을 string 등 다양하게 확장가능)\n",
    "cash_sheet = Series([4000,3000,3500,2000], index=['cash','cash','check','land'])\n",
    "cash_sheet"
   ]
  },
  {
   "cell_type": "markdown",
   "metadata": {
    "collapsed": true
   },
   "source": [
    "### 01. DataFrame\n",
    "데이터 테이블 만들기"
   ]
  },
  {
   "cell_type": "code",
   "execution_count": 127,
   "metadata": {},
   "outputs": [
    {
     "data": {
      "text/html": [
       "<div>\n",
       "<table border=\"1\" class=\"dataframe\">\n",
       "  <thead>\n",
       "    <tr style=\"text-align: right;\">\n",
       "      <th></th>\n",
       "      <th>code</th>\n",
       "      <th>f_sheet</th>\n",
       "      <th>item</th>\n",
       "      <th>price</th>\n",
       "    </tr>\n",
       "  </thead>\n",
       "  <tbody>\n",
       "    <tr>\n",
       "      <th>0</th>\n",
       "      <td>1</td>\n",
       "      <td>Balance_sheet</td>\n",
       "      <td>bond</td>\n",
       "      <td>1500</td>\n",
       "    </tr>\n",
       "    <tr>\n",
       "      <th>1</th>\n",
       "      <td>2</td>\n",
       "      <td>Income_sheet</td>\n",
       "      <td>cost</td>\n",
       "      <td>15000</td>\n",
       "    </tr>\n",
       "    <tr>\n",
       "      <th>2</th>\n",
       "      <td>3</td>\n",
       "      <td>Cash_sheet</td>\n",
       "      <td>cash</td>\n",
       "      <td>1000</td>\n",
       "    </tr>\n",
       "    <tr>\n",
       "      <th>3</th>\n",
       "      <td>4</td>\n",
       "      <td>Asset_sheet</td>\n",
       "      <td>asset</td>\n",
       "      <td>500</td>\n",
       "    </tr>\n",
       "  </tbody>\n",
       "</table>\n",
       "</div>"
      ],
      "text/plain": [
       "   code        f_sheet   item  price\n",
       "0     1  Balance_sheet   bond   1500\n",
       "1     2   Income_sheet   cost  15000\n",
       "2     3     Cash_sheet   cash   1000\n",
       "3     4    Asset_sheet  asset    500"
      ]
     },
     "execution_count": 127,
     "metadata": {},
     "output_type": "execute_result"
    }
   ],
   "source": [
    "from pandas import Series, DataFrame\n",
    "\n",
    "item = {'code':[1,2,3,4],             # 재무상태표, 손익계산서, 현금흐름표, 자본변동표\n",
    "       'f_sheet':['Balance_sheet','Income_sheet','Cash_sheet','Asset_sheet'],\n",
    "       'item':['bond','cost','cash','asset'],\n",
    "       'price':[1500,15000,1000,500]} \n",
    "\n",
    "DataFrame(item)"
   ]
  },
  {
   "cell_type": "code",
   "execution_count": 128,
   "metadata": {},
   "outputs": [
    {
     "data": {
      "text/html": [
       "<div>\n",
       "<table border=\"1\" class=\"dataframe\">\n",
       "  <thead>\n",
       "    <tr style=\"text-align: right;\">\n",
       "      <th></th>\n",
       "      <th>code</th>\n",
       "      <th>price</th>\n",
       "      <th>item</th>\n",
       "      <th>f_sheet</th>\n",
       "    </tr>\n",
       "  </thead>\n",
       "  <tbody>\n",
       "    <tr>\n",
       "      <th>0</th>\n",
       "      <td>1</td>\n",
       "      <td>1500</td>\n",
       "      <td>bond</td>\n",
       "      <td>Balance_sheet</td>\n",
       "    </tr>\n",
       "    <tr>\n",
       "      <th>1</th>\n",
       "      <td>2</td>\n",
       "      <td>15000</td>\n",
       "      <td>cost</td>\n",
       "      <td>Income_sheet</td>\n",
       "    </tr>\n",
       "    <tr>\n",
       "      <th>2</th>\n",
       "      <td>3</td>\n",
       "      <td>1000</td>\n",
       "      <td>cash</td>\n",
       "      <td>Cash_sheet</td>\n",
       "    </tr>\n",
       "    <tr>\n",
       "      <th>3</th>\n",
       "      <td>4</td>\n",
       "      <td>500</td>\n",
       "      <td>asset</td>\n",
       "      <td>Asset_sheet</td>\n",
       "    </tr>\n",
       "  </tbody>\n",
       "</table>\n",
       "</div>"
      ],
      "text/plain": [
       "   code  price   item        f_sheet\n",
       "0     1   1500   bond  Balance_sheet\n",
       "1     2  15000   cost   Income_sheet\n",
       "2     3   1000   cash     Cash_sheet\n",
       "3     4    500  asset    Asset_sheet"
      ]
     },
     "execution_count": 128,
     "metadata": {},
     "output_type": "execute_result"
    }
   ],
   "source": [
    "# DataFrame 의 순서 바꾸기 1   # column 잉름으로 순서바꾸기/ 선별하기 \n",
    "DataFrame(item, columns=['code','price','item','f_sheet'])"
   ]
  },
  {
   "cell_type": "code",
   "execution_count": 129,
   "metadata": {},
   "outputs": [
    {
     "data": {
      "text/html": [
       "<div>\n",
       "<table border=\"1\" class=\"dataframe\">\n",
       "  <thead>\n",
       "    <tr style=\"text-align: right;\">\n",
       "      <th></th>\n",
       "      <th>price</th>\n",
       "      <th>item</th>\n",
       "      <th>f_sheet</th>\n",
       "      <th>code</th>\n",
       "    </tr>\n",
       "  </thead>\n",
       "  <tbody>\n",
       "    <tr>\n",
       "      <th>0</th>\n",
       "      <td>1500</td>\n",
       "      <td>bond</td>\n",
       "      <td>Balance_sheet</td>\n",
       "      <td>1</td>\n",
       "    </tr>\n",
       "    <tr>\n",
       "      <th>1</th>\n",
       "      <td>15000</td>\n",
       "      <td>cost</td>\n",
       "      <td>Income_sheet</td>\n",
       "      <td>2</td>\n",
       "    </tr>\n",
       "    <tr>\n",
       "      <th>2</th>\n",
       "      <td>1000</td>\n",
       "      <td>cash</td>\n",
       "      <td>Cash_sheet</td>\n",
       "      <td>3</td>\n",
       "    </tr>\n",
       "    <tr>\n",
       "      <th>3</th>\n",
       "      <td>500</td>\n",
       "      <td>asset</td>\n",
       "      <td>Asset_sheet</td>\n",
       "      <td>4</td>\n",
       "    </tr>\n",
       "  </tbody>\n",
       "</table>\n",
       "</div>"
      ],
      "text/plain": [
       "   price   item        f_sheet  code\n",
       "0   1500   bond  Balance_sheet     1\n",
       "1  15000   cost   Income_sheet     2\n",
       "2   1000   cash     Cash_sheet     3\n",
       "3    500  asset    Asset_sheet     4"
      ]
     },
     "execution_count": 129,
     "metadata": {},
     "output_type": "execute_result"
    }
   ],
   "source": [
    "# DataFrame 의 순서 바꾸기 2  # column 의 index 로 순서바꾸기/ 선별하기\n",
    "df = DataFrame(item)\n",
    "df.iloc[:,[3,2,1,0]]"
   ]
  },
  {
   "cell_type": "markdown",
   "metadata": {
    "collapsed": true
   },
   "source": [
    "### 02. DataFrame 편집\n",
    "데이터 테이블 컬럼별 데이터 관리"
   ]
  },
  {
   "cell_type": "code",
   "execution_count": 130,
   "metadata": {
    "collapsed": true
   },
   "outputs": [],
   "source": [
    "data = \"\"\"\n",
    "일자,적용,입고수량,입고단가,입고금액,출고수량,출고단가,출고금액\n",
    "2017-03-01,전월이월,5,20000,100000,0,0,0\n",
    "2017-03-09,매입,15,18000,270000,0,0,0\n",
    "2017-03-16,매출,0,0,0,5,20000,100000\n",
    "2017-03-16,매출,0,0,0,5,18000,90000\n",
    "2017-03-24,매입,20,22000,440000,0,0,0\n",
    "2017-03-29,매출,0,0,0,10,18000,180000\n",
    "2017-03-29,매출,0,0,0,2,22000,44000\"\"\""
   ]
  },
  {
   "cell_type": "code",
   "execution_count": 131,
   "metadata": {},
   "outputs": [
    {
     "data": {
      "text/html": [
       "<div>\n",
       "<table border=\"1\" class=\"dataframe\">\n",
       "  <thead>\n",
       "    <tr style=\"text-align: right;\">\n",
       "      <th></th>\n",
       "      <th>일자</th>\n",
       "      <th>적용</th>\n",
       "      <th>입고수량</th>\n",
       "      <th>입고단가</th>\n",
       "      <th>입고금액</th>\n",
       "      <th>출고수량</th>\n",
       "      <th>출고단가</th>\n",
       "      <th>출고금액</th>\n",
       "    </tr>\n",
       "  </thead>\n",
       "  <tbody>\n",
       "    <tr>\n",
       "      <th>0</th>\n",
       "      <td>2017-03-01</td>\n",
       "      <td>전월이월</td>\n",
       "      <td>5</td>\n",
       "      <td>20000</td>\n",
       "      <td>100000</td>\n",
       "      <td>0</td>\n",
       "      <td>0</td>\n",
       "      <td>0</td>\n",
       "    </tr>\n",
       "    <tr>\n",
       "      <th>1</th>\n",
       "      <td>2017-03-09</td>\n",
       "      <td>매입</td>\n",
       "      <td>15</td>\n",
       "      <td>18000</td>\n",
       "      <td>270000</td>\n",
       "      <td>0</td>\n",
       "      <td>0</td>\n",
       "      <td>0</td>\n",
       "    </tr>\n",
       "    <tr>\n",
       "      <th>2</th>\n",
       "      <td>2017-03-16</td>\n",
       "      <td>매출</td>\n",
       "      <td>0</td>\n",
       "      <td>0</td>\n",
       "      <td>0</td>\n",
       "      <td>5</td>\n",
       "      <td>20000</td>\n",
       "      <td>100000</td>\n",
       "    </tr>\n",
       "    <tr>\n",
       "      <th>3</th>\n",
       "      <td>2017-03-16</td>\n",
       "      <td>매출</td>\n",
       "      <td>0</td>\n",
       "      <td>0</td>\n",
       "      <td>0</td>\n",
       "      <td>5</td>\n",
       "      <td>18000</td>\n",
       "      <td>90000</td>\n",
       "    </tr>\n",
       "    <tr>\n",
       "      <th>4</th>\n",
       "      <td>2017-03-24</td>\n",
       "      <td>매입</td>\n",
       "      <td>20</td>\n",
       "      <td>22000</td>\n",
       "      <td>440000</td>\n",
       "      <td>0</td>\n",
       "      <td>0</td>\n",
       "      <td>0</td>\n",
       "    </tr>\n",
       "    <tr>\n",
       "      <th>5</th>\n",
       "      <td>2017-03-29</td>\n",
       "      <td>매출</td>\n",
       "      <td>0</td>\n",
       "      <td>0</td>\n",
       "      <td>0</td>\n",
       "      <td>10</td>\n",
       "      <td>18000</td>\n",
       "      <td>180000</td>\n",
       "    </tr>\n",
       "    <tr>\n",
       "      <th>6</th>\n",
       "      <td>2017-03-29</td>\n",
       "      <td>매출</td>\n",
       "      <td>0</td>\n",
       "      <td>0</td>\n",
       "      <td>0</td>\n",
       "      <td>2</td>\n",
       "      <td>22000</td>\n",
       "      <td>44000</td>\n",
       "    </tr>\n",
       "  </tbody>\n",
       "</table>\n",
       "</div>"
      ],
      "text/plain": [
       "           일자    적용  입고수량   입고단가    입고금액  출고수량   출고단가    출고금액\n",
       "0  2017-03-01  전월이월     5  20000  100000     0      0       0\n",
       "1  2017-03-09    매입    15  18000  270000     0      0       0\n",
       "2  2017-03-16    매출     0      0       0     5  20000  100000\n",
       "3  2017-03-16    매출     0      0       0     5  18000   90000\n",
       "4  2017-03-24    매입    20  22000  440000     0      0       0\n",
       "5  2017-03-29    매출     0      0       0    10  18000  180000\n",
       "6  2017-03-29    매출     0      0       0     2  22000   44000"
      ]
     },
     "execution_count": 131,
     "metadata": {},
     "output_type": "execute_result"
    }
   ],
   "source": [
    "from io import StringIO\n",
    "import pandas as pd\n",
    "data = StringIO(data)\n",
    "df = pd.read_csv(data, sep=\",\"); df"
   ]
  },
  {
   "cell_type": "code",
   "execution_count": 132,
   "metadata": {},
   "outputs": [
    {
     "data": {
      "text/plain": [
       "Index(['일자', '적용', '입고수량', '입고단가', '입고금액', '출고수량', '출고단가', '출고금액'], dtype='object')"
      ]
     },
     "execution_count": 132,
     "metadata": {},
     "output_type": "execute_result"
    }
   ],
   "source": [
    "df.columns"
   ]
  },
  {
   "cell_type": "code",
   "execution_count": 133,
   "metadata": {},
   "outputs": [
    {
     "data": {
      "text/plain": [
       "810000"
      ]
     },
     "execution_count": 133,
     "metadata": {},
     "output_type": "execute_result"
    }
   ],
   "source": [
    "df.입고금액.sum()"
   ]
  },
  {
   "cell_type": "code",
   "execution_count": 134,
   "metadata": {},
   "outputs": [
    {
     "data": {
      "text/plain": [
       "0    100000\n",
       "1    370000\n",
       "2    370000\n",
       "3    370000\n",
       "4    810000\n",
       "5    810000\n",
       "6    810000\n",
       "Name: 입고금액, dtype: int64"
      ]
     },
     "execution_count": 134,
     "metadata": {},
     "output_type": "execute_result"
    }
   ],
   "source": [
    "df.입고금액.cumsum()"
   ]
  },
  {
   "cell_type": "code",
   "execution_count": 135,
   "metadata": {
    "scrolled": true
   },
   "outputs": [
    {
     "data": {
      "text/plain": [
       "396000"
      ]
     },
     "execution_count": 135,
     "metadata": {},
     "output_type": "execute_result"
    }
   ],
   "source": [
    "df.입고금액.sum() - df.출고금액.sum()"
   ]
  },
  {
   "cell_type": "markdown",
   "metadata": {},
   "source": [
    "###  선입선출법을 활용한 재고자산 단위원가 결정방법\n",
    "45p\n",
    "1. 출고수량의 합계를 구한다.\n",
    "2. 입고수량의 누적 column 을 구한다.\n",
    "3. 출고순서 누적 column 을 구한다.\n",
    "4. 출고순서 누적을 한행씩 밑으로 내리는 shift column 을 구한다.\n",
    "5. 출고순서_개별 column 을 구한다.\n",
    "6. 출고금액을 구한다."
   ]
  },
  {
   "cell_type": "markdown",
   "metadata": {},
   "source": [
    "## 4 객체지향 프로그래밍\n",
    "def: 함수적 프로그래밍 --> class: 객체지향 프로그래밍\n",
    "\n",
    "    1.def : 함수 1개의 사용자 함수명/ 1개의 기능만 가능\n",
    "    2.class : class 는 여러개 객체 및 여려개 함수를 포함한다 (1개면 함수를 쓰면 됨)\n",
    "              class 자신을 여러개의 이름으로 분산해서 사용 class 내부 self 매개변수의 역활\n",
    "              작은 독립적인 프로그래밍 ex) 자동차의 엔진/ 미션/ 반제품들 - 경험이 없어서 이해가 어려움"
   ]
  },
  {
   "cell_type": "code",
   "execution_count": 136,
   "metadata": {
    "collapsed": true
   },
   "outputs": [],
   "source": [
    "class Stamp:\n",
    "    name = 'Erdos Kim'\n",
    "    def description(self):\n",
    "        print('%s \\'s stamp is good shaped..'%self.name)"
   ]
  },
  {
   "cell_type": "code",
   "execution_count": 137,
   "metadata": {
    "collapsed": true
   },
   "outputs": [],
   "source": [
    "a = Stamp()  # class 객체를 생성"
   ]
  },
  {
   "cell_type": "code",
   "execution_count": 138,
   "metadata": {},
   "outputs": [
    {
     "name": "stdout",
     "output_type": "stream",
     "text": [
      "Erdos Kim 's stamp is good shaped..\n"
     ]
    }
   ],
   "source": [
    "a.description()"
   ]
  },
  {
   "cell_type": "code",
   "execution_count": 139,
   "metadata": {
    "collapsed": true
   },
   "outputs": [],
   "source": [
    "rule = set()   #  입력순서를 무시 : default로 정렬"
   ]
  },
  {
   "cell_type": "code",
   "execution_count": 140,
   "metadata": {},
   "outputs": [
    {
     "data": {
      "text/plain": [
       "{'B'}"
      ]
     },
     "execution_count": 140,
     "metadata": {},
     "output_type": "execute_result"
    }
   ],
   "source": [
    "rule.add('B'); rule"
   ]
  },
  {
   "cell_type": "code",
   "execution_count": 141,
   "metadata": {},
   "outputs": [
    {
     "data": {
      "text/plain": [
       "{'A', 'B'}"
      ]
     },
     "execution_count": 141,
     "metadata": {},
     "output_type": "execute_result"
    }
   ],
   "source": [
    "rule.add('A'); rule"
   ]
  },
  {
   "cell_type": "markdown",
   "metadata": {},
   "source": [
    "    <사례1> 기계장치 A의 장부금액은 ₩80,000이다. 이 기계장치는 ₩88,000으로 재평가되었다.\n",
    "    직전 재평가시 당기손익으로 인식한 재평가감소액 ₩5,000이 있었다.\n",
    "    \n",
    "    자산의 장부금액이 재평가로 인하여 증가된 경우에 그 증가액은 기타포괄손익으로 인식하고\n",
    "    재평가잉여금의 과목으로 자본에 가산한다. 그러나, 동일한 자산에 대하여 이전에 당기손익으\n",
    "    로 인식한 재평가감소액이 있다면 그 금액을 한도로 재평가증가액만큼 당기손익으로 인식한다.\n",
    "\n",
    "    <<회계처리>>>\n",
    "    (차) 기계장치  (단위:원) 8,000\n",
    "    (대) 재평가이익(당기손익) 5,000\n",
    "    재평가잉여금(기타포괄손익) 3,000"
   ]
  },
  {
   "cell_type": "markdown",
   "metadata": {},
   "source": [
    "    <사례2> 기계장치 B의 장부금액은 ₩60,000이다. 이 기계장치는 ₩50,000으로 재평가되었다.\n",
    "    직전 재평가로 재평가잉여금이 ₩7,000이 있었다.\n",
    "    \n",
    "    2. 자산의 장부금액이 재평가로 인하여 감소된 경우에 그 감소액은 당기손익으로 인식한다. 그러\n",
    "    나 그 자산에 대한 재평가잉여금의 잔액이 있다면 그 금액을 한도로 재평가감소액을 기타포괄\n",
    "    손익으로 인식한다. 재평가감소액을 기타포괄손익으로 인식하는 경우 재평가잉여금의 과목으로\n",
    "    자본에 누계한 금액을 감소시킨다.\n",
    "    \n",
    "    <<회계처리 (단위:원)>>\n",
    "    (차) 재평가잉여금(기타포괄손익) 7,000\n",
    "    재평가손실(당기손익)          3,000\n",
    "    (대) 기계장치              10,000"
   ]
  },
  {
   "cell_type": "markdown",
   "metadata": {},
   "source": [
    "    <사례3> 기계장치 B의 장부금액은 ₩56,000이다. 이 기계장치는 ₩50,000으로 재평가되었다.\n",
    "    직전 재평가로 재평가잉여금이 ₩7,000이 있었다.\n",
    "    \n",
    "    자산의 장부금액이 재평가로 인하여 감소된 경우에 그 감소액은 당기순익으로 인식한다. 그러\n",
    "    나 그 자산에 대한 재평가잉여금의 잔액이 있다면 그 금액을 한도로 재평가감소액을 기타포괄\n",
    "    손익으로 인식한다. 재평가감소액을 기타포괄손익으로 인식하는 경우 재평가잉여금의 과목으로\n",
    "    자본에 누계한 금액을 감소시킨다.\n",
    "\n",
    "    <<회계처리 (단위:원)>>\n",
    "    (차) 재평가잉여금(기타포괄손익)  6,000\n",
    "    (대) 기계장치                6,000"
   ]
  },
  {
   "cell_type": "code",
   "execution_count": null,
   "metadata": {
    "collapsed": true
   },
   "outputs": [],
   "source": []
  },
  {
   "cell_type": "code",
   "execution_count": null,
   "metadata": {
    "collapsed": true
   },
   "outputs": [],
   "source": []
  },
  {
   "cell_type": "code",
   "execution_count": null,
   "metadata": {
    "collapsed": true
   },
   "outputs": [],
   "source": []
  },
  {
   "cell_type": "code",
   "execution_count": null,
   "metadata": {
    "collapsed": true
   },
   "outputs": [],
   "source": []
  },
  {
   "cell_type": "code",
   "execution_count": null,
   "metadata": {
    "collapsed": true
   },
   "outputs": [],
   "source": []
  },
  {
   "cell_type": "code",
   "execution_count": null,
   "metadata": {
    "collapsed": true
   },
   "outputs": [],
   "source": []
  },
  {
   "cell_type": "code",
   "execution_count": null,
   "metadata": {
    "collapsed": true
   },
   "outputs": [],
   "source": []
  },
  {
   "cell_type": "code",
   "execution_count": null,
   "metadata": {
    "collapsed": true
   },
   "outputs": [],
   "source": [
    "from sklearn.datasets import load_iris"
   ]
  },
  {
   "cell_type": "code",
   "execution_count": null,
   "metadata": {
    "collapsed": true
   },
   "outputs": [],
   "source": [
    "iris_dataset = load_iris()"
   ]
  },
  {
   "cell_type": "code",
   "execution_count": null,
   "metadata": {
    "collapsed": true
   },
   "outputs": [],
   "source": [
    "iris_dataset.keys()"
   ]
  },
  {
   "cell_type": "code",
   "execution_count": null,
   "metadata": {
    "collapsed": true
   },
   "outputs": [],
   "source": [
    "iris_dataset['data']"
   ]
  },
  {
   "cell_type": "code",
   "execution_count": null,
   "metadata": {
    "collapsed": true
   },
   "outputs": [],
   "source": [
    "from sklearn.lda import LDA\n",
    "lda = LDA(n_components = 2)"
   ]
  },
  {
   "cell_type": "code",
   "execution_count": null,
   "metadata": {
    "collapsed": true
   },
   "outputs": [],
   "source": [
    "X_train_lda = lda.fit_transform(X_train_lda, y_)"
   ]
  },
  {
   "cell_type": "code",
   "execution_count": null,
   "metadata": {
    "collapsed": true
   },
   "outputs": [],
   "source": []
  },
  {
   "cell_type": "code",
   "execution_count": null,
   "metadata": {
    "collapsed": true
   },
   "outputs": [],
   "source": []
  },
  {
   "cell_type": "code",
   "execution_count": null,
   "metadata": {
    "collapsed": true
   },
   "outputs": [],
   "source": []
  },
  {
   "cell_type": "code",
   "execution_count": null,
   "metadata": {
    "collapsed": true
   },
   "outputs": [],
   "source": []
  },
  {
   "cell_type": "code",
   "execution_count": null,
   "metadata": {
    "collapsed": true
   },
   "outputs": [],
   "source": []
  },
  {
   "cell_type": "code",
   "execution_count": null,
   "metadata": {
    "collapsed": true
   },
   "outputs": [],
   "source": []
  },
  {
   "cell_type": "code",
   "execution_count": null,
   "metadata": {
    "collapsed": true
   },
   "outputs": [],
   "source": []
  },
  {
   "cell_type": "code",
   "execution_count": null,
   "metadata": {
    "collapsed": true
   },
   "outputs": [],
   "source": []
  },
  {
   "cell_type": "code",
   "execution_count": null,
   "metadata": {
    "collapsed": true
   },
   "outputs": [],
   "source": []
  },
  {
   "cell_type": "code",
   "execution_count": null,
   "metadata": {
    "collapsed": true
   },
   "outputs": [],
   "source": []
  },
  {
   "cell_type": "code",
   "execution_count": null,
   "metadata": {
    "collapsed": true
   },
   "outputs": [],
   "source": []
  },
  {
   "cell_type": "code",
   "execution_count": null,
   "metadata": {
    "collapsed": true
   },
   "outputs": [],
   "source": []
  },
  {
   "cell_type": "code",
   "execution_count": null,
   "metadata": {
    "collapsed": true
   },
   "outputs": [],
   "source": []
  },
  {
   "cell_type": "code",
   "execution_count": null,
   "metadata": {
    "collapsed": true
   },
   "outputs": [],
   "source": []
  },
  {
   "cell_type": "code",
   "execution_count": null,
   "metadata": {
    "collapsed": true
   },
   "outputs": [],
   "source": []
  },
  {
   "cell_type": "code",
   "execution_count": null,
   "metadata": {
    "collapsed": true
   },
   "outputs": [],
   "source": []
  },
  {
   "cell_type": "code",
   "execution_count": null,
   "metadata": {
    "collapsed": true
   },
   "outputs": [],
   "source": []
  },
  {
   "cell_type": "code",
   "execution_count": null,
   "metadata": {
    "collapsed": true
   },
   "outputs": [],
   "source": []
  },
  {
   "cell_type": "code",
   "execution_count": null,
   "metadata": {
    "collapsed": true
   },
   "outputs": [],
   "source": []
  },
  {
   "cell_type": "code",
   "execution_count": null,
   "metadata": {
    "collapsed": true
   },
   "outputs": [],
   "source": []
  },
  {
   "cell_type": "code",
   "execution_count": null,
   "metadata": {
    "collapsed": true
   },
   "outputs": [],
   "source": []
  },
  {
   "cell_type": "code",
   "execution_count": null,
   "metadata": {
    "collapsed": true
   },
   "outputs": [],
   "source": []
  },
  {
   "cell_type": "code",
   "execution_count": null,
   "metadata": {
    "collapsed": true
   },
   "outputs": [],
   "source": []
  },
  {
   "cell_type": "code",
   "execution_count": null,
   "metadata": {
    "collapsed": true
   },
   "outputs": [],
   "source": []
  },
  {
   "cell_type": "code",
   "execution_count": null,
   "metadata": {
    "collapsed": true
   },
   "outputs": [],
   "source": []
  },
  {
   "cell_type": "code",
   "execution_count": null,
   "metadata": {
    "collapsed": true
   },
   "outputs": [],
   "source": [
    "name_mask = {'cash':True, 'post':False, 'Check_account':True,\n",
    "        'coupon':True, 'div_check':True, 'Certi_deposit':False}"
   ]
  },
  {
   "cell_type": "code",
   "execution_count": null,
   "metadata": {
    "collapsed": true
   },
   "outputs": [],
   "source": [
    "A_sheet"
   ]
  },
  {
   "cell_type": "code",
   "execution_count": null,
   "metadata": {
    "collapsed": true
   },
   "outputs": [],
   "source": []
  },
  {
   "cell_type": "code",
   "execution_count": null,
   "metadata": {
    "collapsed": true
   },
   "outputs": [],
   "source": [
    "list(name.keys())"
   ]
  },
  {
   "cell_type": "code",
   "execution_count": null,
   "metadata": {
    "collapsed": true
   },
   "outputs": [],
   "source": []
  },
  {
   "cell_type": "code",
   "execution_count": null,
   "metadata": {
    "collapsed": true
   },
   "outputs": [],
   "source": []
  },
  {
   "cell_type": "code",
   "execution_count": null,
   "metadata": {
    "collapsed": true
   },
   "outputs": [],
   "source": []
  },
  {
   "cell_type": "code",
   "execution_count": null,
   "metadata": {
    "collapsed": true
   },
   "outputs": [],
   "source": []
  },
  {
   "cell_type": "code",
   "execution_count": null,
   "metadata": {
    "collapsed": true
   },
   "outputs": [],
   "source": []
  },
  {
   "cell_type": "code",
   "execution_count": null,
   "metadata": {
    "collapsed": true
   },
   "outputs": [],
   "source": []
  },
  {
   "cell_type": "code",
   "execution_count": null,
   "metadata": {
    "collapsed": true
   },
   "outputs": [],
   "source": []
  },
  {
   "cell_type": "code",
   "execution_count": null,
   "metadata": {
    "collapsed": true
   },
   "outputs": [],
   "source": []
  },
  {
   "cell_type": "code",
   "execution_count": null,
   "metadata": {
    "collapsed": true
   },
   "outputs": [],
   "source": []
  },
  {
   "cell_type": "code",
   "execution_count": null,
   "metadata": {
    "collapsed": true
   },
   "outputs": [],
   "source": []
  },
  {
   "cell_type": "code",
   "execution_count": null,
   "metadata": {
    "collapsed": true
   },
   "outputs": [],
   "source": []
  },
  {
   "cell_type": "code",
   "execution_count": null,
   "metadata": {
    "collapsed": true
   },
   "outputs": [],
   "source": []
  },
  {
   "cell_type": "code",
   "execution_count": null,
   "metadata": {
    "collapsed": true
   },
   "outputs": [],
   "source": []
  },
  {
   "cell_type": "code",
   "execution_count": null,
   "metadata": {
    "collapsed": true
   },
   "outputs": [],
   "source": [
    "df.columns[0] = list(map(lambda x: '{:,}'.format(x), list(df[df.columns[0]])))"
   ]
  },
  {
   "cell_type": "code",
   "execution_count": null,
   "metadata": {
    "collapsed": true
   },
   "outputs": [],
   "source": []
  },
  {
   "cell_type": "code",
   "execution_count": null,
   "metadata": {
    "collapsed": true
   },
   "outputs": [],
   "source": []
  },
  {
   "cell_type": "code",
   "execution_count": null,
   "metadata": {
    "collapsed": true
   },
   "outputs": [],
   "source": []
  },
  {
   "cell_type": "code",
   "execution_count": null,
   "metadata": {
    "collapsed": true
   },
   "outputs": [],
   "source": []
  },
  {
   "cell_type": "code",
   "execution_count": null,
   "metadata": {
    "collapsed": true
   },
   "outputs": [],
   "source": []
  },
  {
   "cell_type": "code",
   "execution_count": null,
   "metadata": {
    "collapsed": true
   },
   "outputs": [],
   "source": []
  },
  {
   "cell_type": "code",
   "execution_count": null,
   "metadata": {
    "collapsed": true
   },
   "outputs": [],
   "source": []
  },
  {
   "cell_type": "code",
   "execution_count": null,
   "metadata": {
    "collapsed": true
   },
   "outputs": [],
   "source": []
  },
  {
   "cell_type": "code",
   "execution_count": null,
   "metadata": {
    "collapsed": true
   },
   "outputs": [],
   "source": []
  },
  {
   "cell_type": "code",
   "execution_count": null,
   "metadata": {
    "collapsed": true
   },
   "outputs": [],
   "source": []
  },
  {
   "cell_type": "code",
   "execution_count": null,
   "metadata": {
    "collapsed": true
   },
   "outputs": [],
   "source": []
  },
  {
   "cell_type": "code",
   "execution_count": null,
   "metadata": {
    "collapsed": true
   },
   "outputs": [],
   "source": [
    "result['Credit']"
   ]
  },
  {
   "cell_type": "code",
   "execution_count": null,
   "metadata": {
    "collapsed": true
   },
   "outputs": [],
   "source": []
  },
  {
   "cell_type": "code",
   "execution_count": null,
   "metadata": {
    "collapsed": true
   },
   "outputs": [],
   "source": []
  },
  {
   "cell_type": "code",
   "execution_count": null,
   "metadata": {
    "collapsed": true
   },
   "outputs": [],
   "source": []
  },
  {
   "cell_type": "code",
   "execution_count": null,
   "metadata": {
    "collapsed": true
   },
   "outputs": [],
   "source": []
  },
  {
   "cell_type": "code",
   "execution_count": null,
   "metadata": {
    "collapsed": true
   },
   "outputs": [],
   "source": []
  },
  {
   "cell_type": "code",
   "execution_count": null,
   "metadata": {
    "collapsed": true
   },
   "outputs": [],
   "source": []
  },
  {
   "cell_type": "code",
   "execution_count": null,
   "metadata": {
    "collapsed": true
   },
   "outputs": [],
   "source": []
  },
  {
   "cell_type": "code",
   "execution_count": null,
   "metadata": {
    "collapsed": true
   },
   "outputs": [],
   "source": []
  },
  {
   "cell_type": "code",
   "execution_count": null,
   "metadata": {
    "collapsed": true
   },
   "outputs": [],
   "source": []
  },
  {
   "cell_type": "code",
   "execution_count": null,
   "metadata": {
    "collapsed": true
   },
   "outputs": [],
   "source": []
  },
  {
   "cell_type": "code",
   "execution_count": null,
   "metadata": {
    "collapsed": true
   },
   "outputs": [],
   "source": []
  },
  {
   "cell_type": "code",
   "execution_count": null,
   "metadata": {
    "collapsed": true
   },
   "outputs": [],
   "source": []
  },
  {
   "cell_type": "code",
   "execution_count": null,
   "metadata": {
    "collapsed": true
   },
   "outputs": [],
   "source": []
  },
  {
   "cell_type": "code",
   "execution_count": null,
   "metadata": {
    "collapsed": true
   },
   "outputs": [],
   "source": []
  },
  {
   "cell_type": "code",
   "execution_count": null,
   "metadata": {
    "collapsed": true
   },
   "outputs": [],
   "source": []
  },
  {
   "cell_type": "code",
   "execution_count": null,
   "metadata": {
    "collapsed": true
   },
   "outputs": [],
   "source": []
  },
  {
   "cell_type": "code",
   "execution_count": null,
   "metadata": {
    "collapsed": true
   },
   "outputs": [],
   "source": []
  },
  {
   "cell_type": "code",
   "execution_count": null,
   "metadata": {
    "collapsed": true
   },
   "outputs": [],
   "source": []
  },
  {
   "cell_type": "code",
   "execution_count": null,
   "metadata": {
    "collapsed": true
   },
   "outputs": [],
   "source": [
    "# 이를 실행 후 함수로 만들기"
   ]
  },
  {
   "cell_type": "code",
   "execution_count": null,
   "metadata": {
    "collapsed": true
   },
   "outputs": [],
   "source": []
  },
  {
   "cell_type": "code",
   "execution_count": null,
   "metadata": {
    "collapsed": true
   },
   "outputs": [],
   "source": []
  },
  {
   "cell_type": "code",
   "execution_count": null,
   "metadata": {
    "collapsed": true
   },
   "outputs": [],
   "source": []
  },
  {
   "cell_type": "code",
   "execution_count": null,
   "metadata": {
    "collapsed": true
   },
   "outputs": [],
   "source": []
  },
  {
   "cell_type": "code",
   "execution_count": null,
   "metadata": {
    "collapsed": true
   },
   "outputs": [],
   "source": []
  },
  {
   "cell_type": "code",
   "execution_count": null,
   "metadata": {
    "collapsed": true
   },
   "outputs": [],
   "source": []
  },
  {
   "cell_type": "code",
   "execution_count": null,
   "metadata": {
    "collapsed": true
   },
   "outputs": [],
   "source": []
  },
  {
   "cell_type": "code",
   "execution_count": null,
   "metadata": {
    "collapsed": true
   },
   "outputs": [],
   "source": []
  },
  {
   "cell_type": "code",
   "execution_count": null,
   "metadata": {
    "collapsed": true
   },
   "outputs": [],
   "source": []
  },
  {
   "cell_type": "code",
   "execution_count": null,
   "metadata": {
    "collapsed": true
   },
   "outputs": [],
   "source": []
  },
  {
   "cell_type": "code",
   "execution_count": null,
   "metadata": {
    "collapsed": true
   },
   "outputs": [],
   "source": [
    "Day170102"
   ]
  },
  {
   "cell_type": "code",
   "execution_count": null,
   "metadata": {
    "collapsed": true
   },
   "outputs": [],
   "source": []
  },
  {
   "cell_type": "code",
   "execution_count": null,
   "metadata": {
    "collapsed": true
   },
   "outputs": [],
   "source": []
  },
  {
   "cell_type": "code",
   "execution_count": null,
   "metadata": {
    "collapsed": true
   },
   "outputs": [],
   "source": []
  },
  {
   "cell_type": "code",
   "execution_count": null,
   "metadata": {
    "collapsed": true
   },
   "outputs": [],
   "source": []
  },
  {
   "cell_type": "code",
   "execution_count": null,
   "metadata": {
    "collapsed": true
   },
   "outputs": [],
   "source": []
  },
  {
   "cell_type": "code",
   "execution_count": null,
   "metadata": {
    "collapsed": true
   },
   "outputs": [],
   "source": []
  },
  {
   "cell_type": "code",
   "execution_count": null,
   "metadata": {
    "collapsed": true
   },
   "outputs": [],
   "source": []
  },
  {
   "cell_type": "code",
   "execution_count": null,
   "metadata": {
    "collapsed": true
   },
   "outputs": [],
   "source": []
  },
  {
   "cell_type": "code",
   "execution_count": null,
   "metadata": {
    "collapsed": true
   },
   "outputs": [],
   "source": []
  },
  {
   "cell_type": "code",
   "execution_count": null,
   "metadata": {
    "collapsed": true
   },
   "outputs": [],
   "source": []
  },
  {
   "cell_type": "code",
   "execution_count": null,
   "metadata": {
    "collapsed": true
   },
   "outputs": [],
   "source": []
  },
  {
   "cell_type": "code",
   "execution_count": null,
   "metadata": {
    "collapsed": true
   },
   "outputs": [],
   "source": []
  },
  {
   "cell_type": "code",
   "execution_count": null,
   "metadata": {
    "collapsed": true
   },
   "outputs": [],
   "source": []
  },
  {
   "cell_type": "code",
   "execution_count": null,
   "metadata": {
    "collapsed": true
   },
   "outputs": [],
   "source": []
  },
  {
   "cell_type": "code",
   "execution_count": null,
   "metadata": {
    "collapsed": true
   },
   "outputs": [],
   "source": []
  },
  {
   "cell_type": "code",
   "execution_count": null,
   "metadata": {
    "collapsed": true,
    "scrolled": true
   },
   "outputs": [],
   "source": [
    "a = 1000000\n",
    "a"
   ]
  },
  {
   "cell_type": "code",
   "execution_count": null,
   "metadata": {
    "collapsed": true
   },
   "outputs": [],
   "source": [
    "print(\"{:2f}\".format(10000))"
   ]
  },
  {
   "cell_type": "code",
   "execution_count": null,
   "metadata": {
    "collapsed": true
   },
   "outputs": [],
   "source": [
    "## [list]\n",
    "list()"
   ]
  },
  {
   "cell_type": "code",
   "execution_count": null,
   "metadata": {
    "collapsed": true
   },
   "outputs": [],
   "source": [
    "a = []"
   ]
  },
  {
   "cell_type": "code",
   "execution_count": null,
   "metadata": {
    "collapsed": true
   },
   "outputs": [],
   "source": [
    "a.append('test')"
   ]
  },
  {
   "cell_type": "code",
   "execution_count": null,
   "metadata": {
    "collapsed": true
   },
   "outputs": [],
   "source": []
  },
  {
   "cell_type": "code",
   "execution_count": null,
   "metadata": {
    "collapsed": true
   },
   "outputs": [],
   "source": []
  },
  {
   "cell_type": "code",
   "execution_count": null,
   "metadata": {
    "collapsed": true
   },
   "outputs": [],
   "source": []
  }
 ],
 "metadata": {
  "kernelspec": {
   "display_name": "Python 3",
   "language": "python",
   "name": "python3"
  },
  "language_info": {
   "codemirror_mode": {
    "name": "ipython",
    "version": 3
   },
   "file_extension": ".py",
   "mimetype": "text/x-python",
   "name": "python",
   "nbconvert_exporter": "python",
   "pygments_lexer": "ipython3",
   "version": "3.6.1"
  }
 },
 "nbformat": 4,
 "nbformat_minor": 2
}
