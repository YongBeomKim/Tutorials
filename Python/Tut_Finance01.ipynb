{
 "cells": [
  {
   "cell_type": "markdown",
   "metadata": {},
   "source": [
    "# Tutorial 01"
   ]
  },
  {
   "cell_type": "markdown",
   "metadata": {},
   "source": [
    "## 0 Introduction"
   ]
  },
  {
   "cell_type": "markdown",
   "metadata": {},
   "source": [
    "### 01 왜 파이썬을 배우러 오셨습니까?\n",
    "미래의 지구는 인간 만으로는 살기 어렵다는데\n",
    "\n",
    "정 안되면 자연으로 돌아가려고 생각 중..."
   ]
  },
  {
   "cell_type": "markdown",
   "metadata": {},
   "source": [
    "<img src=\"http://cdn.pingwest.com/wp-content/uploads/2016/03/DSCF3721.0.jpg\" align='left' width=600>"
   ]
  },
  {
   "cell_type": "markdown",
   "metadata": {},
   "source": [
    "### 02 이 수업의 내용을 간단히 설명해 드리겠습니다\n",
    "본인의 학습 동기를 잊지말고 꾸준이 유지하자.. \n",
    "\n",
    "그만큼 갈 길이 멀고, 다양하고, 그리고 강력하다!!"
   ]
  },
  {
   "cell_type": "code",
   "execution_count": 1,
   "metadata": {
    "collapsed": true
   },
   "outputs": [],
   "source": [
    "### 1) Python 기본문법 - 기본문법 등을 아래의 3가지 서랍속에 체계적 정리하기 \n",
    "# 1. Data :  숫자, 문자, 이미지, 동영상 etc...\n",
    "# 2. Function : 기본함수/모듈(객체지향) , 외부함수/모듈(객체지향)\n",
    "# 3. 연결기호 : 각 개별적 쓰임새가 정해져 있다!."
   ]
  },
  {
   "cell_type": "code",
   "execution_count": 2,
   "metadata": {
    "collapsed": true
   },
   "outputs": [],
   "source": [
    "### 2) Pandas & Numpy\n",
    "# 1. Numpy : 엑셀 내부 함수 (Cell 의 연산/ 속성/ 사용자정의)\n",
    "# 2. Pandas : 엑셀 메뉴 버튼들 (표만들기/ Pivot Table 만들기 / 간단한 Bar,line graph)\n",
    "# 3. Matplotlib : 엑셀 시각화 도구 틀"
   ]
  },
  {
   "cell_type": "code",
   "execution_count": 3,
   "metadata": {
    "collapsed": true
   },
   "outputs": [],
   "source": [
    "### 3) Google Sheet 와 Slack 등을 할용한 Python 의 응용\n",
    "# 1. 데이터 Google Sheet에서 불러오기/ 저장하기\n",
    "# 2. Slack으로 작업종료 메세지, 중간처리 메세지 전달하기"
   ]
  },
  {
   "cell_type": "markdown",
   "metadata": {},
   "source": [
    "### 03 Python을 활용하면 무엇이 가능한가\n",
    "Simple example..... Web Crawling\n",
    "\n",
    "http://finance.daum.net/item/main.daum?code=047810"
   ]
  },
  {
   "cell_type": "code",
   "execution_count": 4,
   "metadata": {},
   "outputs": [
    {
     "data": {
      "text/html": [
       "<div>\n",
       "<table border=\"1\" class=\"dataframe\">\n",
       "  <thead>\n",
       "    <tr style=\"text-align: right;\">\n",
       "      <th></th>\n",
       "      <th>0</th>\n",
       "      <th>1</th>\n",
       "      <th>2</th>\n",
       "      <th>3</th>\n",
       "      <th>4</th>\n",
       "      <th>5</th>\n",
       "      <th>6</th>\n",
       "      <th>7</th>\n",
       "      <th>8</th>\n",
       "    </tr>\n",
       "  </thead>\n",
       "  <tbody>\n",
       "    <tr>\n",
       "      <th>0</th>\n",
       "      <td>주요재무지표</td>\n",
       "      <td>분기</td>\n",
       "      <td>연간</td>\n",
       "      <td>NaN</td>\n",
       "      <td>NaN</td>\n",
       "      <td>NaN</td>\n",
       "      <td>NaN</td>\n",
       "      <td>NaN</td>\n",
       "      <td>NaN</td>\n",
       "    </tr>\n",
       "    <tr>\n",
       "      <th>1</th>\n",
       "      <td>2016/03</td>\n",
       "      <td>2016/06</td>\n",
       "      <td>2016/09</td>\n",
       "      <td>2016/12</td>\n",
       "      <td>2013</td>\n",
       "      <td>2014</td>\n",
       "      <td>2015</td>\n",
       "      <td>2016</td>\n",
       "      <td>NaN</td>\n",
       "    </tr>\n",
       "    <tr>\n",
       "      <th>2</th>\n",
       "      <td>IFRS 연결</td>\n",
       "      <td>IFRS 연결</td>\n",
       "      <td>IFRS 연결</td>\n",
       "      <td>IFRS 연결</td>\n",
       "      <td>IFRS 연결</td>\n",
       "      <td>IFRS 연결</td>\n",
       "      <td>IFRS 연결</td>\n",
       "      <td>IFRS 연결</td>\n",
       "      <td>NaN</td>\n",
       "    </tr>\n",
       "    <tr>\n",
       "      <th>3</th>\n",
       "      <td>매출액(억원)</td>\n",
       "      <td>7105</td>\n",
       "      <td>8013</td>\n",
       "      <td>8014</td>\n",
       "      <td>7872</td>\n",
       "      <td>20163</td>\n",
       "      <td>23148</td>\n",
       "      <td>29010</td>\n",
       "      <td>31006.00</td>\n",
       "    </tr>\n",
       "    <tr>\n",
       "      <th>4</th>\n",
       "      <td>영업이익(억원)</td>\n",
       "      <td>812</td>\n",
       "      <td>950</td>\n",
       "      <td>940</td>\n",
       "      <td>446</td>\n",
       "      <td>1245</td>\n",
       "      <td>1612</td>\n",
       "      <td>2856</td>\n",
       "      <td>3149.00</td>\n",
       "    </tr>\n",
       "    <tr>\n",
       "      <th>5</th>\n",
       "      <td>당기순이익(억원)</td>\n",
       "      <td>752</td>\n",
       "      <td>684</td>\n",
       "      <td>464</td>\n",
       "      <td>779</td>\n",
       "      <td>903</td>\n",
       "      <td>1110</td>\n",
       "      <td>1805</td>\n",
       "      <td>2681.00</td>\n",
       "    </tr>\n",
       "    <tr>\n",
       "      <th>6</th>\n",
       "      <td>EPS(원)</td>\n",
       "      <td>772</td>\n",
       "      <td>702</td>\n",
       "      <td>476</td>\n",
       "      <td>800</td>\n",
       "      <td>924</td>\n",
       "      <td>1140</td>\n",
       "      <td>1852</td>\n",
       "      <td>2751.00</td>\n",
       "    </tr>\n",
       "    <tr>\n",
       "      <th>7</th>\n",
       "      <td>ROE(%)</td>\n",
       "      <td>6.33</td>\n",
       "      <td>5.51</td>\n",
       "      <td>3.57</td>\n",
       "      <td>5.71</td>\n",
       "      <td>9.74</td>\n",
       "      <td>11.12</td>\n",
       "      <td>16.35</td>\n",
       "      <td>20.80</td>\n",
       "    </tr>\n",
       "    <tr>\n",
       "      <th>8</th>\n",
       "      <td>부채비율(%)</td>\n",
       "      <td>126.65</td>\n",
       "      <td>120.09</td>\n",
       "      <td>124.77</td>\n",
       "      <td>108.58</td>\n",
       "      <td>105.51</td>\n",
       "      <td>102.69</td>\n",
       "      <td>131.45</td>\n",
       "      <td>108.58</td>\n",
       "    </tr>\n",
       "    <tr>\n",
       "      <th>9</th>\n",
       "      <td>주당배당금(원)</td>\n",
       "      <td>-</td>\n",
       "      <td>-</td>\n",
       "      <td>-</td>\n",
       "      <td>680</td>\n",
       "      <td>200</td>\n",
       "      <td>250</td>\n",
       "      <td>400</td>\n",
       "      <td>680.00</td>\n",
       "    </tr>\n",
       "  </tbody>\n",
       "</table>\n",
       "</div>"
      ],
      "text/plain": [
       "           0        1        2        3        4        5        6        7  \\\n",
       "0     주요재무지표       분기       연간      NaN      NaN      NaN      NaN      NaN   \n",
       "1    2016/03  2016/06  2016/09  2016/12     2013     2014     2015     2016   \n",
       "2    IFRS 연결  IFRS 연결  IFRS 연결  IFRS 연결  IFRS 연결  IFRS 연결  IFRS 연결  IFRS 연결   \n",
       "3    매출액(억원)     7105     8013     8014     7872    20163    23148    29010   \n",
       "4   영업이익(억원)      812      950      940      446     1245     1612     2856   \n",
       "5  당기순이익(억원)      752      684      464      779      903     1110     1805   \n",
       "6     EPS(원)      772      702      476      800      924     1140     1852   \n",
       "7     ROE(%)     6.33     5.51     3.57     5.71     9.74    11.12    16.35   \n",
       "8    부채비율(%)   126.65   120.09   124.77   108.58   105.51   102.69   131.45   \n",
       "9   주당배당금(원)        -        -        -      680      200      250      400   \n",
       "\n",
       "          8  \n",
       "0       NaN  \n",
       "1       NaN  \n",
       "2       NaN  \n",
       "3  31006.00  \n",
       "4   3149.00  \n",
       "5   2681.00  \n",
       "6   2751.00  \n",
       "7     20.80  \n",
       "8    108.58  \n",
       "9    680.00  "
      ]
     },
     "execution_count": 4,
     "metadata": {},
     "output_type": "execute_result"
    }
   ],
   "source": [
    "import pandas as pd\n",
    "web = pd.read_html(\"http://finance.daum.net/item/main.daum?code=047810\")\n",
    "web[3]"
   ]
  },
  {
   "cell_type": "code",
   "execution_count": 5,
   "metadata": {
    "collapsed": true
   },
   "outputs": [],
   "source": [
    "# 이 차제도 다른 JAVA, C++, Delphi, Scala 등에 비교하면 간단은 하지만,\n",
    "# 몇번의 Click 만으로도 작업이 되는 MS office, PowerBI, 한컴오피스 등에 비교하면 효율성 떨어진다\n",
    "# 하지만....."
   ]
  },
  {
   "cell_type": "code",
   "execution_count": 6,
   "metadata": {},
   "outputs": [
    {
     "data": {
      "text/html": [
       "<div>\n",
       "<table border=\"1\" class=\"dataframe\">\n",
       "  <thead>\n",
       "    <tr style=\"text-align: right;\">\n",
       "      <th></th>\n",
       "      <th>주요재무지표</th>\n",
       "      <th>2016/03</th>\n",
       "      <th>2016/06</th>\n",
       "      <th>2016/09</th>\n",
       "      <th>2016/12</th>\n",
       "      <th>2013</th>\n",
       "      <th>2014</th>\n",
       "      <th>2015</th>\n",
       "      <th>2016</th>\n",
       "    </tr>\n",
       "  </thead>\n",
       "  <tbody>\n",
       "    <tr>\n",
       "      <th>3</th>\n",
       "      <td>매출액(억원)</td>\n",
       "      <td>7105</td>\n",
       "      <td>8013</td>\n",
       "      <td>8014</td>\n",
       "      <td>7872</td>\n",
       "      <td>20163</td>\n",
       "      <td>23148</td>\n",
       "      <td>29010</td>\n",
       "      <td>31006</td>\n",
       "    </tr>\n",
       "    <tr>\n",
       "      <th>4</th>\n",
       "      <td>영업이익(억원)</td>\n",
       "      <td>812</td>\n",
       "      <td>950</td>\n",
       "      <td>940</td>\n",
       "      <td>446</td>\n",
       "      <td>1245</td>\n",
       "      <td>1612</td>\n",
       "      <td>2856</td>\n",
       "      <td>3149</td>\n",
       "    </tr>\n",
       "    <tr>\n",
       "      <th>5</th>\n",
       "      <td>당기순이익(억원)</td>\n",
       "      <td>752</td>\n",
       "      <td>684</td>\n",
       "      <td>464</td>\n",
       "      <td>779</td>\n",
       "      <td>903</td>\n",
       "      <td>1110</td>\n",
       "      <td>1805</td>\n",
       "      <td>2681</td>\n",
       "    </tr>\n",
       "    <tr>\n",
       "      <th>6</th>\n",
       "      <td>EPS(원)</td>\n",
       "      <td>772</td>\n",
       "      <td>702</td>\n",
       "      <td>476</td>\n",
       "      <td>800</td>\n",
       "      <td>924</td>\n",
       "      <td>1140</td>\n",
       "      <td>1852</td>\n",
       "      <td>2751</td>\n",
       "    </tr>\n",
       "    <tr>\n",
       "      <th>7</th>\n",
       "      <td>ROE(%)</td>\n",
       "      <td>6.33</td>\n",
       "      <td>5.51</td>\n",
       "      <td>3.57</td>\n",
       "      <td>5.71</td>\n",
       "      <td>9.74</td>\n",
       "      <td>11.12</td>\n",
       "      <td>16.35</td>\n",
       "      <td>20.8</td>\n",
       "    </tr>\n",
       "    <tr>\n",
       "      <th>8</th>\n",
       "      <td>부채비율(%)</td>\n",
       "      <td>126.65</td>\n",
       "      <td>120.09</td>\n",
       "      <td>124.77</td>\n",
       "      <td>108.58</td>\n",
       "      <td>105.51</td>\n",
       "      <td>102.69</td>\n",
       "      <td>131.45</td>\n",
       "      <td>108.58</td>\n",
       "    </tr>\n",
       "    <tr>\n",
       "      <th>9</th>\n",
       "      <td>주당배당금(원)</td>\n",
       "      <td>-</td>\n",
       "      <td>-</td>\n",
       "      <td>-</td>\n",
       "      <td>680</td>\n",
       "      <td>200</td>\n",
       "      <td>250</td>\n",
       "      <td>400</td>\n",
       "      <td>680</td>\n",
       "    </tr>\n",
       "  </tbody>\n",
       "</table>\n",
       "</div>"
      ],
      "text/plain": [
       "0     주요재무지표 2016/03 2016/06 2016/09 2016/12    2013    2014    2015    2016\n",
       "3    매출액(억원)    7105    8013    8014    7872   20163   23148   29010   31006\n",
       "4   영업이익(억원)     812     950     940     446    1245    1612    2856    3149\n",
       "5  당기순이익(억원)     752     684     464     779     903    1110    1805    2681\n",
       "6     EPS(원)     772     702     476     800     924    1140    1852    2751\n",
       "7     ROE(%)    6.33    5.51    3.57    5.71    9.74   11.12   16.35    20.8\n",
       "8    부채비율(%)  126.65  120.09  124.77  108.58  105.51  102.69  131.45  108.58\n",
       "9   주당배당금(원)       -       -       -     680     200     250     400     680"
      ]
     },
     "execution_count": 6,
     "metadata": {},
     "output_type": "execute_result"
    }
   ],
   "source": [
    "df = web[3]\n",
    "df.iloc[0,1:] = list(df.iloc[1,:-1])    # 일자 엇갈린 데이터 재정렬\n",
    "df.columns = df.iloc[0]                 # 컬럼 만들기\n",
    "df.reindex(df.index.drop([0,1,2])) # Drop the 2nd row:"
   ]
  },
  {
   "cell_type": "code",
   "execution_count": 7,
   "metadata": {
    "collapsed": true
   },
   "outputs": [],
   "source": [
    "# 위 내용을 함수로 만들어 보자\n",
    "def daum_fin_sheet(code):\n",
    "    import pandas as pd\n",
    "    web = pd.read_html(\"http://finance.daum.net/item/main.daum?code=\"+code)\n",
    "    df = web[3]\n",
    "    df.iloc[0,1:] = list(df.iloc[1,:-1])    # 일자 엇갈린 데이터 재정렬\n",
    "    df.columns = df.iloc[0]                 # 컬럼 만들기\n",
    "    df = df.reindex(df.index.drop([0,1,2])) # Drop the 2nd row\n",
    "    return df"
   ]
  },
  {
   "cell_type": "code",
   "execution_count": 8,
   "metadata": {},
   "outputs": [
    {
     "data": {
      "text/html": [
       "<div>\n",
       "<table border=\"1\" class=\"dataframe\">\n",
       "  <thead>\n",
       "    <tr style=\"text-align: right;\">\n",
       "      <th></th>\n",
       "      <th>주요재무지표</th>\n",
       "      <th>2016/03</th>\n",
       "      <th>2016/06</th>\n",
       "      <th>2016/09</th>\n",
       "      <th>2016/12</th>\n",
       "      <th>2013</th>\n",
       "      <th>2014</th>\n",
       "      <th>2015</th>\n",
       "      <th>2016</th>\n",
       "    </tr>\n",
       "  </thead>\n",
       "  <tbody>\n",
       "    <tr>\n",
       "      <th>3</th>\n",
       "      <td>매출액(억원)</td>\n",
       "      <td>497822</td>\n",
       "      <td>509371</td>\n",
       "      <td>478156</td>\n",
       "      <td>533317</td>\n",
       "      <td>2286926</td>\n",
       "      <td>2062059</td>\n",
       "      <td>2006534</td>\n",
       "      <td>2.01867e+06</td>\n",
       "    </tr>\n",
       "    <tr>\n",
       "      <th>4</th>\n",
       "      <td>영업이익(억원)</td>\n",
       "      <td>66758</td>\n",
       "      <td>81439</td>\n",
       "      <td>52000</td>\n",
       "      <td>92208</td>\n",
       "      <td>367850</td>\n",
       "      <td>250250</td>\n",
       "      <td>264134</td>\n",
       "      <td>292406</td>\n",
       "    </tr>\n",
       "    <tr>\n",
       "      <th>5</th>\n",
       "      <td>당기순이익(억원)</td>\n",
       "      <td>52528</td>\n",
       "      <td>58473</td>\n",
       "      <td>45378</td>\n",
       "      <td>70880</td>\n",
       "      <td>304747</td>\n",
       "      <td>233943</td>\n",
       "      <td>190601</td>\n",
       "      <td>227260</td>\n",
       "    </tr>\n",
       "    <tr>\n",
       "      <th>6</th>\n",
       "      <td>EPS(원)</td>\n",
       "      <td>31481</td>\n",
       "      <td>35400</td>\n",
       "      <td>27099</td>\n",
       "      <td>42912</td>\n",
       "      <td>175282</td>\n",
       "      <td>135673</td>\n",
       "      <td>109883</td>\n",
       "      <td>136760</td>\n",
       "    </tr>\n",
       "    <tr>\n",
       "      <th>7</th>\n",
       "      <td>ROE(%)</td>\n",
       "      <td>3.05</td>\n",
       "      <td>3.35</td>\n",
       "      <td>2.53</td>\n",
       "      <td>3.85</td>\n",
       "      <td>22.80</td>\n",
       "      <td>15.06</td>\n",
       "      <td>11.16</td>\n",
       "      <td>12.48</td>\n",
       "    </tr>\n",
       "    <tr>\n",
       "      <th>8</th>\n",
       "      <td>부채비율(%)</td>\n",
       "      <td>35.28</td>\n",
       "      <td>34.16</td>\n",
       "      <td>36.17</td>\n",
       "      <td>35.87</td>\n",
       "      <td>42.7</td>\n",
       "      <td>37.09</td>\n",
       "      <td>35.25</td>\n",
       "      <td>35.87</td>\n",
       "    </tr>\n",
       "    <tr>\n",
       "      <th>9</th>\n",
       "      <td>주당배당금(원)</td>\n",
       "      <td>-</td>\n",
       "      <td>1000</td>\n",
       "      <td>-</td>\n",
       "      <td>27500</td>\n",
       "      <td>14300</td>\n",
       "      <td>20000</td>\n",
       "      <td>21000</td>\n",
       "      <td>28500</td>\n",
       "    </tr>\n",
       "  </tbody>\n",
       "</table>\n",
       "</div>"
      ],
      "text/plain": [
       "0     주요재무지표 2016/03 2016/06 2016/09 2016/12     2013     2014     2015  \\\n",
       "3    매출액(억원)  497822  509371  478156  533317  2286926  2062059  2006534   \n",
       "4   영업이익(억원)   66758   81439   52000   92208   367850   250250   264134   \n",
       "5  당기순이익(억원)   52528   58473   45378   70880   304747   233943   190601   \n",
       "6     EPS(원)   31481   35400   27099   42912   175282   135673   109883   \n",
       "7     ROE(%)    3.05    3.35    2.53    3.85    22.80    15.06    11.16   \n",
       "8    부채비율(%)   35.28   34.16   36.17   35.87     42.7    37.09    35.25   \n",
       "9   주당배당금(원)       -    1000       -   27500    14300    20000    21000   \n",
       "\n",
       "0         2016  \n",
       "3  2.01867e+06  \n",
       "4       292406  \n",
       "5       227260  \n",
       "6       136760  \n",
       "7        12.48  \n",
       "8        35.87  \n",
       "9        28500  "
      ]
     },
     "execution_count": 8,
     "metadata": {},
     "output_type": "execute_result"
    }
   ],
   "source": [
    "daum_fin_sheet('005930')"
   ]
  },
  {
   "cell_type": "code",
   "execution_count": 9,
   "metadata": {},
   "outputs": [
    {
     "data": {
      "text/html": [
       "<div>\n",
       "<table border=\"1\" class=\"dataframe\">\n",
       "  <thead>\n",
       "    <tr style=\"text-align: right;\">\n",
       "      <th></th>\n",
       "      <th>시간</th>\n",
       "      <th>공시대상회사</th>\n",
       "      <th>보고서명</th>\n",
       "      <th>제출인</th>\n",
       "      <th>접수일자</th>\n",
       "    </tr>\n",
       "  </thead>\n",
       "  <tbody>\n",
       "    <tr>\n",
       "      <th>0</th>\n",
       "      <td>18:44</td>\n",
       "      <td>유플러스엘티이제삼십사차유동화전문유한회사</td>\n",
       "      <td>[발행조건확정]증권신고서(유동화증권)</td>\n",
       "      <td>유플러스엘티이제삼십사차유동화전문유한회사</td>\n",
       "      <td>2017.08.07</td>\n",
       "    </tr>\n",
       "    <tr>\n",
       "      <th>1</th>\n",
       "      <td>18:25</td>\n",
       "      <td>폭스브레인</td>\n",
       "      <td>전환청구권행사  (제5회차)</td>\n",
       "      <td>폭스브레인</td>\n",
       "      <td>2017.08.07</td>\n",
       "    </tr>\n",
       "    <tr>\n",
       "      <th>2</th>\n",
       "      <td>18:22</td>\n",
       "      <td>동양</td>\n",
       "      <td>불성실공시법인지정예고</td>\n",
       "      <td>유가증권시장본부</td>\n",
       "      <td>2017.08.07</td>\n",
       "    </tr>\n",
       "    <tr>\n",
       "      <th>3</th>\n",
       "      <td>18:07</td>\n",
       "      <td>삼화왕관</td>\n",
       "      <td>[기재정정]주요사항보고서(자기주식취득결정)</td>\n",
       "      <td>삼화왕관</td>\n",
       "      <td>2017.08.08</td>\n",
       "    </tr>\n",
       "    <tr>\n",
       "      <th>4</th>\n",
       "      <td>18:06</td>\n",
       "      <td>동양</td>\n",
       "      <td>증권관련집단소송의불허가결정</td>\n",
       "      <td>동양</td>\n",
       "      <td>2017.08.07</td>\n",
       "    </tr>\n",
       "  </tbody>\n",
       "</table>\n",
       "</div>"
      ],
      "text/plain": [
       "      시간                 공시대상회사                       보고서명  \\\n",
       "0  18:44  유플러스엘티이제삼십사차유동화전문유한회사     [발행조건확정]증권신고서(유동화증권)     \n",
       "1  18:25                  폭스브레인            전환청구권행사  (제5회차)   \n",
       "2  18:22                     동양              불성실공시법인지정예고     \n",
       "3  18:07                   삼화왕관  [기재정정]주요사항보고서(자기주식취득결정)     \n",
       "4  18:06                     동양           증권관련집단소송의불허가결정     \n",
       "\n",
       "                     제출인        접수일자  \n",
       "0  유플러스엘티이제삼십사차유동화전문유한회사  2017.08.07  \n",
       "1                  폭스브레인  2017.08.07  \n",
       "2               유가증권시장본부  2017.08.07  \n",
       "3                   삼화왕관  2017.08.08  \n",
       "4                     동양  2017.08.07  "
      ]
     },
     "execution_count": 9,
     "metadata": {},
     "output_type": "execute_result"
    }
   ],
   "source": [
    "# http://dart.fss.or.kr/dsac001/mainY.do # 유가증권 최근공시\n",
    "# http://dart.fss.or.kr/dsac001/mainK.do # 코스닥시장 최근공시\n",
    "# http://dart.fss.or.kr/dsac001/mainAll.do # 전체 최근공시\n",
    "from intro import dart_main_table\n",
    "df = dart_main_table('http://dart.fss.or.kr/dsac001/mainAll.do')\n",
    "df.head()"
   ]
  },
  {
   "cell_type": "code",
   "execution_count": 10,
   "metadata": {
    "collapsed": true
   },
   "outputs": [],
   "source": [
    "# 반복적이고 규칙적인 작업을 파이썬 코드로 작업을 해 두면 훨씬 능률적!!\n",
    "# VBA 는 MS 환경에 제한되나, Python 은 '라즈베리파이PC'등 다양한 환경에서도 똑같은 결과를 구현\n",
    "# 용량이 큰 금융데이터를 쉽게 \n",
    "# tensorflow 및 Py-torch 등의 '머신러닝 학습' 실습코드들이 공개되어 있다.\n",
    "\n",
    "# 이 수업을 통해 본인이 반복적 작업하는 내용 중, 하나정도를 실습으로 만들어 보자!!"
   ]
  },
  {
   "cell_type": "markdown",
   "metadata": {},
   "source": [
    "<img src=\"http://cfile3.uf.tistory.com/image/275AF04159577681118067\" align=\"left\">"
   ]
  },
  {
   "cell_type": "code",
   "execution_count": null,
   "metadata": {
    "collapsed": true
   },
   "outputs": [],
   "source": [
    "# 내용이 어려운 것이 절대 아니다!!! \n",
    "# (영어 공부하는데 200개의 단어의 뜻만 암기하고, 1~3가지 문법만 알면 끝난다면!! 이 얼마나 적은 학습량인가??)\n",
    "# 단지 익숙하지 않을 뿐... 곤란한 당신의 이유는 단지 이것 뿐이다..\n",
    "# 이걸 2주만에 익히지 못하는건 당연하다.. 추후 10회독 반복복습을 하면 자연스럽게 익힐 수 있다!!"
   ]
  },
  {
   "cell_type": "code",
   "execution_count": null,
   "metadata": {
    "collapsed": true
   },
   "outputs": [],
   "source": []
  },
  {
   "cell_type": "markdown",
   "metadata": {},
   "source": [
    "## 1 Let's Start"
   ]
  },
  {
   "cell_type": "markdown",
   "metadata": {},
   "source": [
    "### 00 코딩 Coding 이란\n",
    "컴퓨터에게 영어로 명령을 내리는 것"
   ]
  },
  {
   "cell_type": "code",
   "execution_count": 11,
   "metadata": {
    "collapsed": true
   },
   "outputs": [],
   "source": [
    "# ## 영어를 공부할 떄..!!\n",
    "# 1. 해당 문단의 '전체주어' 와 '전체동사'를 파악 - 문단 전체의 흐름\n",
    "# 2. '관계부사/대명사' 등 특수목적 단어로 세부 흐름을 분석\n",
    "# 3. 개별 주어// 동사// 목적어 또는 부사의 내용을 해석 \n",
    "#\n",
    "# 4. 중요한 부분만 단어찾고, 덜 중요한 부분은 skip!!!!!!!!!!!!!!\n",
    "# 5. Voca 22000, 5형식 문법, 도치, 강조문법, idioms"
   ]
  },
  {
   "cell_type": "code",
   "execution_count": 12,
   "metadata": {},
   "outputs": [
    {
     "name": "stdout",
     "output_type": "stream",
     "text": [
      "***\n",
      "******\n",
      "*********\n"
     ]
    }
   ],
   "source": [
    "# What is Python !!!\n",
    "# 1. 인터프리터 (1줄씩 해석 후 실행: 원시적) 가 아닌 \n",
    "#    컴파일 언어 (전체를 해석 후 실행: 인간에게 더 쉽게 작업이 가능, 일부 오류시 전체가 장애)\n",
    "# 2. so.. 다른 코딩 언어보다 짧고 간단한 구조로 구성\n",
    "# 3. ex.. 문법 중 주요부분은 indent, ':(콜론)' 로 대체 \n",
    "#    and. 문법에도 사칙연산이 활용 (파이썬의 특징)\n",
    "\n",
    "for i in range(1,10):\n",
    "    if i % 3 == 0:\n",
    "        print('*' * i)"
   ]
  },
  {
   "cell_type": "code",
   "execution_count": 13,
   "metadata": {
    "collapsed": true
   },
   "outputs": [],
   "source": [
    "# 파이썬 코딩의 기본 3요소\n",
    "# 1.Data,  2.함수,  3.연결부호"
   ]
  },
  {
   "cell_type": "code",
   "execution_count": 14,
   "metadata": {
    "collapsed": true
   },
   "outputs": [],
   "source": [
    "# 1. Data\n",
    "# 숫자   :  연산  \n",
    "# '문자' :  counting, slicing, 문자열 더하기\n",
    "# 변수명  :  문자만 가능 (내부는 수정 변환이 가능)\n",
    "# [list형 데이터] - 숫자/ 문자\n",
    "# {dict형 데이터} - { key값 : value값 } - 숫자 /문자\n",
    "# (tuple1, tuple2) : 병렬처리, 수정불가능 (2개 , 3개 ... n개), 꼭 짝은 맞아야 한다!!)\n",
    "# ex) (tuple1, tuple2) : 컴퓨터 연산처리 결과 (편집이 어려워서 사용자가 건드리는 경우는 거의 없다)"
   ]
  },
  {
   "cell_type": "code",
   "execution_count": 15,
   "metadata": {
    "collapsed": true
   },
   "outputs": [],
   "source": [
    "# 2. 연걸부호\n",
    "# . 종속   \n",
    "# , 병렬나열\n",
    "# : 내부설계\n",
    "# = 입력\n",
    "# == 대등조건\n",
    "# != 부 대등조건\n",
    "# '' , \"\"  문자열 지정 (연산 불가능한 객체)"
   ]
  },
  {
   "cell_type": "code",
   "execution_count": 16,
   "metadata": {
    "collapsed": true
   },
   "outputs": [],
   "source": [
    "# 3. 함수\n",
    "# 파이썬 기본함수/ 모듈(class)\n",
    "# 파이썬 외부함수/ 모듈(class)"
   ]
  },
  {
   "cell_type": "markdown",
   "metadata": {},
   "source": [
    "## 1 Datum\n",
    "Just Do something......."
   ]
  },
  {
   "cell_type": "code",
   "execution_count": 17,
   "metadata": {
    "collapsed": true
   },
   "outputs": [],
   "source": [
    "# 1. Data (Datum) :  숫자, 문자\n",
    "#         (Data ) : [list] {dict} (tuple)"
   ]
  },
  {
   "cell_type": "markdown",
   "metadata": {},
   "source": [
    "### 01 숫자\n",
    "가장 범용적인 객체\n",
    "  1. 정수(integer) - Counting : index, slicing \n",
    "  2. 실수(float) - 연산"
   ]
  },
  {
   "cell_type": "code",
   "execution_count": 18,
   "metadata": {},
   "outputs": [
    {
     "data": {
      "text/plain": [
       "3"
      ]
     },
     "execution_count": 18,
     "metadata": {},
     "output_type": "execute_result"
    }
   ],
   "source": [
    "# integer \n",
    "1 + 2"
   ]
  },
  {
   "cell_type": "code",
   "execution_count": 19,
   "metadata": {},
   "outputs": [
    {
     "data": {
      "text/plain": [
       "7.5"
      ]
     },
     "execution_count": 19,
     "metadata": {},
     "output_type": "execute_result"
    }
   ],
   "source": [
    "30 / 4"
   ]
  },
  {
   "cell_type": "code",
   "execution_count": 20,
   "metadata": {},
   "outputs": [
    {
     "data": {
      "text/plain": [
       "7"
      ]
     },
     "execution_count": 20,
     "metadata": {},
     "output_type": "execute_result"
    }
   ],
   "source": [
    "30 // 4   # 몫"
   ]
  },
  {
   "cell_type": "code",
   "execution_count": 21,
   "metadata": {},
   "outputs": [
    {
     "data": {
      "text/plain": [
       "2"
      ]
     },
     "execution_count": 21,
     "metadata": {},
     "output_type": "execute_result"
    }
   ],
   "source": [
    "30 % 4    # 나머지"
   ]
  },
  {
   "cell_type": "markdown",
   "metadata": {},
   "source": [
    "### 02 문자\n",
    "  1. datum - 연산이 불가능/ 딱 3가지만 가능..\n",
    "  2. data - 객체명"
   ]
  },
  {
   "cell_type": "code",
   "execution_count": 22,
   "metadata": {
    "collapsed": true
   },
   "outputs": [],
   "source": [
    "# 1. 연산이 불가능\n",
    "# '박근혜' + '최순실' = '최태민'\n",
    "# '문재인' // '홍준표' = '이혜훈'\n",
    "# 2. So.. 문자로 할 수 있는건 딱 3가지\n",
    "# 문자 연결\n",
    "# Indexing/ Slicing\n",
    "# 같은 문자/ 단어 Counting...."
   ]
  },
  {
   "cell_type": "code",
   "execution_count": 23,
   "metadata": {},
   "outputs": [
    {
     "data": {
      "text/plain": [
       "'0'"
      ]
     },
     "execution_count": 23,
     "metadata": {},
     "output_type": "execute_result"
    }
   ],
   "source": [
    "'0'"
   ]
  },
  {
   "cell_type": "code",
   "execution_count": 24,
   "metadata": {},
   "outputs": [
    {
     "data": {
      "text/plain": [
       "'102'"
      ]
     },
     "execution_count": 24,
     "metadata": {},
     "output_type": "execute_result"
    }
   ],
   "source": [
    "# 문자 연결\n",
    "\"10\" + '2'"
   ]
  },
  {
   "cell_type": "code",
   "execution_count": 25,
   "metadata": {},
   "outputs": [
    {
     "data": {
      "text/plain": [
       "'대한2017대한회계사회gogo!!'"
      ]
     },
     "execution_count": 25,
     "metadata": {},
     "output_type": "execute_result"
    }
   ],
   "source": [
    "# 파일과 폴더명이 여럿을 관리할 떄\n",
    "'대한'+'2017'+'대한회계사회'+'gogo!!'"
   ]
  },
  {
   "cell_type": "code",
   "execution_count": 26,
   "metadata": {},
   "outputs": [
    {
     "data": {
      "text/plain": [
       "'2'"
      ]
     },
     "execution_count": 26,
     "metadata": {},
     "output_type": "execute_result"
    }
   ],
   "source": [
    "# indexing : 특정 지점을 콕 집는다.\n",
    "# ex) 단어의 오타 수정시\n",
    "gogo = '20,000,000$'\n",
    "gogo[0] "
   ]
  },
  {
   "cell_type": "code",
   "execution_count": 27,
   "metadata": {},
   "outputs": [
    {
     "data": {
      "text/plain": [
       "'$'"
      ]
     },
     "execution_count": 27,
     "metadata": {},
     "output_type": "execute_result"
    }
   ],
   "source": [
    "# indexing : 특정 지점을 콕 집는다.\n",
    "# ex) 화폐의 단위표시 및 기호의 추출\n",
    "gogo[-1] "
   ]
  },
  {
   "cell_type": "code",
   "execution_count": 28,
   "metadata": {},
   "outputs": [
    {
     "data": {
      "text/plain": [
       "'20'"
      ]
     },
     "execution_count": 28,
     "metadata": {},
     "output_type": "execute_result"
    }
   ],
   "source": [
    "# slicing : 특정 범위를 출력 \n",
    "# ex) 단어의 일부분만 확인이 필요할 떄\n",
    "gogo[:2]     # [start_index : end_index]"
   ]
  },
  {
   "cell_type": "code",
   "execution_count": 29,
   "metadata": {},
   "outputs": [
    {
     "data": {
      "text/plain": [
       "'005390 is SamsungElectronic inc'"
      ]
     },
     "execution_count": 29,
     "metadata": {},
     "output_type": "execute_result"
    }
   ],
   "source": [
    "# 문자 (data)\n",
    "codes = '005390'\n",
    "codes + ' is SamsungElectronic inc'"
   ]
  },
  {
   "cell_type": "code",
   "execution_count": 30,
   "metadata": {},
   "outputs": [
    {
     "ename": "TypeError",
     "evalue": "unsupported operand type(s) for +: 'int' and 'str'",
     "output_type": "error",
     "traceback": [
      "\u001b[0;31m---------------------------------------------------------------------------\u001b[0m",
      "\u001b[0;31mTypeError\u001b[0m                                 Traceback (most recent call last)",
      "\u001b[0;32m<ipython-input-30-0dd3a4b01b55>\u001b[0m in \u001b[0;36m<module>\u001b[0;34m()\u001b[0m\n\u001b[1;32m      1\u001b[0m \u001b[0mcodes\u001b[0m \u001b[0;34m=\u001b[0m \u001b[0;36m1234\u001b[0m\u001b[0;34m\u001b[0m\u001b[0m\n\u001b[0;32m----> 2\u001b[0;31m \u001b[0mcodes\u001b[0m \u001b[0;34m+\u001b[0m \u001b[0;34m' is SamsungElectronic inc'\u001b[0m\u001b[0;34m\u001b[0m\u001b[0m\n\u001b[0m",
      "\u001b[0;31mTypeError\u001b[0m: unsupported operand type(s) for +: 'int' and 'str'"
     ]
    }
   ],
   "source": [
    "codes = 1234\n",
    "codes + ' is SamsungElectronic inc'"
   ]
  },
  {
   "cell_type": "code",
   "execution_count": 31,
   "metadata": {},
   "outputs": [
    {
     "data": {
      "text/plain": [
       "str"
      ]
     },
     "execution_count": 31,
     "metadata": {},
     "output_type": "execute_result"
    }
   ],
   "source": [
    "# 문자 <--> 숫자\n",
    "code_str = '005390'\n",
    "type(code_str)"
   ]
  },
  {
   "cell_type": "code",
   "execution_count": 32,
   "metadata": {},
   "outputs": [
    {
     "data": {
      "text/plain": [
       "6390"
      ]
     },
     "execution_count": 32,
     "metadata": {},
     "output_type": "execute_result"
    }
   ],
   "source": [
    "# string to integer\n",
    "int(code_str) + 1000"
   ]
  },
  {
   "cell_type": "code",
   "execution_count": 33,
   "metadata": {},
   "outputs": [
    {
     "data": {
      "text/plain": [
       "int"
      ]
     },
     "execution_count": 33,
     "metadata": {},
     "output_type": "execute_result"
    }
   ],
   "source": [
    "# 숫자 <--> 문자\n",
    "code_int = 1234\n",
    "type(code_int)"
   ]
  },
  {
   "cell_type": "code",
   "execution_count": 34,
   "metadata": {},
   "outputs": [
    {
     "data": {
      "text/plain": [
       "1234.0"
      ]
     },
     "execution_count": 34,
     "metadata": {},
     "output_type": "execute_result"
    }
   ],
   "source": [
    "float(code_int)"
   ]
  },
  {
   "cell_type": "code",
   "execution_count": 35,
   "metadata": {},
   "outputs": [
    {
     "data": {
      "text/plain": [
       "'1234'"
      ]
     },
     "execution_count": 35,
     "metadata": {},
     "output_type": "execute_result"
    }
   ],
   "source": [
    "# integer to string\n",
    "str(code_int)"
   ]
  },
  {
   "cell_type": "code",
   "execution_count": 36,
   "metadata": {},
   "outputs": [
    {
     "ename": "TypeError",
     "evalue": "must be str, not int",
     "output_type": "error",
     "traceback": [
      "\u001b[0;31m---------------------------------------------------------------------------\u001b[0m",
      "\u001b[0;31mTypeError\u001b[0m                                 Traceback (most recent call last)",
      "\u001b[0;32m<ipython-input-36-ec33bbdc243d>\u001b[0m in \u001b[0;36m<module>\u001b[0;34m()\u001b[0m\n\u001b[0;32m----> 1\u001b[0;31m \u001b[0mstr\u001b[0m\u001b[0;34m(\u001b[0m\u001b[0mcode_int\u001b[0m\u001b[0;34m)\u001b[0m \u001b[0;34m+\u001b[0m \u001b[0;36m1000\u001b[0m\u001b[0;34m\u001b[0m\u001b[0m\n\u001b[0m",
      "\u001b[0;31mTypeError\u001b[0m: must be str, not int"
     ]
    }
   ],
   "source": [
    "str(code_int) + 1000"
   ]
  },
  {
   "cell_type": "markdown",
   "metadata": {},
   "source": [
    "## QUIZ\n",
    "'2017년 대한민국' 에서 '2017' 를 숫자로 뽑아내라...\n",
    "\n",
    "    start>>>\n",
    "    text = '2017년 대한민국'  \n",
    "\n",
    "    tips>>\n",
    "    1. slicing 으로 '2017' string 을 추출\n",
    "    2. '2017' 를 숫자로 변환하라"
   ]
  },
  {
   "cell_type": "code",
   "execution_count": null,
   "metadata": {
    "collapsed": true
   },
   "outputs": [],
   "source": []
  },
  {
   "cell_type": "code",
   "execution_count": null,
   "metadata": {
    "collapsed": true
   },
   "outputs": [],
   "source": []
  },
  {
   "cell_type": "markdown",
   "metadata": {},
   "source": [
    "## 2 Data\n",
    "[ List ] , { dictionary : 설명 }"
   ]
  },
  {
   "cell_type": "markdown",
   "metadata": {},
   "source": [
    "### 01 [ list ]\n",
    "자료관리 Basic !!!, 다른 자료형 학습시 [list]와 항상 비교하며 정리 !!!"
   ]
  },
  {
   "cell_type": "code",
   "execution_count": 37,
   "metadata": {},
   "outputs": [
    {
     "data": {
      "text/plain": [
       "5"
      ]
     },
     "execution_count": 37,
     "metadata": {},
     "output_type": "execute_result"
    }
   ],
   "source": [
    "lists = [1,2,3,'회계','재무']\n",
    "len(lists)  # len() : 내부함수"
   ]
  },
  {
   "cell_type": "code",
   "execution_count": 38,
   "metadata": {},
   "outputs": [
    {
     "data": {
      "text/plain": [
       "1"
      ]
     },
     "execution_count": 38,
     "metadata": {},
     "output_type": "execute_result"
    }
   ],
   "source": [
    "# indexing : 꼭! 찝어내기\n",
    "# cf) 위 String 의 indexing 과 비교하며 이해할 것!\n",
    "lists[0]"
   ]
  },
  {
   "cell_type": "code",
   "execution_count": 39,
   "metadata": {},
   "outputs": [
    {
     "data": {
      "text/plain": [
       "'재무'"
      ]
     },
     "execution_count": 39,
     "metadata": {},
     "output_type": "execute_result"
    }
   ],
   "source": [
    "# -1 은 맨 뒤에서 부터 카운팅   \n",
    "lists[-1]"
   ]
  },
  {
   "cell_type": "code",
   "execution_count": 40,
   "metadata": {},
   "outputs": [
    {
     "data": {
      "text/plain": [
       "['회계', '재무']"
      ]
     },
     "execution_count": 40,
     "metadata": {},
     "output_type": "execute_result"
    }
   ],
   "source": [
    "# Slicing : 범위설정\n",
    "# cf) 위 String 의 Slicing 과 비교하며 이해할 것!\n",
    "lists[3:6]      # [start_index : end_index]"
   ]
  },
  {
   "cell_type": "code",
   "execution_count": 41,
   "metadata": {},
   "outputs": [
    {
     "data": {
      "text/plain": [
       "[1, 2, 3]"
      ]
     },
     "execution_count": 41,
     "metadata": {},
     "output_type": "execute_result"
    }
   ],
   "source": [
    "lists[:3]"
   ]
  },
  {
   "cell_type": "code",
   "execution_count": 42,
   "metadata": {},
   "outputs": [
    {
     "data": {
      "text/plain": [
       "[1, 2, 3]"
      ]
     },
     "execution_count": 42,
     "metadata": {},
     "output_type": "execute_result"
    }
   ],
   "source": [
    "lists[:-2]  # 파일이름의 확장자 구별시 활용"
   ]
  },
  {
   "cell_type": "code",
   "execution_count": 43,
   "metadata": {
    "collapsed": true
   },
   "outputs": [],
   "source": [
    "lists_txt = ['Python','Jupyter']"
   ]
  },
  {
   "cell_type": "code",
   "execution_count": 44,
   "metadata": {},
   "outputs": [
    {
     "data": {
      "text/plain": [
       "[1, 2, 3, '회계', '재무', 2017]"
      ]
     },
     "execution_count": 44,
     "metadata": {},
     "output_type": "execute_result"
    }
   ],
   "source": [
    "# .append()   :    list의 메소드 함수\n",
    "lists.append(2017)  \n",
    "lists"
   ]
  },
  {
   "cell_type": "code",
   "execution_count": 45,
   "metadata": {},
   "outputs": [
    {
     "data": {
      "text/plain": [
       "[1, 2, 3, '회계', '재무', 2017, ['08-15', '22:00:30']]"
      ]
     },
     "execution_count": 45,
     "metadata": {},
     "output_type": "execute_result"
    }
   ],
   "source": [
    "lists.append(['08-15','22:00:30'])\n",
    "lists"
   ]
  },
  {
   "cell_type": "code",
   "execution_count": 46,
   "metadata": {},
   "outputs": [
    {
     "data": {
      "text/plain": [
       "[1, 2, 3, '회계', '재무', 2017, ['08-15', '22:00:30'], ['Python', 'Jupyter']]"
      ]
     },
     "execution_count": 46,
     "metadata": {},
     "output_type": "execute_result"
    }
   ],
   "source": [
    "lists.append(lists_txt)\n",
    "lists"
   ]
  },
  {
   "cell_type": "code",
   "execution_count": 47,
   "metadata": {},
   "outputs": [
    {
     "data": {
      "text/plain": [
       "['Python',\n",
       " 'Jupyter',\n",
       " 1,\n",
       " 2,\n",
       " 3,\n",
       " '회계',\n",
       " '재무',\n",
       " 2017,\n",
       " ['08-15', '22:00:30'],\n",
       " ['Python', 'Jupyter']]"
      ]
     },
     "execution_count": 47,
     "metadata": {},
     "output_type": "execute_result"
    }
   ],
   "source": [
    "# [list] 객체간 사칙연산을 활용 : 꼭 동일한 객체만 가능\n",
    "# 이는 'string' 과 동일\n",
    "lists_txt + lists"
   ]
  },
  {
   "cell_type": "code",
   "execution_count": 48,
   "metadata": {
    "collapsed": true
   },
   "outputs": [],
   "source": [
    "# List 내부 Data : 숫자, 문자\n",
    "# List 내부 Index : 0,1,2,3,4....... (only Integer)\n",
    "\n",
    "#  장점 : 만들기가 쉽다\n",
    "#      : 인덱스 주소만 알면 검색과 활용이 쉽다.\n",
    "#      : matrix 구조를 활용하면 대용량 데이터도 처리가 가능하다\n",
    "\n",
    "#  단점 : 무조건 0부터 작업을 시작 (for 문을 활용시 주요한 특징)\n",
    "#      : 1게 list가 100만개 데이터를 갖고 있으면, 이 리스트를 10번 검색하는 경우 무조건 100만번 + N 번의 작업이 필요 ()"
   ]
  },
  {
   "cell_type": "markdown",
   "metadata": {
    "collapsed": true
   },
   "source": [
    "## QUIZ 01\n",
    "lists = [2017, '년', '대한민국'] 의 자료를 활용해서\n",
    "'2017년대한민국' 1개의 문자열로 변환해 보시오.\n",
    "\n",
    "    start>> \n",
    "    lists = [2017, '년', '대한민국']\n",
    "    \n",
    "    tips>>\n",
    "    1.lists[0] 의 인덱스를 활용해서 각각의 객체를 추출\n",
    "    2. 문자와 문자 객체를 + 를 통해서 1개로 합친다"
   ]
  },
  {
   "cell_type": "code",
   "execution_count": 49,
   "metadata": {
    "collapsed": true
   },
   "outputs": [],
   "source": [
    "lists = [2017, '년', '대한민국']"
   ]
  },
  {
   "cell_type": "code",
   "execution_count": null,
   "metadata": {
    "collapsed": true
   },
   "outputs": [],
   "source": []
  },
  {
   "cell_type": "markdown",
   "metadata": {},
   "source": [
    "## QUIZ 02\n",
    "name =  ['한국항공우주', '대우조선해양'] , code = ['047810', '000300'] 를 이용해서\n",
    "\n",
    "['한국항공우주', '047810', '대우조선해양' ,'000300'] 객체를 만들어보자\n",
    "\n",
    "    start>>>\n",
    "    text = '2017년 대한민국'  \n",
    "\n",
    "    tips>>\n",
    "    1. .append()를 활용해서 객체를 연결한다  # 1개의 index 속에 쑤셔넣는다.\n",
    "    2. + 를 활용해서 순서를 바꿔서 연결한다   # 고유 index를 유지"
   ]
  },
  {
   "cell_type": "code",
   "execution_count": 50,
   "metadata": {
    "collapsed": true
   },
   "outputs": [],
   "source": [
    "name =  ['한국항공우주', '대우조선해양']\n",
    "code = ['047810', '000300']"
   ]
  },
  {
   "cell_type": "code",
   "execution_count": 51,
   "metadata": {},
   "outputs": [
    {
     "data": {
      "text/plain": [
       "['한국항공우주', '047810', ['대우조선해양', '000300']]"
      ]
     },
     "execution_count": 51,
     "metadata": {},
     "output_type": "execute_result"
    }
   ],
   "source": [
    "df = [name[0]] + [code[0]]     # 고유한 주소값을 그대로 유지한다\n",
    "df.append([name[1],code[1]])   # 1개 주소에 입력을 한다\n",
    "df"
   ]
  },
  {
   "cell_type": "code",
   "execution_count": null,
   "metadata": {
    "collapsed": true
   },
   "outputs": [],
   "source": []
  },
  {
   "cell_type": "code",
   "execution_count": null,
   "metadata": {
    "collapsed": true
   },
   "outputs": [],
   "source": []
  },
  {
   "cell_type": "markdown",
   "metadata": {},
   "source": [
    "### 02  { Dictionary_key :  _value } \n",
    "List 를 보완, index 의 확장 (index를 'String'도 가능)  \n",
    "\n",
    "DataFrame 표를 만드는 기본포맷"
   ]
  },
  {
   "cell_type": "code",
   "execution_count": 57,
   "metadata": {},
   "outputs": [
    {
     "data": {
      "text/plain": [
       "{'005390': '삼성전자', '035420': ['네이버', 'NAVER', 'Naver', 'naver']}"
      ]
     },
     "execution_count": 57,
     "metadata": {},
     "output_type": "execute_result"
    }
   ],
   "source": [
    "# List 생성 및 indexing\n",
    "dictionary = {'005390':'삼성전자', '035420':['네이버','NAVER','Naver','naver']}\n",
    "dictionary"
   ]
  },
  {
   "cell_type": "code",
   "execution_count": 56,
   "metadata": {},
   "outputs": [
    {
     "data": {
      "text/plain": [
       "['네이버', 'NAVER', 'Naver', 'naver']"
      ]
     },
     "execution_count": 56,
     "metadata": {},
     "output_type": "execute_result"
    }
   ],
   "source": [
    "dictionary['035420']"
   ]
  },
  {
   "cell_type": "code",
   "execution_count": 58,
   "metadata": {},
   "outputs": [
    {
     "data": {
      "text/plain": [
       "{'000660': 'SK하이닉스',\n",
       " '005390': '삼성전자',\n",
       " '035420': ['네이버', 'NAVER', 'Naver', 'naver']}"
      ]
     },
     "execution_count": 58,
     "metadata": {},
     "output_type": "execute_result"
    }
   ],
   "source": [
    "# List 데이터 추가\n",
    "dictionary['000660'] = 'SK하이닉스'\n",
    "dictionary"
   ]
  },
  {
   "cell_type": "code",
   "execution_count": 59,
   "metadata": {
    "collapsed": true
   },
   "outputs": [],
   "source": [
    "# Debit(차변) , Credit(대변)\n",
    "sheet = {'Debit':{'Lease':1_300_000 , 'Cash': 700_000},\n",
    "         'Credit':{'Cash':2_000_000}}"
   ]
  },
  {
   "cell_type": "code",
   "execution_count": 60,
   "metadata": {},
   "outputs": [
    {
     "data": {
      "text/html": [
       "<div>\n",
       "<table border=\"1\" class=\"dataframe\">\n",
       "  <thead>\n",
       "    <tr style=\"text-align: right;\">\n",
       "      <th></th>\n",
       "      <th>Credit</th>\n",
       "      <th>Debit</th>\n",
       "    </tr>\n",
       "  </thead>\n",
       "  <tbody>\n",
       "    <tr>\n",
       "      <th>Cash</th>\n",
       "      <td>2000000.0</td>\n",
       "      <td>700000</td>\n",
       "    </tr>\n",
       "    <tr>\n",
       "      <th>Lease</th>\n",
       "      <td>NaN</td>\n",
       "      <td>1300000</td>\n",
       "    </tr>\n",
       "  </tbody>\n",
       "</table>\n",
       "</div>"
      ],
      "text/plain": [
       "          Credit    Debit\n",
       "Cash   2000000.0   700000\n",
       "Lease        NaN  1300000"
      ]
     },
     "execution_count": 60,
     "metadata": {},
     "output_type": "execute_result"
    }
   ],
   "source": [
    "import pandas as pd\n",
    "pd.DataFrame(sheet)"
   ]
  },
  {
   "cell_type": "code",
   "execution_count": 61,
   "metadata": {},
   "outputs": [
    {
     "data": {
      "text/plain": [
       "dict_keys(['Debit', 'Credit'])"
      ]
     },
     "execution_count": 61,
     "metadata": {},
     "output_type": "execute_result"
    }
   ],
   "source": [
    "sheet.keys()"
   ]
  },
  {
   "cell_type": "code",
   "execution_count": 62,
   "metadata": {},
   "outputs": [
    {
     "data": {
      "text/plain": [
       "{'Cash': 700000, 'Lease': 1300000}"
      ]
     },
     "execution_count": 62,
     "metadata": {},
     "output_type": "execute_result"
    }
   ],
   "source": [
    "sheet['Debit']"
   ]
  },
  {
   "cell_type": "code",
   "execution_count": 63,
   "metadata": {},
   "outputs": [
    {
     "data": {
      "text/plain": [
       "dict_keys(['Lease', 'Cash'])"
      ]
     },
     "execution_count": 63,
     "metadata": {},
     "output_type": "execute_result"
    }
   ],
   "source": [
    "sheet['Debit'].keys()"
   ]
  },
  {
   "cell_type": "code",
   "execution_count": 64,
   "metadata": {},
   "outputs": [
    {
     "data": {
      "text/plain": [
       "dict_values([1300000, 700000])"
      ]
     },
     "execution_count": 64,
     "metadata": {},
     "output_type": "execute_result"
    }
   ],
   "source": [
    "sheet['Debit'].values()"
   ]
  },
  {
   "cell_type": "code",
   "execution_count": 65,
   "metadata": {
    "collapsed": true
   },
   "outputs": [],
   "source": [
    "# dictionary = { key값 : value }\n",
    "\n",
    "# 장점 : 상대적으로 만들기가 쉽다\n",
    "#     : 검색이 빠르다, Key값이 일치하면 바로 결과를 출력\n",
    "#     : 1개 key 값에 value는 여러개도 가능 (value 값도  [list],{ dict} 모두 가능)\n",
    "\n",
    "# 단점 : 순서가 없어서 정렬을 할 수 없다.\n",
    "#     : key값의 오타로 비슷한 key 값들이 중복되어 존재할 가능성이 있다\n",
    "#     : key값과 value를 모두 알아야만 자료를 찾을 수 있다."
   ]
  },
  {
   "cell_type": "markdown",
   "metadata": {},
   "source": [
    "## QUIZ 01\n",
    "dictionary = {'005390':'삼성전자', '035420':'네이버'} 자료를 통해서\n",
    "\n",
    "'005390'을 활용해서 '삼성전자'를 출력하라\n",
    "\n",
    "        start>> \n",
    "        dictionary = {'005390':'삼성전자', '035420':'네이버'}"
   ]
  },
  {
   "cell_type": "markdown",
   "metadata": {},
   "source": [
    "## QUIZ 02\n",
    "dictionary = {'005390':'삼성전자', '035420':'네이버'} 자료를 통해서\n",
    "\n",
    "'030200' 코드인 'KT'를 추가하라\n",
    "\n",
    "        tips>>\n",
    "        1.딕셔너리 추가\n",
    "        dictionary ['key문자열'] = 'value 문자열'"
   ]
  },
  {
   "cell_type": "code",
   "execution_count": 66,
   "metadata": {
    "collapsed": true
   },
   "outputs": [],
   "source": [
    "dictionary = {'005390':'삼성전자', '035420':'네이버'}"
   ]
  },
  {
   "cell_type": "code",
   "execution_count": null,
   "metadata": {
    "collapsed": true
   },
   "outputs": [],
   "source": []
  },
  {
   "cell_type": "markdown",
   "metadata": {},
   "source": [
    "### 03  ( tuple)\n",
    "컴퓨터가 연산한 결과\n",
    "\n",
    "생성 후에는 임의 수정이 불가능하다 !!"
   ]
  },
  {
   "cell_type": "code",
   "execution_count": 67,
   "metadata": {
    "collapsed": true
   },
   "outputs": [],
   "source": [
    "dictionary = {'005390':'삼성전자', '035420':'네이버'}"
   ]
  },
  {
   "cell_type": "code",
   "execution_count": 68,
   "metadata": {},
   "outputs": [
    {
     "data": {
      "text/plain": [
       "dict_items([('005390', '삼성전자'), ('035420', '네이버')])"
      ]
     },
     "execution_count": 68,
     "metadata": {},
     "output_type": "execute_result"
    }
   ],
   "source": [
    "items = dictionary.items()\n",
    "items"
   ]
  },
  {
   "cell_type": "code",
   "execution_count": 69,
   "metadata": {},
   "outputs": [
    {
     "data": {
      "text/plain": [
       "2"
      ]
     },
     "execution_count": 69,
     "metadata": {},
     "output_type": "execute_result"
    }
   ],
   "source": [
    "len(items)"
   ]
  },
  {
   "cell_type": "code",
   "execution_count": 71,
   "metadata": {},
   "outputs": [
    {
     "ename": "TypeError",
     "evalue": "'dict_items' object does not support indexing",
     "output_type": "error",
     "traceback": [
      "\u001b[0;31m---------------------------------------------------------------------------\u001b[0m",
      "\u001b[0;31mTypeError\u001b[0m                                 Traceback (most recent call last)",
      "\u001b[0;32m<ipython-input-71-95f461411437>\u001b[0m in \u001b[0;36m<module>\u001b[0;34m()\u001b[0m\n\u001b[0;32m----> 1\u001b[0;31m \u001b[0mitems\u001b[0m\u001b[0;34m[\u001b[0m\u001b[0;36m0\u001b[0m\u001b[0;34m]\u001b[0m\u001b[0;34m\u001b[0m\u001b[0m\n\u001b[0m",
      "\u001b[0;31mTypeError\u001b[0m: 'dict_items' object does not support indexing"
     ]
    }
   ],
   "source": [
    "items[0]"
   ]
  },
  {
   "cell_type": "code",
   "execution_count": 76,
   "metadata": {},
   "outputs": [
    {
     "data": {
      "text/plain": [
       "('005390', '삼성전자')"
      ]
     },
     "execution_count": 76,
     "metadata": {},
     "output_type": "execute_result"
    }
   ],
   "source": [
    "# [ list ] 객체로 변환해서 index을 활용한다\n",
    "items = list(items)\n",
    "samsung = items[0]\n",
    "samsung"
   ]
  },
  {
   "cell_type": "code",
   "execution_count": 73,
   "metadata": {},
   "outputs": [
    {
     "data": {
      "text/plain": [
       "tuple"
      ]
     },
     "execution_count": 73,
     "metadata": {},
     "output_type": "execute_result"
    }
   ],
   "source": [
    "type(samsung)"
   ]
  },
  {
   "cell_type": "code",
   "execution_count": 74,
   "metadata": {},
   "outputs": [
    {
     "name": "stdout",
     "output_type": "stream",
     "text": [
      "005390 삼성전자\n"
     ]
    }
   ],
   "source": [
    "print(samsung[0],samsung[1]) "
   ]
  },
  {
   "cell_type": "code",
   "execution_count": 75,
   "metadata": {},
   "outputs": [
    {
     "ename": "TypeError",
     "evalue": "'tuple' object does not support item assignment",
     "output_type": "error",
     "traceback": [
      "\u001b[0;31m---------------------------------------------------------------------------\u001b[0m",
      "\u001b[0;31mTypeError\u001b[0m                                 Traceback (most recent call last)",
      "\u001b[0;32m<ipython-input-75-2e5689a1d972>\u001b[0m in \u001b[0;36m<module>\u001b[0;34m()\u001b[0m\n\u001b[0;32m----> 1\u001b[0;31m \u001b[0msamsung\u001b[0m\u001b[0;34m[\u001b[0m\u001b[0;36m0\u001b[0m\u001b[0;34m]\u001b[0m \u001b[0;34m=\u001b[0m \u001b[0;34m'samsung'\u001b[0m\u001b[0;34m\u001b[0m\u001b[0m\n\u001b[0m",
      "\u001b[0;31mTypeError\u001b[0m: 'tuple' object does not support item assignment"
     ]
    }
   ],
   "source": [
    "# tuple 은 입력 후 수정이 불가능하다\n",
    "# 고유한 값을 지정이 필요한 경우에만 활용\n",
    "samsung[0] = 'samsung'"
   ]
  },
  {
   "cell_type": "code",
   "execution_count": null,
   "metadata": {
    "collapsed": true
   },
   "outputs": [],
   "source": [
    "### 복습\n",
    "# len()\n",
    "# type()\n",
    "# int()\n",
    "# float()\n",
    "# str()\n",
    "# list()\n",
    "# dict()"
   ]
  },
  {
   "cell_type": "code",
   "execution_count": null,
   "metadata": {
    "collapsed": true
   },
   "outputs": [],
   "source": [
    "# 숫자\n",
    "# integer(정수) : index, slicing, counting\n",
    "# float(실수) : 연산\n",
    "\n",
    "# 문자\n",
    "# 'datum' :  문자와 문자의 사칙연산,  Indexing/ Slicing,  Counting....\n",
    "# data  :  매개변수\n",
    "\n",
    "# [ list ]   :  integer index 값이 숨어있다. (0 ~ -1)\n",
    "\n",
    "# { key : value }"
   ]
  },
  {
   "cell_type": "code",
   "execution_count": null,
   "metadata": {
    "collapsed": true
   },
   "outputs": [],
   "source": []
  },
  {
   "cell_type": "code",
   "execution_count": null,
   "metadata": {
    "collapsed": true
   },
   "outputs": [],
   "source": []
  },
  {
   "cell_type": "code",
   "execution_count": null,
   "metadata": {
    "collapsed": true
   },
   "outputs": [],
   "source": []
  }
 ],
 "metadata": {
  "kernelspec": {
   "display_name": "Python 3",
   "language": "python",
   "name": "python3"
  },
  "language_info": {
   "codemirror_mode": {
    "name": "ipython",
    "version": 3
   },
   "file_extension": ".py",
   "mimetype": "text/x-python",
   "name": "python",
   "nbconvert_exporter": "python",
   "pygments_lexer": "ipython3",
   "version": "3.6.1"
  }
 },
 "nbformat": 4,
 "nbformat_minor": 2
}
