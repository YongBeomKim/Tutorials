{
 "cells": [
  {
   "cell_type": "markdown",
   "metadata": {},
   "source": [
    "# 클래스 함수 활용하기"
   ]
  },
  {
   "cell_type": "markdown",
   "metadata": {},
   "source": [
    "## 1. 계산기 프로그램 "
   ]
  },
  {
   "cell_type": "markdown",
   "metadata": {},
   "source": [
    "### How to useing the 'self' indicator in Class Function\n",
    "\n",
    "- 개별적 전역, 지역변수를 지정하면 되긴하나\n",
    "- 그 함수의 갯수가 많아질 수록 일일히 정하기가 어렵다"
   ]
  },
  {
   "cell_type": "code",
   "execution_count": 1,
   "metadata": {},
   "outputs": [],
   "source": [
    "result1, result2 = 0, 0\n",
    "class Calculator_old:\n",
    "    def adder1(num):\n",
    "        global result1\n",
    "        result1 += num\n",
    "        return result1\n",
    "    def adder2(num):\n",
    "        global result2\n",
    "        result2 += num\n",
    "        return result2"
   ]
  },
  {
   "cell_type": "code",
   "execution_count": 2,
   "metadata": {},
   "outputs": [
    {
     "name": "stdout",
     "output_type": "stream",
     "text": [
      "3\n",
      "4\n"
     ]
    },
    {
     "data": {
      "text/plain": [
       "13"
      ]
     },
     "execution_count": 2,
     "metadata": {},
     "output_type": "execute_result"
    }
   ],
   "source": [
    "print(Calculator_old.adder1(3)) ; print(Calculator_old.adder2(4)) ; Calculator_old.adder1(10)"
   ]
  },
  {
   "cell_type": "markdown",
   "metadata": {},
   "source": [
    "### Useing the 'self' in Class\n",
    "- 개별적 전역, 지역변수를 지정하면 되긴하나\n",
    "- 그 함수의 갯수가 많아질 수록 일일히 정하기가 어렵다"
   ]
  },
  {
   "cell_type": "code",
   "execution_count": 3,
   "metadata": {},
   "outputs": [
    {
     "name": "stdout",
     "output_type": "stream",
     "text": [
      "3\n",
      "7\n",
      "3\n"
     ]
    },
    {
     "data": {
      "text/plain": [
       "10"
      ]
     },
     "execution_count": 3,
     "metadata": {},
     "output_type": "execute_result"
    }
   ],
   "source": [
    "class Calculator:\n",
    "    # 개별 함수마다 별도의 결과값을 유지한다\n",
    "    def __init__(self):\n",
    "        self.result = 0\n",
    "    # 'self' 객체는 __init__를 거쳤음을 확인하는 인자다    \n",
    "    def adder(self, num):\n",
    "        self.result += num\n",
    "        return self.result\n",
    "\n",
    "cal1 = Calculator()  ; cal2 = Calculator()  # 인스턴스 생성\n",
    "print(cal1.adder(3)) ; print(cal1.adder(4))\n",
    "print(cal2.adder(3)) ; cal2.adder(7)"
   ]
  },
  {
   "cell_type": "markdown",
   "metadata": {},
   "source": [
    "## 2. Class 의 개념잡기\n",
    "- 인스턴스(instance) : 객체 중 '클래스'에 의해서 생성된 객체로 함수 등을 품고 있다.  ex)  a = Simple()"
   ]
  },
  {
   "cell_type": "markdown",
   "metadata": {},
   "source": [
    "### Simple Instance"
   ]
  },
  {
   "cell_type": "code",
   "execution_count": 4,
   "metadata": {},
   "outputs": [
    {
     "data": {
      "text/plain": [
       "<__main__.Simple at 0x7f1108869518>"
      ]
     },
     "execution_count": 4,
     "metadata": {},
     "output_type": "execute_result"
    }
   ],
   "source": [
    "class Simple:\n",
    "    pass\n",
    "a = Simple(); a # 인스턴스"
   ]
  },
  {
   "cell_type": "code",
   "execution_count": 5,
   "metadata": {},
   "outputs": [
    {
     "data": {
      "text/plain": [
       "'영구는 배꼽이 두개다'"
      ]
     },
     "execution_count": 5,
     "metadata": {},
     "output_type": "execute_result"
    }
   ],
   "source": [
    "class Service:\n",
    "    secreat = \"영구는 배꼽이 두개다\"\n",
    "pey = Service()  # 인스턴스 생성 : 클래스에 가입해 아이디를 받는다\n",
    "pey.secreat"
   ]
  },
  {
   "cell_type": "markdown",
   "metadata": {},
   "source": [
    "### Class Function\n",
    "- def __init__(self): 에서 self 객체 역활은 정적 메서드 생성으로 클래스 내부 확인절차를 거쳤는지를 확인 (정적 메서드)"
   ]
  },
  {
   "cell_type": "code",
   "execution_count": 6,
   "metadata": {},
   "outputs": [
    {
     "name": "stdout",
     "output_type": "stream",
     "text": [
      "1 + 1 = 2  \n"
     ]
    }
   ],
   "source": [
    "class Service:\n",
    "    secreat = \"영구는 배꼽이 두개다\"\n",
    "    def sum(self, a, b):\n",
    "        result = a + b\n",
    "        print(\"%s + %s = %s  \"  %(a,b,result))\n",
    "pey = Service()  # 인스턴스 생성 : 클래스 서비스에 가입해 아이디를 얻는다 \n",
    "pey.sum(1,1)"
   ]
  },
  {
   "cell_type": "code",
   "execution_count": 7,
   "metadata": {},
   "outputs": [
    {
     "name": "stdout",
     "output_type": "stream",
     "text": [
      "function 2\n"
     ]
    }
   ],
   "source": [
    "class Foo:\n",
    "    def func1():\n",
    "        print(\"function 1\")\n",
    "    def func2(self):    \n",
    "        print(\"function 2\")\n",
    "f = Foo()\n",
    "f.func2()"
   ]
  },
  {
   "cell_type": "code",
   "execution_count": 8,
   "metadata": {},
   "outputs": [
    {
     "name": "stdout",
     "output_type": "stream",
     "text": [
      "홍길동 님   1 + 1  = 2입니다.\n"
     ]
    }
   ],
   "source": [
    "class Service:\n",
    "    # self : 클래스 내부함수간 객체를 연결\n",
    "    def setname(self,name):\n",
    "        self.name = name\n",
    "    def sum(self,a,b):\n",
    "        result = a + b\n",
    "        print(\"%s 님   %s + %s  = %s입니다.\"  %(self.name, a, b, result))\n",
    "pey = Service()\n",
    "pey.setname(\"홍길동\")\n",
    "pey.sum(1,1)"
   ]
  },
  {
   "cell_type": "code",
   "execution_count": 9,
   "metadata": {},
   "outputs": [
    {
     "name": "stdout",
     "output_type": "stream",
     "text": [
      " 홍길동 님 1 + 1 = 2 입니다.\n"
     ]
    }
   ],
   "source": [
    "class Service():\n",
    "    secret = \"영구는 배꼽이 두개다\"\n",
    "    # 인스턴스를 만들떄 마다 항상 실행한다\n",
    "    def __init__(self,name):\n",
    "        self.name = name\n",
    "    def sum(self,a,b):\n",
    "        result = a + b\n",
    "        print(\" %s 님 %s + %s = %s 입니다.\"  %(self.name,  a, b, result))\n",
    "\n",
    "# __init__ 함수에 해당 내용이 저장\n",
    "# 별도 인스턴스의 함수로 기본값을 별도로 만들필요 없이 __init__를 통해서 함수가 실행\n",
    "pey = Service(\"홍길동\")\n",
    "pey.sum(1,1)"
   ]
  },
  {
   "cell_type": "markdown",
   "metadata": {},
   "source": [
    "## 3. Class 자세히 알기\n",
    "- 사칙연산 개별 함수를 만들어 작동하는 클래스 생성하기"
   ]
  },
  {
   "cell_type": "code",
   "execution_count": 10,
   "metadata": {},
   "outputs": [
    {
     "name": "stdout",
     "output_type": "stream",
     "text": [
      "<class '__main__.FourCal'>\n"
     ]
    }
   ],
   "source": [
    "class FourCal:\n",
    "    pass\n",
    "a = FourCal()\n",
    "# FourCal 클래스의  __main__ 인스턴스임을 출력\n",
    "print(type(a))"
   ]
  },
  {
   "cell_type": "code",
   "execution_count": 11,
   "metadata": {
    "collapsed": true
   },
   "outputs": [],
   "source": [
    "class FourCal:\n",
    "    # 클래스 메서드 정의 ( 메서드 입력변수 )\n",
    "    def setdata(self, first, second):\n",
    "        # 클래스의 메서드 실행문\n",
    "        self.first = first\n",
    "        self.second = second\n",
    "    def sum(a,b):\n",
    "        return a + b"
   ]
  },
  {
   "cell_type": "code",
   "execution_count": 12,
   "metadata": {
    "scrolled": false
   },
   "outputs": [
    {
     "name": "stdout",
     "output_type": "stream",
     "text": [
      "4 2\n"
     ]
    }
   ],
   "source": [
    "# 클래스와 함수를 병행해서 작동하는 방법은 지금은 잘 쓰지 않는다 !!!\n",
    "# 만약 이와같이 입력을 한다면 3개받아야만 작동!!  (장점보다는 단점이 많은 방법이다.)\n",
    "FourCal.setdata(a,4,2)  \n",
    "print(a.first, a.second)"
   ]
  },
  {
   "cell_type": "code",
   "execution_count": 13,
   "metadata": {},
   "outputs": [
    {
     "data": {
      "text/plain": [
       "7"
      ]
     },
     "execution_count": 13,
     "metadata": {},
     "output_type": "execute_result"
    }
   ],
   "source": [
    "class FourCal:\n",
    "    # 클래스 메서드 정의 ( 메서드 입력변수 )\n",
    "    def setdata(self, first, second):\n",
    "        # 클래스의 메서드 실행문\n",
    "        self.first = first\n",
    "        self.second = second\n",
    "    def sum(self):\n",
    "        return self.first + self.second\n",
    "\n",
    "a = FourCal()\n",
    "a.setdata(4,3)  # 인스턴스 선언할떄 변수를 함께 입력한다.\n",
    "a.sum()         # 함수실행은 변수입력없이 함수만으로 내용을 출력한다."
   ]
  },
  {
   "cell_type": "code",
   "execution_count": 14,
   "metadata": {},
   "outputs": [],
   "source": [
    "class FourCals:\n",
    "    def setdata(self, first, second):\n",
    "        self.first = first\n",
    "        self.second = second\n",
    "    def sum(self):\n",
    "        return self.first + self.second\n",
    "    def mul(self):\n",
    "        return self.first * self.second\n",
    "    def sub(self):\n",
    "        return self.first - self.second\n",
    "    def div(self):\n",
    "        return self.first / self.second\n",
    "\n",
    "a = FourCals()\n",
    "b = FourCals()\n",
    "a.setdata(3,4)\n",
    "b.setdata(7,6)"
   ]
  },
  {
   "cell_type": "code",
   "execution_count": 15,
   "metadata": {},
   "outputs": [
    {
     "data": {
      "text/plain": [
       "7"
      ]
     },
     "execution_count": 15,
     "metadata": {},
     "output_type": "execute_result"
    }
   ],
   "source": [
    "a.sum()"
   ]
  },
  {
   "cell_type": "code",
   "execution_count": 16,
   "metadata": {},
   "outputs": [
    {
     "data": {
      "text/plain": [
       "13"
      ]
     },
     "execution_count": 16,
     "metadata": {},
     "output_type": "execute_result"
    }
   ],
   "source": [
    "b.sum()"
   ]
  },
  {
   "cell_type": "code",
   "execution_count": 17,
   "metadata": {},
   "outputs": [
    {
     "data": {
      "text/plain": [
       "0.75"
      ]
     },
     "execution_count": 17,
     "metadata": {},
     "output_type": "execute_result"
    }
   ],
   "source": [
    "a.div()"
   ]
  },
  {
   "cell_type": "markdown",
   "metadata": {},
   "source": [
    "## 4. 박씨네집 클래스 만들기"
   ]
  },
  {
   "cell_type": "markdown",
   "metadata": {},
   "source": [
    "#### 01. 클래스 내부 함수만들기"
   ]
  },
  {
   "cell_type": "code",
   "execution_count": 18,
   "metadata": {
    "collapsed": true
   },
   "outputs": [],
   "source": [
    "class HousePark:\n",
    "    lastname  = \"박\"\n",
    "    def setname(self, name):\n",
    "        self.fullname = self.lastname + name\n",
    "    def travel(self, where):\n",
    "        print(\" %s %s 여행을 가다.\"  %(self.fullname, where) )        "
   ]
  },
  {
   "cell_type": "code",
   "execution_count": 19,
   "metadata": {},
   "outputs": [
    {
     "name": "stdout",
     "output_type": "stream",
     "text": [
      " 박응용 부산 여행을 가다.\n"
     ]
    }
   ],
   "source": [
    "# 인스턴스 선언할떄 기본적인 변수들을 입력한다\n",
    "# 클래스 내부 함수별 개별적인 연산으로 결과를 출력한다.\n",
    "pey = HousePark()\n",
    "pey.setname(\"응용\")\n",
    "pey.travel(\"부산\")"
   ]
  },
  {
   "cell_type": "markdown",
   "metadata": {},
   "source": [
    "#### 02. 초기값 설정하기\n",
    "- __init__ 함수로 초기값 함수로 설정하기"
   ]
  },
  {
   "cell_type": "code",
   "execution_count": 20,
   "metadata": {},
   "outputs": [
    {
     "name": "stdout",
     "output_type": "stream",
     "text": [
      " 박응용 태국 여행을 가다.\n"
     ]
    }
   ],
   "source": [
    "class HousePark:\n",
    "    lastname  = \"박\"\n",
    "    def __init__(self, name):\n",
    "        self.fullname = self.lastname + name\n",
    "    def travel(self, where):\n",
    "        print(\" %s %s 여행을 가다.\"  %(self.fullname, where) )        \n",
    "# 인스턴스 선언시 __init__ 함수의 조건은 만족해야만 한다\n",
    "# __init__의 변수갯수는 맞춰줘야 한다.\n",
    "#pey = HousePark()\n",
    "pey = HousePark(\"응용\")\n",
    "pey.travel(\"태국\")"
   ]
  },
  {
   "cell_type": "markdown",
   "metadata": {},
   "source": [
    "#### 03. 클래스 상속하기\n",
    "- 별개 클래스의 함수를 상속해서 연산한다."
   ]
  },
  {
   "cell_type": "code",
   "execution_count": 21,
   "metadata": {},
   "outputs": [
    {
     "name": "stdout",
     "output_type": "stream",
     "text": [
      " 김줄리엣 독도 여행을 가다.\n"
     ]
    }
   ],
   "source": [
    "class HouseKim(HousePark):\n",
    "    lastname = \"김\"\n",
    "juliet = HouseKim(\"줄리엣\")\n",
    "juliet.travel(\"독도\")"
   ]
  },
  {
   "cell_type": "markdown",
   "metadata": {},
   "source": [
    "#### 04. 메소드 오버라이딩"
   ]
  },
  {
   "cell_type": "code",
   "execution_count": 22,
   "metadata": {},
   "outputs": [
    {
     "name": "stdout",
     "output_type": "stream",
     "text": [
      " 김줄리엣, 독도 여행 3 일 간다..\n"
     ]
    }
   ],
   "source": [
    "class HouseKim(HousePark):\n",
    "    lastname = \"김\"\n",
    "    # 동일한 함수이나, 상속받은 뒤에서는 별도로 정의하면 후순의 함수가 우선한다\n",
    "    def travel(self, where, day):\n",
    "        print(\" %s, %s 여행 %s 일 간다..\"  %(self.fullname,where, day)) \n",
    "juliet = HouseKim(\"줄리엣\")\n",
    "juliet.travel(\"독도\",3)"
   ]
  },
  {
   "cell_type": "markdown",
   "metadata": {},
   "source": [
    "#### 05. 연산자 오버라이딩"
   ]
  },
  {
   "cell_type": "code",
   "execution_count": 23,
   "metadata": {},
   "outputs": [],
   "source": [
    "class HousePark:\n",
    "    lastname = \"박\"\n",
    "    def __init__(self,name):\n",
    "        self.fullname = self.lastname + name \n",
    "    def travel(self, where):\n",
    "        print(\" %s, %s 여행을 가다.\"  %(self.fullname, where))\n",
    "    def love(self, other):\n",
    "        print(\" %s ,%s 사랑에 빠졌네 \" %(self.fullname, other.fullname))\n",
    "    def fight(self, other):\n",
    "        print(\" %s, %s 싸우네 \" %(self.fullname, other.fullname))\n",
    "    def __sub__(self,other):\n",
    "        print(\" %s ,%s 이혼했네\" %(self.fullname, other.fullname))\n",
    "    def __add__(self,other):     # 인스턴스 내부의 함수간의 + 로 묶일때 시행할 함수를 정의한다\n",
    "        print(\" %s ,%s 결혼했네\" %(self.fullname, other.fullname ))\n",
    "\n",
    "class HouseKim(HousePark):\n",
    "    lastname = \"김\"\n",
    "    def travel(self, where, day):\n",
    "        print(\" %s %s 여행 %d 일 가네\" %(self.fullname, where, day))"
   ]
  },
  {
   "cell_type": "code",
   "execution_count": 24,
   "metadata": {},
   "outputs": [
    {
     "name": "stdout",
     "output_type": "stream",
     "text": [
      " 박응용, 부산 여행을 가다.\n",
      " 김줄리엣 부산 여행 3 일 가네\n",
      " 박응용 ,김줄리엣 사랑에 빠졌네 \n",
      " 박응용 ,김줄리엣 결혼했네\n",
      " 박응용, 김줄리엣 싸우네 \n",
      " 박응용 ,김줄리엣 이혼했네\n"
     ]
    }
   ],
   "source": [
    "pey = HousePark(\"응용\")\n",
    "juliet = HouseKim(\"줄리엣\")\n",
    "pey.travel(\"부산\")\n",
    "juliet.travel(\"부산\",3)\n",
    "pey.love(juliet)\n",
    "pey + juliet  # def __add__(self): 의 정의내용이 실행\n",
    "pey.fight(juliet)\n",
    "pey - juliet  # def __sub__(self): 의 정의내용이 "
   ]
  },
  {
   "cell_type": "markdown",
   "metadata": {},
   "source": [
    "# Module"
   ]
  },
  {
   "cell_type": "markdown",
   "metadata": {},
   "source": [
    "## Import \n",
    "- 모듈이름.py 에서 확장자를 제외한 이름만 지칭\n",
    "- import 모듈이름 "
   ]
  },
  {
   "cell_type": "code",
   "execution_count": 25,
   "metadata": {},
   "outputs": [
    {
     "name": "stdout",
     "output_type": "stream",
     "text": [
      "def sum(a,b):\r\n",
      "\treturn a + b\r\n",
      "\r\n",
      "def safe_sum(a,b):\r\n",
      "    if type(a) != type(b):\r\n",
      "        print(\"더이상 할 수 있는게 없습니다.\")\r\n",
      "        return\r\n",
      "    else:\r\n",
      "        result = sum(a,b)\r\n",
      "    return result"
     ]
    }
   ],
   "source": [
    "!cat mod1.py"
   ]
  },
  {
   "cell_type": "code",
   "execution_count": 26,
   "metadata": {},
   "outputs": [
    {
     "name": "stdout",
     "output_type": "stream",
     "text": [
      "7\n",
      "7\n",
      "더이상 할 수 있는게 없습니다.\n"
     ]
    }
   ],
   "source": [
    "import mod1\n",
    "print(mod1.sum(3,4))\n",
    "print(mod1.safe_sum(3,4))\n",
    "mod1.safe_sum(3,\"한글\")"
   ]
  },
  {
   "cell_type": "markdown",
   "metadata": {},
   "source": [
    "## from Import "
   ]
  },
  {
   "cell_type": "code",
   "execution_count": 27,
   "metadata": {},
   "outputs": [
    {
     "name": "stdout",
     "output_type": "stream",
     "text": [
      "더이상 할 수 있는게 없습니다.\n"
     ]
    }
   ],
   "source": [
    "from mod1 import safe_sum\n",
    "safe_sum(3, \"한글\")"
   ]
  },
  {
   "cell_type": "markdown",
   "metadata": {},
   "source": [
    "## if '\\_\\_name\\_\\_' = '\\_\\_main\\_\\_'"
   ]
  },
  {
   "cell_type": "code",
   "execution_count": 28,
   "metadata": {},
   "outputs": [
    {
     "name": "stdout",
     "output_type": "stream",
     "text": [
      "def sum(a,b):\r\n",
      "\treturn a + b\r\n",
      "\r\n",
      "def safe_sum(a,b):\r\n",
      "    if type(a) != type(b):\r\n",
      "        print(\"더이상 할 수 있는게 없습니다.\")\r\n",
      "        return\r\n",
      "    else:\r\n",
      "        result = sum(a,b)\r\n",
      "    return result\r\n",
      "\r\n",
      "# 파일을 직접 시행한 경우에만 작동하는 함수\r\n",
      "if __name__ == \"__main__\":\r\n",
      "\tprint(safe_sum(\"a\",1))\r\n",
      "\tprint(safe_sum(1,3))\r\n",
      "\tprint(sum(10, 10.3))"
     ]
    }
   ],
   "source": [
    "!cat mod2.py"
   ]
  },
  {
   "cell_type": "code",
   "execution_count": 29,
   "metadata": {},
   "outputs": [
    {
     "name": "stdout",
     "output_type": "stream",
     "text": [
      "더이상 할 수 있는게 없습니다.\n",
      "None\n",
      "4\n",
      "20.3\n"
     ]
    }
   ],
   "source": [
    "%run mod2.py"
   ]
  },
  {
   "cell_type": "code",
   "execution_count": 30,
   "metadata": {
    "collapsed": true
   },
   "outputs": [],
   "source": [
    "import mod2"
   ]
  },
  {
   "cell_type": "markdown",
   "metadata": {},
   "source": [
    "## 클래스나 변수등을 포함하는 모듈"
   ]
  },
  {
   "cell_type": "code",
   "execution_count": 31,
   "metadata": {},
   "outputs": [
    {
     "name": "stdout",
     "output_type": "stream",
     "text": [
      "PI = 3.141592\r\n",
      "\r\n",
      "class Math:\r\n",
      "    # 인스턴스 생성시 기본값을 받아서 self 인자를 입력\r\n",
      "    def solv(self,r):\r\n",
      "        return PI * (r**2)\r\n",
      "\r\n",
      "# 단순 내부적 연산만 (클래스에 비포함)\r\n",
      "def sum(a,b):\r\n",
      "    return a + b\r\n",
      "\r\n",
      "# 파일을 직접 시행한 경우에만 작동하는 함수\r\n",
      "if __name__ == \"__main__\":\r\n",
      "    print(PI)\r\n",
      "    a = Math()\r\n",
      "    print(a.solv(2))\r\n",
      "    print(sum(PI, 4.4))"
     ]
    }
   ],
   "source": [
    "!cat mod3.py"
   ]
  },
  {
   "cell_type": "code",
   "execution_count": 32,
   "metadata": {},
   "outputs": [
    {
     "data": {
      "text/plain": [
       "3.141592"
      ]
     },
     "execution_count": 32,
     "metadata": {},
     "output_type": "execute_result"
    }
   ],
   "source": [
    "import mod3\n",
    "# 클래스 내부 객체\n",
    "mod3.PI"
   ]
  },
  {
   "cell_type": "code",
   "execution_count": 33,
   "metadata": {},
   "outputs": [
    {
     "data": {
      "text/plain": [
       "12.566368"
      ]
     },
     "execution_count": 33,
     "metadata": {},
     "output_type": "execute_result"
    }
   ],
   "source": [
    "a = mod3.Math()\n",
    "a.solv(2)"
   ]
  },
  {
   "cell_type": "code",
   "execution_count": 34,
   "metadata": {},
   "outputs": [
    {
     "data": {
      "text/plain": [
       "7.5415920000000005"
      ]
     },
     "execution_count": 34,
     "metadata": {},
     "output_type": "execute_result"
    }
   ],
   "source": [
    "mod3.sum(mod3.PI,4.4)"
   ]
  },
  {
   "cell_type": "markdown",
   "metadata": {},
   "source": [
    "# @classmath Decorator"
   ]
  },
  {
   "cell_type": "markdown",
   "metadata": {},
   "source": [
    "## 클래스와 데코레이터\n",
    "- 출처 : http://jonnung.github.io/python/2015/08/17/python-decorator/"
   ]
  },
  {
   "cell_type": "markdown",
   "metadata": {},
   "source": [
    "### 함수로 접근하기"
   ]
  },
  {
   "cell_type": "code",
   "execution_count": 35,
   "metadata": {
    "collapsed": true
   },
   "outputs": [],
   "source": [
    "def is_admin(user_name):\n",
    "    if user_name != 'admin':\n",
    "        raise Exception(\"권한이 없다니까요\")"
   ]
  },
  {
   "cell_type": "code",
   "execution_count": 36,
   "metadata": {},
   "outputs": [
    {
     "name": "stdout",
     "output_type": "stream",
     "text": [
      "None\n"
     ]
    }
   ],
   "source": [
    "class Greet(object):\n",
    "    current_user = None\n",
    "    def set_name(self, name):\n",
    "        is_admin(name)\n",
    "        self.current_user = name\n",
    "    def get_greeting(self, name):\n",
    "        is_admin(name)\n",
    "        return \"Hello {}\".format(self.current_user)\n",
    "\n",
    "greet = Greet()\n",
    "print(greet.set_name('admin'))"
   ]
  },
  {
   "cell_type": "code",
   "execution_count": 37,
   "metadata": {},
   "outputs": [],
   "source": [
    "#Exception Error accured\n",
    "#greet.get_greeting('eunwoo')"
   ]
  },
  {
   "cell_type": "markdown",
   "metadata": {},
   "source": [
    "### 데코레이터로 접근하기 01"
   ]
  },
  {
   "cell_type": "code",
   "execution_count": 38,
   "metadata": {
    "collapsed": true
   },
   "outputs": [],
   "source": [
    "def is_admin(func):\n",
    "    def wrapper(*args, **kwargs): # 데코레이터 생성하기\n",
    "        if kwargs.get('username') != 'admin':\n",
    "            raise Exception(\"아 진짜 안된다니까 그러네..\")\n",
    "        return func(*args, **kwargs)\n",
    "    return wrapper"
   ]
  },
  {
   "cell_type": "code",
   "execution_count": 39,
   "metadata": {
    "collapsed": true
   },
   "outputs": [],
   "source": [
    "class Greet(object):\n",
    "    current_user = None\n",
    "    @is_admin\n",
    "    def set_name(self, username):\n",
    "        self.current_user = username\n",
    "    @is_admin\n",
    "    def get_greeting(self, username):\n",
    "        return \"Hello {}\".format(self.current_user)"
   ]
  },
  {
   "cell_type": "code",
   "execution_count": 40,
   "metadata": {},
   "outputs": [
    {
     "name": "stdout",
     "output_type": "stream",
     "text": [
      "None\n"
     ]
    },
    {
     "data": {
      "text/plain": [
       "'Hello admin'"
      ]
     },
     "execution_count": 40,
     "metadata": {},
     "output_type": "execute_result"
    }
   ],
   "source": [
    "greet = Greet() ; print(greet.set_name(username='admin'))\n",
    "greet.get_greeting(username='admin')"
   ]
  },
  {
   "cell_type": "markdown",
   "metadata": {},
   "source": [
    "### 데코레이터로 접근하기 02\n",
    "- 메소드 속성을 그대로 유지한채 데코레이터 실행"
   ]
  },
  {
   "cell_type": "code",
   "execution_count": 41,
   "metadata": {
    "collapsed": true
   },
   "outputs": [],
   "source": [
    "from functools import wraps\n",
    "def is_admin(func):\n",
    "    @wraps(func)\n",
    "    def wrapper(*args, **kwargs):\n",
    "        if kwargs.get('username') != 'admin':\n",
    "            raise Exception(\"아 진짜 안된다니까 그러네..\")\n",
    "        return func(*args, **kwargs)\n",
    "    return wrapper"
   ]
  },
  {
   "cell_type": "code",
   "execution_count": 42,
   "metadata": {},
   "outputs": [
    {
     "name": "stdout",
     "output_type": "stream",
     "text": [
      "get_greeting\n"
     ]
    }
   ],
   "source": [
    "class Greet(object):\n",
    "    current_user = None\n",
    "    @is_admin\n",
    "    def set_name(self, username):\n",
    "        self.current_user = username\n",
    "    @is_admin\n",
    "    def get_greeting(self, username):\n",
    "        return \"Hello {}\".format(self.current_user)\n",
    "\n",
    "greet = Greet() ; print(greet.get_greeting.__name__)\n",
    "greet.get_greeting.__doc__"
   ]
  },
  {
   "cell_type": "code",
   "execution_count": null,
   "metadata": {
    "collapsed": true
   },
   "outputs": [],
   "source": []
  },
  {
   "cell_type": "code",
   "execution_count": null,
   "metadata": {
    "collapsed": true
   },
   "outputs": [],
   "source": []
  }
 ],
 "metadata": {
  "kernelspec": {
   "display_name": "Python 3",
   "language": "python",
   "name": "python3"
  },
  "language_info": {
   "codemirror_mode": {
    "name": "ipython",
    "version": 3
   },
   "file_extension": ".py",
   "mimetype": "text/x-python",
   "name": "python",
   "nbconvert_exporter": "python",
   "pygments_lexer": "ipython3",
   "version": "3.5.2"
  }
 },
 "nbformat": 4,
 "nbformat_minor": 2
}
