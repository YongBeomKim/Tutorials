{
 "cells": [
  {
   "cell_type": "markdown",
   "metadata": {},
   "source": [
    "# **추천시스템**\n",
    "## **sklearn의 surprise 모듈을 사용**\n",
    "웹을 위한 머신러닝을 surprise로 구현\n",
    "\n",
    "<br>\n",
    "\n",
    "## **1 추천시스템의 이해**\n",
    "Item이 많고, Query를 잘 모를때 유용하다\n",
    "1. Popularity, High Rated Based (가장단순) : 높은 평점의 item을 추천, 결과값이 동일한 단점이 있다\n",
    "1. Collaborative Filtering (중간) : user & item의 rating을 이용하여, 사용자/item 유사도를 찾는다\n",
    "    1. 즉, 해당 user가 해당 item을 얼마나 좋아할 것인지 수치적으로 예측하는 것으로 User-based CF, Item-based CF라고도 함\n",
    "    1. Similarity 계산은 Euclidean distance, cosine, pearson 등 여러 수학적 유사도를 측정하여, 평점을 weighted sum으로 계산하여 평점을 예측\n",
    "    1. Personalization (개인화)는 각 개인의 성향에 맞는 item을 추천"
   ]
  },
  {
   "cell_type": "markdown",
   "metadata": {},
   "source": [
    "<br>\n",
    "\n",
    "## **2 간단한 추천시스템의 구현**\n",
    "### **1) Popularity, High Rated Based**"
   ]
  },
  {
   "cell_type": "code",
   "execution_count": 1,
   "metadata": {},
   "outputs": [],
   "source": [
    "ratings={ 'Dave':{'달콤한인생':5,'범죄도시':3,'샤인':3},\n",
    "          'David':{'달콤한인생':5,'범죄도시':1,'샤인':4},\n",
    "          'Alex':{'달콤한인생':0,'범죄도시':4,'샤인':5},\n",
    "          'Andy':{'달콤한인생':2,'범죄도시':1,'샤인':5} }"
   ]
  },
  {
   "cell_type": "code",
   "execution_count": 2,
   "metadata": {},
   "outputs": [
    {
     "name": "stdout",
     "output_type": "stream",
     "text": [
      "[('샤인', 4.25), ('달콤한인생', 3.0)]\n"
     ]
    }
   ],
   "source": [
    "# 가장 평점이 높은 순서로 추천한다\n",
    "movie_dict = dict()\n",
    "for rating in ratings:\n",
    "    for movie in ratings[rating].keys():\n",
    "        if movie not in movie_dict:\n",
    "            movie_dict[movie] = ratings[rating][movie]\n",
    "        else:\n",
    "            movie_dict[movie] = (movie_dict[movie] + ratings[rating][movie]) \n",
    "\n",
    "for movie in ratings[rating].keys():\n",
    "    movie_dict[movie] = movie_dict[movie] / 4\n",
    "\n",
    "import operator\n",
    "sorted_x = sorted(movie_dict.items(), key=operator.itemgetter(1), reverse=True)\n",
    "\n",
    "print(sorted_x[:2])"
   ]
  },
  {
   "cell_type": "markdown",
   "metadata": {},
   "source": [
    "<br>\n",
    "\n",
    "### **2) Collaborative Filtering**\n",
    "1. 사용자/아이템 - 항목 선호도(평점) 행렬을 사용하여 사용자/아이템들 간의 유사도를 계산한다.\n",
    "1. 사용자/아이템 간의 모든 항목에 대해 예측 값을 계산하고, 상위 N개의 추천 목록을 생성한다."
   ]
  },
  {
   "cell_type": "code",
   "execution_count": 3,
   "metadata": {},
   "outputs": [
    {
     "name": "stdout",
     "output_type": "stream",
     "text": [
      "Dave  :  2.23606797749979\n",
      "David  :  3.1622776601683795\n",
      "Andy  :  3.0\n"
     ]
    }
   ],
   "source": [
    "# 'Alex'와 다른 사용가간의 '범죄도시'와 '샤인'유사도 측정 \n",
    "# 피타고라스 정리로 유사도 측정\n",
    "import math\n",
    "def sim(i, j):\n",
    "    return math.sqrt(pow(i,2)+pow(j,2))\n",
    "\n",
    "for i in ratings:\n",
    "    if i != 'Alex':\n",
    "        num1 = ratings.get('Alex').get('범죄도시') - ratings.get(i).get('범죄도시')\n",
    "        num2 = ratings.get('Alex').get('샤인') - ratings.get(i).get('샤인')\n",
    "        print(i,\" : \", sim(num1,num2))"
   ]
  },
  {
   "cell_type": "code",
   "execution_count": 4,
   "metadata": {},
   "outputs": [
    {
     "name": "stdout",
     "output_type": "stream",
     "text": [
      "Dave  :  0.3090169943749474\n",
      "David  :  0.2402530733520421\n",
      "Andy  :  0.25\n"
     ]
    }
   ],
   "source": [
    "# 'Alex'의 유사도 측정 결과값을 0~1로 정규화\n",
    "for i in ratings:\n",
    "    if i != 'Alex':\n",
    "        num1 = ratings.get('Alex').get('범죄도시') - ratings.get(i).get('범죄도시')\n",
    "        num2 = ratings.get('Alex').get('샤인') - ratings.get(i).get('샤인')\n",
    "        print(i,\" : \", 1 / ( 1 + sim(num1,num2) ) )"
   ]
  },
  {
   "cell_type": "code",
   "execution_count": 5,
   "metadata": {},
   "outputs": [
    {
     "name": "stdout",
     "output_type": "stream",
     "text": [
      "David  :  0.3090169943749474\n",
      "Alex  :  0.3090169943749474\n",
      "Andy  :  0.2612038749637414\n"
     ]
    }
   ],
   "source": [
    "# 'Dave'의 유사도 측정 결과값을 0~1로 정규화\n",
    "for i in ratings:\n",
    "    if i != 'Dave':\n",
    "        num1 = ratings.get('Dave').get('범죄도시') - ratings.get(i).get('범죄도시')\n",
    "        num2 = ratings.get('Dave').get('샤인') - ratings.get(i).get('샤인')\n",
    "        print(i,\" : \", 1 / ( 1 + sim(num1,num2) ) )"
   ]
  },
  {
   "cell_type": "markdown",
   "metadata": {},
   "source": [
    "<br>\n",
    "\n",
    "## **3 유사도(Similarity) 측정**\n",
    "### **1) Mean Squared Difference Similarity (평균제곱을 활용)**\n",
    "User-based Collaborative Filter ,Item-based Collaborative Filter\n",
    "$$ msd (u(사용자1)와  v(사용자2)간의 거리) = \\frac{(u 와 v 평가상품의 평점차의 제곱)}{(u와 v 평가상품의 수)} $$\n",
    "$$ msd\\_sim (유사도) = \\frac{1}{msd(u,v) + 1} $$"
   ]
  },
  {
   "cell_type": "code",
   "execution_count": 6,
   "metadata": {},
   "outputs": [
    {
     "data": {
      "text/plain": [
       "0.0909"
      ]
     },
     "execution_count": 6,
     "metadata": {},
     "output_type": "execute_result"
    }
   ],
   "source": [
    "# 1 Mean Squared Difference Similarity\n",
    "# Mean Squared Difference (msd) 의 역수를 계산하여 차이가 클 수록 Similarity 값은 작아진다!\n",
    "# MSD가 0이 되는 경우를 대응하기 위해 1을 무조건 더해준다\n",
    "\n",
    "def sim_msd(data, name1, name2):\n",
    "    sum = 0\n",
    "    count = 0\n",
    "    for movies in data[name1]:\n",
    "        if movies in data[name2]: #같은 영화를 봤다면\n",
    "            sum += pow(data[name1][movies] - data[name2][movies], 2)\n",
    "            count += 1\n",
    "\n",
    "    sim_msd = 1 / ( 1 + (sum / count) )\n",
    "    return round(sim_msd, 4)\n",
    "\n",
    "sim_msd(ratings, 'Dave','Alex')"
   ]
  },
  {
   "cell_type": "markdown",
   "metadata": {},
   "source": [
    "<br>\n",
    "\n",
    "### **2) Cosine Similarity (코사인 유사도)**\n",
    "1. Cosine Similarity에서 **\"−1은\"** 완전히 반대, **\"0은\"** 서로 독립, **\"1은\"** 완전히 같은 경우를 의미\n",
    "1. 두 벡터간의 유사도를 cosine으로 계산한다\n",
    "1. u(사용자1) 과 v(사용자2)간의 유사도 측정시 **모든 상품 평점의 기하평균값**으로 계산한다\n",
    "$$ u \\bullet v = |u| \\bullet |v| \\cos \\theta  \\ggg  \\cos \\theta = \\frac {u \\bullet v}{|u| \\bullet |v|} $$\n",
    "$$ \\cos 유사도 = \\frac {u \\bullet v}{|u| \\bullet |v|} $$\n"
   ]
  },
  {
   "cell_type": "code",
   "execution_count": 7,
   "metadata": {},
   "outputs": [
    {
     "data": {
      "text/plain": [
       "0.643"
      ]
     },
     "execution_count": 7,
     "metadata": {},
     "output_type": "execute_result"
    }
   ],
   "source": [
    "import math\n",
    "def sim_cosine(data, name1, name2):\n",
    "    sum_name1, sum_name2, sum_name1_name2, count = 0,0,0,0\n",
    "    for movies in data[name1]:\n",
    "        if movies in data[name2]: #같은 영화를 봤다면\n",
    "            sum_name1 += pow(data[name1][movies], 2)\n",
    "            sum_name2 += pow(data[name2][movies], 2)\n",
    "            sum_name1_name2 += data[name1][movies] * data[name2][movies]\n",
    "    sim_cosine = sum_name1_name2 / (math.sqrt(sum_name1) * math.sqrt(sum_name2))\n",
    "    return round(sim_cosine, 4)\n",
    "\n",
    "# Dave','Alex' 간의 cosine 유사도\n",
    "sim_cosine(ratings, 'Dave','Alex')"
   ]
  },
  {
   "cell_type": "markdown",
   "metadata": {},
   "source": [
    "<br>\n",
    "\n",
    "### **3)Pearson Similarity (피어슨 유사도)**\n",
    "두 벡터의 상관계수(Pearson correlation coefficient)로써 **유사도가 가장 높을 경우 값이 1, *가장 낮을 경우 -1의 값**을 갖는다"
   ]
  },
  {
   "cell_type": "code",
   "execution_count": 8,
   "metadata": {},
   "outputs": [
    {
     "data": {
      "text/plain": [
       "0.2166"
      ]
     },
     "execution_count": 8,
     "metadata": {},
     "output_type": "execute_result"
    }
   ],
   "source": [
    "def sim_pearson(data, name1, name2):\n",
    "    avg_name1, avg_name2 ,count = 0, 0, 0\n",
    "    for movies in data[name1]:\n",
    "        if movies in data[name2]: #같은 영화를 봤다면\n",
    "            avg_name1 = data[name1][movies]\n",
    "            avg_name2 = data[name2][movies]\n",
    "            count += 1\n",
    "\n",
    "    avg_name1 = avg_name1 / count\n",
    "    avg_name2 = avg_name2 / count\n",
    "\n",
    "    sum_name1, sum_name2, sum_name1_name2, count = 0,0,0,0\n",
    "    for movies in data[name1]:\n",
    "        if movies in data[name2]: #같은 영화를 봤다면\n",
    "            sum_name1 += pow(data[name1][movies] - avg_name1, 2)\n",
    "            sum_name2 += pow(data[name2][movies] - avg_name2, 2)\n",
    "            sum_name1_name2 += (data[name1][movies] - avg_name1) * (data[name2][movies] - avg_name2)\n",
    "\n",
    "    sim_pearson = sum_name1_name2 / (math.sqrt(sum_name1)*math.sqrt(sum_name2))\n",
    "    return round(sim_pearson, 4)\n",
    "\n",
    "sim_pearson(ratings, 'Dave','Alex')"
   ]
  },
  {
   "cell_type": "markdown",
   "metadata": {},
   "source": [
    "<br>\n",
    "\n",
    "### **4) 전체 유사도 측정**\n",
    "top_match"
   ]
  },
  {
   "cell_type": "code",
   "execution_count": 9,
   "metadata": {},
   "outputs": [
    {
     "data": {
      "text/plain": [
       "[(0.8681, 'David'), (0.3984, 'Andy'), (0.2166, 'Alex')]"
      ]
     },
     "execution_count": 9,
     "metadata": {},
     "output_type": "execute_result"
    }
   ],
   "source": [
    "def top_match(data, name, index=3, sim_function=sim_pearson):\n",
    "    li=[]\n",
    "    for i in data: #딕셔너리를 돌고\n",
    "        if name!=i: #자기 자신이 아닐때만\n",
    "            li.append((sim_function(data,name,i),i)) #sim_function()을 통해 상관계수를 구하고 li[]에 추가\n",
    "    li.sort() #오름차순\n",
    "    li.reverse() #내림차순\n",
    "    return li[:index]\n",
    "\n",
    "top_match(ratings, 'Dave', 3)"
   ]
  },
  {
   "cell_type": "code",
   "execution_count": 10,
   "metadata": {},
   "outputs": [
    {
     "name": "stdout",
     "output_type": "stream",
     "text": [
      "sim_msd \n",
      " [(0.375, 'David'), (0.15, 'Andy'), (0.0909, 'Alex')] \n",
      "sim_cosine \n",
      " [(0.9412, 'David'), (0.7796, 'Andy'), (0.643, 'Alex')]\n",
      "sim_pearson \n",
      "[(0.8681, 'David'), (0.3984, 'Andy'), (0.2166, 'Alex')]\n"
     ]
    }
   ],
   "source": [
    "print('sim_msd \\n {} \\nsim_cosine \\n {}\\nsim_pearson \\n{}'.format(\n",
    "    top_match(ratings, 'Dave', 3, sim_function=sim_msd),\n",
    "    top_match(ratings, 'Dave', 3, sim_function=sim_cosine),\n",
    "    top_match(ratings, 'Dave', 3, sim_function=sim_pearson)))"
   ]
  },
  {
   "cell_type": "markdown",
   "metadata": {},
   "source": [
    "<br>\n",
    "\n",
    "## **4 KNN을 활용한 예측값 및 유사도(Similarity) 측정**\n",
    "### **1) K Nearest Neighbors(KNN) 가중치 예측 기법**\n",
    "User-based Collaborative Filter ,Item-based Collaborative Filter\n",
    "$$ msd (u(사용자1)와  v(사용자2)간의 거리) = \\frac{(u 와 v 평가상품의 평점차의 제곱)}{(u와 v 평가상품의 수)} $$\n",
    "$$ msd\\_sim (유사도) = \\frac{1}{msd(u,v) + 1} $$"
   ]
  },
  {
   "cell_type": "code",
   "execution_count": 11,
   "metadata": {},
   "outputs": [],
   "source": [
    "ratings_expand = {\n",
    "    '마동석': {'택시운전사': 3.5,'남한산성': 1.5,'킹스맨:골든서클': 3.0,'범죄도시': 3.5,'아이 캔 스피크': 2.5,'꾼': 3.0,},\n",
    "    '이정재': {'택시운전사': 5.0,'남한산성': 4.5,'킹스맨:골든서클': 0.5,'범죄도시': 1.5,'아이 캔 스피크': 4.5,'꾼': 5.0,},\n",
    "    '윤계상': {'택시운전사': 3.0,'남한산성': 2.5,'킹스맨:골든서클': 1.5,'범죄도시': 3.0,'아이 캔 스피크': 3.5,'꾼': 3.0,},\n",
    "    '설경구': {'택시운전사': 2.5,'남한산성': 3.0,'범죄도시': 4.5,'꾼': 4.0,},\n",
    "    '최홍만': {'남한산성': 4.5,'킹스맨:골든서클': 3.0,'꾼': 4.5,'범죄도시': 3.0,'아이 캔 스피크': 2.5,},\n",
    "    '홍수환': {'택시운전사': 3.0,'남한산성': 4.0,'킹스맨:골든서클': 1.0,'범죄도시': 3.0,'꾼': 3.5,'아이 캔 스피크': 2.0,},\n",
    "    '나원탁': {'택시운전사': 3.0,'남한산성': 4.0,'꾼': 3.0,'범죄도시': 5.0,'아이 캔 스피크': 3.5,},\n",
    "    '소이현': {'남한산성': 4.5,'아이 캔 스피크': 1.0,'범죄도시': 4.0} }"
   ]
  },
  {
   "cell_type": "code",
   "execution_count": 12,
   "metadata": {},
   "outputs": [],
   "source": [
    "# KNN With Means : 평점들을 평균값 기준으로 가중 평균한다.\n",
    "for name in ratings_expand:\n",
    "    sum = 0\n",
    "    count = 0\n",
    "    for movies in ratings_expand[name]:\n",
    "        sum += ratings_expand[name][movies]\n",
    "        count += 1\n",
    "    ratings_expand[name]['avg'] = sum / count\n",
    "    \n",
    "# ratings_expand"
   ]
  },
  {
   "cell_type": "code",
   "execution_count": 13,
   "metadata": {},
   "outputs": [],
   "source": [
    "# KNN을 활용한 추천시스템\n",
    "def getRecommendation (data, person, k=3, sim_function=sim_pearson):\n",
    "    result = top_match(data, person, k)\n",
    "    # score : 평점합, li : 리턴값, score_dic : 유사도 총합, sim_dic : 평점총합\n",
    "    score, li, score_dic, sim_dic = 0, list(), dict(), dict() \n",
    "    for sim, name in result:                     # 튜플이므로 한번에\n",
    "        print(sim, name)\n",
    "        if sim < 0 : continue                    # 유사도가 양수인 사람만 추출\n",
    "\n",
    "        for movie in data[name]: \n",
    "            if movie not in data[person]:        # name이 평가를 내리지 않은 영화\n",
    "                score += sim * data[name][movie] # 그사람의 영화평점 * 유사도\n",
    "                score_dic.setdefault(movie, 0)   # 기본값 설정\n",
    "                score_dic[movie] += score        # 합계\n",
    "                sim_dic.setdefault(movie, 0)     # 조건에 맞는 유사도의 누적합\n",
    "                sim_dic[movie] += sim\n",
    "            score = 0                            # 다른 영화 측정을 위해서 값을 초기화\n",
    "\n",
    "    for key in score_dic: \n",
    "        score_dic[key] = score_dic[key] / sim_dic[key] # 평점 총합/ 유사도 총합\n",
    "        li.append((score_dic[key],key))                # list((tuple))의 리턴을 위해서.\n",
    "\n",
    "    li.sort()                                          # 오름차순\n",
    "    li.reverse()                                       # 내림차순\n",
    "    return li"
   ]
  },
  {
   "cell_type": "code",
   "execution_count": 14,
   "metadata": {},
   "outputs": [
    {
     "name": "stdout",
     "output_type": "stream",
     "text": [
      "0.9662 홍수환\n",
      "0.9438 최홍만\n",
      "0.9438 설경구\n"
     ]
    },
    {
     "data": {
      "text/plain": [
       "[(3.9960754082276266, '꾼'),\n",
       " (2.7529319371727747, '택시운전사'),\n",
       " (1.9882722513089006, '킹스맨:골든서클')]"
      ]
     },
     "execution_count": 14,
     "metadata": {},
     "output_type": "execute_result"
    }
   ],
   "source": [
    "# '소이현'과 유사한 사용자는?\n",
    "getRecommendation(ratings_expand, '소이현')"
   ]
  },
  {
   "cell_type": "code",
   "execution_count": 15,
   "metadata": {},
   "outputs": [
    {
     "name": "stdout",
     "output_type": "stream",
     "text": [
      "0.9652 홍수환\n",
      "0.9438 소이현\n",
      "0.9351 설경구\n"
     ]
    },
    {
     "data": {
      "text/plain": [
       "[(2.753959901068252, '택시운전사')]"
      ]
     },
     "execution_count": 15,
     "metadata": {},
     "output_type": "execute_result"
    }
   ],
   "source": [
    "# '최홍만' 과 가장 유사한 사용자는?\n",
    "# 단 유사도 함수는sim_cosine, k는 2를 사용 \n",
    "getRecommendation(ratings_expand, '최홍만', k=3, sim_function=sim_cosine)"
   ]
  },
  {
   "cell_type": "markdown",
   "metadata": {},
   "source": [
    "<br>\n",
    "\n",
    "## **5 Latent Factor 모형 (PCA와 Latent Factor 모형)**\n",
    "1. 복잡한 사용자/영화 특성을 몇 개의 벡터로 간략화 모형을 만든다\n",
    "1. 다차원 공간의 점들을, **특징 축 (선형변환 : 크기만 다르고 정보(:분산값)는 동일한 축)** 과 **이를 직교하는 축** 으로 요약한다\n",
    "1. PCA는 차원을 축소한 공간에 정의된 어떤 축에 투영하여 표현\n",
    "\n",
    "<img src=\"https://www.researchgate.net/profile/Zheng_Li106/publication/321763710/figure/fig3/AS:583861561995265@1516214852991/Three-dimensional-PCA-score-plot-of-14-liquor-samples-4-ethanol-controls-and-the.ppm\" width=\"500\" align='left'>"
   ]
  },
  {
   "cell_type": "code",
   "execution_count": 16,
   "metadata": {},
   "outputs": [
    {
     "data": {
      "text/plain": [
       "array([[ 0.1500986 ,  0.27260069,  0.09153238],\n",
       "       [-0.53191014, -0.14219272, -0.27163644],\n",
       "       [ 0.27104461, -0.04899669,  0.05350619],\n",
       "       [ 0.00954404,  0.23793435, -0.32667877],\n",
       "       [ 0.10122289, -0.31934563,  0.45327663]])"
      ]
     },
     "execution_count": 16,
     "metadata": {},
     "output_type": "execute_result"
    }
   ],
   "source": [
    "import numpy as np\n",
    "from numpy import linalg as la\n",
    "\n",
    "# 선형변환 : 변수(행)별 평균을 0으로 centering한 행렬 X′를 만든다\n",
    "# (좌표계의 원점이 평균 벡터와 일치하도록 만듬)\n",
    "user, item = 5, 3\n",
    "X = np.random.rand(user, item)  # Data 생성\n",
    "X -= np.mean(X, axis=0)         # 변수들의 중심을 원점으로 이동한다 \n",
    "X"
   ]
  },
  {
   "cell_type": "code",
   "execution_count": 17,
   "metadata": {},
   "outputs": [
    {
     "name": "stdout",
     "output_type": "stream",
     "text": [
      "eigen_value : \n",
      "[0.1555437  0.09398771 0.01096646] \n",
      "\n",
      "       \n",
      "eigen_vector : \n",
      "[[-0.62932161 -0.59193358  0.5035563 ]\n",
      " [ 0.20461688 -0.75130102 -0.62743822]\n",
      " [-0.74972411  0.29182431 -0.59392957]] \n",
      "       \n",
      "eigen_vector(\"고유값중 가장 큰 d개의 고유벡터 선택\"):\n",
      "[[-0.62932161 -0.59193358]\n",
      " [ 0.20461688 -0.75130102]\n",
      " [-0.74972411  0.29182431]]\n"
     ]
    }
   ],
   "source": [
    "# 공분산행렬(C)을 기반으로 고유값 { l : eigen_value } 과 고유벡터 { principal_axes: eigen_vector } 계산\n",
    "C                 = np.cov(X, rowvar = False)\n",
    "l, principal_axes = la.eig(C)\n",
    "idx               = l.argsort()[::-1]\n",
    "l, principal_axes = l[idx], principal_axes[:, idx]\n",
    "print(\"\"\"eigen_value : \\n{} \\n\n",
    "       \\neigen_vector : \\n{} \n",
    "       \\neigen_vector(\"고유값중 가장 큰 d개의 고유벡터 선택\"):\\n{}\"\"\".format(\\\n",
    "       l, principal_axes, principal_axes[:, :2]))"
   ]
  },
  {
   "cell_type": "code",
   "execution_count": 18,
   "metadata": {},
   "outputs": [
    {
     "name": "stdout",
     "output_type": "stream",
     "text": [
      "특징벡터 :\n",
      " [[-0.10730562 -0.2669422  -0.14982078]\n",
      " [ 0.50929991  0.34241488 -0.01729664]\n",
      " [-0.22071466 -0.10801473  0.13544971]\n",
      " [ 0.28759806 -0.27974256  0.04954103]\n",
      " [-0.46887768  0.31228461 -0.01787331]]\n",
      "\n",
      "특징벡터(요약) :\n",
      "[[-0.10730562 -0.2669422 ]\n",
      " [ 0.50929991  0.34241488]\n",
      " [-0.22071466 -0.10801473]\n",
      " [ 0.28759806 -0.27974256]\n",
      " [-0.46887768  0.31228461]]\n",
      "\n"
     ]
    }
   ],
   "source": [
    "# 특징벡터 추출\n",
    "principal_components = X.dot(principal_axes)\n",
    "principal_components_short = X.dot(principal_axes[:, :2])\n",
    "print(\"특징벡터 :\\n {}\\n\\n특징벡터(요약) :\\n{}\\n\".format(principal_components, principal_components_short))"
   ]
  },
  {
   "cell_type": "markdown",
   "metadata": {},
   "source": [
    "<br>\n",
    "\n",
    "## **6 SVD (SVD와 Latent Factor 모형)**\n",
    "특이값 분해(singular value decomposition) \n",
    "\n",
    "<img src=\"http://www.fun-coding.org/00_Images/SVD4.png\" width=\"700\" align='left'>"
   ]
  },
  {
   "cell_type": "markdown",
   "metadata": {},
   "source": [
    "<br>\n",
    "\n",
    "### **1) sklearn을 활용한 SVD (SVD와 Latent Factor 모형)**\n",
    "특이값 분해(singular value decomposition) "
   ]
  },
  {
   "cell_type": "code",
   "execution_count": 19,
   "metadata": {},
   "outputs": [
    {
     "name": "stdout",
     "output_type": "stream",
     "text": [
      "TruncatedSVD(algorithm='randomized', n_components=2, n_iter=7,\n",
      "       random_state=None, tol=0.0)\n"
     ]
    },
    {
     "data": {
      "text/plain": [
       "array([[ 0.93226076,  0.48870223],\n",
       "       [ 0.16171398, -0.44144606],\n",
       "       [ 0.36150572, -0.24661492],\n",
       "       [-0.81280061,  0.79830256],\n",
       "       [ 1.00418557,  0.3523289 ]])"
      ]
     },
     "execution_count": 19,
     "metadata": {},
     "output_type": "execute_result"
    }
   ],
   "source": [
    "# sklearn의 TruncatedSVD 사용\n",
    "# n_components = 2   2개 차원으로 축소\n",
    "from sklearn.decomposition import TruncatedSVD\n",
    "from sklearn.random_projection import sparse_random_matrix\n",
    "X     = sparse_random_matrix(5, 5)              # 원본 데이터\n",
    "svd   = TruncatedSVD(n_components=2, n_iter=7)  # 특이값 모델의 설계\n",
    "U     = svd.fit_transform(X)                    # 2차원 축소한 특이값 행렬을 출력\n",
    "Sigma = svd.explained_variance_ratio_\n",
    "VT    = svd.components_\n",
    "print(svd.fit(X))\n",
    "U"
   ]
  },
  {
   "cell_type": "markdown",
   "metadata": {},
   "source": [
    "<br>\n",
    "\n",
    "### **2) numpy 를 활용한 SVD (SVD와 Latent Factor 모형)**\n",
    "특이값 분해(singular value decomposition) 세부내용 확인\n",
    "\n",
    "http://www.fun-coding.org/recommend_basic6.html#6.-SVD-(SVD%EC%99%80-Latent-Factor-%EB%AA%A8%ED%98%95)"
   ]
  },
  {
   "cell_type": "code",
   "execution_count": 20,
   "metadata": {},
   "outputs": [
    {
     "name": "stdout",
     "output_type": "stream",
     "text": [
      "covariance matrix = \n",
      " [[ 0.09338628 -0.11086559 -0.02943783]\n",
      " [-0.11086559  0.18770817  0.0336127 ]\n",
      " [-0.02943783  0.0336127   0.12511719]]\n"
     ]
    }
   ],
   "source": [
    "import numpy as np\n",
    "from numpy import linalg as la\n",
    "np.random.seed(42)\n",
    "\n",
    "# http://stats.stackexchange.com/q/34396/115202\n",
    "def flip_signs(A, B): \n",
    "    signs = np.sign(A) * np.sign(B)\n",
    "    return A, B * signs\n",
    "\n",
    "n, p = 5, 3                 # n(샘플수) x p(변수의 크기)\n",
    "X  = np.random.rand(n, p)\n",
    "X -= np.mean(X, axis=0)     # centering 작업\n",
    "C  = np.cov(X, rowvar=False) # the p x p covariance matrix\n",
    "print (\"covariance matrix = \\n\", C)"
   ]
  },
  {
   "cell_type": "code",
   "execution_count": 21,
   "metadata": {},
   "outputs": [
    {
     "name": "stdout",
     "output_type": "stream",
     "text": [
      "eigen_values = \n",
      "[0.27418905 0.11232653 0.01969604]\n",
      "        \n",
      "eigen_vectors = \n",
      "[[ 0.53435576  0.10510519 -0.83869948]\n",
      " [-0.79577968 -0.27194755 -0.54109078]\n",
      " [-0.28495372  0.95655498 -0.06167616]]\n",
      "        \n",
      "Principal_Components = \n",
      "[[-0.5382821   0.04170504 -0.17101639]\n",
      " [ 0.37801268 -0.26959854  0.10654358]\n",
      " [-0.60281427 -0.09375913  0.14821045]\n",
      " [ 0.31232627  0.5572872   0.03786103]\n",
      " [ 0.45075742 -0.23563458 -0.12159868]]\n",
      "        \n"
     ]
    }
   ],
   "source": [
    "# 교유값 과 고유벡터 계산\n",
    "l, principal_axes = la.eig(C)\n",
    "idx               = l.argsort()[::-1]              \n",
    "l, principal_axes = l[idx], principal_axes[:, idx]\n",
    "principal_components = X.dot(principal_axes)\n",
    "\n",
    "# 고유값 (eigen_values)은 내림차순으로 정렬\n",
    "# 고유벡터 (eigen_vector)는 Matrix의 column으로 출력된다\n",
    "# 주성분분석 (Principal Components Analysis)은 X 와 eigen_vector를 곱해서 계산\n",
    "print (\"\"\"eigen_values = \\n{}\n",
    "        \\neigen_vectors = \\n{}\n",
    "        \\nPrincipal_Components = \\n{}\n",
    "        \"\"\".format(l, principal_axes, principal_components))"
   ]
  },
  {
   "cell_type": "code",
   "execution_count": 22,
   "metadata": {},
   "outputs": [
    {
     "name": "stdout",
     "output_type": "stream",
     "text": [
      "특징 축 (V컬럼) : \n",
      "[[-0.53435576  0.10510519 -0.83869948]\n",
      " [ 0.79577968 -0.27194755 -0.54109078]\n",
      " [ 0.28495372  0.95655498 -0.06167616]]\n",
      "       \n",
      "principal components (US컬럼) : \n",
      "[[ 0.5382821   0.04170504 -0.17101639]\n",
      " [-0.37801268 -0.26959854  0.10654358]\n",
      " [ 0.60281427 -0.09375913  0.14821045]\n",
      " [-0.31232627  0.5572872   0.03786103]\n",
      " [-0.45075742 -0.23563458 -0.12159868]]\n",
      "       \n",
      "singular values (related to the eigen_values) : \n",
      "[0.27418905 0.11232653 0.01969604]\n",
      "       \n"
     ]
    }
   ],
   "source": [
    "# 특이값분해 (Singular Value Decomposion) 의 간략버젼 : \"economy size\" (or \"thin\") SVD\n",
    "# singular value decomposition of X\n",
    "U, s, Vt = la.svd(X, full_matrices = False)\n",
    "V        = Vt.T\n",
    "S        = np.diag(s)\n",
    "\n",
    "print(\"\"\"특징 축 (V컬럼) : \\n{}\n",
    "       \\nprincipal components (US컬럼) : \\n{}\n",
    "       \\nsingular values (related to the eigen_values) : \\n{}\n",
    "       \"\"\".format(V, U.dot(S), (s ** 2) / (n - 1)))\n",
    "assert np.allclose(*flip_signs(V, principal_axes))\n",
    "assert np.allclose(*flip_signs(U.dot(S), principal_components))\n",
    "assert np.allclose((s ** 2) / (n - 1), l)"
   ]
  },
  {
   "cell_type": "code",
   "execution_count": 23,
   "metadata": {},
   "outputs": [
    {
     "name": "stdout",
     "output_type": "stream",
     "text": [
      "principal components (k=2일때) : \n",
      "[[-0.5382821   0.04170504]\n",
      " [ 0.37801268 -0.26959854]\n",
      " [-0.60281427 -0.09375913]\n",
      " [ 0.31232627  0.5572872 ]\n",
      " [ 0.45075742 -0.23563458]]\n",
      "       \n",
      "특징 축 (V컬럼) : \n",
      "[[ 0.5382821   0.04170504]\n",
      " [-0.37801268 -0.26959854]\n",
      " [ 0.60281427 -0.09375913]\n",
      " [-0.31232627  0.5572872 ]\n",
      " [-0.45075742 -0.23563458]]\n",
      "       \n"
     ]
    }
   ],
   "source": [
    "# K = 2 인 차원축소 (Dimensionality reduction)\n",
    "# we used \"economy size\" (or \"thin\") SVD\n",
    "k    = 2\n",
    "PC_k = principal_components[:, 0:k]\n",
    "US_k = U[ :, 0 : k ].dot(S[0 : k , 0 : k])\n",
    "\n",
    "print(\"\"\"principal components (k=2일때) : \\n{}\n",
    "       \\n특징 축 (V컬럼) : \\n{}\n",
    "       \"\"\".format(PC_k, US_k))\n",
    "\n",
    "assert np.allclose(*flip_signs(PC_k, US_k))"
   ]
  },
  {
   "cell_type": "code",
   "execution_count": 24,
   "metadata": {},
   "outputs": [
    {
     "name": "stdout",
     "output_type": "stream",
     "text": [
      "\n",
      " [[1.73205081 2.        ]\n",
      " [0.         1.73205081]] \n",
      "\n",
      " [[ 0.8660254 -0.5      ]\n",
      " [ 0.5        0.8660254]] \n",
      "\n",
      " [[ 0.5        0.8660254]\n",
      " [-0.8660254  0.5      ]] \n",
      "\n",
      " [[3. 0.]\n",
      " [0. 1.]]\n"
     ]
    }
   ],
   "source": [
    "# 특이값 분해 계산\n",
    "import numpy as np\n",
    "from pprint import pprint\n",
    "import math\n",
    "M = np.array([[math.sqrt(3), 2], [0, math.sqrt(3)]])\n",
    "U, s, Vt = np.linalg.svd(M, full_matrices=True)\n",
    "print('\\n', M, '\\n\\n', U, '\\n\\n', Vt, '\\n\\n', np.diag(s) )"
   ]
  },
  {
   "cell_type": "markdown",
   "metadata": {},
   "source": [
    "<br>\n",
    "\n",
    "## **7 Surprise 모듈을 사용한 영화 평점의 SVD**\n",
    "sparse matrix인 평점 행렬에 대해 SGD를 사용한 실제 SVD 구현 예\n",
    "\n",
    "http://surprise.readthedocs.io/en/stable/\n",
    "\n",
    "<br>\n",
    "\n",
    "### **1) Surprise 기본모듈로 SVD 계산**\n",
    "surprise"
   ]
  },
  {
   "cell_type": "code",
   "execution_count": 25,
   "metadata": {},
   "outputs": [
    {
     "data": {
      "text/html": [
       "<div>\n",
       "<style scoped>\n",
       "    .dataframe tbody tr th:only-of-type {\n",
       "        vertical-align: middle;\n",
       "    }\n",
       "\n",
       "    .dataframe tbody tr th {\n",
       "        vertical-align: top;\n",
       "    }\n",
       "\n",
       "    .dataframe thead th {\n",
       "        text-align: right;\n",
       "    }\n",
       "</style>\n",
       "<table border=\"1\" class=\"dataframe\">\n",
       "  <thead>\n",
       "    <tr style=\"text-align: right;\">\n",
       "      <th></th>\n",
       "      <th>user</th>\n",
       "      <th>item</th>\n",
       "      <th>rate</th>\n",
       "      <th>id</th>\n",
       "    </tr>\n",
       "  </thead>\n",
       "  <tbody>\n",
       "    <tr>\n",
       "      <th>0</th>\n",
       "      <td>196</td>\n",
       "      <td>242</td>\n",
       "      <td>3.0</td>\n",
       "      <td>881250949</td>\n",
       "    </tr>\n",
       "    <tr>\n",
       "      <th>1</th>\n",
       "      <td>186</td>\n",
       "      <td>302</td>\n",
       "      <td>3.0</td>\n",
       "      <td>891717742</td>\n",
       "    </tr>\n",
       "    <tr>\n",
       "      <th>2</th>\n",
       "      <td>22</td>\n",
       "      <td>377</td>\n",
       "      <td>1.0</td>\n",
       "      <td>878887116</td>\n",
       "    </tr>\n",
       "  </tbody>\n",
       "</table>\n",
       "</div>"
      ],
      "text/plain": [
       "  user item  rate         id\n",
       "0  196  242   3.0  881250949\n",
       "1  186  302   3.0  891717742\n",
       "2   22  377   1.0  878887116"
      ]
     },
     "execution_count": 25,
     "metadata": {},
     "output_type": "execute_result"
    }
   ],
   "source": [
    "# 영화 분석 데이터 및 관련모듈 호출하기\n",
    "import os\n",
    "import pandas as pd\n",
    "from surprise import SVD, Dataset, dump\n",
    "\n",
    "data = Dataset.load_builtin('ml-100k')\n",
    "df   = pd.DataFrame(data.raw_ratings, columns = [\"user\", \"item\", \"rate\", \"id\"])\n",
    "df.head(3)"
   ]
  },
  {
   "cell_type": "code",
   "execution_count": 26,
   "metadata": {},
   "outputs": [
    {
     "name": "stdout",
     "output_type": "stream",
     "text": [
      "Predictions are the same\n"
     ]
    }
   ],
   "source": [
    "# Train 모델을 생성\n",
    "trainset    = data.build_full_trainset()          # train 데이터 나누기\n",
    "algo        = SVD()                               # 특이점 분해 알고리즘 적용\n",
    "algo.fit(trainset)                                # algo.train() : trainset 분석하기\n",
    "predictions = algo.test(trainset.build_testset()) # train 모델 test 하기 \n",
    "\n",
    "# algorithm 의 내부 변수들을 초기화 후, Test 모델을 생성\n",
    "file_name                 = os.path.expanduser('dump_file')\n",
    "dump.dump(file_name, algo = algo)\n",
    "_, loaded_algo            = dump.load(file_name)\n",
    "predictions_loaded_algo   = loaded_algo.test(trainset.build_testset())\n",
    "\n",
    "# predict 모델과, test 모델의 유사도 측정\n",
    "if predictions == predictions_loaded_algo :\n",
    "    print('Predictions are the same')"
   ]
  },
  {
   "cell_type": "code",
   "execution_count": 27,
   "metadata": {},
   "outputs": [
    {
     "name": "stdout",
     "output_type": "stream",
     "text": [
      "RMSE: 0.6788\n"
     ]
    },
    {
     "data": {
      "text/plain": [
       "0.6787835630501678"
      ]
     },
     "execution_count": 27,
     "metadata": {},
     "output_type": "execute_result"
    }
   ],
   "source": [
    "# 모델의 Accuracy 측정\n",
    "from surprise import Dataset\n",
    "from surprise import SVD\n",
    "from surprise import accuracy\n",
    "\n",
    "data = Dataset.load_builtin('ml-100k')\n",
    "algo = SVD()\n",
    "\n",
    "trainset = data.build_full_trainset()  # SVD train 모델의 생성\n",
    "algo.fit(trainset)\n",
    "\n",
    "testset = trainset.build_testset()    # SVD test 모델의 생성\n",
    "predictions = algo.test(testset)      # 예측값 생성\n",
    "accuracy.rmse(predictions)            # RMSE 방식으로 accuracy를 측정"
   ]
  },
  {
   "cell_type": "markdown",
   "metadata": {},
   "source": [
    "<br>\n",
    "\n",
    "### **2) Surprise 모델 최적화 (파라미터 튜닝)**\n",
    "(surprise의 GridSearch class) : 주요 파라미터\n",
    "1. **algo_class (AlgoBase)** : A class object of of the algorithm to evaluate.\n",
    "2. **param_grid (dict)** : {dict} 형식으로 모델의 파라미터를 정의한다\n",
    "3. **measures (list of string)** : 모델 성능의 측정방법을 정의한다 ex)['rmse', 'mae'].\n",
    "4. **verbose (int)** : 기본값은 1로써, Level of verbosity를 정의한다 ex )0 : 미출력, 1 : 개별 파라미터에 포함값 출력, 2 : 층별 accuracy를 출력"
   ]
  },
  {
   "cell_type": "code",
   "execution_count": 28,
   "metadata": {},
   "outputs": [
    {
     "name": "stdout",
     "output_type": "stream",
     "text": [
      "Grid Search...\n",
      "defaultdict(<class 'list'>, {})\n",
      "Running grid search for the following parameter combinations:\n",
      "{'n_epochs': 5, 'lr_all': 0.002}\n",
      "{'n_epochs': 5, 'lr_all': 0.005}\n",
      "{'n_epochs': 10, 'lr_all': 0.002}\n",
      "{'n_epochs': 10, 'lr_all': 0.005}\n"
     ]
    },
    {
     "name": "stderr",
     "output_type": "stream",
     "text": [
      "/home/markbaum/Python/django/lib/python3.6/site-packages/surprise/evaluate.py:232: UserWarning: The GridSearch() class is deprecated. Please use model_selection.GridSearchCV instead.\n",
      "  'model_selection.GridSearchCV instead.', UserWarning)\n",
      "/home/markbaum/Python/django/lib/python3.6/site-packages/surprise/evaluate.py:66: UserWarning: The evaluate() method is deprecated. Please use model_selection.cross_validate() instead.\n",
      "  'model_selection.cross_validate() instead.', UserWarning)\n",
      "/home/markbaum/Python/django/lib/python3.6/site-packages/surprise/dataset.py:193: UserWarning: Using data.split() or using load_from_folds() without using a CV iterator is now deprecated. \n",
      "  UserWarning)\n",
      "/home/markbaum/Python/django/lib/python3.6/site-packages/surprise/evaluate.py:66: UserWarning: The evaluate() method is deprecated. Please use model_selection.cross_validate() instead.\n",
      "  'model_selection.cross_validate() instead.', UserWarning)\n",
      "/home/markbaum/Python/django/lib/python3.6/site-packages/surprise/dataset.py:193: UserWarning: Using data.split() or using load_from_folds() without using a CV iterator is now deprecated. \n",
      "  UserWarning)\n",
      "/home/markbaum/Python/django/lib/python3.6/site-packages/surprise/evaluate.py:66: UserWarning: The evaluate() method is deprecated. Please use model_selection.cross_validate() instead.\n",
      "  'model_selection.cross_validate() instead.', UserWarning)\n",
      "/home/markbaum/Python/django/lib/python3.6/site-packages/surprise/dataset.py:193: UserWarning: Using data.split() or using load_from_folds() without using a CV iterator is now deprecated. \n",
      "  UserWarning)\n",
      "/home/markbaum/Python/django/lib/python3.6/site-packages/surprise/evaluate.py:66: UserWarning: The evaluate() method is deprecated. Please use model_selection.cross_validate() instead.\n",
      "  'model_selection.cross_validate() instead.', UserWarning)\n",
      "/home/markbaum/Python/django/lib/python3.6/site-packages/surprise/dataset.py:193: UserWarning: Using data.split() or using load_from_folds() without using a CV iterator is now deprecated. \n",
      "  UserWarning)\n"
     ]
    },
    {
     "name": "stdout",
     "output_type": "stream",
     "text": [
      "Resulsts:\n",
      "{'n_epochs': 5, 'lr_all': 0.002}\n",
      "{'RMSE': 0.9897127264314918}\n",
      "----------\n",
      "{'n_epochs': 5, 'lr_all': 0.005}\n",
      "{'RMSE': 0.9639800806695328}\n",
      "----------\n",
      "{'n_epochs': 10, 'lr_all': 0.002}\n",
      "{'RMSE': 0.9689507701664155}\n",
      "----------\n",
      "{'n_epochs': 10, 'lr_all': 0.005}\n",
      "{'RMSE': 0.9527011429931953}\n",
      "----------\n"
     ]
    }
   ],
   "source": [
    "import random\n",
    "from surprise import SVD, Dataset, accuracy, GridSearch\n",
    "\n",
    "data = Dataset.load_builtin('ml-100k')   # 모든 데이터 추출\n",
    "data.split(n_folds=3)                    # 3차원으로 데이터 나누기\n",
    "\n",
    "# 학습 모델 만들기\n",
    "print('Grid Search...')\n",
    "param_grid = {'n_epochs': [5, 10], 'lr_all': [0.002, 0.005]}\n",
    "grid_search = GridSearch(SVD, param_grid, measures=['RMSE'], verbose=1)\n",
    "print(grid_search.best_params)\n",
    "grid_search.evaluate(data)"
   ]
  },
  {
   "cell_type": "code",
   "execution_count": 29,
   "metadata": {},
   "outputs": [
    {
     "name": "stdout",
     "output_type": "stream",
     "text": [
      "grid_search 모델 RMSE 평가 : \n",
      "0.9640740568254927\n",
      "       \n",
      "grid_search 파라미터 : \n",
      "{'n_epochs': 10, 'lr_all': 0.005, 'reg_all': 0.4}\n"
     ]
    }
   ],
   "source": [
    "# GridSearchCV 모듈 활용\n",
    "# http://surprise.readthedocs.io/en/stable/getting_started.html#cross-validate-example\n",
    "import random\n",
    "from surprise import SVD, Dataset, accuracy\n",
    "from surprise.model_selection.search import GridSearchCV\n",
    "data = Dataset.load_builtin('ml-100k')   # 모든 데이터 추출\n",
    "data.split(n_folds=3)                    # 3차원으로 데이터 나누기\n",
    "\n",
    "# 추천모델 평가방법\n",
    "# https://datascienceschool.net/view-notebook/fcd3550f11ac4537acec8d18136f2066/\n",
    "# RMSE : Root Mean Squared Error\n",
    "# MAE  : Mean Absolute Error\n",
    "param_grid = {'n_epochs': [5, 10], 'lr_all': [0.002, 0.005], 'reg_all': [0.4, 0.6]}\n",
    "grid_search = GridSearchCV(SVD, param_grid, measures=['RMSE', 'mae'], cv=3)  \n",
    "grid_search.fit(data)\n",
    "print(\"\"\"grid_search 모델 RMSE 평가 : \\n{}\n",
    "       \\ngrid_search 파라미터 : \\n{}\"\"\".format(\\\n",
    "            grid_search.best_score['rmse'],\n",
    "            grid_search.best_params['rmse']))"
   ]
  },
  {
   "cell_type": "code",
   "execution_count": 30,
   "metadata": {},
   "outputs": [
    {
     "data": {
      "text/plain": [
       "<matplotlib.axes._subplots.AxesSubplot at 0x7f1583a07b70>"
      ]
     },
     "execution_count": 30,
     "metadata": {},
     "output_type": "execute_result"
    },
    {
     "data": {
      "image/png": "[encoded data removed]",
      "text/plain": [
       "<matplotlib.figure.Figure at 0x7f1583a07470>"
      ]
     },
     "metadata": {},
     "output_type": "display_data"
    }
   ],
   "source": [
    "%matplotlib inline\n",
    "# RMSE score 평가과정의 출력\n",
    "results_df = pd.DataFrame.from_dict(grid_search.cv_results)\n",
    "results_df.param_lr_all.plot()\n",
    "# results_df.columns\n",
    "#print(results_df.head(3))"
   ]
  },
  {
   "cell_type": "markdown",
   "metadata": {},
   "source": [
    "<br>\n",
    "\n",
    "### **3) Offline 에서도 활용가능한 TABLE을 생성**\n",
    "Surprise 모델의 활용\n",
    "1. 각 사용자에 대한 top-N 추천목록을 예측\n",
    "1. 변수설정 : \n",
    "    1. predictions(예측 list) : test 모델을 사용하여 알고리즘 생성\n",
    "    1. n(int) : 개별 사용자별 추천목록 수\n",
    "1. 결과 값 :\n",
    "    1. keys 는 사용자_id, value 는 추천 lists of tuples을 출력한다\n",
    "    1. ex) [ (raw item id, rating estimation), ...] of size n."
   ]
  },
  {
   "cell_type": "code",
   "execution_count": 31,
   "metadata": {},
   "outputs": [
    {
     "name": "stdout",
     "output_type": "stream",
     "text": [
      "model is comleted\n"
     ]
    }
   ],
   "source": [
    "from collections import defaultdict\n",
    "from surprise import SVD, Dataset\n",
    "\n",
    "def get_top_n(predictions, n=10):\n",
    "    top_n = defaultdict(list)  # 추천결과 목록을 생성\n",
    "    for uid, iid, true_r, est, _ in predictions:\n",
    "        top_n[uid].append((iid, est))\n",
    "\n",
    "    # k만큼 결과값의 순위를 나눈다\n",
    "    for uid, user_ratings in top_n.items():\n",
    "        user_ratings.sort(key=lambda x: x[1], reverse=True)\n",
    "        top_n[uid] = user_ratings[:n]\n",
    "    return top_n\n",
    "\n",
    "# SVD 알고리즘 적용\n",
    "data        = Dataset.load_builtin('ml-100k')\n",
    "trainset    = data.build_full_trainset()\n",
    "algo        = SVD()\n",
    "algo.fit(trainset)\n",
    "testset     = trainset.build_anti_testset()\n",
    "predictions = algo.test(testset)\n",
    "print(\"model is comleted\")"
   ]
  },
  {
   "cell_type": "code",
   "execution_count": 32,
   "metadata": {},
   "outputs": [
    {
     "name": "stdout",
     "output_type": "stream",
     "text": [
      "196 ['64', '56', '12', '483', '169']\n",
      "186 ['185', '313', '498', '483', '427']\n",
      "22 ['169', '135', '963', '707', '12']\n",
      "244 ['478', '269', '483', '285', '603']\n",
      "166 ['603', '136', '173', '12', '22']\n",
      "298 ['169', '64', '408', '114', '136']\n",
      "115 ['135', '285', '474', '134', '179']\n",
      "253 ['313', '272', '651', '28', '515']\n",
      "305 ['657', '515', '513', '496', '519']\n"
     ]
    }
   ],
   "source": [
    "# 추천모델 예측하기\n",
    "i, count, no = 0, 10, 5   # count : user 수 , no : item 수 \n",
    "top_n        = get_top_n(predictions, no)\n",
    "for uid, user_ratings in top_n.items():\n",
    "    i += 1\n",
    "    if i < count : print(uid, [iid for (iid, _) in user_ratings])"
   ]
  },
  {
   "cell_type": "code",
   "execution_count": 33,
   "metadata": {},
   "outputs": [
    {
     "name": "stdout",
     "output_type": "stream",
     "text": [
      "Computing the pearson similarity matrix...\n",
      "Computing the pearson similarity matrix...\n",
      "Computing the pearson similarity matrix...\n",
      "Computing the pearson similarity matrix...\n",
      "Done computing similarity matrix.\n",
      "Done computing similarity matrix.\n",
      "Done computing similarity matrix.\n",
      "Done computing similarity matrix.\n",
      "Computing the pearson similarity matrix...\n",
      "Done computing similarity matrix.\n"
     ]
    },
    {
     "data": {
      "text/plain": [
       "{'fit_time': (2.437927722930908,\n",
       "  2.497819185256958,\n",
       "  2.494748115539551,\n",
       "  2.374987840652466,\n",
       "  1.3466737270355225),\n",
       " 'test_mae': array([0.80682835, 0.80165871, 0.80448912, 0.80306221, 0.80226739]),\n",
       " 'test_rmse': array([1.0128108 , 1.00681074, 1.01670642, 1.01601973, 1.00941374]),\n",
       " 'test_time': (4.991057634353638,\n",
       "  4.631971120834351,\n",
       "  4.208972692489624,\n",
       "  4.212818145751953,\n",
       "  2.358833074569702)}"
      ]
     },
     "execution_count": 33,
     "metadata": {},
     "output_type": "execute_result"
    }
   ],
   "source": [
    "# 추천모델 평가하기\n",
    "import surprise\n",
    "from surprise import Dataset\n",
    "data = Dataset.load_builtin('ml-100k')\n",
    "data.split(n_folds=3)\n",
    "\n",
    "# 'name' : msd', 'cosine', 'pearson', 'pearson_baseline'\n",
    "sim_options = {'name': 'pearson'}\n",
    "#algo = surprise.SVD()\n",
    "algo = surprise.KNNBasic(sim_options=sim_options)\n",
    "surprise.model_selection.cross_validate(algo, data)\n",
    "#surprise.evaluate(algo, data)"
   ]
  },
  {
   "cell_type": "markdown",
   "metadata": {},
   "source": [
    "<br>\n",
    "\n",
    "## **8 Accuracy 의 정확도(Precision), 재현율(Recall)과 참고사항**\n",
    "1. **정확도(Precision : TP / TP + FP)** : 검색 결과로 가져온 문서 중 실제 관련된 문서 비율\n",
    "1. **재현율(Recall : TP / TP + FN)** : 관련 문서 중 검색된 문서 비율\n",
    "1. **TP(True Positive)** 는 추천된 항목이 사용자가 선호하는 항목인 개수\n",
    "1. **FP(False Positive)** 는 추천된 항목이 사용자가 선호하지 않는 항목인 개수\n",
    "1. **FN(False Negative)** 은 추천되지 않았지만 사용자가 선호하는 항목인 개수\n",
    "1. **TN(True Negative)** 은 추천되지 않은 아이템이 사용자가 선호하지 않는 항목인 개수"
   ]
  },
  {
   "cell_type": "code",
   "execution_count": 34,
   "metadata": {},
   "outputs": [],
   "source": [
    "# import pandas\n",
    "# import numpy\n",
    "# import scipy.sparse\n",
    "# import scipy.sparse.linalg\n",
    "# import matplotlib.pyplot as plt\n",
    "# from sklearn.metrics import mean_absolute_error\n",
    "\n",
    "# data_dir = \"03_data/ml-100k/\"\n",
    "# data_shape = (943, 1682)\n",
    "# data = surprise.Dataset.load_builtin('ml-100k')\n",
    "# df   = pd.DataFrame(data.raw_ratings, \n",
    "#                     columns = [\"user\", \"item\", \"rate\", \"id\"])\n",
    "# del df[\"id\"]"
   ]
  },
  {
   "cell_type": "code",
   "execution_count": 35,
   "metadata": {},
   "outputs": [],
   "source": [
    "# values = df.values\n",
    "# values[:, 0:2] -= 1\n",
    "# X_train = scipy.sparse.csr_matrix((values[:, 2], (values[:, 0], values[:, 1])), dtype=numpy.float, shape=data_shape)\n",
    "\n",
    "# df = pandas.read_csv(data_dir + \"ua.test\", sep=\"\\t\", header=-1)\n",
    "# values = df.values\n",
    "# values[:, 0:2] -= 1\n",
    "# X_test = scipy.sparse.csr_matrix((values[:, 2], (values[:, 0], values[:, 1])), dtype=numpy.float, shape=data_shape)\n",
    "\n",
    "# # Compute means of nonzero elements\n",
    "# X_row_mean = numpy.zeros(data_shape[0])\n",
    "# X_row_sum = numpy.zeros(data_shape[0])\n",
    "\n",
    "# train_rows, train_cols = X_train.nonzero()\n",
    "\n",
    "# # Iterate through nonzero elements to compute sums and counts of rows elements\n",
    "# for i in range(train_rows.shape[0]):\n",
    "#     X_row_mean[train_rows[i]] += X_train[train_rows[i], train_cols[i]]\n",
    "#     X_row_sum[train_rows[i]] += 1\n",
    "\n",
    "# # Note that (X_row_sum == 0) is required to prevent divide by zero\n",
    "# X_row_mean /= X_row_sum + (X_row_sum == 0)\n",
    "\n",
    "# # Subtract mean rating for each user\n",
    "# for i in range(train_rows.shape[0]):\n",
    "#     X_train[train_rows[i], train_cols[i]] -= X_row_mean[train_rows[i]]\n",
    "\n",
    "# test_rows, test_cols = X_test.nonzero()\n",
    "# for i in range(test_rows.shape[0]):\n",
    "#     X_test[test_rows[i], test_cols[i]] -= X_row_mean[test_rows[i]]\n",
    "\n",
    "# X_train = numpy.array(X_train.toarray())\n",
    "# X_test = numpy.array(X_test.toarray())\n",
    "\n",
    "# ks = numpy.arange(2, 50)\n",
    "# train_mae = numpy.zeros(ks.shape[0])\n",
    "# test_mae = numpy.zeros(ks.shape[0])\n",
    "# train_scores = X_train[(train_rows, train_cols)]\n",
    "# test_scores = X_test[(test_rows, test_cols)]\n",
    "\n",
    "# # Now take SVD of X_train\n",
    "# U, s, Vt = numpy.linalg.svd(X_train, full_matrices=False)\n",
    "\n",
    "# for j, k in enumerate(ks):\n",
    "#     X_pred = U[:, 0:k].dot(numpy.diag(s[0:k])).dot(Vt[0:k, :])\n",
    "\n",
    "#     pred_train_scores = X_pred[(train_rows, train_cols)]\n",
    "#     pred_test_scores = X_pred[(test_rows, test_cols)]\n",
    "\n",
    "#     train_mae[j] = mean_absolute_error(train_scores, pred_train_scores)\n",
    "#     test_mae[j] = mean_absolute_error(test_scores, pred_test_scores)\n",
    "\n",
    "#     print(k,  train_mae[j], test_mae[j])\n",
    "\n",
    "# plt.plot(ks, train_mae, 'k', label=\"Train\")\n",
    "# plt.plot(ks, test_mae, 'r', label=\"Test\")\n",
    "# plt.xlabel(\"k\")\n",
    "# plt.ylabel(\"MAE\")\n",
    "# plt.legend()\n",
    "# plt.show()"
   ]
  }
 ],
 "metadata": {
  "kernelspec": {
   "display_name": "Python 3 (ipykernel)",
   "language": "python",
   "name": "python3"
  },
  "language_info": {
   "codemirror_mode": {
    "name": "ipython",
    "version": 3
   },
   "file_extension": ".py",
   "mimetype": "text/x-python",
   "name": "python",
   "nbconvert_exporter": "python",
   "pygments_lexer": "ipython3",
   "version": "3.8.10"
  }
 },
 "nbformat": 4,
 "nbformat_minor": 4
}
