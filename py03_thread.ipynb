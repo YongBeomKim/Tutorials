{
 "cells": [
  {
   "cell_type": "markdown",
   "id": "02d718a7-f3a0-41cc-a3fd-1aa6a9907ec4",
   "metadata": {},
   "source": [
    "# **Python Book3**\n",
    "**[효율적 개발로 이끄는 파이썬 실천기술 Jupyter Notebook](https://nbviewer.org/github/Jpub/fulfillPython/tree/main/)**\n",
    "\n",
    "- [How to print colored text to the terminal](https://stackoverflow.com/questions/287871/how-to-print-colored-text-to-the-terminal)\n",
    "\n",
    "<!-- ![](../data/cover.jpg) -->\n",
    "<img src=\"http://image.kyobobook.co.kr/images/book/xlarge/872/x9791190665872.jpg\" width=\"150\" height=\"150\" />"
   ]
  },
  {
   "cell_type": "markdown",
   "id": "72fd83a5-275e-4179-906d-02ffdf5ebdf7",
   "metadata": {},
   "source": [
    "## **[Chapter 10 동시 처리](https://nbviewer.org/github/Jpub/fulfillPython/blob/main/10-concurrent-programming/interactive.ipynb)**\n",
    "```python\n",
    "# Notebook 환경에서는 이미 이벤트 루프안에서 동작하고 있기 때문에 \n",
    "# asyncio.run()은 사용할 수 없습니다. 따라서 Notebook 환경에서는 \n",
    "# asyncio.run(X)는 await X로 바꿔 읽기 바랍니다.\n",
    "asyncio.run(main()) \n",
    "<_UnixSelectorEventLoop running=True closed=False debug=False>\n",
    "```"
   ]
  },
  {
   "cell_type": "markdown",
   "id": "a240e5b6-b6dd-4b58-a769-54883a80bc47",
   "metadata": {},
   "source": [
    "## **1 동시 처리와 병렬처리**\n",
    "### 01 **<span style=\"color:orange\">concurrent.futures</span>** 모듈 \n",
    "── 동시 처리를 위한 고수준 인터페이스\n",
    "- 고수준의 추상회된 API를 제공\n",
    "- 다중 스레드는 `threading` 모듈을, 다중 프로세스는 `multiprocess` 를 주로 이용했었다\n",
    "- 현재는 상황과 관계없이 `concurrent.futures` 를 추천하고 있다"
   ]
  },
  {
   "cell_type": "markdown",
   "id": "4513a6af-c56c-4cd4-9087-7c8f247a0cc2",
   "metadata": {},
   "source": [
    "### 02 **<span style=\"color:orange\">Future</span>** 클래스와 **<span style=\"color:orange\">Executor</span>** 클래스 \n",
    "── 비동기 처리 캡슐화 실행\n",
    "- 호출 가능한 객체를 `Executor` 클래스의 `.submin()` 메서드로 전달\n",
    "- `.submit()` 메서드는 `Future` 에 스케쥴링 포함된 인스턴스를 출력"
   ]
  },
  {
   "cell_type": "code",
   "execution_count": 1,
   "id": "abebcf1c-5e9f-445b-8583-7a54ce9ed4f3",
   "metadata": {},
   "outputs": [
    {
     "name": "stdout",
     "output_type": "stream",
     "text": [
      "비동기 처리 반환 값 : 1\n",
      "현재상태 : True\n",
      "Future Status : False\n",
      "Future Cancelled : False\n"
     ]
    }
   ],
   "source": [
    "# ThreadPoolExecutor는 Executor의 구현 서브 클래스\n",
    "from concurrent.futures import (\n",
    "    Future, ThreadPoolExecutor,\n",
    ")\n",
    "\n",
    "# 비동기로 수행할 처리\n",
    "def func():\n",
    "    return 1\n",
    "\n",
    "# 비동기로 수행할 처리를 submit()에 전달\n",
    "future = ThreadPoolExecutor().submit(func)\n",
    "isinstance(future, Future)\n",
    "\n",
    "# 비동기로 수행한 처리의 반환값 취득\n",
    "print(\"비동기 처리 반환 값 :\", future.result())\n",
    "print(\"현재상태 :\", future.done())\n",
    "print(\"Future Status :\", future.running())\n",
    "print(\"Future Cancelled :\", future.running())"
   ]
  },
  {
   "cell_type": "markdown",
   "id": "9e55310f-b3a9-4e9a-8369-c675fdfbe8c2",
   "metadata": {},
   "source": [
    "## 2 스레드 기반의 **<span style=\"color:orange\">ThreadPoolExecutor</span>** 클래스\n",
    "── 스레드 기반의 비동기 실행\n",
    "- 비동기 실행은 `Executor` 의 서브클래스를 **구체화** 해야 합니다\n",
    "- **구체화된 서브 클래스** 는 `concurrent.futures.ThreadPoolExecutor` 를 사용 합니다\n",
    "\n",
    "### 01 **순차 처리의 구현**\n",
    "다중 스레드 처리와 비교를 위한 예시"
   ]
  },
  {
   "cell_type": "code",
   "execution_count": 2,
   "id": "9b62da76-c78f-4f2b-bcdf-0a521a3482fd",
   "metadata": {},
   "outputs": [
    {
     "name": "stdout",
     "output_type": "stream",
     "text": [
      "('https://twitter.com', './be8b09f7f1f66235a9c91986952483f0')\n",
      "('https://facebook.com', './a023cfbf5f1c39bdf8407f28b60cd134')\n",
      "('https://instagram.com', './09f8b89478d7e1046fa93c7ee4afa99e')\n",
      "get_sequential: 1.7453134059906006\n"
     ]
    }
   ],
   "source": [
    "urls = ['https://twitter.com', 'https://facebook.com', 'https://instagram.com']\n",
    "from hashlib import md5\n",
    "from pathlib import Path\n",
    "from urllib import request\n",
    "\n",
    "def download(url):\n",
    "    req = request.Request(url)\n",
    "    # 파일 이름에 / 등이 포함되지 않도록 함\n",
    "    name = md5(url.encode('utf-8')).hexdigest()\n",
    "    file_path = './' + name\n",
    "    with request.urlopen(req) as res:\n",
    "        Path(file_path).write_bytes(res.read())\n",
    "        return url, file_path\n",
    "\n",
    "\n",
    "import time\n",
    "def elapsed_time(f):\n",
    "    def wrapper(*args, **kwargs):\n",
    "        st = time.time()\n",
    "        v = f(*args, **kwargs)\n",
    "        print(f\"{f.__name__}: {time.time() - st}\")\n",
    "        return v\n",
    "    return wrapper\n",
    "\n",
    "@elapsed_time\n",
    "def get_sequential():\n",
    "    [print(download(url)) for url in urls]\n",
    "        \n",
    "get_sequential()"
   ]
  },
  {
   "cell_type": "markdown",
   "id": "0f9a882e-367f-4597-b778-73b48f78f469",
   "metadata": {},
   "source": [
    "### 02 **다중 스레드 구현**\n",
    "`get_multi_thread()` 를 활용한 다중 스레드 구현\n",
    "- `ThreadPoolExecutor` 클래스 인스턴스는 **<span style=\"color:orange\">콘텍스트 관리자</span>** 로 **<span style=\"color:orange\">with</span>** 문을 사용할 수 있다.\n",
    "- `max_workers` 의 기본값은 코어 수 * 5 를 쓴다"
   ]
  },
  {
   "cell_type": "code",
   "execution_count": 3,
   "id": "2028dd82-1040-44c4-9bdc-8d6536cdd2ed",
   "metadata": {},
   "outputs": [
    {
     "name": "stdout",
     "output_type": "stream",
     "text": [
      "('https://twitter.com', './be8b09f7f1f66235a9c91986952483f0')\n",
      "('https://facebook.com', './a023cfbf5f1c39bdf8407f28b60cd134')\n",
      "('https://instagram.com', './09f8b89478d7e1046fa93c7ee4afa99e')\n",
      "get_multi_thread: 0.7480037212371826\n"
     ]
    }
   ],
   "source": [
    "from concurrent.futures import (\n",
    "    ThreadPoolExecutor,\n",
    "    as_completed\n",
    ")\n",
    "\n",
    "@elapsed_time\n",
    "def get_multi_thread():\n",
    "    with ThreadPoolExecutor(max_workers=5) as executor:\n",
    "        futures = [\n",
    "            executor.submit(download, url)\n",
    "            for url in urls\n",
    "        ]\n",
    "        \n",
    "        # 완료된 것부터 얻을 수 있다\n",
    "        [print(future.result()) for future in as_completed(futures)]     \n",
    "            \n",
    "get_multi_thread()"
   ]
  },
  {
   "cell_type": "markdown",
   "id": "718de8df-abfc-42b0-ac58-3c54c22014e9",
   "metadata": {},
   "source": [
    "### 03-1 **다중 스레드 구현시 주의할 점**\n",
    "다중 실행을 하면 동작하지 않는 경우가 발생하는데. **스레드 세이프한 구성** 으로 변경한다\n",
    "- 100,000 번 반복을 2개 쓰레드로 반복하는 코드로, 200,000 이 아닌 다른 숫자를 출력한다\n"
   ]
  },
  {
   "cell_type": "code",
   "execution_count": 4,
   "id": "64e7782e-e0f7-47c1-98cf-e006a08949fd",
   "metadata": {},
   "outputs": [
    {
     "name": "stdout",
     "output_type": "stream",
     "text": [
      "counter.count=1,765,225\n"
     ]
    }
   ],
   "source": [
    "from concurrent.futures import (\n",
    "    ThreadPoolExecutor,\n",
    "    wait\n",
    ")\n",
    "\n",
    "class Counter:\n",
    "    def __init__(self):\n",
    "        self.count = 0\n",
    "    def increment(self):\n",
    "        self.count = self.count + 1\n",
    "\n",
    "# 1,000,000회 증가\n",
    "def count_up(counter):\n",
    "    for _ in range(1000000):\n",
    "        counter.increment()\n",
    "\n",
    "counter = Counter()\n",
    "\n",
    "# 2개의 스레드를 준비하고, 각각 count_up을 호출\n",
    "threads = 2\n",
    "with ThreadPoolExecutor() as e:    \n",
    "    futures = [\n",
    "        e.submit(count_up, counter)\n",
    "        for _ in range(threads)\n",
    "    ]\n",
    "    done, not_done = wait(futures)\n",
    "\n",
    "# 2,000,000 을 출력하지 않고 중간에 엉성하게 중복연산이 실행\n",
    "print(f'{counter.count=:,}')"
   ]
  },
  {
   "cell_type": "markdown",
   "id": "d72a0d2c-fa5f-4fff-81c2-eb70d2d56c36",
   "metadata": {},
   "source": [
    "### 03-2 **다중 스레드 구현시 주의할 점 2**\n",
    "── 스레트 세이프티한 카운터 예시\n",
    "- `threading.Lock` 객체를 활용하여 `exclusive control` 을 추가한다\n",
    "- `Lock` 을 얻은으면 해당 스레드만 실행할 수 있고, `Lock` 의 처리가 끝나면 빠르게 해제된다\n",
    "- `Lock` 이 뒤늦게 해제되는 상황을 방지하기 위해 `Lock` 객체는 `with` 문과 함께 사용한다\n",
    "\n",
    "── 주의 할 점\n",
    "- 실전에서는 성능저하를 최소화 위해, 부분 적으로만 `Lock` 객체를 감싸도록 한다"
   ]
  },
  {
   "cell_type": "code",
   "execution_count": 5,
   "id": "3cdc2b85-2112-4b2d-aa60-3f945ca1bcde",
   "metadata": {},
   "outputs": [
    {
     "name": "stdout",
     "output_type": "stream",
     "text": [
      "counter.count=2,000,000\n"
     ]
    }
   ],
   "source": [
    "import threading\n",
    "class ThreadSafeCounter:\n",
    "    lock = threading.Lock() # 록을 준비\n",
    "    \n",
    "    def __init__(self):\n",
    "        self.count = 0\n",
    "    \n",
    "    # with 로 감싼 `배타 제어처리`를 `Lock` 내부에 정의한다\n",
    "    def increment(self):\n",
    "        with self.lock:\n",
    "            self.count = self.count + 1\n",
    "\n",
    "counter = ThreadSafeCounter()\n",
    "threads = 2\n",
    "with ThreadPoolExecutor() as e:\n",
    "    futures = [e.submit(count_up, counter)\n",
    "               for _ in range(threads)]\n",
    "    done, not_done = wait(futures)\n",
    "\n",
    "print(f'{counter.count=:,}') # 기대한 값이 출력된다"
   ]
  },
  {
   "cell_type": "markdown",
   "id": "c80f84ac-8631-431d-ae04-bfb562ac05fa",
   "metadata": {
    "tags": []
   },
   "source": [
    "## 3 프로세스 기반의 **<span style=\"color:orange\">ProcessPoolExecutor</span>** 클래스\n",
    "── 프로세스 기반의 비동기 실행\n",
    "- `concurrent.futures.ProcessPoolExecutor` 클래스를 사용하여 구체화한 서브 클래스를 정의 합니다\n",
    "- `API` 및 사용법은 `ThreadPoolExecutor` 와 거의 동일해서, 클래스명만 변경하면 바로 전환 가능 합니다\n",
    "\n",
    "### 01 **순차 처리의 구현**\n",
    "다중 스레드 처리와 비교를 위한 예시"
   ]
  },
  {
   "cell_type": "code",
   "execution_count": 6,
   "id": "9d0791b7-3333-421d-9ccd-14e8f751af85",
   "metadata": {},
   "outputs": [
    {
     "name": "stdout",
     "output_type": "stream",
     "text": [
      "Os Count is : 12\n",
      "get_sequential: 0.89145827293396\n"
     ]
    }
   ],
   "source": [
    "N = 100000\n",
    "\n",
    "import os \n",
    "import time \n",
    "import sys\n",
    "\n",
    "def fibonacci(n):\n",
    "    a, b = 0, 1 \n",
    "    for _ in range(n): \n",
    "        a, b = b, b + a \n",
    "    else: \n",
    "        return a\n",
    "\n",
    "def elapsed_time(f):\n",
    "    def wrapper(args, **kwargs):\n",
    "        st = time.time()\n",
    "        v = f(args, **kwargs) \n",
    "        print(f\"{f.__name__}: {time.time() - st}\")\n",
    "        return v \n",
    "    return wrapper\n",
    "\n",
    "@elapsed_time \n",
    "def get_sequential(nums):\n",
    "    [ fibonacci(num)  for num in nums]\n",
    "\n",
    "def main(n): \n",
    "    # n = int(sys.argv[1])\n",
    "    print(f'Os Count is : {os.cpu_count()}')\n",
    "    nums = [n] * os.cpu_count()\n",
    "    get_sequential(nums)\n",
    "\n",
    "main(N)"
   ]
  },
  {
   "cell_type": "markdown",
   "id": "cdd768db-8739-483c-8629-0b87d344bb6b",
   "metadata": {},
   "source": [
    "### 02 **다중 프로세스 구현**\n",
    "다중 프로세스를 사용하여 병렬화 합니다"
   ]
  },
  {
   "cell_type": "code",
   "execution_count": 7,
   "id": "6a537ed3-5380-4470-92f2-b5bc343d7861",
   "metadata": {},
   "outputs": [
    {
     "name": "stdout",
     "output_type": "stream",
     "text": [
      "get_multi_process: 0.23077726364135742\n"
     ]
    }
   ],
   "source": [
    "from concurrent.futures import (\n",
    "    ProcessPoolExecutor, as_completed )\n",
    "\n",
    "def fibonacci(n): \n",
    "    a, b = 0, 1 \n",
    "    for _ in range(n): \n",
    "        a, b = b, b + a \n",
    "    else: return a\n",
    "\n",
    "def elapsed_time(f):\n",
    "    def wrapper(args, **kwargs): \n",
    "        st = time.time() \n",
    "        v = f(args, **kwargs) \n",
    "        print(f\"{f.__name__}: {time.time() - st}\") \n",
    "        return v \n",
    "    return wrapper\n",
    "\n",
    "@elapsed_time \n",
    "def get_sequential(nums): \n",
    "    [fibonacci(num)  for num in nums]\n",
    "\n",
    "@elapsed_time \n",
    "def get_multi_process(nums): \n",
    "    with ProcessPoolExecutor() as e: \n",
    "        futures = [e.submit(fibonacci, num) for num in nums] \n",
    "        [future.result()  for future in as_completed(futures)]\n",
    "\n",
    "def main(n): \n",
    "    # n = int(sys.argv[1]) \n",
    "    nums = [n] * os.cpu_count() \n",
    "    get_multi_process(nums)\n",
    "\n",
    "main(N)"
   ]
  },
  {
   "cell_type": "markdown",
   "id": "642776d7-c860-4956-8cc6-942f33bb6395",
   "metadata": {
    "tags": []
   },
   "source": [
    "### 03 **pickle** 화 가능한 객체의 사용\n",
    "`ProcessPoolExecutor` 클래스는 `queue` 를 사용하여 프로세스간 객체를 전달 합니다.\n",
    "- `queue` 는 `multiprocessing.Queue` 클래스로 구현되고, `pickle` 형식으로 직렬화 됩니다\n",
    "- `pickle` 화 불가능한 객체로 `lambda` 식으로 정의한 객체가 있습니다."
   ]
  },
  {
   "cell_type": "code",
   "execution_count": 8,
   "id": "083fe82e-e001-4217-acf0-81be0f25e952",
   "metadata": {},
   "outputs": [
    {
     "name": "stdout",
     "output_type": "stream",
     "text": [
      "\u001b[31mCan't pickle <function <lambda> at 0x7fe0a0107700>: attribute lookup <lambda> on __main__ failed\u001b[0m\n"
     ]
    }
   ],
   "source": [
    "from concurrent.futures import (\n",
    "    ProcessPoolExecutor,\n",
    "    wait\n",
    ")\n",
    "\n",
    "func = lambda: 1\n",
    "\n",
    "def main():\n",
    "    with ProcessPoolExecutor() as e:\n",
    "        future = e.submit(func)\n",
    "        done, _ = wait([future])\n",
    "    print(future.result())\n",
    "\n",
    "try:\n",
    "    main()\n",
    "except Exception as e:\n",
    "    import termcolor  # termcolor.COLORS\n",
    "    print(termcolor.colored(e, 'red'))"
   ]
  },
  {
   "cell_type": "markdown",
   "id": "52e2ff02-e4b6-4f23-b4b8-5245471d0a7e",
   "metadata": {
    "tags": []
   },
   "source": [
    "### 04 **난수 사용법**\n"
   ]
  },
  {
   "cell_type": "code",
   "execution_count": 9,
   "id": "571371e8-1fe2-4f6d-9c37-d333b28181cc",
   "metadata": {},
   "outputs": [
    {
     "name": "stdout",
     "output_type": "stream",
     "text": [
      "0.7548810825156606\n",
      "0.7548810825156606\n",
      "0.7548810825156606\n"
     ]
    }
   ],
   "source": [
    "from concurrent.futures import (\n",
    "    ProcessPoolExecutor,\n",
    "    as_completed\n",
    ")\n",
    "\n",
    "import numpy as np\n",
    "def use_numpy_random(): # 난수 생성기를 초기화\n",
    "    return np.random.random()\n",
    "\n",
    "def main():\n",
    "    with ProcessPoolExecutor() as e:\n",
    "        futures = [\n",
    "            e.submit(use_numpy_random)\n",
    "            for _ in range(3)]\n",
    "        for future in as_completed(futures):\n",
    "            print(future.result())\n",
    "\n",
    "if __name__ == '__main__':\n",
    "    main()"
   ]
  },
  {
   "cell_type": "code",
   "execution_count": 10,
   "id": "4778cae6-9acf-4794-ae5c-419f4958b8c4",
   "metadata": {},
   "outputs": [
    {
     "name": "stdout",
     "output_type": "stream",
     "text": [
      "0.21848652968019733\n",
      "0.7947343618065531\n",
      "0.9513253851747362\n"
     ]
    }
   ],
   "source": [
    "from concurrent.futures import (\n",
    "    ProcessPoolExecutor,\n",
    "    as_completed\n",
    ")\n",
    "\n",
    "import random\n",
    "def use_starndard_random():\n",
    "    return random.random()\n",
    "\n",
    "def main():\n",
    "    with ProcessPoolExecutor() as e:\n",
    "        futures = [\n",
    "            e.submit(use_starndard_random)\n",
    "            for _ in range(3)]\n",
    "        for future in as_completed(futures):\n",
    "            print(future.result())\n",
    "\n",
    "if __name__ == '__main__':\n",
    "    main()"
   ]
  },
  {
   "cell_type": "markdown",
   "id": "8b8352ef-8059-4632-b3b8-c8b033a6ddee",
   "metadata": {
    "tags": []
   },
   "source": [
    "## 4 **<span style=\"color:orange\">Asyncio</span>** 모듈\n",
    "── 이벤트 루프를 사용한 동시처리\n",
    "- 이벤트 루프를 사용하면 **단일 스레드** 에서도 동시처리가 가능해 진다\n",
    "- 그리고 코드를 동기처리와 같이 서술하면 높은 가독성을 유지할 수 있다\n",
    "\n",
    "### 01 **Async 를 활용한 코루틴**\n",
    "- **<span style=\"color:orange\">코루틴 (Co Routine)</span>** 은 **<span style=\"color:orange\">서브루틴 (Subroutine)</span>** 과 같이 일련의 처리를 모아 둡니다\n",
    "- **<span style=\"color:orange\">서브루틴 (Subroutine)</span>** 은 파이썬에서는 함수에 해당하고, 한번 호출되면 마지막까지 한 번에 실행 합니다"
   ]
  },
  {
   "cell_type": "code",
   "execution_count": 11,
   "id": "56db2d03-5901-4073-8e2c-cb7ecf9c7746",
   "metadata": {},
   "outputs": [
    {
     "data": {
      "text/plain": [
       "<coroutine object coro at 0x7fe07807e0c0>"
      ]
     },
     "execution_count": 11,
     "metadata": {},
     "output_type": "execute_result"
    }
   ],
   "source": [
    "async def coro():\n",
    "    return 1\n",
    "\n",
    "coro() # 반환값은 1이 아닌 코루틴 객체"
   ]
  },
  {
   "cell_type": "code",
   "execution_count": 12,
   "id": "079c53e4-09ef-47c8-bed9-3326d0772c51",
   "metadata": {},
   "outputs": [
    {
     "data": {
      "text/plain": [
       "1"
      ]
     },
     "execution_count": 12,
     "metadata": {},
     "output_type": "execute_result"
    }
   ],
   "source": [
    "await coro()"
   ]
  },
  {
   "cell_type": "markdown",
   "id": "973db469-0a80-4e53-88b6-52f4f3eb36d1",
   "metadata": {
    "tags": []
   },
   "source": [
    "### 02 **Asyncio 를 활용한 코루틴**\n",
    "- **<span style=\"color:orange\">코루틴 (Co Routine)</span>** 은 **<span style=\"color:orange\">서브루틴 (Subroutine)</span>** 과 같이 일련의 처리를 모아 둡니다"
   ]
  },
  {
   "cell_type": "code",
   "execution_count": 13,
   "id": "c2d7ae47-83a2-4134-9d88-0b7afd464244",
   "metadata": {},
   "outputs": [
    {
     "name": "stdout",
     "output_type": "stream",
     "text": [
      "send a request: https://twitter.com/\n",
      "got a response: https://twitter.com/\n"
     ]
    },
    {
     "data": {
      "text/plain": [
       "'https://twitter.com/'"
      ]
     },
     "execution_count": 13,
     "metadata": {},
     "output_type": "execute_result"
    }
   ],
   "source": [
    "import asyncio\n",
    "import random\n",
    "\n",
    "async def call_web_api(url):\n",
    "    # Web API 처리를 여기에서는 슬립(sleep)으로 대신함\n",
    "    print(f'send a request: {url}')\n",
    "    await asyncio.sleep(random.random())\n",
    "    print(f'got a response: {url}')\n",
    "    return url\n",
    "\n",
    "async def async_download(url): # await를 사용해 코루틴을 호출\n",
    "    response = await call_web_api(url)\n",
    "    return response\n",
    "\n",
    "result = await async_download('https://twitter.com/')\n",
    "result"
   ]
  },
  {
   "cell_type": "markdown",
   "id": "f2d99b06-0a88-48d3-9cd1-822c8c5fd06e",
   "metadata": {
    "tags": []
   },
   "source": [
    "### 03 **Asyncio 를 활용한 코루틴 동시 실행하기**\n",
    "- **<span style=\"color:orange\">asyncio.gather()</span>** 에서 **여러 코루틴을 받아서 개별 스케줄링을** 실행 합니다\n",
    "- 반환값은 **<span style=\"color:orange\">awaitable</span>** 한 객체로, 처리를 완료하면 순서가 유지된 상태로 **코루틴** 결과를 **<span style=\"color:orange\">list()</span>** 객체로 반환 합니다"
   ]
  },
  {
   "cell_type": "code",
   "execution_count": 14,
   "id": "7e3cb024-4dfa-4057-b127-8aa31e274439",
   "metadata": {},
   "outputs": [
    {
     "name": "stdout",
     "output_type": "stream",
     "text": [
      "send a request: https://twitter.com/\n",
      "send a request: https://facebook.com\n",
      "send a request: https://instagram.com\n",
      "got a response: https://facebook.com\n",
      "got a response: https://twitter.com/\n",
      "got a response: https://instagram.com\n"
     ]
    },
    {
     "data": {
      "text/plain": [
       "['https://twitter.com/', 'https://facebook.com', 'https://instagram.com']"
      ]
     },
     "execution_count": 14,
     "metadata": {},
     "output_type": "execute_result"
    }
   ],
   "source": [
    "async def main():\n",
    "    task = asyncio.gather(\n",
    "        async_download('https://twitter.com/'),\n",
    "        async_download('https://facebook.com'),\n",
    "        async_download('https://instagram.com'),\n",
    "    )\n",
    "    return await task\n",
    "\n",
    "# Notebook 환경에서는 이미 이벤트 루프안에서 동작하고 있기 때문에 asyncio.run()은 사용할 수 없습니다. \n",
    "# 따라서 Notebook 환경에서는 asyncio.run(X)는 await X로 바꿔 읽기 바랍니다.>>> \n",
    "# result = asyncio.run(main())\n",
    "result = await main()\n",
    "result"
   ]
  },
  {
   "cell_type": "markdown",
   "id": "3c06b80a-ece2-4cb5-8bb6-f33f0d705ea0",
   "metadata": {
    "tags": []
   },
   "source": [
    "## 5 **코루틴 스케줄링과 실행**\n",
    "── 코루틴을 위해서는 `이벤트  루프` 와 `테스크` 가 필요 합니다.\n",
    "- **코루틴과 테스크** : `코루틴` -> (스케줄링 적용) -> `테크스`\n",
    "- **이벤트 루프** : 이벤트 루프는 `I/O 이벤트` 에 맞춰서 `테스크` 실행을 제어 합니다\n",
    "\n",
    "### 01 **이벤트 루프**\n",
    "- **<span style=\"color:orange\">이벤트 루프</span>** 는 **<span style=\"color:orange\">asyncio</span>** 모듈의 핵심 개념으로 **<span style=\"color:orange\">asyncio.run()</span>** 함수로 생성 합니다.\n",
    "- 코루틴 내부에서는 현지 실행 중인 이벤트 루프를 **<span style=\"color:orange\">asyncio.get_running_loop()</span>** 함수로 확인 합니다."
   ]
  },
  {
   "cell_type": "code",
   "execution_count": 15,
   "id": "a6f4b680-9b73-44c1-94fd-c8579dd79408",
   "metadata": {},
   "outputs": [
    {
     "name": "stdout",
     "output_type": "stream",
     "text": [
      "<_UnixSelectorEventLoop running=True closed=False debug=False>\n"
     ]
    }
   ],
   "source": [
    "import asyncio\n",
    "async def main():\n",
    "    loop = asyncio.get_running_loop()\n",
    "    print(loop)\n",
    "    \n",
    "await main()"
   ]
  },
  {
   "cell_type": "markdown",
   "id": "7e10b11e-24ea-43ec-b569-077383e4692b",
   "metadata": {
    "tags": []
   },
   "source": [
    "### 02 **테스크**\n",
    "── 스케줄링한 코루틴의 테스크 실행\n",
    "- 캡슐화 방법 3가지 : 1)`asyncio.run()`, 2) 코루틴 내부에서 `await` 로 실행, 3) `테크스` 를 만들어서 실행\n",
    "- 테스크 (스케줄링한 코루틴 캡슐화) : `asyncio.Tast()` 클래스의 인스턴스, `asyncio.Future` 의 서브 클래스 입니다\n",
    "- 결과값 출력 : `.result()` 를 사용하지 않고, 대신 `await` 키워드를 사용 합니다"
   ]
  },
  {
   "cell_type": "code",
   "execution_count": 16,
   "id": "c0386a94-0cc6-4645-b3c1-2a3d171d6e6a",
   "metadata": {},
   "outputs": [
    {
     "name": "stdout",
     "output_type": "stream",
     "text": [
      "<Task pending name='Task-11' coro=<coro() running at /tmp/ipykernel_37364/658887625.py:1>>\n"
     ]
    },
    {
     "data": {
      "text/plain": [
       "1"
      ]
     },
     "execution_count": 16,
     "metadata": {},
     "output_type": "execute_result"
    }
   ],
   "source": [
    "async def coro(n):\n",
    "    await asyncio.sleep(n)\n",
    "    return n\n",
    "\n",
    "async def main():\n",
    "    task = asyncio.create_task(coro(1))\n",
    "    print(task)\n",
    "    return await task\n",
    "\n",
    "# print() 시점에서는 아직 Pending 상태\n",
    "await main()"
   ]
  },
  {
   "cell_type": "code",
   "execution_count": 17,
   "id": "cbe6957f-c9a0-4d70-8307-cd6f30ae2751",
   "metadata": {},
   "outputs": [
    {
     "name": "stdout",
     "output_type": "stream",
     "text": [
      "1\n",
      "2\n",
      "3\n"
     ]
    }
   ],
   "source": [
    "# 태스크를 작성해 실행\n",
    "# 3초에 완료됨\n",
    "async def main():\n",
    "    task1 = asyncio.create_task(coro(1))\n",
    "    task2 = asyncio.create_task(coro(2))\n",
    "    task3 = asyncio.create_task(coro(3))\n",
    "    print(await task1)\n",
    "    print(await task2)\n",
    "    print(await task3)\n",
    "    \n",
    "await main()"
   ]
  },
  {
   "cell_type": "code",
   "execution_count": 18,
   "id": "0dfb2e85-a462-4795-8bd1-3b1a24128cb2",
   "metadata": {},
   "outputs": [
    {
     "name": "stdout",
     "output_type": "stream",
     "text": [
      "1\n",
      "2\n",
      "3\n"
     ]
    }
   ],
   "source": [
    "# 코루틴인 상태로 실행\n",
    "# 6초에 완료됨\n",
    "async def main():\n",
    "    print(await coro(1))\n",
    "    print(await coro(2))\n",
    "    print(await coro(3))\n",
    "    \n",
    "await main()"
   ]
  },
  {
   "cell_type": "markdown",
   "id": "4d7e794c-5656-422c-ad44-c2dec868f702",
   "metadata": {
    "tags": []
   },
   "source": [
    "### 03 **비동기 I/O**\n",
    "── 이벤트 루프에 적합한 I/O 처리\n",
    "- 비동기 예약이 정의되면, "
   ]
  },
  {
   "cell_type": "code",
   "execution_count": 19,
   "id": "0362d363-6555-44ec-9384-04d43f9631a1",
   "metadata": {},
   "outputs": [
    {
     "name": "stdout",
     "output_type": "stream",
     "text": [
      "('https://twitter.com', './be8b09f7f1f66235a9c91986952483f0')\n",
      "('https://facebook.com', './a023cfbf5f1c39bdf8407f28b60cd134')\n",
      "('https://instagram.com', './09f8b89478d7e1046fa93c7ee4afa99e')\n"
     ]
    }
   ],
   "source": [
    "# 동기 I/O를 이용하는 처리의 태스크화\n",
    "async def main():\n",
    "    loop = asyncio.get_running_loop()\n",
    "    # 동기 I/O를 이용하는 download에서 태스크를 작성\n",
    "    futures = [loop.run_in_executor(\n",
    "        None, download, url) for url in urls]\n",
    "    for result in await asyncio.gather(*futures):\n",
    "        print(result)\n",
    "        \n",
    "await main()"
   ]
  },
  {
   "cell_type": "markdown",
   "id": "f8fc9797-8b68-471c-afcd-d4f3ee3b3ce7",
   "metadata": {
    "tags": []
   },
   "source": [
    "## 6 **Asyncio 모듈과 HTTP 통신**\n",
    "── TCP, UDP, SSL 파이프 서브 프로세스 통신은 구현 되어 있고, HTTP 는 별도로 구현해야 합니다\n",
    "- 직업 Asyncio 모듈을 사용하여 HTTP 클라이언트/ 서버를 구축 합니다\n",
    "\n",
    "### 01 **aioHttp**\n",
    "── 비동기 I/O 를 이용하는 HTTP 클라이언트 겸 서버 라이브러리\n",
    "```\n",
    "! pip install aiohttp\n",
    "```"
   ]
  },
  {
   "cell_type": "code",
   "execution_count": 20,
   "id": "6736073d-0382-41d2-9094-155bee57000a",
   "metadata": {},
   "outputs": [
    {
     "name": "stdout",
     "output_type": "stream",
     "text": [
      "\u001b[31mThis event loop is already running\u001b[0m\n"
     ]
    },
    {
     "name": "stderr",
     "output_type": "stream",
     "text": [
      "/tmp/ipykernel_37364/1232096121.py:18: RuntimeWarning: coroutine 'main' was never awaited\n",
      "  print(termcolor.colored(e, 'red'))\n",
      "RuntimeWarning: Enable tracemalloc to get the object allocation traceback\n"
     ]
    }
   ],
   "source": [
    "import aiohttp\n",
    "import asyncio\n",
    "\n",
    "async def fetch(session, url):\n",
    "    async with session.get(url) as response:\n",
    "        return await response.text()\n",
    "    \n",
    "async def main():\n",
    "    async with aiohttp.ClientSession() as session:\n",
    "        html = await fetch(session, 'http://python.org')\n",
    "        print(html)\n",
    "        \n",
    "loop = asyncio.get_event_loop()\n",
    "try:\n",
    "    loop.run_until_complete(main())\n",
    "except Exception as e:\n",
    "    import termcolor  # termcolor.COLORS\n",
    "    print(termcolor.colored(e, 'red'))"
   ]
  }
 ],
 "metadata": {
  "kernelspec": {
   "display_name": "Python 3 (ipykernel)",
   "language": "python",
   "name": "python3"
  },
  "language_info": {
   "codemirror_mode": {
    "name": "ipython",
    "version": 3
   },
   "file_extension": ".py",
   "mimetype": "text/x-python",
   "name": "python",
   "nbconvert_exporter": "python",
   "pygments_lexer": "ipython3",
   "version": "3.8.10"
  }
 },
 "nbformat": 4,
 "nbformat_minor": 5
}
