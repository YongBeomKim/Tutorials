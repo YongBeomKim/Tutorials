{
 "cells": [
  {
   "cell_type": "markdown",
   "metadata": {
    "tags": []
   },
   "source": [
    "# **1 기본적인 Xpath 사용법**\n",
    "## **01 Initialized**\n",
    "- XPath 는 `query language` 로써 XML의 nodes 들을 선택하는데 용이하다.\n",
    "- [참고 Jupyter Notebook](http://nbviewer.jupyter.org/github/TwistedHardware/mltutorial/blob/master/notebooks/quick_tips/4.%20XPath.ipynb)"
   ]
  },
  {
   "cell_type": "code",
   "execution_count": 6,
   "metadata": {},
   "outputs": [
    {
     "data": {
      "text/plain": [
       "'\\n<html>\\n  <body>\\n    <h1>Favorite Python Librarires</h1>\\n    <ul>\\n      <li>Numpy</li>\\n      <li>Pandas</li>\\n      <li>requests</li>\\n    </ul>\\n  </body>\\n</html>'"
      ]
     },
     "execution_count": 6,
     "metadata": {},
     "output_type": "execute_result"
    }
   ],
   "source": [
    "html_code = \"\"\"\n",
    "<html>\n",
    "  <body>\n",
    "    <h1>Favorite Python Librarires</h1>\n",
    "    <ul>\n",
    "      <li>Numpy</li>\n",
    "      <li>Pandas</li>\n",
    "      <li>requests</li>\n",
    "    </ul>\n",
    "  </body>\n",
    "</html>\"\"\"\n",
    "\n",
    "import requests\n",
    "from lxml.html import tostring, fromstring, HTMLParser\n",
    "html_code = html_code.replace(\"\\\\n\",\"\\n\")\n",
    "html_code"
   ]
  },
  {
   "cell_type": "code",
   "execution_count": 5,
   "metadata": {},
   "outputs": [
    {
     "data": {
      "text/plain": [
       "<Element html at 0x7f3d28211720>"
      ]
     },
     "execution_count": 5,
     "metadata": {},
     "output_type": "execute_result"
    }
   ],
   "source": [
    "# XPath 분석 가능한 객체로 변환\n",
    "doc = fromstring(html_code)\n",
    "doc"
   ]
  },
  {
   "cell_type": "markdown",
   "metadata": {
    "tags": []
   },
   "source": [
    "## **02 Xpath to find nodes in a document**\n",
    "- 대상 객체가 1개일 때\n",
    "- 대상 객체가 여럿일 때"
   ]
  },
  {
   "cell_type": "code",
   "execution_count": 9,
   "metadata": {},
   "outputs": [
    {
     "data": {
      "text/plain": [
       "(<Element h1 at 0x7f3d2853b400>, 'Favorite Python Librarires', 'h1', {})"
      ]
     },
     "execution_count": 9,
     "metadata": {},
     "output_type": "execute_result"
    }
   ],
   "source": [
    "# .text : 대상객체의 text 내용\n",
    "# .tag : 대상객체의 html 태그\n",
    "# .attrib : 대상객체의 속성내용 dict()\n",
    "title = doc.xpath(\"/html/body/h1\")[0]\n",
    "title, title.text, title.tag, title.attrib"
   ]
  },
  {
   "cell_type": "code",
   "execution_count": 10,
   "metadata": {},
   "outputs": [
    {
     "data": {
      "text/plain": [
       "'Favorite Python Librarires'"
      ]
     },
     "execution_count": 10,
     "metadata": {},
     "output_type": "execute_result"
    }
   ],
   "source": [
    "title = doc.xpath(\"/html/body/h1/text()\")[0]\n",
    "title"
   ]
  },
  {
   "cell_type": "code",
   "execution_count": 11,
   "metadata": {},
   "outputs": [
    {
     "data": {
      "text/plain": [
       "[<Element li at 0x7f2e60d378b8>,\n",
       " <Element li at 0x7f2e60d37908>,\n",
       " <Element li at 0x7f2e60d37958>]"
      ]
     },
     "execution_count": 11,
     "metadata": {},
     "output_type": "execute_result"
    }
   ],
   "source": [
    "# Xpath와 일치하는 객체가 3개 발견되었다.\n",
    "item_list = doc.xpath(\"/html/body/ul/li\")\n",
    "item_list"
   ]
  },
  {
   "cell_type": "code",
   "execution_count": 12,
   "metadata": {},
   "outputs": [
    {
     "data": {
      "text/plain": [
       "['넘파이 Numpy', '판다스 Pandas', '리퀘스트 requests']"
      ]
     },
     "execution_count": 12,
     "metadata": {},
     "output_type": "execute_result"
    }
   ],
   "source": [
    "# 호출 가능한 3개 객체를 `text()` 문법으로 호출하기\n",
    "doc = fromstring(html_code)\n",
    "item_list = doc.xpath(\"/html/body/ul/li/text()\")\n",
    "item_list"
   ]
  },
  {
   "cell_type": "markdown",
   "metadata": {},
   "source": [
    "## **03 Tag selector 를 활용한 크롤링 (모든 경로를 활용하지 않는다)**\n",
    "Double forward slash `//` : 문서 어디에 있는지를 구분하지 않고, 일치하는 객체를 크롤링 한다 "
   ]
  },
  {
   "cell_type": "code",
   "execution_count": 11,
   "metadata": {},
   "outputs": [
    {
     "data": {
      "text/plain": [
       "['Numpy', 'Pandas', 'requests']"
      ]
     },
     "execution_count": 11,
     "metadata": {},
     "output_type": "execute_result"
    }
   ],
   "source": [
    "doc = fromstring(html_code)\n",
    "item_list = doc.xpath(\"//li/text()\")  # \"/html/body/ul/li/text()\" 를 생략한 일부분의 입력만으로 출력가능\n",
    "item_list"
   ]
  },
  {
   "cell_type": "markdown",
   "metadata": {},
   "source": [
    "## **04 Attributes selector**\n",
    "두개의 `<h1>` tags 에 각기 다른 css 가 정의된 객체들을 구별 가능하다"
   ]
  },
  {
   "cell_type": "code",
   "execution_count": 17,
   "metadata": {},
   "outputs": [
    {
     "data": {
      "text/plain": [
       "<Element html at 0x7f3d2853b860>"
      ]
     },
     "execution_count": 17,
     "metadata": {},
     "output_type": "execute_result"
    }
   ],
   "source": [
    "html_code = \"\"\"\n",
    "<html>\n",
    "  <body>\n",
    "    <h1 class=\"text-muted\">내가 가장 선호하는 라이브러리 Favorite Python Librarires</h1>\n",
    "    <ul class=\"nav nav-pills nav-stacked\">\n",
    "      <li role=\"presentation\"><a href=\"http://www.numpy.org/\">넘파이 Numpy</a></li>\n",
    "      <li role=\"presentation\"><a href=\"http://pandas.pydata.org/\">판다스 Pandas</a></li>\n",
    "      <li role=\"presentation\"><a href=\"http://python-requests.org/\">리퀘스트 requests</a></li>\n",
    "    </ul>\n",
    "    <h1 class=\"text-success\">Favorite JS Librarires</h1>\n",
    "    <ul class=\"nav nav-tabs\">\n",
    "      <li role=\"presentation\"><a href=\"http://getbootstrap.com/\">부트스트랩 Bootstrap</a></li>\n",
    "      <li role=\"presentation\"><a href=\"https://jquery.com/\">제이쿼리 jQuery</a></li>\n",
    "      <li role=\"presentation\"><a href=\"http://d3js.org/\">d3.js</a></li>\n",
    "    </ul>\n",
    "</html>\"\"\"\n",
    "\n",
    "html_code = html_code.replace(\"\\\\n\",\"\\n\")\n",
    "doc = fromstring(html_code)\n",
    "doc"
   ]
  },
  {
   "cell_type": "code",
   "execution_count": 18,
   "metadata": {},
   "outputs": [
    {
     "data": {
      "text/plain": [
       "'내가 가장 선호하는 라이브러리 Favorite Python Librarires'"
      ]
     },
     "execution_count": 18,
     "metadata": {},
     "output_type": "execute_result"
    }
   ],
   "source": [
    "title = doc.xpath(\"/html/body/h1[@class='text-muted']/text()\")[0]\n",
    "title"
   ]
  },
  {
   "cell_type": "markdown",
   "metadata": {},
   "source": [
    "## **2 `contains()` 함수 활용하기**\n",
    "- Xpath 내부의 [index] 리스트 문법에서, [ index ] 내부에 `contains()`함수를 활용하면\n",
    "\"full class for selection\" 또는 \"one of the classed only used\"를 사용 가능하다 "
   ]
  },
  {
   "cell_type": "code",
   "execution_count": 19,
   "metadata": {},
   "outputs": [
    {
     "data": {
      "text/plain": [
       "['넘파이 Numpy', '판다스 Pandas', '리퀘스트 requests']"
      ]
     },
     "execution_count": 19,
     "metadata": {},
     "output_type": "execute_result"
    }
   ],
   "source": [
    "item_list = doc.xpath(\"/html/body/ul[contains(@class,'nav-stacked')]/li/a/text()\")\n",
    "item_list"
   ]
  },
  {
   "cell_type": "markdown",
   "metadata": {},
   "source": [
    "## 2. Returning attributes\n",
    "\n",
    "태그 내부의 '속성'값 (ex)`<a>` 태그 `href`속성의 ...link..값) 만 호출가능\n",
    "\n",
    "/text() 함수 없이도 value만 호출된다"
   ]
  },
  {
   "cell_type": "code",
   "execution_count": 20,
   "metadata": {},
   "outputs": [
    {
     "data": {
      "text/plain": [
       "['http://www.numpy.org/',\n",
       " 'http://pandas.pydata.org/',\n",
       " 'http://python-requests.org/']"
      ]
     },
     "execution_count": 20,
     "metadata": {},
     "output_type": "execute_result"
    }
   ],
   "source": [
    "item_list = doc.xpath(\"/html/body/ul[contains(@class,'nav-stacked')]/li/a/@href\")\n",
    "item_list"
   ]
  },
  {
   "cell_type": "code",
   "execution_count": 21,
   "metadata": {},
   "outputs": [
    {
     "data": {
      "text/plain": [
       "'<ul class=\"country\">\\n<li>Area</li>\\n<li>Population</li>\\n</ul>\\n'"
      ]
     },
     "execution_count": 21,
     "metadata": {},
     "output_type": "execute_result"
    }
   ],
   "source": [
    "# find_population_lxml.py\n",
    "import re\n",
    "from lxml import html\n",
    "broken_html = '<ul class=country><li>Area<li>Population</ul>'\n",
    "tree = html.fromstring(broken_html)  # HTML 분석\n",
    "fixed_html = html.tostring(tree, pretty_print=True); fixed_html.decode('utf-8')"
   ]
  },
  {
   "cell_type": "code",
   "execution_count": 22,
   "metadata": {},
   "outputs": [
    {
     "data": {
      "text/plain": [
       "'\\n<!DOCTYPE html>\\n\\n\\n\\n<html lang=\"ko\" class=\"os_unknown none unknown version_0 \">\\n<head>\\n<meta charset=\"utf-8\">\\n<meta name=\"referrer\" content=\"always\" />\\n\\n<meta property=\"og:author\" content=\"Daum 뉴스\" />\\n<meta property=\"og:site_name\" content=\"다음뉴스\" />\\n<meta property=\"og:title\" content=\"홈\"/>\\n<meta prope'"
      ]
     },
     "execution_count": 22,
     "metadata": {},
     "output_type": "execute_result"
    }
   ],
   "source": [
    "from lxml import html\n",
    "import requests\n",
    "url = 'http://media.daum.net/ranking/empathy'\n",
    "page = requests.get(url)\n",
    "tree = html.fromstring(page.content)\n",
    "page.text[:300]"
   ]
  },
  {
   "cell_type": "code",
   "execution_count": 25,
   "metadata": {},
   "outputs": [
    {
     "data": {
      "text/plain": [
       "[]"
      ]
     },
     "execution_count": 25,
     "metadata": {},
     "output_type": "execute_result"
    }
   ],
   "source": [
    "xpath = '//*[@id=\"mArticle\"]/div[2]/ul[2]/li[1]/div[2]/div/span/text()'\n",
    "hotel_name = tree.xpath(xpath)\n",
    "hotel_name"
   ]
  },
  {
   "cell_type": "code",
   "execution_count": 24,
   "metadata": {},
   "outputs": [
    {
     "ename": "IndexError",
     "evalue": "list index out of range",
     "output_type": "error",
     "traceback": [
      "\u001b[0;31m---------------------------------------------------------------------------\u001b[0m",
      "\u001b[0;31mIndexError\u001b[0m                                Traceback (most recent call last)",
      "\u001b[0;32m/tmp/ipykernel_12615/2365793524.py\u001b[0m in \u001b[0;36m<module>\u001b[0;34m\u001b[0m\n\u001b[1;32m      1\u001b[0m \u001b[0mxpath\u001b[0m \u001b[0;34m=\u001b[0m \u001b[0;34m'//*[@id=\"mArticle\"]/div[2]/ul[2]/li[1]/div[2]/div/span/text()'\u001b[0m\u001b[0;34m\u001b[0m\u001b[0;34m\u001b[0m\u001b[0m\n\u001b[1;32m      2\u001b[0m \u001b[0mhotel_name\u001b[0m \u001b[0;34m=\u001b[0m \u001b[0mtree\u001b[0m\u001b[0;34m.\u001b[0m\u001b[0mxpath\u001b[0m\u001b[0;34m(\u001b[0m\u001b[0mxpath\u001b[0m\u001b[0;34m)\u001b[0m\u001b[0;34m\u001b[0m\u001b[0;34m\u001b[0m\u001b[0m\n\u001b[0;32m----> 3\u001b[0;31m \u001b[0mtemp\u001b[0m \u001b[0;34m=\u001b[0m \u001b[0mre\u001b[0m\u001b[0;34m.\u001b[0m\u001b[0msub\u001b[0m\u001b[0;34m(\u001b[0m\u001b[0;34m\"\\n\"\u001b[0m\u001b[0;34m,\u001b[0m\u001b[0;34m\"\"\u001b[0m\u001b[0;34m,\u001b[0m\u001b[0mhotel_name\u001b[0m\u001b[0;34m[\u001b[0m\u001b[0;36m0\u001b[0m\u001b[0;34m]\u001b[0m\u001b[0;34m)\u001b[0m\u001b[0;34m\u001b[0m\u001b[0;34m\u001b[0m\u001b[0m\n\u001b[0m\u001b[1;32m      4\u001b[0m \u001b[0mtemp\u001b[0m \u001b[0;34m=\u001b[0m \u001b[0mre\u001b[0m\u001b[0;34m.\u001b[0m\u001b[0msub\u001b[0m\u001b[0;34m(\u001b[0m\u001b[0;34m\"  \"\u001b[0m\u001b[0;34m,\u001b[0m\u001b[0;34m\"\"\u001b[0m\u001b[0;34m,\u001b[0m\u001b[0mtemp\u001b[0m\u001b[0;34m)\u001b[0m\u001b[0;34m;\u001b[0m \u001b[0mtemp\u001b[0m\u001b[0;34m\u001b[0m\u001b[0;34m\u001b[0m\u001b[0m\n",
      "\u001b[0;31mIndexError\u001b[0m: list index out of range"
     ]
    }
   ],
   "source": [
    "temp = re.sub(\"\\n\",\"\",hotel_name[0])\n",
    "temp = re.sub(\"  \",\"\",temp); temp"
   ]
  },
  {
   "cell_type": "code",
   "execution_count": null,
   "metadata": {},
   "outputs": [],
   "source": [
    "vv/home/buffet/Coding/Gits/PyFinance/Server/SQL.ipynb\n",
    "/home/buffet/Coding/Gits/PyFinance/Server/SQL_trader.ipynb"
   ]
  },
  {
   "cell_type": "code",
   "execution_count": null,
   "metadata": {},
   "outputs": [],
   "source": []
  }
 ],
 "metadata": {
  "kernelspec": {
   "display_name": "Python 3 (ipykernel)",
   "language": "python",
   "name": "python3"
  },
  "language_info": {
   "codemirror_mode": {
    "name": "ipython",
    "version": 3
   },
   "file_extension": ".py",
   "mimetype": "text/x-python",
   "name": "python",
   "nbconvert_exporter": "python",
   "pygments_lexer": "ipython3",
   "version": "3.8.10"
  }
 },
 "nbformat": 4,
 "nbformat_minor": 4
}
