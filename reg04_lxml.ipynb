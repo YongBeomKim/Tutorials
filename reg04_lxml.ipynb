{
 "cells": [
  {
   "cell_type": "markdown",
   "metadata": {},
   "source": [
    "# **1 Xpath 관련 문법들**\n",
    "## **01 경로 연산자**\n",
    "- [Xpath HTML 문서 parsing 문법정리](https://blog.live2skull.kr/python/lxml/python-lxml/)\n",
    "- [참고 Jupyter Notebook](http://nbviewer.jupyter.org/github/TwistedHardware/mltutorial/blob/master/notebooks/quick_tips/4.%20XPath.ipynb)\n",
    "| 문법\t| 설명     |\n",
    "|:--------:|:----------|\n",
    "|  /\t| 루트 노드(문서의 시작), 재귀적으로 탐색하지 않음.|\n",
    "| //\t| 지정한 노드에서 재귀적으로 탐색. |\n",
    "| .\t    |현재 노드를 선택 |\n",
    "| ..\t|현재 노드의 부모 노드를 선택 |\n",
    "| @\t|속성 노드를 선택 (HTML에서 attribute지정)|\n"
   ]
  },
  {
   "cell_type": "code",
   "execution_count": 10,
   "metadata": {},
   "outputs": [
    {
     "data": {
      "text/plain": [
       "'//*[@id=\"mArticle\"]/div[2]/ul[2]/li[1]/div[2]/div/span/text()'"
      ]
     },
     "execution_count": 10,
     "metadata": {},
     "output_type": "execute_result"
    }
   ],
   "source": [
    "xpath = '//*[@id=\"mArticle\"]/div[2]/ul[2]/li[1]/div[2]/div/span/text()'\n",
    "xpath"
   ]
  },
  {
   "cell_type": "code",
   "execution_count": 1,
   "metadata": {},
   "outputs": [
    {
     "data": {
      "text/plain": [
       "<Element html at 0x7feb14045220>"
      ]
     },
     "execution_count": 1,
     "metadata": {},
     "output_type": "execute_result"
    }
   ],
   "source": [
    "html_code = \"\"\"\n",
    "<html>\n",
    "  <body>\n",
    "    <h1 class=\"text-muted\">내가 가장 선호하는 라이브러리 Favorite Python Librarires</h1>\n",
    "    <ul class=\"nav nav-pills nav-stacked\">\n",
    "      <li role=\"presentation\"><a href=\"http://www.numpy.org/\">넘파이 Numpy</a></li>\n",
    "      <li role=\"presentation\"><a href=\"http://pandas.pydata.org/\">판다스 Pandas</a></li>\n",
    "      <li role=\"presentation\"><a href=\"http://python-requests.org/\">리퀘스트 requests</a></li>\n",
    "    </ul>\n",
    "    <h1 class=\"text-success\">Favorite JS Librarires</h1>\n",
    "    <ul class=\"nav nav-tabs\">\n",
    "      <li role=\"presentation\"><a href=\"http://getbootstrap.com/\">부트스트랩 Bootstrap</a></li>\n",
    "      <li role=\"presentation\"><a href=\"https://jquery.com/\">제이쿼리 jQuery</a></li>\n",
    "      <li role=\"presentation\"><a href=\"http://d3js.org/\">d3.js</a></li>\n",
    "    </ul>\n",
    "</html>\"\"\"\n",
    "\n",
    "html_code = html_code.replace(\"\\\\n\",\"\\n\")\n",
    "from lxml.html import tostring, fromstring, HTMLParser\n",
    "doc = fromstring(html_code)\n",
    "doc"
   ]
  },
  {
   "cell_type": "code",
   "execution_count": 2,
   "metadata": {},
   "outputs": [
    {
     "name": "stdout",
     "output_type": "stream",
     "text": [
      "내가 가장 선호하는 라이브러리 Favorite Python Librarires\n"
     ]
    },
    {
     "data": {
      "text/plain": [
       "(<Element h1 at 0x7feb17104810>,\n",
       " '내가 가장 선호하는 라이브러리 Favorite Python Librarires',\n",
       " 'h1',\n",
       " {'class': 'text-muted'})"
      ]
     },
     "execution_count": 2,
     "metadata": {},
     "output_type": "execute_result"
    }
   ],
   "source": [
    "# .text : 대상객체의 text 내용\n",
    "# .tag : 대상객체의 html 태그\n",
    "# .attrib : 대상객체의 속성내용 dict()\n",
    "print(doc.xpath(\"/html/body/h1/text()\")[0])\n",
    "title = doc.xpath(\"/html/body/h1\")[0]\n",
    "title, title.text, title.tag, title.attrib"
   ]
  },
  {
   "cell_type": "code",
   "execution_count": 3,
   "metadata": {},
   "outputs": [
    {
     "data": {
      "text/plain": [
       "[<Element li at 0x7feb170e4c20>,\n",
       " <Element li at 0x7feb170e4b80>,\n",
       " <Element li at 0x7feb170e4c70>,\n",
       " <Element li at 0x7feb170e4bd0>,\n",
       " <Element li at 0x7feb170e4770>,\n",
       " <Element li at 0x7feb17104e50>]"
      ]
     },
     "execution_count": 3,
     "metadata": {},
     "output_type": "execute_result"
    }
   ],
   "source": [
    "# Xpath와 일치하는 객체가 3개 발견되었다.\n",
    "item_list = doc.xpath(\"/html/body/ul/li\")\n",
    "item_list"
   ]
  },
  {
   "cell_type": "code",
   "execution_count": 4,
   "metadata": {},
   "outputs": [
    {
     "data": {
      "text/plain": [
       "True"
      ]
     },
     "execution_count": 4,
     "metadata": {},
     "output_type": "execute_result"
    }
   ],
   "source": [
    "# 호출 가능한 3개 객체를 `text()` 문법으로 호출하기\n",
    "# \"/html/body/ul/li/text()\" 를 생략한 일부분의 입력만으로 출력가능\n",
    "doc = fromstring(html_code)\n",
    "item_list1 = doc.xpath(\"/html/body/ul/li/text()\")\n",
    "item_list2 = doc.xpath(\"//li/text()\")  \n",
    "item_list1 == item_list2"
   ]
  },
  {
   "cell_type": "code",
   "execution_count": 5,
   "metadata": {},
   "outputs": [
    {
     "data": {
      "text/plain": [
       "'내가 가장 선호하는 라이브러리 Favorite Python Librarires'"
      ]
     },
     "execution_count": 5,
     "metadata": {},
     "output_type": "execute_result"
    }
   ],
   "source": [
    "title = doc.xpath(\"/html/body/h1[@class='text-muted']/text()\")[0]\n",
    "title"
   ]
  },
  {
   "cell_type": "code",
   "execution_count": 6,
   "metadata": {},
   "outputs": [
    {
     "data": {
      "text/plain": [
       "['넘파이 Numpy', '판다스 Pandas', '리퀘스트 requests']"
      ]
     },
     "execution_count": 6,
     "metadata": {},
     "output_type": "execute_result"
    }
   ],
   "source": [
    "item_list = doc.xpath(\"/html/body/ul[contains(@class,'nav-stacked')]/li/a/text()\")\n",
    "item_list"
   ]
  },
  {
   "cell_type": "code",
   "execution_count": 7,
   "metadata": {},
   "outputs": [
    {
     "data": {
      "text/plain": [
       "['http://www.numpy.org/',\n",
       " 'http://pandas.pydata.org/',\n",
       " 'http://python-requests.org/']"
      ]
     },
     "execution_count": 7,
     "metadata": {},
     "output_type": "execute_result"
    }
   ],
   "source": [
    "item_list = doc.xpath(\"/html/body/ul[contains(@class,'nav-stacked')]/li/a/@href\")\n",
    "item_list"
   ]
  },
  {
   "cell_type": "code",
   "execution_count": 8,
   "metadata": {},
   "outputs": [
    {
     "data": {
      "text/plain": [
       "['http://www.numpy.org/',\n",
       " 'http://pandas.pydata.org/',\n",
       " 'http://python-requests.org/']"
      ]
     },
     "execution_count": 8,
     "metadata": {},
     "output_type": "execute_result"
    }
   ],
   "source": [
    "item_list = doc.xpath(\"/html/body/ul[contains(@class,'nav-stacked')]/li/a\")\n",
    "list(map(lambda x : x.get('href'), item_list))"
   ]
  },
  {
   "cell_type": "markdown",
   "metadata": {},
   "source": [
    "## **03 방향 연산자**\n",
    "```\n",
    "방향연산자::경로연산자[필터표현식]\n",
    "```\n",
    "\n",
    "| 문법\t| 설명     |\n",
    "|:--------|:----------|\n",
    "|self|\t현재 노드|\n",
    "|attribute\t|현재 노드의 속성 노드|\n",
    "|namespace\t|현재 노드의 네임스페이스 노드|\n",
    "|child\t|현재 노드의 자식 노드|\n",
    "|descendant\t|현재 노드의 자손 노드 (자식 -> 자손)|\n",
    "|descendant-or-self\t|현재 노드와 자손 노드|\n",
    "|following\t|현재 노드의 종료 이후 등장하는 노드|\n",
    "|following-sibling\t|현재 노드 이후 등장하는 형제 노드|\n",
    "|parent\t|현재 노드의 부모 노드|\n",
    "|ancestor\t|현재 노드의 조상 노드|\n",
    "|ancestor-or-self\t|현재 노드와 조상 노드|\n",
    "|preceding\t|현재 노드 이전의 모든 노드(조상,속성, 네임스페이스 노드)|\n",
    "|preceding-sibling\t|현재 노드 이전의 형제 노드|"
   ]
  },
  {
   "cell_type": "code",
   "execution_count": null,
   "metadata": {},
   "outputs": [],
   "source": [
    "xpath = './/div[@id=\"ipo\"]/following-sibling::table[1]'\n",
    "# response = requests.get(url).text\n",
    "# response_lxml = fromstring(response)\n",
    "# tables = response_lxml.xpath(xpath)[0]"
   ]
  }
 ],
 "metadata": {
  "kernelspec": {
   "display_name": "Python 3 (ipykernel)",
   "language": "python",
   "name": "python3"
  },
  "language_info": {
   "codemirror_mode": {
    "name": "ipython",
    "version": 3
   },
   "file_extension": ".py",
   "mimetype": "text/x-python",
   "name": "python",
   "nbconvert_exporter": "python",
   "pygments_lexer": "ipython3",
   "version": "3.8.10"
  }
 },
 "nbformat": 4,
 "nbformat_minor": 4
}
