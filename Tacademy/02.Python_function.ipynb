{
 "cells": [
  {
   "cell_type": "code",
   "execution_count": 1,
   "metadata": {
    "collapsed": true
   },
   "outputs": [],
   "source": [
    "# Data Reviews.\n",
    "# 자료형 ( Data Types ) - list, tuple, set, dict\n",
    "# 조건문\n",
    "# 반복문 - dict.items() ( result: [(), (), ])\n",
    "# 함수 ( function ) - def, - unpacking/packing ( *args, **kwargs )"
   ]
  },
  {
   "cell_type": "code",
   "execution_count": 8,
   "metadata": {
    "collapsed": true
   },
   "outputs": [],
   "source": [
    "# Lambda + Lambda Operator"
   ]
  },
  {
   "cell_type": "code",
   "execution_count": 9,
   "metadata": {
    "collapsed": false
   },
   "outputs": [
    {
     "data": {
      "text/plain": [
       "<function __main__.double>"
      ]
     },
     "execution_count": 9,
     "metadata": {},
     "output_type": "execute_result"
    }
   ],
   "source": [
    "def double(x):\n",
    "    return x * 2\n",
    "double2 = lambda x: x * 2\n",
    "# 익명 함수를 만들어서, 그 위치를 double 이라는 변수에 저장\n",
    "double"
   ]
  },
  {
   "cell_type": "code",
   "execution_count": 10,
   "metadata": {
    "collapsed": false
   },
   "outputs": [
    {
     "data": {
      "text/plain": [
       "<function __main__.<lambda>>"
      ]
     },
     "execution_count": 10,
     "metadata": {},
     "output_type": "execute_result"
    }
   ],
   "source": [
    "double2 "
   ]
  },
  {
   "cell_type": "code",
   "execution_count": 11,
   "metadata": {
    "collapsed": false
   },
   "outputs": [
    {
     "data": {
      "text/plain": [
       "400"
      ]
     },
     "execution_count": 11,
     "metadata": {},
     "output_type": "execute_result"
    }
   ],
   "source": [
    "(lambda x: x * 2)(200)\n",
    "# Map, Filter, Reduce"
   ]
  },
  {
   "cell_type": "code",
   "execution_count": 12,
   "metadata": {
    "collapsed": true
   },
   "outputs": [],
   "source": [
    "# 1. 함수: 리스트를 받아서, 제곱수의 리스트 \n",
    "# 예. 1부터 10까지의 자연수의 제곱수 ( 1, 4, 9, ..., 100 ) \n",
    "# 2. 함수: 리스트를 받아서, 양수인 element 만 새로운 리스트 \n",
    "# input: [-1, -2, 3, 4] => [3, 4]"
   ]
  },
  {
   "cell_type": "code",
   "execution_count": 13,
   "metadata": {
    "collapsed": false
   },
   "outputs": [
    {
     "data": {
      "text/plain": [
       "[1, 4, 9, 16, 25]"
      ]
     },
     "execution_count": 13,
     "metadata": {},
     "output_type": "execute_result"
    }
   ],
   "source": [
    "# 1. 함수: 리스트를 받아서, 제곱수의 리스트 \n",
    "# 예. 1부터 10까지의 자연수의 제곱수 ( 1, 4, 9, ..., 100 ) \n",
    "def get_square(number):\n",
    "    return number ** 2\n",
    "\n",
    "def get_square_list(numbers):\n",
    "    elements = []\n",
    "    for number in numbers:\n",
    "        elements.append(get_square(number))  # [] + .append\n",
    "    return elements\n",
    "\n",
    "get_square_list([1, 2, 3, 4, 5])"
   ]
  },
  {
   "cell_type": "code",
   "execution_count": 14,
   "metadata": {
    "collapsed": true
   },
   "outputs": [],
   "source": [
    "# 전처리 \n",
    "\n",
    "# 010.2220.5736       => 01022205736\n",
    "# 010-2220-5736       => 01022205736\n",
    "# 010둘둘둘영-5736"
   ]
  },
  {
   "cell_type": "code",
   "execution_count": 15,
   "metadata": {
    "collapsed": false
   },
   "outputs": [
    {
     "data": {
      "text/plain": [
       "<map at 0x388d150>"
      ]
     },
     "execution_count": 15,
     "metadata": {},
     "output_type": "execute_result"
    }
   ],
   "source": [
    "map(                    # generator => 한번에 연산 X\n",
    "    get_square,         \n",
    "    [1, 2, 3, 4, 5],\n",
    ")"
   ]
  },
  {
   "cell_type": "code",
   "execution_count": 16,
   "metadata": {
    "collapsed": false
   },
   "outputs": [
    {
     "data": {
      "text/plain": [
       "[1, 4, 9, 16, 25]"
      ]
     },
     "execution_count": 16,
     "metadata": {},
     "output_type": "execute_result"
    }
   ],
   "source": [
    "list(map(\n",
    "    lambda x: x ** 2,\n",
    "    [1, 2, 3, 4, 5]\n",
    "))"
   ]
  },
  {
   "cell_type": "code",
   "execution_count": 17,
   "metadata": {
    "collapsed": false
   },
   "outputs": [
    {
     "data": {
      "text/plain": [
       "[1, 4, 9, 16]"
      ]
     },
     "execution_count": 17,
     "metadata": {},
     "output_type": "execute_result"
    }
   ],
   "source": [
    "def get_square_list(numbers):\n",
    "    return list(map(lambda x: x ** 2, numbers))\n",
    "\n",
    "get_square_list([1, 2, 3, 4])"
   ]
  },
  {
   "cell_type": "code",
   "execution_count": 18,
   "metadata": {
    "collapsed": true
   },
   "outputs": [],
   "source": [
    "# 2. 함수: 리스트를 받아서, 양수인 element 만 새로운 리스트 \n",
    "# input: [-1, -2, 3, 4] => [3, 4]\n",
    "\n",
    "# map() - element func apply"
   ]
  },
  {
   "cell_type": "code",
   "execution_count": null,
   "metadata": {
    "collapsed": true
   },
   "outputs": [],
   "source": [
    "# map() - element func apply"
   ]
  },
  {
   "cell_type": "code",
   "execution_count": 19,
   "metadata": {
    "collapsed": false
   },
   "outputs": [
    {
     "data": {
      "text/plain": [
       "[3, 4]"
      ]
     },
     "execution_count": 19,
     "metadata": {},
     "output_type": "execute_result"
    }
   ],
   "source": [
    "numbers = [-1, -2, 3, 4]\n",
    "\n",
    "list(map(\n",
    "    lambda x: x > 0,\n",
    "    numbers,\n",
    "))   # Boolean List / Boolean Mask, Filtering Mask\n",
    "\n",
    "list(filter(\n",
    "    lambda x: x > 0,\n",
    "    numbers,\n",
    "))\n",
    "\n",
    "def get_positive_list(numbers):\n",
    "    return list(filter(lambda x: x > 0, numbers))\n",
    "\n",
    "get_positive_list([-1, -2, 3, 4])"
   ]
  },
  {
   "cell_type": "code",
   "execution_count": 20,
   "metadata": {
    "collapsed": false
   },
   "outputs": [
    {
     "data": {
      "text/plain": [
       "[3, 4]"
      ]
     },
     "execution_count": 20,
     "metadata": {},
     "output_type": "execute_result"
    }
   ],
   "source": [
    "numbers = [-1, -2, 3, 4]\n",
    "\n",
    "def get_positive_list(numbers):\n",
    "    elements = []\n",
    "    for number in numbers:\n",
    "        if number > 0:               # False, False, True, True\n",
    "            elements.append(number)\n",
    "    return elements\n",
    "\n",
    "get_positive_list(numbers)"
   ]
  },
  {
   "cell_type": "code",
   "execution_count": null,
   "metadata": {
    "collapsed": true
   },
   "outputs": [],
   "source": [
    "# filte() - element func apply, filtering when True ( Filtering Mask )"
   ]
  },
  {
   "cell_type": "code",
   "execution_count": 21,
   "metadata": {
    "collapsed": false
   },
   "outputs": [],
   "source": [
    "list(filter(\n",
    "    lambda x: x > 0,\n",
    "    numbers,\n",
    "))\n",
    "\n",
    "def get_positive_list(numbers):\n",
    "    return list(filter(lambda x: x > 0, numbers))\n",
    "\n",
    "get_positive_list([-1, -2, 3, 4])\n",
    "get_positive_list = lambda numbers: list(filter(lambda x: x > 0, numbers))"
   ]
  },
  {
   "cell_type": "code",
   "execution_count": 22,
   "metadata": {
    "collapsed": false
   },
   "outputs": [
    {
     "data": {
      "text/plain": [
       "[3, 4]"
      ]
     },
     "execution_count": 22,
     "metadata": {},
     "output_type": "execute_result"
    }
   ],
   "source": [
    "get_positive_list([-1, -2, 3, 4])\n",
    "# 1. 리스트를 받아서, 리스트의 숫자들 의 곱 | [1, 2, 3, 4] => 24\n",
    "# 2. 리스트를 받아서, 리스트 중에서 제일 큰 수 | [-1, 0, 2, 4, 3] => 4"
   ]
  },
  {
   "cell_type": "code",
   "execution_count": 23,
   "metadata": {
    "collapsed": false
   },
   "outputs": [
    {
     "data": {
      "text/plain": [
       "24"
      ]
     },
     "execution_count": 23,
     "metadata": {},
     "output_type": "execute_result"
    }
   ],
   "source": [
    "# 1. 곱 \n",
    "def get_multiply(numbers):\n",
    "    result = 1\n",
    "    for number in numbers:\n",
    "        result *= number\n",
    "    return result\n",
    "\n",
    "get_multiply([1, 2, 3, 4])\n",
    "# 1, 1, 2, 3, 4\n",
    "#    1, 2, 3, 4\n",
    "#       2, 3, 4\n",
    "#          6, 4\n",
    "#            24"
   ]
  },
  {
   "cell_type": "code",
   "execution_count": 24,
   "metadata": {
    "collapsed": false
   },
   "outputs": [
    {
     "data": {
      "text/plain": [
       "5"
      ]
     },
     "execution_count": 24,
     "metadata": {},
     "output_type": "execute_result"
    }
   ],
   "source": [
    "def get_max(numbers):\n",
    "    result = numbers[0]  # 만약에, 0이라고 했을 때 => 음수의 리스트 \n",
    "    for number in numbers:\n",
    "        if result < number:\n",
    "            result = number\n",
    "    return result\n",
    "\n",
    "get_max([3, -1, 5, -6])\n",
    "# 3, -1, 5, -6\n",
    "#     3, 5, -6\n",
    "#        5, -6\n",
    "#            5"
   ]
  },
  {
   "cell_type": "code",
   "execution_count": 25,
   "metadata": {
    "collapsed": true
   },
   "outputs": [],
   "source": [
    "# 최종적인 output \n",
    "# [init, a, b, c, d, e] => result"
   ]
  },
  {
   "cell_type": "code",
   "execution_count": 1,
   "metadata": {
    "collapsed": true
   },
   "outputs": [],
   "source": [
    "# reduce : 해당 인덱스(b)와, 직전 인덱스(a)값 2개를 같이 호출\n",
    "from functools import reduce"
   ]
  },
  {
   "cell_type": "code",
   "execution_count": null,
   "metadata": {
    "collapsed": true
   },
   "outputs": [],
   "source": [
    "# 1. map      - apply\n",
    "# 2. filter   - apply, True\n",
    "# 3. reduce   - apply(a,b)"
   ]
  },
  {
   "cell_type": "code",
   "execution_count": 6,
   "metadata": {
    "collapsed": false
   },
   "outputs": [
    {
     "data": {
      "text/plain": [
       "5"
      ]
     },
     "execution_count": 6,
     "metadata": {},
     "output_type": "execute_result"
    }
   ],
   "source": [
    "def get_bigger(a, b):\n",
    "    return a if a > b else b\n",
    "\n",
    "reduce(\n",
    "    get_bigger,\n",
    "    [3, -1, 5, -6],\n",
    ") # get_max"
   ]
  },
  {
   "cell_type": "code",
   "execution_count": 4,
   "metadata": {
    "collapsed": false
   },
   "outputs": [
    {
     "name": "stdout",
     "output_type": "stream",
     "text": [
      "5\n"
     ]
    }
   ],
   "source": [
    "reduce(\n",
    "    lambda x, y: x if x > y else y,\n",
    "    [3, -1, 5, -6],\n",
    ")"
   ]
  },
  {
   "cell_type": "code",
   "execution_count": 5,
   "metadata": {
    "collapsed": false
   },
   "outputs": [
    {
     "data": {
      "text/plain": [
       "5"
      ]
     },
     "execution_count": 5,
     "metadata": {},
     "output_type": "execute_result"
    }
   ],
   "source": [
    "def get_max(numbers):\n",
    "    return reduce(lambda x, y: x if x > y else y, numbers)\n",
    "\n",
    "get_max([3, -1, 5, -6])"
   ]
  },
  {
   "cell_type": "code",
   "execution_count": 28,
   "metadata": {
    "collapsed": false
   },
   "outputs": [
    {
     "data": {
      "text/plain": [
       "'\\ndog   ====\\ncat   ==\\nbird  ===\\n'"
      ]
     },
     "execution_count": 28,
     "metadata": {},
     "output_type": "execute_result"
    }
   ],
   "source": [
    "# 리스트를 받아서, 히스토그램을 그리는 함수\n",
    "# [\"dog\", \"dog\", \"dog\", \"dog\", \"cat\", \"cat\", \"bird\", \"bird\", \"bird\"]\n",
    "\"\"\"\n",
    "dog   ====\n",
    "cat   ==\n",
    "bird  ===\n",
    "\"\"\""
   ]
  },
  {
   "cell_type": "code",
   "execution_count": 29,
   "metadata": {
    "collapsed": false
   },
   "outputs": [
    {
     "name": "stdout",
     "output_type": "stream",
     "text": [
      "(0, 1)\n",
      "(0, 2)\n",
      "(0, 3)\n",
      "(0, 4)\n",
      "(0, 5)\n"
     ]
    },
    {
     "data": {
      "text/plain": [
       "0"
      ]
     },
     "execution_count": 29,
     "metadata": {},
     "output_type": "execute_result"
    }
   ],
   "source": [
    "# 리스트를 받아서, 모든 엘리먼트를 곱하는 기능\n",
    "# 1, 1, 2, 3, 4, 5 => 120\n",
    "def multiply(a, b):\n",
    "    print((a, b))\n",
    "    return a * b\n",
    "\n",
    "reduce(\n",
    "    multiply,\n",
    "    [1, 2, 3, 4, 5],\n",
    "    0,               # 기본값!!! (*) => 빈 dict\n",
    ")"
   ]
  },
  {
   "cell_type": "code",
   "execution_count": null,
   "metadata": {
    "collapsed": true
   },
   "outputs": [],
   "source": [
    "# 리스트를 받아서, 히스토그램을 그리는 함수\n",
    "# [\"dog\", \"dog\", \"dog\", \"dog\", \"cat\", \"cat\", \"bird\", \"bird\", \"bird\"]\n",
    "# {\"dog\": 4, \"cat\": 2, \"bird\": 3}\n",
    "# {} \"dog\" \"dog\" \"dog\" \"cat\" \"cat\" ..."
   ]
  },
  {
   "cell_type": "code",
   "execution_count": 30,
   "metadata": {
    "collapsed": true
   },
   "outputs": [],
   "source": [
    "# 1. 히스토그램을 그리는 함수 \n",
    "# input: {\"dog\": 4, \"cat\": 3} => output: 그림 \n",
    "\n",
    "# 2. 리스트를 받아서, 숫자를 세는 함수\n",
    "# input: list => output: histogram dict"
   ]
  },
  {
   "cell_type": "code",
   "execution_count": 31,
   "metadata": {
    "collapsed": true
   },
   "outputs": [],
   "source": [
    "data = [\"dog\", \"dog\", \"dog\", \"dog\", \"cat\", \"cat\", \"bird\", \"bird\", \"bird\"]"
   ]
  },
  {
   "cell_type": "code",
   "execution_count": 32,
   "metadata": {
    "collapsed": false
   },
   "outputs": [
    {
     "name": "stdout",
     "output_type": "stream",
     "text": [
      "{'cat': 2, 'dog': 4, 'bird': 3}\n"
     ]
    }
   ],
   "source": [
    "# for key, value in histogram_dict.items():\n",
    "def get_histogram_dict(data):\n",
    "    def temp_func(result, element):\n",
    "        if result.get(element):\n",
    "            result[element] += 1\n",
    "        else:\n",
    "            result[element] = 1\n",
    "        return result\n",
    "\n",
    "    return reduce(\n",
    "        temp_func,\n",
    "        data,\n",
    "        {},\n",
    "    )\n",
    "\n",
    "histogram_dict = get_histogram_dict([\"dog\", \"dog\", \"dog\", \"dog\", \"cat\", \"cat\",\n",
    "                                     \"bird\", \"bird\", \"bird\"])\n",
    "print(histogram_dict)"
   ]
  },
  {
   "cell_type": "code",
   "execution_count": 33,
   "metadata": {
    "collapsed": false
   },
   "outputs": [
    {
     "name": "stdout",
     "output_type": "stream",
     "text": [
      "cat       ==\n",
      "dog       ====\n",
      "bird      ===\n"
     ]
    }
   ],
   "source": [
    "def print_histogram(histogram_dict):\n",
    "    rows = []\n",
    "    for key, value in histogram_dict.items():\n",
    "        row = \"{key}{spaces}{value_count}\".format(\n",
    "            key=key,\n",
    "            spaces=\" \" * (10 - len(key)),\n",
    "            value_count=\"=\" * value,\n",
    "        )\n",
    "        rows.append(row)       \n",
    "    print(\"\\n\".join(rows))\n",
    "\n",
    "def get_histogram_dict(data):\n",
    "    def temp_func(result, element):\n",
    "        if result.get(element):\n",
    "            result[element] += 1\n",
    "        else:\n",
    "            result[element] = 1\n",
    "        return result\n",
    "\n",
    "    return reduce(\n",
    "        temp_func,\n",
    "        data,\n",
    "        {},\n",
    "    )\n",
    "\n",
    "histogram_dict = get_histogram_dict([\"dog\", \"dog\", \"dog\", \"dog\", \"cat\", \"cat\",\n",
    "                                     \"bird\", \"bird\", \"bird\"])\n",
    "print_histogram(histogram_dict)"
   ]
  },
  {
   "cell_type": "code",
   "execution_count": 34,
   "metadata": {
    "collapsed": true
   },
   "outputs": [],
   "source": [
    "# 함수를 리턴하는 함수 \n",
    "def get_multiply_by(n):\n",
    "    def temp_func(x):\n",
    "        return n * x\n",
    "    return temp_func"
   ]
  },
  {
   "cell_type": "code",
   "execution_count": 35,
   "metadata": {
    "collapsed": true
   },
   "outputs": [],
   "source": [
    "# decorator - 함수를 리턴하는 함수 ( @ )"
   ]
  },
  {
   "cell_type": "code",
   "execution_count": 36,
   "metadata": {
    "collapsed": true
   },
   "outputs": [],
   "source": [
    "# 함수의 실행시간을 측정하는 기능 \n",
    "\n",
    "def hello():\n",
    "    print(\"hello world\")\n",
    "    \n",
    "def world():\n",
    "    print(\"world hello\")"
   ]
  },
  {
   "cell_type": "code",
   "execution_count": 37,
   "metadata": {
    "collapsed": false
   },
   "outputs": [],
   "source": [
    "import time"
   ]
  },
  {
   "cell_type": "code",
   "execution_count": 38,
   "metadata": {
    "collapsed": true
   },
   "outputs": [],
   "source": [
    "def track_time(func):\n",
    "    def wrapper(*args, **kwargs):      # packing(함수 정의)\n",
    "        start_time = time.time()\n",
    "        result = func(*args, **kwargs)  # unpacking(호출)\n",
    "        end_time = time.time()\n",
    "        exec_time = end_time - start_time\n",
    "        print(\"Execution Time: {s}s\".format(s=exec_time))\n",
    "        return result\n",
    "    return wrapper"
   ]
  },
  {
   "cell_type": "code",
   "execution_count": 39,
   "metadata": {
    "collapsed": false
   },
   "outputs": [],
   "source": [
    "@track_time               # decorator => 시간 측정, Email, SMS\n",
    "def hello():\n",
    "    print(\"hello world\")\n",
    "    \n",
    "@track_time\n",
    "def world():\n",
    "    print(\"world hello\")\n",
    "    \n",
    "# hello = track_time(hello)\n",
    "# world = track_time(world)"
   ]
  },
  {
   "cell_type": "code",
   "execution_count": 40,
   "metadata": {
    "collapsed": false
   },
   "outputs": [
    {
     "name": "stdout",
     "output_type": "stream",
     "text": [
      "hello world\n",
      "Execution Time: 0.0s\n"
     ]
    }
   ],
   "source": [
    "hello()"
   ]
  },
  {
   "cell_type": "code",
   "execution_count": 41,
   "metadata": {
    "collapsed": false
   },
   "outputs": [
    {
     "name": "stdout",
     "output_type": "stream",
     "text": [
      "world hello\n",
      "Execution Time: 0.0s\n"
     ]
    }
   ],
   "source": [
    "world()"
   ]
  },
  {
   "cell_type": "code",
   "execution_count": 42,
   "metadata": {
    "collapsed": true
   },
   "outputs": [],
   "source": [
    "# Track Time"
   ]
  },
  {
   "cell_type": "code",
   "execution_count": 43,
   "metadata": {
    "collapsed": false
   },
   "outputs": [
    {
     "name": "stdout",
     "output_type": "stream",
     "text": [
      "Wall time: 0 ns\n"
     ]
    },
    {
     "data": {
      "text/plain": [
       "11"
      ]
     },
     "execution_count": 43,
     "metadata": {},
     "output_type": "execute_result"
    }
   ],
   "source": [
    "# Jupyter Notebook Magic Functions\n",
    "# %time 실행함수\n",
    "%time 1 + 10"
   ]
  },
  {
   "cell_type": "code",
   "execution_count": 44,
   "metadata": {
    "collapsed": false
   },
   "outputs": [
    {
     "name": "stdout",
     "output_type": "stream",
     "text": [
      "The slowest run took 140.69 times longer than the fastest. This could mean that an intermediate result is being cached.\n",
      "10000000 loops, best of 3: 44.9 ns per loop\n"
     ]
    }
   ],
   "source": [
    "%timeit 1 + 10"
   ]
  },
  {
   "cell_type": "code",
   "execution_count": 45,
   "metadata": {
    "collapsed": true
   },
   "outputs": [],
   "source": [
    "# _  : Single Underscore (to be private)\n",
    "# __ : Double Underscore (stored in globals)\n",
    "#  ex ) __spam == _classname__spam\n",
    "# 단, __는 클래스 이름이 붙기 때문에 상속시에 중복을 피할 수 있다\n",
    "\n",
    "# __init__(self, ...), __str__, __add__, __mul__\n",
    "# : 파이썬 내부적으로 이미 사용되고 있는 이름이다. \n",
    "# : 명시적으로 쓰지 마라.\n",
    "\n",
    "# private ( Student Class : _name )\n",
    "# 1. interpreter last 연산의 결과 ( _ )\n",
    "# 2. i don't care ( _ )\n",
    "# 3. Class, Method => private, built-in\n",
    "# 4. Localization ( _ )\n",
    "\n",
    "# Jupyter _\n",
    "# 1. interpreter last 연산 ( _(직전 연산), __(2번 전 연산) )\n",
    "# 2. 명시적인 input, output ( _N, _iN )"
   ]
  },
  {
   "cell_type": "code",
   "execution_count": 46,
   "metadata": {
    "collapsed": false
   },
   "outputs": [
    {
     "data": {
      "text/plain": [
       "30"
      ]
     },
     "execution_count": 46,
     "metadata": {},
     "output_type": "execute_result"
    }
   ],
   "source": [
    "10 + 20"
   ]
  },
  {
   "cell_type": "code",
   "execution_count": 47,
   "metadata": {
    "collapsed": false
   },
   "outputs": [],
   "source": [
    "# Meta Programming\n",
    "# eval('1+2')   => 3\n",
    "# eval(\"'hi' + 'a'\")  =>  'hia'\n",
    "# eval('divmod(4, 3)')  => (1, 1)\n",
    "# eval(_i184)  # Name Error"
   ]
  },
  {
   "cell_type": "code",
   "execution_count": 48,
   "metadata": {
    "collapsed": false
   },
   "outputs": [],
   "source": [
    "# _i184  # Name Error : 단일객체는 오류발생\n",
    "# _184   # Name Error"
   ]
  },
  {
   "cell_type": "code",
   "execution_count": 49,
   "metadata": {
    "collapsed": true
   },
   "outputs": [],
   "source": [
    "# 1. List Literal => \"[]\"\n",
    "# 2. list()"
   ]
  },
  {
   "cell_type": "code",
   "execution_count": 50,
   "metadata": {
    "collapsed": false
   },
   "outputs": [
    {
     "data": {
      "text/plain": [
       "[0, 1, 4, 9, 16, 25, 36, 49, 64, 81]"
      ]
     },
     "execution_count": 50,
     "metadata": {},
     "output_type": "execute_result"
    }
   ],
   "source": [
    "[i ** 2 for i in range(10)] \n",
    "# iterable 한 객체 ( for 문을 돌릴 수 있는 ) \n",
    "# iter/gen, list, set, tuple"
   ]
  },
  {
   "cell_type": "code",
   "execution_count": 51,
   "metadata": {
    "collapsed": false
   },
   "outputs": [
    {
     "data": {
      "text/plain": [
       "[0, 1, 4, 9, 16, 25, 36, 49, 64, 81]"
      ]
     },
     "execution_count": 51,
     "metadata": {},
     "output_type": "execute_result"
    }
   ],
   "source": [
    "list(map(\n",
    "    lambda i: i ** 2,\n",
    "    range(10)\n",
    "))"
   ]
  },
  {
   "cell_type": "code",
   "execution_count": 52,
   "metadata": {
    "collapsed": false
   },
   "outputs": [
    {
     "data": {
      "text/plain": [
       "[64, 81, 100]"
      ]
     },
     "execution_count": 52,
     "metadata": {},
     "output_type": "execute_result"
    }
   ],
   "source": [
    "# 1부터 10까지의 자연수 를 제곱해서 \n",
    "# 제곱한 결과 중에 50+ \n",
    "# [64, 81, 100]\n",
    "[\n",
    "    x ** 2                # Map::Lambda\n",
    "    for x\n",
    "    in range(1, 10 + 1)\n",
    "    if x ** 2 > 50        # Filter::Lambda\n",
    "]"
   ]
  },
  {
   "cell_type": "code",
   "execution_count": 53,
   "metadata": {
    "collapsed": false
   },
   "outputs": [
    {
     "data": {
      "text/plain": [
       "[64, 81, 100]"
      ]
     },
     "execution_count": 53,
     "metadata": {},
     "output_type": "execute_result"
    }
   ],
   "source": [
    "list(filter(\n",
    "    lambda x: x > 50,\n",
    "    map(\n",
    "        lambda x: x ** 2,\n",
    "        range(1, 10 + 1),\n",
    "    )\n",
    "))"
   ]
  },
  {
   "cell_type": "code",
   "execution_count": 54,
   "metadata": {
    "collapsed": true
   },
   "outputs": [],
   "source": [
    "# 1부터 10까지의 자연수 를 제곱해서 \n",
    "# 제곱한 결과 중에 50+ \n",
    "# [64, 81, 100]\n",
    "a = [\n",
    "    x ** 2                # Map::Lambda\n",
    "    for x\n",
    "    in range(1, 10 + 1)\n",
    "    if x ** 2 > 50        # Filter::Lambda\n",
    "]"
   ]
  },
  {
   "cell_type": "code",
   "execution_count": 55,
   "metadata": {
    "collapsed": false
   },
   "outputs": [
    {
     "data": {
      "text/plain": [
       "[64, 81, 100]"
      ]
     },
     "execution_count": 55,
     "metadata": {},
     "output_type": "execute_result"
    }
   ],
   "source": [
    "a"
   ]
  },
  {
   "cell_type": "code",
   "execution_count": 56,
   "metadata": {
    "collapsed": true
   },
   "outputs": [],
   "source": [
    "# 1부터 10까지의 자연수 를 제곱해서 \n",
    "# 제곱한 결과 중에 50+ \n",
    "# [64, 81, 100]\n",
    "b = (\n",
    "    x ** 2                # Map::Lambda\n",
    "    for x\n",
    "    in range(1, 10 + 1)\n",
    "    if x ** 2 > 50        # Filter::Lambda\n",
    ")"
   ]
  },
  {
   "cell_type": "code",
   "execution_count": 57,
   "metadata": {
    "collapsed": false
   },
   "outputs": [
    {
     "data": {
      "text/plain": [
       "64"
      ]
     },
     "execution_count": 57,
     "metadata": {},
     "output_type": "execute_result"
    }
   ],
   "source": [
    "next(b)"
   ]
  }
 ],
 "metadata": {
  "kernelspec": {
   "display_name": "Python 3",
   "language": "python",
   "name": "python3"
  },
  "language_info": {
   "codemirror_mode": {
    "name": "ipython",
    "version": 3
   },
   "file_extension": ".py",
   "mimetype": "text/x-python",
   "name": "python",
   "nbconvert_exporter": "python",
   "pygments_lexer": "ipython3",
   "version": "3.5.2"
  }
 },
 "nbformat": 4,
 "nbformat_minor": 1
}
