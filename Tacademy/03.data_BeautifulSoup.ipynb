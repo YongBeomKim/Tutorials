{
 "cells": [
  {
   "cell_type": "code",
   "execution_count": 1,
   "metadata": {
    "collapsed": true
   },
   "outputs": [],
   "source": [
    "# dobest.io ( 블로그 ) \n",
    "\n",
    "# 크롤링 => 스크래핑(링크), 크롤링(페이지), 파싱(추출)\n",
    "#                     크롤링 = (스크래핑) + 크롤링 + 파싱(*)"
   ]
  },
  {
   "cell_type": "code",
   "execution_count": 2,
   "metadata": {
    "collapsed": true
   },
   "outputs": [],
   "source": [
    "# 데이터(리소스)\n",
    "\n",
    "# 데이터베이스 소스 X\n",
    "# 윈도우 프로그램 / 웹 사이트 ( 데스크탑, 모바일 ) / 모바일 어플리케이션"
   ]
  },
  {
   "cell_type": "code",
   "execution_count": 3,
   "metadata": {
    "collapsed": true
   },
   "outputs": [],
   "source": [
    "# 1. 웹사이트 ( HTML(구조), CSS(스타일), Javascript(동적인 기능) )\n",
    "\n",
    "# 1.1. 정적인 사이트 ( Server Rendering )\n",
    "# 1.2. 동적인 사이트 ( Client/Javascript Rendering )\n",
    "# 1.3. iFrame 으로 이루어진 사이트 ( 네이버 카페, 인트라넷, 공공기관 )\n",
    "# 1.4. Javascript 으로만 동작하는 사이트"
   ]
  },
  {
   "cell_type": "code",
   "execution_count": 4,
   "metadata": {
    "collapsed": true
   },
   "outputs": [],
   "source": [
    "# 1. 크롤링\n",
    "#      HTML 파일을 다운로드 ( .html )\n",
    "# 2. 파싱 \n",
    "#      어떻게 추출해야지 가장 쉽게 할 수 있을까?\n",
    "#      html, css, js\n",
    "#      css를 가지고 html element 를 명시하는 방법\n",
    "#      css selector ( div > ul > li, div#realrank > li )"
   ]
  },
  {
   "cell_type": "code",
   "execution_count": 5,
   "metadata": {
    "collapsed": true
   },
   "outputs": [],
   "source": [
    "# https://dobest.io/\n",
    "url = \"https://dobest.io/\""
   ]
  },
  {
   "cell_type": "code",
   "execution_count": 6,
   "metadata": {
    "collapsed": false
   },
   "outputs": [],
   "source": [
    "import requests"
   ]
  },
  {
   "cell_type": "code",
   "execution_count": 7,
   "metadata": {
    "collapsed": false
   },
   "outputs": [],
   "source": [
    "response = requests.get(url)"
   ]
  },
  {
   "cell_type": "code",
   "execution_count": 8,
   "metadata": {
    "collapsed": false
   },
   "outputs": [],
   "source": [
    "# 우리가 찾으려고 하는 것\n",
    "# 제목들만 리스트 형태로 뽑자."
   ]
  },
  {
   "cell_type": "code",
   "execution_count": 9,
   "metadata": {
    "collapsed": false
   },
   "outputs": [],
   "source": [
    "# article ( class = \"post\" \".\" )\n",
    "# header\n",
    "# h1\n",
    "# text\n",
    "\n",
    "# class (\".\"), id (\"#\")\n",
    "css_selector = \"article.post header h1\""
   ]
  },
  {
   "cell_type": "code",
   "execution_count": 10,
   "metadata": {
    "collapsed": false
   },
   "outputs": [],
   "source": [
    "# 파싱을 도와주는 라이브러리 - beautifulsoup, lxml"
   ]
  },
  {
   "cell_type": "code",
   "execution_count": 11,
   "metadata": {
    "collapsed": true
   },
   "outputs": [],
   "source": [
    "from bs4 import BeautifulSoup"
   ]
  },
  {
   "cell_type": "code",
   "execution_count": 12,
   "metadata": {
    "collapsed": true
   },
   "outputs": [],
   "source": [
    "dom = BeautifulSoup(response.text, \"html.parser\")\n",
    "# dom ( document object model )\n",
    "# html > head, body > div, article .. "
   ]
  },
  {
   "cell_type": "code",
   "execution_count": 13,
   "metadata": {
    "collapsed": false
   },
   "outputs": [],
   "source": [
    "title_elements = dom.select(css_selector)"
   ]
  },
  {
   "cell_type": "code",
   "execution_count": 14,
   "metadata": {
    "collapsed": true
   },
   "outputs": [],
   "source": [
    "title_element = title_elements[0]\n",
    "\n",
    "# $ pip install requests ( = web request )\n",
    "# $ pip install beautifulsoup4\n",
    "\n",
    "# 네이버 메인페이지의 실시간 검색어 10개 "
   ]
  },
  {
   "cell_type": "code",
   "execution_count": 15,
   "metadata": {
    "collapsed": false
   },
   "outputs": [
    {
     "data": {
      "text/plain": [
       "['postgresql 에서 한글 정렬 문제 해결하기',\n",
       " '[강의 소개] Node.js 로 시작하는 웹 프로그래밍',\n",
       " '[강의 소개] 업무 자동화를 위한 파이썬',\n",
       " 'Sentry 를 이용한 Node.js 에러 모니터링',\n",
       " '오픈소스 네이밍: 에러 모니터링을 위한 Sentry 와 스타크래프트2',\n",
       " 'autotrack 을 이용한 구글 어낼리틱스 이벤트 트래킹 자동화',\n",
       " 'Node.js 에서 한글 인코딩 문제 해결하기']"
      ]
     },
     "execution_count": 15,
     "metadata": {},
     "output_type": "execute_result"
    }
   ],
   "source": [
    "[\n",
    "    title_element.select_one(\"a\").text\n",
    "    for title_element\n",
    "    in title_elements\n",
    "]"
   ]
  },
  {
   "cell_type": "code",
   "execution_count": 16,
   "metadata": {
    "collapsed": true
   },
   "outputs": [],
   "source": [
    "response = requests.get(\"http://www.naver.com/\")\n",
    "dom = BeautifulSoup(response.text, \"html.parser\")"
   ]
  },
  {
   "cell_type": "code",
   "execution_count": 17,
   "metadata": {
    "collapsed": false
   },
   "outputs": [],
   "source": [
    "# class => \".\" => page 내에서 공통점이 있는 elements\n",
    "# id => \"#\" => page 내에서 unique 한 element\n",
    "\n",
    "rank_elements = dom.select(\"ol#realrank li\")"
   ]
  },
  {
   "cell_type": "code",
   "execution_count": 18,
   "metadata": {
    "collapsed": false
   },
   "outputs": [],
   "source": [
    "rank_elements = dom.select(\"ol#realrank li\")\n",
    "rank_element = rank_elements[0]"
   ]
  },
  {
   "cell_type": "code",
   "execution_count": 19,
   "metadata": {
    "collapsed": false
   },
   "outputs": [],
   "source": [
    "# rank_element\n",
    "\n",
    "# 문제제기: 네이버 메인페이지에서 봤던 코드랑 살짝 다르다.\n",
    "# 이유: 네이버에서 실검 서버 렌더링 되었다가 클라어인트에서 수정됨.\n",
    "\n",
    "# 방법1: title=\"최홍만\"\n",
    "# 방법2: a 태그 안에 있는 \"최홍만\""
   ]
  },
  {
   "cell_type": "code",
   "execution_count": 20,
   "metadata": {
    "collapsed": false
   },
   "outputs": [],
   "source": [
    "# rank_element.select_one(\"a\").text.split(\"상승\")[0]"
   ]
  },
  {
   "cell_type": "code",
   "execution_count": 21,
   "metadata": {
    "collapsed": false
   },
   "outputs": [
    {
     "data": {
      "text/plain": [
       "'어글리몬스터'"
      ]
     },
     "execution_count": 21,
     "metadata": {},
     "output_type": "execute_result"
    }
   ],
   "source": [
    "rank_elements = dom.select(\"ol#realrank li\")\n",
    "rank_element = rank_elements[0]\n",
    "rank_element.select_one(\"a\").attrs.get(\"title\")"
   ]
  },
  {
   "cell_type": "code",
   "execution_count": 22,
   "metadata": {
    "collapsed": false
   },
   "outputs": [
    {
     "data": {
      "text/plain": [
       "['어글리몬스터',\n",
       " 'ufc',\n",
       " '박선규',\n",
       " '설민석',\n",
       " '미세먼지',\n",
       " '부산날씨',\n",
       " '아버님 제가 모실게요',\n",
       " '황우슬혜',\n",
       " '김제동',\n",
       " 'nba']"
      ]
     },
     "execution_count": 22,
     "metadata": {},
     "output_type": "execute_result"
    }
   ],
   "source": [
    "[\n",
    "    rank_element.select_one(\"a\").attrs.get(\"title\")\n",
    "    for rank_element\n",
    "    in rank_elements\n",
    "][:-1]"
   ]
  },
  {
   "cell_type": "code",
   "execution_count": 23,
   "metadata": {
    "collapsed": true
   },
   "outputs": [],
   "source": [
    "# 웹 서버 렌더링 \n",
    "# 1. 크롤링 - pagination, auth, 어떤 알 수 없는 이유?\n",
    "# 2. 파싱 \n",
    "# -----------------------------------------------\n",
    "# 다음 블로그 검색결과 를 크롤링하는 함수 \n",
    "# input: keyword, page"
   ]
  },
  {
   "cell_type": "code",
   "execution_count": 24,
   "metadata": {
    "collapsed": false
   },
   "outputs": [
    {
     "name": "stdout",
     "output_type": "stream",
     "text": [
      "10\n"
     ]
    },
    {
     "data": {
      "text/plain": [
       "['파이썬학원 찾으시나요?',\n",
       " '파이썬 리눅스 함께 공부해야한다!',\n",
       " 'IT뱅크 파이썬학원 수강료조회',\n",
       " '파이썬 프로그래밍 전문교육 학원을 알아보자!',\n",
       " '파이썬 설치하기',\n",
       " '나노 서버에 파이썬과 장고 실행하기',\n",
       " '파이썬 하나면 모든지 가능하다',\n",
       " '파이썬(Python) 설치',\n",
       " '파이썬 프로그래밍 초보자에게 필요한 1순위 언어',\n",
       " '12월 프로그래밍 기초 파이썬 강좌 안내']"
      ]
     },
     "execution_count": 24,
     "metadata": {},
     "output_type": "execute_result"
    }
   ],
   "source": [
    "KEYWORD = \"파이썬\"\n",
    "# URL에 표시되지 않을수도 있습니다.\n",
    "# HTTP Method ( GET, POST )\n",
    "\n",
    "# http://search.daum.net/search?w=blog&nil_search=btn&DA=NTB&enc=utf8&q=파이썬\n",
    "\n",
    "# URL Querysting\n",
    "# http\n",
    "# search.daum.net\n",
    "# /search\n",
    "# data: ?w=blog&q=파이썬\n",
    "\n",
    "def crawl_daum_blog_page(keyword, page=\"1\"):\n",
    "    url = \"http://search.daum.net/search?w=blog&q={keyword}&page={page}\".format(\n",
    "        keyword=keyword,\n",
    "        page=str(page),\n",
    "    )\n",
    "    response = requests.get(url)\n",
    "    dom = BeautifulSoup(response.text, \"html.parser\")\n",
    "    post_elements = dom.select(\"ul#blogResultUl li\")\n",
    "    print(len(post_elements))\n",
    "    titles = [\n",
    "        post_element.select_one(\".wrap_tit a\").text\n",
    "        for post_element\n",
    "        in post_elements\n",
    "    ]\n",
    "    return titles\n",
    "\n",
    "    # 2페이지, 3페이지 ... n 페이지 ( page 정보는 url 에 어떻게 들어갈까? )\n",
    "\n",
    "crawl_daum_blog_page(KEYWORD, 3)"
   ]
  },
  {
   "cell_type": "code",
   "execution_count": 25,
   "metadata": {
    "collapsed": true
   },
   "outputs": [],
   "source": [
    "# SelectorGadget ( chrome webstore ) - element, class, id\n",
    "# User-Agent Switcher for Google Chrome\n",
    "\n",
    "# HTTP Request \n",
    "# 1. URL\n",
    "# 2. HTTP Method ( GET, POST, PUT, PATCH, DELETE )\n",
    "# 3. Data\n",
    "# 4. Headers (*) - /search/?q=파이썬\n",
    "#    - User-Agent: \"Mozilla/5.0 (Macintosh; Intel Mac OS X 10_12_1) AppleWebKit/537.36 (KHTML, like Gecko) Chrome/56.0.2910.0 Safari/537.36\"\n",
    "\n",
    "# HTTP Response"
   ]
  },
  {
   "cell_type": "code",
   "execution_count": 26,
   "metadata": {
    "collapsed": true
   },
   "outputs": [],
   "source": [
    "# play.dobest.io ( JAPAN )\n",
    "response = requests.get(\"https://search.naver.com/search.naver?where=post&sm=tab_jum&ie=utf8&query=%ED%8C%8C%EC%9D%B4%EC%8D%AC\")"
   ]
  },
  {
   "cell_type": "code",
   "execution_count": 27,
   "metadata": {
    "collapsed": false
   },
   "outputs": [],
   "source": [
    "# response.text"
   ]
  },
  {
   "cell_type": "code",
   "execution_count": 28,
   "metadata": {
    "collapsed": true
   },
   "outputs": [],
   "source": [
    "IPAD_USER_AGENT = \"Mozilla/5.0(iPad; U; CPU iPhone OS 3_2 like Mac OS X; en-us) AppleWebKit/531.21.10 (KHTML, like Gecko) Version/4.0.4 Mobile/7B314 Safari/531.21.10\""
   ]
  },
  {
   "cell_type": "code",
   "execution_count": 29,
   "metadata": {
    "collapsed": true
   },
   "outputs": [],
   "source": [
    "response = requests.get(\n",
    "    \"https://search.naver.com/search.naver?where=post&sm=tab_jum&ie=utf8&query=%ED%8C%8C%EC%9D%B4%EC%8D%AC\",\n",
    "    headers={\n",
    "        \"User-Agent\": IPAD_USER_AGENT,\n",
    "        # Authentication \n",
    "    }\n",
    ")"
   ]
  },
  {
   "cell_type": "code",
   "execution_count": 30,
   "metadata": {
    "collapsed": true
   },
   "outputs": [],
   "source": [
    "dom = BeautifulSoup(response.text, \"html.parser\")"
   ]
  },
  {
   "cell_type": "code",
   "execution_count": 31,
   "metadata": {
    "collapsed": false
   },
   "outputs": [
    {
     "data": {
      "text/plain": [
       "['파이썬 프로그래밍 초보자에게 필요한 1순위 언어',\n",
       " '파이썬학원 기초부터 탄탄하게 배워야합니다',\n",
       " '파이썬강좌 멀리서 찾지마세요',\n",
       " '파이썬프로그래밍 배워봅시다!',\n",
       " '파이썬 프로그래밍 교육 기초부터 알차게 시작하자!',\n",
       " '파이썬 공부 쉽게하기',\n",
       " '파이썬- 생산성 높은 프로그래밍 언어',\n",
       " '[모두의 파이썬] 나도 코딩하는 여자! ^^',\n",
       " '파이썬 웹 프로그래밍 강좌 11월소식',\n",
       " '파이썬(python) 공부하기 04',\n",
       " '안랩쌤과 함께하는 맘잡고 코딩 파이썬 기초과정',\n",
       " '파이썬 플라스크 HTML 연결 및 변수 받아오기',\n",
       " '파이썬강좌 코드잇에서 공부하세요!',\n",
       " '마인크래프트로 배우는 파이썬 프로그래밍 리뷰',\n",
       " 'Docker로 파이썬 배포 운영하기']"
      ]
     },
     "execution_count": 31,
     "metadata": {},
     "output_type": "execute_result"
    }
   ],
   "source": [
    "[\n",
    "    title_element.text\n",
    "    for title_element\n",
    "    in dom.select(\".total_tit\")\n",
    "]"
   ]
  }
 ],
 "metadata": {
  "kernelspec": {
   "display_name": "Python 3",
   "language": "python",
   "name": "python3"
  },
  "language_info": {
   "codemirror_mode": {
    "name": "ipython",
    "version": 3
   },
   "file_extension": ".py",
   "mimetype": "text/x-python",
   "name": "python",
   "nbconvert_exporter": "python",
   "pygments_lexer": "ipython3",
   "version": "3.5.2"
  }
 },
 "nbformat": 4,
 "nbformat_minor": 1
}
