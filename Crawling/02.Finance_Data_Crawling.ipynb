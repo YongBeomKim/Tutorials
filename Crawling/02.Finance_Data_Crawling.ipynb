{
 "cells": [
  {
   "cell_type": "markdown",
   "metadata": {},
   "source": [
    "# Financial Data Crawling\n",
    "http://erikrood.com/Python_References/dropping_rows_cols_pandas.html"
   ]
  },
  {
   "cell_type": "markdown",
   "metadata": {},
   "source": [
    "## 1. Price \n",
    "### 01. Real Data\n",
    "20min Delayed Data\n",
    "\n",
    "    \"d1\":\"Date Last Trade\",\"n\":\"Name\",\"f6\":\"Shares\",\"v\":\"Volume\",\"a2\":\"Volume Average Daily\",\n",
    "    \"l1\":\"Price(Last Trade)\",\"p\":\"Price(D-1)\",\"o\":\"Open\",\"g\":\"Low\",\"h\":\"High\",\n",
    "    \"c1\":\"Change\",\"p2\":\"Change in Percent\""
   ]
  },
  {
   "cell_type": "code",
   "execution_count": 1,
   "metadata": {},
   "outputs": [
    {
     "data": {
      "text/html": [
       "<div>\n",
       "<table border=\"1\" class=\"dataframe\">\n",
       "  <thead>\n",
       "    <tr style=\"text-align: right;\">\n",
       "      <th></th>\n",
       "      <th>Open</th>\n",
       "      <th>High</th>\n",
       "      <th>Low</th>\n",
       "      <th>Price(Last Trade)</th>\n",
       "      <th>Change in Percent</th>\n",
       "      <th>Volume</th>\n",
       "      <th>Shares</th>\n",
       "      <th>Date Last Trade</th>\n",
       "      <th>Code</th>\n",
       "    </tr>\n",
       "  </thead>\n",
       "  <tbody>\n",
       "    <tr>\n",
       "      <th>0</th>\n",
       "      <td>2521000.0</td>\n",
       "      <td>2544000.0</td>\n",
       "      <td>2518000.0</td>\n",
       "      <td>2536000.0</td>\n",
       "      <td>+0.16%</td>\n",
       "      <td>93139</td>\n",
       "      <td>97668000</td>\n",
       "      <td>7/18/2017</td>\n",
       "      <td>005930.KS</td>\n",
       "    </tr>\n",
       "  </tbody>\n",
       "</table>\n",
       "</div>"
      ],
      "text/plain": [
       "        Open       High        Low  Price(Last Trade) Change in Percent  \\\n",
       "0  2521000.0  2544000.0  2518000.0          2536000.0            +0.16%   \n",
       "\n",
       "   Volume    Shares Date Last Trade       Code  \n",
       "0   93139  97668000       7/18/2017  005930.KS  "
      ]
     },
     "execution_count": 1,
     "metadata": {},
     "output_type": "execute_result"
    }
   ],
   "source": [
    "code = '005930.KS'\n",
    "from Scrpy.krx_scraping import Yahoo_api\n",
    "Yahoo_api( code ,['o','h','g','l1','p2','v','f6','d1'])"
   ]
  },
  {
   "cell_type": "code",
   "execution_count": 2,
   "metadata": {
    "scrolled": false
   },
   "outputs": [
    {
     "data": {
      "text/html": [
       "<div>\n",
       "<table border=\"1\" class=\"dataframe\">\n",
       "  <thead>\n",
       "    <tr style=\"text-align: right;\">\n",
       "      <th></th>\n",
       "      <th>Open</th>\n",
       "      <th>High</th>\n",
       "      <th>Low</th>\n",
       "      <th>Price(Last Trade)</th>\n",
       "      <th>Change in Percent</th>\n",
       "      <th>Volume</th>\n",
       "      <th>Shares</th>\n",
       "      <th>Date Last Trade</th>\n",
       "      <th>Code</th>\n",
       "    </tr>\n",
       "  </thead>\n",
       "  <tbody>\n",
       "    <tr>\n",
       "      <th>0</th>\n",
       "      <td>51800.0</td>\n",
       "      <td>51800.0</td>\n",
       "      <td>51300.0</td>\n",
       "      <td>51800.0</td>\n",
       "      <td>+1.17%</td>\n",
       "      <td>46405</td>\n",
       "      <td>NaN</td>\n",
       "      <td>7/18/2017</td>\n",
       "      <td>053800.KQ</td>\n",
       "    </tr>\n",
       "  </tbody>\n",
       "</table>\n",
       "</div>"
      ],
      "text/plain": [
       "      Open     High      Low  Price(Last Trade) Change in Percent  Volume  \\\n",
       "0  51800.0  51800.0  51300.0            51800.0            +1.17%   46405   \n",
       "\n",
       "   Shares Date Last Trade       Code  \n",
       "0     NaN       7/18/2017  053800.KQ  "
      ]
     },
     "execution_count": 2,
     "metadata": {},
     "output_type": "execute_result"
    }
   ],
   "source": [
    "Yahoo_api('053800.KQ',['o','h','g','l1','p2','v','f6','d1']) # 코스닥은 일부 자료가 미출력"
   ]
  },
  {
   "cell_type": "markdown",
   "metadata": {},
   "source": [
    "### 02. Price History Data\n",
    "Delayed Data"
   ]
  },
  {
   "cell_type": "code",
   "execution_count": 3,
   "metadata": {
    "scrolled": true
   },
   "outputs": [
    {
     "data": {
      "text/html": [
       "<div>\n",
       "<table border=\"1\" class=\"dataframe\">\n",
       "  <thead>\n",
       "    <tr style=\"text-align: right;\">\n",
       "      <th></th>\n",
       "      <th>Open</th>\n",
       "      <th>High</th>\n",
       "      <th>Low</th>\n",
       "      <th>Close</th>\n",
       "      <th>Adj Close</th>\n",
       "      <th>Volume</th>\n",
       "    </tr>\n",
       "    <tr>\n",
       "      <th>Date</th>\n",
       "      <th></th>\n",
       "      <th></th>\n",
       "      <th></th>\n",
       "      <th></th>\n",
       "      <th></th>\n",
       "      <th></th>\n",
       "    </tr>\n",
       "  </thead>\n",
       "  <tbody>\n",
       "    <tr>\n",
       "      <th>2017-07-03</th>\n",
       "      <td>2375000.0</td>\n",
       "      <td>2389000.0</td>\n",
       "      <td>2356000.0</td>\n",
       "      <td>2361000.0</td>\n",
       "      <td>2361000.0</td>\n",
       "      <td>136111</td>\n",
       "    </tr>\n",
       "    <tr>\n",
       "      <th>2017-07-04</th>\n",
       "      <td>2358000.0</td>\n",
       "      <td>2370000.0</td>\n",
       "      <td>2345000.0</td>\n",
       "      <td>2350000.0</td>\n",
       "      <td>2350000.0</td>\n",
       "      <td>159220</td>\n",
       "    </tr>\n",
       "    <tr>\n",
       "      <th>2017-07-05</th>\n",
       "      <td>2341000.0</td>\n",
       "      <td>2384000.0</td>\n",
       "      <td>2339000.0</td>\n",
       "      <td>2379000.0</td>\n",
       "      <td>2379000.0</td>\n",
       "      <td>212805</td>\n",
       "    </tr>\n",
       "    <tr>\n",
       "      <th>2017-07-06</th>\n",
       "      <td>2400000.0</td>\n",
       "      <td>2405000.0</td>\n",
       "      <td>2386000.0</td>\n",
       "      <td>2403000.0</td>\n",
       "      <td>2403000.0</td>\n",
       "      <td>218461</td>\n",
       "    </tr>\n",
       "    <tr>\n",
       "      <th>2017-07-07</th>\n",
       "      <td>2387000.0</td>\n",
       "      <td>2406000.0</td>\n",
       "      <td>2381000.0</td>\n",
       "      <td>2393000.0</td>\n",
       "      <td>2393000.0</td>\n",
       "      <td>162638</td>\n",
       "    </tr>\n",
       "    <tr>\n",
       "      <th>2017-07-10</th>\n",
       "      <td>2425000.0</td>\n",
       "      <td>2445000.0</td>\n",
       "      <td>2416000.0</td>\n",
       "      <td>2433000.0</td>\n",
       "      <td>2433000.0</td>\n",
       "      <td>215855</td>\n",
       "    </tr>\n",
       "    <tr>\n",
       "      <th>2017-07-11</th>\n",
       "      <td>2432000.0</td>\n",
       "      <td>2450000.0</td>\n",
       "      <td>2414000.0</td>\n",
       "      <td>2450000.0</td>\n",
       "      <td>2450000.0</td>\n",
       "      <td>194356</td>\n",
       "    </tr>\n",
       "    <tr>\n",
       "      <th>2017-07-12</th>\n",
       "      <td>2450000.0</td>\n",
       "      <td>2500000.0</td>\n",
       "      <td>2442000.0</td>\n",
       "      <td>2494000.0</td>\n",
       "      <td>2494000.0</td>\n",
       "      <td>189723</td>\n",
       "    </tr>\n",
       "    <tr>\n",
       "      <th>2017-07-13</th>\n",
       "      <td>2504000.0</td>\n",
       "      <td>2547000.0</td>\n",
       "      <td>2502000.0</td>\n",
       "      <td>2528000.0</td>\n",
       "      <td>2528000.0</td>\n",
       "      <td>320683</td>\n",
       "    </tr>\n",
       "    <tr>\n",
       "      <th>2017-07-14</th>\n",
       "      <td>2550000.0</td>\n",
       "      <td>2554000.0</td>\n",
       "      <td>2521000.0</td>\n",
       "      <td>2524000.0</td>\n",
       "      <td>2524000.0</td>\n",
       "      <td>164780</td>\n",
       "    </tr>\n",
       "  </tbody>\n",
       "</table>\n",
       "</div>"
      ],
      "text/plain": [
       "                 Open       High        Low      Close  Adj Close  Volume\n",
       "Date                                                                     \n",
       "2017-07-03  2375000.0  2389000.0  2356000.0  2361000.0  2361000.0  136111\n",
       "2017-07-04  2358000.0  2370000.0  2345000.0  2350000.0  2350000.0  159220\n",
       "2017-07-05  2341000.0  2384000.0  2339000.0  2379000.0  2379000.0  212805\n",
       "2017-07-06  2400000.0  2405000.0  2386000.0  2403000.0  2403000.0  218461\n",
       "2017-07-07  2387000.0  2406000.0  2381000.0  2393000.0  2393000.0  162638\n",
       "2017-07-10  2425000.0  2445000.0  2416000.0  2433000.0  2433000.0  215855\n",
       "2017-07-11  2432000.0  2450000.0  2414000.0  2450000.0  2450000.0  194356\n",
       "2017-07-12  2450000.0  2500000.0  2442000.0  2494000.0  2494000.0  189723\n",
       "2017-07-13  2504000.0  2547000.0  2502000.0  2528000.0  2528000.0  320683\n",
       "2017-07-14  2550000.0  2554000.0  2521000.0  2524000.0  2524000.0  164780"
      ]
     },
     "execution_count": 3,
     "metadata": {},
     "output_type": "execute_result"
    }
   ],
   "source": [
    "from pandas_datareader import get_data_yahoo   # Yahoo 가 그나마 빠르게 업데이트 (당일 4시정도)\n",
    "get_data_yahoo( code ,'2017-7-1','2017-7-15')"
   ]
  },
  {
   "cell_type": "markdown",
   "metadata": {},
   "source": [
    "## 2. Trader  Data\n",
    "### 01. Trader's Valume Data ( Shinhan )\n",
    "after close market"
   ]
  },
  {
   "cell_type": "code",
   "execution_count": 4,
   "metadata": {
    "scrolled": true
   },
   "outputs": [
    {
     "name": "stdout",
     "output_type": "stream",
     "text": [
      "        Code          날짜     개인    외국인계    기관계     증권    투신   은행     종금  \\\n",
      "0  005930.KS  2017/07/18      0       0      0      0     0    0    0.0   \n",
      "1  005930.KS  2017/07/17  -2054  -13383   -948  13251    63  114 -130.0   \n",
      "2  005930.KS  2017/07/14   1547  -13429  -4306   9626  -306   18 -165.0   \n",
      "\n",
      "       보험      기금       기타  \n",
      "0     0.0     0.0      0.0  \n",
      "1 -1846.0  4921.0  16206.0  \n",
      "2 -3421.0  1370.0  16155.0  \n"
     ]
    }
   ],
   "source": [
    "#df.index = pd.to_datetime(df.index)\n",
    "from Scrpy.krx_scraping import shinhan_trader\n",
    "df = shinhan_trader( code ,3)\n",
    "print(df)"
   ]
  },
  {
   "cell_type": "markdown",
   "metadata": {},
   "source": [
    "### 02. Top Trader Data (daum)\n",
    "다음사이트 상위거래원 10 거래원 목록 크롤링"
   ]
  },
  {
   "cell_type": "code",
   "execution_count": 1,
   "metadata": {
    "collapsed": true
   },
   "outputs": [],
   "source": [
    "# Daum 코스닥 기업목록 불러오기\n",
    "# Pandas 만 활용할 때 보다 3 ~ 5배 빨라짐 ^^;\n",
    "import pandas as pd\n",
    "codes = pd.read_csv('./Scrpy/28W5KQ.csv',sep=',',encoding='cp949')\n",
    "codes = list(codes.코드)"
   ]
  },
  {
   "cell_type": "code",
   "execution_count": 2,
   "metadata": {},
   "outputs": [
    {
     "name": "stdout",
     "output_type": "stream",
     "text": [
      "  30 /  200  0 min 11 sec, [Estimate  1 min, 14 sec ]\n",
      "  60 /  200  0 min 20 sec, [Estimate  1 min,  7 sec ]\n",
      "  90 /  200  0 min 28 sec, [Estimate  1 min,  3 sec ]\n",
      " 120 /  200  0 min 36 sec, [Estimate  1 min,  0 sec ]\n",
      " 150 /  200  0 min 45 sec, [Estimate  1 min,  0 sec ]\n",
      " 180 /  200  0 min 55 sec, [Estimate  1 min,  1 sec ]\n",
      "        Code     거래원       매도       매수       순매매\n",
      "0  006570.KQ    현  대       34        0       -34\n",
      "1  006570.KQ    대  신        1       34       +33\n",
      "2  006570.KQ    유진증권        0        1        +1\n",
      "3  015590.KQ  NH투자증권  169,297    9,328  -159,969\n",
      "4  015590.KQ    키움증권  101,325  103,298    +1,973\n"
     ]
    }
   ],
   "source": [
    "from Scrpy.krx_scraping import daum_trader\n",
    "trader = daum_trader(codes[:200])\n",
    "print(trader.head(5))"
   ]
  },
  {
   "cell_type": "code",
   "execution_count": 22,
   "metadata": {},
   "outputs": [
    {
     "data": {
      "text/html": [
       "<div>\n",
       "<table border=\"1\" class=\"dataframe\">\n",
       "  <thead>\n",
       "    <tr style=\"text-align: right;\">\n",
       "      <th></th>\n",
       "      <th>Code</th>\n",
       "      <th>거래원</th>\n",
       "      <th>매도</th>\n",
       "      <th>매수</th>\n",
       "      <th>순매매</th>\n",
       "    </tr>\n",
       "  </thead>\n",
       "  <tbody>\n",
       "    <tr>\n",
       "      <th>1</th>\n",
       "      <td>005930.KS</td>\n",
       "      <td>한국증권</td>\n",
       "      <td>5,133</td>\n",
       "      <td>11,814</td>\n",
       "      <td>6681</td>\n",
       "    </tr>\n",
       "    <tr>\n",
       "      <th>5</th>\n",
       "      <td>005930.KS</td>\n",
       "      <td>제이피모간</td>\n",
       "      <td>0</td>\n",
       "      <td>5,799</td>\n",
       "      <td>5799</td>\n",
       "    </tr>\n",
       "    <tr>\n",
       "      <th>3</th>\n",
       "      <td>005930.KS</td>\n",
       "      <td>삼  성</td>\n",
       "      <td>5,729</td>\n",
       "      <td>11,272</td>\n",
       "      <td>5543</td>\n",
       "    </tr>\n",
       "    <tr>\n",
       "      <th>7</th>\n",
       "      <td>005930.KS</td>\n",
       "      <td>S  K</td>\n",
       "      <td>0</td>\n",
       "      <td>4,247</td>\n",
       "      <td>4247</td>\n",
       "    </tr>\n",
       "    <tr>\n",
       "      <th>9</th>\n",
       "      <td>005930.KS</td>\n",
       "      <td>NH투자증권</td>\n",
       "      <td>0</td>\n",
       "      <td>1,228</td>\n",
       "      <td>1228</td>\n",
       "    </tr>\n",
       "    <tr>\n",
       "      <th>4</th>\n",
       "      <td>005930.KS</td>\n",
       "      <td>모건스탠리</td>\n",
       "      <td>7,324</td>\n",
       "      <td>6,621</td>\n",
       "      <td>-703</td>\n",
       "    </tr>\n",
       "    <tr>\n",
       "      <th>11</th>\n",
       "      <td>005930.KS</td>\n",
       "      <td>씨티그룹</td>\n",
       "      <td>763</td>\n",
       "      <td>0</td>\n",
       "      <td>-763</td>\n",
       "    </tr>\n",
       "    <tr>\n",
       "      <th>10</th>\n",
       "      <td>005930.KS</td>\n",
       "      <td>메릴린치</td>\n",
       "      <td>1,431</td>\n",
       "      <td>0</td>\n",
       "      <td>-1431</td>\n",
       "    </tr>\n",
       "    <tr>\n",
       "      <th>8</th>\n",
       "      <td>005930.KS</td>\n",
       "      <td>맥쿼리</td>\n",
       "      <td>2,046</td>\n",
       "      <td>0</td>\n",
       "      <td>-2046</td>\n",
       "    </tr>\n",
       "    <tr>\n",
       "      <th>6</th>\n",
       "      <td>005930.KS</td>\n",
       "      <td>대 우</td>\n",
       "      <td>5,316</td>\n",
       "      <td>1,580</td>\n",
       "      <td>-3736</td>\n",
       "    </tr>\n",
       "    <tr>\n",
       "      <th>2</th>\n",
       "      <td>005930.KS</td>\n",
       "      <td>CLSA</td>\n",
       "      <td>8,002</td>\n",
       "      <td>0</td>\n",
       "      <td>-8002</td>\n",
       "    </tr>\n",
       "    <tr>\n",
       "      <th>0</th>\n",
       "      <td>005930.KS</td>\n",
       "      <td>한  화</td>\n",
       "      <td>8,482</td>\n",
       "      <td>0</td>\n",
       "      <td>-8482</td>\n",
       "    </tr>\n",
       "  </tbody>\n",
       "</table>\n",
       "</div>"
      ],
      "text/plain": [
       "         Code     거래원     매도      매수   순매매\n",
       "1   005930.KS    한국증권  5,133  11,814  6681\n",
       "5   005930.KS   제이피모간      0   5,799  5799\n",
       "3   005930.KS    삼  성  5,729  11,272  5543\n",
       "7   005930.KS    S  K      0   4,247  4247\n",
       "9   005930.KS  NH투자증권      0   1,228  1228\n",
       "4   005930.KS   모건스탠리  7,324   6,621  -703\n",
       "11  005930.KS    씨티그룹    763       0  -763\n",
       "10  005930.KS    메릴린치  1,431       0 -1431\n",
       "8   005930.KS     맥쿼리  2,046       0 -2046\n",
       "6   005930.KS     대 우  5,316   1,580 -3736\n",
       "2   005930.KS    CLSA  8,002       0 -8002\n",
       "0   005930.KS    한  화  8,482       0 -8482"
      ]
     },
     "execution_count": 22,
     "metadata": {},
     "output_type": "execute_result"
    }
   ],
   "source": [
    "import re\n",
    "samsung = daum_trader('005930.KS')\n",
    "samsung.순매매 = [int(re.sub(',','',x)) for x in samsung.순매매]\n",
    "samsung.sort_values('순매매',ascending=False)"
   ]
  },
  {
   "cell_type": "markdown",
   "metadata": {
    "collapsed": true
   },
   "source": [
    "## 3. Short Trading Data\n",
    "### 01. Paxnet 공매도 데이터\n",
    "공매도 자료 (모든 기업이 다 있는건 아니다)"
   ]
  },
  {
   "cell_type": "code",
   "execution_count": 8,
   "metadata": {
    "scrolled": true
   },
   "outputs": [
    {
     "name": "stdout",
     "output_type": "stream",
     "text": [
      "            0        1       2      3       4           5\n",
      "0          일자       종가     거래량   매매비중  차입증권매도         NaN\n",
      "1      공매도 수량   금액(천원)     NaN    NaN     NaN         NaN\n",
      "2  2017/07/17  2532000  157263  0.37%     584   1485015.0\n",
      "3  2017/07/14  2524000  159725  4.32%    6897  17473666.0\n"
     ]
    }
   ],
   "source": [
    "import pandas as pd\n",
    "short = pd.read_html(\"http://paxnet.moneta.co.kr/stock/stockIntro/shortSale/\"\n",
    "                     \"shortSaleList.jsp?code=\"+code[:-3]+\"&p_curr_page=1\")[0]\n",
    "print(short.head(4))"
   ]
  },
  {
   "cell_type": "markdown",
   "metadata": {},
   "source": [
    "## 4. LXML 을 활용한 파싱\n",
    "https://msdn.microsoft.com/ko-kr/kor-kr/enus/library/ms256471 (Xpath 문법해설서)"
   ]
  },
  {
   "cell_type": "markdown",
   "metadata": {},
   "source": [
    "### 01. Html Table Parsing\n",
    "by Xpath"
   ]
  },
  {
   "cell_type": "code",
   "execution_count": 9,
   "metadata": {},
   "outputs": [
    {
     "name": "stdout",
     "output_type": "stream",
     "text": [
      "b'<div class=\"name\">\\n  <p>foo</p>\\n</div>\\n'\n",
      "b'<div class=\"name\">\\n  <ul>\\n    <li>bar</li>\\n  </ul>\\n</div>\\n'\n"
     ]
    }
   ],
   "source": [
    "from lxml import etree\n",
    "# lxml 의 편집 가능한 포맷으로 변환\n",
    "tree = etree.fromstring('<html><head><title>foo</title></head><body>'\n",
    "      '<div class=\"name\"><p>foo</p></div><div class=\"name\"><ul><li>bar</li></ul></div></body></html>')\n",
    "for elem in tree.xpath(\"//div[@class='name']\"):\n",
    "    print(etree.tostring(elem, pretty_print=True))   # HTML 포맷을 이쁘게 출력"
   ]
  },
  {
   "cell_type": "markdown",
   "metadata": {},
   "source": [
    "### 02. lxml inner HTML\n",
    "Extract inner HTML\n",
    "\n",
    "https://stackoverflow.com/questions/29128478/how-could-i-get-print-all-inner-html-from-node-which-i-select-using-pythons-l"
   ]
  },
  {
   "cell_type": "code",
   "execution_count": 10,
   "metadata": {},
   "outputs": [
    {
     "name": "stdout",
     "output_type": "stream",
     "text": [
      "1 <Element bar at 0x7fd868e36188>\n"
     ]
    }
   ],
   "source": [
    "from lxml import etree\n",
    "from lxml.html import tostring\n",
    "from io import StringIO\n",
    "parser = etree.HTMLParser()\n",
    "\n",
    "Html = '<foo><bar><div>TEST NODE</div></bar></foo>'\n",
    "html_tree = etree.parse(StringIO(Html), parser)  # Html ==> StingIO 의 묶음 포맷으로 변환\n",
    "foo_element = html_tree.xpath(\"//bar\")            # Html.xpath() ==> Html의 부분을 잘라낸다\n",
    "print(len(foo_element), foo_element[0])"
   ]
  },
  {
   "cell_type": "code",
   "execution_count": 11,
   "metadata": {},
   "outputs": [
    {
     "name": "stdout",
     "output_type": "stream",
     "text": [
      "b'<div>TEST NODE</div>'\n"
     ]
    }
   ],
   "source": [
    "for i in foo_element[0]:  \n",
    "    print(tostring(i))"
   ]
  },
  {
   "cell_type": "markdown",
   "metadata": {},
   "source": [
    "### 03. Html Table Parsing\n",
    "by Xpath"
   ]
  },
  {
   "cell_type": "code",
   "execution_count": 12,
   "metadata": {
    "collapsed": true
   },
   "outputs": [],
   "source": [
    "doc = \"\"\"<TABLE>\n",
    "<TR><TD><P>Name</P></TD> <TD><P>Fees</P></TD> <TD><P>Awards</P></TD> <TD><P>Total</P></TD>\n",
    "</TR><TR><TD><P>Tony</P></TD> <TD >7,800</TD> <TD >7</TD> <TD>15,400</TD>\n",
    "</TR><TR><TD><P>Paul</FONT></P></TD> <TD>7,800</TD> <TD>7</TD> <TD>15,400</TD>\n",
    "</TR><TR><TD><P>Richard</P></TD> <TD>7,800</TD> <TD>7</TD> <TD>15,400</TD>\n",
    "</TR></TR></TABLE>\"\"\""
   ]
  },
  {
   "cell_type": "code",
   "execution_count": 13,
   "metadata": {},
   "outputs": [
    {
     "data": {
      "text/plain": [
       "['Name',\n",
       " 'Fees',\n",
       " 'Awards',\n",
       " 'Total',\n",
       " 'Tony',\n",
       " '7,800',\n",
       " '7',\n",
       " '15,400',\n",
       " 'Paul',\n",
       " '7,800',\n",
       " '7',\n",
       " '15,400',\n",
       " 'Richard',\n",
       " '7,800',\n",
       " '7',\n",
       " '15,400']"
      ]
     },
     "execution_count": 13,
     "metadata": {},
     "output_type": "execute_result"
    }
   ],
   "source": [
    "import lxml.html\n",
    "root = lxml.html.fromstring(doc)\n",
    "root.xpath('//tr/td//text()')"
   ]
  },
  {
   "cell_type": "markdown",
   "metadata": {},
   "source": [
    "### 04. Html Table Parsing 2\n",
    "Double Table using by '.'"
   ]
  },
  {
   "cell_type": "code",
   "execution_count": 14,
   "metadata": {
    "collapsed": true
   },
   "outputs": [],
   "source": [
    "doc = \"\"\"<TABLE><TR>\n",
    "<TD><P>Name</P></TD> <TD><P>Fees</P></TD> <TD><P>Awards</P></TD> <TD><P>Total</P></TD>\n",
    "</TR><TR><TD><P>Tony</P></TD> <TD >7,800</TD> <TD >7</TD> <TD>15,400</TD>\n",
    "</TR><TR><TD><P>Paul</FONT></P></TD> <TD >7,800</TD> <TD >7</TD> <TD>15,400</TD>\n",
    "</TR><TR><TD><P>Richard</P></TD> <TD >7,800</TD> <TD >7</TD> <TD>15,400</TD>\n",
    "</TR></TR></TABLE>\n",
    "<TABLE><TR><TD><P>Name</P></TD> <TD><P>Fees</P></TD> <TD><P>Awards</P></TD> <TD><P>Total</P></TD>\n",
    "</TR><TR><TD><P>Tony</P></TD> <TD >5,800</TD> <TD>7</TD> <TD>45,400</TD>\n",
    "</TR><TR><TD><P>Park</FONT></P></TD> <TD>3,800</TD> <TD>7</TD> <TD>35,400</TD>\n",
    "</TR><TR><TD><P>Royal</P></TD> <TD>6,800</TD> <TD>7</TD> <TD>2  5,400</TD>\n",
    "</TR></TR></TABLE>\"\"\""
   ]
  },
  {
   "cell_type": "code",
   "execution_count": 15,
   "metadata": {},
   "outputs": [
    {
     "data": {
      "text/plain": [
       "<Element div at 0x7fd868c0b2c8>"
      ]
     },
     "execution_count": 15,
     "metadata": {},
     "output_type": "execute_result"
    }
   ],
   "source": [
    "import lxml.html\n",
    "root = lxml.html.fromstring(doc); root\n",
    "# root.xpath('//tr/td//text()')   # / find, // find_all"
   ]
  },
  {
   "cell_type": "code",
   "execution_count": 16,
   "metadata": {},
   "outputs": [
    {
     "name": "stdout",
     "output_type": "stream",
     "text": [
      "['Name', 'Fees', 'Awards', 'Total', 'Tony', '7,800', '7', '15,400', 'Paul', '7,800', '7', '15,400', 'Richard', '7,800', '7', '15,400']\n",
      "['Name', 'Fees', 'Awards', 'Total', 'Tony', '5,800', '7', '45,400', 'Park', '3,800', '7', '35,400', 'Royal', '6,800', '7', '2  5,400']\n"
     ]
    }
   ],
   "source": [
    "# 2 tables 이 1 문서내 있을 떈 \n",
    "# 부모 tag 구별 후  \n",
    "# 자손에는 '.' 를 XPath 문법 맨 앞에 붙이면, 부모 tag를 기준으로 반복실행 한다.\n",
    "\n",
    "for tbl in root.xpath('//table'):\n",
    "    elements = tbl.xpath('.//tr/td//text()')\n",
    "    print (elements)"
   ]
  },
  {
   "cell_type": "code",
   "execution_count": 94,
   "metadata": {},
   "outputs": [
    {
     "name": "stdout",
     "output_type": "stream",
     "text": [
      "     0          1   2  refname\n",
      "0  265  JonesBlue  29  jones03\n",
      "1  266      Smith  34  smith01\n"
     ]
    },
    {
     "name": "stderr",
     "output_type": "stream",
     "text": [
      "/home/markbaum/Python/python36/lib/python3.6/site-packages/ipykernel_launcher.py:23: FutureWarning: currently extract(expand=None) means expand=False (return Index/Series/DataFrame) but in a future version of pandas this will be changed to expand=True (return DataFrame)\n"
     ]
    }
   ],
   "source": [
    "import pandas as pd\n",
    "\n",
    "content = '''\n",
    "<table>\n",
    "<tbody>\n",
    "<tr>\n",
    "<td>265</td>\n",
    "<td> <a href=\"/j/jones03.shtml\">Jones</a>Blue</td>\n",
    "<td >29</td>\n",
    "</tr>\n",
    "<tr >\n",
    "<td>266</td>\n",
    "<td> <a href=\"/s/smith01.shtml\">Smith</a></td>\n",
    "<td>34</td>\n",
    "</tr>\n",
    "</tbody>\n",
    "</table>'''\n",
    "\n",
    "table = fromstring(content)\n",
    "for df in pd.read_html(content):\n",
    "    df['refname'] = table.xpath('//tr/td/a/@href')\n",
    "    df['refname'] = df['refname'].str.extract(r'([^./]+)[.]')\n",
    "    print(df)"
   ]
  },
  {
   "cell_type": "markdown",
   "metadata": {},
   "source": [
    "### 05. Inner HTML Slicing\n",
    "Daum News"
   ]
  },
  {
   "cell_type": "code",
   "execution_count": 17,
   "metadata": {
    "collapsed": true
   },
   "outputs": [],
   "source": [
    "from lxml import etree\n",
    "from lxml.html import tostring\n",
    "from io import StringIO\n",
    "doc = '<foo><bar><div>TEST NODE</div></bar></foo>'\n",
    "hparser = etree.HTMLParser()\n",
    "htree = etree.parse(StringIO(doc), hparser)\n",
    "foo_element = htree.xpath(\"//div\")"
   ]
  },
  {
   "cell_type": "code",
   "execution_count": 18,
   "metadata": {},
   "outputs": [
    {
     "data": {
      "text/plain": [
       "1"
      ]
     },
     "execution_count": 18,
     "metadata": {},
     "output_type": "execute_result"
    }
   ],
   "source": [
    "len(foo_element)"
   ]
  },
  {
   "cell_type": "code",
   "execution_count": 19,
   "metadata": {},
   "outputs": [
    {
     "data": {
      "text/plain": [
       "b'<div>TEST NODE</div>'"
      ]
     },
     "execution_count": 19,
     "metadata": {},
     "output_type": "execute_result"
    }
   ],
   "source": [
    "tostring(foo_element[0])"
   ]
  },
  {
   "cell_type": "code",
   "execution_count": 20,
   "metadata": {
    "scrolled": true
   },
   "outputs": [
    {
     "data": {
      "text/plain": [
       "'\\n<!doctype html>\\n<html lang=\"ko\">\\n<head>\\n\\n\\t<meta charset=\"utf-8\">\\n<meta http-equiv=\"X-UA-Compatible\" content=\"IE=Edge\">\\n\\n\\n\\n<meta property=\"og:author\" content=\"Daum 뉴스\" />\\n<meta property=\"og:site_name\" content=\"Daum 뉴스\" />\\n<meta property=\"og:title\" content=\"랭킹\"/>\\n<meta property=\"og:image\" content=\"ht'"
      ]
     },
     "execution_count": 20,
     "metadata": {},
     "output_type": "execute_result"
    }
   ],
   "source": [
    "from lxml import html\n",
    "import requests, re\n",
    "url = 'http://media.daum.net/ranking/empathy'\n",
    "page = requests.get(url)\n",
    "tree = html.fromstring(page.content)\n",
    "page.text[:300]"
   ]
  },
  {
   "cell_type": "code",
   "execution_count": 21,
   "metadata": {},
   "outputs": [
    {
     "data": {
      "text/plain": [
       "'청와대는 17일 박근혜 정부의 청와대가 작성한 것으로 보이는 문건 1361건을 추가 발견했다고 밝혔다. 청와대가 지난 14일 민정수석실 캐비닛에서 발견했다며 문건..'"
      ]
     },
     "execution_count": 21,
     "metadata": {},
     "output_type": "execute_result"
    }
   ],
   "source": [
    "xpath = '//*[@id=\"mArticle\"]/div[2]/ul[2]/li[1]/div[2]/div/span/text()'\n",
    "hotel_name = tree.xpath(xpath)\n",
    "temp = re.sub(\"\\n\",\"\",hotel_name[0])\n",
    "temp = re.sub(\"  \",\"\",temp); temp"
   ]
  },
  {
   "cell_type": "code",
   "execution_count": 22,
   "metadata": {},
   "outputs": [
    {
     "data": {
      "text/plain": [
       "'靑 \"박근혜 정부 문건 1361건 추가 발견..블랙리스트 등 포함\"'"
      ]
     },
     "execution_count": 22,
     "metadata": {},
     "output_type": "execute_result"
    }
   ],
   "source": [
    "n=1\n",
    "xpath = '//*[@id=\"mArticle\"]/div[2]/ul[2]/li['+str(n)+']/div[2]/strong/a/text()'\n",
    "hotel_name = tree.xpath(xpath)\n",
    "temp = re.sub(\"\\n\",\"\",hotel_name[0])\n",
    "temp = re.sub(\"  \",\"\",temp); temp"
   ]
  },
  {
   "cell_type": "code",
   "execution_count": 23,
   "metadata": {},
   "outputs": [
    {
     "data": {
      "text/plain": [
       "'청와대는 17일 박근혜 정부의 청와대가 작성한 것으로 보이는 문건 1361건을 추가 발견했다고 밝혔다. 청와대가 지난 14일 민정수석실 캐비닛에서 발견했다며 문건..'"
      ]
     },
     "execution_count": 23,
     "metadata": {},
     "output_type": "execute_result"
    }
   ],
   "source": [
    "xpath = '//*[@id=\"mArticle\"]/div[2]/ul[2]/li['+str(n)+']/div[2]/div/span/text()'\n",
    "hotel_name = tree.xpath(xpath)\n",
    "temp = re.sub(\"\\n\",\"\",hotel_name[0]) \n",
    "temp = re.sub(\"  \",\"\",temp); temp"
   ]
  },
  {
   "cell_type": "code",
   "execution_count": 24,
   "metadata": {
    "collapsed": true
   },
   "outputs": [],
   "source": [
    "# .list_news2 > li:nth-child(1) > div:nth-child(3) > strong:nth-child(1) > a:nth-child(1)\n",
    "# //*[@id=\"mArticle\"]/div[2]/ul[2]/li[1]/div[2]/strong/a\n",
    "# //*[@id=\"mArticle\"]/div[2]/ul[2]/li[2]/div[2]/strong/a"
   ]
  },
  {
   "cell_type": "code",
   "execution_count": 25,
   "metadata": {},
   "outputs": [
    {
     "data": {
      "text/plain": [
       "'청와대는 17일 박근혜 정부의 청와대가 작성한 것으로 보이는 문건 1361건을 추가 발견했다고 밝혔다. 청와대가 지난 14일 민정수석실 캐비닛에서 발견했다며 문건..'"
      ]
     },
     "execution_count": 25,
     "metadata": {},
     "output_type": "execute_result"
    }
   ],
   "source": [
    "temp = re.sub(\"\\n\",\"\",hotel_name[0])\n",
    "temp = re.sub(\"  \",\"\",temp); temp"
   ]
  },
  {
   "cell_type": "markdown",
   "metadata": {},
   "source": [
    "## 5. Stock 38 new list data"
   ]
  },
  {
   "cell_type": "markdown",
   "metadata": {},
   "source": [
    "###  http://www.38.co.kr/html/fund/?o=nw 의 테이블 불러오기\n",
    "/html/body/table[3]/tbody/tr/td/table[1]/tbody/tr/td[1]/table[4]/tbody"
   ]
  },
  {
   "cell_type": "markdown",
   "metadata": {},
   "source": [
    "### 01. lxml.html 을 활용한 크롤링 \n",
    "inner html 은 부분에 따라 되다 안되다 한다"
   ]
  },
  {
   "cell_type": "code",
   "execution_count": 26,
   "metadata": {
    "scrolled": true
   },
   "outputs": [
    {
     "name": "stdout",
     "output_type": "stream",
     "text": [
      "euc_kr\n",
      "<!DOCTYPE HTML PUBLIC \"-//W3C//DTD HTML 4.01 Transitional//EN\">\r\n",
      "<html lang=\"ko\">\r\n",
      "<head>\r\n",
      "<title>공모\n"
     ]
    }
   ],
   "source": [
    "import requests\n",
    "url = \"http://www.38.co.kr/html/fund/?o=nw\"\n",
    "response = requests.get(url); \n",
    "print(response.encoding)\n",
    "print(response.text[:100])"
   ]
  },
  {
   "cell_type": "markdown",
   "metadata": {},
   "source": [
    "#### Xpath Crawling 1\n",
    "HTML 에서 필요한 table 의 '회사명' 크롤링 하기"
   ]
  },
  {
   "cell_type": "code",
   "execution_count": 28,
   "metadata": {},
   "outputs": [
    {
     "name": "stdout",
     "output_type": "stream",
     "text": [
      "20\n"
     ]
    },
    {
     "data": {
      "text/plain": [
       "['셀트리온헬스케어', '이즈미디어', '한국스팩5호', '힘스', '브이원텍', '아우딘퓨쳐스', '제일홀딩스', '하나금융스팩9호']"
      ]
     },
     "execution_count": 28,
     "metadata": {},
     "output_type": "execute_result"
    }
   ],
   "source": [
    "from lxml.html import fromstring\n",
    "html_code = fromstring(response.text)\n",
    "#text = html_code.xpath('//table[@summary=\"신규상장종목\"]//td//text()') # 가장 가까운 테이블의 속성으로 구분\n",
    "comp_text = html_code.xpath('//table[@summary=\"신규상장종목\"]//tr/td/a//text()') # 가장 가까운 테이블의 속성으로 구분\n",
    "#len(comp_text)\n",
    "comp_text = [txt  for txt in comp_text  if txt not in '(유가)']\n",
    "print(len(comp_text))\n",
    "comp_text[:8]"
   ]
  },
  {
   "cell_type": "markdown",
   "metadata": {},
   "source": [
    "#### Xpath Crawling 2\n",
    "신규회사의 URL 크롤링 하기"
   ]
  },
  {
   "cell_type": "code",
   "execution_count": 29,
   "metadata": {},
   "outputs": [
    {
     "name": "stdout",
     "output_type": "stream",
     "text": [
      "20\n"
     ]
    },
    {
     "data": {
      "text/plain": [
       "['http://www.38.co.kr/html/fund/?o=v&no=1227&l=',\n",
       " 'http://www.38.co.kr/html/fund/?o=v&no=1230&l=',\n",
       " 'http://www.38.co.kr/html/fund/?o=v&no=1231&l=',\n",
       " 'http://www.38.co.kr/html/fund/?o=v&no=1228&l=']"
      ]
     },
     "execution_count": 29,
     "metadata": {},
     "output_type": "execute_result"
    }
   ],
   "source": [
    "from lxml.html import fromstring\n",
    "html_code = fromstring(response.text)\n",
    "#text = html_code.xpath('//table[@summary=\"신규상장종목\"]//td//text()') # 가장 가까운 테이블의 속성으로 구분\n",
    "text = html_code.xpath('//table[@summary=\"신규상장종목\"]//tr/td/a/@href') # 가장 가까운 테이블의 속성으로 구분\n",
    "url_link = [url[:-6] + txt[1:]  for txt in text  if txt[:8] in './?o=v&n']\n",
    "print(len(url_link))\n",
    "url_link[:4]"
   ]
  },
  {
   "cell_type": "code",
   "execution_count": 30,
   "metadata": {
    "collapsed": true
   },
   "outputs": [],
   "source": [
    "new_comp = {}\n",
    "for i in range(len(comp_text)):\n",
    "    new_comp[comp_text[i]] = url_link[i]\n",
    "#new_comp"
   ]
  },
  {
   "cell_type": "code",
   "execution_count": 31,
   "metadata": {},
   "outputs": [
    {
     "data": {
      "text/plain": [
       "[['셀트리온헬스케어', 'http://www.38.co.kr/html/fund/?o=v&no=1227&l='],\n",
       " ['이즈미디어', 'http://www.38.co.kr/html/fund/?o=v&no=1230&l='],\n",
       " ['한국스팩5호', 'http://www.38.co.kr/html/fund/?o=v&no=1231&l='],\n",
       " ['힘스', 'http://www.38.co.kr/html/fund/?o=v&no=1228&l=']]"
      ]
     },
     "execution_count": 31,
     "metadata": {},
     "output_type": "execute_result"
    }
   ],
   "source": [
    "result = []\n",
    "for i in range(len(comp_text)):\n",
    "    new = [comp_text[i],url_link[i]]\n",
    "    result.append(new)\n",
    "result[:4]"
   ]
  },
  {
   "cell_type": "markdown",
   "metadata": {},
   "source": [
    "#### Xpath Crawling to DataFrame\n",
    "테이블을 DataFrame으로 출력하기"
   ]
  },
  {
   "cell_type": "code",
   "execution_count": 111,
   "metadata": {},
   "outputs": [
    {
     "data": {
      "text/html": [
       "<div>\n",
       "<table border=\"1\" class=\"dataframe\">\n",
       "  <thead>\n",
       "    <tr style=\"text-align: right;\">\n",
       "      <th></th>\n",
       "      <th>0</th>\n",
       "      <th>1</th>\n",
       "      <th>2</th>\n",
       "      <th>3</th>\n",
       "    </tr>\n",
       "  </thead>\n",
       "  <tbody>\n",
       "    <tr>\n",
       "      <th>0</th>\n",
       "      <td>종목명</td>\n",
       "      <td>힘스</td>\n",
       "      <td>진행상황</td>\n",
       "      <td>공모주</td>\n",
       "    </tr>\n",
       "    <tr>\n",
       "      <th>1</th>\n",
       "      <td>시장구분</td>\n",
       "      <td>코스닥</td>\n",
       "      <td>종목코드</td>\n",
       "      <td>238490</td>\n",
       "    </tr>\n",
       "    <tr>\n",
       "      <th>2</th>\n",
       "      <td>업종</td>\n",
       "      <td>특수 목적용 기계 제조업</td>\n",
       "      <td>NaN</td>\n",
       "      <td>NaN</td>\n",
       "    </tr>\n",
       "    <tr>\n",
       "      <th>3</th>\n",
       "      <td>대표자</td>\n",
       "      <td>김주환</td>\n",
       "      <td>기업구분</td>\n",
       "      <td>중소일반</td>\n",
       "    </tr>\n",
       "    <tr>\n",
       "      <th>4</th>\n",
       "      <td>본점소재지</td>\n",
       "      <td>인천광역시 남동구 남동서로 126 (고잔동)</td>\n",
       "      <td>NaN</td>\n",
       "      <td>NaN</td>\n",
       "    </tr>\n",
       "    <tr>\n",
       "      <th>5</th>\n",
       "      <td>홈페이지</td>\n",
       "      <td>www.hims.co.kr</td>\n",
       "      <td>대표전화</td>\n",
       "      <td>032-821-2511</td>\n",
       "    </tr>\n",
       "    <tr>\n",
       "      <th>6</th>\n",
       "      <td>최대주주</td>\n",
       "      <td>-</td>\n",
       "      <td>NaN</td>\n",
       "      <td>NaN</td>\n",
       "    </tr>\n",
       "    <tr>\n",
       "      <th>7</th>\n",
       "      <td>매출액</td>\n",
       "      <td>50,876 (백만원)</td>\n",
       "      <td>법인세비용차감전계속사업이익</td>\n",
       "      <td>6,115 (백만원)</td>\n",
       "    </tr>\n",
       "    <tr>\n",
       "      <th>8</th>\n",
       "      <td>순이익</td>\n",
       "      <td>4,951 (백만원)</td>\n",
       "      <td>자본금</td>\n",
       "      <td>2,072 (백만원)</td>\n",
       "    </tr>\n",
       "  </tbody>\n",
       "</table>\n",
       "</div>"
      ],
      "text/plain": [
       "       0                         1               2             3\n",
       "0    종목명                        힘스            진행상황           공모주\n",
       "1   시장구분                       코스닥            종목코드        238490\n",
       "2     업종             특수 목적용 기계 제조업             NaN           NaN\n",
       "3    대표자                       김주환            기업구분          중소일반\n",
       "4  본점소재지  인천광역시 남동구 남동서로 126 (고잔동)             NaN           NaN\n",
       "5   홈페이지            www.hims.co.kr            대표전화  032-821-2511\n",
       "6   최대주주                         -             NaN           NaN\n",
       "7    매출액              50,876 (백만원)  법인세비용차감전계속사업이익   6,115 (백만원)\n",
       "8    순이익               4,951 (백만원)             자본금   2,072 (백만원)"
      ]
     },
     "execution_count": 111,
     "metadata": {},
     "output_type": "execute_result"
    }
   ],
   "source": [
    "import re\n",
    "response = requests.get(result[3][1])\n",
    "# 기업개요 table 불러오기\n",
    "text = html_code.xpath('//table[@summary=\"기업개요\"]')\n",
    "inner_html = tostring(text[0],encoding='unicode')\n",
    "pd.read_html(inner_html)[0]"
   ]
  },
  {
   "cell_type": "code",
   "execution_count": 109,
   "metadata": {},
   "outputs": [
    {
     "data": {
      "text/html": [
       "<div>\n",
       "<table border=\"1\" class=\"dataframe\">\n",
       "  <thead>\n",
       "    <tr style=\"text-align: right;\">\n",
       "      <th></th>\n",
       "      <th>0</th>\n",
       "      <th>1</th>\n",
       "      <th>2</th>\n",
       "      <th>3</th>\n",
       "    </tr>\n",
       "  </thead>\n",
       "  <tbody>\n",
       "    <tr>\n",
       "      <th>0</th>\n",
       "      <td>총공모주식수</td>\n",
       "      <td>800,000 주</td>\n",
       "      <td>액면가</td>\n",
       "      <td>500 원</td>\n",
       "    </tr>\n",
       "    <tr>\n",
       "      <th>1</th>\n",
       "      <td>상장공모</td>\n",
       "      <td>신주모집 : 800,000 주 (100%)</td>\n",
       "      <td>NaN</td>\n",
       "      <td>NaN</td>\n",
       "    </tr>\n",
       "    <tr>\n",
       "      <th>2</th>\n",
       "      <td>희망공모가액</td>\n",
       "      <td>15,500 ~ 18,800 원</td>\n",
       "      <td>청약경쟁률</td>\n",
       "      <td>795.94:1</td>\n",
       "    </tr>\n",
       "    <tr>\n",
       "      <th>3</th>\n",
       "      <td>확정공모가</td>\n",
       "      <td>20,000 원</td>\n",
       "      <td>공모금액</td>\n",
       "      <td>16,000 (백만원)</td>\n",
       "    </tr>\n",
       "    <tr>\n",
       "      <th>4</th>\n",
       "      <td>주간사</td>\n",
       "      <td>KB증권,SK증권</td>\n",
       "      <td>주식수: 160,000 주 / 청약한도: - 주</td>\n",
       "      <td>NaN</td>\n",
       "    </tr>\n",
       "  </tbody>\n",
       "</table>\n",
       "</div>"
      ],
      "text/plain": [
       "        0                        1                           2             3\n",
       "0  총공모주식수                800,000 주                         액면가         500 원\n",
       "1    상장공모  신주모집 : 800,000 주 (100%)                         NaN           NaN\n",
       "2  희망공모가액        15,500 ~ 18,800 원                       청약경쟁률      795.94:1\n",
       "3   확정공모가                 20,000 원                        공모금액  16,000 (백만원)\n",
       "4     주간사                KB증권,SK증권  주식수: 160,000 주 / 청약한도: - 주           NaN"
      ]
     },
     "execution_count": 109,
     "metadata": {},
     "output_type": "execute_result"
    }
   ],
   "source": [
    "# 공모정보 table 불러오기\n",
    "text = html_code.xpath('//table[@summary=\"공모정보\"]')\n",
    "inner_html = tostring(text[0],encoding='unicode')\n",
    "pd.read_html(inner_html)[0]"
   ]
  },
  {
   "cell_type": "markdown",
   "metadata": {},
   "source": [
    "#### Xpath Crawling to go Detail\n",
    "개별 회사의 주요내용 크롤링 하기"
   ]
  },
  {
   "cell_type": "code",
   "execution_count": 92,
   "metadata": {},
   "outputs": [
    {
     "data": {
      "text/plain": [
       "' 238490'"
      ]
     },
     "execution_count": 92,
     "metadata": {},
     "output_type": "execute_result"
    }
   ],
   "source": [
    "# 상장코드 번호 찾기\n",
    "html_code = fromstring(response.text)\n",
    "text = html_code.xpath('//table[@summary=\"기업개요\"]')\n",
    "inner_html = tostring(text[0],encoding='unicode')\n",
    "inner_html = fromstring(inner_html)\n",
    "text = inner_html.xpath('//tr/td[@bgcolor=\"#FFFFFF\"]/text()')\n",
    "re.sub('\\xa0', '',text[4])"
   ]
  },
  {
   "cell_type": "code",
   "execution_count": 93,
   "metadata": {
    "scrolled": true
   },
   "outputs": [
    {
     "data": {
      "text/plain": [
       "' 800,000 주'"
      ]
     },
     "execution_count": 93,
     "metadata": {},
     "output_type": "execute_result"
    }
   ],
   "source": [
    "# 주식수 호출하기\n",
    "text = html_code.xpath('//table[@summary=\"공모정보\"]')\n",
    "inner_html = tostring(text[0],encoding='unicode')\n",
    "inner_html = fromstring(inner_html)\n",
    "text = inner_html.xpath('//tr/td[@bgcolor=\"#FFFFFF\"]/teprint(response.encoding)\n",
    "print(response.text[:100])xt()')\n",
    "re.sub('\\xa0', '',text[0])"
   ]
  },
  {
   "cell_type": "markdown",
   "metadata": {
    "collapsed": true
   },
   "source": [
    "## Daum 상위거래원 크롤링\n",
    "lxml to List\n",
    "\n",
    "list to Dataframe\n",
    "\n",
    "[df1, df2, df3...] concat to DataFrame"
   ]
  },
  {
   "cell_type": "code",
   "execution_count": 73,
   "metadata": {
    "collapsed": true
   },
   "outputs": [],
   "source": [
    "code = '008700.KQ'\n",
    "import requests   # 이게 대부분 포맷을 자동 잡아주나보다 ^^; (euc_kr, utf-8 모두 아래는 동일 코딩적용... )\n",
    "url = 'http://finance.daum.net/item/trader.daum?code='+code[:-3]+'&nil_profile=stockprice&nil_menu=b015'\n",
    "response = requests.get(url) \n",
    "# print(response.encoding)\n",
    "# print(response.text[200:500])"
   ]
  },
  {
   "cell_type": "code",
   "execution_count": 74,
   "metadata": {
    "collapsed": true
   },
   "outputs": [],
   "source": [
    "from lxml.html import fromstring, tostring\n",
    "html_code = fromstring(response.text)\n",
    "texts = html_code.xpath('//table[@id=\"traderTable\"]//tbody/tr/td//text()')"
   ]
  },
  {
   "cell_type": "code",
   "execution_count": 75,
   "metadata": {
    "collapsed": true
   },
   "outputs": [],
   "source": [
    "# result = {}\n",
    "# for i in range(int(len(texts)/4)):\n",
    "#     result[text[i*4]] = [text[i*4+1],text[i*4+2],text[i*4+3] ]"
   ]
  },
  {
   "cell_type": "code",
   "execution_count": 76,
   "metadata": {
    "collapsed": true
   },
   "outputs": [],
   "source": [
    "result = []\n",
    "for i in range(int(len(texts)/4)):\n",
    "    result.append([ code, text[i*4], text[i*4+1],text[i*4+2],text[i*4+3] ])"
   ]
  },
  {
   "cell_type": "code",
   "execution_count": 44,
   "metadata": {},
   "outputs": [
    {
     "data": {
      "text/html": [
       "<div>\n",
       "<table border=\"1\" class=\"dataframe\">\n",
       "  <thead>\n",
       "    <tr style=\"text-align: right;\">\n",
       "      <th></th>\n",
       "      <th>매도상위</th>\n",
       "      <th>매수상위</th>\n",
       "      <th>거래원</th>\n",
       "      <th>매도</th>\n",
       "      <th>매수</th>\n",
       "      <th>순매매</th>\n",
       "      <th>거래원.1</th>\n",
       "      <th>매도.1</th>\n",
       "    </tr>\n",
       "  </thead>\n",
       "  <tbody>\n",
       "    <tr>\n",
       "      <th>0</th>\n",
       "      <td>키움증권</td>\n",
       "      <td>167467</td>\n",
       "      <td>191546.0</td>\n",
       "      <td>+24,079</td>\n",
       "      <td>키움증권</td>\n",
       "      <td>167467.0</td>\n",
       "      <td>191546.0</td>\n",
       "      <td>+24,079</td>\n",
       "    </tr>\n",
       "    <tr>\n",
       "      <th>1</th>\n",
       "      <td>대 우</td>\n",
       "      <td>86223</td>\n",
       "      <td>127434.0</td>\n",
       "      <td>+41,211</td>\n",
       "      <td>대 우</td>\n",
       "      <td>86223.0</td>\n",
       "      <td>127434.0</td>\n",
       "      <td>+41,211</td>\n",
       "    </tr>\n",
       "    <tr>\n",
       "      <th>2</th>\n",
       "      <td>NH투자증권</td>\n",
       "      <td>46979</td>\n",
       "      <td>40132.0</td>\n",
       "      <td>-6847</td>\n",
       "      <td>현 대</td>\n",
       "      <td>0.0</td>\n",
       "      <td>41754.0</td>\n",
       "      <td>+41,754</td>\n",
       "    </tr>\n",
       "    <tr>\n",
       "      <th>3</th>\n",
       "      <td>메릴린치</td>\n",
       "      <td>26625</td>\n",
       "      <td>24348.0</td>\n",
       "      <td>-2277</td>\n",
       "      <td>NH투자증권</td>\n",
       "      <td>46979.0</td>\n",
       "      <td>40132.0</td>\n",
       "      <td>-6847</td>\n",
       "    </tr>\n",
       "    <tr>\n",
       "      <th>4</th>\n",
       "      <td>하나금융투자</td>\n",
       "      <td>24756</td>\n",
       "      <td>0.0</td>\n",
       "      <td>-24756</td>\n",
       "      <td>삼 성</td>\n",
       "      <td>20015.0</td>\n",
       "      <td>37288.0</td>\n",
       "      <td>+17,273</td>\n",
       "    </tr>\n",
       "    <tr>\n",
       "      <th>5</th>\n",
       "      <td>이탈 거래원</td>\n",
       "      <td>이탈 거래원</td>\n",
       "      <td>NaN</td>\n",
       "      <td>NaN</td>\n",
       "      <td>NaN</td>\n",
       "      <td>NaN</td>\n",
       "      <td>NaN</td>\n",
       "      <td>NaN</td>\n",
       "    </tr>\n",
       "    <tr>\n",
       "      <th>6</th>\n",
       "      <td>한 화</td>\n",
       "      <td>21080</td>\n",
       "      <td>0.0</td>\n",
       "      <td>-21080</td>\n",
       "      <td>메릴린치</td>\n",
       "      <td>26625.0</td>\n",
       "      <td>24348.0</td>\n",
       "      <td>-2277</td>\n",
       "    </tr>\n",
       "    <tr>\n",
       "      <th>7</th>\n",
       "      <td>삼 성</td>\n",
       "      <td>20015</td>\n",
       "      <td>37288.0</td>\n",
       "      <td>+17,273</td>\n",
       "      <td>신한투자</td>\n",
       "      <td>0.0</td>\n",
       "      <td>4555.0</td>\n",
       "      <td>+4,555</td>\n",
       "    </tr>\n",
       "    <tr>\n",
       "      <th>8</th>\n",
       "      <td>이베스트</td>\n",
       "      <td>16017</td>\n",
       "      <td>0.0</td>\n",
       "      <td>-16017</td>\n",
       "      <td>유안타</td>\n",
       "      <td>1524.0</td>\n",
       "      <td>0.0</td>\n",
       "      <td>-1524</td>\n",
       "    </tr>\n",
       "    <tr>\n",
       "      <th>9</th>\n",
       "      <td>IBK투자증권</td>\n",
       "      <td>2600</td>\n",
       "      <td>0.0</td>\n",
       "      <td>-2600</td>\n",
       "      <td>한 화</td>\n",
       "      <td>21080.0</td>\n",
       "      <td>0.0</td>\n",
       "      <td>-21080</td>\n",
       "    </tr>\n",
       "    <tr>\n",
       "      <th>10</th>\n",
       "      <td>유안타</td>\n",
       "      <td>1524</td>\n",
       "      <td>0.0</td>\n",
       "      <td>-1524</td>\n",
       "      <td>하나금융투자</td>\n",
       "      <td>24756.0</td>\n",
       "      <td>0.0</td>\n",
       "      <td>-24756</td>\n",
       "    </tr>\n",
       "    <tr>\n",
       "      <th>11</th>\n",
       "      <td>NaN</td>\n",
       "      <td>26625</td>\n",
       "      <td>NaN</td>\n",
       "      <td>외국계매도합</td>\n",
       "      <td>외국계매수합</td>\n",
       "      <td>NaN</td>\n",
       "      <td>24348.0</td>\n",
       "      <td>NaN</td>\n",
       "    </tr>\n",
       "  </tbody>\n",
       "</table>\n",
       "</div>"
      ],
      "text/plain": [
       "       매도상위    매수상위       거래원       매도      매수       순매매     거래원.1     매도.1\n",
       "0      키움증권  167467  191546.0  +24,079    키움증권  167467.0  191546.0  +24,079\n",
       "1       대 우   86223  127434.0  +41,211     대 우   86223.0  127434.0  +41,211\n",
       "2    NH투자증권   46979   40132.0    -6847     현 대       0.0   41754.0  +41,754\n",
       "3      메릴린치   26625   24348.0    -2277  NH투자증권   46979.0   40132.0    -6847\n",
       "4    하나금융투자   24756       0.0   -24756     삼 성   20015.0   37288.0  +17,273\n",
       "5    이탈 거래원  이탈 거래원       NaN      NaN     NaN       NaN       NaN      NaN\n",
       "6       한 화   21080       0.0   -21080    메릴린치   26625.0   24348.0    -2277\n",
       "7       삼 성   20015   37288.0  +17,273    신한투자       0.0    4555.0   +4,555\n",
       "8      이베스트   16017       0.0   -16017     유안타    1524.0       0.0    -1524\n",
       "9   IBK투자증권    2600       0.0    -2600     한 화   21080.0       0.0   -21080\n",
       "10      유안타    1524       0.0    -1524  하나금융투자   24756.0       0.0   -24756\n",
       "11      NaN   26625       NaN   외국계매도합  외국계매수합       NaN   24348.0      NaN"
      ]
     },
     "execution_count": 44,
     "metadata": {},
     "output_type": "execute_result"
    }
   ],
   "source": [
    "table = html_code.xpath('//table[@id=\"traderTable\"]')\n",
    "inner_html = tostring(table[0],encoding='unicode')\n",
    "df = pd.read_html(inner_html)[0]\n",
    "df = df.iloc[:,:8]\n",
    "df"
   ]
  },
  {
   "cell_type": "markdown",
   "metadata": {
    "collapsed": true
   },
   "source": [
    "## Shinhan trader 자료 크롤링\n",
    "lxml to List\n",
    "\n",
    "list to Dataframe\n",
    "\n",
    "[df1, df2, df3...] concat to DataFrame"
   ]
  },
  {
   "cell_type": "code",
   "execution_count": 40,
   "metadata": {
    "collapsed": true
   },
   "outputs": [],
   "source": [
    "code = '008700.KQ'\n",
    "import requests   # 이게 대부분 포맷을 자동 잡아주나보다 ^^; (euc_kr, utf-8 모두 아래는 동일 코딩적용... )\n",
    "url = 'http://open.shinhaninvest.com/goodicyber/mk/1206.jsp?code='+code[:-3]\n",
    "response = requests.get(url) \n",
    "# print(response.encoding)\n",
    "# print(response.text[200:500])"
   ]
  },
  {
   "cell_type": "code",
   "execution_count": 42,
   "metadata": {},
   "outputs": [
    {
     "data": {
      "text/html": [
       "<div>\n",
       "<table border=\"1\" class=\"dataframe\">\n",
       "  <thead>\n",
       "    <tr style=\"text-align: right;\">\n",
       "      <th></th>\n",
       "      <th>code</th>\n",
       "      <th>0</th>\n",
       "      <th>1</th>\n",
       "      <th>2</th>\n",
       "      <th>3</th>\n",
       "      <th>4</th>\n",
       "      <th>5</th>\n",
       "      <th>6</th>\n",
       "      <th>7</th>\n",
       "      <th>8</th>\n",
       "      <th>9</th>\n",
       "      <th>10</th>\n",
       "    </tr>\n",
       "  </thead>\n",
       "  <tbody>\n",
       "    <tr>\n",
       "      <th>0</th>\n",
       "      <td>008700.KQ</td>\n",
       "      <td>날짜</td>\n",
       "      <td>개인</td>\n",
       "      <td>외국인계</td>\n",
       "      <td>기관</td>\n",
       "      <td>기타</td>\n",
       "      <td>NaN</td>\n",
       "      <td>NaN</td>\n",
       "      <td>NaN</td>\n",
       "      <td>NaN</td>\n",
       "      <td>NaN</td>\n",
       "      <td>NaN</td>\n",
       "    </tr>\n",
       "    <tr>\n",
       "      <th>1</th>\n",
       "      <td>008700.KQ</td>\n",
       "      <td>기관계</td>\n",
       "      <td>증권</td>\n",
       "      <td>투신</td>\n",
       "      <td>은행</td>\n",
       "      <td>종금</td>\n",
       "      <td>보험</td>\n",
       "      <td>기금</td>\n",
       "      <td>NaN</td>\n",
       "      <td>NaN</td>\n",
       "      <td>NaN</td>\n",
       "      <td>NaN</td>\n",
       "    </tr>\n",
       "    <tr>\n",
       "      <th>2</th>\n",
       "      <td>008700.KQ</td>\n",
       "      <td>2017/07/18</td>\n",
       "      <td>0</td>\n",
       "      <td>0</td>\n",
       "      <td>0</td>\n",
       "      <td>0</td>\n",
       "      <td>0</td>\n",
       "      <td>0</td>\n",
       "      <td>0.0</td>\n",
       "      <td>0.0</td>\n",
       "      <td>0.0</td>\n",
       "      <td>0.0</td>\n",
       "    </tr>\n",
       "    <tr>\n",
       "      <th>3</th>\n",
       "      <td>008700.KQ</td>\n",
       "      <td>2017/07/17</td>\n",
       "      <td>79986</td>\n",
       "      <td>-95768</td>\n",
       "      <td>1320</td>\n",
       "      <td>299</td>\n",
       "      <td>0</td>\n",
       "      <td>1021</td>\n",
       "      <td>0.0</td>\n",
       "      <td>0.0</td>\n",
       "      <td>0.0</td>\n",
       "      <td>8640.0</td>\n",
       "    </tr>\n",
       "    <tr>\n",
       "      <th>4</th>\n",
       "      <td>008700.KQ</td>\n",
       "      <td>2017/07/14</td>\n",
       "      <td>-299</td>\n",
       "      <td>-3407</td>\n",
       "      <td>1699</td>\n",
       "      <td>1699</td>\n",
       "      <td>0</td>\n",
       "      <td>0</td>\n",
       "      <td>0.0</td>\n",
       "      <td>0.0</td>\n",
       "      <td>0.0</td>\n",
       "      <td>8977.0</td>\n",
       "    </tr>\n",
       "    <tr>\n",
       "      <th>5</th>\n",
       "      <td>008700.KQ</td>\n",
       "      <td>2017/07/13</td>\n",
       "      <td>38434</td>\n",
       "      <td>-37518</td>\n",
       "      <td>431</td>\n",
       "      <td>507</td>\n",
       "      <td>0</td>\n",
       "      <td>0</td>\n",
       "      <td>0.0</td>\n",
       "      <td>-76.0</td>\n",
       "      <td>0.0</td>\n",
       "      <td>-27.0</td>\n",
       "    </tr>\n",
       "    <tr>\n",
       "      <th>6</th>\n",
       "      <td>008700.KQ</td>\n",
       "      <td>2017/07/12</td>\n",
       "      <td>37207</td>\n",
       "      <td>-39215</td>\n",
       "      <td>209</td>\n",
       "      <td>209</td>\n",
       "      <td>0</td>\n",
       "      <td>0</td>\n",
       "      <td>0.0</td>\n",
       "      <td>0.0</td>\n",
       "      <td>0.0</td>\n",
       "      <td>-160.0</td>\n",
       "    </tr>\n",
       "    <tr>\n",
       "      <th>7</th>\n",
       "      <td>008700.KQ</td>\n",
       "      <td>2017/07/11</td>\n",
       "      <td>44060</td>\n",
       "      <td>-42611</td>\n",
       "      <td>-1388</td>\n",
       "      <td>-1388</td>\n",
       "      <td>0</td>\n",
       "      <td>0</td>\n",
       "      <td>0.0</td>\n",
       "      <td>0.0</td>\n",
       "      <td>0.0</td>\n",
       "      <td>-10.0</td>\n",
       "    </tr>\n",
       "    <tr>\n",
       "      <th>8</th>\n",
       "      <td>008700.KQ</td>\n",
       "      <td>2017/07/10</td>\n",
       "      <td>102665</td>\n",
       "      <td>-103860</td>\n",
       "      <td>0</td>\n",
       "      <td>0</td>\n",
       "      <td>0</td>\n",
       "      <td>0</td>\n",
       "      <td>0.0</td>\n",
       "      <td>0.0</td>\n",
       "      <td>0.0</td>\n",
       "      <td>32.0</td>\n",
       "    </tr>\n",
       "    <tr>\n",
       "      <th>9</th>\n",
       "      <td>008700.KQ</td>\n",
       "      <td>2017/07/07</td>\n",
       "      <td>115132</td>\n",
       "      <td>-116733</td>\n",
       "      <td>-14</td>\n",
       "      <td>-7</td>\n",
       "      <td>-7</td>\n",
       "      <td>0</td>\n",
       "      <td>0.0</td>\n",
       "      <td>0.0</td>\n",
       "      <td>0.0</td>\n",
       "      <td>0.0</td>\n",
       "    </tr>\n",
       "    <tr>\n",
       "      <th>10</th>\n",
       "      <td>008700.KQ</td>\n",
       "      <td>2017/07/06</td>\n",
       "      <td>-23015</td>\n",
       "      <td>21537</td>\n",
       "      <td>-2688</td>\n",
       "      <td>-2688</td>\n",
       "      <td>0</td>\n",
       "      <td>0</td>\n",
       "      <td>0.0</td>\n",
       "      <td>0.0</td>\n",
       "      <td>0.0</td>\n",
       "      <td>1000.0</td>\n",
       "    </tr>\n",
       "    <tr>\n",
       "      <th>11</th>\n",
       "      <td>008700.KQ</td>\n",
       "      <td>2017/07/05</td>\n",
       "      <td>-130821</td>\n",
       "      <td>182065</td>\n",
       "      <td>-1748</td>\n",
       "      <td>-122</td>\n",
       "      <td>0</td>\n",
       "      <td>0</td>\n",
       "      <td>0.0</td>\n",
       "      <td>-6.0</td>\n",
       "      <td>0.0</td>\n",
       "      <td>-47046.0</td>\n",
       "    </tr>\n",
       "    <tr>\n",
       "      <th>12</th>\n",
       "      <td>008700.KQ</td>\n",
       "      <td>2017/07/04</td>\n",
       "      <td>46219</td>\n",
       "      <td>-45758</td>\n",
       "      <td>1620</td>\n",
       "      <td>0</td>\n",
       "      <td>0</td>\n",
       "      <td>0</td>\n",
       "      <td>0.0</td>\n",
       "      <td>0.0</td>\n",
       "      <td>0.0</td>\n",
       "      <td>-2200.0</td>\n",
       "    </tr>\n",
       "    <tr>\n",
       "      <th>13</th>\n",
       "      <td>008700.KQ</td>\n",
       "      <td>2017/07/03</td>\n",
       "      <td>-62383</td>\n",
       "      <td>63379</td>\n",
       "      <td>-22</td>\n",
       "      <td>-22</td>\n",
       "      <td>0</td>\n",
       "      <td>0</td>\n",
       "      <td>0.0</td>\n",
       "      <td>0.0</td>\n",
       "      <td>0.0</td>\n",
       "      <td>0.0</td>\n",
       "    </tr>\n",
       "    <tr>\n",
       "      <th>14</th>\n",
       "      <td>008700.KQ</td>\n",
       "      <td>2017/06/30</td>\n",
       "      <td>-35126</td>\n",
       "      <td>26055</td>\n",
       "      <td>2</td>\n",
       "      <td>2</td>\n",
       "      <td>0</td>\n",
       "      <td>0</td>\n",
       "      <td>0.0</td>\n",
       "      <td>0.0</td>\n",
       "      <td>0.0</td>\n",
       "      <td>6000.0</td>\n",
       "    </tr>\n",
       "    <tr>\n",
       "      <th>15</th>\n",
       "      <td>008700.KQ</td>\n",
       "      <td>2017/06/29</td>\n",
       "      <td>-29878</td>\n",
       "      <td>30862</td>\n",
       "      <td>0</td>\n",
       "      <td>0</td>\n",
       "      <td>0</td>\n",
       "      <td>0</td>\n",
       "      <td>0.0</td>\n",
       "      <td>0.0</td>\n",
       "      <td>0.0</td>\n",
       "      <td>6800.0</td>\n",
       "    </tr>\n",
       "    <tr>\n",
       "      <th>16</th>\n",
       "      <td>008700.KQ</td>\n",
       "      <td>2017/06/28</td>\n",
       "      <td>-18832</td>\n",
       "      <td>5395</td>\n",
       "      <td>0</td>\n",
       "      <td>0</td>\n",
       "      <td>0</td>\n",
       "      <td>0</td>\n",
       "      <td>0.0</td>\n",
       "      <td>0.0</td>\n",
       "      <td>0.0</td>\n",
       "      <td>3000.0</td>\n",
       "    </tr>\n",
       "    <tr>\n",
       "      <th>17</th>\n",
       "      <td>008700.KQ</td>\n",
       "      <td>2017/06/27</td>\n",
       "      <td>-72021</td>\n",
       "      <td>62091</td>\n",
       "      <td>0</td>\n",
       "      <td>0</td>\n",
       "      <td>0</td>\n",
       "      <td>0</td>\n",
       "      <td>0.0</td>\n",
       "      <td>0.0</td>\n",
       "      <td>0.0</td>\n",
       "      <td>9900.0</td>\n",
       "    </tr>\n",
       "    <tr>\n",
       "      <th>18</th>\n",
       "      <td>008700.KQ</td>\n",
       "      <td>2017/06/26</td>\n",
       "      <td>45708</td>\n",
       "      <td>-51409</td>\n",
       "      <td>0</td>\n",
       "      <td>0</td>\n",
       "      <td>0</td>\n",
       "      <td>0</td>\n",
       "      <td>0.0</td>\n",
       "      <td>0.0</td>\n",
       "      <td>0.0</td>\n",
       "      <td>5200.0</td>\n",
       "    </tr>\n",
       "    <tr>\n",
       "      <th>19</th>\n",
       "      <td>008700.KQ</td>\n",
       "      <td>2017/06/23</td>\n",
       "      <td>24447</td>\n",
       "      <td>-20362</td>\n",
       "      <td>-4769</td>\n",
       "      <td>-4769</td>\n",
       "      <td>0</td>\n",
       "      <td>0</td>\n",
       "      <td>0.0</td>\n",
       "      <td>0.0</td>\n",
       "      <td>0.0</td>\n",
       "      <td>2000.0</td>\n",
       "    </tr>\n",
       "    <tr>\n",
       "      <th>20</th>\n",
       "      <td>008700.KQ</td>\n",
       "      <td>2017/06/22</td>\n",
       "      <td>-4458</td>\n",
       "      <td>3044</td>\n",
       "      <td>0</td>\n",
       "      <td>0</td>\n",
       "      <td>0</td>\n",
       "      <td>0</td>\n",
       "      <td>0.0</td>\n",
       "      <td>0.0</td>\n",
       "      <td>0.0</td>\n",
       "      <td>3000.0</td>\n",
       "    </tr>\n",
       "    <tr>\n",
       "      <th>21</th>\n",
       "      <td>008700.KQ</td>\n",
       "      <td>2017/06/21</td>\n",
       "      <td>-81591</td>\n",
       "      <td>79700</td>\n",
       "      <td>0</td>\n",
       "      <td>0</td>\n",
       "      <td>0</td>\n",
       "      <td>0</td>\n",
       "      <td>0.0</td>\n",
       "      <td>0.0</td>\n",
       "      <td>0.0</td>\n",
       "      <td>2000.0</td>\n",
       "    </tr>\n",
       "    <tr>\n",
       "      <th>22</th>\n",
       "      <td>008700.KQ</td>\n",
       "      <td>2017/06/20</td>\n",
       "      <td>107181</td>\n",
       "      <td>-101552</td>\n",
       "      <td>0</td>\n",
       "      <td>0</td>\n",
       "      <td>0</td>\n",
       "      <td>0</td>\n",
       "      <td>0.0</td>\n",
       "      <td>0.0</td>\n",
       "      <td>0.0</td>\n",
       "      <td>20.0</td>\n",
       "    </tr>\n",
       "    <tr>\n",
       "      <th>23</th>\n",
       "      <td>008700.KQ</td>\n",
       "      <td>2017/06/19</td>\n",
       "      <td>3250</td>\n",
       "      <td>-10331</td>\n",
       "      <td>6</td>\n",
       "      <td>6</td>\n",
       "      <td>0</td>\n",
       "      <td>0</td>\n",
       "      <td>0.0</td>\n",
       "      <td>0.0</td>\n",
       "      <td>0.0</td>\n",
       "      <td>0.0</td>\n",
       "    </tr>\n",
       "    <tr>\n",
       "      <th>24</th>\n",
       "      <td>008700.KQ</td>\n",
       "      <td>2017/06/16</td>\n",
       "      <td>-6498</td>\n",
       "      <td>6920</td>\n",
       "      <td>-42</td>\n",
       "      <td>-42</td>\n",
       "      <td>0</td>\n",
       "      <td>0</td>\n",
       "      <td>0.0</td>\n",
       "      <td>0.0</td>\n",
       "      <td>0.0</td>\n",
       "      <td>0.0</td>\n",
       "    </tr>\n",
       "    <tr>\n",
       "      <th>25</th>\n",
       "      <td>008700.KQ</td>\n",
       "      <td>2017/06/15</td>\n",
       "      <td>-23839</td>\n",
       "      <td>19012</td>\n",
       "      <td>-32</td>\n",
       "      <td>16</td>\n",
       "      <td>-48</td>\n",
       "      <td>0</td>\n",
       "      <td>0.0</td>\n",
       "      <td>0.0</td>\n",
       "      <td>0.0</td>\n",
       "      <td>-2101.0</td>\n",
       "    </tr>\n",
       "    <tr>\n",
       "      <th>26</th>\n",
       "      <td>008700.KQ</td>\n",
       "      <td>2017/06/14</td>\n",
       "      <td>25816</td>\n",
       "      <td>-23083</td>\n",
       "      <td>216</td>\n",
       "      <td>216</td>\n",
       "      <td>0</td>\n",
       "      <td>0</td>\n",
       "      <td>0.0</td>\n",
       "      <td>0.0</td>\n",
       "      <td>0.0</td>\n",
       "      <td>600.0</td>\n",
       "    </tr>\n",
       "    <tr>\n",
       "      <th>27</th>\n",
       "      <td>008700.KQ</td>\n",
       "      <td>2017/06/13</td>\n",
       "      <td>-275</td>\n",
       "      <td>-5863</td>\n",
       "      <td>0</td>\n",
       "      <td>0</td>\n",
       "      <td>0</td>\n",
       "      <td>0</td>\n",
       "      <td>0.0</td>\n",
       "      <td>0.0</td>\n",
       "      <td>0.0</td>\n",
       "      <td>16300.0</td>\n",
       "    </tr>\n",
       "    <tr>\n",
       "      <th>28</th>\n",
       "      <td>008700.KQ</td>\n",
       "      <td>2017/06/12</td>\n",
       "      <td>66270</td>\n",
       "      <td>-79123</td>\n",
       "      <td>1103</td>\n",
       "      <td>-154</td>\n",
       "      <td>1164</td>\n",
       "      <td>0</td>\n",
       "      <td>0.0</td>\n",
       "      <td>93.0</td>\n",
       "      <td>0.0</td>\n",
       "      <td>-450.0</td>\n",
       "    </tr>\n",
       "    <tr>\n",
       "      <th>29</th>\n",
       "      <td>008700.KQ</td>\n",
       "      <td>2017/06/09</td>\n",
       "      <td>-15458</td>\n",
       "      <td>12952</td>\n",
       "      <td>0</td>\n",
       "      <td>0</td>\n",
       "      <td>0</td>\n",
       "      <td>0</td>\n",
       "      <td>0.0</td>\n",
       "      <td>0.0</td>\n",
       "      <td>0.0</td>\n",
       "      <td>440.0</td>\n",
       "    </tr>\n",
       "    <tr>\n",
       "      <th>30</th>\n",
       "      <td>008700.KQ</td>\n",
       "      <td>2017/06/08</td>\n",
       "      <td>264499</td>\n",
       "      <td>-231051</td>\n",
       "      <td>0</td>\n",
       "      <td>0</td>\n",
       "      <td>0</td>\n",
       "      <td>0</td>\n",
       "      <td>0.0</td>\n",
       "      <td>0.0</td>\n",
       "      <td>0.0</td>\n",
       "      <td>260.0</td>\n",
       "    </tr>\n",
       "    <tr>\n",
       "      <th>31</th>\n",
       "      <td>008700.KQ</td>\n",
       "      <td>2017/06/07</td>\n",
       "      <td>-81218</td>\n",
       "      <td>47787</td>\n",
       "      <td>-518</td>\n",
       "      <td>-518</td>\n",
       "      <td>0</td>\n",
       "      <td>0</td>\n",
       "      <td>0.0</td>\n",
       "      <td>0.0</td>\n",
       "      <td>0.0</td>\n",
       "      <td>1600.0</td>\n",
       "    </tr>\n",
       "    <tr>\n",
       "      <th>32</th>\n",
       "      <td>008700.KQ</td>\n",
       "      <td>2017/06/05</td>\n",
       "      <td>-2714</td>\n",
       "      <td>-262</td>\n",
       "      <td>46</td>\n",
       "      <td>0</td>\n",
       "      <td>0</td>\n",
       "      <td>0</td>\n",
       "      <td>0.0</td>\n",
       "      <td>46.0</td>\n",
       "      <td>0.0</td>\n",
       "      <td>1000.0</td>\n",
       "    </tr>\n",
       "    <tr>\n",
       "      <th>33</th>\n",
       "      <td>008700.KQ</td>\n",
       "      <td>2017/06/02</td>\n",
       "      <td>-2843</td>\n",
       "      <td>382</td>\n",
       "      <td>198</td>\n",
       "      <td>198</td>\n",
       "      <td>0</td>\n",
       "      <td>0</td>\n",
       "      <td>0.0</td>\n",
       "      <td>0.0</td>\n",
       "      <td>0.0</td>\n",
       "      <td>1885.0</td>\n",
       "    </tr>\n",
       "    <tr>\n",
       "      <th>34</th>\n",
       "      <td>008700.KQ</td>\n",
       "      <td>2017/06/01</td>\n",
       "      <td>40219</td>\n",
       "      <td>-39952</td>\n",
       "      <td>0</td>\n",
       "      <td>0</td>\n",
       "      <td>0</td>\n",
       "      <td>0</td>\n",
       "      <td>0.0</td>\n",
       "      <td>0.0</td>\n",
       "      <td>0.0</td>\n",
       "      <td>0.0</td>\n",
       "    </tr>\n",
       "    <tr>\n",
       "      <th>35</th>\n",
       "      <td>008700.KQ</td>\n",
       "      <td>2017/05/31</td>\n",
       "      <td>41384</td>\n",
       "      <td>-37755</td>\n",
       "      <td>406</td>\n",
       "      <td>406</td>\n",
       "      <td>0</td>\n",
       "      <td>0</td>\n",
       "      <td>0.0</td>\n",
       "      <td>0.0</td>\n",
       "      <td>0.0</td>\n",
       "      <td>-1400.0</td>\n",
       "    </tr>\n",
       "    <tr>\n",
       "      <th>36</th>\n",
       "      <td>008700.KQ</td>\n",
       "      <td>2017/05/30</td>\n",
       "      <td>23237</td>\n",
       "      <td>1976</td>\n",
       "      <td>-299</td>\n",
       "      <td>-299</td>\n",
       "      <td>0</td>\n",
       "      <td>0</td>\n",
       "      <td>0.0</td>\n",
       "      <td>0.0</td>\n",
       "      <td>0.0</td>\n",
       "      <td>0.0</td>\n",
       "    </tr>\n",
       "    <tr>\n",
       "      <th>37</th>\n",
       "      <td>008700.KQ</td>\n",
       "      <td>2017/05/29</td>\n",
       "      <td>-4999</td>\n",
       "      <td>48709</td>\n",
       "      <td>9460</td>\n",
       "      <td>0</td>\n",
       "      <td>0</td>\n",
       "      <td>9460</td>\n",
       "      <td>0.0</td>\n",
       "      <td>0.0</td>\n",
       "      <td>0.0</td>\n",
       "      <td>-58700.0</td>\n",
       "    </tr>\n",
       "    <tr>\n",
       "      <th>38</th>\n",
       "      <td>008700.KQ</td>\n",
       "      <td>2017/05/26</td>\n",
       "      <td>24516</td>\n",
       "      <td>-17605</td>\n",
       "      <td>0</td>\n",
       "      <td>0</td>\n",
       "      <td>0</td>\n",
       "      <td>0</td>\n",
       "      <td>0.0</td>\n",
       "      <td>0.0</td>\n",
       "      <td>0.0</td>\n",
       "      <td>-6000.0</td>\n",
       "    </tr>\n",
       "    <tr>\n",
       "      <th>39</th>\n",
       "      <td>008700.KQ</td>\n",
       "      <td>2017/05/25</td>\n",
       "      <td>108739</td>\n",
       "      <td>-67770</td>\n",
       "      <td>10003</td>\n",
       "      <td>3</td>\n",
       "      <td>0</td>\n",
       "      <td>10000</td>\n",
       "      <td>0.0</td>\n",
       "      <td>0.0</td>\n",
       "      <td>0.0</td>\n",
       "      <td>-57293.0</td>\n",
       "    </tr>\n",
       "    <tr>\n",
       "      <th>40</th>\n",
       "      <td>008700.KQ</td>\n",
       "      <td>2017/05/24</td>\n",
       "      <td>111133</td>\n",
       "      <td>-90247</td>\n",
       "      <td>-9876</td>\n",
       "      <td>124</td>\n",
       "      <td>0</td>\n",
       "      <td>-10000</td>\n",
       "      <td>0.0</td>\n",
       "      <td>0.0</td>\n",
       "      <td>0.0</td>\n",
       "      <td>-5747.0</td>\n",
       "    </tr>\n",
       "    <tr>\n",
       "      <th>41</th>\n",
       "      <td>008700.KQ</td>\n",
       "      <td>2017/05/23</td>\n",
       "      <td>-14960</td>\n",
       "      <td>-1898</td>\n",
       "      <td>10001</td>\n",
       "      <td>1</td>\n",
       "      <td>0</td>\n",
       "      <td>10000</td>\n",
       "      <td>0.0</td>\n",
       "      <td>0.0</td>\n",
       "      <td>0.0</td>\n",
       "      <td>-860.0</td>\n",
       "    </tr>\n",
       "    <tr>\n",
       "      <th>42</th>\n",
       "      <td>008700.KQ</td>\n",
       "      <td>2017/05/22</td>\n",
       "      <td>39612</td>\n",
       "      <td>-30045</td>\n",
       "      <td>82</td>\n",
       "      <td>-36</td>\n",
       "      <td>118</td>\n",
       "      <td>0</td>\n",
       "      <td>0.0</td>\n",
       "      <td>0.0</td>\n",
       "      <td>0.0</td>\n",
       "      <td>15241.0</td>\n",
       "    </tr>\n",
       "    <tr>\n",
       "      <th>43</th>\n",
       "      <td>008700.KQ</td>\n",
       "      <td>2017/05/19</td>\n",
       "      <td>247706</td>\n",
       "      <td>-254742</td>\n",
       "      <td>-9992</td>\n",
       "      <td>8</td>\n",
       "      <td>0</td>\n",
       "      <td>-10000</td>\n",
       "      <td>0.0</td>\n",
       "      <td>0.0</td>\n",
       "      <td>0.0</td>\n",
       "      <td>60.0</td>\n",
       "    </tr>\n",
       "    <tr>\n",
       "      <th>44</th>\n",
       "      <td>008700.KQ</td>\n",
       "      <td>2017/05/18</td>\n",
       "      <td>78232</td>\n",
       "      <td>-56447</td>\n",
       "      <td>-19992</td>\n",
       "      <td>-19992</td>\n",
       "      <td>0</td>\n",
       "      <td>0</td>\n",
       "      <td>0.0</td>\n",
       "      <td>0.0</td>\n",
       "      <td>0.0</td>\n",
       "      <td>-100.0</td>\n",
       "    </tr>\n",
       "  </tbody>\n",
       "</table>\n",
       "</div>"
      ],
      "text/plain": [
       "         code           0        1        2       3       4     5       6  \\\n",
       "0   008700.KQ          날짜       개인     외국인계      기관      기타   NaN     NaN   \n",
       "1   008700.KQ         기관계       증권       투신      은행      종금    보험      기금   \n",
       "2   008700.KQ  2017/07/18        0        0       0       0     0       0   \n",
       "3   008700.KQ  2017/07/17    79986   -95768    1320     299     0    1021   \n",
       "4   008700.KQ  2017/07/14     -299    -3407    1699    1699     0       0   \n",
       "5   008700.KQ  2017/07/13    38434   -37518     431     507     0       0   \n",
       "6   008700.KQ  2017/07/12    37207   -39215     209     209     0       0   \n",
       "7   008700.KQ  2017/07/11    44060   -42611   -1388   -1388     0       0   \n",
       "8   008700.KQ  2017/07/10   102665  -103860       0       0     0       0   \n",
       "9   008700.KQ  2017/07/07   115132  -116733     -14      -7    -7       0   \n",
       "10  008700.KQ  2017/07/06   -23015    21537   -2688   -2688     0       0   \n",
       "11  008700.KQ  2017/07/05  -130821   182065   -1748    -122     0       0   \n",
       "12  008700.KQ  2017/07/04    46219   -45758    1620       0     0       0   \n",
       "13  008700.KQ  2017/07/03   -62383    63379     -22     -22     0       0   \n",
       "14  008700.KQ  2017/06/30   -35126    26055       2       2     0       0   \n",
       "15  008700.KQ  2017/06/29   -29878    30862       0       0     0       0   \n",
       "16  008700.KQ  2017/06/28   -18832     5395       0       0     0       0   \n",
       "17  008700.KQ  2017/06/27   -72021    62091       0       0     0       0   \n",
       "18  008700.KQ  2017/06/26    45708   -51409       0       0     0       0   \n",
       "19  008700.KQ  2017/06/23    24447   -20362   -4769   -4769     0       0   \n",
       "20  008700.KQ  2017/06/22    -4458     3044       0       0     0       0   \n",
       "21  008700.KQ  2017/06/21   -81591    79700       0       0     0       0   \n",
       "22  008700.KQ  2017/06/20   107181  -101552       0       0     0       0   \n",
       "23  008700.KQ  2017/06/19     3250   -10331       6       6     0       0   \n",
       "24  008700.KQ  2017/06/16    -6498     6920     -42     -42     0       0   \n",
       "25  008700.KQ  2017/06/15   -23839    19012     -32      16   -48       0   \n",
       "26  008700.KQ  2017/06/14    25816   -23083     216     216     0       0   \n",
       "27  008700.KQ  2017/06/13     -275    -5863       0       0     0       0   \n",
       "28  008700.KQ  2017/06/12    66270   -79123    1103    -154  1164       0   \n",
       "29  008700.KQ  2017/06/09   -15458    12952       0       0     0       0   \n",
       "30  008700.KQ  2017/06/08   264499  -231051       0       0     0       0   \n",
       "31  008700.KQ  2017/06/07   -81218    47787    -518    -518     0       0   \n",
       "32  008700.KQ  2017/06/05    -2714     -262      46       0     0       0   \n",
       "33  008700.KQ  2017/06/02    -2843      382     198     198     0       0   \n",
       "34  008700.KQ  2017/06/01    40219   -39952       0       0     0       0   \n",
       "35  008700.KQ  2017/05/31    41384   -37755     406     406     0       0   \n",
       "36  008700.KQ  2017/05/30    23237     1976    -299    -299     0       0   \n",
       "37  008700.KQ  2017/05/29    -4999    48709    9460       0     0    9460   \n",
       "38  008700.KQ  2017/05/26    24516   -17605       0       0     0       0   \n",
       "39  008700.KQ  2017/05/25   108739   -67770   10003       3     0   10000   \n",
       "40  008700.KQ  2017/05/24   111133   -90247   -9876     124     0  -10000   \n",
       "41  008700.KQ  2017/05/23   -14960    -1898   10001       1     0   10000   \n",
       "42  008700.KQ  2017/05/22    39612   -30045      82     -36   118       0   \n",
       "43  008700.KQ  2017/05/19   247706  -254742   -9992       8     0  -10000   \n",
       "44  008700.KQ  2017/05/18    78232   -56447  -19992  -19992     0       0   \n",
       "\n",
       "      7     8    9       10  \n",
       "0   NaN   NaN  NaN      NaN  \n",
       "1   NaN   NaN  NaN      NaN  \n",
       "2   0.0   0.0  0.0      0.0  \n",
       "3   0.0   0.0  0.0   8640.0  \n",
       "4   0.0   0.0  0.0   8977.0  \n",
       "5   0.0 -76.0  0.0    -27.0  \n",
       "6   0.0   0.0  0.0   -160.0  \n",
       "7   0.0   0.0  0.0    -10.0  \n",
       "8   0.0   0.0  0.0     32.0  \n",
       "9   0.0   0.0  0.0      0.0  \n",
       "10  0.0   0.0  0.0   1000.0  \n",
       "11  0.0  -6.0  0.0 -47046.0  \n",
       "12  0.0   0.0  0.0  -2200.0  \n",
       "13  0.0   0.0  0.0      0.0  \n",
       "14  0.0   0.0  0.0   6000.0  \n",
       "15  0.0   0.0  0.0   6800.0  \n",
       "16  0.0   0.0  0.0   3000.0  \n",
       "17  0.0   0.0  0.0   9900.0  \n",
       "18  0.0   0.0  0.0   5200.0  \n",
       "19  0.0   0.0  0.0   2000.0  \n",
       "20  0.0   0.0  0.0   3000.0  \n",
       "21  0.0   0.0  0.0   2000.0  \n",
       "22  0.0   0.0  0.0     20.0  \n",
       "23  0.0   0.0  0.0      0.0  \n",
       "24  0.0   0.0  0.0      0.0  \n",
       "25  0.0   0.0  0.0  -2101.0  \n",
       "26  0.0   0.0  0.0    600.0  \n",
       "27  0.0   0.0  0.0  16300.0  \n",
       "28  0.0  93.0  0.0   -450.0  \n",
       "29  0.0   0.0  0.0    440.0  \n",
       "30  0.0   0.0  0.0    260.0  \n",
       "31  0.0   0.0  0.0   1600.0  \n",
       "32  0.0  46.0  0.0   1000.0  \n",
       "33  0.0   0.0  0.0   1885.0  \n",
       "34  0.0   0.0  0.0      0.0  \n",
       "35  0.0   0.0  0.0  -1400.0  \n",
       "36  0.0   0.0  0.0      0.0  \n",
       "37  0.0   0.0  0.0 -58700.0  \n",
       "38  0.0   0.0  0.0  -6000.0  \n",
       "39  0.0   0.0  0.0 -57293.0  \n",
       "40  0.0   0.0  0.0  -5747.0  \n",
       "41  0.0   0.0  0.0   -860.0  \n",
       "42  0.0   0.0  0.0  15241.0  \n",
       "43  0.0   0.0  0.0     60.0  \n",
       "44  0.0   0.0  0.0   -100.0  "
      ]
     },
     "execution_count": 42,
     "metadata": {},
     "output_type": "execute_result"
    }
   ],
   "source": [
    "from lxml.html import fromstring, tostring\n",
    "html_code = fromstring(response.text)\n",
    "table = html_code.xpath('//table[@class=\"content1\"]')\n",
    "inner_html = tostring(table[0],encoding='unicode')\n",
    "df = pd.read_html(inner_html)[0]\n",
    "df.insert(0,'code',code)\n",
    "df"
   ]
  },
  {
   "cell_type": "code",
   "execution_count": 41,
   "metadata": {},
   "outputs": [
    {
     "data": {
      "text/html": [
       "<div>\n",
       "<table border=\"1\" class=\"dataframe\">\n",
       "  <thead>\n",
       "    <tr style=\"text-align: right;\">\n",
       "      <th></th>\n",
       "      <th>code</th>\n",
       "      <th>008700.KQ</th>\n",
       "      <th>날짜</th>\n",
       "      <th>개인</th>\n",
       "      <th>008700.KQ</th>\n",
       "      <th>기관계</th>\n",
       "      <th>증권</th>\n",
       "      <th>투신</th>\n",
       "      <th>은행</th>\n",
       "      <th>종금</th>\n",
       "      <th>보험</th>\n",
       "      <th>기관</th>\n",
       "    </tr>\n",
       "  </thead>\n",
       "  <tbody>\n",
       "    <tr>\n",
       "      <th>0</th>\n",
       "      <td>008700.KQ</td>\n",
       "      <td>2017/07/18</td>\n",
       "      <td>0</td>\n",
       "      <td>0</td>\n",
       "      <td>0</td>\n",
       "      <td>0</td>\n",
       "      <td>0</td>\n",
       "      <td>0</td>\n",
       "      <td>0.0</td>\n",
       "      <td>0.0</td>\n",
       "      <td>0.0</td>\n",
       "      <td>0.0</td>\n",
       "    </tr>\n",
       "    <tr>\n",
       "      <th>1</th>\n",
       "      <td>008700.KQ</td>\n",
       "      <td>2017/07/17</td>\n",
       "      <td>79986</td>\n",
       "      <td>-95768</td>\n",
       "      <td>1320</td>\n",
       "      <td>299</td>\n",
       "      <td>0</td>\n",
       "      <td>1021</td>\n",
       "      <td>0.0</td>\n",
       "      <td>0.0</td>\n",
       "      <td>0.0</td>\n",
       "      <td>8640.0</td>\n",
       "    </tr>\n",
       "    <tr>\n",
       "      <th>2</th>\n",
       "      <td>008700.KQ</td>\n",
       "      <td>2017/07/14</td>\n",
       "      <td>-299</td>\n",
       "      <td>-3407</td>\n",
       "      <td>1699</td>\n",
       "      <td>1699</td>\n",
       "      <td>0</td>\n",
       "      <td>0</td>\n",
       "      <td>0.0</td>\n",
       "      <td>0.0</td>\n",
       "      <td>0.0</td>\n",
       "      <td>8977.0</td>\n",
       "    </tr>\n",
       "    <tr>\n",
       "      <th>3</th>\n",
       "      <td>008700.KQ</td>\n",
       "      <td>2017/07/13</td>\n",
       "      <td>38434</td>\n",
       "      <td>-37518</td>\n",
       "      <td>431</td>\n",
       "      <td>507</td>\n",
       "      <td>0</td>\n",
       "      <td>0</td>\n",
       "      <td>0.0</td>\n",
       "      <td>-76.0</td>\n",
       "      <td>0.0</td>\n",
       "      <td>-27.0</td>\n",
       "    </tr>\n",
       "    <tr>\n",
       "      <th>4</th>\n",
       "      <td>008700.KQ</td>\n",
       "      <td>2017/07/12</td>\n",
       "      <td>37207</td>\n",
       "      <td>-39215</td>\n",
       "      <td>209</td>\n",
       "      <td>209</td>\n",
       "      <td>0</td>\n",
       "      <td>0</td>\n",
       "      <td>0.0</td>\n",
       "      <td>0.0</td>\n",
       "      <td>0.0</td>\n",
       "      <td>-160.0</td>\n",
       "    </tr>\n",
       "  </tbody>\n",
       "</table>\n",
       "</div>"
      ],
      "text/plain": [
       "        code   008700.KQ     날짜      개인 008700.KQ   기관계 증권    투신   은행    종금  \\\n",
       "0  008700.KQ  2017/07/18      0       0         0     0  0     0  0.0   0.0   \n",
       "1  008700.KQ  2017/07/17  79986  -95768      1320   299  0  1021  0.0   0.0   \n",
       "2  008700.KQ  2017/07/14   -299   -3407      1699  1699  0     0  0.0   0.0   \n",
       "3  008700.KQ  2017/07/13  38434  -37518       431   507  0     0  0.0 -76.0   \n",
       "4  008700.KQ  2017/07/12  37207  -39215       209   209  0     0  0.0   0.0   \n",
       "\n",
       "    보험      기관  \n",
       "0  0.0     0.0  \n",
       "1  0.0  8640.0  \n",
       "2  0.0  8977.0  \n",
       "3  0.0   -27.0  \n",
       "4  0.0  -160.0  "
      ]
     },
     "execution_count": 41,
     "metadata": {},
     "output_type": "execute_result"
    }
   ],
   "source": [
    "row1 = list(df.iloc[0,:]) ; row2 = list(df.iloc[1,:])\n",
    "row = {0:row1[0], 1:row1[1], 2:row1[2], 3:row2[0], 4:row2[1], 5:row2[2], \n",
    "       6:row2[3], 7:row2[4], 8:row2[5], 9:row2[6], 10:row1[4]}\n",
    "df = df.iloc[2:,:]\n",
    "df = df.rename(columns=row)\n",
    "df.reset_index(drop='True', inplace=True); df.head()"
   ]
  },
  {
   "cell_type": "code",
   "execution_count": 39,
   "metadata": {},
   "outputs": [
    {
     "data": {
      "text/html": [
       "<div>\n",
       "<table border=\"1\" class=\"dataframe\">\n",
       "  <thead>\n",
       "    <tr style=\"text-align: right;\">\n",
       "      <th></th>\n",
       "      <th>날짜</th>\n",
       "      <th>개인</th>\n",
       "      <th>외국인계</th>\n",
       "      <th>기관계</th>\n",
       "      <th>증권</th>\n",
       "      <th>투신</th>\n",
       "      <th>은행</th>\n",
       "      <th>종금</th>\n",
       "      <th>보험</th>\n",
       "      <th>기금</th>\n",
       "      <th>기타</th>\n",
       "    </tr>\n",
       "  </thead>\n",
       "  <tbody>\n",
       "    <tr>\n",
       "      <th>0</th>\n",
       "      <td>2017/07/18</td>\n",
       "      <td>0</td>\n",
       "      <td>0</td>\n",
       "      <td>0</td>\n",
       "      <td>0</td>\n",
       "      <td>0</td>\n",
       "      <td>0</td>\n",
       "      <td>0.0</td>\n",
       "      <td>0.0</td>\n",
       "      <td>0.0</td>\n",
       "      <td>0.0</td>\n",
       "    </tr>\n",
       "    <tr>\n",
       "      <th>1</th>\n",
       "      <td>2017/07/17</td>\n",
       "      <td>79986</td>\n",
       "      <td>-95768</td>\n",
       "      <td>1320</td>\n",
       "      <td>299</td>\n",
       "      <td>0</td>\n",
       "      <td>1021</td>\n",
       "      <td>0.0</td>\n",
       "      <td>0.0</td>\n",
       "      <td>0.0</td>\n",
       "      <td>8640.0</td>\n",
       "    </tr>\n",
       "    <tr>\n",
       "      <th>2</th>\n",
       "      <td>2017/07/14</td>\n",
       "      <td>-299</td>\n",
       "      <td>-3407</td>\n",
       "      <td>1699</td>\n",
       "      <td>1699</td>\n",
       "      <td>0</td>\n",
       "      <td>0</td>\n",
       "      <td>0.0</td>\n",
       "      <td>0.0</td>\n",
       "      <td>0.0</td>\n",
       "      <td>8977.0</td>\n",
       "    </tr>\n",
       "    <tr>\n",
       "      <th>3</th>\n",
       "      <td>2017/07/13</td>\n",
       "      <td>38434</td>\n",
       "      <td>-37518</td>\n",
       "      <td>431</td>\n",
       "      <td>507</td>\n",
       "      <td>0</td>\n",
       "      <td>0</td>\n",
       "      <td>0.0</td>\n",
       "      <td>-76.0</td>\n",
       "      <td>0.0</td>\n",
       "      <td>-27.0</td>\n",
       "    </tr>\n",
       "    <tr>\n",
       "      <th>4</th>\n",
       "      <td>2017/07/12</td>\n",
       "      <td>37207</td>\n",
       "      <td>-39215</td>\n",
       "      <td>209</td>\n",
       "      <td>209</td>\n",
       "      <td>0</td>\n",
       "      <td>0</td>\n",
       "      <td>0.0</td>\n",
       "      <td>0.0</td>\n",
       "      <td>0.0</td>\n",
       "      <td>-160.0</td>\n",
       "    </tr>\n",
       "  </tbody>\n",
       "</table>\n",
       "</div>"
      ],
      "text/plain": [
       "           날짜     개인    외국인계   기관계    증권 투신    은행   종금    보험   기금      기타\n",
       "0  2017/07/18      0       0     0     0  0     0  0.0   0.0  0.0     0.0\n",
       "1  2017/07/17  79986  -95768  1320   299  0  1021  0.0   0.0  0.0  8640.0\n",
       "2  2017/07/14   -299   -3407  1699  1699  0     0  0.0   0.0  0.0  8977.0\n",
       "3  2017/07/13  38434  -37518   431   507  0     0  0.0 -76.0  0.0   -27.0\n",
       "4  2017/07/12  37207  -39215   209   209  0     0  0.0   0.0  0.0  -160.0"
      ]
     },
     "execution_count": 39,
     "metadata": {},
     "output_type": "execute_result"
    }
   ],
   "source": [
    "df[df.index<5]"
   ]
  },
  {
   "cell_type": "markdown",
   "metadata": {
    "collapsed": true
   },
   "source": [
    "## PAXNET 공매도"
   ]
  },
  {
   "cell_type": "code",
   "execution_count": 14,
   "metadata": {},
   "outputs": [
    {
     "name": "stdout",
     "output_type": "stream",
     "text": [
      "euc-kr\n",
      "99/xhtml\" lang=\"ko\" xml:lang=\"ko\">\r\n",
      "<head>\r\n",
      "<meta http-equiv=\"X-UA-Compatible\" content=\"IE=edge\">\r\n",
      "<meta http-equiv=\"Content-Type\" content=\"text/html; charset=euc-kr\" />\r\n",
      "<title>아남전자 공매도 &#45; 팍스넷 No.1 증권포털</title> \r\n",
      "<meta http-equiv=\"cache-control\" content=\"no-cache\" />\r\n",
      "<meta http-equiv=\"pragma\" c\n"
     ]
    }
   ],
   "source": [
    "code = '008700.KQ'; no = 1\n",
    "import requests   # 이게 대부분 포맷을 자동 잡아주나보다 ^^; (euc_kr, utf-8 모두 아래는 동일 코딩적용... )\n",
    "url = \"http://paxnet.moneta.co.kr/stock/stockIntro/shortSale/shortSaleList.jsp?code=\"+\\\n",
    "       code[:-3]+\"&p_curr_page=\" + str(no)\n",
    "response = requests.get(url) \n",
    "print(response.encoding)\n",
    "print(response.text[200:500])"
   ]
  },
  {
   "cell_type": "code",
   "execution_count": 17,
   "metadata": {
    "collapsed": true
   },
   "outputs": [],
   "source": [
    "from lxml.html import fromstring, tostring\n",
    "html_code = fromstring(response.text)\n",
    "table = html_code.xpath('//div[@class=\"data\"]')"
   ]
  },
  {
   "cell_type": "code",
   "execution_count": 20,
   "metadata": {},
   "outputs": [
    {
     "data": {
      "text/html": [
       "<div>\n",
       "<table border=\"1\" class=\"dataframe\">\n",
       "  <thead>\n",
       "    <tr style=\"text-align: right;\">\n",
       "      <th></th>\n",
       "      <th>0</th>\n",
       "      <th>1</th>\n",
       "      <th>2</th>\n",
       "      <th>3</th>\n",
       "      <th>4</th>\n",
       "      <th>5</th>\n",
       "    </tr>\n",
       "  </thead>\n",
       "  <tbody>\n",
       "    <tr>\n",
       "      <th>0</th>\n",
       "      <td>일자</td>\n",
       "      <td>종가</td>\n",
       "      <td>거래량</td>\n",
       "      <td>매매비중</td>\n",
       "      <td>차입증권매도</td>\n",
       "      <td>NaN</td>\n",
       "    </tr>\n",
       "    <tr>\n",
       "      <th>1</th>\n",
       "      <td>공매도 수량</td>\n",
       "      <td>금액(천원)</td>\n",
       "      <td>NaN</td>\n",
       "      <td>NaN</td>\n",
       "      <td>NaN</td>\n",
       "      <td>NaN</td>\n",
       "    </tr>\n",
       "    <tr>\n",
       "      <th>2</th>\n",
       "      <td>2017/07/17</td>\n",
       "      <td>2885</td>\n",
       "      <td>4430491</td>\n",
       "      <td>1.70%</td>\n",
       "      <td>75183</td>\n",
       "      <td>220436.0</td>\n",
       "    </tr>\n",
       "  </tbody>\n",
       "</table>\n",
       "</div>"
      ],
      "text/plain": [
       "            0       1        2      3       4         5\n",
       "0          일자      종가      거래량   매매비중  차입증권매도       NaN\n",
       "1      공매도 수량  금액(천원)      NaN    NaN     NaN       NaN\n",
       "2  2017/07/17    2885  4430491  1.70%   75183  220436.0"
      ]
     },
     "execution_count": 20,
     "metadata": {},
     "output_type": "execute_result"
    }
   ],
   "source": [
    "inner_html = tostring(table[0],encoding='unicode')\n",
    "df = pd.read_html(inner_html)[0]; df[df.index<3]"
   ]
  },
  {
   "cell_type": "code",
   "execution_count": 40,
   "metadata": {},
   "outputs": [
    {
     "data": {
      "text/plain": [
       "{0: '일자', 1: '종가', 2: '거래량', 3: '매매비중', 4: '공매도 수량', 5: '금액(천원)'}"
      ]
     },
     "execution_count": 40,
     "metadata": {},
     "output_type": "execute_result"
    }
   ],
   "source": [
    "row0 = df.iloc[0, :]; result = {}\n",
    "for i , n in enumerate(row0):\n",
    "    result[i] = n\n",
    "result[4] = row1[0]; result[5] = row1[1]\n",
    "result"
   ]
  },
  {
   "cell_type": "code",
   "execution_count": 43,
   "metadata": {},
   "outputs": [
    {
     "data": {
      "text/html": [
       "<div>\n",
       "<table border=\"1\" class=\"dataframe\">\n",
       "  <thead>\n",
       "    <tr style=\"text-align: right;\">\n",
       "      <th></th>\n",
       "      <th>일자</th>\n",
       "      <th>종가</th>\n",
       "      <th>거래량</th>\n",
       "      <th>매매비중</th>\n",
       "      <th>공매도 수량</th>\n",
       "      <th>금액(천원)</th>\n",
       "    </tr>\n",
       "  </thead>\n",
       "  <tbody>\n",
       "    <tr>\n",
       "      <th>6</th>\n",
       "      <td>2017/07/11</td>\n",
       "      <td>2910</td>\n",
       "      <td>3259560</td>\n",
       "      <td>0.88%</td>\n",
       "      <td>28566</td>\n",
       "      <td>84126.0</td>\n",
       "    </tr>\n",
       "    <tr>\n",
       "      <th>7</th>\n",
       "      <td>2017/07/10</td>\n",
       "      <td>2900</td>\n",
       "      <td>4323386</td>\n",
       "      <td>3.86%</td>\n",
       "      <td>167007</td>\n",
       "      <td>495175.0</td>\n",
       "    </tr>\n",
       "    <tr>\n",
       "      <th>8</th>\n",
       "      <td>2017/07/07</td>\n",
       "      <td>3075</td>\n",
       "      <td>4304676</td>\n",
       "      <td>0.54%</td>\n",
       "      <td>23475</td>\n",
       "      <td>73242.0</td>\n",
       "    </tr>\n",
       "    <tr>\n",
       "      <th>9</th>\n",
       "      <td>2017/07/06</td>\n",
       "      <td>3150</td>\n",
       "      <td>7216023</td>\n",
       "      <td>0.16%</td>\n",
       "      <td>11616</td>\n",
       "      <td>36718.0</td>\n",
       "    </tr>\n",
       "    <tr>\n",
       "      <th>10</th>\n",
       "      <td>2017/07/05</td>\n",
       "      <td>3200</td>\n",
       "      <td>34787799</td>\n",
       "      <td>0.05%</td>\n",
       "      <td>17788</td>\n",
       "      <td>54715.0</td>\n",
       "    </tr>\n",
       "  </tbody>\n",
       "</table>\n",
       "</div>"
      ],
      "text/plain": [
       "            일자    종가       거래량   매매비중  공매도 수량    금액(천원)\n",
       "6   2017/07/11  2910   3259560  0.88%   28566   84126.0\n",
       "7   2017/07/10  2900   4323386  3.86%  167007  495175.0\n",
       "8   2017/07/07  3075   4304676  0.54%   23475   73242.0\n",
       "9   2017/07/06  3150   7216023  0.16%   11616   36718.0\n",
       "10  2017/07/05  3200  34787799  0.05%   17788   54715.0"
      ]
     },
     "execution_count": 43,
     "metadata": {},
     "output_type": "execute_result"
    }
   ],
   "source": [
    "df = df.iloc[2:,:]\n",
    "df = df.rename(columns=result)\n",
    "df.head(5)"
   ]
  },
  {
   "cell_type": "code",
   "execution_count": null,
   "metadata": {
    "collapsed": true
   },
   "outputs": [],
   "source": []
  },
  {
   "cell_type": "code",
   "execution_count": null,
   "metadata": {
    "collapsed": true
   },
   "outputs": [],
   "source": []
  },
  {
   "cell_type": "code",
   "execution_count": null,
   "metadata": {
    "collapsed": true
   },
   "outputs": [],
   "source": []
  },
  {
   "cell_type": "code",
   "execution_count": 35,
   "metadata": {},
   "outputs": [
    {
     "data": {
      "text/plain": [
       "0    공매도 수량\n",
       "1    금액(천원)\n",
       "2       NaN\n",
       "3       NaN\n",
       "4       NaN\n",
       "5       NaN\n",
       "Name: 1, dtype: object"
      ]
     },
     "execution_count": 35,
     "metadata": {},
     "output_type": "execute_result"
    }
   ],
   "source": [
    "row1 = df.iloc[1, :]\n",
    "row1"
   ]
  },
  {
   "cell_type": "code",
   "execution_count": null,
   "metadata": {
    "collapsed": true
   },
   "outputs": [],
   "source": []
  },
  {
   "cell_type": "code",
   "execution_count": null,
   "metadata": {
    "collapsed": true
   },
   "outputs": [],
   "source": []
  },
  {
   "cell_type": "code",
   "execution_count": null,
   "metadata": {
    "collapsed": true
   },
   "outputs": [],
   "source": []
  },
  {
   "cell_type": "code",
   "execution_count": 18,
   "metadata": {},
   "outputs": [
    {
     "data": {
      "text/html": [
       "<div>\n",
       "<table border=\"1\" class=\"dataframe\">\n",
       "  <thead>\n",
       "    <tr style=\"text-align: right;\">\n",
       "      <th></th>\n",
       "      <th>code</th>\n",
       "      <th>0</th>\n",
       "      <th>1</th>\n",
       "      <th>2</th>\n",
       "      <th>3</th>\n",
       "      <th>4</th>\n",
       "      <th>5</th>\n",
       "    </tr>\n",
       "  </thead>\n",
       "  <tbody>\n",
       "    <tr>\n",
       "      <th>0</th>\n",
       "      <td>008700.KQ</td>\n",
       "      <td>일자</td>\n",
       "      <td>종가</td>\n",
       "      <td>거래량</td>\n",
       "      <td>매매비중</td>\n",
       "      <td>차입증권매도</td>\n",
       "      <td>NaN</td>\n",
       "    </tr>\n",
       "    <tr>\n",
       "      <th>1</th>\n",
       "      <td>008700.KQ</td>\n",
       "      <td>공매도 수량</td>\n",
       "      <td>금액(천원)</td>\n",
       "      <td>NaN</td>\n",
       "      <td>NaN</td>\n",
       "      <td>NaN</td>\n",
       "      <td>NaN</td>\n",
       "    </tr>\n",
       "    <tr>\n",
       "      <th>2</th>\n",
       "      <td>008700.KQ</td>\n",
       "      <td>2017/07/17</td>\n",
       "      <td>2885</td>\n",
       "      <td>4430491</td>\n",
       "      <td>1.70%</td>\n",
       "      <td>75183</td>\n",
       "      <td>220436.0</td>\n",
       "    </tr>\n",
       "    <tr>\n",
       "      <th>3</th>\n",
       "      <td>008700.KQ</td>\n",
       "      <td>2017/07/14</td>\n",
       "      <td>2830</td>\n",
       "      <td>1451089</td>\n",
       "      <td>0.68%</td>\n",
       "      <td>9902</td>\n",
       "      <td>27923.0</td>\n",
       "    </tr>\n",
       "    <tr>\n",
       "      <th>4</th>\n",
       "      <td>008700.KQ</td>\n",
       "      <td>2017/07/13</td>\n",
       "      <td>2840</td>\n",
       "      <td>2114328</td>\n",
       "      <td>0.40%</td>\n",
       "      <td>8524</td>\n",
       "      <td>24284.0</td>\n",
       "    </tr>\n",
       "    <tr>\n",
       "      <th>5</th>\n",
       "      <td>008700.KQ</td>\n",
       "      <td>2017/07/12</td>\n",
       "      <td>2830</td>\n",
       "      <td>2397223</td>\n",
       "      <td>2.16%</td>\n",
       "      <td>51820</td>\n",
       "      <td>150744.0</td>\n",
       "    </tr>\n",
       "    <tr>\n",
       "      <th>6</th>\n",
       "      <td>008700.KQ</td>\n",
       "      <td>2017/07/11</td>\n",
       "      <td>2910</td>\n",
       "      <td>3259560</td>\n",
       "      <td>0.88%</td>\n",
       "      <td>28566</td>\n",
       "      <td>84126.0</td>\n",
       "    </tr>\n",
       "    <tr>\n",
       "      <th>7</th>\n",
       "      <td>008700.KQ</td>\n",
       "      <td>2017/07/10</td>\n",
       "      <td>2900</td>\n",
       "      <td>4323386</td>\n",
       "      <td>3.86%</td>\n",
       "      <td>167007</td>\n",
       "      <td>495175.0</td>\n",
       "    </tr>\n",
       "    <tr>\n",
       "      <th>8</th>\n",
       "      <td>008700.KQ</td>\n",
       "      <td>2017/07/07</td>\n",
       "      <td>3075</td>\n",
       "      <td>4304676</td>\n",
       "      <td>0.54%</td>\n",
       "      <td>23475</td>\n",
       "      <td>73242.0</td>\n",
       "    </tr>\n",
       "    <tr>\n",
       "      <th>9</th>\n",
       "      <td>008700.KQ</td>\n",
       "      <td>2017/07/06</td>\n",
       "      <td>3150</td>\n",
       "      <td>7216023</td>\n",
       "      <td>0.16%</td>\n",
       "      <td>11616</td>\n",
       "      <td>36718.0</td>\n",
       "    </tr>\n",
       "    <tr>\n",
       "      <th>10</th>\n",
       "      <td>008700.KQ</td>\n",
       "      <td>2017/07/05</td>\n",
       "      <td>3200</td>\n",
       "      <td>34787799</td>\n",
       "      <td>0.05%</td>\n",
       "      <td>17788</td>\n",
       "      <td>54715.0</td>\n",
       "    </tr>\n",
       "    <tr>\n",
       "      <th>11</th>\n",
       "      <td>008700.KQ</td>\n",
       "      <td>2017/07/04</td>\n",
       "      <td>2840</td>\n",
       "      <td>7160671</td>\n",
       "      <td>0.46%</td>\n",
       "      <td>32991</td>\n",
       "      <td>94123.0</td>\n",
       "    </tr>\n",
       "    <tr>\n",
       "      <th>12</th>\n",
       "      <td>008700.KQ</td>\n",
       "      <td>2017/07/03</td>\n",
       "      <td>2760</td>\n",
       "      <td>2707828</td>\n",
       "      <td>0.41%</td>\n",
       "      <td>11075</td>\n",
       "      <td>30843.0</td>\n",
       "    </tr>\n",
       "    <tr>\n",
       "      <th>13</th>\n",
       "      <td>008700.KQ</td>\n",
       "      <td>2017/06/30</td>\n",
       "      <td>2810</td>\n",
       "      <td>2699623</td>\n",
       "      <td>0.37%</td>\n",
       "      <td>9968</td>\n",
       "      <td>28508.0</td>\n",
       "    </tr>\n",
       "    <tr>\n",
       "      <th>14</th>\n",
       "      <td>008700.KQ</td>\n",
       "      <td>2017/06/29</td>\n",
       "      <td>2870</td>\n",
       "      <td>2458718</td>\n",
       "      <td>0.18%</td>\n",
       "      <td>4293</td>\n",
       "      <td>12926.0</td>\n",
       "    </tr>\n",
       "    <tr>\n",
       "      <th>15</th>\n",
       "      <td>008700.KQ</td>\n",
       "      <td>2017/06/28</td>\n",
       "      <td>2960</td>\n",
       "      <td>3322335</td>\n",
       "      <td>0.57%</td>\n",
       "      <td>19061</td>\n",
       "      <td>57526.0</td>\n",
       "    </tr>\n",
       "    <tr>\n",
       "      <th>16</th>\n",
       "      <td>008700.KQ</td>\n",
       "      <td>2017/06/27</td>\n",
       "      <td>3015</td>\n",
       "      <td>1880197</td>\n",
       "      <td>0.42%</td>\n",
       "      <td>7909</td>\n",
       "      <td>23932.0</td>\n",
       "    </tr>\n",
       "    <tr>\n",
       "      <th>17</th>\n",
       "      <td>008700.KQ</td>\n",
       "      <td>2017/06/26</td>\n",
       "      <td>3060</td>\n",
       "      <td>3208988</td>\n",
       "      <td>0.88%</td>\n",
       "      <td>28294</td>\n",
       "      <td>88928.0</td>\n",
       "    </tr>\n",
       "    <tr>\n",
       "      <th>18</th>\n",
       "      <td>008700.KQ</td>\n",
       "      <td>2017/06/23</td>\n",
       "      <td>3055</td>\n",
       "      <td>2931947</td>\n",
       "      <td>1.86%</td>\n",
       "      <td>54671</td>\n",
       "      <td>167074.0</td>\n",
       "    </tr>\n",
       "    <tr>\n",
       "      <th>19</th>\n",
       "      <td>008700.KQ</td>\n",
       "      <td>2017/06/22</td>\n",
       "      <td>3040</td>\n",
       "      <td>2204175</td>\n",
       "      <td>0.29%</td>\n",
       "      <td>6492</td>\n",
       "      <td>20151.0</td>\n",
       "    </tr>\n",
       "    <tr>\n",
       "      <th>20</th>\n",
       "      <td>008700.KQ</td>\n",
       "      <td>2017/06/21</td>\n",
       "      <td>3065</td>\n",
       "      <td>2635008</td>\n",
       "      <td>0.62%</td>\n",
       "      <td>16208</td>\n",
       "      <td>49483.0</td>\n",
       "    </tr>\n",
       "    <tr>\n",
       "      <th>21</th>\n",
       "      <td>008700.KQ</td>\n",
       "      <td>2017/06/20</td>\n",
       "      <td>3110</td>\n",
       "      <td>3023065</td>\n",
       "      <td>0.74%</td>\n",
       "      <td>22230</td>\n",
       "      <td>71202.0</td>\n",
       "    </tr>\n",
       "    <tr>\n",
       "      <th>22</th>\n",
       "      <td>008700.KQ</td>\n",
       "      <td>2017/06/19</td>\n",
       "      <td>3300</td>\n",
       "      <td>4072723</td>\n",
       "      <td>0.85%</td>\n",
       "      <td>34470</td>\n",
       "      <td>110131.0</td>\n",
       "    </tr>\n",
       "    <tr>\n",
       "      <th>23</th>\n",
       "      <td>008700.KQ</td>\n",
       "      <td>2017/06/16</td>\n",
       "      <td>3140</td>\n",
       "      <td>2431272</td>\n",
       "      <td>0.28%</td>\n",
       "      <td>6727</td>\n",
       "      <td>21264.0</td>\n",
       "    </tr>\n",
       "    <tr>\n",
       "      <th>24</th>\n",
       "      <td>008700.KQ</td>\n",
       "      <td>2017/06/15</td>\n",
       "      <td>3170</td>\n",
       "      <td>3014039</td>\n",
       "      <td>0.22%</td>\n",
       "      <td>6710</td>\n",
       "      <td>21223.0</td>\n",
       "    </tr>\n",
       "    <tr>\n",
       "      <th>25</th>\n",
       "      <td>008700.KQ</td>\n",
       "      <td>2017/06/14</td>\n",
       "      <td>3135</td>\n",
       "      <td>5682620</td>\n",
       "      <td>0.32%</td>\n",
       "      <td>18372</td>\n",
       "      <td>59598.0</td>\n",
       "    </tr>\n",
       "    <tr>\n",
       "      <th>26</th>\n",
       "      <td>008700.KQ</td>\n",
       "      <td>2017/06/12</td>\n",
       "      <td>3055</td>\n",
       "      <td>2596570</td>\n",
       "      <td>0.07%</td>\n",
       "      <td>1747</td>\n",
       "      <td>5473.0</td>\n",
       "    </tr>\n",
       "    <tr>\n",
       "      <th>27</th>\n",
       "      <td>008700.KQ</td>\n",
       "      <td>2017/06/09</td>\n",
       "      <td>3155</td>\n",
       "      <td>3071908</td>\n",
       "      <td>0.37%</td>\n",
       "      <td>11449</td>\n",
       "      <td>35938.0</td>\n",
       "    </tr>\n",
       "    <tr>\n",
       "      <th>28</th>\n",
       "      <td>008700.KQ</td>\n",
       "      <td>2017/06/08</td>\n",
       "      <td>3165</td>\n",
       "      <td>7410584</td>\n",
       "      <td>2.02%</td>\n",
       "      <td>149834</td>\n",
       "      <td>499846.0</td>\n",
       "    </tr>\n",
       "    <tr>\n",
       "      <th>29</th>\n",
       "      <td>008700.KQ</td>\n",
       "      <td>2017/06/07</td>\n",
       "      <td>3225</td>\n",
       "      <td>6184462</td>\n",
       "      <td>0.73%</td>\n",
       "      <td>45335</td>\n",
       "      <td>139495.0</td>\n",
       "    </tr>\n",
       "    <tr>\n",
       "      <th>30</th>\n",
       "      <td>008700.KQ</td>\n",
       "      <td>2017/06/05</td>\n",
       "      <td>3120</td>\n",
       "      <td>2753391</td>\n",
       "      <td>0.02%</td>\n",
       "      <td>626</td>\n",
       "      <td>2001.0</td>\n",
       "    </tr>\n",
       "    <tr>\n",
       "      <th>31</th>\n",
       "      <td>008700.KQ</td>\n",
       "      <td>2017/06/02</td>\n",
       "      <td>3180</td>\n",
       "      <td>3489254</td>\n",
       "      <td>0.49%</td>\n",
       "      <td>17235</td>\n",
       "      <td>56358.0</td>\n",
       "    </tr>\n",
       "  </tbody>\n",
       "</table>\n",
       "</div>"
      ],
      "text/plain": [
       "         code           0       1         2      3       4         5\n",
       "0   008700.KQ          일자      종가       거래량   매매비중  차입증권매도       NaN\n",
       "1   008700.KQ      공매도 수량  금액(천원)       NaN    NaN     NaN       NaN\n",
       "2   008700.KQ  2017/07/17    2885   4430491  1.70%   75183  220436.0\n",
       "3   008700.KQ  2017/07/14    2830   1451089  0.68%    9902   27923.0\n",
       "4   008700.KQ  2017/07/13    2840   2114328  0.40%    8524   24284.0\n",
       "5   008700.KQ  2017/07/12    2830   2397223  2.16%   51820  150744.0\n",
       "6   008700.KQ  2017/07/11    2910   3259560  0.88%   28566   84126.0\n",
       "7   008700.KQ  2017/07/10    2900   4323386  3.86%  167007  495175.0\n",
       "8   008700.KQ  2017/07/07    3075   4304676  0.54%   23475   73242.0\n",
       "9   008700.KQ  2017/07/06    3150   7216023  0.16%   11616   36718.0\n",
       "10  008700.KQ  2017/07/05    3200  34787799  0.05%   17788   54715.0\n",
       "11  008700.KQ  2017/07/04    2840   7160671  0.46%   32991   94123.0\n",
       "12  008700.KQ  2017/07/03    2760   2707828  0.41%   11075   30843.0\n",
       "13  008700.KQ  2017/06/30    2810   2699623  0.37%    9968   28508.0\n",
       "14  008700.KQ  2017/06/29    2870   2458718  0.18%    4293   12926.0\n",
       "15  008700.KQ  2017/06/28    2960   3322335  0.57%   19061   57526.0\n",
       "16  008700.KQ  2017/06/27    3015   1880197  0.42%    7909   23932.0\n",
       "17  008700.KQ  2017/06/26    3060   3208988  0.88%   28294   88928.0\n",
       "18  008700.KQ  2017/06/23    3055   2931947  1.86%   54671  167074.0\n",
       "19  008700.KQ  2017/06/22    3040   2204175  0.29%    6492   20151.0\n",
       "20  008700.KQ  2017/06/21    3065   2635008  0.62%   16208   49483.0\n",
       "21  008700.KQ  2017/06/20    3110   3023065  0.74%   22230   71202.0\n",
       "22  008700.KQ  2017/06/19    3300   4072723  0.85%   34470  110131.0\n",
       "23  008700.KQ  2017/06/16    3140   2431272  0.28%    6727   21264.0\n",
       "24  008700.KQ  2017/06/15    3170   3014039  0.22%    6710   21223.0\n",
       "25  008700.KQ  2017/06/14    3135   5682620  0.32%   18372   59598.0\n",
       "26  008700.KQ  2017/06/12    3055   2596570  0.07%    1747    5473.0\n",
       "27  008700.KQ  2017/06/09    3155   3071908  0.37%   11449   35938.0\n",
       "28  008700.KQ  2017/06/08    3165   7410584  2.02%  149834  499846.0\n",
       "29  008700.KQ  2017/06/07    3225   6184462  0.73%   45335  139495.0\n",
       "30  008700.KQ  2017/06/05    3120   2753391  0.02%     626    2001.0\n",
       "31  008700.KQ  2017/06/02    3180   3489254  0.49%   17235   56358.0"
      ]
     },
     "execution_count": 18,
     "metadata": {},
     "output_type": "execute_result"
    }
   ],
   "source": [
    "df.insert(0,'code',code)\n",
    "df"
   ]
  },
  {
   "cell_type": "code",
   "execution_count": null,
   "metadata": {
    "collapsed": true
   },
   "outputs": [],
   "source": []
  },
  {
   "cell_type": "code",
   "execution_count": null,
   "metadata": {
    "collapsed": true
   },
   "outputs": [],
   "source": []
  },
  {
   "cell_type": "code",
   "execution_count": null,
   "metadata": {
    "collapsed": true
   },
   "outputs": [],
   "source": []
  },
  {
   "cell_type": "code",
   "execution_count": null,
   "metadata": {
    "collapsed": true
   },
   "outputs": [],
   "source": []
  },
  {
   "cell_type": "markdown",
   "metadata": {},
   "source": [
    "### -------------------------- Under Area is Constructioning...................."
   ]
  },
  {
   "cell_type": "markdown",
   "metadata": {},
   "source": [
    "### -------------------------- Under Area is Constructioning...................."
   ]
  },
  {
   "cell_type": "markdown",
   "metadata": {},
   "source": [
    "### -------------------------- Under Area is Constructioning...................."
   ]
  },
  {
   "cell_type": "markdown",
   "metadata": {},
   "source": [
    "## Selenium"
   ]
  },
  {
   "cell_type": "code",
   "execution_count": null,
   "metadata": {
    "collapsed": true
   },
   "outputs": [],
   "source": [
    "from selenium import webdriver\n",
    "driver = webdriver.PhantomJS()"
   ]
  },
  {
   "cell_type": "code",
   "execution_count": null,
   "metadata": {
    "collapsed": true
   },
   "outputs": [],
   "source": [
    "driver.get('http://example.webscraping.com/search')"
   ]
  },
  {
   "cell_type": "code",
   "execution_count": null,
   "metadata": {
    "collapsed": true
   },
   "outputs": [],
   "source": [
    "#driver.find_element_by_id('search_term').send_keys('.')"
   ]
  },
  {
   "cell_type": "code",
   "execution_count": null,
   "metadata": {
    "collapsed": true
   },
   "outputs": [],
   "source": [
    "driver.close()"
   ]
  },
  {
   "cell_type": "markdown",
   "metadata": {},
   "source": [
    "## Scrapy"
   ]
  },
  {
   "cell_type": "code",
   "execution_count": null,
   "metadata": {
    "collapsed": true
   },
   "outputs": [],
   "source": [
    "# 스크래피 모듈을 생성\n",
    "# scrapy startproject example"
   ]
  },
  {
   "cell_type": "code",
   "execution_count": null,
   "metadata": {
    "collapsed": true
   },
   "outputs": [],
   "source": [
    "# spider 를 작성 \n",
    "# genspider : (scrapy 내부 수집기 생성)\n",
    "# country : 스파이더 이름\n",
    "# example.webscraping.com : 도메인\n",
    "# --template=crawl : 템플릿\n",
    "\n",
    "# cd example\n",
    "# scrapy genspider country example.webscraping.com --template=crawl\n",
    "# cd example/spider/country.py 에 파이썬 파일이 자동으로 생성"
   ]
  },
  {
   "cell_type": "markdown",
   "metadata": {
    "collapsed": true
   },
   "source": [
    "# setting.py 에 봇에 안 걸리도록 설정을 변경 (기본값 8개를 한번에 반복적 수집)\n",
    "DOWNLOAD_DELAY = 5\n",
    "CONCURRENT_REQUESTS_PER_DOMAIN = 1"
   ]
  },
  {
   "cell_type": "code",
   "execution_count": null,
   "metadata": {
    "collapsed": true
   },
   "outputs": [],
   "source": [
    "# scrapy crawl country -s LOG_LEVEL=ERROR  # 스파이더실행 (터미널에서 가능)"
   ]
  },
  {
   "cell_type": "code",
   "execution_count": null,
   "metadata": {
    "collapsed": true,
    "scrolled": true
   },
   "outputs": [],
   "source": [
    "from lxml import html\n",
    "import requests, re\n",
    "url = 'http://media.daum.net/ranking/empathy'\n",
    "page = requests.get(url)\n",
    "tree = html.fromstring(page.content)\n",
    "page.text[:300]"
   ]
  },
  {
   "cell_type": "code",
   "execution_count": null,
   "metadata": {
    "collapsed": true
   },
   "outputs": [],
   "source": [
    "xpath = '//*[@id=\"mArticle\"]/div[2]/ul[2]/li[1]/div[2]/div/span/text()'\n",
    "hotel_name = tree.xpath(xpath)\n",
    "temp = re.sub(\"\\n\",\"\",hotel_name[0])\n",
    "temp = re.sub(\"  \",\"\",temp); temp"
   ]
  },
  {
   "cell_type": "code",
   "execution_count": null,
   "metadata": {
    "collapsed": true
   },
   "outputs": [],
   "source": [
    "n=1\n",
    "xpath = '//*[@id=\"mArticle\"]/div[2]/ul[2]/li['+str(n)+']/div[2]/strong/a/text()'\n",
    "hotel_name = tree.xpath(xpath)\n",
    "temp = re.sub(\"\\n\",\"\",hotel_name[0])\n",
    "temp = re.sub(\"  \",\"\",temp); temp"
   ]
  },
  {
   "cell_type": "code",
   "execution_count": null,
   "metadata": {
    "collapsed": true
   },
   "outputs": [],
   "source": [
    "xpath = '//*[@id=\"mArticle\"]/div[2]/ul[2]/li['+str(n)+']/div[2]/div/span/text()'\n",
    "hotel_name = tree.xpath(xpath)\n",
    "temp = re.sub(\"\\n\",\"\",hotel_name[0]) \n",
    "temp = re.sub(\"  \",\"\",temp); temp"
   ]
  },
  {
   "cell_type": "code",
   "execution_count": null,
   "metadata": {
    "collapsed": true
   },
   "outputs": [],
   "source": [
    "# .list_news2 > li:nth-child(1) > div:nth-child(3) > strong:nth-child(1) > a:nth-child(1)\n",
    "# //*[@id=\"mArticle\"]/div[2]/ul[2]/li[1]/div[2]/strong/a\n",
    "# //*[@id=\"mArticle\"]/div[2]/ul[2]/li[2]/div[2]/strong/a"
   ]
  },
  {
   "cell_type": "code",
   "execution_count": null,
   "metadata": {
    "collapsed": true
   },
   "outputs": [],
   "source": [
    "temp = re.sub(\"\\n\",\"\",hotel_name[0])\n",
    "temp = re.sub(\"  \",\"\",temp); temp"
   ]
  },
  {
   "cell_type": "markdown",
   "metadata": {},
   "source": [
    "## 웹페이지 정보 확인"
   ]
  },
  {
   "cell_type": "code",
   "execution_count": null,
   "metadata": {
    "collapsed": true,
    "scrolled": true
   },
   "outputs": [],
   "source": [
    "import whois\n",
    "whois.whois('http://used.aladin.co.kr')"
   ]
  },
  {
   "cell_type": "markdown",
   "metadata": {},
   "source": [
    "## 다운로드 재시도\n",
    "- 500 오류가 발생시 재시도를 한다"
   ]
  },
  {
   "cell_type": "code",
   "execution_count": null,
   "metadata": {
    "collapsed": true
   },
   "outputs": [],
   "source": [
    "from urllib.request import urlopen\n",
    "from urllib.error   import  HTTPError"
   ]
  },
  {
   "cell_type": "code",
   "execution_count": null,
   "metadata": {
    "collapsed": true
   },
   "outputs": [],
   "source": [
    "def download(url, num_retries = 2):\n",
    "    print('Downloading: ', url)\n",
    "    try:\n",
    "        html = urlopen(url).read().decode('utf-8')\n",
    "    except HTTPError as e:\n",
    "        print('Download error: ', e.reason)\n",
    "        html= None\n",
    "        if num_retries > 0 :\n",
    "            if hasattr(e, 'code') and 500 <= e.code <= 600:\n",
    "                # 5xx HTML 오류시 재시도\n",
    "                return download(url, num_retries - 1)\n",
    "    return html"
   ]
  },
  {
   "cell_type": "code",
   "execution_count": null,
   "metadata": {
    "collapsed": true
   },
   "outputs": [],
   "source": [
    "download('http://httpstat.us/500')"
   ]
  },
  {
   "cell_type": "code",
   "execution_count": null,
   "metadata": {
    "collapsed": true
   },
   "outputs": [],
   "source": [
    "# 파이선 크롤링 자체를 막는 사이트\n",
    "download('http://www.samsung.com')"
   ]
  },
  {
   "cell_type": "markdown",
   "metadata": {},
   "source": [
    "## 웹링크자료 다운로드"
   ]
  },
  {
   "cell_type": "code",
   "execution_count": null,
   "metadata": {
    "collapsed": true
   },
   "outputs": [],
   "source": [
    "# sitemap_crawler.py\n",
    "from urllib.request import Request\n",
    "import re"
   ]
  },
  {
   "cell_type": "code",
   "execution_count": null,
   "metadata": {
    "collapsed": true
   },
   "outputs": [],
   "source": [
    "def crawl_sitemap(url):\n",
    "    sitemap = download(url)                          # sitemap 파일 다운로드\n",
    "    links = re.findall('<loc>(.*?)</loc>', sitemap)  # sitemap 링크 추출 \n",
    "    for link in links:                               # 추출된 각 링크 다운로드\n",
    "        html = download(link)                        # 스크랩된 html"
   ]
  },
  {
   "cell_type": "code",
   "execution_count": null,
   "metadata": {
    "collapsed": true
   },
   "outputs": [],
   "source": [
    "crawl_sitemap('http://example.webscraping.com/sitemap.xml')"
   ]
  },
  {
   "cell_type": "markdown",
   "metadata": {},
   "source": [
    "## 프록시 지원 접근"
   ]
  },
  {
   "cell_type": "code",
   "execution_count": null,
   "metadata": {
    "collapsed": true
   },
   "outputs": [],
   "source": [
    "from urllib.request import Request\n",
    "import urllib.robotparser"
   ]
  },
  {
   "cell_type": "code",
   "execution_count": null,
   "metadata": {
    "collapsed": true
   },
   "outputs": [],
   "source": [
    "def download(url, user_agent='wswp', proxy=None, num_retries=2):\n",
    "    print('Downloding:', url)\n",
    "    headers = {'User-agent': user_agent}\n",
    "    request = Request(url, headers=headers)\n",
    "    opener = urllib.request.build_opener()\n",
    "    if proxy:\n",
    "        proxy_params = {urllib.request.urlparse(url).scheme: proxy}\n",
    "        opener.add_handler(urllib.request.ProxyHandler(proxy_params))\n",
    "    try:\n",
    "        html = urlopen(request).read().decode('utf-8')\n",
    "    except HTTPError as e:\n",
    "        print('Download error:', e.reason)\n",
    "        html = None\n",
    "        if num_retries > 0:\n",
    "            if hasattr(e, 'code') and 500 <= e.code < 600:\n",
    "                # 5xx HTTP 오류시 재시도\n",
    "                return download(url, num_retries - 1)\n",
    "    return html"
   ]
  },
  {
   "cell_type": "code",
   "execution_count": null,
   "metadata": {
    "collapsed": true
   },
   "outputs": [],
   "source": [
    "def link_crawler(seed_url, link_regex):\n",
    "    crawl_queue = [seed_url]      # 이전에 다운로드한 URL 저장\n",
    "    seen = set(crawl_queue)\n",
    "    rp = urllib.robotparser.RobotFileParser()\n",
    "    rp.set_url('http://example.webscraping.com/robots.txt')\n",
    "    rp.read()\n",
    "    user_agent = 'GoodCrawler'     # 이 아래 user_agent를 번갈아 보면서 실행하면 결과를 알 수 있다\n",
    "    # user_agent = 'BadCrawler'\n",
    "    while crawl_queue:\n",
    "        url = crawl_queue.pop()\n",
    "        if rp.can_fetch(user_agent, url):\n",
    "            html = download(url)\n",
    "            for link in get_links(html):\n",
    "                if re.match(link_regex, link):   # 링크가 regexd와 일치하는지 확인\n",
    "                    link = urllib.parse.urljoin(seed_url, link) # 절대 링크 생성\n",
    "                    if link not in seen:  # 현재 링크가 이전에 다운로드한 링크인지 확인\n",
    "                        seen.add(link)\n",
    "                        crawl_queue.append(link)\n",
    "        else:\n",
    "            print('Blocked by robots.txt:', seed_url)"
   ]
  },
  {
   "cell_type": "code",
   "execution_count": null,
   "metadata": {
    "collapsed": true
   },
   "outputs": [],
   "source": [
    "def get_links(html):\n",
    "    webpage_regex = re.compile('<a[^>]+href=[\"\\'](.*?)[\"\\']',re.IGNORECASE)  # 웹페이지에서 모든 링크를 추출하는 정규식\n",
    "    return webpage_regex.findall(html)                                       # 웹페이지의 모든 링크 목록"
   ]
  },
  {
   "cell_type": "code",
   "execution_count": null,
   "metadata": {
    "collapsed": true
   },
   "outputs": [],
   "source": [
    "link_crawler('http://example.webscraping.com', '/(index|view)/')"
   ]
  },
  {
   "cell_type": "markdown",
   "metadata": {},
   "source": [
    "## 다운로드 조절하기"
   ]
  },
  {
   "cell_type": "code",
   "execution_count": null,
   "metadata": {
    "collapsed": true
   },
   "outputs": [],
   "source": [
    "# link_crawler_delay.py\n",
    "import datetime\n",
    "import time"
   ]
  },
  {
   "cell_type": "code",
   "execution_count": null,
   "metadata": {
    "collapsed": true
   },
   "outputs": [],
   "source": [
    "class Throttle:\n",
    "    def __init__(self, delay):\n",
    "        self.delay = delay # 각 도메인의 다운로드 사이에 지연 시간\n",
    "        self.domains = {}  # 도메인을 마지막으로 접속한 시간\n",
    "    def wait(self, url):\n",
    "        domain = urllib.parse.urlparse(url).netloc\n",
    "        last_accessed = self.domains.get(domain)\n",
    "        if self.delay > 0 and last_accessed is not None:\n",
    "            sleep_secs = self.delay - (datetime.datetime.now() - last_accessed).seconds\n",
    "            if sleep_secs > 0:          # 도메인을 최근에 접속하였으며, 지연을 할 필요가 있다\n",
    "                time.sleep(sleep_secs)  # 최근에 접속한 시간 최신화\n",
    "        self.domains[domain] = datetime.datetime.now()"
   ]
  },
  {
   "cell_type": "code",
   "execution_count": null,
   "metadata": {
    "collapsed": true
   },
   "outputs": [],
   "source": [
    "def download(url, user_agent='wswp', proxy=None, num_retries=2):\n",
    "    print('Downloding:', url)\n",
    "    headers = {'User-agent': user_agent}\n",
    "    request = Request(url, headers=headers)\n",
    "    opener = urllib.request.build_opener()\n",
    "    if proxy:\n",
    "        proxy_params = {urllib.request.urlparse(url).scheme: proxy}\n",
    "        opener.add_handler(urllib.request.ProxyHandler(proxy_params))\n",
    "    try:\n",
    "        html = urlopen(request).read().decode('utf-8')\n",
    "    except HTTPError as e:\n",
    "        print('Download error:', e.reason)\n",
    "        html = None\n",
    "        if num_retries > 0:\n",
    "            if hasattr(e, 'code') and 500 <= e.code < 600:\n",
    "                return download(url, num_retries - 1)   # 5xx HTTP 오류시 재시도\n",
    "    return html"
   ]
  },
  {
   "cell_type": "code",
   "execution_count": null,
   "metadata": {
    "collapsed": true
   },
   "outputs": [],
   "source": [
    "def link_crawler(seed_url, link_regex):\n",
    "    crawl_queue = [seed_url]\n",
    "    seen = set(crawl_queue)     # 이전에 다운로드한 URL 저장\n",
    "    rp = urllib.robotparser.RobotFileParser()\n",
    "    rp.set_url('http://example.webscraping.com/robots.txt') ; rp.read()\n",
    "    user_agent = 'GoodCrawler'     # 이 아래 user_agent를 번갈아 보면서 실행하면 결과를 알 수 있다\n",
    "    # user_agent = 'BadCrawler'\n",
    "    delay = 2 ; throttle = Throttle(delay)\n",
    "    while crawl_queue:\n",
    "        url = crawl_queue.pop()\n",
    "        if rp.can_fetch(user_agent, url):\n",
    "            throttle.wait(url) ; html = download(url)\n",
    "            for link in get_links(html):\n",
    "                if re.match(link_regex, link):                  # 링크가 regexd와 일치하는지 확인\n",
    "                    link = urllib.parse.urljoin(seed_url, link) # 절대 링크 생성\n",
    "                    if link not in seen:                        # 현재 링크가 이전에 다운로드한 링크인지 확인\n",
    "                        seen.add(link) ; crawl_queue.append(link)\n",
    "        else:\n",
    "            print('Blocked by robots.txt:', seed_url)"
   ]
  },
  {
   "cell_type": "code",
   "execution_count": null,
   "metadata": {
    "collapsed": true
   },
   "outputs": [],
   "source": [
    "def get_links(html):\n",
    "    webpage_regex = re.compile('<a[^>]+href=[\"\\'](.*?)[\"\\']',re.IGNORECASE)\n",
    "    return webpage_regex.findall(html)"
   ]
  },
  {
   "cell_type": "code",
   "execution_count": null,
   "metadata": {
    "collapsed": true
   },
   "outputs": [],
   "source": [
    "link_crawler('http://example.webscraping.com', '/(index|view)/')"
   ]
  },
  {
   "cell_type": "markdown",
   "metadata": {},
   "source": [
    "# Download"
   ]
  },
  {
   "cell_type": "code",
   "execution_count": null,
   "metadata": {
    "collapsed": true
   },
   "outputs": [],
   "source": [
    "# hotel_name = tree.xpath(xpath)\n",
    "# print(len(tree.xpath(xpath)))\n",
    "# temp = re.sub(\"\\n\",\"\",hotel_name[0])\n",
    "# temp = re.sub(\"  \",\"\",temp); temp"
   ]
  },
  {
   "cell_type": "code",
   "execution_count": null,
   "metadata": {
    "collapsed": true
   },
   "outputs": [],
   "source": [
    "from lxml import html\n",
    "import requests, re\n",
    "url = 'https://developer.mozilla.org/en-US/docs/Tools/Settings'\n",
    "page = requests.get(url)\n",
    "tree = html.fromstring(page.content) ; #page.text[:300]\n",
    "node = '//*[@id=\"wikiArticle\"]/ul/li[1]/node()'\n",
    "for txt in tree.xpath(node):\n",
    "    print('Node :', txt)\n",
    "text = '//*[@id=\"wikiArticle\"]/ul/li[1]/text()'\n",
    "print('----------------------------------------------------')\n",
    "for txt in tree.xpath(text):\n",
    "    print('Text :', txt)"
   ]
  },
  {
   "cell_type": "markdown",
   "metadata": {},
   "source": [
    "# MultiThread Download\n",
    "- https://bitbucket.org/wswp/code/src/9e6b82b47087c2ada0e9fdf4f5e037e151975f0f/chapter04/threaded_test.py?at=default&fileviewer=file-view-default\n",
    "- https://stackoverflow.com/questions/32285453/why-does-multithreading-do-not-speed-up-parsing-html-with-lxmlm"
   ]
  },
  {
   "cell_type": "code",
   "execution_count": null,
   "metadata": {
    "collapsed": true
   },
   "outputs": [],
   "source": [
    "from lxml.html import fromstring, HTMLParser\n",
    "import time\n",
    "from threading import Thread\n",
    "from urllib.request import urlopen\n",
    "def func(number):\n",
    "    parser = HTMLParser()\n",
    "    for x in range(number):\n",
    "        fromstring(DATA, parser=parser)"
   ]
  },
  {
   "cell_type": "code",
   "execution_count": null,
   "metadata": {
    "collapsed": true
   },
   "outputs": [],
   "source": [
    "DATA = urlopen('http://lxml.de/FAQ.html').read()\n",
    "print('Testing one thread (100 job per thread)')\n",
    "start = time.time()\n",
    "t1 = Thread(target=func, args=[100])\n",
    "t1.start();    t1.join();    elapsed = time.time() - start\n",
    "print('Time: %.5f' % elapsed)\n",
    "print('Testing two threads (50 jobs per thread)')\n",
    "start = time.time() \n",
    "t1 = Thread(target=func, args=[50])\n",
    "t2 = Thread(target=func, args=[50])\n",
    "t1.start();   t2.start();   t1.join();  t2.join();  elapsed = time.time() - start\n",
    "print('Time: %.5f' % elapsed)"
   ]
  },
  {
   "cell_type": "markdown",
   "metadata": {
    "collapsed": true
   },
   "source": [
    "## Web Crawling"
   ]
  },
  {
   "cell_type": "code",
   "execution_count": null,
   "metadata": {
    "collapsed": true
   },
   "outputs": [],
   "source": [
    "# Bs4 01\n",
    "#url = 'http://example.webscraping.com/view/United Kingdom-239'\n",
    "#html = download(url)\n",
    "# soup.find( text = re.compile(\"sisters\") )              # text 내용이 sisters 를 포함시\n",
    "# soup.find( attrs = {'id' : 'place_area_row'} )\n",
    "# soup.find( attrs = {'class' : 'w2p_fw'} )"
   ]
  },
  {
   "cell_type": "code",
   "execution_count": null,
   "metadata": {
    "collapsed": true
   },
   "outputs": [],
   "source": [
    "# Bs4 02 \n",
    "# soup.find_all( \"p\")           # <tag>\n",
    "# soup.find_all( \"p\", \"title\" )  # CSS클래스 title 인 <p> tag의 값을 추출\n",
    "# soup.find_all( id = \"link2\" )    # id\n",
    "# soup.find_all( id = True)                              # id 속성을 포함시\n",
    "# soup.find_all( href = re.compile(\"elsie\") )            # elsie URL 링크 포함시\n",
    "# soup.find_all( href = re.compile(\"elsie\"), id='link1')"
   ]
  },
  {
   "cell_type": "code",
   "execution_count": null,
   "metadata": {
    "collapsed": true
   },
   "outputs": [],
   "source": [
    "# Regular Expression 01\n",
    "# print(re.findall('<td class=\"w2p_fw\">(.*?)</td>', html)[0])\n",
    "# print(re.findall('<tr id=\"places_area__row\">.*?<td\\s*class=[\"\\']w2p_fw[\"\\']>(.*?)</td>', html))\n",
    "# print(re.findall('<tr id=\"places_area__row\"><td class=\"w2p_fl\"><label for=\"places_area\" id=\"places_area__label\">\\\n",
    "#                   Area: </label></td><td class=\"w2p_fw\">(.*?)</td>', html))"
   ]
  },
  {
   "cell_type": "code",
   "execution_count": null,
   "metadata": {
    "collapsed": true
   },
   "outputs": [],
   "source": [
    "# Regular Expression 02\n",
    "# url = 'http://example.webscraping.com/view/United Kingdom-239'\n",
    "# html = download(url)\n",
    "# re.findall(\"<td class='w2p_fw'>(.*?)</td>\", html)"
   ]
  },
  {
   "cell_type": "code",
   "execution_count": null,
   "metadata": {
    "collapsed": true
   },
   "outputs": [],
   "source": [
    "# Regular Expression (제일 빠름)\n",
    "# results[field] = re.search('<tr id=\"places_%s__row\">.*?<td class=\"w2p_fw\">(.*?)</td>' % field, html).groups()[0]\n",
    "# lxml  (중간)\n",
    "# tree = lxml.html.fromstring(html)\n",
    "# results[field] = tree.cssselect('table > tr#places_%s__row> td.w2p_fw' % field)[0].text_content()\n",
    "# BS4   (제일 느리다)\n",
    "# soup = BeautifulSoup(html, 'html.parser')\n",
    "# results[field] = soup.find('table').find('tr',id='places_%s__row' % field).find('td', class_='w2p_fw').text"
   ]
  },
  {
   "cell_type": "markdown",
   "metadata": {
    "collapsed": true
   },
   "source": [
    "## LXML\n",
    "- C로 만든 XML 분석용 라이브러리\n",
    "- 설치는 어렵지만 가장 강력한 모듈"
   ]
  },
  {
   "cell_type": "code",
   "execution_count": null,
   "metadata": {
    "collapsed": true
   },
   "outputs": [],
   "source": [
    "#bs4로 활용찾고, Re로 완성하기\n",
    "# Regular Expression (용이성은 떨어지지만, 제일 빠르고 파이썬 내부 모듈을 활용) - bs4로 활용찾고, Re로 완성하기\n",
    "# results[field] = re.search('<tr id=\"places_%s__row\">.*?<td class=\"w2p_fw\">(.*?)</td>' % field, html).groups()[0]"
   ]
  },
  {
   "cell_type": "code",
   "execution_count": null,
   "metadata": {
    "collapsed": true
   },
   "outputs": [],
   "source": [
    "# find_population_lxml.py\n",
    "import re\n",
    "from lxml import html\n",
    "broken_html = '<ul class=country><li>Area<li>Population</ul>'\n",
    "tree = html.fromstring(broken_html)  # HTML 분석\n",
    "fixed_html = html.tostring(tree, pretty_print=True); fixed_html.decode('utf-8')"
   ]
  },
  {
   "cell_type": "code",
   "execution_count": null,
   "metadata": {
    "collapsed": true,
    "scrolled": true
   },
   "outputs": [],
   "source": [
    "from lxml import html\n",
    "import requests\n",
    "url = 'http://media.daum.net/ranking/empathy'\n",
    "page = requests.get(url)\n",
    "tree = html.fromstring(page.content)\n",
    "page.text[:300]"
   ]
  },
  {
   "cell_type": "code",
   "execution_count": null,
   "metadata": {
    "collapsed": true
   },
   "outputs": [],
   "source": [
    "tree.text"
   ]
  },
  {
   "cell_type": "code",
   "execution_count": null,
   "metadata": {
    "collapsed": true
   },
   "outputs": [],
   "source": [
    "xpath = '//*[@id=\"mArticle\"]/div[2]/ul[2]/li[1]/div[2]/div/span/text()'\n",
    "hotel_name = tree.xpath(xpath)\n",
    "temp = re.sub(\"\\n\",\"\",hotel_name[0])\n",
    "temp = re.sub(\"  \",\"\",temp); temp"
   ]
  },
  {
   "cell_type": "code",
   "execution_count": null,
   "metadata": {
    "collapsed": true
   },
   "outputs": [],
   "source": [
    "# .list_news2 > li:nth-child(1) > div:nth-child(3) > strong:nth-child(1) > a:nth-child(1)\n",
    "# //*[@id=\"mArticle\"]/div[2]/ul[2]/li[1]/div[2]/strong/a\n",
    "# //*[@id=\"mArticle\"]/div[2]/ul[2]/li[2]/div[2]/strong/a"
   ]
  },
  {
   "cell_type": "code",
   "execution_count": null,
   "metadata": {
    "collapsed": true
   },
   "outputs": [],
   "source": [
    "n=2"
   ]
  },
  {
   "cell_type": "code",
   "execution_count": null,
   "metadata": {
    "collapsed": true
   },
   "outputs": [],
   "source": [
    "xpath = '//*[@id=\"mArticle\"]/div[2]/ul[2]/li['+str(n)+']/div[2]/strong/a/text()'\n",
    "hotel_name = tree.xpath(xpath)\n",
    "temp = re.sub(\"\\n\",\"\",hotel_name[0])\n",
    "temp = re.sub(\"  \",\"\",temp); temp"
   ]
  },
  {
   "cell_type": "code",
   "execution_count": null,
   "metadata": {
    "collapsed": true
   },
   "outputs": [],
   "source": [
    "xpath = '//*[@id=\"mArticle\"]/div[2]/ul[2]/li['+str(n)+']/div[2]/div/span/text()'\n",
    "hotel_name = tree.xpath(xpath)\n",
    "temp = re.sub(\"\\n\",\"\",hotel_name[0]) \n",
    "temp = re.sub(\"  \",\"\",temp); temp"
   ]
  },
  {
   "cell_type": "markdown",
   "metadata": {},
   "source": [
    "## Web Crawling to CSV DB"
   ]
  },
  {
   "cell_type": "code",
   "execution_count": null,
   "metadata": {
    "collapsed": true
   },
   "outputs": [],
   "source": [
    "from lxml import etree\n",
    "from io import StringIO\n",
    "from csv import DictWriter\n",
    "f= StringIO('''\n",
    "    <html><body>\n",
    "    <a class=\"ui-magnifier-glass\" \n",
    "       href=\"here goes the link that i want to extract\" data-spm-anchor-id=\"0.0.0.0\" \n",
    "       style=\"width: 258px; height: 258px; position: absolute; left: -1px; top: -1px; display: none;\"></a>\n",
    "    <a href=\"link to extract\" title=\"title to extract\" rel=\"category tag\" data-spm-anchor-id=\"0.0.0.0\">\n",
    "    or maybe this word instead of title</a>\n",
    "    </body></html>''')"
   ]
  },
  {
   "cell_type": "code",
   "execution_count": null,
   "metadata": {
    "collapsed": true
   },
   "outputs": [],
   "source": [
    "doc = etree.parse(f); data=[]\n",
    "r = doc.xpath('//a[@data-spm-anchor-id=\"0.0.0.0\"]')\n",
    "for elem in r:\n",
    "    link=elem.get('href')\n",
    "    title=elem.get('title')\n",
    "    text=elem.text\n",
    "    data.append({'link': link,'title': title,'text': text})"
   ]
  },
  {
   "cell_type": "code",
   "execution_count": null,
   "metadata": {
    "collapsed": true
   },
   "outputs": [],
   "source": [
    "with open('file.csv', 'w') as csvfile:\n",
    "    fieldnames=['link', 'title', 'text']\n",
    "    writer = DictWriter(csvfile, fieldnames=fieldnames)\n",
    "    writer.writeheader()\n",
    "    for row in data:\n",
    "        writer.writerow(row)"
   ]
  },
  {
   "cell_type": "code",
   "execution_count": null,
   "metadata": {
    "collapsed": true
   },
   "outputs": [],
   "source": [
    "import pandas as pd\n",
    "pd.read_csv('./file.csv')"
   ]
  },
  {
   "cell_type": "code",
   "execution_count": null,
   "metadata": {
    "collapsed": true
   },
   "outputs": [],
   "source": []
  },
  {
   "cell_type": "code",
   "execution_count": null,
   "metadata": {
    "collapsed": true
   },
   "outputs": [],
   "source": []
  }
 ],
 "metadata": {
  "kernelspec": {
   "display_name": "Python 3",
   "language": "python",
   "name": "python3"
  },
  "language_info": {
   "codemirror_mode": {
    "name": "ipython",
    "version": 3
   },
   "file_extension": ".py",
   "mimetype": "text/x-python",
   "name": "python",
   "nbconvert_exporter": "python",
   "pygments_lexer": "ipython3",
   "version": "3.6.1"
  }
 },
 "nbformat": 4,
 "nbformat_minor": 2
}
