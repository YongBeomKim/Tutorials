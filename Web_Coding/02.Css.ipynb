{
 "cells": [
  {
   "cell_type": "markdown",
   "metadata": {},
   "source": [
    "# <strong>HTML5 + CSS3 웹표준의 정석 (CSS)\n",
    "<strong>CSS 로 완성하는 웹페이지 \n",
    "\n",
    "\\<style tag\n",
    "1. .class : 스타일 적용 클래스를 정의\n",
    "2. #id : 스타일 적용 id를 정의\n",
    "\n",
    "### <strong>웹디자인을 실현하는 CSS\n",
    "<strong>Cascading Style Sheet\n",
    "\n",
    "본문 내용과, 스타일을 분리시켜 유지보수 및 관리의 용이성을 높인다"
   ]
  },
  {
   "cell_type": "code",
   "execution_count": 1,
   "metadata": {},
   "outputs": [
    {
     "data": {
      "text/html": [
       "<head>\n",
       "<style>\n",
       "    <link href = \"https://외부스타일파일.css/js\" rel=\"stylesheet\" type=\"text/css\">\n",
       "    </link>\n",
       "    ul{color:blue; list-style:square;}\n",
       "</style>"
      ],
      "text/plain": [
       "<IPython.core.display.HTML object>"
      ]
     },
     "metadata": {},
     "output_type": "display_data"
    }
   ],
   "source": [
    "%%html\n",
    "<head>\n",
    "<style>\n",
    "    <link href = \"https://외부스타일파일.css/js\" rel=\"stylesheet\" type=\"text/css\">\n",
    "    </link>\n",
    "    ul{color:blue; list-style:square;}\n",
    "</style>"
   ]
  },
  {
   "cell_type": "markdown",
   "metadata": {},
   "source": [
    "<br>\n",
    "<h2><strong>1 스타일의 우선순위</h2>\n",
    "<strong>Cascade (계단폭포)</strong> : Default 설정으로써 <strong>body에 설정한 스타일</strong>이 <strong>자손(Descendent) 모두</strong>에게 상속\n",
    "\n",
    "cf)단, 이미지나 배경색등의 일부 속송은 상속되지 않는다"
   ]
  },
  {
   "cell_type": "code",
   "execution_count": 2,
   "metadata": {},
   "outputs": [
    {
     "data": {
      "text/html": [
       "<head>\n",
       "    <meta charset=\"utf-8\">\n",
       "    <title> 요안도라 </title>\n",
       "    <style>\n",
       "        body2 {background-color:#333; /* 배경색은 짙은 회색 */\n",
       "        color:#fff; /* 글자색은 흰색 */}\n",
       "    </style>\n",
       "</head>\n",
       "\n",
       "<body2>\n",
       "    <h2>예약 방법 및 요금</h2>\n",
       "    <p>요안도라 예약의 가장 빠른 방법은?</p>\n",
       "</body2>"
      ],
      "text/plain": [
       "<IPython.core.display.HTML object>"
      ]
     },
     "metadata": {},
     "output_type": "display_data"
    }
   ],
   "source": [
    "%%html\n",
    "<head>\n",
    "    <meta charset=\"utf-8\">\n",
    "    <title> 요안도라 </title>\n",
    "    <style>\n",
    "        body2 {background-color:#333; /* 배경색은 짙은 회색 */\n",
    "        color:#fff; /* 글자색은 흰색 */}\n",
    "    </style>\n",
    "</head>\n",
    "\n",
    "<body2>\n",
    "    <h2>예약 방법 및 요금</h2>\n",
    "    <p>요안도라 예약의 가장 빠른 방법은?</p>\n",
    "</body2>"
   ]
  },
  {
   "cell_type": "code",
   "execution_count": 3,
   "metadata": {},
   "outputs": [
    {
     "data": {
      "text/html": [
       "<head>\n",
       "    <style>   /* 단락 구분기호를 '사각형'으로 사용 */\n",
       "    ul{list-style:square;} /* color:blue; */\n",
       "    </style>\n",
       "</head>\n",
       "\n",
       "<body>\n",
       "    <section>\n",
       "    <ul><li>예약 방법 \n",
       "        <ul><li>직접 통화</li>  <li>문자 남기기</li>\n",
       "        </ul></li>\n",
       "    <li>요금\n",
       "        <ul><li>1인 : 40,000원</li> <li>2인 : 60,000원</li>\n",
       "        <li>3인 이상일 경우 상의해 주세요.</li></ul>\n",
       "    </li></ul>\n",
       "    </section>\n",
       "</body>"
      ],
      "text/plain": [
       "<IPython.core.display.HTML object>"
      ]
     },
     "metadata": {},
     "output_type": "display_data"
    }
   ],
   "source": [
    "%%html\n",
    "<head>\n",
    "    <style>   /* 단락 구분기호를 '사각형'으로 사용 */\n",
    "    ul{list-style:square;} /* color:blue; */\n",
    "    </style>\n",
    "</head>\n",
    "\n",
    "<body>\n",
    "    <section>\n",
    "    <ul><li>예약 방법 \n",
    "        <ul><li>직접 통화</li>  <li>문자 남기기</li>\n",
    "        </ul></li>\n",
    "    <li>요금\n",
    "        <ul><li>1인 : 40,000원</li> <li>2인 : 60,000원</li>\n",
    "        <li>3인 이상일 경우 상의해 주세요.</li></ul>\n",
    "    </li></ul>\n",
    "    </section>\n",
    "</body>"
   ]
  },
  {
   "cell_type": "code",
   "execution_count": 4,
   "metadata": {},
   "outputs": [
    {
     "data": {
      "text/html": [
       "<style>\n",
       "    .accent {color:red !important;}   // !important : 중복설정시 우선권 부여\n",
       "    .accent {color:blue;}\n",
       "</style>\n",
       " 이부분이 <p class =\"accent\">중요</p>합니다"
      ],
      "text/plain": [
       "<IPython.core.display.HTML object>"
      ]
     },
     "metadata": {},
     "output_type": "display_data"
    }
   ],
   "source": [
    "%%html\n",
    "<style>\n",
    "    .accent {color:red !important;}   // !important : 중복설정시 우선권 부여\n",
    "    .accent {color:blue;}\n",
    "</style>\n",
    " 이부분이 <p class =\"accent\">중요</p>합니다"
   ]
  },
  {
   "cell_type": "markdown",
   "metadata": {},
   "source": [
    "<br>\n",
    "## <strong>2 선택자 (selector) &nbsp;{속성:속성_값;}\n",
    "1. <strong>*</strong> : 전체 선택자\n",
    "1. <strong>태그명</strong> : 태그 선택자\n",
    "1. <strong>.class</strong> : 클래스 선택자\n",
    "1. <strong>#id</strong> : id 선택자\n",
    "1. 여러 항목의 대상영역은 <strong>Detail한 설정이 우선</strong>시 된다"
   ]
  },
  {
   "cell_type": "code",
   "execution_count": 5,
   "metadata": {},
   "outputs": [
    {
     "data": {
      "text/html": [
       "<head>\n",
       "<style> \n",
       "    p_ {font-size:15px; margin-left:20px;}    /* 글자 크기 12px *//* 왼쪽 여백 20px */\n",
       "    .accent {color:blue; font-weight:bold;}  /* 글자색 파랑(blue) *//* 글자 굵게(bold) */\n",
       "    .yellowaccent {color:yellow;}\n",
       "    </style>\n",
       "</head>\n",
       "\n",
       "<body>\n",
       "<section>\n",
       "    <h2>요안도라 소개</h2>    \n",
       "    <h3>¤ 요안도라는 게스트 하우스(Guest House) 형식의 농어촌 민박입니다</h3>\n",
       "        <p class='yellowaccent'>높은 구름에 햇살 가득</p>\n",
       "        <p_>오늘은 사진에 보이는 긴 돌담을 따라 들어오는 <span class=\"accent\">요안도레 올레 입구</span>\n",
       "           에 특곤색의 대문을 달았습니다.</p_>\n",
       "</section>\n",
       "</body>"
      ],
      "text/plain": [
       "<IPython.core.display.HTML object>"
      ]
     },
     "metadata": {},
     "output_type": "display_data"
    }
   ],
   "source": [
    "%%html\n",
    "<head>\n",
    "<style> \n",
    "    p_ {font-size:15px; margin-left:20px;}    /* 글자 크기 12px *//* 왼쪽 여백 20px */\n",
    "    .accent {color:blue; font-weight:bold;}  /* 글자색 파랑(blue) *//* 글자 굵게(bold) */\n",
    "    .yellowaccent {color:yellow;}\n",
    "    </style>\n",
    "</head>\n",
    "\n",
    "<body>\n",
    "<section>\n",
    "    <h2>요안도라 소개</h2>    \n",
    "    <h3>¤ 요안도라는 게스트 하우스(Guest House) 형식의 농어촌 민박입니다</h3>\n",
    "        <p class='yellowaccent'>높은 구름에 햇살 가득</p>\n",
    "        <p_>오늘은 사진에 보이는 긴 돌담을 따라 들어오는 <span class=\"accent\">요안도레 올레 입구</span>\n",
    "           에 특곤색의 대문을 달았습니다.</p_>\n",
    "</section>\n",
    "</body>"
   ]
  },
  {
   "cell_type": "code",
   "execution_count": 6,
   "metadata": {},
   "outputs": [
    {
     "data": {
      "text/html": [
       "<head>\n",
       "<style>\n",
       "    #title{\n",
       "    clear:both;                /* 이전 요소와 줄바꿔서 표시 */\n",
       "    float:left;                /* 왼쪽으로 플로팅 */\n",
       "    margin-left:10px;          /* 왼쪽 여백 10px */\n",
       "    width:200px; height:110px; /* 너비 200px *//* 높이 110px */\n",
       "    background-color:orange;   /* 배경색 오렌지색 */\n",
       "    border:1px solid black;    /* 테두리 1px짜리 검은색 실선 */\n",
       "    text-align:center;}        /* 텍스트 가운데 정렬 */\n",
       "\n",
       "    #pic1{\n",
       "    clear:none;                /* 이전 요소와 연결해서 표시 */\n",
       "    float:left;                /* 왼쪽으로 플로팅 */\n",
       "    margin-left:10px;          /* 왼쪽 여백 10px */\n",
       "    width:200px; height:120px;}/* 너비 200px *//* 높이 110px */\n",
       "\n",
       "    #pic2{\n",
       "    clear:both;                /* 이전 요소와 줄바꿔서 표시 */\n",
       "    float:left;                /* 왼쪽으로 플로팅 */\n",
       "    margin-left:10px;          /* 왼쪽 여백 10px */\n",
       "    margin-top:20px;           /* 위쪽 여백 20px */\n",
       "    width:200px;height:120px;} /* 너비 200px *//* 높이 120px */\n",
       "\n",
       "    #pic3{\n",
       "    clear:none;                /* 이전 요소와 연결해서 표시 */\n",
       "    float:left;                /* 왼쪽으로 플로팅 */\n",
       "    margin-left:10px;          /* 왼쪽 여백 10px */\n",
       "    margin-top:20px;           /* 위쪽 여백 20px */\n",
       "    width:200px;height:120px;} /* 너비 200px *//* 높이 110px */\n",
       "</style>\n",
       "</head>\n",
       "\n",
       "<body>\n",
       "    <div id=\"title\">\n",
       "        <h2>JUSTICE LEAGUE</h2>\n",
       "    </div>\n",
       "<div id=\"pic1\">\n",
       "    <img src=\"http://media.comicbook.com/2017/02/justice-league-blur-effect-229823.jpg\">\n",
       "</div>\n",
       "<div id=\"pic2\">\n",
       "    <img src=\"http://media.comicbook.com/2017/08/justice-league-rebirth-fan-poster-1014897-640x320.jpg\">\n",
       "</div>\n",
       "\n",
       "<div id=\"pic3\">\n",
       "    <img src=\"http://nerdist.com/wp-content/uploads/2017/06/jlfeaturemattel-06082017.jpg\">\n",
       "</div></body></html>"
      ],
      "text/plain": [
       "<IPython.core.display.HTML object>"
      ]
     },
     "metadata": {},
     "output_type": "display_data"
    }
   ],
   "source": [
    "%%html\n",
    "<head>\n",
    "<style>\n",
    "    #title{\n",
    "    clear:both;                /* 이전 요소와 줄바꿔서 표시 */\n",
    "    float:left;                /* 왼쪽으로 플로팅 */\n",
    "    margin-left:10px;          /* 왼쪽 여백 10px */\n",
    "    width:200px; height:110px; /* 너비 200px *//* 높이 110px */\n",
    "    background-color:orange;   /* 배경색 오렌지색 */\n",
    "    border:1px solid black;    /* 테두리 1px짜리 검은색 실선 */\n",
    "    text-align:center;}        /* 텍스트 가운데 정렬 */\n",
    "\n",
    "    #pic1{\n",
    "    clear:none;                /* 이전 요소와 연결해서 표시 */\n",
    "    float:left;                /* 왼쪽으로 플로팅 */\n",
    "    margin-left:10px;          /* 왼쪽 여백 10px */\n",
    "    width:200px; height:120px;}/* 너비 200px *//* 높이 110px */\n",
    "\n",
    "    #pic2{\n",
    "    clear:both;                /* 이전 요소와 줄바꿔서 표시 */\n",
    "    float:left;                /* 왼쪽으로 플로팅 */\n",
    "    margin-left:10px;          /* 왼쪽 여백 10px */\n",
    "    margin-top:20px;           /* 위쪽 여백 20px */\n",
    "    width:200px;height:120px;} /* 너비 200px *//* 높이 120px */\n",
    "\n",
    "    #pic3{\n",
    "    clear:none;                /* 이전 요소와 연결해서 표시 */\n",
    "    float:left;                /* 왼쪽으로 플로팅 */\n",
    "    margin-left:10px;          /* 왼쪽 여백 10px */\n",
    "    margin-top:20px;           /* 위쪽 여백 20px */\n",
    "    width:200px;height:120px;} /* 너비 200px *//* 높이 110px */\n",
    "</style>\n",
    "</head>\n",
    "\n",
    "<body>\n",
    "    <div id=\"title\">\n",
    "        <h2>JUSTICE LEAGUE</h2>\n",
    "    </div>\n",
    "<div id=\"pic1\">\n",
    "    <img src=\"http://media.comicbook.com/2017/02/justice-league-blur-effect-229823.jpg\">\n",
    "</div>\n",
    "<div id=\"pic2\">\n",
    "    <img src=\"http://media.comicbook.com/2017/08/justice-league-rebirth-fan-poster-1014897-640x320.jpg\">\n",
    "</div>\n",
    "\n",
    "<div id=\"pic3\">\n",
    "    <img src=\"http://nerdist.com/wp-content/uploads/2017/06/jlfeaturemattel-06082017.jpg\">\n",
    "</div></body></html>"
   ]
  },
  {
   "cell_type": "markdown",
   "metadata": {},
   "source": [
    "### <strong>01 자손 선택자 (Descendant Selector)\n",
    "<strong>상위요소 &nbsp; 하위요소 { &nbsp; : &nbsp;&nbsp; ; }</strong> : <strong>자손 들 모두</strong>에게 영향"
   ]
  },
  {
   "cell_type": "code",
   "execution_count": 7,
   "metadata": {},
   "outputs": [
    {
     "data": {
      "text/html": [
       "<head>\n",
       "    <style>\n",
       "    // id=container인 요소 아래의 모든 ul 요소에 1px 실선을 그린다\n",
       "    #container ul {border : 1px dotted black;}     \n",
       "    </style>\n",
       "</head>\n",
       "\n",
       "<body>\n",
       "    <section id=\"container\">\n",
       "    <header><h1>예약 방법 및 요금</h1></header>\n",
       "    <p> 요안도라에 예약하려면?\n",
       "        <ul><li> 예약 방법\n",
       "            <ul><li>직접 통화</li>\n",
       "                <li>문자 남기기</li>                       \n",
       "            </ul>\n",
       "        </li></ul> \n",
       "    </section>\n",
       "</body>\n",
       "</html>"
      ],
      "text/plain": [
       "<IPython.core.display.HTML object>"
      ]
     },
     "metadata": {},
     "output_type": "display_data"
    }
   ],
   "source": [
    "%%html\n",
    "<head>\n",
    "    <style>\n",
    "    // id=container인 요소 아래의 모든 ul 요소에 1px 실선을 그린다\n",
    "    #container ul {border : 1px dotted black;}     \n",
    "    </style>\n",
    "</head>\n",
    "\n",
    "<body>\n",
    "    <section id=\"container\">\n",
    "    <header><h1>예약 방법 및 요금</h1></header>\n",
    "    <p> 요안도라에 예약하려면?\n",
    "        <ul><li> 예약 방법\n",
    "            <ul><li>직접 통화</li>\n",
    "                <li>문자 남기기</li>                       \n",
    "            </ul>\n",
    "        </li></ul> \n",
    "    </section>\n",
    "</body>\n",
    "</html>"
   ]
  },
  {
   "cell_type": "markdown",
   "metadata": {},
   "source": [
    "### <strong>02 자식 선택자 (Child Selector)</strong>\n",
    "<strong>부모&nbsp; > &nbsp;자식 {&nbsp;: &nbsp;&nbsp;;}</strong> : 자식 요소에만 속성을 적용 / 부모에는 영향을 주지 않는다"
   ]
  },
  {
   "cell_type": "code",
   "execution_count": 8,
   "metadata": {},
   "outputs": [
    {
     "data": {
      "text/html": [
       "<style>\n",
       "    /* id=container인 요소 아래의 자식 ul 요소에 5px 실선을 그린다 */\n",
       "    #container > ul {border : 5px dotted black;}\n",
       "</style>\n",
       "</head>\n",
       "<body>\n",
       "    <section id=\"container\">\n",
       "    <header><h1>예약 방법 및 요금</h1></header>\n",
       "    <p> 요안도라에 예약하려면? </p>\n",
       "        <ul><li> 예약 방법\n",
       "            <ul><li>직접 통화</li>\n",
       "                <li>문자 남기기</li>                       \n",
       "            </ul></li>      \n",
       "            <li>요금\n",
       "            <ul><li>1인 : 40,000원</li>\n",
       "                <li>2인 : 60,000원</li>\n",
       "            </ul></li>\n",
       "        </ul> \n",
       "    </section>\n",
       "</body></html>"
      ],
      "text/plain": [
       "<IPython.core.display.HTML object>"
      ]
     },
     "metadata": {},
     "output_type": "display_data"
    }
   ],
   "source": [
    "%%html\n",
    "<style>\n",
    "    /* id=container인 요소 아래의 자식 ul 요소에 5px 실선을 그린다 */\n",
    "    #container > ul {border : 5px dotted black;}\n",
    "</style>\n",
    "</head>\n",
    "<body>\n",
    "    <section id=\"container\">\n",
    "    <header><h1>예약 방법 및 요금</h1></header>\n",
    "    <p> 요안도라에 예약하려면? </p>\n",
    "        <ul><li> 예약 방법\n",
    "            <ul><li>직접 통화</li>\n",
    "                <li>문자 남기기</li>                       \n",
    "            </ul></li>      \n",
    "            <li>요금\n",
    "            <ul><li>1인 : 40,000원</li>\n",
    "                <li>2인 : 60,000원</li>\n",
    "            </ul></li>\n",
    "        </ul> \n",
    "    </section>\n",
    "</body></html>"
   ]
  },
  {
   "cell_type": "markdown",
   "metadata": {},
   "source": [
    "### <strong>03 인접 형제 선택자 (Adjacent Sibling Selector)</strong>\n",
    "<strong>부모 &nbsp;+&nbsp; 자식 {:;}</strong> : 자식들 중 첫번째 동생만 스타일 적용"
   ]
  },
  {
   "cell_type": "code",
   "execution_count": 9,
   "metadata": {},
   "outputs": [
    {
     "data": {
      "text/html": [
       "<style>\n",
       "    /* h1 요소 다음의 첫 번째 ul 요소에 적용할 스타일 */\n",
       "    h1 + ul_ {color:pink; font-weight:bold;} /* 글자색 파랑 *//* 글자 굵게 */\n",
       "</style>\n",
       "\n",
       "<body>\n",
       "    <section id=\"container\">\n",
       "    <h1>예약 방법 및 요금</h1>\n",
       "        <ul_>\n",
       "             <li>숙박요금</li>\n",
       "        </ul>\n",
       "        <ul_>\n",
       "            <li>1인 : 40,000원</li>\n",
       "            <li>2인 : 60,000원</li>\n",
       "        </ul>        \n",
       "    </section>\n",
       "</body></html>"
      ],
      "text/plain": [
       "<IPython.core.display.HTML object>"
      ]
     },
     "metadata": {},
     "output_type": "display_data"
    }
   ],
   "source": [
    "%%html\n",
    "<style>\n",
    "    /* h1 요소 다음의 첫 번째 ul 요소에 적용할 스타일 */\n",
    "    h1 + ul_ {color:pink; font-weight:bold;} /* 글자색 파랑 *//* 글자 굵게 */\n",
    "</style>\n",
    "\n",
    "<body>\n",
    "    <section id=\"container\">\n",
    "    <h1>예약 방법 및 요금</h1>\n",
    "        <ul_>\n",
    "             <li>숙박요금</li>\n",
    "        </ul>\n",
    "        <ul_>\n",
    "            <li>1인 : 40,000원</li>\n",
    "            <li>2인 : 60,000원</li>\n",
    "        </ul>        \n",
    "    </section>\n",
    "</body></html>"
   ]
  },
  {
   "cell_type": "markdown",
   "metadata": {},
   "source": [
    "### <strong>04 형제 선택자 (Sibling Selector) </strong>\n",
    "<strong>요소1 &nbsp; ~ &nbsp;요소2 {&nbsp;:&nbsp;&nbsp;;}</strong> : 모든 형제에게 다 적용"
   ]
  },
  {
   "cell_type": "code",
   "execution_count": 10,
   "metadata": {},
   "outputs": [
    {
     "data": {
      "text/html": [
       "<style>                                  /* h1 다음에 오는 ul 모두적용 */\n",
       "    h1~ul {color:blue; font-weight:bold;} /* 글자색 파랑 *//* 글자 굵게 */\n",
       "</style>\n",
       "<body>\n",
       "    <section id=\"container\">\n",
       "    <h1>예약 방법 및 요금</h1>\n",
       "    <ul>\n",
       "        <li>숙박요금</li>\n",
       "    </ul>\n",
       "    <ul>\n",
       "        <li>1인 : 40,000원</li>\n",
       "        <li>2인 : 60,000원</li>\n",
       "    </ul>        \n",
       "    </section>\n",
       "</body>"
      ],
      "text/plain": [
       "<IPython.core.display.HTML object>"
      ]
     },
     "metadata": {},
     "output_type": "display_data"
    }
   ],
   "source": [
    "%%html\n",
    "<style>                                  /* h1 다음에 오는 ul 모두적용 */\n",
    "    h1~ul {color:blue; font-weight:bold;} /* 글자색 파랑 *//* 글자 굵게 */\n",
    "</style>\n",
    "<body>\n",
    "    <section id=\"container\">\n",
    "    <h1>예약 방법 및 요금</h1>\n",
    "    <ul>\n",
    "        <li>숙박요금</li>\n",
    "    </ul>\n",
    "    <ul>\n",
    "        <li>1인 : 40,000원</li>\n",
    "        <li>2인 : 60,000원</li>\n",
    "    </ul>        \n",
    "    </section>\n",
    "</body>"
   ]
  },
  {
   "cell_type": "markdown",
   "metadata": {},
   "source": [
    "### <strong>05 그룹 선택자 (Grouping)</strong> \n",
    "<strong>요소1 &nbsp;,&nbsp; 요소2,&nbsp; 요소3... {&nbsp;:&nbsp;&nbsp;;}</strong> : 여러 선택자에 같은 속성을 적용할 필요가 있을 떄"
   ]
  },
  {
   "cell_type": "code",
   "execution_count": 11,
   "metadata": {},
   "outputs": [
    {
     "data": {
      "text/html": [
       "<head>\n",
       "<style>  \n",
       "                                      // 돋움 글꼴, 글자색 보라\n",
       "    h1_, h3_ {font-size:22px; font-family: \"돋움\"; color:purple;}   \n",
       "        // 글자크기 12px, 줄간격 20px, 바깥 여백 상하 10px, 좌우 20px\n",
       "    p_ {font-size:12px; line-height:20px; margin:10px 20px;         \n",
       "        // 1px 회색의 실선 테두리, 단락 안여백 5px\n",
       "    border : 1px solid #ccc; padding:5px;}\n",
       "</style>\n",
       "</head>\n",
       "\n",
       "<body>\n",
       "    <section>\n",
       "        <h1_>요안도라 소개</h1_><br>\n",
       "        <h3_>요안도라는 게스트 하우스(Guest House) 형식의 농어촌 민박입니다</h3_><br>\n",
       "        <p_>성산의 날씨는 다음주 내내 높은 구름에 햇살 가득이라고 합니다.</p_>\n",
       "    </section>\n",
       "</body>\n",
       "</html>"
      ],
      "text/plain": [
       "<IPython.core.display.HTML object>"
      ]
     },
     "metadata": {},
     "output_type": "display_data"
    }
   ],
   "source": [
    "%%html\n",
    "<head>\n",
    "<style>  \n",
    "                                      // 돋움 글꼴, 글자색 보라\n",
    "    h1_, h3_ {font-size:22px; font-family: \"돋움\"; color:purple;}   \n",
    "        // 글자크기 12px, 줄간격 20px, 바깥 여백 상하 10px, 좌우 20px\n",
    "    p_ {font-size:12px; line-height:20px; margin:10px 20px;         \n",
    "        // 1px 회색의 실선 테두리, 단락 안여백 5px\n",
    "    border : 1px solid #ccc; padding:5px;}\n",
    "</style>\n",
    "</head>\n",
    "\n",
    "<body>\n",
    "    <section>\n",
    "        <h1_>요안도라 소개</h1_><br>\n",
    "        <h3_>요안도라는 게스트 하우스(Guest House) 형식의 농어촌 민박입니다</h3_><br>\n",
    "        <p_>성산의 날씨는 다음주 내내 높은 구름에 햇살 가득이라고 합니다.</p_>\n",
    "    </section>\n",
    "</body>\n",
    "</html>"
   ]
  },
  {
   "cell_type": "markdown",
   "metadata": {},
   "source": [
    "<br>\n",
    "## <strong>2 속성 선택자 (Attribute Selector)\n",
    "<strong>[속성] { : &nbsp;&nbsp; ;}</strong> : [속성]을 포함하는 모든 tag에 적용"
   ]
  },
  {
   "cell_type": "code",
   "execution_count": 12,
   "metadata": {},
   "outputs": [
    {
     "data": {
      "text/html": [
       "<head>\n",
       "<style>\n",
       "    ul li {font-size:16px; line-height:25px;} // 자손 선택자\n",
       "    a [href] {background:yellow;}             // href 링크를 갖는 모든 tag에 적용\n",
       "</style>\n",
       "</head>\n",
       "\n",
       "<body>\n",
       "    <section id=\"container\">\n",
       "        <header><h1>객실 소개</h1></header>\n",
       "    <h3>객실 안내</h3>\n",
       "    <ul>\n",
       "        <li><a href=\"two.html\"><b>4인실(펜션)</b></a> 취사 기구 완비, 실내 욕실(화장실)</li>\n",
       "    </ul>\n",
       "    </section>\n",
       "</body></html>"
      ],
      "text/plain": [
       "<IPython.core.display.HTML object>"
      ]
     },
     "metadata": {},
     "output_type": "display_data"
    }
   ],
   "source": [
    "%%html\n",
    "<head>\n",
    "<style>\n",
    "    ul li {font-size:16px; line-height:25px;} // 자손 선택자\n",
    "    a [href] {background:yellow;}             // href 링크를 갖는 모든 tag에 적용\n",
    "</style>\n",
    "</head>\n",
    "\n",
    "<body>\n",
    "    <section id=\"container\">\n",
    "        <header><h1>객실 소개</h1></header>\n",
    "    <h3>객실 안내</h3>\n",
    "    <ul>\n",
    "        <li><a href=\"two.html\"><b>4인실(펜션)</b></a> 취사 기구 완비, 실내 욕실(화장실)</li>\n",
    "    </ul>\n",
    "    </section>\n",
    "</body></html>"
   ]
  },
  {
   "cell_type": "markdown",
   "metadata": {},
   "source": [
    "### <strong>01 속성 선택자 조건문 1\n",
    "<strong>[속성 &nbsp; = &nbsp;값]</strong> : 속성이 정확히 일치"
   ]
  },
  {
   "cell_type": "code",
   "execution_count": 13,
   "metadata": {},
   "outputs": [
    {
     "data": {
      "text/html": [
       "<head>\n",
       "    <style>\n",
       "    ul li{list-style:none; font-size:16px; margin-top :10px}  // 목록에서 불릿 없앰, 글자 크기 16px, 위쪽 여백 10px\n",
       "    ul li label{float:left; width:80px; line-height:25px;}    // 왼쪽배치, 너비 80px, 줄간격 25px\n",
       "    input[type=\"text\"] {width:150px; background-color:skyblue; border:1px solid #000;}\n",
       "       // type=\"text\"일떄 -->  너비 150px, 배경색 하늘색, 1px짜리 검은색 실선\n",
       "    </style>\n",
       "</head>\n",
       "\n",
       "<body>\n",
       "<section id=\"container\">\n",
       "<h1>예약하기</h1>\n",
       "    <form name=\"form1\" id=\"form1\" method=\"post\">\n",
       "        <fieldset>\n",
       "            <legend>예약자 정보</legend>\n",
       "            <ul><li>\n",
       "                <label for=\"name\">예약자</label>\n",
       "                <input type=\"text\" id=\"name\">\n",
       "            </li><li>\n",
       "                <label for=\"contact\">연락처</label>\n",
       "                <input type=\"tel\" id=\"contact\">\n",
       "            </li><li>\n",
       "                <label for=\"people\">예약 인원</label>\n",
       "                <input type=\"number\" id=\"people\">\n",
       "            </li></ul>  \n",
       "        </fieldset>        \n",
       "    </form>\n",
       "</section>\n",
       "</body></html>"
      ],
      "text/plain": [
       "<IPython.core.display.HTML object>"
      ]
     },
     "metadata": {},
     "output_type": "display_data"
    }
   ],
   "source": [
    "%%html\n",
    "<head>\n",
    "    <style>\n",
    "    ul li{list-style:none; font-size:16px; margin-top :10px}  // 목록에서 불릿 없앰, 글자 크기 16px, 위쪽 여백 10px\n",
    "    ul li label{float:left; width:80px; line-height:25px;}    // 왼쪽배치, 너비 80px, 줄간격 25px\n",
    "    input[type=\"text\"] {width:150px; background-color:skyblue; border:1px solid #000;}\n",
    "       // type=\"text\"일떄 -->  너비 150px, 배경색 하늘색, 1px짜리 검은색 실선\n",
    "    </style>\n",
    "</head>\n",
    "\n",
    "<body>\n",
    "<section id=\"container\">\n",
    "<h1>예약하기</h1>\n",
    "    <form name=\"form1\" id=\"form1\" method=\"post\">\n",
    "        <fieldset>\n",
    "            <legend>예약자 정보</legend>\n",
    "            <ul><li>\n",
    "                <label for=\"name\">예약자</label>\n",
    "                <input type=\"text\" id=\"name\">\n",
    "            </li><li>\n",
    "                <label for=\"contact\">연락처</label>\n",
    "                <input type=\"tel\" id=\"contact\">\n",
    "            </li><li>\n",
    "                <label for=\"people\">예약 인원</label>\n",
    "                <input type=\"number\" id=\"people\">\n",
    "            </li></ul>  \n",
    "        </fieldset>        \n",
    "    </form>\n",
    "</section>\n",
    "</body></html>"
   ]
  },
  {
   "cell_type": "markdown",
   "metadata": {},
   "source": [
    "### <strong> 02 속성 선택자 조건문 2</strong>\n",
    "<strong>[속성 ~= 값] </strong> : 조건문의 속성을 <strong>포함</strong> cf) '~' : OR"
   ]
  },
  {
   "cell_type": "code",
   "execution_count": 14,
   "metadata": {},
   "outputs": [
    {
     "data": {
      "text/html": [
       "<style>\n",
       "ul li{font-size:16px; line-height:25px; list-style:none;} \n",
       "h4[title ~= \"4인실\"] {font-style:italic;}              // 글자를 이탤릭체\n",
       "h4[title ~= \"실내욕실\"] {color:red; bold-weight:bold;}  // 글자색 빨강, 글자 굵게\n",
       "</style>\n",
       "</head>\n",
       "<body>\n",
       "    <section>\n",
       "    <header><h1>객실 소개</h1></header>\n",
       "        <h3> 객실 안내</h3>\n",
       "    <h4 title=\"4인실\">남자 도미토리</h4>\n",
       "        <ul> <li>공동 취사실 및 욕실(화장실) : 1인 20,000원(비수기), 25,000원(성수기)</li> </ul>\n",
       "    <h4 title=\"실내욕실\">여자 도미토리</h4>\n",
       "        <ul> <li>취사 완비, 실내 욕실(화장실) : 1인 30,000원(비수기), 40,000원(성수기)</li> </ul>\n",
       "    <h4 title=\"4인실 실내욕실\">펜션</h4>  <!-- 여기도 해당!!! -->\n",
       "        <ul> <li>취사 완비, 실내 욕실(화장실) : 1박 100,000원(비수기), 150,000원(성수기)</li> </ul>    \n",
       "    </section>\n",
       "</body></html>"
      ],
      "text/plain": [
       "<IPython.core.display.HTML object>"
      ]
     },
     "metadata": {},
     "output_type": "display_data"
    }
   ],
   "source": [
    "%%html\n",
    "<style>\n",
    "ul li{font-size:16px; line-height:25px; list-style:none;} \n",
    "h4[title ~= \"4인실\"] {font-style:italic;}              // 글자를 이탤릭체\n",
    "h4[title ~= \"실내욕실\"] {color:red; bold-weight:bold;}  // 글자색 빨강, 글자 굵게\n",
    "</style>\n",
    "</head>\n",
    "<body>\n",
    "    <section>\n",
    "    <header><h1>객실 소개</h1></header>\n",
    "        <h3> 객실 안내</h3>\n",
    "    <h4 title=\"4인실\">남자 도미토리</h4>\n",
    "        <ul> <li>공동 취사실 및 욕실(화장실) : 1인 20,000원(비수기), 25,000원(성수기)</li> </ul>\n",
    "    <h4 title=\"실내욕실\">여자 도미토리</h4>\n",
    "        <ul> <li>취사 완비, 실내 욕실(화장실) : 1인 30,000원(비수기), 40,000원(성수기)</li> </ul>\n",
    "    <h4 title=\"4인실 실내욕실\">펜션</h4>  <!-- 여기도 해당!!! -->\n",
    "        <ul> <li>취사 완비, 실내 욕실(화장실) : 1박 100,000원(비수기), 150,000원(성수기)</li> </ul>    \n",
    "    </section>\n",
    "</body></html>"
   ]
  },
  {
   "cell_type": "markdown",
   "metadata": {},
   "source": [
    "### <strong> 03 속성 선택자 조건문 3</strong>\n",
    "1. <strong>[속성 ^= 값] </strong> : '값'으로 <strong>시작하는 속성</strong> 영역에 적용\n",
    "2. <strong>[속성 |= 값] </strong> : '값'으로 <strong>시작하는 속성</strong> 영역에 적용"
   ]
  },
  {
   "cell_type": "code",
   "execution_count": 15,
   "metadata": {},
   "outputs": [
    {
     "data": {
      "text/html": [
       "<head>\n",
       "    <style>\n",
       "    ul li{font-size:16px; line-height:25px; list-style:none;}    \n",
       "    h4[title ^= \"남자\"] {      \n",
       "    background:url(\"https://www.shareicon.net/data/128x128/2016/07/26/802040_man_512x512.png\") no-repeat; \n",
       "    padding: 10px 30px;}     /* title \"남자\"로 시작 : man.png를 배경 이미지, h4 요소의 패딩(안여백) 상하 10px 좌우 30px */\n",
       "    \n",
       "    h4[title ^= \"여자\"] {\n",
       "    background :url(\"http://icons.iconarchive.com/icons/iconka/buddy/128/teacher-female-icon.png\") no-repeat; \n",
       "    padding: 10px 30px;}     /* title : \"여자\"로 시작 : woman.png를 배경 이미지, h4 요소의 패딩(안여백) 상하 10px 좌우 30px */\n",
       "    </style>\n",
       "</head>\n",
       "<body>\n",
       "    <section>\n",
       "        <header><h1>객실 소개</h1></header>\n",
       "    <h3> 객실 안내</h3>\n",
       "    <h4 title=\"남자 도미토리\">남자 도미토리</h4>\n",
       "        <ul>\n",
       "            <li>공동 취사실 및 욕실(화장실) 사용</li>\n",
       "        </ul>\n",
       "    <h4 title=\"여자 도미토리\">여자 도미토리</h4>\n",
       "        <ul>\n",
       "            <li>취사 기구 완비, 실내 욕실(화장실)</li>\n",
       "        </ul>\n",
       "    <h4 title=\"펜션\">펜션</h4>\n",
       "        <ul>\n",
       "            <li>취사 기구 완비, 실내 욕실(화장실)</li>\n",
       "        </ul>\t\t\n",
       "</section></body></html>"
      ],
      "text/plain": [
       "<IPython.core.display.HTML object>"
      ]
     },
     "metadata": {},
     "output_type": "display_data"
    }
   ],
   "source": [
    "%%html\n",
    "<head>\n",
    "    <style>\n",
    "    ul li{font-size:16px; line-height:25px; list-style:none;}    \n",
    "    h4[title ^= \"남자\"] {      \n",
    "    background:url(\"https://www.shareicon.net/data/128x128/2016/07/26/802040_man_512x512.png\") no-repeat; \n",
    "    padding: 10px 30px;}     /* title \"남자\"로 시작 : man.png를 배경 이미지, h4 요소의 패딩(안여백) 상하 10px 좌우 30px */\n",
    "    \n",
    "    h4[title ^= \"여자\"] {\n",
    "    background :url(\"http://icons.iconarchive.com/icons/iconka/buddy/128/teacher-female-icon.png\") no-repeat; \n",
    "    padding: 10px 30px;}     /* title : \"여자\"로 시작 : woman.png를 배경 이미지, h4 요소의 패딩(안여백) 상하 10px 좌우 30px */\n",
    "    </style>\n",
    "</head>\n",
    "<body>\n",
    "    <section>\n",
    "        <header><h1>객실 소개</h1></header>\n",
    "    <h3> 객실 안내</h3>\n",
    "    <h4 title=\"남자 도미토리\">남자 도미토리</h4>\n",
    "        <ul>\n",
    "            <li>공동 취사실 및 욕실(화장실) 사용</li>\n",
    "        </ul>\n",
    "    <h4 title=\"여자 도미토리\">여자 도미토리</h4>\n",
    "        <ul>\n",
    "            <li>취사 기구 완비, 실내 욕실(화장실)</li>\n",
    "        </ul>\n",
    "    <h4 title=\"펜션\">펜션</h4>\n",
    "        <ul>\n",
    "            <li>취사 기구 완비, 실내 욕실(화장실)</li>\n",
    "        </ul>\t\t\n",
    "</section></body></html>"
   ]
  },
  {
   "cell_type": "markdown",
   "metadata": {},
   "source": [
    "### <strong>04 속성 선택자 조건문 4</strong>\n",
    "<strong>[속성 $= 값] </strong> : <strong>'값'으로 속성값이 끝나는</strong> 영역에 스타일 적용"
   ]
  },
  {
   "cell_type": "code",
   "execution_count": 16,
   "metadata": {},
   "outputs": [
    {
     "data": {
      "text/html": [
       "<style>\n",
       "    ul li {font-size:16px; line-height:25px;}\n",
       "    a[href $= \"hwp\"] {      \n",
       "    background: url(\"http://image.zdnet.co.kr/2013/05/09/D2aHMW1V7B3wbWKRp5I4.jpg\") \n",
       "                center right no-repeat;\n",
       "    padding-right:25px;}    /* 링크 경로에 \"hwp\" 포함 : hwp 아이콘 배경, 오른쪽 25px 여백 */\n",
       "    \n",
       "    a[href $= \"xls\"] {      \n",
       "    background: url(https://i.pinimg.com/236x/53/50/73/535073b99e7bc4c42a06f60acdfdad1a.jpg) \n",
       "                center right no-repeat;\n",
       "    padding-right:25px;}    /* 링크 경로에 \"xls\" 포함 : xls 아이콘 배경, 오른쪽 25px 여백 */\n",
       "</style>\n",
       "</head>\n",
       "\n",
       "<body>\n",
       "<section id=\"container\">\n",
       "    <header><h1>객실 소개</h1></header>\n",
       "    <h3> 객실 안내</h3>\n",
       "    <ul>\n",
       "        <li><a href=\"two.html\"><b>4인실(펜션)</b></a> 취사 기구 완비, 실내 욕실(화장실)</li>\n",
       "    </ul>\n",
       "    <h3> 객실 요금</h3>  \n",
       "    <ul>\n",
       "        <li>1인 : 40,000원</li>\n",
       "        <li>2인 : 60,000원</li>\n",
       "    </ul>\n",
       "    <h3>객실 요금 및 사진 다운 받기</h3>\n",
       "    <ul>\n",
       "        <li><a href=\"intro.hwp\">hwp 파일</a></li>\n",
       "        <li><a href=\"intro.xls\">엑셀 파일</a></li>\n",
       "    </ul>\n",
       "</section></body></html>"
      ],
      "text/plain": [
       "<IPython.core.display.HTML object>"
      ]
     },
     "metadata": {},
     "output_type": "display_data"
    }
   ],
   "source": [
    "%%html\n",
    "<style>\n",
    "    ul li {font-size:16px; line-height:25px;}\n",
    "    a[href $= \"hwp\"] {      \n",
    "    background: url(\"http://image.zdnet.co.kr/2013/05/09/D2aHMW1V7B3wbWKRp5I4.jpg\") \n",
    "                center right no-repeat;\n",
    "    padding-right:25px;}    /* 링크 경로에 \"hwp\" 포함 : hwp 아이콘 배경, 오른쪽 25px 여백 */\n",
    "    \n",
    "    a[href $= \"xls\"] {      \n",
    "    background: url(https://i.pinimg.com/236x/53/50/73/535073b99e7bc4c42a06f60acdfdad1a.jpg) \n",
    "                center right no-repeat;\n",
    "    padding-right:25px;}    /* 링크 경로에 \"xls\" 포함 : xls 아이콘 배경, 오른쪽 25px 여백 */\n",
    "</style>\n",
    "</head>\n",
    "\n",
    "<body>\n",
    "<section id=\"container\">\n",
    "    <header><h1>객실 소개</h1></header>\n",
    "    <h3> 객실 안내</h3>\n",
    "    <ul>\n",
    "        <li><a href=\"two.html\"><b>4인실(펜션)</b></a> 취사 기구 완비, 실내 욕실(화장실)</li>\n",
    "    </ul>\n",
    "    <h3> 객실 요금</h3>  \n",
    "    <ul>\n",
    "        <li>1인 : 40,000원</li>\n",
    "        <li>2인 : 60,000원</li>\n",
    "    </ul>\n",
    "    <h3>객실 요금 및 사진 다운 받기</h3>\n",
    "    <ul>\n",
    "        <li><a href=\"intro.hwp\">hwp 파일</a></li>\n",
    "        <li><a href=\"intro.xls\">엑셀 파일</a></li>\n",
    "    </ul>\n",
    "</section></body></html>"
   ]
  },
  {
   "cell_type": "markdown",
   "metadata": {},
   "source": [
    "### <strong>05 속성 선택자 조건문 5</strong>\n",
    "<strong>[속성 *= 값] - 조건문 </strong> : '값'이 <strong>앞/뒤/중간</strong> 어느위치에 포함하는 영역"
   ]
  },
  {
   "cell_type": "code",
   "execution_count": 17,
   "metadata": {
    "scrolled": true
   },
   "outputs": [
    {
     "data": {
      "text/html": [
       "<head>\n",
       "    <style>\n",
       "    a {text-decoration:none; color:black;}\n",
       "    ul li{font-size:16px; line-height:25px; list-style:none;}\n",
       "    li[title *= \"2011\"] {font-style:italic; font-weight:700;}  // title '2011' 문자열 존재시 : 글자는 이탤릭체로 , 글자 조금 굵게\n",
       "    a[hreflang |= \"en\"] {background:url(\"en.jpg\") center right no-repeat; padding-right:30px;}\n",
       "                                                // hreflang 속성이 \"en\"을 포함시 : 오른쪽에 \"en.jpg\" , 배경 그림과 내용 사이의 여백\n",
       "    </style>\n",
       "</head>\n",
       "<body>\n",
       "    <section id=\"container\">\n",
       "    <header><h1>CSS 참고 사이트</h1></header>\n",
       "        <ul>\n",
       "        <li title=\"last update:2011-11\"><a href=\"#\" hreflang=\"en\">사이트1</a></li>\n",
       "        <li title=\"last update:2010-01\"><a href=\"#\" hreflang=\"en\">사이트2</a></li>\n",
       "        </ul>\n",
       "    </section>\n",
       "</body></html>"
      ],
      "text/plain": [
       "<IPython.core.display.HTML object>"
      ]
     },
     "metadata": {},
     "output_type": "display_data"
    }
   ],
   "source": [
    "%%html\n",
    "<head>\n",
    "    <style>\n",
    "    a {text-decoration:none; color:black;}\n",
    "    ul li{font-size:16px; line-height:25px; list-style:none;}\n",
    "    li[title *= \"2011\"] {font-style:italic; font-weight:700;}  // title '2011' 문자열 존재시 : 글자는 이탤릭체로 , 글자 조금 굵게\n",
    "    a[hreflang |= \"en\"] {background:url(\"en.jpg\") center right no-repeat; padding-right:30px;}\n",
    "                                                // hreflang 속성이 \"en\"을 포함시 : 오른쪽에 \"en.jpg\" , 배경 그림과 내용 사이의 여백\n",
    "    </style>\n",
    "</head>\n",
    "<body>\n",
    "    <section id=\"container\">\n",
    "    <header><h1>CSS 참고 사이트</h1></header>\n",
    "        <ul>\n",
    "        <li title=\"last update:2011-11\"><a href=\"#\" hreflang=\"en\">사이트1</a></li>\n",
    "        <li title=\"last update:2010-01\"><a href=\"#\" hreflang=\"en\">사이트2</a></li>\n",
    "        </ul>\n",
    "    </section>\n",
    "</body></html>"
   ]
  },
  {
   "cell_type": "markdown",
   "metadata": {},
   "source": [
    "<br>\n",
    "## <strong>3  가상 클래스 선택자 </strong> </h3>\n",
    "실제 존재하지 않지만, 필요에 의해 가상의 선택자를 지정하여 사용\n",
    "### <strong>01  : 링크관련</strong>\n",
    "1. <strong>:link</strong> : 아직 <strong>방문하지 않은</strong> 링크에 스타일 적용\n",
    "1. <strong>:visited</strong> : <strong>한번 이상 방문한 링크</strong>에 스타일 적용\n",
    "1. <strong>:hover</strong> : 해당 요소 위<strong> 포인터</strong> 놓았을 때 스타일 적용\n",
    "1. <strong>:active</strong> : 해당 요소<strong> 활성화 </strong> 되었을 때 스타일 적용\n",
    "1. <strong>:focus</strong> : 해당 요소에<strong> 커서를 위치 </strong> 한 경우 스타일 적용"
   ]
  },
  {
   "cell_type": "markdown",
   "metadata": {},
   "source": [
    "### <strong>02 : 위치관련 </strong>\n",
    "1. <strong>:root</strong> : 선택 문서의 <strong>root 요소</strong>에 스타일 적용\n",
    "1. <strong>:nth-child(n), nth-last-child(n)</strong> : <strong>자식요소</strong>에 스타일 적용\n",
    "1. <strong>:nth-of-type(n), nth-last-of-type(n)</strong> : 태그가 나열되어 있을 때, <strong>순번</strong>을 적용\n",
    "1. <strong>:first-child, last-child</strong> : <strong>자식 요소 중</strong> 첫번째, 마지막에 적용 \n",
    "1. <strong>:first-of-type, last-of-type</strong> : <strong>형제관계 요소 중</strong> 첫번째, 마지막에 적용\n",
    "1. <strong>:only-child, only-of-type</strong> : 부모 요소중 자식이 <strong>유일</strong>, 해당요소가 <strong>유일</strong>할 떄 스타일 적용\n",
    "1. <strong>:target</strong> : 웹 페이지 중 같은 사이트/ 페이지로 이동 링크 cf) <strong>같은 페이지</strong>에선 '#'앵커로 북마크\n",
    "1. <strong>:enable, :disable, :checked</strong> : 요소 중 사용할 수 있는/ 없는 상태의 스타일 적용"
   ]
  },
  {
   "cell_type": "code",
   "execution_count": 18,
   "metadata": {},
   "outputs": [
    {
     "data": {
      "text/html": [
       "<html><head>\n",
       "<style>\n",
       "ul.navi li {\n",
       "    list-style-type: none; /* 불릿 없앰 */\n",
       "    display: block;        /* 영역 만듦 */\n",
       "    width: 8em;            /* 너비 */\n",
       "    height: 3em;           /* 높이 */\n",
       "    float: left;           /* 왼쪽으로 플로팅 */\n",
       "    text-align: center;    /* 가운데 정렬 */\n",
       "    font-family: \"Lucida Grande\", sans-serif; /* 글꼴 */\n",
       "    border-right: 1px #818181 solid;          /* 오른쪽에 테두리 */\n",
       "    box-shadow: 1px 1px 1px #bbb;             /* 박스 그림자 */\n",
       "    background-color: #c9c9c9;                /* 배경색 */  \n",
       "    background: -webkit-gradient(             /* 그라데이션 배경 */\n",
       "        linear, left top, left bottom, \n",
       "        from(#c9c9c9), to(#848484), color-stop(0.6, #a1a1a1));  \n",
       "    background: -moz-linear-gradient(top,#c9c9c9,  #a1a1a1, #848484);}\n",
       "\n",
       "/* 메뉴 링크 스타일 */\n",
       "ul.navi li a {\n",
       "    display: block;                    /* 영역 만듦 */\n",
       "    padding: .8em .5em .5em .5em;      /* 안여백 */\n",
       "    text-decoration: none;             /* 밑줄 없앰 */\n",
       "    color: #292929;                    /* 글자색 */\n",
       "    text-shadow: 1px 1px 0px #cccccc;  /* 텍스트 그림자 */}\n",
       "\n",
       "/* 메뉴 링크 위로 마우스 오버했을 때의 스타일 */\n",
       "ul.navi li:hover{ \n",
       "    background-color: #333333;          /* 배경색 */\n",
       "    background: -webkit-gradient(\n",
       "        linear, left top, left bottom, \n",
       "        from(#333333), to(#4c4c4c), \n",
       "            color-stop(0.6, #474747)); /* 그라데이션 배경 */\n",
       "    background: -moz-linear-gradient(top, #333333,#474747, #4c4c4c);}\n",
       "\n",
       "/* 메뉴 링크 위로 마우스 오버한 후 링크 스타일 */\n",
       "ul.navi li:hover > a{\n",
       "    color:#FFF;                   /* 글자색 */\n",
       "    text-shadow:0px 1px 0px #fff; /* 텍스트 그림자 */}\n",
       "\n",
       "/* 첫번째 항목의 스타일 */\n",
       "ul.navi li:first-child {\n",
       "    border-top-left-radius: .5em;     /* 왼쪽 상단 코너를 부드럽게 */\n",
       "    border-bottom-left-radius: .5em;  /* 왼쪽 하단 코너를 부드럽게 */}\n",
       "\n",
       "/* 마지막 항목의 스타일 */\n",
       "ul.navi li:last-child {\n",
       "    border-top-right-radius: .5em;     /*오른쪽 상단 코너를 부드럽게 */\n",
       "    border-bottom-right-radius: .5em;  /* 오른쪽 하단 코너를 부드럽게 */}\n",
       "</style>\n",
       "</head><body>\n",
       "<div>\n",
       "    <ul class=\"navi\"> \n",
       "        <li class=\"home\"><a href=\"#\">Home</a></li> \n",
       "        <li id=\"html\"><a href=\"#\">HTML5</a></li> \n",
       "        <li id=\"css\"><a href=\"#\">CSS3</a></li> \n",
       "        <li id=\"jquery\"><a href=\"#\">JQuery</a></li> \n",
       "    </ul> \n",
       "</div>\n",
       "</body></html>"
      ],
      "text/plain": [
       "<IPython.core.display.HTML object>"
      ]
     },
     "metadata": {},
     "output_type": "display_data"
    }
   ],
   "source": [
    "%%html\n",
    "<html><head>\n",
    "<style>\n",
    "ul.navi li {\n",
    "    list-style-type: none; /* 불릿 없앰 */\n",
    "    display: block;        /* 영역 만듦 */\n",
    "    width: 8em;            /* 너비 */\n",
    "    height: 3em;           /* 높이 */\n",
    "    float: left;           /* 왼쪽으로 플로팅 */\n",
    "    text-align: center;    /* 가운데 정렬 */\n",
    "    font-family: \"Lucida Grande\", sans-serif; /* 글꼴 */\n",
    "    border-right: 1px #818181 solid;          /* 오른쪽에 테두리 */\n",
    "    box-shadow: 1px 1px 1px #bbb;             /* 박스 그림자 */\n",
    "    background-color: #c9c9c9;                /* 배경색 */  \n",
    "    background: -webkit-gradient(             /* 그라데이션 배경 */\n",
    "        linear, left top, left bottom, \n",
    "        from(#c9c9c9), to(#848484), color-stop(0.6, #a1a1a1));  \n",
    "    background: -moz-linear-gradient(top,#c9c9c9,  #a1a1a1, #848484);}\n",
    "\n",
    "/* 메뉴 링크 스타일 */\n",
    "ul.navi li a {\n",
    "    display: block;                    /* 영역 만듦 */\n",
    "    padding: .8em .5em .5em .5em;      /* 안여백 */\n",
    "    text-decoration: none;             /* 밑줄 없앰 */\n",
    "    color: #292929;                    /* 글자색 */\n",
    "    text-shadow: 1px 1px 0px #cccccc;  /* 텍스트 그림자 */}\n",
    "\n",
    "/* 메뉴 링크 위로 마우스 오버했을 때의 스타일 */\n",
    "ul.navi li:hover{ \n",
    "    background-color: #333333;          /* 배경색 */\n",
    "    background: -webkit-gradient(\n",
    "        linear, left top, left bottom, \n",
    "        from(#333333), to(#4c4c4c), \n",
    "            color-stop(0.6, #474747)); /* 그라데이션 배경 */\n",
    "    background: -moz-linear-gradient(top, #333333,#474747, #4c4c4c);}\n",
    "\n",
    "/* 메뉴 링크 위로 마우스 오버한 후 링크 스타일 */\n",
    "ul.navi li:hover > a{\n",
    "    color:#FFF;                   /* 글자색 */\n",
    "    text-shadow:0px 1px 0px #fff; /* 텍스트 그림자 */}\n",
    "\n",
    "/* 첫번째 항목의 스타일 */\n",
    "ul.navi li:first-child {\n",
    "    border-top-left-radius: .5em;     /* 왼쪽 상단 코너를 부드럽게 */\n",
    "    border-bottom-left-radius: .5em;  /* 왼쪽 하단 코너를 부드럽게 */}\n",
    "\n",
    "/* 마지막 항목의 스타일 */\n",
    "ul.navi li:last-child {\n",
    "    border-top-right-radius: .5em;     /*오른쪽 상단 코너를 부드럽게 */\n",
    "    border-bottom-right-radius: .5em;  /* 오른쪽 하단 코너를 부드럽게 */}\n",
    "</style>\n",
    "</head><body>\n",
    "<div>\n",
    "    <ul class=\"navi\"> \n",
    "        <li class=\"home\"><a href=\"#\">Home</a></li> \n",
    "        <li id=\"html\"><a href=\"#\">HTML5</a></li> \n",
    "        <li id=\"css\"><a href=\"#\">CSS3</a></li> \n",
    "        <li id=\"jquery\"><a href=\"#\">JQuery</a></li> \n",
    "    </ul> \n",
    "</div>\n",
    "</body></html>"
   ]
  },
  {
   "cell_type": "markdown",
   "metadata": {},
   "source": [
    "<br>\n",
    "## <strong>4 기타 </strong>\n",
    "1. <strong>::before, ::after</strong> : <strong>특정요소의 앞/뒤</strong>에 지정한 스타일 적용\n",
    "1. <strong>::selection</strong> : <strong>마우스로 선택</strong>한 때에 스타일 적용\n",
    "1. <strong>:not</strong> : <strong>해당 요소를 제외한</strong>태그에 스타일 적용"
   ]
  },
  {
   "cell_type": "code",
   "execution_count": 19,
   "metadata": {},
   "outputs": [
    {
     "data": {
      "text/html": [
       "<head>\n",
       "<style>  \n",
       "ul li {list-style:none; font-size:16px; margin-top :10px} /* 목록불릿없앰, 글자16px, 위쪽여백 10px */\n",
       "ul li label{float:left; width:80px; line-height:25px;}    /* 왼쪽배치, 너비 80px, 줄간격 25px */\n",
       "input:not([type=\"text\"]) {                                /* type=\"text\"가 아닌 input 요소 */\n",
       "    width:150px; background-color:lime; border:1px solid #000;} /* 너비 150px, 배경 라임, 1px 검은실선 */\n",
       "</style>\n",
       "</head>\n",
       "<body><section id=\"container\">\n",
       "<h1>예약하기</h1>\n",
       "    <form name=\"form1\" id=\"form1\" method=\"post\">\n",
       "    <fieldset>\n",
       "            <legend>예약자 정보</legend>\n",
       "        <ul><li>\n",
       "                <label for=\"name\">예약자</label> <input type=\"text\" id=\"name\">\n",
       "            </li><li>\n",
       "                <label for=\"contact\">연락처</label> <input type=\"tel\" id=\"contact\">\n",
       "            </li><li>\n",
       "                <label for=\"people\">예약 인원</label> <input type=\"number\" id=\"people\">\n",
       "            </li><li>\n",
       "                <label for=\"bank\">입금 은행</label> <input type=\"text\" id=\"bank\">\n",
       "        </li></ul>  \n",
       "    </fieldset></form>\n",
       "</section></body></html>"
      ],
      "text/plain": [
       "<IPython.core.display.HTML object>"
      ]
     },
     "metadata": {},
     "output_type": "display_data"
    }
   ],
   "source": [
    "%%html\n",
    "<head>\n",
    "<style>  \n",
    "ul li {list-style:none; font-size:16px; margin-top :10px} /* 목록불릿없앰, 글자16px, 위쪽여백 10px */\n",
    "ul li label{float:left; width:80px; line-height:25px;}    /* 왼쪽배치, 너비 80px, 줄간격 25px */\n",
    "input:not([type=\"text\"]) {                                /* type=\"text\"가 아닌 input 요소 */\n",
    "    width:150px; background-color:lime; border:1px solid #000;} /* 너비 150px, 배경 라임, 1px 검은실선 */\n",
    "</style>\n",
    "</head>\n",
    "<body><section id=\"container\">\n",
    "<h1>예약하기</h1>\n",
    "    <form name=\"form1\" id=\"form1\" method=\"post\">\n",
    "    <fieldset>\n",
    "            <legend>예약자 정보</legend>\n",
    "        <ul><li>\n",
    "                <label for=\"name\">예약자</label> <input type=\"text\" id=\"name\">\n",
    "            </li><li>\n",
    "                <label for=\"contact\">연락처</label> <input type=\"tel\" id=\"contact\">\n",
    "            </li><li>\n",
    "                <label for=\"people\">예약 인원</label> <input type=\"number\" id=\"people\">\n",
    "            </li><li>\n",
    "                <label for=\"bank\">입금 은행</label> <input type=\"text\" id=\"bank\">\n",
    "        </li></ul>  \n",
    "    </fieldset></form>\n",
    "</section></body></html>"
   ]
  },
  {
   "cell_type": "markdown",
   "metadata": {},
   "source": [
    "<br>\n",
    "## <strong>5 다양한 속성을 나타내는 CSS3</strong>\n",
    "완전한 모듈이 완성되기 전 CSS3를 선언해야 원활히 작동\n",
    "\n",
    "변형옵션\n",
    "1. -webkit- : 웹키트 방식 : 사파리, 크롬\n",
    "2. -moz-    : 게코방식    : 모질라, 파이어폭스\n",
    "3. -ms-     : 마이크로소프트 \n",
    "4. -o-      : 오페라 브라우저"
   ]
  },
  {
   "cell_type": "code",
   "execution_count": 20,
   "metadata": {},
   "outputs": [
    {
     "data": {
      "text/html": [
       "<style>\n",
       "    .myphoto{\n",
       "    position:absolute;\n",
       "    left:290px;\n",
       "    top:10px;\n",
       "    transform: rotate(15deg);\n",
       "    -webkit-transform:rotate(15deg);\n",
       "    -moz-transform:rotate(15deg);}\n",
       "</style>\n",
       "</head>\n",
       "<body>\n",
       "<img class=\"myphoto\" width=\"200\"\n",
       "     src=\"http://static.panoramio.com/photos/large/18974380.jpg\">\n",
       "</body>\n",
       "</html>"
      ],
      "text/plain": [
       "<IPython.core.display.HTML object>"
      ]
     },
     "metadata": {},
     "output_type": "display_data"
    }
   ],
   "source": [
    "%%html\n",
    "<style>\n",
    "    .myphoto{\n",
    "    position:absolute;\n",
    "    left:290px;\n",
    "    top:10px;\n",
    "    transform: rotate(15deg);\n",
    "    -webkit-transform:rotate(15deg);\n",
    "    -moz-transform:rotate(15deg);}\n",
    "</style>\n",
    "</head>\n",
    "<body>\n",
    "<img class=\"myphoto\" width=\"200\"\n",
    "     src=\"http://static.panoramio.com/photos/large/18974380.jpg\">\n",
    "</body>\n",
    "</html>"
   ]
  },
  {
   "cell_type": "code",
   "execution_count": null,
   "metadata": {},
   "outputs": [],
   "source": []
  },
  {
   "cell_type": "code",
   "execution_count": null,
   "metadata": {},
   "outputs": [],
   "source": []
  },
  {
   "cell_type": "code",
   "execution_count": null,
   "metadata": {},
   "outputs": [],
   "source": []
  }
 ],
 "metadata": {
  "kernelspec": {
   "display_name": "Python 3",
   "language": "python",
   "name": "python3"
  },
  "language_info": {
   "codemirror_mode": {
    "name": "ipython",
    "version": 3
   },
   "file_extension": ".py",
   "mimetype": "text/x-python",
   "name": "python",
   "nbconvert_exporter": "python",
   "pygments_lexer": "ipython3",
   "version": "3.6.3"
  }
 },
 "nbformat": 4,
 "nbformat_minor": 2
}
