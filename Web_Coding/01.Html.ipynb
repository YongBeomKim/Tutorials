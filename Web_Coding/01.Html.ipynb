{
 "cells": [
  {
   "cell_type": "markdown",
   "metadata": {},
   "source": [
    "# <strong>HTML5 + CSS3 웹표준의 정석 (HTML)\n",
    "<br>\n",
    "## <strong> 1 DOM (Document Object Model) : 노드들이 모여서 계층구조를 형성\n",
    "1. <strong>자식 (Child Selector)</strong> : 직계 자식 <strong>ex) A B</strong> (공백)\n",
    "1. <strong>자손 (Descendant Selector)</strong> : 자식, 손자, 이후의 모든 후손 등을 통칭  <strong>ex) A > B</strong> (>로 서열만 지정)\n",
    "1. <strong>ID (고유 값)</strong>: <strong>#id이름</strong>\n",
    "1. <strong>name (객체 명)</strong>: Action 페이지로 변수를 전달 ex)form\n",
    "1. <strong>Class (속성)</strong>: <strong>.클래스이름</strong>\n",
    "1. <strong>element</strong> : 노드에 포함된 \\<\\tag>\n",
    "1. <strong>attribute</strong> : id, class, value 등 속성\n",
    "1. <strong>argument</strong> : attribute 에 할당된 값\n",
    "\n",
    "<strong>(HTML DOM tree 구조)\n",
    "<p><img src=\"http://pautasso.info/lectures/w13/sa3/3-js/img/dom-tree.svg\" align='left' width='300'></p></br>\n",
    "\n",
    "<strong>(Node가 포함하는 요소들)\n",
    "<p><img src=\"http://web.stanford.edu/class/cs98si/img/dom_types.png\" align='left' width='400'></p>"
   ]
  },
  {
   "cell_type": "markdown",
   "metadata": {},
   "source": [
    "<br>\n",
    "## <strong>2 HTML4 기본 다지기\n",
    "1. 태그 : 태그는 소문자로\n",
    "2. 인코딩 : <strong>meta 설정값을 utf-8</strong>\n",
    "3. 공백 : <strong>'&nbsp'</strong> 2칸 이상의 공백을 설정시 사용"
   ]
  },
  {
   "cell_type": "code",
   "execution_count": 1,
   "metadata": {},
   "outputs": [
    {
     "data": {
      "text/html": [
       "<!-- 브라우저 정보 -->\n",
       "<!doctype html>\n",
       "<html lang='ko'> \n",
       "<head> <meta charset=\"utf-8\"> </head>    \n",
       "\n",
       "<!-- 화면표시 내용 -->\n",
       "<body> \n",
       "    <p><h1>Idea 1</h1></p>\n",
       "    <p><h2>Design Thinking</h3></p>\n",
       "    <img src=\"https://upload.wikimedia.org/wikipedia/commons/e/e4/HTML_logo.png\" width='100'>\n",
       "    <p><a href=\"https://ko.wikipedia.org/wiki/HTML\">Wikipedia 바로가기</a></p>\n",
       "</body>\n",
       "</html>"
      ],
      "text/plain": [
       "<IPython.core.display.HTML object>"
      ]
     },
     "metadata": {},
     "output_type": "display_data"
    }
   ],
   "source": [
    "%%html\n",
    "<!-- 브라우저 정보 -->\n",
    "<!doctype html>\n",
    "<html lang='ko'> \n",
    "<head> <meta charset=\"utf-8\"> </head>    \n",
    "\n",
    "<!-- 화면표시 내용 -->\n",
    "<body> \n",
    "    <p><h1>Idea 1</h1></p>\n",
    "    <p><h2>Design Thinking</h3></p>\n",
    "    <img src=\"https://upload.wikimedia.org/wikipedia/commons/e/e4/HTML_logo.png\" width='100'>\n",
    "    <p><a href=\"https://ko.wikipedia.org/wiki/HTML\">Wikipedia 바로가기</a></p>\n",
    "</body>\n",
    "</html>"
   ]
  },
  {
   "cell_type": "markdown",
   "metadata": {},
   "source": [
    "<br>\n",
    "## <strong>3 HTML5 문서 기본구조\n",
    "### <strong>01 div</strong> : HTML 문서구조 분할\n",
    "<strong>Semantic Element</strong> : 문서의 기본 구조\n",
    "1. <strong>div 태그</strong> : 영역의 구분\n",
    "1. <strong>nav 태그</strong> : Navigation Bar의 페이지 이동영역\n",
    "\n",
    "<img src =\"https://i.stack.imgur.com/N1NmR.gif\" align=\"left\">"
   ]
  },
  {
   "cell_type": "code",
   "execution_count": 2,
   "metadata": {},
   "outputs": [
    {
     "data": {
      "text/html": [
       "<div id= 'header'>\n",
       "<h1>문서 만들기</h1></div>\n",
       "\n",
       "<div id= 'content'>\n",
       "<p> Build Html for Web </h2></div>\n",
       "\n",
       "<div id= 'footer'>\n",
       "<p>Copyright 2017 by erdos</div>"
      ],
      "text/plain": [
       "<IPython.core.display.HTML object>"
      ]
     },
     "metadata": {},
     "output_type": "display_data"
    }
   ],
   "source": [
    "%%html\n",
    "<div id= 'header'>\n",
    "<h1>문서 만들기</h1></div>\n",
    "\n",
    "<div id= 'content'>\n",
    "<p> Build Html for Web </h2></div>\n",
    "\n",
    "<div id= 'footer'>\n",
    "<p>Copyright 2017 by erdos</div>"
   ]
  },
  {
   "cell_type": "code",
   "execution_count": 3,
   "metadata": {},
   "outputs": [
    {
     "data": {
      "text/html": [
       "<body>\n",
       "<header>   <!-- 1. 헤더부분 -->\n",
       "    <h1>입양하기</h1>\n",
       "    <nav>  <!-- 네비게이션 : 다른 문서로 연결하겠구나 추론이 가능-->\n",
       "        <ul>\n",
       "            <li><a href=\"#\">애완견 종류</a></li>\n",
       "            <li><a href=\"#\">입양하기</a></li>\n",
       "        </ul>\n",
       "    </nav>\n",
       "</header>\n",
       "\n",
       "<section>   <!-- 2. 콘텐츠 내용 부분 -->\n",
       "    <article>\n",
       "        <h2>강아지 용품 준비하기</h2>\n",
       "        <ul>\n",
       "            <li>강아지 집 </li>\n",
       "            <li>강아지 먹이 </li>\n",
       "        </ul>\n",
       "    </article>\n",
       "</section>\n",
       "\n",
       "<footer>    <!-- 3. footer 부분 -->\n",
       "    <p>Copyright 2017 erdos</p>\n",
       "</footer>\n",
       "</body></html>"
      ],
      "text/plain": [
       "<IPython.core.display.HTML object>"
      ]
     },
     "metadata": {},
     "output_type": "display_data"
    }
   ],
   "source": [
    "%%html\n",
    "<body>\n",
    "<header>   <!-- 1. 헤더부분 -->\n",
    "    <h1>입양하기</h1>\n",
    "    <nav>  <!-- 네비게이션 : 다른 문서로 연결하겠구나 추론이 가능-->\n",
    "        <ul>\n",
    "            <li><a href=\"#\">애완견 종류</a></li>\n",
    "            <li><a href=\"#\">입양하기</a></li>\n",
    "        </ul>\n",
    "    </nav>\n",
    "</header>\n",
    "\n",
    "<section>   <!-- 2. 콘텐츠 내용 부분 -->\n",
    "    <article>\n",
    "        <h2>강아지 용품 준비하기</h2>\n",
    "        <ul>\n",
    "            <li>강아지 집 </li>\n",
    "            <li>강아지 먹이 </li>\n",
    "        </ul>\n",
    "    </article>\n",
    "</section>\n",
    "\n",
    "<footer>    <!-- 3. footer 부분 -->\n",
    "    <p>Copyright 2017 erdos</p>\n",
    "</footer>\n",
    "</body></html>"
   ]
  },
  {
   "cell_type": "markdown",
   "metadata": {},
   "source": [
    "### <strong>02 본문 페이지 편집 Tag\n",
    "1. <strong>iframe</strong> : 외부 Html, Url 삽입\n",
    "2. <strong>section</strong> : 기능상의 분할\n",
    "3. <strong>article</strong> : 하나의 완전한 콘텐츠인 경우\n",
    "4. <strong>aside</strong> : 본문 이외의 내용 표시하기"
   ]
  },
  {
   "cell_type": "code",
   "execution_count": 4,
   "metadata": {},
   "outputs": [
    {
     "data": {
      "text/html": [
       "<!-- iframe : 외부 URL, Html 삽입 -->\n",
       "<iframe src=\"http://www.example.com/\" \n",
       "        width=\"45%\" height=\"250\" seamless> </iframe>"
      ],
      "text/plain": [
       "<IPython.core.display.HTML object>"
      ]
     },
     "metadata": {},
     "output_type": "display_data"
    }
   ],
   "source": [
    "%%html\n",
    "<!-- iframe : 외부 URL, Html 삽입 -->\n",
    "<iframe src=\"http://www.example.com/\" \n",
    "        width=\"45%\" height=\"250\" seamless> </iframe>"
   ]
  },
  {
   "cell_type": "code",
   "execution_count": 5,
   "metadata": {},
   "outputs": [
    {
     "data": {
      "text/html": [
       "<!-- section : 콘텐츠 영역 나타내기 -->\n",
       "<!-- article : 실제 콘텐츠 내용 삽입 -->\n",
       "<!-- aside : 사이드 바 표시 -->\n",
       "\n",
       "<section id=\"content_wrap\">\n",
       "    <h2>Welcome Example Site</h2>    \n",
       "    <article id = \"content_main\">\n",
       "    <div>\n",
       "        <h1>Example Domain</h1>\n",
       "        <p>This domain is established to be used in documents.</p>\n",
       "        <p><a href=\"http://www.iana.org/domains/example\">More info...</a></p>\n",
       "    </div>\n",
       "    </article>\n",
       "\n",
       "    <div>\n",
       "    <aside class=\"sidebar1\">\n",
       "        <h3>--알립니다--</h3>\n",
       "        <p>게스트하우스 예약은 전화 070-###-#### 로 직접 통화하시는게\n",
       "            가장 정확하고 빠릅니다.</p>\n",
       "    </aside> \n",
       "    </div>\n",
       "</section>"
      ],
      "text/plain": [
       "<IPython.core.display.HTML object>"
      ]
     },
     "metadata": {},
     "output_type": "display_data"
    }
   ],
   "source": [
    "%%html\n",
    "<!-- section : 콘텐츠 영역 나타내기 -->\n",
    "<!-- article : 실제 콘텐츠 내용 삽입 -->\n",
    "<!-- aside : 사이드 바 표시 -->\n",
    "\n",
    "<section id=\"content_wrap\">\n",
    "    <h2>Welcome Example Site</h2>    \n",
    "    <article id = \"content_main\">\n",
    "    <div>\n",
    "        <h1>Example Domain</h1>\n",
    "        <p>This domain is established to be used in documents.</p>\n",
    "        <p><a href=\"http://www.iana.org/domains/example\">More info...</a></p>\n",
    "    </div>\n",
    "    </article>\n",
    "\n",
    "    <div>\n",
    "    <aside class=\"sidebar1\">\n",
    "        <h3>--알립니다--</h3>\n",
    "        <p>게스트하우스 예약은 전화 070-###-#### 로 직접 통화하시는게\n",
    "            가장 정확하고 빠릅니다.</p>\n",
    "    </aside> \n",
    "    </div>\n",
    "</section>"
   ]
  },
  {
   "cell_type": "markdown",
   "metadata": {},
   "source": [
    "<br>\n",
    "## <strong>4 텍스트 관련 Tag 들\n",
    "### <strong>01 기본 문장 태그들</strong>\n",
    "1. <strong>P</strong> : 단락 만들기\n",
    "1. <strong>span</strong> : 줄바꿈 없이 일부 텍스트를 묶어서 별도 스타일 적용\n",
    "2. <strong>strong</strong> : 굵게표시\n",
    "3. <strong>em/ i</strong> : 이텔릭체\n",
    "4. <strong>q</strong> : 자동 따옴표"
   ]
  },
  {
   "cell_type": "code",
   "execution_count": 6,
   "metadata": {},
   "outputs": [
    {
     "data": {
      "text/html": [
       "<section class = \"content\">\n",
       "    <h2>이용안내</h2>\n",
       "<article>\n",
       "    <h3>Information</h3>\n",
       "</article>\n",
       "</section>"
      ],
      "text/plain": [
       "<IPython.core.display.HTML object>"
      ]
     },
     "metadata": {},
     "output_type": "display_data"
    }
   ],
   "source": [
    "%%html\n",
    "<section class = \"content\">\n",
    "    <h2>이용안내</h2>\n",
    "<article>\n",
    "    <h3>Information</h3>\n",
    "</article>\n",
    "</section>"
   ]
  },
  {
   "cell_type": "code",
   "execution_count": 7,
   "metadata": {},
   "outputs": [
    {
     "data": {
      "text/html": [
       "<body>\n",
       "<h3>HTML이란 </h3>\n",
       "<!--blockquote (HTML Block Quotation Element) : 감싸진 텍스트가 인용문임을 설정 -->\n",
       "<blockquote cite=\"http://www.w3.org/TR/webstorage/#the-localstorage-attribute\">\n",
       "    HTML은 하이퍼텍스트 \n",
       "    <mark> 마크업 언어 </mark>(HyperText Markup Language)\n",
       "</blockquote>\n",
       "\n",
       "<!-- pre (Preformatted Text) : 입력한 그대로 Text로 출력 -->\n",
       "<pre>  \n",
       "   <h3>    로컬 스토리지\n",
       "    (Local Storage)를 \n",
       "    저장하는 함수 :  </h3>\n",
       "    function savetheLocal(){\n",
       "          <mark>var second</mark> = document.getElementById(\"second\");\n",
       "          gettheLocal();}\n",
       "</pre></body>"
      ],
      "text/plain": [
       "<IPython.core.display.HTML object>"
      ]
     },
     "metadata": {},
     "output_type": "display_data"
    }
   ],
   "source": [
    "%%html\n",
    "<body>\n",
    "<h3>HTML이란 </h3>\n",
    "<!--blockquote (HTML Block Quotation Element) : 감싸진 텍스트가 인용문임을 설정 -->\n",
    "<blockquote cite=\"http://www.w3.org/TR/webstorage/#the-localstorage-attribute\">\n",
    "    HTML은 하이퍼텍스트 \n",
    "    <mark> 마크업 언어 </mark>(HyperText Markup Language)\n",
    "</blockquote>\n",
    "\n",
    "<!-- pre (Preformatted Text) : 입력한 그대로 Text로 출력 -->\n",
    "<pre>  \n",
    "   <h3>    로컬 스토리지\n",
    "    (Local Storage)를 \n",
    "    저장하는 함수 :  </h3>\n",
    "    function savetheLocal(){\n",
    "          <mark>var second</mark> = document.getElementById(\"second\");\n",
    "          gettheLocal();}\n",
    "</pre></body>"
   ]
  },
  {
   "cell_type": "code",
   "execution_count": 8,
   "metadata": {},
   "outputs": [
    {
     "data": {
      "text/html": [
       "<!-- strong / em -->\n",
       "<h2> <p> <strong>굵게표시</strong> </p>\n",
       "     <p> <em>이텔릭체</em> </p>\n",
       "     <p> <i>이텔릭체</i> </p>\n",
       "     <p> <q>대화체 표시</q> </p>\n",
       "     <p> <ruby>태양</ruby><rt>SUM</rt>\n",
       "         <ruby>달</ruby><rt>MOON</rt> \n",
       "    <p> <span style=\"color:yellow\"> 별도 스타일 적용내용 \n",
       "        </span> </p><!-- 줄바꿈 없이 일부 텍스트를 묶어서 별도 스타일 적용필요시 -->            \n",
       "</h2>"
      ],
      "text/plain": [
       "<IPython.core.display.HTML object>"
      ]
     },
     "metadata": {},
     "output_type": "display_data"
    }
   ],
   "source": [
    "%%html\n",
    "<!-- strong / em -->\n",
    "<h2> <p> <strong>굵게표시</strong> </p>\n",
    "     <p> <em>이텔릭체</em> </p>\n",
    "     <p> <i>이텔릭체</i> </p>\n",
    "     <p> <q>대화체 표시</q> </p>\n",
    "     <p> <ruby>태양</ruby><rt>SUM</rt>\n",
    "         <ruby>달</ruby><rt>MOON</rt> \n",
    "    <p> <span style=\"color:yellow\"> 별도 스타일 적용내용 \n",
    "        </span> </p><!-- 줄바꿈 없이 일부 텍스트를 묶어서 별도 스타일 적용필요시 -->            \n",
    "</h2>"
   ]
  },
  {
   "cell_type": "markdown",
   "metadata": {},
   "source": [
    "### <strong>02 목록 자동정렬</strong>\n",
    "1. <strong> ul (Unordered List)</strong> : 순서가 없는 목록\n",
    "2. <strong> ol (Ordered List)</strong>  : 순서가 있는 목록\n",
    "3. <strong> li (List item)</strong> :  리스트 항목을 나열"
   ]
  },
  {
   "cell_type": "code",
   "execution_count": 9,
   "metadata": {},
   "outputs": [
    {
     "data": {
      "text/html": [
       "<head>\n",
       "    <style>\n",
       "    ul {list-style-type:square;}  \n",
       "    </style>\n",
       "</head>\n",
       "<body>\n",
       "    <article>\n",
       "        <h3>유채방, 동백방</h3>\n",
       "        <ul><li>도미토리, 동성(또는 가족) 1팀</li>\n",
       "            <li>4인실</li></ul>\n",
       "    </article>\n",
       "</body></html>"
      ],
      "text/plain": [
       "<IPython.core.display.HTML object>"
      ]
     },
     "metadata": {},
     "output_type": "display_data"
    }
   ],
   "source": [
    "%%html\n",
    "<head>\n",
    "    <style>\n",
    "    ul {list-style-type:square;}  \n",
    "    </style>\n",
    "</head>\n",
    "<body>\n",
    "    <article>\n",
    "        <h3>유채방, 동백방</h3>\n",
    "        <ul><li>도미토리, 동성(또는 가족) 1팀</li>\n",
    "            <li>4인실</li></ul>\n",
    "    </article>\n",
    "</body></html>"
   ]
  },
  {
   "cell_type": "code",
   "execution_count": 10,
   "metadata": {},
   "outputs": [
    {
     "data": {
      "text/html": [
       "<head>\n",
       "    <style>\n",
       "        a {text-decoration:none; color:black;}\n",
       "        img {border:0;}\n",
       "    </style>\n",
       "</head>\n",
       "<body>\n",
       "    <a href=\"kor.html\"><p>한글로 보기</p></a>\t\t\n",
       "    <a href=\"eng.html\"><p>영어로 보기</p></a>\n",
       "</body>"
      ],
      "text/plain": [
       "<IPython.core.display.HTML object>"
      ]
     },
     "metadata": {},
     "output_type": "display_data"
    }
   ],
   "source": [
    "%%html\n",
    "<head>\n",
    "    <style>\n",
    "        a {text-decoration:none; color:black;}\n",
    "        img {border:0;}\n",
    "    </style>\n",
    "</head>\n",
    "<body>\n",
    "    <a href=\"kor.html\"><p>한글로 보기</p></a>\t\t\n",
    "    <a href=\"eng.html\"><p>영어로 보기</p></a>\n",
    "</body>"
   ]
  },
  {
   "cell_type": "code",
   "execution_count": 11,
   "metadata": {},
   "outputs": [
    {
     "data": {
      "text/html": [
       "<head>\n",
       "    <style> article {margin-left:15px;} </style>\n",
       "</head>\n",
       "<body> \n",
       "    <h2>객실 소개</h2>    \n",
       "    <article>\n",
       "    <h3>동백방</h3>\n",
       "        <dl>             <!--  description List : 설명 틀 -->\n",
       "        <dt>대상</dt>             <!-- description Title 1 -->\n",
       "            <dd>여자 도미토리</dd>  <!-- description Data -->\n",
       "            <dd>동성(또는 가족)1팀</dd>\n",
       "        <dt>크기</dt>             <!-- Title 2 -->\n",
       "            <dd>4인실</dd>\n",
       "        <dt>가격</dt>             <!-- Title 3 -->\n",
       "            <dd>1인 20,000원</dd>        \n",
       "        </dl>\n",
       "    </article> </body></html>"
      ],
      "text/plain": [
       "<IPython.core.display.HTML object>"
      ]
     },
     "metadata": {},
     "output_type": "display_data"
    }
   ],
   "source": [
    "%%html\n",
    "<head>\n",
    "    <style> article {margin-left:15px;} </style>\n",
    "</head>\n",
    "<body> \n",
    "    <h2>객실 소개</h2>    \n",
    "    <article>\n",
    "    <h3>동백방</h3>\n",
    "        <dl>             <!--  description List : 설명 틀 -->\n",
    "        <dt>대상</dt>             <!-- description Title 1 -->\n",
    "            <dd>여자 도미토리</dd>  <!-- description Data -->\n",
    "            <dd>동성(또는 가족)1팀</dd>\n",
    "        <dt>크기</dt>             <!-- Title 2 -->\n",
    "            <dd>4인실</dd>\n",
    "        <dt>가격</dt>             <!-- Title 3 -->\n",
    "            <dd>1인 20,000원</dd>        \n",
    "        </dl>\n",
    "    </article> </body></html>"
   ]
  },
  {
   "cell_type": "markdown",
   "metadata": {},
   "source": [
    "### <strong>03 표 만들기</strong>\n",
    "1. <strong>caption</strong> : 표의 제목 \n",
    "1. <strong>table, /table</strong> : 표를 만들때에 별도 테이블 속성을 사용\n",
    "1. <strong>tr</strong> : table-row\n",
    "1. <strong>th</strong> : table-header - 표의 Header 를 추가한다\n",
    "1. <strong>td</strong> : table 에 Cell 추가"
   ]
  },
  {
   "cell_type": "code",
   "execution_count": 12,
   "metadata": {},
   "outputs": [
    {
     "data": {
      "text/html": [
       "<head>\n",
       "<style>\n",
       "table {width:400px;}\n",
       "td {border:1px solid black; padding:5px;}\n",
       "</style>\n",
       "</head>\n",
       "<body>\n",
       "    <table>                          <!-- table : Define Table -->\n",
       "        <tr>                                    <!-- Table Row -->\n",
       "            <td>1행 1열</td> <td>1행 2열</td>     <!-- Table Row Data -->\n",
       "        </tr><tr>\n",
       "            <td>2행 1열</td> <td>2행 2열</td>\n",
       "        </tr><tr>\n",
       "            <td>3행 1열</td> <td>3행 2열</td>\n",
       "        </tr>\n",
       "</table></body>"
      ],
      "text/plain": [
       "<IPython.core.display.HTML object>"
      ]
     },
     "metadata": {},
     "output_type": "display_data"
    }
   ],
   "source": [
    "%%html\n",
    "<head>\n",
    "<style>\n",
    "table {width:400px;}\n",
    "td {border:1px solid black; padding:5px;}\n",
    "</style>\n",
    "</head>\n",
    "<body>\n",
    "    <table>                          <!-- table : Define Table -->\n",
    "        <tr>                                    <!-- Table Row -->\n",
    "            <td>1행 1열</td> <td>1행 2열</td>     <!-- Table Row Data -->\n",
    "        </tr><tr>\n",
    "            <td>2행 1열</td> <td>2행 2열</td>\n",
    "        </tr><tr>\n",
    "            <td>3행 1열</td> <td>3행 2열</td>\n",
    "        </tr>\n",
    "</table></body>"
   ]
  },
  {
   "cell_type": "markdown",
   "metadata": {},
   "source": [
    "1. <strong>td (rowspan</strong> = index 추가 수) : table 에 Cell 을 하나(row 로 여러 셀을 늘려) 추가\n",
    "1. <strong>td (colspan</strong> = columns 추가 수) : table 에 Cell 을 하나(columns 로 여러 셀을 늘려) 추가"
   ]
  },
  {
   "cell_type": "code",
   "execution_count": 13,
   "metadata": {},
   "outputs": [
    {
     "data": {
      "text/html": [
       "# row Span : 행 방향으로 넓은공간 설정하기\n",
       "<body>\n",
       "<div class=\"container\">\n",
       "    <table><caption>요안도라 객실</caption>\n",
       "    <tr>                 \n",
       "        <th>방 이름</th>  \n",
       "        <th>대상</th>\n",
       "        <th>크기</th>\n",
       "        <th>가격</th>\n",
       "    </tr>\n",
       "    <tr>                      <!-- Table Row : 열의 시작-->\n",
       "        <th>유채방</th>        <!-- Table Header -->\n",
       "        <td>여성 도미토리</td>   <!-- Table Data : Cell을 입력 -->\n",
       "        <td rowspan=\"3\">4인실</td> \n",
       "        <td rowspan=\"4\">1인 20,000원</td>\n",
       "    </tr>\n",
       "    <tr>\n",
       "        <th rowspan=\"2\">동백방</th>  <!-- rowspan 으로 늘어난 공간을 제외한 나머지 입력 -->\n",
       "        <td>동성 도미토리</td>\n",
       "    </tr>\n",
       "    <tr>\n",
       "        <td>가족 1팀</td>\n",
       "    </tr>\n",
       "    <tr>\n",
       "        <th>천혜향방</th>\n",
       "        <td>-</td> \n",
       "        <td>2인실</td>\n",
       "    </tr>\n",
       "    </table>        \n",
       "</body></html>"
      ],
      "text/plain": [
       "<IPython.core.display.HTML object>"
      ]
     },
     "metadata": {},
     "output_type": "display_data"
    }
   ],
   "source": [
    "%%html\n",
    "# row Span : 행 방향으로 넓은공간 설정하기\n",
    "<body>\n",
    "<div class=\"container\">\n",
    "    <table><caption>요안도라 객실</caption>\n",
    "    <tr>                 \n",
    "        <th>방 이름</th>  \n",
    "        <th>대상</th>\n",
    "        <th>크기</th>\n",
    "        <th>가격</th>\n",
    "    </tr>\n",
    "    <tr>                      <!-- Table Row : 열의 시작-->\n",
    "        <th>유채방</th>        <!-- Table Header -->\n",
    "        <td>여성 도미토리</td>   <!-- Table Data : Cell을 입력 -->\n",
    "        <td rowspan=\"3\">4인실</td> \n",
    "        <td rowspan=\"4\">1인 20,000원</td>\n",
    "    </tr>\n",
    "    <tr>\n",
    "        <th rowspan=\"2\">동백방</th>  <!-- rowspan 으로 늘어난 공간을 제외한 나머지 입력 -->\n",
    "        <td>동성 도미토리</td>\n",
    "    </tr>\n",
    "    <tr>\n",
    "        <td>가족 1팀</td>\n",
    "    </tr>\n",
    "    <tr>\n",
    "        <th>천혜향방</th>\n",
    "        <td>-</td> \n",
    "        <td>2인실</td>\n",
    "    </tr>\n",
    "    </table>        \n",
    "</body></html>"
   ]
  },
  {
   "cell_type": "markdown",
   "metadata": {},
   "source": [
    "1. <strong>col</strong> : 단일컬럼의 style 묶기 \n",
    "1. <strong>colgroup</strong> : 여러컬럼 style 묶기 "
   ]
  },
  {
   "cell_type": "code",
   "execution_count": 14,
   "metadata": {},
   "outputs": [
    {
     "data": {
      "text/html": [
       "<body>\n",
       "<table>\n",
       "    <col style=\"background:blue\">                              <!-- 1번 컬럼의 배경 설정 -->\n",
       "    <colgroup span=\"2\" style=\"background:skyblue\"></colgroup>  <!-- 2,3번 컬럼의 배경 설정 -->\n",
       "    <col>                                                       <!-- 4번 컬럼의 배경 설정 -->\n",
       "    <tr>\n",
       "        <td>&nbsp;</td> \n",
       "        <td>&nbsp;</td>\n",
       "        <td>&nbsp;</td> \n",
       "        <td>&nbsp;</td>\n",
       "    </tr><tr>\n",
       "        <td>&nbsp;</td> \n",
       "        <td>&nbsp;</td>\n",
       "        <td>&nbsp;</td> \n",
       "        <td>&nbsp;</td>\n",
       "    </tr>\n",
       "</table></body>"
      ],
      "text/plain": [
       "<IPython.core.display.HTML object>"
      ]
     },
     "metadata": {},
     "output_type": "display_data"
    }
   ],
   "source": [
    "%%html\n",
    "<body>\n",
    "<table>\n",
    "    <col style=\"background:blue\">                              <!-- 1번 컬럼의 배경 설정 -->\n",
    "    <colgroup span=\"2\" style=\"background:skyblue\"></colgroup>  <!-- 2,3번 컬럼의 배경 설정 -->\n",
    "    <col>                                                       <!-- 4번 컬럼의 배경 설정 -->\n",
    "    <tr>\n",
    "        <td>&nbsp;</td> \n",
    "        <td>&nbsp;</td>\n",
    "        <td>&nbsp;</td> \n",
    "        <td>&nbsp;</td>\n",
    "    </tr><tr>\n",
    "        <td>&nbsp;</td> \n",
    "        <td>&nbsp;</td>\n",
    "        <td>&nbsp;</td> \n",
    "        <td>&nbsp;</td>\n",
    "    </tr>\n",
    "</table></body>"
   ]
  },
  {
   "cell_type": "markdown",
   "metadata": {},
   "source": [
    "1. <strong>tfoot</strong> 표의 요약 index 추가"
   ]
  },
  {
   "cell_type": "code",
   "execution_count": 15,
   "metadata": {},
   "outputs": [
    {
     "data": {
      "text/html": [
       "# Col Span : 컬럼방향으로 넓은공간 설정하기\n",
       "<style>\n",
       "mark{background:yellow; color:blue; font-weight:bold;}\n",
       "tfoot{background-color:#CCC; font-weight:bold; text-align:center;}\n",
       "thead{background-color:#CCC;}\n",
       "</style>\n",
       "</head><body>\n",
       "<table>\n",
       "    <caption>요안도라 객실</caption>\n",
       "    <thead><tr>\n",
       "        <th>방 이름</th> \n",
       "        <th>대상</th> \n",
       "        <th>크기</th> \n",
       "        <th>가격</th>\n",
       "    </tr></thead>\n",
       "    <tfoot><tr>\n",
       "        <td colspan=\"4\">바깥채 전체를 렌트합니다</td>\n",
       "    </tr></tfoot>          \n",
       "    <tbody><tr>\n",
       "        <th>유채방</th> <td>여성 도미토리</td> <td rowspan=\"3\">4인실</td>\n",
       "        <td rowspan=\"4\">1인 20,000원</td>\n",
       "    </tr><tr>\n",
       "        <th rowspan=\"2\">동백방</th> <td>동성 도미토리</td>            \n",
       "    </tr><tr>\n",
       "        <td>가족 1팀</td>              <!-- 비어있는 셀의 위치에 추가된다 -->\n",
       "    </tr><tr>\n",
       "        <th>천혜향방</th> <td>-</td> <td>2인실</td>            \n",
       "    </tr></tbody>\n",
       "</table>\n",
       "</div></body></html>"
      ],
      "text/plain": [
       "<IPython.core.display.HTML object>"
      ]
     },
     "metadata": {},
     "output_type": "display_data"
    }
   ],
   "source": [
    "%%html\n",
    "# Col Span : 컬럼방향으로 넓은공간 설정하기\n",
    "<style>\n",
    "mark{background:yellow; color:blue; font-weight:bold;}\n",
    "tfoot{background-color:#CCC; font-weight:bold; text-align:center;}\n",
    "thead{background-color:#CCC;}\n",
    "</style>\n",
    "</head><body>\n",
    "<table>\n",
    "    <caption>요안도라 객실</caption>\n",
    "    <thead><tr>\n",
    "        <th>방 이름</th> \n",
    "        <th>대상</th> \n",
    "        <th>크기</th> \n",
    "        <th>가격</th>\n",
    "    </tr></thead>\n",
    "    <tfoot><tr>\n",
    "        <td colspan=\"4\">바깥채 전체를 렌트합니다</td>\n",
    "    </tr></tfoot>          \n",
    "    <tbody><tr>\n",
    "        <th>유채방</th> <td>여성 도미토리</td> <td rowspan=\"3\">4인실</td>\n",
    "        <td rowspan=\"4\">1인 20,000원</td>\n",
    "    </tr><tr>\n",
    "        <th rowspan=\"2\">동백방</th> <td>동성 도미토리</td>            \n",
    "    </tr><tr>\n",
    "        <td>가족 1팀</td>              <!-- 비어있는 셀의 위치에 추가된다 -->\n",
    "    </tr><tr>\n",
    "        <th>천혜향방</th> <td>-</td> <td>2인실</td>            \n",
    "    </tr></tbody>\n",
    "</table>\n",
    "</div></body></html>"
   ]
  },
  {
   "cell_type": "markdown",
   "metadata": {},
   "source": [
    "<br></br>\n",
    "## <strong>5 하이퍼링크\n",
    "1. <strong>a</strong> : (default) 현재 페이지에서 Re-direct\n",
    "2. \\# : 앵커표시 (페이지 내부 bookmark)"
   ]
  },
  {
   "cell_type": "code",
   "execution_count": 16,
   "metadata": {},
   "outputs": [
    {
     "data": {
      "text/html": [
       "<body>\n",
       "    <!-- 1. 이미지와 링크 -->\n",
       "    <a href=\"kor.html\"><img src=\"http://icons.veryicon.com/128/System/Line/Korea.png\"></a>\t\t\n",
       "\n",
       "    <!-- 2. 텍스트와 링크 -->\n",
       "    <a href=\"kor.html\"><p>한글로 보기</p></a>\t\t\n",
       "</body>"
      ],
      "text/plain": [
       "<IPython.core.display.HTML object>"
      ]
     },
     "metadata": {},
     "output_type": "display_data"
    }
   ],
   "source": [
    "%%html\n",
    "<body>\n",
    "    <!-- 1. 이미지와 링크 -->\n",
    "    <a href=\"kor.html\"><img src=\"http://icons.veryicon.com/128/System/Line/Korea.png\"></a>\t\t\n",
    "\n",
    "    <!-- 2. 텍스트와 링크 -->\n",
    "    <a href=\"kor.html\"><p>한글로 보기</p></a>\t\t\n",
    "</body>"
   ]
  },
  {
   "cell_type": "code",
   "execution_count": 17,
   "metadata": {},
   "outputs": [
    {
     "data": {
      "text/html": [
       "<head>\n",
       "    <style>\n",
       "        a {text-decoration:none; color:black;} /* a 태그에 밑줄 추가 */\n",
       "        img {border:0;}                        /* img 태그 테두리 삭제 */    \n",
       "    </style>\n",
       "</head>\n",
       "<body>\n",
       "    <a href=\"kor.html\"><img src=\"http://icons.veryicon.com/128/System/Line/Korea.png\"></a>\t\t\n",
       "    <a href=\"kor.html\"><p>한글로 보기</p></a>\t\t\n",
       "</body>"
      ],
      "text/plain": [
       "<IPython.core.display.HTML object>"
      ]
     },
     "metadata": {},
     "output_type": "display_data"
    }
   ],
   "source": [
    "%%html\n",
    "<head>\n",
    "    <style>\n",
    "        a {text-decoration:none; color:black;} /* a 태그에 밑줄 추가 */\n",
    "        img {border:0;}                        /* img 태그 테두리 삭제 */    \n",
    "    </style>\n",
    "</head>\n",
    "<body>\n",
    "    <a href=\"kor.html\"><img src=\"http://icons.veryicon.com/128/System/Line/Korea.png\"></a>\t\t\n",
    "    <a href=\"kor.html\"><p>한글로 보기</p></a>\t\t\n",
    "</body>"
   ]
  },
  {
   "cell_type": "code",
   "execution_count": 18,
   "metadata": {},
   "outputs": [
    {
     "data": {
      "text/html": [
       "<body>\n",
       "    <!-- target = \"_blank\" : 새로운 페이지에서 링크열기 -->\n",
       "    <!-- title : 링크안내 Tooltip -->\n",
       "\n",
       "    <a href=\"#\" \n",
       "       target=\"_blank\"\n",
       "       title = \"외부 페이지로 연결\"> <!-- ToolTip 메세지 -->\n",
       "    <img src=\"http://icons.veryicon.com/128/System/Line/Korea.png\"></a>\t\t\n",
       "</body>"
      ],
      "text/plain": [
       "<IPython.core.display.HTML object>"
      ]
     },
     "metadata": {},
     "output_type": "display_data"
    }
   ],
   "source": [
    "%%html\n",
    "<body>\n",
    "    <!-- target = \"_blank\" : 새로운 페이지에서 링크열기 -->\n",
    "    <!-- title : 링크안내 Tooltip -->\n",
    "\n",
    "    <a href=\"#\" \n",
    "       target=\"_blank\"\n",
    "       title = \"외부 페이지로 연결\"> <!-- ToolTip 메세지 -->\n",
    "    <img src=\"http://icons.veryicon.com/128/System/Line/Korea.png\"></a>\t\t\n",
    "</body>"
   ]
  },
  {
   "cell_type": "code",
   "execution_count": 19,
   "metadata": {},
   "outputs": [
    {
     "data": {
      "text/html": [
       "<!-- '#'앵커 링크로 페이지 내부 바로가기 설정 -->\n",
       "<head><body>\n",
       "<div class=\"container\">\n",
       "    <a id=\"top\"></a>\n",
       "    <header> <h2>예약 방법 및 요금</h2> </header>\n",
       "    <nav>\n",
       "        <ul><li><a href=\"#usage\">이용 안내</a></li>\n",
       "            <li><a href=\"#reserve\">예약 방법</a></li>\n",
       "    </nav>\n",
       "\n",
       "    <section class=\"content\"> \n",
       "        <p class=\"link1\"><a href=\"#top\">[위로 가기]</a></p>\n",
       "        <a id=\"usage\"><h3>이용 안내</h3></a>\n",
       "            <p>입실은 오후 3시, 퇴실은 오전 11시입니다.<br>\n",
       "                이곳은 관광지가 아닌, 귤농사를 짓는 중산간 마을입니다.</p>\n",
       "\n",
       "        <p class=\"link1\"><a href=\"#top\">[위로 가기]</a></p>\n",
       "        <a id=\"reserve\"><h3>예약 방법</h3></a>\n",
       "        <p>요안도라 예약의 가장 빠른 방법은<br>\n",
       "        인터넷 전화라 시외전화 요금이 부과되지 않습니다.</p>\n",
       "    </section>    \n",
       "</div></body></html>"
      ],
      "text/plain": [
       "<IPython.core.display.HTML object>"
      ]
     },
     "metadata": {},
     "output_type": "display_data"
    }
   ],
   "source": [
    "%%html\n",
    "<!-- '#'앵커 링크로 페이지 내부 바로가기 설정 -->\n",
    "<head><body>\n",
    "<div class=\"container\">\n",
    "    <a id=\"top\"></a>\n",
    "    <header> <h2>예약 방법 및 요금</h2> </header>\n",
    "    <nav>\n",
    "        <ul><li><a href=\"#usage\">이용 안내</a></li>\n",
    "            <li><a href=\"#reserve\">예약 방법</a></li>\n",
    "    </nav>\n",
    "\n",
    "    <section class=\"content\"> \n",
    "        <p class=\"link1\"><a href=\"#top\">[위로 가기]</a></p>\n",
    "        <a id=\"usage\"><h3>이용 안내</h3></a>\n",
    "            <p>입실은 오후 3시, 퇴실은 오전 11시입니다.<br>\n",
    "                이곳은 관광지가 아닌, 귤농사를 짓는 중산간 마을입니다.</p>\n",
    "\n",
    "        <p class=\"link1\"><a href=\"#top\">[위로 가기]</a></p>\n",
    "        <a id=\"reserve\"><h3>예약 방법</h3></a>\n",
    "        <p>요안도라 예약의 가장 빠른 방법은<br>\n",
    "        인터넷 전화라 시외전화 요금이 부과되지 않습니다.</p>\n",
    "    </section>    \n",
    "</div></body></html>"
   ]
  },
  {
   "cell_type": "markdown",
   "metadata": {},
   "source": [
    "<br>\n",
    "## <strong>6 멀티미디어</strong> :  img - 이미지 태그\n",
    "### <strong>01 기본 Tags\n",
    "1. src: 이미지 경로\n",
    "2. figcatpion : 캡션의 설명추가 "
   ]
  },
  {
   "cell_type": "code",
   "execution_count": 20,
   "metadata": {},
   "outputs": [
    {
     "data": {
      "text/html": [
       "<head>\n",
       "<script src=\"html5shiv.js\"></scirpt>\n",
       "</head>\n",
       "<body>\n",
       "    <div class=\"banner\">\n",
       "    <img src=\"https://openclipart.org/image/2400px/svg_to_png/266410/1479225488.png\"\n",
       "          width=\"300\" height=\"83\" alt=\"요안도라\"></div>      \n",
       "        \n",
       "    <aside class=\"sidebar1\">\n",
       "        <h3>알립니다</h3>\n",
       "        <p>게스트하우스 인터넷 전화이므로 시외 전화 요금이 부과되지 않습니다. </p>\n",
       "    </aside>    \n",
       "    </div>\n",
       "</body></html>"
      ],
      "text/plain": [
       "<IPython.core.display.HTML object>"
      ]
     },
     "metadata": {},
     "output_type": "display_data"
    }
   ],
   "source": [
    "%%html\n",
    "<head>\n",
    "<script src=\"html5shiv.js\"></scirpt>\n",
    "</head>\n",
    "<body>\n",
    "    <div class=\"banner\">\n",
    "    <img src=\"https://openclipart.org/image/2400px/svg_to_png/266410/1479225488.png\"\n",
    "          width=\"300\" height=\"83\" alt=\"요안도라\"></div>      \n",
    "        \n",
    "    <aside class=\"sidebar1\">\n",
    "        <h3>알립니다</h3>\n",
    "        <p>게스트하우스 인터넷 전화이므로 시외 전화 요금이 부과되지 않습니다. </p>\n",
    "    </aside>    \n",
    "    </div>\n",
    "</body></html>"
   ]
  },
  {
   "cell_type": "code",
   "execution_count": 21,
   "metadata": {},
   "outputs": [
    {
     "data": {
      "text/html": [
       "<html>\n",
       "<body>\n",
       "<img src=\"https://www.chicoowa.com/library/11906-20170509203458-1.jpg\"\n",
       " alt=\"\" usemap=\"#favorites\">\n",
       "    <map name=\"favorites\">   <!-- favorites : 이미지맵 -->\n",
       "                <!-- 0,0   128,116 : 이미지중 트위터 영역 -->\n",
       "        <area shape=\"rect\" coords=\"0,0,128,116\" \n",
       "         href=\"https://twitter.com/moonriver365?lang=ko\" \n",
       "         title=\"트위터로 연결하기\" target=\"_blank\">\n",
       "        \n",
       "                <!-- 129,0   250,116 : 이미지중 페이스북 영역 -->\n",
       "        <area shape=\"rect\" coords=\"129,0,250,116\" \n",
       "         href=\"https://www.facebook.com/TheBlueHouseKR/\" \n",
       "         title=\"페이스북으로 연결하기\" \n",
       "         target=\"_blank\">\n",
       "    </map>\n",
       "</body></html>"
      ],
      "text/plain": [
       "<IPython.core.display.HTML object>"
      ]
     },
     "metadata": {},
     "output_type": "display_data"
    }
   ],
   "source": [
    "%%html\n",
    "<html>\n",
    "<body>\n",
    "<img src=\"https://www.chicoowa.com/library/11906-20170509203458-1.jpg\"\n",
    " alt=\"\" usemap=\"#favorites\">\n",
    "    <map name=\"favorites\">   <!-- favorites : 이미지맵 -->\n",
    "                <!-- 0,0   128,116 : 이미지중 트위터 영역 -->\n",
    "        <area shape=\"rect\" coords=\"0,0,128,116\" \n",
    "         href=\"https://twitter.com/moonriver365?lang=ko\" \n",
    "         title=\"트위터로 연결하기\" target=\"_blank\">\n",
    "        \n",
    "                <!-- 129,0   250,116 : 이미지중 페이스북 영역 -->\n",
    "        <area shape=\"rect\" coords=\"129,0,250,116\" \n",
    "         href=\"https://www.facebook.com/TheBlueHouseKR/\" \n",
    "         title=\"페이스북으로 연결하기\" \n",
    "         target=\"_blank\">\n",
    "    </map>\n",
    "</body></html>"
   ]
  },
  {
   "cell_type": "code",
   "execution_count": 22,
   "metadata": {},
   "outputs": [
    {
     "data": {
      "text/html": [
       "<body>\n",
       "<div class=\"container\">\n",
       "    <figure>   <!-- figure 이미지 2개 나열 : 여기선 떨어져서 출력 -->\n",
       "        <img src=\"https://enabledspace.files.wordpress.com/2013/01/empty-room-stock5509.jpg\"\n",
       "             alt=\"동백방 4인실\" width=\"100\" height=\"68\" title=\"one-room\">\n",
       "        <img src=\"http://cdn.home-designing.com/wp-content/uploads/2012/01/Space-theme-room.jpg\"\n",
       "             alt=\"유채방 4인실\" width=\"100\" height=\"68\" title=\"colorful-room\">\n",
       "    </figure>\n",
       "\n",
       "    <figure>   <!-- figure 이미지 1개  -->\n",
       "        <img src=\"http://cdn.home-designing.com/wp-content/uploads/2009/10/bright-and-cheerful-room.jpg\"\n",
       "             alt=\"천혜향 2인실\" width=\"100\" height=\"68\" title = \"warm-room\">\n",
       "    </figure>\n",
       "</div>\n",
       "</body></html>"
      ],
      "text/plain": [
       "<IPython.core.display.HTML object>"
      ]
     },
     "metadata": {},
     "output_type": "display_data"
    }
   ],
   "source": [
    "%%html\n",
    "<body>\n",
    "<div class=\"container\">\n",
    "    <figure>   <!-- figure 이미지 2개 나열 : 여기선 떨어져서 출력 -->\n",
    "        <img src=\"https://enabledspace.files.wordpress.com/2013/01/empty-room-stock5509.jpg\"\n",
    "             alt=\"동백방 4인실\" width=\"100\" height=\"68\" title=\"one-room\">\n",
    "        <img src=\"http://cdn.home-designing.com/wp-content/uploads/2012/01/Space-theme-room.jpg\"\n",
    "             alt=\"유채방 4인실\" width=\"100\" height=\"68\" title=\"colorful-room\">\n",
    "    </figure>\n",
    "\n",
    "    <figure>   <!-- figure 이미지 1개  -->\n",
    "        <img src=\"http://cdn.home-designing.com/wp-content/uploads/2009/10/bright-and-cheerful-room.jpg\"\n",
    "             alt=\"천혜향 2인실\" width=\"100\" height=\"68\" title = \"warm-room\">\n",
    "    </figure>\n",
    "</div>\n",
    "</body></html>"
   ]
  },
  {
   "cell_type": "code",
   "execution_count": 23,
   "metadata": {},
   "outputs": [
    {
     "data": {
      "text/html": [
       "<body>\n",
       "<div class=\"container\">\n",
       "    <header><hgroup>\n",
       "        <h1>Joandora</h1>\n",
       "        <h2>가장 제주다운 수산리집</h2>\n",
       "    </hgroup></header>  \n",
       "\n",
       "    <section class=\"content\">\n",
       "        <h2>객실 소개</h2>    \n",
       "        <article>\n",
       "            <h3>¤ 요안도라는 게스트 하우스(Guest House) 형식의 농어촌 민박입니다</h3>\n",
       "        <figure>\n",
       "            <img src=\"https://enabledspace.files.wordpress.com/2013/01/empty-room-stock5509.jpg\"\n",
       "                 alt=\"동백방 4인실\" width=\"100\" height=\"68\">\n",
       "            <img src=\"http://cdn.home-designing.com/wp-content/uploads/2012/01/Space-theme-room.jpg\"\n",
       "                 alt=\"유채방 4인실\" width=\"100\" height=\"68\">\n",
       "            <figcaption> 동백방과 유채방은 4인실로 동성 4인 또는 가족 1팀이 함께 묵을 수 있습니다. 1인 20,000원</figcaption>\n",
       "        </figure>\n",
       "\n",
       "        <figure>\n",
       "            <img src=\"http://cdn.home-designing.com/wp-content/uploads/2009/10/bright-and-cheerful-room.jpg\" \n",
       "                 alt=\"천혜향 2인실\" width=\"100\" height=\"68\">\n",
       "            <figcaption>  천혜향방은 2인실입니다. 1인 20,000원</figcaption>\n",
       "        </figure>\n",
       "        </article>        \n",
       "    </section> \n",
       "</div></body></html>"
      ],
      "text/plain": [
       "<IPython.core.display.HTML object>"
      ]
     },
     "metadata": {},
     "output_type": "display_data"
    }
   ],
   "source": [
    "%%html\n",
    "<body>\n",
    "<div class=\"container\">\n",
    "    <header><hgroup>\n",
    "        <h1>Joandora</h1>\n",
    "        <h2>가장 제주다운 수산리집</h2>\n",
    "    </hgroup></header>  \n",
    "\n",
    "    <section class=\"content\">\n",
    "        <h2>객실 소개</h2>    \n",
    "        <article>\n",
    "            <h3>¤ 요안도라는 게스트 하우스(Guest House) 형식의 농어촌 민박입니다</h3>\n",
    "        <figure>\n",
    "            <img src=\"https://enabledspace.files.wordpress.com/2013/01/empty-room-stock5509.jpg\"\n",
    "                 alt=\"동백방 4인실\" width=\"100\" height=\"68\">\n",
    "            <img src=\"http://cdn.home-designing.com/wp-content/uploads/2012/01/Space-theme-room.jpg\"\n",
    "                 alt=\"유채방 4인실\" width=\"100\" height=\"68\">\n",
    "            <figcaption> 동백방과 유채방은 4인실로 동성 4인 또는 가족 1팀이 함께 묵을 수 있습니다. 1인 20,000원</figcaption>\n",
    "        </figure>\n",
    "\n",
    "        <figure>\n",
    "            <img src=\"http://cdn.home-designing.com/wp-content/uploads/2009/10/bright-and-cheerful-room.jpg\" \n",
    "                 alt=\"천혜향 2인실\" width=\"100\" height=\"68\">\n",
    "            <figcaption>  천혜향방은 2인실입니다. 1인 20,000원</figcaption>\n",
    "        </figure>\n",
    "        </article>        \n",
    "    </section> \n",
    "</div></body></html>"
   ]
  },
  {
   "cell_type": "markdown",
   "metadata": {
    "collapsed": true
   },
   "source": [
    "### <strong>02 멀티미디어 재생하기\n",
    "<h4><strong>embed/ video : </strong> 기본 tag</h4>\n",
    "1. src, width, height : 기본속성\n",
    "2. controls : 컨트롤 막태 활성화\n",
    "3. preload : 재생전 미디어를 모두 다운받을지를 확인 (none, metadata, auto)\n",
    "2. HTML4 : object, param 태그를 사용 - 모바일 링크가 삽입 불가능한 단점이 존재"
   ]
  },
  {
   "cell_type": "code",
   "execution_count": 24,
   "metadata": {},
   "outputs": [
    {
     "data": {
      "text/html": [
       "<audio controls>\n",
       "    <source src=\"http://66.90.93.122/ost/ms.-pac-man-maze-madness-ost/ksygxidpau/Bonus.mp3\" preload=\"auto\">\n",
       "</audio>"
      ],
      "text/plain": [
       "<IPython.core.display.HTML object>"
      ]
     },
     "metadata": {},
     "output_type": "display_data"
    }
   ],
   "source": [
    "%%html\n",
    "<audio controls>\n",
    "    <source src=\"http://66.90.93.122/ost/ms.-pac-man-maze-madness-ost/ksygxidpau/Bonus.mp3\" preload=\"auto\">\n",
    "</audio>"
   ]
  },
  {
   "cell_type": "code",
   "execution_count": 25,
   "metadata": {
    "scrolled": true
   },
   "outputs": [
    {
     "data": {
      "text/html": [
       "<embed src=\"http://img-ak.y8.com/cloud/y8-storage/contents/1680/original/pc_breakdown.swf\">"
      ],
      "text/plain": [
       "<IPython.core.display.HTML object>"
      ]
     },
     "metadata": {},
     "output_type": "display_data"
    }
   ],
   "source": [
    "%%html\n",
    "<embed src=\"http://img-ak.y8.com/cloud/y8-storage/contents/1680/original/pc_breakdown.swf\">"
   ]
  },
  {
   "cell_type": "code",
   "execution_count": 26,
   "metadata": {},
   "outputs": [
    {
     "data": {
      "text/html": [
       "<body>\n",
       "<div class=\"container\">\n",
       "    <section class=\"content\">\n",
       "        <article>\n",
       "        <h3>Toy Story sample video</h3>\n",
       "            <video src=\"http://www.html5videoplayer.net/videos/toystory.mp4\" \n",
       "            width=\"250\" height=\"200\" controls >\t  </video>\n",
       "                <p>MP4 H.264 Video Test</p>\n",
       "        <div class=\"banner\">\n",
       "            <img src=\"http://everetttheatre.com/wp-content/uploads/2016/03/toy-story-banner.jpg\"\n",
       "             width=\"272\" height=\"47\" alt=\"ToyStory\">\n",
       "        </div>      \n",
       "        </article>\n",
       "    </section> \n",
       "</div></body></html>"
      ],
      "text/plain": [
       "<IPython.core.display.HTML object>"
      ]
     },
     "metadata": {},
     "output_type": "display_data"
    }
   ],
   "source": [
    "%%html\n",
    "<body>\n",
    "<div class=\"container\">\n",
    "    <section class=\"content\">\n",
    "        <article>\n",
    "        <h3>Toy Story sample video</h3>\n",
    "            <video src=\"http://www.html5videoplayer.net/videos/toystory.mp4\" \n",
    "            width=\"250\" height=\"200\" controls >\t  </video>\n",
    "                <p>MP4 H.264 Video Test</p>\n",
    "        <div class=\"banner\">\n",
    "            <img src=\"http://everetttheatre.com/wp-content/uploads/2016/03/toy-story-banner.jpg\"\n",
    "             width=\"272\" height=\"47\" alt=\"ToyStory\">\n",
    "        </div>      \n",
    "        </article>\n",
    "    </section> \n",
    "</div></body></html>"
   ]
  },
  {
   "cell_type": "markdown",
   "metadata": {
    "collapsed": true
   },
   "source": [
    "### <strong>03 Source 여러개 미디어를 한꺼번에 지정하기\n",
    "<h4><strong>Source </strong>tag</h4> :  속성만 옵션, url 링크 주소는 별도설정 "
   ]
  },
  {
   "cell_type": "code",
   "execution_count": 27,
   "metadata": {},
   "outputs": [
    {
     "data": {
      "text/html": [
       "<audio width=\"250\" height=\"150\" controls>\n",
       "    <source src=\"http://66.90.93.122/ost/ms.-pac-man-maze-madness-ost/ksygxidpau/Bonus.mp3\" type=\"audio/mp3\">\n",
       "</audio>\n",
       "<br><br>\n",
       "<video width = \"270\" controls>\n",
       "    <source src=\"http://www.html5videoplayer.net/videos/toystory.mp4\" type=\"video/mp4\">\n",
       "</video>"
      ],
      "text/plain": [
       "<IPython.core.display.HTML object>"
      ]
     },
     "metadata": {},
     "output_type": "display_data"
    }
   ],
   "source": [
    "%%html\n",
    "<audio width=\"250\" height=\"150\" controls>\n",
    "    <source src=\"http://66.90.93.122/ost/ms.-pac-man-maze-madness-ost/ksygxidpau/Bonus.mp3\" type=\"audio/mp3\">\n",
    "</audio>\n",
    "<br><br>\n",
    "<video width = \"270\" controls>\n",
    "    <source src=\"http://www.html5videoplayer.net/videos/toystory.mp4\" type=\"video/mp4\">\n",
    "</video>"
   ]
  },
  {
   "cell_type": "markdown",
   "metadata": {},
   "source": [
    "<br>\n",
    "## <strong>7 폼 만들기</strong>\n",
    "### <strong>01 form\n",
    "<strong>form</strong> : 폼을 생성\n",
    "\n",
    "<strong>fieldset</strong> : 폼들을 영역으로 묶고, 외곽선을 표시\n",
    "\n",
    "<strong>label (id =,input type ='radio'/'checkbox')</strong> : 캡션, 이동값 설정에 용이,  다양한 포맷적용\n",
    "1. <strong>radio</strong> : 1개만 선택가능\n",
    "2. <strong>checkbox</strong> : 다중 선택가능\n",
    "\n",
    "https://developer.mozilla.org/en-US/docs/Web/HTML/Element/input/image"
   ]
  },
  {
   "cell_type": "code",
   "execution_count": 28,
   "metadata": {},
   "outputs": [
    {
     "data": {
      "text/html": [
       "<form action=\"register.php\" method=\"post\">\n",
       "    <ul>\n",
       "        <li> 이름 &nbsp&nbsp : <input type=\"text\" id=\"user_name\"> </li>\n",
       "        <li> 메일주소 : <input type=\"text\" id=\"user_mail\"> </li>\n",
       "        <li> <input type=\"submit\" value=\"가입하기\"> </li>\n",
       "    </ul>\n",
       "</form>"
      ],
      "text/plain": [
       "<IPython.core.display.HTML object>"
      ]
     },
     "metadata": {},
     "output_type": "display_data"
    }
   ],
   "source": [
    "%%html\n",
    "<form action=\"register.php\" method=\"post\">\n",
    "    <ul>\n",
    "        <li> 이름 &nbsp&nbsp : <input type=\"text\" id=\"user_name\"> </li>\n",
    "        <li> 메일주소 : <input type=\"text\" id=\"user_mail\"> </li>\n",
    "        <li> <input type=\"submit\" value=\"가입하기\"> </li>\n",
    "    </ul>\n",
    "</form>"
   ]
  },
  {
   "cell_type": "code",
   "execution_count": 29,
   "metadata": {},
   "outputs": [
    {
     "data": {
      "text/html": [
       "<form>    \n",
       "    <fieldset>\n",
       "    <legend> 로그인 정보 </legend>\n",
       "        <ul>\n",
       "            <li>아이디 &nbsp: <input type=\"text\" id=\"user_id\"></li>\n",
       "            <li>비밀번호 : <input type=\"password\" id=\"pw\"></li>\n",
       "        </ul>\n",
       "    </fieldset> <fieldset>\n",
       "\n",
       "    <legend>가입자 정보</legend>\n",
       "        <ul>\n",
       "            <li>이름 &nbsp : <input type=\"text\" id=\"user_name\"></li>\n",
       "            <li>메일주소 : <input type=\"text\" id=\"user_mail\"></li>\n",
       "            <li>생년월일 : <input type=\"text\" id=\"birth\"></li>\n",
       "        </ul>  \n",
       "    </fieldset> <fieldset>\n",
       "        <input type=\"submit\" value=\"가입하기\"></input>  \n",
       "    </fieldset>\n",
       "</form>"
      ],
      "text/plain": [
       "<IPython.core.display.HTML object>"
      ]
     },
     "metadata": {},
     "output_type": "display_data"
    }
   ],
   "source": [
    "%%html\n",
    "<form>    \n",
    "    <fieldset>\n",
    "    <legend> 로그인 정보 </legend>\n",
    "        <ul>\n",
    "            <li>아이디 &nbsp: <input type=\"text\" id=\"user_id\"></li>\n",
    "            <li>비밀번호 : <input type=\"password\" id=\"pw\"></li>\n",
    "        </ul>\n",
    "    </fieldset> <fieldset>\n",
    "\n",
    "    <legend>가입자 정보</legend>\n",
    "        <ul>\n",
    "            <li>이름 &nbsp : <input type=\"text\" id=\"user_name\"></li>\n",
    "            <li>메일주소 : <input type=\"text\" id=\"user_mail\"></li>\n",
    "            <li>생년월일 : <input type=\"text\" id=\"birth\"></li>\n",
    "        </ul>  \n",
    "    </fieldset> <fieldset>\n",
    "        <input type=\"submit\" value=\"가입하기\"></input>  \n",
    "    </fieldset>\n",
    "</form>"
   ]
  },
  {
   "cell_type": "code",
   "execution_count": 30,
   "metadata": {},
   "outputs": [
    {
     "data": {
      "text/html": [
       "<form>\n",
       "    <fieldset>\n",
       "    <legend>로그인 정보</legend> \n",
       "    <ul>\n",
       "        <li>\n",
       "            <label>아이디(6자 이상)<input type=\"text\" id=\"id\"></label>\n",
       "        </li><li>\n",
       "            <label>비밀번호<input type=\"password\" id=\"pw1\"></label>\n",
       "        </li></ul>\n",
       "    </fieldset> <fieldset>\n",
       "    <legend>개인 정보</legend>\n",
       "    <ul>\n",
       "        <li><label>이메일 주소 <input type=\"email\" id=\"email\"></label></li>\n",
       "    </ul>\n",
       "    </fieldset>\n",
       "</form>"
      ],
      "text/plain": [
       "<IPython.core.display.HTML object>"
      ]
     },
     "metadata": {},
     "output_type": "display_data"
    }
   ],
   "source": [
    "%%html\n",
    "<form>\n",
    "    <fieldset>\n",
    "    <legend>로그인 정보</legend> \n",
    "    <ul>\n",
    "        <li>\n",
    "            <label>아이디(6자 이상)<input type=\"text\" id=\"id\"></label>\n",
    "        </li><li>\n",
    "            <label>비밀번호<input type=\"password\" id=\"pw1\"></label>\n",
    "        </li></ul>\n",
    "    </fieldset> <fieldset>\n",
    "    <legend>개인 정보</legend>\n",
    "    <ul>\n",
    "        <li><label>이메일 주소 <input type=\"email\" id=\"email\"></label></li>\n",
    "    </ul>\n",
    "    </fieldset>\n",
    "</form>"
   ]
  },
  {
   "cell_type": "code",
   "execution_count": 31,
   "metadata": {},
   "outputs": [
    {
     "data": {
      "text/html": [
       "<form>\n",
       "    <fieldset>\n",
       "    <legend>로그인 정보</legend> \n",
       "        <ul>\n",
       "            <li><label for=\"id\">아이디(6자 이상)</label>\n",
       "                <input type=\"text\" id=\"id\"></li>\n",
       "            <li><label for=\"pw1\">비밀번호</label>\n",
       "                <input type=\"password\" id=\"pw1\"></li>\n",
       "        </ul>\n",
       "    </fieldset><fieldset>\n",
       "    <legend>개인 정보</legend>\n",
       "        <ul>\n",
       "            <li><label for=\"email\">이메일 주소</label>\n",
       "                <input type=\"email\" id=\"email\"></li>\n",
       "            <li><label for=\"pw2\">비밀번호(확인)</label>\n",
       "                <input type=\"password\" id=\"pw2\">    </li>  \n",
       "        </ul>\n",
       "    </fieldset>\n",
       "</form>"
      ],
      "text/plain": [
       "<IPython.core.display.HTML object>"
      ]
     },
     "metadata": {},
     "output_type": "display_data"
    }
   ],
   "source": [
    "%%html\n",
    "<form>\n",
    "    <fieldset>\n",
    "    <legend>로그인 정보</legend> \n",
    "        <ul>\n",
    "            <li><label for=\"id\">아이디(6자 이상)</label>\n",
    "                <input type=\"text\" id=\"id\"></li>\n",
    "            <li><label for=\"pw1\">비밀번호</label>\n",
    "                <input type=\"password\" id=\"pw1\"></li>\n",
    "        </ul>\n",
    "    </fieldset><fieldset>\n",
    "    <legend>개인 정보</legend>\n",
    "        <ul>\n",
    "            <li><label for=\"email\">이메일 주소</label>\n",
    "                <input type=\"email\" id=\"email\"></li>\n",
    "            <li><label for=\"pw2\">비밀번호(확인)</label>\n",
    "                <input type=\"password\" id=\"pw2\">    </li>  \n",
    "        </ul>\n",
    "    </fieldset>\n",
    "</form>"
   ]
  },
  {
   "cell_type": "code",
   "execution_count": 32,
   "metadata": {},
   "outputs": [
    {
     "data": {
      "text/html": [
       "<form><fieldset id=\"register\">\n",
       "<legend>수강 과목을 선택하세요 <small>(1과목 선택 가능)</small></legend>\n",
       "    <ul>  \n",
       "        <li>\n",
       "            <label><input type=\"radio\" name=\"spk\" value=\"low\" checked>영어 회화(초급)</label>\n",
       "        </li><li>\n",
       "            <label><input type=\"radio\" name=\"spk\" value=\"high\">영어 회화(고급)</label>\n",
       "        </li>        \n",
       "    </ul>\n",
       "</fieldset></form>"
      ],
      "text/plain": [
       "<IPython.core.display.HTML object>"
      ]
     },
     "metadata": {},
     "output_type": "display_data"
    }
   ],
   "source": [
    "%%html\n",
    "<form><fieldset id=\"register\">\n",
    "<legend>수강 과목을 선택하세요 <small>(1과목 선택 가능)</small></legend>\n",
    "    <ul>  \n",
    "        <li>\n",
    "            <label><input type=\"radio\" name=\"spk\" value=\"low\" checked>영어 회화(초급)</label>\n",
    "        </li><li>\n",
    "            <label><input type=\"radio\" name=\"spk\" value=\"high\">영어 회화(고급)</label>\n",
    "        </li>        \n",
    "    </ul>\n",
    "</fieldset></form>"
   ]
  },
  {
   "cell_type": "code",
   "execution_count": 33,
   "metadata": {},
   "outputs": [
    {
     "data": {
      "text/html": [
       "<form><fieldset id=\"register\">\n",
       "<legend>관심분야를 선택하세요 <small>(다수 선택 가능)</small></legend>\n",
       "    <ul>  \n",
       "        <li>\n",
       "            <label><input type=\"checkbox\" name=\"pre\" value=\"grammer\" checked>문법</label>\n",
       "        </li><li>\n",
       "            <label><input type=\"checkbox\" name=\"pre\" value=\"voca\">어휘</label>\n",
       "        </li>        \n",
       "    </ul>\n",
       "</fieldset></form>"
      ],
      "text/plain": [
       "<IPython.core.display.HTML object>"
      ]
     },
     "metadata": {},
     "output_type": "display_data"
    }
   ],
   "source": [
    "%%html\n",
    "<form><fieldset id=\"register\">\n",
    "<legend>관심분야를 선택하세요 <small>(다수 선택 가능)</small></legend>\n",
    "    <ul>  \n",
    "        <li>\n",
    "            <label><input type=\"checkbox\" name=\"pre\" value=\"grammer\" checked>문법</label>\n",
    "        </li><li>\n",
    "            <label><input type=\"checkbox\" name=\"pre\" value=\"voca\">어휘</label>\n",
    "        </li>        \n",
    "    </ul>\n",
    "</fieldset></form>"
   ]
  },
  {
   "cell_type": "markdown",
   "metadata": {
    "collapsed": true
   },
   "source": [
    "### <strong>02 input tag\n",
    "<strong>form</strong> : 폼을 생성\n",
    "1. <strong>hidden</strong> : 보이진 않지만, Sever 로 값을 전달한다\n",
    "1. <strong>number, text, tel, url ,email, password, color\n",
    "1. radio, checkbox, button, submit</strong>(전송버튼 ,image :submit 버튼에 사용할 이미지), <strong>reset"
   ]
  },
  {
   "cell_type": "code",
   "execution_count": 34,
   "metadata": {
    "scrolled": true
   },
   "outputs": [
    {
     "data": {
      "text/html": [
       "<form>\n",
       "<h2>사용자 정보</h2>\n",
       "    <ul>\n",
       "        <li><label>이름 &nbsp : <input type=\"text\"><label></li>\n",
       "        <li><label>메일주소 : <input type=\"email\"></label></li>\n",
       "        <li>소식지 수신 <br>\n",
       "            <label><input type=\"radio\" value=\"yes\" name=\"letter\">수신</label>\n",
       "            <label><input type=\"radio\" value=\"no\" name=\"letter\">수신 안함</label></li>\n",
       "        <li><input type=\"submit\" value=\"가입하기\"></li>\n",
       "    </ul>\n",
       "</form>"
      ],
      "text/plain": [
       "<IPython.core.display.HTML object>"
      ]
     },
     "metadata": {},
     "output_type": "display_data"
    }
   ],
   "source": [
    "%%html\n",
    "<form>\n",
    "<h2>사용자 정보</h2>\n",
    "    <ul>\n",
    "        <li><label>이름 &nbsp : <input type=\"text\"><label></li>\n",
    "        <li><label>메일주소 : <input type=\"email\"></label></li>\n",
    "        <li>소식지 수신 <br>\n",
    "            <label><input type=\"radio\" value=\"yes\" name=\"letter\">수신</label>\n",
    "            <label><input type=\"radio\" value=\"no\" name=\"letter\">수신 안함</label></li>\n",
    "        <li><input type=\"submit\" value=\"가입하기\"></li>\n",
    "    </ul>\n",
    "</form>"
   ]
  },
  {
   "cell_type": "markdown",
   "metadata": {
    "collapsed": true
   },
   "source": [
    "#### <strong>Text 필드의 경우\n",
    "1. <strong>name</strong> : 구분가능한 이름\n",
    "1. <strong>size</strong> : 텍스트 필드의 길이\n",
    "1. <strong>value</strong> : input 박스 화면에 표시할 이름\n",
    "1. <strong>maxlength</strong> : 텍스트 필드에 입력가능한 최대 문자갯수"
   ]
  },
  {
   "cell_type": "code",
   "execution_count": 35,
   "metadata": {},
   "outputs": [
    {
     "data": {
      "text/html": [
       "<label> 이름을 입력하세요 <input type=\"text\" size=\"19\" value=\"input your name\"></label>"
      ],
      "text/plain": [
       "<IPython.core.display.HTML object>"
      ]
     },
     "metadata": {},
     "output_type": "display_data"
    }
   ],
   "source": [
    "%%html\n",
    "<label> 이름을 입력하세요 <input type=\"text\" size=\"19\" value=\"input your name\"></label>"
   ]
  },
  {
   "cell_type": "markdown",
   "metadata": {
    "collapsed": true
   },
   "source": [
    "#### <strong>Password 필드의 경우\n",
    "1. id : 구분가능한 이름\n",
    "1. size : 텍스트 필드의 길이"
   ]
  },
  {
   "cell_type": "code",
   "execution_count": 36,
   "metadata": {},
   "outputs": [
    {
     "data": {
      "text/html": [
       "<form>\n",
       "<fieldset class=\"login\">\n",
       "    <label>아이디 : <input type=\"text\" id=\"user_id\" size=\"10\">\n",
       "        </label><br>  <!-- 아이디 입력 -->\n",
       "    <label>비밀번호: <input type=\"password\" id=\"user_pw\" size=\"10\">\n",
       "        </label><br>  <!-- 비밀번호 입력 -->\n",
       "    <input type=\"submit\" value=\"로그인\">\n",
       "</fieldset>"
      ],
      "text/plain": [
       "<IPython.core.display.HTML object>"
      ]
     },
     "metadata": {},
     "output_type": "display_data"
    }
   ],
   "source": [
    "%%html\n",
    "<form>\n",
    "<fieldset class=\"login\">\n",
    "    <label>아이디 : <input type=\"text\" id=\"user_id\" size=\"10\">\n",
    "        </label><br>  <!-- 아이디 입력 -->\n",
    "    <label>비밀번호: <input type=\"password\" id=\"user_pw\" size=\"10\">\n",
    "        </label><br>  <!-- 비밀번호 입력 -->\n",
    "    <input type=\"submit\" value=\"로그인\">\n",
    "</fieldset>"
   ]
  },
  {
   "cell_type": "markdown",
   "metadata": {
    "collapsed": true
   },
   "source": [
    "#### <strong>Search 등 기타 입력필드의 경우\n",
    "1. id : 구분가능한 이름\n",
    "1. size : 텍스트 필드의 길이"
   ]
  },
  {
   "cell_type": "code",
   "execution_count": 37,
   "metadata": {},
   "outputs": [
    {
     "data": {
      "text/html": [
       "<label>Search : <input type=\"search\" value=\"검색\"></label><br>\n",
       "<label>전화번호 : <input type=\"tel\" value=\"tel\"></label><br>\n",
       "<label>이-메일 : <input type=\"email\" id=\"user_mail\" size=\"20\" value=\"@mail.com\" required>"
      ],
      "text/plain": [
       "<IPython.core.display.HTML object>"
      ]
     },
     "metadata": {},
     "output_type": "display_data"
    }
   ],
   "source": [
    "%%html\n",
    "<label>Search : <input type=\"search\" value=\"검색\"></label><br>\n",
    "<label>전화번호 : <input type=\"tel\" value=\"tel\"></label><br>\n",
    "<label>이-메일 : <input type=\"email\" id=\"user_mail\" size=\"20\" value=\"@mail.com\" required>"
   ]
  },
  {
   "cell_type": "markdown",
   "metadata": {
    "collapsed": true
   },
   "source": [
    "#### <strong> 숫자 입력포맷들 \n",
    "1. type : email, tel\n",
    "1. id : 구분가능한 이름\n",
    "1. size : 텍스트 필드의 길이"
   ]
  },
  {
   "cell_type": "code",
   "execution_count": 38,
   "metadata": {},
   "outputs": [
    {
     "data": {
      "text/html": [
       "<label>익은 정도(3단계) : <input type=\"number\" min=\"1\" max=\"5\" step=\"1\" value=\"3\"> </label><br>\n",
       "<label>익은 정도(3단계) : <input type=\"range\" min=\"1\" max=\"5\" value=\"3\"> </label>"
      ],
      "text/plain": [
       "<IPython.core.display.HTML object>"
      ]
     },
     "metadata": {},
     "output_type": "display_data"
    }
   ],
   "source": [
    "%%html\n",
    "<label>익은 정도(3단계) : <input type=\"number\" min=\"1\" max=\"5\" step=\"1\" value=\"3\"> </label><br>\n",
    "<label>익은 정도(3단계) : <input type=\"range\" min=\"1\" max=\"5\" value=\"3\"> </label>"
   ]
  },
  {
   "cell_type": "markdown",
   "metadata": {
    "collapsed": true
   },
   "source": [
    "#### <strong> 날짜와 시간 표시하기\n",
    "1. Chrome 에선 잘 나오는데\n",
    "1. Firefox 에선 날짜 형태로 입력해야 한다"
   ]
  },
  {
   "cell_type": "code",
   "execution_count": 39,
   "metadata": {},
   "outputs": [
    {
     "data": {
      "text/html": [
       "<label><input type=\"date\" id=\"start\"></label><br>\n",
       "<label><input type=\"date\" id=\"stop\"></label><br>\n",
       "<label><input type=\"datetime-local\" id=\"stop\"></label><br>\n",
       "<label><input type=\"week\" id=\"stop\"></label><br>"
      ],
      "text/plain": [
       "<IPython.core.display.HTML object>"
      ]
     },
     "metadata": {},
     "output_type": "display_data"
    }
   ],
   "source": [
    "%%html\n",
    "<label><input type=\"date\" id=\"start\"></label><br>\n",
    "<label><input type=\"date\" id=\"stop\"></label><br>\n",
    "<label><input type=\"datetime-local\" id=\"stop\"></label><br>\n",
    "<label><input type=\"week\" id=\"stop\"></label><br>"
   ]
  },
  {
   "cell_type": "markdown",
   "metadata": {
    "collapsed": true
   },
   "source": [
    "#### <strong> 입력포맷들 \n",
    "radio, checkbox (checked:초기 활성화)"
   ]
  },
  {
   "cell_type": "code",
   "execution_count": 40,
   "metadata": {},
   "outputs": [
    {
     "data": {
      "text/html": [
       "다음의 내용에 동의 하시는지요?<br>  <!-- 양자 택일만 가능 -->\n",
       "<label><input type=\"radio\" value=\"yes\" name=\"agreement\">동의 함</label>\n",
       "<label><input type=\"radio\" value=\"no\" name=\"agreement\">동의 안함</label>"
      ],
      "text/plain": [
       "<IPython.core.display.HTML object>"
      ]
     },
     "metadata": {},
     "output_type": "display_data"
    }
   ],
   "source": [
    "%%html\n",
    "다음의 내용에 동의 하시는지요?<br>  <!-- 양자 택일만 가능 -->\n",
    "<label><input type=\"radio\" value=\"yes\" name=\"agreement\">동의 함</label>\n",
    "<label><input type=\"radio\" value=\"no\" name=\"agreement\">동의 안함</label>"
   ]
  },
  {
   "cell_type": "code",
   "execution_count": 41,
   "metadata": {},
   "outputs": [
    {
     "data": {
      "text/html": [
       "관심있는 종목 선택<br>  <!-- 다중선택 가능 -->\n",
       "<label>가상환경<input type=\"checkbox\" value=\"vr\" name=\"agreement\" checked></label>\n",
       "<label>머신러닝<input type=\"checkbox\" value=\"ml\" name=\"agreement\"></label>\n",
       "<label>인공지능<input type=\"checkbox\" value=\"ai\" name=\"agreement\"></label>"
      ],
      "text/plain": [
       "<IPython.core.display.HTML object>"
      ]
     },
     "metadata": {},
     "output_type": "display_data"
    }
   ],
   "source": [
    "%%html\n",
    "관심있는 종목 선택<br>  <!-- 다중선택 가능 -->\n",
    "<label>가상환경<input type=\"checkbox\" value=\"vr\" name=\"agreement\" checked></label>\n",
    "<label>머신러닝<input type=\"checkbox\" value=\"ml\" name=\"agreement\"></label>\n",
    "<label>인공지능<input type=\"checkbox\" value=\"ai\" name=\"agreement\"></label>"
   ]
  },
  {
   "cell_type": "code",
   "execution_count": 42,
   "metadata": {},
   "outputs": [
    {
     "data": {
      "text/html": [
       "<label> 첨부파일 선택 : <input type=\"file\"></label><br>\n",
       "<label> 서버전송 버튼 : <input type=\"submit\" value=\"전송\"></label>"
      ],
      "text/plain": [
       "<IPython.core.display.HTML object>"
      ]
     },
     "metadata": {},
     "output_type": "display_data"
    }
   ],
   "source": [
    "%%html\n",
    "<label> 첨부파일 선택 : <input type=\"file\"></label><br>\n",
    "<label> 서버전송 버튼 : <input type=\"submit\" value=\"전송\"></label>"
   ]
  },
  {
   "cell_type": "code",
   "execution_count": 43,
   "metadata": {},
   "outputs": [
    {
     "data": {
      "text/html": [
       "<form>\n",
       "    <fieldset id=\"register\">\n",
       "      <ul><li>신청 과목<small>(자격)</small><br>\n",
       "          <label> <input type=\"radio\" name=\"cert\" value=\"toeic\">TOEIC </label>\n",
       "          <label> <input type=\"radio\" name=\"cert\" value=\"toefl\">TOEFL </label>\n",
       "      </li></ul>\n",
       "    </fieldset><fieldset>\n",
       "      <ul><li>\n",
       "          <label> <input type=\"checkbox\" name=\"pre\"  value=\"grammar\">문법 </label>\n",
       "          <label> <input type=\"checkbox\" name=\"pre\"  value=\"voca\">어휘 </label>\n",
       "      </li></ul>\n",
       "    </fieldset><fieldset id=\"sending\">\n",
       "    \t<label><input type=\"submit\" value=\"등록하기\"></label>\n",
       "        <label><input type=\"reset\" value=\"다시쓰기\"></label>  <!-- Form 전체를 Reset 한다 -->\n",
       "    </fieldset>\n",
       "    </form></body></html>"
      ],
      "text/plain": [
       "<IPython.core.display.HTML object>"
      ]
     },
     "metadata": {},
     "output_type": "display_data"
    }
   ],
   "source": [
    "%%html\n",
    "<form>\n",
    "    <fieldset id=\"register\">\n",
    "      <ul><li>신청 과목<small>(자격)</small><br>\n",
    "          <label> <input type=\"radio\" name=\"cert\" value=\"toeic\">TOEIC </label>\n",
    "          <label> <input type=\"radio\" name=\"cert\" value=\"toefl\">TOEFL </label>\n",
    "      </li></ul>\n",
    "    </fieldset><fieldset>\n",
    "      <ul><li>\n",
    "          <label> <input type=\"checkbox\" name=\"pre\"  value=\"grammar\">문법 </label>\n",
    "          <label> <input type=\"checkbox\" name=\"pre\"  value=\"voca\">어휘 </label>\n",
    "      </li></ul>\n",
    "    </fieldset><fieldset id=\"sending\">\n",
    "    \t<label><input type=\"submit\" value=\"등록하기\"></label>\n",
    "        <label><input type=\"reset\" value=\"다시쓰기\"></label>  <!-- Form 전체를 Reset 한다 -->\n",
    "    </fieldset>\n",
    "    </form></body></html>"
   ]
  },
  {
   "cell_type": "code",
   "execution_count": 44,
   "metadata": {},
   "outputs": [
    {
     "data": {
      "text/html": [
       "<input type=\"image\" id=\"butt\" \n",
       " src=\"http://www.inmotionrealestate.com/wp-content/uploads/2015/03/private-login.png\">"
      ],
      "text/plain": [
       "<IPython.core.display.HTML object>"
      ]
     },
     "metadata": {},
     "output_type": "display_data"
    }
   ],
   "source": [
    "%%html\n",
    "<input type=\"image\" id=\"butt\" \n",
    " src=\"http://www.inmotionrealestate.com/wp-content/uploads/2015/03/private-login.png\">"
   ]
  },
  {
   "cell_type": "markdown",
   "metadata": {
    "collapsed": true
   },
   "source": [
    "#### <strong> 여러 데이터를 나열해서 보여주기\n",
    "1. textarea"
   ]
  },
  {
   "cell_type": "code",
   "execution_count": 45,
   "metadata": {},
   "outputs": [
    {
     "data": {
      "text/html": [
       "<form><fieldset>\n",
       "<legend>수강 신청인</legend>\n",
       "<ul><li>\n",
       "    <span class=\"reg\">관심분야</span>\n",
       "         <label>   <input type=\"text\" id=\"interest\" list=\"engChoices\"></label>\n",
       "            <datalist id=\"engChoices\">\n",
       "                <option value=\"grammar\" label=\"문법\"></option>\n",
       "                <option value=\"voca\" label=\"어휘\"></option>\n",
       "                <option value=\"speaking\" label=\"회화\"></option>\n",
       "                <option value=\"listening\" label=\"리스닝\"></option>\n",
       "                <option value=\"news\" label=\"뉴스청취\"></option>\n",
       "            </datalist>                         \n",
       "        </li>\n",
       "    </ul>\n",
       "</fieldset></form>\n",
       "<label>가입인사 <textarea cols='20' rows='1'></textarea></label>"
      ],
      "text/plain": [
       "<IPython.core.display.HTML object>"
      ]
     },
     "metadata": {},
     "output_type": "display_data"
    }
   ],
   "source": [
    "%%html\n",
    "<form><fieldset>\n",
    "<legend>수강 신청인</legend>\n",
    "<ul><li>\n",
    "    <span class=\"reg\">관심분야</span>\n",
    "         <label>   <input type=\"text\" id=\"interest\" list=\"engChoices\"></label>\n",
    "            <datalist id=\"engChoices\">\n",
    "                <option value=\"grammar\" label=\"문법\"></option>\n",
    "                <option value=\"voca\" label=\"어휘\"></option>\n",
    "                <option value=\"speaking\" label=\"회화\"></option>\n",
    "                <option value=\"listening\" label=\"리스닝\"></option>\n",
    "                <option value=\"news\" label=\"뉴스청취\"></option>\n",
    "            </datalist>                         \n",
    "        </li>\n",
    "    </ul>\n",
    "</fieldset></form>\n",
    "<label>가입인사 <textarea cols='20' rows='1'></textarea></label>"
   ]
  },
  {
   "cell_type": "code",
   "execution_count": 46,
   "metadata": {},
   "outputs": [
    {
     "data": {
      "text/html": [
       "<body><form>\n",
       "    <fieldset class=\"easys\">\n",
       "    <legend>이지스퍼블리싱</legend>\n",
       "        <textarea name=\"intro\" cols=\"60\" rows=\"2\">\n",
       "        열심히 사는 사람들의 손을 잡아주는 곳 - 이지스 퍼블리싱\n",
       "        우리는 책을 내기 전에 다시 한번 물어봅니다\n",
       "        \"이 책이 사람들에게 도움이 되는가?\"\n",
       "        </textarea>\n",
       "    </fieldset>\n",
       "<fieldset class=\"sendform\">\n",
       "    <input type=\"submit\" value=\"가입하기\"> \n",
       "    <input type=\"reset\" value=\"다시쓰기\">\n",
       "</fieldset></form></body>"
      ],
      "text/plain": [
       "<IPython.core.display.HTML object>"
      ]
     },
     "metadata": {},
     "output_type": "display_data"
    }
   ],
   "source": [
    "%%html\n",
    "<body><form>\n",
    "    <fieldset class=\"easys\">\n",
    "    <legend>이지스퍼블리싱</legend>\n",
    "        <textarea name=\"intro\" cols=\"60\" rows=\"2\">\n",
    "        열심히 사는 사람들의 손을 잡아주는 곳 - 이지스 퍼블리싱\n",
    "        우리는 책을 내기 전에 다시 한번 물어봅니다\n",
    "        \"이 책이 사람들에게 도움이 되는가?\"\n",
    "        </textarea>\n",
    "    </fieldset>\n",
    "<fieldset class=\"sendform\">\n",
    "    <input type=\"submit\" value=\"가입하기\"> \n",
    "    <input type=\"reset\" value=\"다시쓰기\">\n",
    "</fieldset></form></body>"
   ]
  },
  {
   "cell_type": "markdown",
   "metadata": {
    "collapsed": true
   },
   "source": [
    "### <strong>03 input tag 의 다양한 속성들\n",
    "1. readonly : 읽기전용 (사용자 수정불가)\n",
    "2. placeholder : 힌트표시하기\n",
    "3. autofocus : 입력커서 표시\n",
    "4. autocomplete : 자동완성 (과거 사용자가 입력한 내용을 출력) -캐쉬내용 활용"
   ]
  },
  {
   "cell_type": "code",
   "execution_count": 47,
   "metadata": {},
   "outputs": [
    {
     "data": {
      "text/html": [
       "<form><fieldset id=\"register\">\n",
       "    <legend> 신청자</legend>\n",
       "    <ul><li>\n",
       "        <label class=\"reg\" for=\"uname\">이름</label>\n",
       "        <input type=\"text\" id=\"uname\">\n",
       "    </li><li>\n",
       "        <label class=\"reg\" for=\"uid\">학번</label>\n",
       "        <input type=\"text\" id=\"uid\">\n",
       "    </li><li>\n",
       "        <label class=\"reg\" for=\"uclass\">학과</label>\n",
       "        <select id=\"uclass\">\n",
       "            <option value=\"archi\">건축공학과</option>\n",
       "            <option value=\"mechanic\">기계공학과</option>\n",
       "            <option value=\"indust\">산업공학과</option>\n",
       "        </select>\n",
       "    </li></ul>\n",
       "</fieldset></form>"
      ],
      "text/plain": [
       "<IPython.core.display.HTML object>"
      ]
     },
     "metadata": {},
     "output_type": "display_data"
    }
   ],
   "source": [
    "%%html\n",
    "<form><fieldset id=\"register\">\n",
    "    <legend> 신청자</legend>\n",
    "    <ul><li>\n",
    "        <label class=\"reg\" for=\"uname\">이름</label>\n",
    "        <input type=\"text\" id=\"uname\">\n",
    "    </li><li>\n",
    "        <label class=\"reg\" for=\"uid\">학번</label>\n",
    "        <input type=\"text\" id=\"uid\">\n",
    "    </li><li>\n",
    "        <label class=\"reg\" for=\"uclass\">학과</label>\n",
    "        <select id=\"uclass\">\n",
    "            <option value=\"archi\">건축공학과</option>\n",
    "            <option value=\"mechanic\">기계공학과</option>\n",
    "            <option value=\"indust\">산업공학과</option>\n",
    "        </select>\n",
    "    </li></ul>\n",
    "</fieldset></form>"
   ]
  },
  {
   "cell_type": "markdown",
   "metadata": {},
   "source": [
    "<br>\n",
    "## <strong>8 기타 다양한 폼 요소들\n",
    "1. input : HTML5 의 기본버튼을 사용\n",
    "2. button : 조금 더 다양한 모양의 button을 사용가능 (CSS를 활용하면 다양한 형태도 가능하다)\n",
    "\n",
    "#### <strong>Input\n",
    "입력박스 : Post 전송"
   ]
  },
  {
   "cell_type": "code",
   "execution_count": 48,
   "metadata": {},
   "outputs": [
    {
     "data": {
      "text/html": [
       "<form>\n",
       "\t<input type=\"submit\" value=\"전송하기\">\n",
       "</form>"
      ],
      "text/plain": [
       "<IPython.core.display.HTML object>"
      ]
     },
     "metadata": {},
     "output_type": "display_data"
    }
   ],
   "source": [
    "%%html\n",
    "<form>\n",
    "\t<input type=\"submit\" value=\"전송하기\">\n",
    "</form>"
   ]
  },
  {
   "cell_type": "code",
   "execution_count": 49,
   "metadata": {},
   "outputs": [
    {
     "data": {
      "text/html": [
       "<form>\n",
       "\t<button type=\"submit\" class=\"subm\">\n",
       "\t\t<img src=\"http://www.inmotionrealestate.com/wp-content/uploads/2015/03/private-login.png\" alt=\"\"> \n",
       "        전송하기(send)\n",
       "\t</button>\n",
       "</form>"
      ],
      "text/plain": [
       "<IPython.core.display.HTML object>"
      ]
     },
     "metadata": {},
     "output_type": "display_data"
    }
   ],
   "source": [
    "%%html\n",
    "<form>\n",
    "\t<button type=\"submit\" class=\"subm\">\n",
    "\t\t<img src=\"http://www.inmotionrealestate.com/wp-content/uploads/2015/03/private-login.png\" alt=\"\"> \n",
    "        전송하기(send)\n",
    "\t</button>\n",
    "</form>"
   ]
  },
  {
   "cell_type": "markdown",
   "metadata": {},
   "source": [
    "#### <strong>Output\n",
    "입력결과를 연산 및 출력"
   ]
  },
  {
   "cell_type": "code",
   "execution_count": 50,
   "metadata": {},
   "outputs": [
    {
     "data": {
      "text/html": [
       "<body>\n",
       "                      <!-- JavaScript 에서 아래를 자동으로 계산하여 결과를 출력 \n",
       "    parseInt(num1.value) : parseInt() - integer 를 파싱한다 : num1의 .value값을 대상\n",
       "    parseInt(num2.value) : parseInt() - integer 를 파싱한다 : num2의 .value값을 대상\n",
       "    result.value : result 에게 .value 메서드로 결과값을 전송한다 -->\n",
       "\n",
       "<form oninput=\"result.value = parseInt(num1.value) + parseInt(num2.value)\">\n",
       "\n",
       "    <input type=\"number\" name=\"num1\" value=\"10\">\n",
       "    + <input type=\"number\" name=\"num2\" value=\"10\">\n",
       "    = <output name=\"result\" for=\"num\"></output>\n",
       "</form></body>"
      ],
      "text/plain": [
       "<IPython.core.display.HTML object>"
      ]
     },
     "metadata": {},
     "output_type": "display_data"
    }
   ],
   "source": [
    "%%html\n",
    "<body>\n",
    "                      <!-- JavaScript 에서 아래를 자동으로 계산하여 결과를 출력 \n",
    "    parseInt(num1.value) : parseInt() - integer 를 파싱한다 : num1의 .value값을 대상\n",
    "    parseInt(num2.value) : parseInt() - integer 를 파싱한다 : num2의 .value값을 대상\n",
    "    result.value : result 에게 .value 메서드로 결과값을 전송한다 -->\n",
    "\n",
    "<form oninput=\"result.value = parseInt(num1.value) + parseInt(num2.value)\">\n",
    "\n",
    "    <input type=\"number\" name=\"num1\" value=\"10\">\n",
    "    + <input type=\"number\" name=\"num2\" value=\"10\">\n",
    "    = <output name=\"result\" for=\"num\"></output>\n",
    "</form></body>"
   ]
  },
  {
   "cell_type": "markdown",
   "metadata": {},
   "source": [
    "#### <strong>Progress 태그 : </strong> 진행상태를 출력한다\n",
    "1. value : 현재 진행결과를, 부동소숫점으로 입력\n",
    "2. max : 최대값 100%인 값을 부동소숫점으로 입력"
   ]
  },
  {
   "cell_type": "code",
   "execution_count": 51,
   "metadata": {},
   "outputs": [
    {
     "data": {
      "text/html": [
       "<!-- 자바스크립트로 숫자를 바꿔가며 결과값을 변화시킨다 \n",
       "progress : 상태의 변화를 표시하는데 사용한다 -->\n",
       "    \n",
       "<progress value=\"35\" max=\"100\"></progress> 35%"
      ],
      "text/plain": [
       "<IPython.core.display.HTML object>"
      ]
     },
     "metadata": {},
     "output_type": "display_data"
    }
   ],
   "source": [
    "%%html\n",
    "<!-- 자바스크립트로 숫자를 바꿔가며 결과값을 변화시킨다 \n",
    "progress : 상태의 변화를 표시하는데 사용한다 -->\n",
    "    \n",
    "<progress value=\"35\" max=\"100\"></progress> 35%"
   ]
  },
  {
   "cell_type": "markdown",
   "metadata": {},
   "source": [
    "#### <strong>Meter 태그 : </strong> 상태 결과값을 출력\n",
    "1. value : 현재 진행결과를, 부동소숫점으로 입력\n",
    "2. min, max : 범위의 최대/ 최솟값\n",
    "3. high : 이정도면 높다는 마지노선 값을 입력\n",
    "4. low : 이정도면 낮다는 마지노선 값을 입력"
   ]
  },
  {
   "cell_type": "code",
   "execution_count": 52,
   "metadata": {},
   "outputs": [
    {
     "data": {
      "text/html": [
       "<meter value = \"35\" max=\"100\"></meter> 35%"
      ],
      "text/plain": [
       "<IPython.core.display.HTML object>"
      ]
     },
     "metadata": {},
     "output_type": "display_data"
    }
   ],
   "source": [
    "%%html\n",
    "<meter value = \"35\" max=\"100\"></meter> 35%"
   ]
  },
  {
   "cell_type": "code",
   "execution_count": 53,
   "metadata": {},
   "outputs": [
    {
     "data": {
      "text/html": [
       "<body>\n",
       "    <ul><li>\n",
       "        <label>점유율 0.8 </label>\n",
       "        <meter value=\"0.8\"></meter>\n",
       "    </li><li>\n",
       "        <label>사용량 64%</label>\n",
       "        <meter min=\"0\" max=\"100\" low=\"20\" value=\"14\"></meter>\n",
       "    </li><li>\n",
       "        <label>트래픽 초과</label>\n",
       "        <meter min=\"1024\" max=\"10240\" low=\"2048\" high=\"8192\" value=\"9216\"></meter>        \n",
       "    </li><li>\n",
       "        <label>적절한 트래픽</label>\n",
       "        <meter value=\"0.5\" optimum=\"0.8\"></meter>\n",
       "    </li></ul>\n",
       "</body></html>"
      ],
      "text/plain": [
       "<IPython.core.display.HTML object>"
      ]
     },
     "metadata": {},
     "output_type": "display_data"
    }
   ],
   "source": [
    "%%html\n",
    "<body>\n",
    "    <ul><li>\n",
    "        <label>점유율 0.8 </label>\n",
    "        <meter value=\"0.8\"></meter>\n",
    "    </li><li>\n",
    "        <label>사용량 64%</label>\n",
    "        <meter min=\"0\" max=\"100\" low=\"20\" value=\"14\"></meter>\n",
    "    </li><li>\n",
    "        <label>트래픽 초과</label>\n",
    "        <meter min=\"1024\" max=\"10240\" low=\"2048\" high=\"8192\" value=\"9216\"></meter>        \n",
    "    </li><li>\n",
    "        <label>적절한 트래픽</label>\n",
    "        <meter value=\"0.5\" optimum=\"0.8\"></meter>\n",
    "    </li></ul>\n",
    "</body></html>"
   ]
  }
 ],
 "metadata": {
  "kernelspec": {
   "display_name": "Python 3",
   "language": "python",
   "name": "python3"
  },
  "language_info": {
   "codemirror_mode": {
    "name": "ipython",
    "version": 3
   },
   "file_extension": ".py",
   "mimetype": "text/x-python",
   "name": "python",
   "nbconvert_exporter": "python",
   "pygments_lexer": "ipython3",
   "version": "3.6.3"
  }
 },
 "nbformat": 4,
 "nbformat_minor": 2
}
