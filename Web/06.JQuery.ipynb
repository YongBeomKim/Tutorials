{
 "cells": [
  {
   "cell_type": "markdown",
   "metadata": {},
   "source": [
    "# <strong>jQuery\n",
    "<br>\n",
    "## <strong>1. jQuery 기본\n",
    "<strong>DOM</strong>에 <strong>Query</strong>를 날려서 필요한 노드에 어떤 작업을 수행하는 모듈\n",
    "\n",
    "1. \\$(&nbsp; document &nbsp;).<strong>ready</strong>(&nbsp; function &nbsp; (&nbsp;&nbsp;) { &nbsp;&nbsp;&nbsp;&nbsp; });\n",
    "1. \\$(&nbsp; function &nbsp;(&nbsp;&nbsp;){ &nbsp;&nbsp;&nbsp;&nbsp; });\n",
    "\n",
    "<img src=\"https://d2dybsqaihwlah.cloudfront.net/wp-content/uploads/2017/05/10152018/OQAAAI1PPrJY0nBALB7mkvju3mkQXqLmzMhxEjeb4gp8aujEUQcLfLyy-Sn4gZdkAas6-k8eYbQlGDE-GCjKfF5gIrUA15jOjFfLRv77VBd5t-WfZURdP9V3PdmT.png\" width=\"400\" align='left'/>"
   ]
  },
  {
   "cell_type": "code",
   "execution_count": 1,
   "metadata": {},
   "outputs": [
    {
     "data": {
      "text/html": [
       "<head>\n",
       "<title> jQuery 모듈의 기본적인 형식 </title>\n",
       "<script src=\"http://code.jquery.com/jquery-3.2.1.js\"></script>\n",
       "<script>\n",
       "    function process(){ alert(\"버튼 1 호출\"); } // JavaScript 함수\n",
       "    \n",
       "    $(document).ready(function(){  \n",
       "        $(\"#btn2\").click(function(){          // jQuery 함수 : $(객체).이벤트(함수(){ });        \n",
       "            alert(\"버튼 2 호출\")\n",
       "        });\n",
       "        \n",
       "        $(\"#btn3\").on('click', function(){\n",
       "            alert(\"버튼 3 호출\")                // jQuery 함수 : $(객체).on(이벤트,함수(){ });\n",
       "        });\n",
       "    })\n",
       "</script>\n",
       "</head>\n",
       "<body>\n",
       "<input type=\"button\" id=\"btn1\"  value=\"버튼1\" onclick=\"process()\">\n",
       "<input type=\"button\" id=\"btn2\"  value=\"버튼2\" >\n",
       "<input type=\"button\" id=\"btn3\"  value=\"버튼3\" >\n",
       "</body>"
      ],
      "text/plain": [
       "<IPython.core.display.HTML object>"
      ]
     },
     "metadata": {},
     "output_type": "display_data"
    }
   ],
   "source": [
    "%%html\n",
    "<head>\n",
    "<title> jQuery 모듈의 기본적인 형식 </title>\n",
    "<script src=\"http://code.jquery.com/jquery-3.2.1.js\"></script>\n",
    "<script>\n",
    "    function process(){ alert(\"버튼 1 호출\"); } // JavaScript 함수\n",
    "    \n",
    "    $(document).ready(function(){  \n",
    "        $(\"#btn2\").click(function(){          // jQuery 함수 : $(객체).이벤트(함수(){ });        \n",
    "            alert(\"버튼 2 호출\")\n",
    "        });\n",
    "        \n",
    "        $(\"#btn3\").on('click', function(){\n",
    "            alert(\"버튼 3 호출\")                // jQuery 함수 : $(객체).on(이벤트,함수(){ });\n",
    "        });\n",
    "    })\n",
    "</script>\n",
    "</head>\n",
    "<body>\n",
    "<input type=\"button\" id=\"btn1\"  value=\"버튼1\" onclick=\"process()\">\n",
    "<input type=\"button\" id=\"btn2\"  value=\"버튼2\" >\n",
    "<input type=\"button\" id=\"btn3\"  value=\"버튼3\" >\n",
    "</body>"
   ]
  },
  {
   "cell_type": "markdown",
   "metadata": {},
   "source": [
    "<br>\n",
    "## <strong>2. jQuery 에 관련한 Event 1\n",
    "1. <strong>.bind</strong>(&nbsp;&nbsp;) :이벤트가 발생하면 실행될 함수를 지정\n",
    "1. <strong>.click</strong>(&nbsp;&nbsp;) :마우스를 클릭할 때\n",
    "1. <strong>.slideUp()/.slideDown()</strong> :왼쪽상단모서리를 기준으로 해서 오른쪽하단 모서리로 나타나고 사라진다 \n",
    "1. <strong>.fadeIn()</strong> :투명도를 조절해서 보여준다 (속도: slow, fast)\n",
    "1. <strong>.fadeOut()</strong> :투명도를 조절해서 사라진다 (속도: slow, fast)\n",
    "1. <strong>.slideToggle()</strong> :블라인드 형태의 up, down을 번갈아 실행한다\n",
    "1. <strong>.toggle()</strong> :오므리고 펼치는 up, down을 번갈아 실행한다."
   ]
  },
  {
   "cell_type": "code",
   "execution_count": 2,
   "metadata": {},
   "outputs": [
    {
     "data": {
      "text/html": [
       "<head>\n",
       "<title> jQuery 와 CSS 의 적용 </title>\n",
       "<script src=\"http://code.jquery.com/jquery-3.2.1.js\"></script>\n",
       "<style>\n",
       "    .backColor{                    // CSS Style 적용\n",
       "        background-color: orange;\n",
       "        color: gray;\n",
       "        font-family: Comic Sans MS;\n",
       "        }\n",
       "</style>\n",
       "<script>\n",
       "    $().ready(function(){\n",
       "        $(\".btn\").addClass('backColor');   // Web request와 함께 함수 실행\n",
       "        $(\"#hellobtn\").click(function(){   // button click 이벤트시 함수 실행\n",
       "            $(this).hide();\n",
       "                alert(\"Jquery 연습중\");\n",
       "            $(this).show();\n",
       "        });\n",
       "    });\n",
       "</script>\n",
       "</head>\n",
       "<body>\n",
       "<h1 class=\"btn\"> Hello jQuery </h1>\n",
       "<button id=\"hellobtn\">헬로우 제이쿼리</button>\n",
       "</body>"
      ],
      "text/plain": [
       "<IPython.core.display.HTML object>"
      ]
     },
     "metadata": {},
     "output_type": "display_data"
    }
   ],
   "source": [
    "%%html\n",
    "<head>\n",
    "<title> jQuery 와 CSS 의 적용 </title>\n",
    "<script src=\"http://code.jquery.com/jquery-3.2.1.js\"></script>\n",
    "<style>\n",
    "    .backColor{                    // CSS Style 적용\n",
    "        background-color: orange;\n",
    "        color: gray;\n",
    "        font-family: Comic Sans MS;\n",
    "        }\n",
    "</style>\n",
    "<script>\n",
    "    $().ready(function(){\n",
    "        $(\".btn\").addClass('backColor');   // Web request와 함께 함수 실행\n",
    "        $(\"#hellobtn\").click(function(){   // button click 이벤트시 함수 실행\n",
    "            $(this).hide();\n",
    "                alert(\"Jquery 연습중\");\n",
    "            $(this).show();\n",
    "        });\n",
    "    });\n",
    "</script>\n",
    "</head>\n",
    "<body>\n",
    "<h1 class=\"btn\"> Hello jQuery </h1>\n",
    "<button id=\"hellobtn\">헬로우 제이쿼리</button>\n",
    "</body>"
   ]
  },
  {
   "cell_type": "code",
   "execution_count": 3,
   "metadata": {},
   "outputs": [
    {
     "data": {
      "text/html": [
       "<head>\n",
       "<title> Document </title>\n",
       "<script src=\"http://code.jquery.com/jquery-3.2.1.js\"></script>\n",
       "<script>\n",
       "$(document).ready(function(){\n",
       "    $('#hide').click(function(){\n",
       "        $('p_show').hide();\n",
       "    });\n",
       "    $('#show').click(function(){\n",
       "        $('p_show').show();\n",
       "    });\n",
       "});\n",
       "</script>\n",
       "</head>\n",
       "<body>\n",
       "\t<p_show>If you click on the \"Hide\" button, I will disappear.</p_show><br>\n",
       "<button id=\"hide\">Hide</button>\n",
       "<button id=\"show\">Show</button>\n",
       "</body>"
      ],
      "text/plain": [
       "<IPython.core.display.HTML object>"
      ]
     },
     "metadata": {},
     "output_type": "display_data"
    }
   ],
   "source": [
    "%%html\n",
    "<head>\n",
    "<title> Document </title>\n",
    "<script src=\"http://code.jquery.com/jquery-3.2.1.js\"></script>\n",
    "<script>\n",
    "$(document).ready(function(){\n",
    "    $('#hide').click(function(){\n",
    "        $('p_show').hide();\n",
    "    });\n",
    "    $('#show').click(function(){\n",
    "        $('p_show').show();\n",
    "    });\n",
    "});\n",
    "</script>\n",
    "</head>\n",
    "<body>\n",
    "\t<p_show>If you click on the \"Hide\" button, I will disappear.</p_show><br>\n",
    "<button id=\"hide\">Hide</button>\n",
    "<button id=\"show\">Show</button>\n",
    "</body>"
   ]
  },
  {
   "cell_type": "code",
   "execution_count": 4,
   "metadata": {},
   "outputs": [
    {
     "data": {
      "text/html": [
       "<head>\n",
       "<title> 이미지 슬라이드 효과 </title>\n",
       "<script src=\"http://code.jquery.com/jquery-3.2.1.js\"></script>\n",
       "<script>\n",
       "    $().ready(function(){  //slideup(speed) : speed:\"slow\",\"fast\" or milliseconds(1/1000초의 의미)\n",
       "        $('#btn1').click(function(){ $('#animal > img').slideUp(500);      });\n",
       "        $('#btn2').click(function(){ $('#animal > img').slideDown(1000);   });\n",
       "        $('#btn3').click(function(){ $('#animal > img').fadeIn(1000);      });\n",
       "        $('#btn4').click(function(){ $('#animal > img').fadeOut(1000);     });\n",
       "        $('#btn5').click(function(){ $('#animal > img').slideToggle(1000); });\n",
       "        $('#btn6').click(function(){ $('#animal > img').toggle(1000);      });\n",
       "\t});\n",
       "</script>\n",
       "</head>\n",
       "<body>\n",
       "    <button id=\"btn1\">slideUp</button>\n",
       "    <button id=\"btn2\">slideDown</button>&nbsp;&nbsp;&nbsp;\n",
       "    <button id=\"btn3\">fadeIn</button>\n",
       "    <button id=\"btn4\">fadeOut</button>&nbsp;&nbsp;&nbsp;\n",
       "    <button id=\"btn5\">slide toggle</button>\n",
       "    <button id=\"btn6\">toggle</button>\n",
       "    <div id = \"animal\">\n",
       "    <p>이미지</p>\n",
       "    <img src=\"https://scontent.cdninstagram.com/t51.2885-15/e35/20687164_1668989653112420_6475152004652990464_n.jpg\"\n",
       "     width=\"300px\"  height=\"300px\"> </div>\n",
       "</body>\n",
       "</html>"
      ],
      "text/plain": [
       "<IPython.core.display.HTML object>"
      ]
     },
     "metadata": {},
     "output_type": "display_data"
    }
   ],
   "source": [
    "%%html\n",
    "<head>\n",
    "<title> 이미지 슬라이드 효과 </title>\n",
    "<script src=\"http://code.jquery.com/jquery-3.2.1.js\"></script>\n",
    "<script>\n",
    "    $().ready(function(){  //slideup(speed) : speed:\"slow\",\"fast\" or milliseconds(1/1000초의 의미)\n",
    "        $('#btn1').click(function(){ $('#animal > img').slideUp(500);      });\n",
    "        $('#btn2').click(function(){ $('#animal > img').slideDown(1000);   });\n",
    "        $('#btn3').click(function(){ $('#animal > img').fadeIn(1000);      });\n",
    "        $('#btn4').click(function(){ $('#animal > img').fadeOut(1000);     });\n",
    "        $('#btn5').click(function(){ $('#animal > img').slideToggle(1000); });\n",
    "        $('#btn6').click(function(){ $('#animal > img').toggle(1000);      });\n",
    "\t});\n",
    "</script>\n",
    "</head>\n",
    "<body>\n",
    "    <button id=\"btn1\">slideUp</button>\n",
    "    <button id=\"btn2\">slideDown</button>&nbsp;&nbsp;&nbsp;\n",
    "    <button id=\"btn3\">fadeIn</button>\n",
    "    <button id=\"btn4\">fadeOut</button>&nbsp;&nbsp;&nbsp;\n",
    "    <button id=\"btn5\">slide toggle</button>\n",
    "    <button id=\"btn6\">toggle</button>\n",
    "    <div id = \"animal\">\n",
    "    <p>이미지</p>\n",
    "    <img src=\"https://scontent.cdninstagram.com/t51.2885-15/e35/20687164_1668989653112420_6475152004652990464_n.jpg\"\n",
    "     width=\"300px\"  height=\"300px\"> </div>\n",
    "</body>\n",
    "</html>"
   ]
  },
  {
   "cell_type": "code",
   "execution_count": 5,
   "metadata": {},
   "outputs": [
    {
     "data": {
      "text/html": [
       "<title> 자바스크립트(innerText / innerHTML) 뷰어 구현 </title>\n",
       "<script>\n",
       "function process1(){\n",
       "    var ob=document.getElementById(\"txt\").value;\n",
       "    document.getElementById(\"view1\").innerText=ob;\n",
       "}\n",
       "function process2(){\n",
       "    var ob=document.getElementById(\"txt\").value;\n",
       "    document.getElementById(\"view1\").innerHTML=ob;\n",
       "}\n",
       "</script>\n",
       "</head>\n",
       "\n",
       "<body>\n",
       "<input type=\"text\" id=\"txt\" size=\"50\" name=\"text\">\n",
       "<input type=\"button\" value=\"출력1\" onclick=\"process1()\">\n",
       "<input type=\"button\" value=\"출력2\" onclick=\"process2()\">\n",
       "<br><br><br>\n",
       "<div id=\"view1\"></div>\n",
       "</body>"
      ],
      "text/plain": [
       "<IPython.core.display.HTML object>"
      ]
     },
     "metadata": {},
     "output_type": "display_data"
    }
   ],
   "source": [
    "%%html\n",
    "<title> 자바스크립트(innerText / innerHTML) 뷰어 </title>\n",
    "<script>\n",
    "function process1(){\n",
    "    var ob=document.getElementById(\"txt\").value;\n",
    "    document.getElementById(\"view1\").innerText=ob;\n",
    "}\n",
    "function process2(){\n",
    "    var ob=document.getElementById(\"txt\").value;\n",
    "    document.getElementById(\"view1\").innerHTML=ob;\n",
    "}\n",
    "</script>\n",
    "</head>\n",
    "<body>\n",
    "<input type=\"text\" id=\"txt\" size=\"50\" name=\"text\">\n",
    "<input type=\"button\" value=\"출력1\" onclick=\"process1()\">\n",
    "<input type=\"button\" value=\"출력2\" onclick=\"process2()\">\n",
    "<br><br><br>\n",
    "<div id=\"view1\"></div>\n",
    "</body>"
   ]
  },
  {
   "cell_type": "code",
   "execution_count": 6,
   "metadata": {},
   "outputs": [
    {
     "data": {
      "text/html": [
       "<head>\n",
       "<title> jQuery 로 구현한 (text / html) 소스 </title>\n",
       "<script src=\"http://code.jquery.com/jquery-3.2.1.js\"></script>\n",
       "<script>\n",
       "    $().ready(function(){\n",
       "        $('#btn1').click(function(){\n",
       "            var obj = $('#txt').val();         // .val()\n",
       "                      $('#view2').text(obj);   // .text(객체)\n",
       "        });\n",
       "        $('#btn2').click(function(){\n",
       "            var obj = $('#txt').val();         // .val()\n",
       "                      $('#view2').html(obj);   // .html(객체)\n",
       "        });\n",
       "    });\n",
       "</script>\n",
       "</head>\n",
       "<body>\n",
       "<input type=\"text\" id=\"txt\" size=\"50\" name=\"text\">\n",
       "<input type=\"button\" value=\"출력1\" id=\"btn1\">\n",
       "<input type=\"button\" value=\"출력2\" id=\"btn2\">\n",
       "<br><br><br>\n",
       "<div id=\"view2\"></div>\n",
       "</body>"
      ],
      "text/plain": [
       "<IPython.core.display.HTML object>"
      ]
     },
     "metadata": {},
     "output_type": "display_data"
    }
   ],
   "source": [
    "%%html\n",
    "<head>\n",
    "<title> jQuery 로 구현한 (text / html) 뷰어 </title>\n",
    "<script src=\"http://code.jquery.com/jquery-3.2.1.js\"></script>\n",
    "<script>\n",
    "    $().ready(function(){\n",
    "        $('#btn1').click(function(){\n",
    "            var obj = $('#txt').val();         // .val()\n",
    "                      $('#view2').text(obj);   // .text(객체)\n",
    "        });\n",
    "        $('#btn2').click(function(){\n",
    "            var obj = $('#txt').val();         // .val()\n",
    "                      $('#view2').html(obj);   // .html(객체)\n",
    "        });\n",
    "    });\n",
    "</script>\n",
    "</head>\n",
    "<body>\n",
    "<input type=\"text\" id=\"txt\" size=\"50\" name=\"text\">\n",
    "<input type=\"button\" value=\"출력1\" id=\"btn1\">\n",
    "<input type=\"button\" value=\"출력2\" id=\"btn2\">\n",
    "<br><br><br>\n",
    "<div id=\"view2\"></div>\n",
    "</body>"
   ]
  },
  {
   "cell_type": "markdown",
   "metadata": {},
   "source": [
    "<br>\n",
    "## <strong>3. jQuery 에 관련한 Event 2\n",
    "1. <strong>.click()</strong> : 객체를 click시 실행함수\n",
    "1. <strong>.focus()</strong> : 객체 포커스를 받았을 때 실행함수\n",
    "1. <strong>.blur() </strong> : 객체 포커스를 잃었을 때 실행함수\n",
    "1. <strong>.addClass()</strong> : 선택된 요소에 하나 이상의 클래스를 추가\n",
    "1. <strong>.removeClass()</strong> : 선택된 요소에 하나 이상의 클래스를 삭제\n",
    "1. <strong>.hover()</strong> : 마우스가 요소에 올려졌을 때/ 벗어났을 때 호출\n",
    "1. <strong>.addClass()</strong> : 선택된 요소에 하나 이상의 클래스를 추가\n",
    "1. <strong>.removeClass()</strong> : 선택된 요소에 하나 이상의 클래스를 삭제"
   ]
  },
  {
   "cell_type": "code",
   "execution_count": 11,
   "metadata": {},
   "outputs": [
    {
     "data": {
      "text/html": [
       "<head>\n",
       "<title>Insert title here</title>\n",
       "<script src=\"http://code.jquery.com/jquery-3.2.1.js\"></script>\n",
       "<script>\n",
       "    var obj = \"\";\n",
       "    $(document).ready(function(){\n",
       "        $('#btn1').click(function(){\n",
       "            obj = \"안녕하세요\";\n",
       "                  $(\"#result_btn\").text(obj);\n",
       "        });\n",
       "\n",
       "        $('#btn2').click(function(){\n",
       "            obj = \"<span style='font-size:25px; color:green; font-weight:bold;'>Thank You</span>\";\n",
       "                  $(\"#result_btn\").html(obj);\n",
       "        });\n",
       "    });\n",
       "</script>\n",
       "</head>\n",
       "<body>\n",
       "    <a id=\"btn1\" href=\"#\">버튼1</a><br><br>\n",
       "    <a id=\"btn2\" href=\"#\">버튼2</a><br><br>\n",
       "    <p id=\"result_btn\" class=\"container\"></p>\n",
       "</body>"
      ],
      "text/plain": [
       "<IPython.core.display.HTML object>"
      ]
     },
     "metadata": {},
     "output_type": "display_data"
    }
   ],
   "source": [
    "%%html\n",
    "<head>\n",
    "<title> Button 에 따른 Event 실행 </title>\n",
    "<script src=\"http://code.jquery.com/jquery-3.2.1.js\"></script>\n",
    "<script>\n",
    "    var obj = \"\";\n",
    "    $(document).ready(function(){\n",
    "        $('#btn1').click(function(){\n",
    "            obj = \"안녕하세요\";\n",
    "                  $(\"#result_btn\").text(obj);\n",
    "        });\n",
    "\n",
    "        $('#btn2').click(function(){\n",
    "            obj = \"<span style='font-size:25px; color:green; font-weight:bold;'>Thank You</span>\";\n",
    "                  $(\"#result_btn\").html(obj);\n",
    "        });\n",
    "    });\n",
    "</script>\n",
    "</head>\n",
    "<body>\n",
    "    <a id=\"btn1\" href=\"#\">버튼1</a><br><br>\n",
    "    <a id=\"btn2\" href=\"#\">버튼2</a><br><br>\n",
    "    <p id=\"result_btn\" class=\"container\"></p>\n",
    "</body>"
   ]
  },
  {
   "cell_type": "code",
   "execution_count": 18,
   "metadata": {},
   "outputs": [
    {
     "data": {
      "text/html": [
       "<head>\n",
       "    <title> focus / blur 이벤트의 실행 </title>\n",
       "    <script src=\"http://code.jquery.com/jquery-3.2.1.js\"></script>\n",
       "    <script>\n",
       "    var obj = \"\";\n",
       "    $().ready(function() {\n",
       "        $('#result_fb1>input').focus(function(){      // .focus() : 해당 객체의 focus On 의 경우 이벤트 실행 \n",
       "            $(this).css(\"background-color\",\"orange\");\n",
       "        });\n",
       "        $('#result_fb1>input').blur(function(){       // .blur() : 해당 객체의 focus Out 의 경우 이벤트 실행 \n",
       "            $(this).css(\"background-color\",\"white\");\n",
       "        });\n",
       "    });\n",
       "    </script>\n",
       "</head>\n",
       "<body>\n",
       "    <div id=\"result_fb1\">\n",
       "    이름 : <input type=\"text\" id=\"text\" placeholder=\"이름 입력하시오\"> <br> </div>\n",
       "</body>\n",
       "<div id=\"result_fb1\" class=\"container\"></div>"
      ],
      "text/plain": [
       "<IPython.core.display.HTML object>"
      ]
     },
     "metadata": {},
     "output_type": "display_data"
    }
   ],
   "source": [
    "%%html\n",
    "<head>\n",
    "    <title> focus / blur 이벤트의 실행 </title>\n",
    "    <script src=\"http://code.jquery.com/jquery-3.2.1.js\"></script>\n",
    "    <script>\n",
    "    var obj = \"\";\n",
    "    $().ready(function() {\n",
    "        $('#result_fb1>input').focus(function(){      // .focus() : 해당 객체의 focus On 의 경우 이벤트 실행 \n",
    "            $(this).css(\"background-color\",\"orange\");\n",
    "        });\n",
    "        $('#result_fb1>input').blur(function(){       // .blur() : 해당 객체의 focus Out 의 경우 이벤트 실행 \n",
    "            $(this).css(\"background-color\",\"white\");\n",
    "        });\n",
    "    });\n",
    "    </script>\n",
    "</head>\n",
    "<body>\n",
    "    <div id=\"result_fb1\">\n",
    "    이름 : <input type=\"text\" id=\"text\" placeholder=\"이름 입력하시오\"> <br> </div>\n",
    "</body>\n",
    "<div id=\"result_fb1\" class=\"container\"></div>"
   ]
  },
  {
   "cell_type": "code",
   "execution_count": 14,
   "metadata": {},
   "outputs": [
    {
     "data": {
      "text/html": [
       "<head>\n",
       "<title> focus / blur 이벤트를 CSS 구분하여 실행 </title>\n",
       "<script src=\"http://code.jquery.com/jquery-3.2.1.js\"></script>\n",
       "<style>\n",
       "    .back1{background-color: orange; } // 복잡한 내용을 미리 정의\n",
       "    .back2{background-color: white; }  \n",
       "</style>\n",
       "<script>\n",
       "    var obj = \"\";\n",
       "    $().ready(function() {\n",
       "        $('input').focus(function(){\n",
       "            $(this).removeClass('back2');  // 기존의 클래스를 삭제해야 원상태가 적용(조금 번잡한 단점)\n",
       "            $(this).addClass('back1');\n",
       "        });\n",
       "        $('input').blur(function(){\n",
       "            $(this).removeClass('back1');\n",
       "            $(this).addClass('back2');;\n",
       "        });\n",
       "   });\n",
       "    </script>\n",
       "</head>\n",
       "<body> 이름 : <input type=\"text\" id=\"text\" placeholder=\"이름 입력하시오\"><br> </body>\n",
       "<div id=\"result\" class=\"container\"></div>"
      ],
      "text/plain": [
       "<IPython.core.display.HTML object>"
      ]
     },
     "metadata": {},
     "output_type": "display_data"
    }
   ],
   "source": [
    "%%html\n",
    "<head>\n",
    "<title> focus / blur 이벤트를 CSS 구분하여 실행 </title>\n",
    "<script src=\"http://code.jquery.com/jquery-3.2.1.js\"></script>\n",
    "<style>\n",
    "    .back1{background-color: orange; }     // style을 미리 정의\n",
    "    .back2{background-color: white; }  \n",
    "</style>\n",
    "<script>\n",
    "    var obj = \"\";\n",
    "    $().ready(function() {\n",
    "        $('#result_fb2>input').focus(function(){\n",
    "            $(this).removeClass('back2');  // 기존의 클래스를 삭제해야 원상태가 적용(조금 번잡한 단점)\n",
    "            $(this).addClass('back1');\n",
    "        });\n",
    "        $('#result_fb2>input').blur(function(){\n",
    "            $(this).removeClass('back1');\n",
    "            $(this).addClass('back2');;\n",
    "        });\n",
    "   });\n",
    "    </script>\n",
    "</head>\n",
    "<body> \n",
    "<div id = \"result_fb2\">\n",
    "이름 : <input type=\"text\" id=\"text\" placeholder=\"이름 입력하시오\"><br></div>\n",
    "<div id=\"result\" class=\"container\"></div>\n",
    "</body>"
   ]
  },
  {
   "cell_type": "code",
   "execution_count": 20,
   "metadata": {},
   "outputs": [
    {
     "data": {
      "text/html": [
       "<head>\n",
       "<title> focus / blur 이벤트 </title>\n",
       "<script src=\"http://code.jquery.com/jquery-3.2.1.js\"></script>\n",
       "<script>\n",
       "    $(document).ready(function (){\n",
       "        $('#result>input').focus(function(){\n",
       "            $(this).css(\"background-color\",\"#EAEAEA\");\n",
       "        });\t\n",
       "        $('#result>input').blur(function(){\n",
       "            $(this).css(\"background-color\",\"#FFF\");\n",
       "        });\n",
       "        $('#result>#login').click(function(){\n",
       "            var id = $('#id').val();\n",
       "            var pw = $('#pw').val();\n",
       "            alert(\"아이디:\" + id + \"  비밀번호 :\" + pw);\n",
       "        })\n",
       "    });\n",
       "</script>\n",
       "</head>\n",
       "<body>\n",
       "  <div id=\"result\"  class=\"container\">\n",
       "    <input type=\"text\" id=\"id\" placeholder=\"아이디\"><br>\n",
       "    <input type=\"text\" id=\"pw\" placeholder=\"비밀번호 \">\n",
       "    <button id=\"login\">로그인</button>\n",
       "  </div>\n",
       "</body>"
      ],
      "text/plain": [
       "<IPython.core.display.HTML object>"
      ]
     },
     "metadata": {},
     "output_type": "display_data"
    }
   ],
   "source": [
    "%%html\n",
    "<head>\n",
    "<title> 로그인 메뉴박스의 focus / blur 이벤트 </title>\n",
    "<script src=\"http://code.jquery.com/jquery-3.2.1.js\"></script>\n",
    "<script>\n",
    "    $(document).ready(function (){\n",
    "        $('#result>input').focus(function(){\n",
    "            $(this).css(\"background-color\",\"#EAEAEA\");\n",
    "        });\t\n",
    "        $('#result>input').blur(function(){\n",
    "            $(this).css(\"background-color\",\"#FFF\");\n",
    "        });\n",
    "        $('#result>#login').click(function(){\n",
    "            var id = $('#id').val();\n",
    "            var pw = $('#pw').val();\n",
    "            alert(\"아이디:\" + id + \"  비밀번호 :\" + pw);\n",
    "        })\n",
    "    });\n",
    "</script>\n",
    "</head>\n",
    "<body>\n",
    "  <div id=\"result\"  class=\"container\">\n",
    "    <input type=\"text\" id=\"id\" placeholder=\"아이디\"><br>\n",
    "    <input type=\"text\" id=\"pw\" placeholder=\"비밀번호 \">\n",
    "    <button id=\"login\">로그인</button>\n",
    "  </div>\n",
    "</body>"
   ]
  },
  {
   "cell_type": "code",
   "execution_count": 21,
   "metadata": {},
   "outputs": [
    {
     "data": {
      "text/html": [
       "<head>\n",
       "<title>Insert title here</title>\n",
       "<script src=\"http://code.jquery.com/jquery-3.2.1.js\"></script>\n",
       "<style>\n",
       ".highlight_red {\n",
       "    background-color: yellow;\n",
       "    color: red;}\n",
       "</style>\n",
       "<script>\n",
       "$(document).ready(function() {\n",
       "    $('p').hover(function(){\n",
       "        $(this).addClass('highlight_red');\n",
       "        }, function(){\n",
       "        $(this).removeClass('highlight_red');\n",
       "    })\n",
       "});\n",
       "</script>\n",
       "</head>\n",
       "<body> \n",
       "    <p>고양이</p> <p>강아지</p> <p>고라니</p> <p>원숭이</p>\n",
       "</body>"
      ],
      "text/plain": [
       "<IPython.core.display.HTML object>"
      ]
     },
     "metadata": {},
     "output_type": "display_data"
    }
   ],
   "source": [
    "%%html\n",
    "<head>\n",
    "<title> 객체 선택에 따른 Style의 변화 </title>\n",
    "<script src=\"http://code.jquery.com/jquery-3.2.1.js\"></script>\n",
    "<style>\n",
    ".highlight_red {\n",
    "    background-color: yellow;\n",
    "    color: red;}\n",
    "</style>\n",
    "<script>\n",
    "$(document).ready(function() {\n",
    "    $('p').hover(function(){                  // .hover():마우스가 요소에 올려졌을 때/ 벗어났을 때 호출\n",
    "        $(this).addClass('highlight_red');    // .addClass():선택된 요소에 하나 이상의 클래스를 추가\n",
    "        }, function(){\n",
    "        $(this).removeClass('highlight_red'); // .removeClass():선택된 요소에 하나 이상의 클래스를 삭제\n",
    "    })\n",
    "});\n",
    "</script>\n",
    "</head>\n",
    "<body> \n",
    "    <p>고양이</p> <p>강아지</p> <p>고라니</p> <p>원숭이</p>\n",
    "</body>"
   ]
  },
  {
   "cell_type": "code",
   "execution_count": 24,
   "metadata": {},
   "outputs": [
    {
     "data": {
      "text/html": [
       "<head>\n",
       "<title> Document</title>\n",
       "<script src=\"http://code.jquery.com/jquery-3.2.1.js\"></script>\n",
       "<style>\n",
       ".important {\n",
       "    font-weight: bold;\n",
       "    font-size: xx-large;}\n",
       ".blue {\n",
       "    color: blue;}\n",
       "</style>\n",
       "<script>\n",
       "$(document).ready(function(){\n",
       "    $('#chg_style>button').click(function(){\n",
       "        $('#chg_style h1, h2, p').addClass('blue');\n",
       "        $('#chg_style div').addClass('important')\n",
       "    });\t\n",
       "});\n",
       "</script>\n",
       "</head>\n",
       "<body>\n",
       "    <div id=\"chg_style\">\n",
       "    <h1>Heading 1</h1>\n",
       "    <h2>Heading 2</h2>\n",
       "    <p>This is a paragraph.</p>\n",
       "    <p>This is another paragraph.</p>\n",
       "    <div>This is some important text!</div><br>\n",
       "    <button>Add classes to elements</button></div>\n",
       "</body>"
      ],
      "text/plain": [
       "<IPython.core.display.HTML object>"
      ]
     },
     "metadata": {},
     "output_type": "display_data"
    }
   ],
   "source": [
    "%%html\n",
    "<head>\n",
    "<title> Document</title>\n",
    "<script src=\"http://code.jquery.com/jquery-3.2.1.js\"></script>\n",
    "<style>\n",
    ".important {\n",
    "    font-weight: bold;\n",
    "    font-size: xx-large;}\n",
    ".blue {\n",
    "    color: blue;}\n",
    "</style>\n",
    "<script>\n",
    "$(document).ready(function(){\n",
    "    $('#chg_style>button').click(function(){\n",
    "        $('#chg_style h1, h2, p').addClass('blue');\n",
    "        $('#chg_style div').addClass('important')\n",
    "    });\t\n",
    "});\n",
    "</script>\n",
    "</head>\n",
    "<body>\n",
    "    <div id=\"chg_style\">\n",
    "    <h1>Heading 1</h1>\n",
    "    <h2>Heading 2</h2>\n",
    "    <p>This is a paragraph.</p>\n",
    "    <p>This is another paragraph.</p>\n",
    "    <div>This is some important text!</div><br>\n",
    "    <button>Add classes to elements</button>\n",
    "    </div>\n",
    "</body>"
   ]
  },
  {
   "cell_type": "markdown",
   "metadata": {},
   "source": [
    "<br>\n",
    "## <strong>4. jQuery 를 활용한 Mouse Events\n",
    "1. <strong>animate( properties, speed, easing, callback )</strong> : 요소를 이동시켜준다\n",
    "     1. <strong>properties</strong> : 속성\n",
    "     1. <strong>speed</strong> : 진행 시간 milliseconds  또는 slow, normal, fast 문자열\n",
    "     1. <strong>easing</strong> : 애니메이션이 어떻게 진행될지를 제어하는 기능을 제공하는 선택사항\n",
    "     1. <strong>callback</strong> : 애니메이션이 끝나고 실행되는 메소드\n",
    "1. <strong>.attr()</strong> : 요소의 속성을 반환\n",
    "1. <strong>.mouseover()</strong> : 대상에서  마우스 커서가 움직였을 때\n",
    "1. <strong>.mouseout()</strong> :대상에서 마우스가 벗어 났을 때\n",
    "1. <strong>.mouseup()</strong> :마우스 버튼을 놓는 순간\n",
    "1. <strong>.mousedown()</strong> :마우스 버튼을 누른 순간\n",
    "1. <strong>.mousemove()</strong> :대상에서  마우스 커서가 움직였을 때\n",
    "1. <strong>.mouseenter()</strong> : 요소에서 마우스를 클리할 때 \n",
    "1. <strong>.mouseleave()</strong> : 요소에서 마우스가 떠났을 때"
   ]
  },
  {
   "cell_type": "code",
   "execution_count": 29,
   "metadata": {},
   "outputs": [
    {
     "data": {
      "text/html": [
       "<head>\n",
       "<title>Document</title>\n",
       "<script src=\"http://code.jquery.com/jquery-3.2.1.js\"></script>\n",
       "<script>\n",
       "    $(function() {\n",
       "        $('#animation>button.first').click(function() {\n",
       "            $('#animation>p').animate({\n",
       "                marginLeft:\"200px\",\n",
       "                fontSize:\"50px\",\n",
       "            }, 1000);\n",
       "        });\n",
       "        $('#animation>button.second').click(function() {\n",
       "            $('#animation>p').animate({\n",
       "                marginLeft:\"\",\n",
       "                fontSize:\"12px\",\n",
       "            }, 1000);\n",
       "        });\n",
       "    });\n",
       "</script>\n",
       "</head>\n",
       "<body>\n",
       "    <div id=\"animation\">\n",
       "    <p>좋은 하루 되세요</p>\n",
       "    <button class=\"first\">출발</button>\n",
       "    <button class=\"second\">도착</button></div>\n",
       "</body>"
      ],
      "text/plain": [
       "<IPython.core.display.HTML object>"
      ]
     },
     "metadata": {},
     "output_type": "display_data"
    }
   ],
   "source": [
    "%%html\n",
    "<head>\n",
    "<title>Document</title>\n",
    "<script src=\"http://code.jquery.com/jquery-3.2.1.js\"></script>\n",
    "<script>\n",
    "    $(function() {\n",
    "        $('#animation>button.first').click(function() {\n",
    "            $('#animation>p').animate({\n",
    "                marginLeft:\"200px\",\n",
    "                fontSize:\"50px\",\n",
    "            }, 1000);\n",
    "        });\n",
    "        $('#animation>button.second').click(function() {\n",
    "            $('#animation>p').animate({\n",
    "                marginLeft:\"\",\n",
    "                fontSize:\"12px\",\n",
    "            }, 1000);\n",
    "        });\n",
    "    });\n",
    "</script>\n",
    "</head>\n",
    "<body>\n",
    "    <div id=\"animation\">\n",
    "    <p>좋은 하루 되세요</p>\n",
    "    <button class=\"first\">출발</button>\n",
    "    <button class=\"second\">도착</button></div>\n",
    "</body>"
   ]
  },
  {
   "cell_type": "code",
   "execution_count": 32,
   "metadata": {},
   "outputs": [
    {
     "data": {
      "text/html": [
       "<head>\n",
       "    <meta charset=\"UTF-8\">\n",
       "    <title>Insert title here</title>\n",
       "    <script src=\"http://code.jquery.com/jquery-3.2.1.js\"></script>\n",
       "    <script>\n",
       "    $(document).ready(function() {\n",
       "        $('#coffee>img').mouseover(function() {\n",
       "            $(this).attr('src', 'https://globalassets.starbucks.com/assets/2a4807223b53455b89f792b5e25ce89e.jpg');\n",
       "        })                      // ; 를 제거하면 $('#coffee>img') 를 공유한다\n",
       "        .mouseout(function() {\n",
       "            $(this).attr('src', 'http://www.eatouteatwell.com/wp-content/uploads/2010/10/cup-of-latte.jpg?x33491');\n",
       "        });\n",
       "    });\n",
       "    </script>\n",
       "</head>\n",
       "<body>\n",
       "    <div id = \"coffee\">\n",
       "    <img src = \"http://www.eatouteatwell.com/wp-content/uploads/2010/10/cup-of-latte.jpg?x33491\"></div>\n",
       "</body>"
      ],
      "text/plain": [
       "<IPython.core.display.HTML object>"
      ]
     },
     "metadata": {},
     "output_type": "display_data"
    }
   ],
   "source": [
    "%%html\n",
    "<head>\n",
    "    <meta charset=\"UTF-8\">\n",
    "    <title> .mouseover() 를 활용한 마우스 이벤트 </title>\n",
    "    <script src=\"http://code.jquery.com/jquery-3.2.1.js\"></script>\n",
    "    <script>\n",
    "    $(document).ready(function() {\n",
    "        $('#coffee>img').mouseover(function() {  // .mouseover() : 대상에서 마우스 커서가 움직였을 때 이벤트를 실행\n",
    "            $(this).attr('src', 'https://globalassets.starbucks.com/assets/2a4807223b53455b89f792b5e25ce89e.jpg');\n",
    "        })                                       // { block } 사이의 ';' 를 제거하면 $('#coffee>img') 를 공유한다\n",
    "        .mouseout(function() {\n",
    "            $(this).attr('src', 'http://www.eatouteatwell.com/wp-content/uploads/2010/10/cup-of-latte.jpg?x33491');\n",
    "        });\n",
    "    });\n",
    "    </script>\n",
    "</head>\n",
    "<body>\n",
    "    <div id = \"coffee\">\n",
    "    <img src = \"http://www.eatouteatwell.com/wp-content/uploads/2010/10/cup-of-latte.jpg?x33491\"></div>\n",
    "</body>"
   ]
  },
  {
   "cell_type": "code",
   "execution_count": 33,
   "metadata": {},
   "outputs": [
    {
     "data": {
      "text/html": [
       "<head>\n",
       "<title> .hover() 를 활용한 마우스 이벤트 </title>\n",
       "<script src=\"http://code.jquery.com/jquery-3.2.1.js\"></script>\n",
       "<script>\n",
       "$(document).ready(function() {\n",
       "    $('#coffee2>img').hover(function() {\n",
       "        $(this).attr('src', 'http://www.eatouteatwell.com/wp-content/uploads/2010/10/cup-of-latte.jpg?x33491');\n",
       "    }, function(){\n",
       "        $(this).attr('src', 'https://globalassets.starbucks.com/assets/2a4807223b53455b89f792b5e25ce89e.jpg');\n",
       "    });\n",
       "});\n",
       "</script>\n",
       "</head>\n",
       "<body>\n",
       "    <div id=\"coffee2\">\n",
       "    <img src=\"https://globalassets.starbucks.com/assets/2a4807223b53455b89f792b5e25ce89e.jpg\"></div>\n",
       "</body>"
      ],
      "text/plain": [
       "<IPython.core.display.HTML object>"
      ]
     },
     "metadata": {},
     "output_type": "display_data"
    }
   ],
   "source": [
    "%%html\n",
    "<head>\n",
    "<title> .hover() 를 활용한 마우스 이벤트 : this 등을 활용하면 더 간결한 코드가 가능하다 </title>\n",
    "<script src=\"http://code.jquery.com/jquery-3.2.1.js\"></script>\n",
    "<script>\n",
    "$(document).ready(function() {\n",
    "    $('#coffee2>img').hover(function() {\n",
    "        $(this).attr('src', 'http://www.eatouteatwell.com/wp-content/uploads/2010/10/cup-of-latte.jpg?x33491');\n",
    "    }, function(){\n",
    "        $(this).attr('src', 'https://globalassets.starbucks.com/assets/2a4807223b53455b89f792b5e25ce89e.jpg');\n",
    "    });\n",
    "});\n",
    "</script>\n",
    "</head>\n",
    "<body>\n",
    "    <div id=\"coffee2\">\n",
    "    <img src=\"https://globalassets.starbucks.com/assets/2a4807223b53455b89f792b5e25ce89e.jpg\"></div>\n",
    "</body>"
   ]
  },
  {
   "cell_type": "code",
   "execution_count": 35,
   "metadata": {},
   "outputs": [
    {
     "data": {
      "text/html": [
       "<head>\n",
       "<title> .on('Event', function(){  }) </title>\n",
       "<script src=\"http://code.jquery.com/jquery-3.2.1.js\"></script>\n",
       "<script>\n",
       "$(document).ready(function(){\n",
       "    $('#mouse_click').on('mouseenter', function(){   // .mouseenter() 를 함수와 묶음처리\n",
       "        $(this).css(\"background-color\",'lightgray');\n",
       "    });\n",
       "    $('#mouse_click').on('mouseleave', function(){   // .mouseleave() 를 함수와 묶음처리\n",
       "        $(this).css(\"background-color\",'lightblue');\n",
       "    });\n",
       "    $('#mouse_click').on('click',function(){         // .click() 를 함수와 묶음처리\n",
       "        $(this).css(\"background-color\",'lightyellow');\n",
       "    });\n",
       "}); \n",
       "</script>\n",
       "<body>\n",
       "    <p id = \"mouse_click\">Click or move the mouse pointer over this paragraph.</p>\n",
       "</body>"
      ],
      "text/plain": [
       "<IPython.core.display.HTML object>"
      ]
     },
     "metadata": {},
     "output_type": "display_data"
    }
   ],
   "source": [
    "%%html\n",
    "<head>\n",
    "<title> .on('Event', function(){  }) </title>\n",
    "<script src=\"http://code.jquery.com/jquery-3.2.1.js\"></script>\n",
    "<script>\n",
    "$(document).ready(function(){\n",
    "    $('#click_event1').on('mouseenter', function(){   // .mouseenter() 를 함수와 묶음처리\n",
    "        $(this).css(\"background-color\",'lightgray');\n",
    "    });\n",
    "    $('#click_event1').on('mouseleave', function(){   // .mouseleave() 를 함수와 묶음처리\n",
    "        $(this).css(\"background-color\",'lightblue');\n",
    "    });\n",
    "    $('#click_event1').on('click',function(){         // .click() 를 함수와 묶음처리\n",
    "        $(this).css(\"background-color\",'lightyellow');\n",
    "    });\n",
    "}); \n",
    "</script>\n",
    "<body>\n",
    "    <p id = \"click_event1\">Click or move the mouse pointer over this paragraph.</p>\n",
    "</body>"
   ]
  },
  {
   "cell_type": "code",
   "execution_count": null,
   "metadata": {},
   "outputs": [],
   "source": [
    "%%html\n",
    "<head>\n",
    "<title> .on('Event', function(){  })  JSON type </title>\n",
    "<script src=\"http://code.jquery.com/jquery-3.2.1.js\"></script>\n",
    "<script>\n",
    "$(document).ready(function(){\n",
    "    $('p').on({   mouseenter : function(){\n",
    "                $(this).css(\"background-color\",'lightgray');\n",
    "               }, mouseleave : function(){\n",
    "                $(this).css(\"background-color\",'lightblue');\n",
    "               }, click : function(){\n",
    "                $(this).css(\"background-color\",'lightyellow');\n",
    "               }\n",
    "     });\n",
    "});\n",
    "</script>\n",
    "<body>\n",
    "\t<p id=\"click_event2\">Click or move the mouse pointer over this paragraph.</p>\n",
    "</body>"
   ]
  },
  {
   "cell_type": "code",
   "execution_count": null,
   "metadata": {},
   "outputs": [],
   "source": [
    "jquery 15 th start!!"
   ]
  },
  {
   "cell_type": "code",
   "execution_count": null,
   "metadata": {},
   "outputs": [],
   "source": []
  }
 ],
 "metadata": {
  "kernelspec": {
   "display_name": "Python 3",
   "language": "python",
   "name": "python3"
  },
  "language_info": {
   "codemirror_mode": {
    "name": "ipython",
    "version": 3
   },
   "file_extension": ".py",
   "mimetype": "text/x-python",
   "name": "python",
   "nbconvert_exporter": "python",
   "pygments_lexer": "ipython3",
   "version": "3.6.3"
  }
 },
 "nbformat": 4,
 "nbformat_minor": 2
}
