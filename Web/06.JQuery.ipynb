{
 "cells": [
  {
   "cell_type": "markdown",
   "metadata": {},
   "source": [
    "# <strong>jQuery\n",
    "<br>\n",
    "## <strong>1. jQuery 기본\n",
    "<strong>DOM</strong>에 <strong>Query</strong>를 날려서 필요한 노드에 어떤 작업을 수행하는 모듈\n",
    "\n",
    "1. \\$(&nbsp; document &nbsp;).<strong>ready</strong>(&nbsp; function &nbsp; (&nbsp;&nbsp;) { &nbsp;&nbsp;&nbsp;&nbsp; });\n",
    "1. \\$(&nbsp; function &nbsp;(&nbsp;&nbsp;){ &nbsp;&nbsp;&nbsp;&nbsp; });\n",
    "\n",
    "<img src=\"https://d2dybsqaihwlah.cloudfront.net/wp-content/uploads/2017/05/10152018/OQAAAI1PPrJY0nBALB7mkvju3mkQXqLmzMhxEjeb4gp8aujEUQcLfLyy-Sn4gZdkAas6-k8eYbQlGDE-GCjKfF5gIrUA15jOjFfLRv77VBd5t-WfZURdP9V3PdmT.png\" width=\"400\" align='left'/>"
   ]
  },
  {
   "cell_type": "code",
   "execution_count": 1,
   "metadata": {},
   "outputs": [
    {
     "data": {
      "text/html": [
       "<head>\n",
       "<title> jQuery 모듈의 기본적인 형식 </title>\n",
       "<script src=\"http://code.jquery.com/jquery-3.2.1.js\"></script>\n",
       "<script>\n",
       "    function process(){ alert(\"버튼 1 호출\"); } // JavaScript 함수\n",
       "    \n",
       "    $(document).ready(function(){  \n",
       "        $(\"#btn2\").click(function(){          // jQuery 함수 : $(객체).이벤트(함수(){ });        \n",
       "            alert(\"버튼 2 호출\")\n",
       "        });\n",
       "        \n",
       "        $(\"#btn3\").on('click', function(){\n",
       "            alert(\"버튼 3 호출\")                // jQuery 함수 : $(객체).on(이벤트,함수(){ });\n",
       "        });\n",
       "    })\n",
       "</script>\n",
       "</head>\n",
       "<body>\n",
       "<input type=\"button\" id=\"btn1\"  value=\"버튼1\" onclick=\"process()\">\n",
       "<input type=\"button\" id=\"btn2\"  value=\"버튼2\" >\n",
       "<input type=\"button\" id=\"btn3\"  value=\"버튼3\" >\n",
       "</body>"
      ],
      "text/plain": [
       "<IPython.core.display.HTML object>"
      ]
     },
     "metadata": {},
     "output_type": "display_data"
    }
   ],
   "source": [
    "%%html\n",
    "<head>\n",
    "<title> jQuery 모듈의 기본적인 형식 </title>\n",
    "<script src=\"http://code.jquery.com/jquery-3.2.1.js\"></script>\n",
    "<script>\n",
    "    function process(){ alert(\"버튼 1 호출\"); } // JavaScript 함수\n",
    "    \n",
    "    $(document).ready(function(){  \n",
    "        $(\"#btn2\").click(function(){          // jQuery 함수 : $(객체).이벤트(함수(){ });        \n",
    "            alert(\"버튼 2 호출\")\n",
    "        });\n",
    "        \n",
    "        $(\"#btn3\").on('click', function(){\n",
    "            alert(\"버튼 3 호출\")                // jQuery 함수 : $(객체).on(이벤트,함수(){ });\n",
    "        });\n",
    "    })\n",
    "</script>\n",
    "</head>\n",
    "<body>\n",
    "<input type=\"button\" id=\"btn1\"  value=\"버튼1\" onclick=\"process()\">\n",
    "<input type=\"button\" id=\"btn2\"  value=\"버튼2\" >\n",
    "<input type=\"button\" id=\"btn3\"  value=\"버튼3\" >\n",
    "</body>"
   ]
  },
  {
   "cell_type": "markdown",
   "metadata": {},
   "source": [
    "<br>\n",
    "## <strong>2. jQuery 에 관련한 Event 1\n",
    "1. <strong>.bind</strong>(&nbsp;&nbsp;) :이벤트가 발생하면 실행될 함수를 지정\n",
    "1. <strong>.click</strong>(&nbsp;&nbsp;) :마우스를 클릭할 때\n",
    "1. <strong>.slideUp()/.slideDown()</strong> :왼쪽상단모서리를 기준으로 해서 오른쪽하단 모서리로 나타나고 사라진다 \n",
    "1. <strong>.fadeIn()</strong> :투명도를 조절해서 보여준다 (속도: slow, fast)\n",
    "1. <strong>.fadeOut()</strong> :투명도를 조절해서 사라진다 (속도: slow, fast)\n",
    "1. <strong>.slideToggle()</strong> :블라인드 형태의 up, down을 번갈아 실행한다\n",
    "1. <strong>.toggle()</strong> :오므리고 펼치는 up, down을 번갈아 실행한다."
   ]
  },
  {
   "cell_type": "code",
   "execution_count": 2,
   "metadata": {},
   "outputs": [
    {
     "data": {
      "text/html": [
       "<head>\n",
       "<title> jQuery 와 CSS 의 적용 </title>\n",
       "<script src=\"http://code.jquery.com/jquery-3.2.1.js\"></script>\n",
       "<style>\n",
       "    .backColor{                    // CSS Style 적용\n",
       "        background-color: orange;\n",
       "        color: gray;\n",
       "        font-family: Comic Sans MS;\n",
       "        }\n",
       "</style>\n",
       "<script>\n",
       "    $().ready(function(){\n",
       "        $(\".btn\").addClass('backColor');   // Web request와 함께 함수 실행\n",
       "        $(\"#hellobtn\").click(function(){   // button click 이벤트시 함수 실행\n",
       "            $(this).hide();\n",
       "                alert(\"Jquery 연습중\");\n",
       "            $(this).show();\n",
       "        });\n",
       "    });\n",
       "</script>\n",
       "</head>\n",
       "<body>\n",
       "<h1 class=\"btn\"> Hello jQuery </h1>\n",
       "<button id=\"hellobtn\">헬로우 제이쿼리</button>\n",
       "</body>"
      ],
      "text/plain": [
       "<IPython.core.display.HTML object>"
      ]
     },
     "metadata": {},
     "output_type": "display_data"
    }
   ],
   "source": [
    "%%html\n",
    "<head>\n",
    "<title> jQuery 와 CSS 의 적용 </title>\n",
    "<script src=\"http://code.jquery.com/jquery-3.2.1.js\"></script>\n",
    "<style>\n",
    "    .backColor{                    // CSS Style 적용\n",
    "        background-color: orange;\n",
    "        color: gray;\n",
    "        font-family: Comic Sans MS;\n",
    "        }\n",
    "</style>\n",
    "<script>\n",
    "    $().ready(function(){\n",
    "        $(\".btn\").addClass('backColor');   // Web request와 함께 함수 실행\n",
    "        $(\"#hellobtn\").click(function(){   // button click 이벤트시 함수 실행\n",
    "            $(this).hide();\n",
    "                alert(\"Jquery 연습중\");\n",
    "            $(this).show();\n",
    "        });\n",
    "    });\n",
    "</script>\n",
    "</head>\n",
    "<body>\n",
    "<h1 class=\"btn\"> Hello jQuery </h1>\n",
    "<button id=\"hellobtn\">헬로우 제이쿼리</button>\n",
    "</body>"
   ]
  },
  {
   "cell_type": "code",
   "execution_count": 3,
   "metadata": {},
   "outputs": [
    {
     "data": {
      "text/html": [
       "<head>\n",
       "<title> Document </title>\n",
       "<script src=\"http://code.jquery.com/jquery-3.2.1.js\"></script>\n",
       "<script>\n",
       "$(document).ready(function(){\n",
       "    $('#hide').click(function(){\n",
       "        $('p_show').hide();\n",
       "    });\n",
       "    $('#show').click(function(){\n",
       "        $('p_show').show();\n",
       "    });\n",
       "});\n",
       "</script>\n",
       "</head>\n",
       "<body>\n",
       "\t<p_show>If you click on the \"Hide\" button, I will disappear.</p_show><br>\n",
       "<button id=\"hide\">Hide</button>\n",
       "<button id=\"show\">Show</button>\n",
       "</body>"
      ],
      "text/plain": [
       "<IPython.core.display.HTML object>"
      ]
     },
     "metadata": {},
     "output_type": "display_data"
    }
   ],
   "source": [
    "%%html\n",
    "<head>\n",
    "<title> Document </title>\n",
    "<script src=\"http://code.jquery.com/jquery-3.2.1.js\"></script>\n",
    "<script>\n",
    "$(document).ready(function(){\n",
    "    $('#hide').click(function(){\n",
    "        $('p_show').hide();\n",
    "    });\n",
    "    $('#show').click(function(){\n",
    "        $('p_show').show();\n",
    "    });\n",
    "});\n",
    "</script>\n",
    "</head>\n",
    "<body>\n",
    "\t<p_show>If you click on the \"Hide\" button, I will disappear.</p_show><br>\n",
    "<button id=\"hide\">Hide</button>\n",
    "<button id=\"show\">Show</button>\n",
    "</body>"
   ]
  },
  {
   "cell_type": "code",
   "execution_count": 4,
   "metadata": {},
   "outputs": [
    {
     "data": {
      "text/html": [
       "<head>\n",
       "<title> 이미지 슬라이드 효과 </title>\n",
       "<script src=\"http://code.jquery.com/jquery-3.2.1.js\"></script>\n",
       "<script>\n",
       "    $().ready(function(){  //slideup(speed) : speed:\"slow\",\"fast\" or milliseconds(1/1000초의 의미)\n",
       "        $('#btn1').click(function(){ $('#animal > img').slideUp(500);      });\n",
       "        $('#btn2').click(function(){ $('#animal > img').slideDown(1000);   });\n",
       "        $('#btn3').click(function(){ $('#animal > img').fadeIn(1000);      });\n",
       "        $('#btn4').click(function(){ $('#animal > img').fadeOut(1000);     });\n",
       "        $('#btn5').click(function(){ $('#animal > img').slideToggle(1000); });\n",
       "        $('#btn6').click(function(){ $('#animal > img').toggle(1000);      });\n",
       "\t});\n",
       "</script>\n",
       "</head>\n",
       "<body>\n",
       "    <button id=\"btn1\">slideUp</button>\n",
       "    <button id=\"btn2\">slideDown</button>&nbsp;&nbsp;&nbsp;\n",
       "    <button id=\"btn3\">fadeIn</button>\n",
       "    <button id=\"btn4\">fadeOut</button>&nbsp;&nbsp;&nbsp;\n",
       "    <button id=\"btn5\">slide toggle</button>\n",
       "    <button id=\"btn6\">toggle</button>\n",
       "    <div id = \"animal\">\n",
       "    <p>이미지</p>\n",
       "    <img src=\"https://scontent.cdninstagram.com/t51.2885-15/e35/20687164_1668989653112420_6475152004652990464_n.jpg\"\n",
       "     width=\"300px\"  height=\"300px\"> </div>\n",
       "</body>\n",
       "</html>"
      ],
      "text/plain": [
       "<IPython.core.display.HTML object>"
      ]
     },
     "metadata": {},
     "output_type": "display_data"
    }
   ],
   "source": [
    "%%html\n",
    "<head>\n",
    "<title> 이미지 슬라이드 효과 </title>\n",
    "<script src=\"http://code.jquery.com/jquery-3.2.1.js\"></script>\n",
    "<script>\n",
    "    $().ready(function(){  //slideup(speed) : speed:\"slow\",\"fast\" or milliseconds(1/1000초의 의미)\n",
    "        $('#btn1').click(function(){ $('#animal > img').slideUp(500);      });\n",
    "        $('#btn2').click(function(){ $('#animal > img').slideDown(1000);   });\n",
    "        $('#btn3').click(function(){ $('#animal > img').fadeIn(1000);      });\n",
    "        $('#btn4').click(function(){ $('#animal > img').fadeOut(1000);     });\n",
    "        $('#btn5').click(function(){ $('#animal > img').slideToggle(1000); });\n",
    "        $('#btn6').click(function(){ $('#animal > img').toggle(1000);      });\n",
    "\t});\n",
    "</script>\n",
    "</head>\n",
    "<body>\n",
    "    <button id=\"btn1\">slideUp</button>\n",
    "    <button id=\"btn2\">slideDown</button>&nbsp;&nbsp;&nbsp;\n",
    "    <button id=\"btn3\">fadeIn</button>\n",
    "    <button id=\"btn4\">fadeOut</button>&nbsp;&nbsp;&nbsp;\n",
    "    <button id=\"btn5\">slide toggle</button>\n",
    "    <button id=\"btn6\">toggle</button>\n",
    "    <div id = \"animal\">\n",
    "    <p>이미지</p>\n",
    "    <img src=\"https://scontent.cdninstagram.com/t51.2885-15/e35/20687164_1668989653112420_6475152004652990464_n.jpg\"\n",
    "     width=\"300px\"  height=\"300px\"> </div>\n",
    "</body>\n",
    "</html>"
   ]
  },
  {
   "cell_type": "code",
   "execution_count": 5,
   "metadata": {},
   "outputs": [
    {
     "data": {
      "text/html": [
       "<title> 자바스크립트(innerText / innerHTML) 뷰어 </title>\n",
       "<script>\n",
       "function process1(){\n",
       "    var ob=document.getElementById(\"txt\").value;\n",
       "    document.getElementById(\"view1\").innerText=ob;\n",
       "}\n",
       "function process2(){\n",
       "    var ob=document.getElementById(\"txt\").value;\n",
       "    document.getElementById(\"view1\").innerHTML=ob;\n",
       "}\n",
       "</script>\n",
       "</head>\n",
       "<body>\n",
       "<input type=\"text\" id=\"txt\" size=\"50\" name=\"text\">\n",
       "<input type=\"button\" value=\"출력1\" onclick=\"process1()\">\n",
       "<input type=\"button\" value=\"출력2\" onclick=\"process2()\">\n",
       "<br><br><br>\n",
       "<div id=\"view1\"></div>\n",
       "</body>"
      ],
      "text/plain": [
       "<IPython.core.display.HTML object>"
      ]
     },
     "metadata": {},
     "output_type": "display_data"
    }
   ],
   "source": [
    "%%html\n",
    "<title> 자바스크립트(innerText / innerHTML) 뷰어 </title>\n",
    "<script>\n",
    "function process1(){\n",
    "    var ob=document.getElementById(\"txt\").value;\n",
    "    document.getElementById(\"view1\").innerText=ob;\n",
    "}\n",
    "function process2(){\n",
    "    var ob=document.getElementById(\"txt\").value;\n",
    "    document.getElementById(\"view1\").innerHTML=ob;\n",
    "}\n",
    "</script>\n",
    "</head>\n",
    "<body>\n",
    "<input type=\"text\" id=\"txt\" size=\"50\" name=\"text\">\n",
    "<input type=\"button\" value=\"출력1\" onclick=\"process1()\">\n",
    "<input type=\"button\" value=\"출력2\" onclick=\"process2()\">\n",
    "<br><br><br>\n",
    "<div id=\"view1\"></div>\n",
    "</body>"
   ]
  },
  {
   "cell_type": "code",
   "execution_count": 6,
   "metadata": {},
   "outputs": [
    {
     "data": {
      "text/html": [
       "<head>\n",
       "<title> jQuery 로 구현한 (text / html) 뷰어 </title>\n",
       "<script src=\"http://code.jquery.com/jquery-3.2.1.js\"></script>\n",
       "<script>\n",
       "    $().ready(function(){\n",
       "        $('#btn1').click(function(){\n",
       "            var obj = $('#txt').val();         // .val()\n",
       "                      $('#view2').text(obj);   // .text(객체)\n",
       "        });\n",
       "        $('#btn2').click(function(){\n",
       "            var obj = $('#txt').val();         // .val()\n",
       "                      $('#view2').html(obj);   // .html(객체)\n",
       "        });\n",
       "    });\n",
       "</script>\n",
       "</head>\n",
       "<body>\n",
       "<input type=\"text\" id=\"txt\" size=\"50\" name=\"text\">\n",
       "<input type=\"button\" value=\"출력1\" id=\"btn1\">\n",
       "<input type=\"button\" value=\"출력2\" id=\"btn2\">\n",
       "<br><br><br>\n",
       "<div id=\"view2\"></div>\n",
       "</body>"
      ],
      "text/plain": [
       "<IPython.core.display.HTML object>"
      ]
     },
     "metadata": {},
     "output_type": "display_data"
    }
   ],
   "source": [
    "%%html\n",
    "<head>\n",
    "<title> jQuery 로 구현한 (text / html) 뷰어 </title>\n",
    "<script src=\"http://code.jquery.com/jquery-3.2.1.js\"></script>\n",
    "<script>\n",
    "    $().ready(function(){\n",
    "        $('#btn1').click(function(){\n",
    "            var obj = $('#txt').val();         // .val()\n",
    "                      $('#view2').text(obj);   // .text(객체)\n",
    "        });\n",
    "        $('#btn2').click(function(){\n",
    "            var obj = $('#txt').val();         // .val()\n",
    "                      $('#view2').html(obj);   // .html(객체)\n",
    "        });\n",
    "    });\n",
    "</script>\n",
    "</head>\n",
    "<body>\n",
    "<input type=\"text\" id=\"txt\" size=\"50\" name=\"text\">\n",
    "<input type=\"button\" value=\"출력1\" id=\"btn1\">\n",
    "<input type=\"button\" value=\"출력2\" id=\"btn2\">\n",
    "<br><br><br>\n",
    "<div id=\"view2\"></div>\n",
    "</body>"
   ]
  },
  {
   "cell_type": "markdown",
   "metadata": {},
   "source": [
    "<br>\n",
    "## <strong>3. jQuery 에 관련한 Event 2\n",
    "1. <strong>.click()</strong> : 객체를 click시 실행함수\n",
    "1. <strong>.focus()</strong> : 객체 포커스를 받았을 때 실행함수\n",
    "1. <strong>.blur() </strong> : 객체 포커스를 잃었을 때 실행함수\n",
    "1. <strong>.addClass()</strong> : 선택된 요소에 하나 이상의 클래스를 추가\n",
    "1. <strong>.removeClass()</strong> : 선택된 요소에 하나 이상의 클래스를 삭제\n",
    "1. <strong>.hover()</strong> : 마우스가 요소에 올려졌을 때/ 벗어났을 때 호출\n",
    "1. <strong>.addClass()</strong> : 선택된 요소에 하나 이상의 클래스를 추가\n",
    "1. <strong>.removeClass()</strong> : 선택된 요소에 하나 이상의 클래스를 삭제"
   ]
  },
  {
   "cell_type": "code",
   "execution_count": 7,
   "metadata": {},
   "outputs": [
    {
     "data": {
      "text/html": [
       "<head>\n",
       "<title> Button 에 따른 Event 실행 </title>\n",
       "<script src=\"http://code.jquery.com/jquery-3.2.1.js\"></script>\n",
       "<script>\n",
       "    var obj = \"\";\n",
       "    $(document).ready(function(){\n",
       "        $('#btn1').click(function(){\n",
       "            obj = \"안녕하세요\";\n",
       "                  $(\"#result_btn\").text(obj);\n",
       "        });\n",
       "\n",
       "        $('#btn2').click(function(){\n",
       "            obj = \"<span style='font-size:25px; color:green; font-weight:bold;'>Thank You</span>\";\n",
       "                  $(\"#result_btn\").html(obj);\n",
       "        });\n",
       "    });\n",
       "</script>\n",
       "</head>\n",
       "<body>\n",
       "    <a id=\"btn1\" href=\"#\">버튼1</a><br><br>\n",
       "    <a id=\"btn2\" href=\"#\">버튼2</a><br><br>\n",
       "    <p id=\"result_btn\" class=\"container\"></p>\n",
       "</body>"
      ],
      "text/plain": [
       "<IPython.core.display.HTML object>"
      ]
     },
     "metadata": {},
     "output_type": "display_data"
    }
   ],
   "source": [
    "%%html\n",
    "<head>\n",
    "<title> Button 에 따른 Event 실행 </title>\n",
    "<script src=\"http://code.jquery.com/jquery-3.2.1.js\"></script>\n",
    "<script>\n",
    "    var obj = \"\";\n",
    "    $(document).ready(function(){\n",
    "        $('#btn1').click(function(){\n",
    "            obj = \"안녕하세요\";\n",
    "                  $(\"#result_btn\").text(obj);\n",
    "        });\n",
    "\n",
    "        $('#btn2').click(function(){\n",
    "            obj = \"<span style='font-size:25px; color:green; font-weight:bold;'>Thank You</span>\";\n",
    "                  $(\"#result_btn\").html(obj);\n",
    "        });\n",
    "    });\n",
    "</script>\n",
    "</head>\n",
    "<body>\n",
    "    <a id=\"btn1\" href=\"#\">버튼1</a><br><br>\n",
    "    <a id=\"btn2\" href=\"#\">버튼2</a><br><br>\n",
    "    <p id=\"result_btn\" class=\"container\"></p>\n",
    "</body>"
   ]
  },
  {
   "cell_type": "code",
   "execution_count": 8,
   "metadata": {},
   "outputs": [
    {
     "data": {
      "text/html": [
       "<head>\n",
       "    <title> focus / blur 이벤트의 실행 </title>\n",
       "    <script src=\"http://code.jquery.com/jquery-3.2.1.js\"></script>\n",
       "    <script>\n",
       "    var obj = \"\";\n",
       "    $().ready(function() {\n",
       "        $('#result_fb1>input').focus(function(){      // .focus() : 해당 객체의 focus On 의 경우 이벤트 실행 \n",
       "            $(this).css(\"background-color\",\"orange\");\n",
       "        });\n",
       "        $('#result_fb1>input').blur(function(){       // .blur() : 해당 객체의 focus Out 의 경우 이벤트 실행 \n",
       "            $(this).css(\"background-color\",\"white\");\n",
       "        });\n",
       "    });\n",
       "    </script>\n",
       "</head>\n",
       "<body>\n",
       "    <div id=\"result_fb1\">\n",
       "    이름 : <input type=\"text\" id=\"text\" placeholder=\"이름 입력하시오\"> <br> </div>\n",
       "</body>\n",
       "<div id=\"result_fb1\" class=\"container\"></div>"
      ],
      "text/plain": [
       "<IPython.core.display.HTML object>"
      ]
     },
     "metadata": {},
     "output_type": "display_data"
    }
   ],
   "source": [
    "%%html\n",
    "<head>\n",
    "    <title> focus / blur 이벤트의 실행 </title>\n",
    "    <script src=\"http://code.jquery.com/jquery-3.2.1.js\"></script>\n",
    "    <script>\n",
    "    var obj = \"\";\n",
    "    $().ready(function() {\n",
    "        $('#result_fb1>input').focus(function(){      // .focus() : 해당 객체의 focus On 의 경우 이벤트 실행 \n",
    "            $(this).css(\"background-color\",\"orange\");\n",
    "        });\n",
    "        $('#result_fb1>input').blur(function(){       // .blur() : 해당 객체의 focus Out 의 경우 이벤트 실행 \n",
    "            $(this).css(\"background-color\",\"white\");\n",
    "        });\n",
    "    });\n",
    "    </script>\n",
    "</head>\n",
    "<body>\n",
    "    <div id=\"result_fb1\">\n",
    "    이름 : <input type=\"text\" id=\"text\" placeholder=\"이름 입력하시오\"> <br> </div>\n",
    "</body>\n",
    "<div id=\"result_fb1\" class=\"container\"></div>"
   ]
  },
  {
   "cell_type": "code",
   "execution_count": 9,
   "metadata": {},
   "outputs": [
    {
     "data": {
      "text/html": [
       "<head>\n",
       "<title> focus / blur 이벤트를 CSS 구분하여 실행 </title>\n",
       "<script src=\"http://code.jquery.com/jquery-3.2.1.js\"></script>\n",
       "<style>\n",
       "    .back1{background-color: orange; }     // style을 미리 정의\n",
       "    .back2{background-color: white; }  \n",
       "</style>\n",
       "<script>\n",
       "    var obj = \"\";\n",
       "    $().ready(function() {\n",
       "        $('#result_fb2>input').focus(function(){\n",
       "            $(this).removeClass('back2');  // 기존의 클래스를 삭제해야 원상태가 적용(조금 번잡한 단점)\n",
       "            $(this).addClass('back1');\n",
       "        });\n",
       "        $('#result_fb2>input').blur(function(){\n",
       "            $(this).removeClass('back1');\n",
       "            $(this).addClass('back2');;\n",
       "        });\n",
       "   });\n",
       "    </script>\n",
       "</head>\n",
       "<body> \n",
       "<div id = \"result_fb2\">\n",
       "이름 : <input type=\"text\" id=\"text\" placeholder=\"이름 입력하시오\"><br></div>\n",
       "<div id=\"result\" class=\"container\"></div>\n",
       "</body>"
      ],
      "text/plain": [
       "<IPython.core.display.HTML object>"
      ]
     },
     "metadata": {},
     "output_type": "display_data"
    }
   ],
   "source": [
    "%%html\n",
    "<head>\n",
    "<title> focus / blur 이벤트를 CSS 구분하여 실행 </title>\n",
    "<script src=\"http://code.jquery.com/jquery-3.2.1.js\"></script>\n",
    "<style>\n",
    "    .back1{background-color: orange; }     // style을 미리 정의\n",
    "    .back2{background-color: white; }  \n",
    "</style>\n",
    "<script>\n",
    "    var obj = \"\";\n",
    "    $().ready(function() {\n",
    "        $('#result_fb2>input').focus(function(){\n",
    "            $(this).removeClass('back2');  // 기존의 클래스를 삭제해야 원상태가 적용(조금 번잡한 단점)\n",
    "            $(this).addClass('back1');\n",
    "        });\n",
    "        $('#result_fb2>input').blur(function(){\n",
    "            $(this).removeClass('back1');\n",
    "            $(this).addClass('back2');;\n",
    "        });\n",
    "   });\n",
    "    </script>\n",
    "</head>\n",
    "<body> \n",
    "<div id = \"result_fb2\">\n",
    "이름 : <input type=\"text\" id=\"text\" placeholder=\"이름 입력하시오\"><br></div>\n",
    "<div id=\"result\" class=\"container\"></div>\n",
    "</body>"
   ]
  },
  {
   "cell_type": "code",
   "execution_count": 10,
   "metadata": {},
   "outputs": [
    {
     "data": {
      "text/html": [
       "<head>\n",
       "<title> 로그인 메뉴박스의 focus / blur 이벤트 </title>\n",
       "<script src=\"http://code.jquery.com/jquery-3.2.1.js\"></script>\n",
       "<script>\n",
       "    $(document).ready(function (){\n",
       "        $('#result>input').focus(function(){\n",
       "            $(this).css(\"background-color\",\"#EAEAEA\");\n",
       "        });\t\n",
       "        $('#result>input').blur(function(){\n",
       "            $(this).css(\"background-color\",\"#FFF\");\n",
       "        });\n",
       "        $('#result>#login').click(function(){\n",
       "            var id = $('#id').val();\n",
       "            var pw = $('#pw').val();\n",
       "            alert(\"아이디:\" + id + \"  비밀번호 :\" + pw);\n",
       "        })\n",
       "    });\n",
       "</script>\n",
       "</head>\n",
       "<body>\n",
       "  <div id=\"result\"  class=\"container\">\n",
       "    <input type=\"text\" id=\"id\" placeholder=\"아이디\"><br>\n",
       "    <input type=\"text\" id=\"pw\" placeholder=\"비밀번호 \">\n",
       "    <button id=\"login\">로그인</button>\n",
       "  </div>\n",
       "</body>"
      ],
      "text/plain": [
       "<IPython.core.display.HTML object>"
      ]
     },
     "metadata": {},
     "output_type": "display_data"
    }
   ],
   "source": [
    "%%html\n",
    "<head>\n",
    "<title> 로그인 메뉴박스의 focus / blur 이벤트 </title>\n",
    "<script src=\"http://code.jquery.com/jquery-3.2.1.js\"></script>\n",
    "<script>\n",
    "    $(document).ready(function (){\n",
    "        $('#result>input').focus(function(){\n",
    "            $(this).css(\"background-color\",\"#EAEAEA\");\n",
    "        });\t\n",
    "        $('#result>input').blur(function(){\n",
    "            $(this).css(\"background-color\",\"#FFF\");\n",
    "        });\n",
    "        $('#result>#login').click(function(){\n",
    "            var id = $('#id').val();\n",
    "            var pw = $('#pw').val();\n",
    "            alert(\"아이디:\" + id + \"  비밀번호 :\" + pw);\n",
    "        })\n",
    "    });\n",
    "</script>\n",
    "</head>\n",
    "<body>\n",
    "  <div id=\"result\"  class=\"container\">\n",
    "    <input type=\"text\" id=\"id\" placeholder=\"아이디\"><br>\n",
    "    <input type=\"text\" id=\"pw\" placeholder=\"비밀번호 \">\n",
    "    <button id=\"login\">로그인</button>\n",
    "  </div>\n",
    "</body>"
   ]
  },
  {
   "cell_type": "code",
   "execution_count": 11,
   "metadata": {},
   "outputs": [
    {
     "data": {
      "text/html": [
       "<head>\n",
       "<title> 객체 선택에 따른 Style의 변화 </title>\n",
       "<script src=\"http://code.jquery.com/jquery-3.2.1.js\"></script>\n",
       "<style>\n",
       ".highlight_red {\n",
       "    background-color: yellow;\n",
       "    color: red;}\n",
       "</style>\n",
       "<script>\n",
       "$(document).ready(function() {\n",
       "    $('#animals>p').hover(function(){                  // .hover():마우스가 요소에 올려졌을 때/ 벗어났을 때 호출\n",
       "        $(this).addClass('highlight_red');    // .addClass():선택된 요소에 하나 이상의 클래스를 추가\n",
       "        }, function(){\n",
       "        $(this).removeClass('highlight_red'); // .removeClass():선택된 요소에 하나 이상의 클래스를 삭제\n",
       "    })\n",
       "});\n",
       "</script>\n",
       "</head>\n",
       "<body>\n",
       "    <div id=\"animals\">\n",
       "    <p>고양이</p> <p>강아지</p> <p>고라니</p> <p>원숭이</p> </div>\n",
       "</body>"
      ],
      "text/plain": [
       "<IPython.core.display.HTML object>"
      ]
     },
     "metadata": {},
     "output_type": "display_data"
    }
   ],
   "source": [
    "%%html\n",
    "<head>\n",
    "<title> 객체 선택에 따른 Style의 변화 </title>\n",
    "<script src=\"http://code.jquery.com/jquery-3.2.1.js\"></script>\n",
    "<style>\n",
    ".highlight_red {\n",
    "    background-color: yellow;\n",
    "    color: red;}\n",
    "</style>\n",
    "<script>\n",
    "$(document).ready(function() {\n",
    "    $('#animals>p').hover(function(){                  // .hover():마우스가 요소에 올려졌을 때/ 벗어났을 때 호출\n",
    "        $(this).addClass('highlight_red');    // .addClass():선택된 요소에 하나 이상의 클래스를 추가\n",
    "        }, function(){\n",
    "        $(this).removeClass('highlight_red'); // .removeClass():선택된 요소에 하나 이상의 클래스를 삭제\n",
    "    })\n",
    "});\n",
    "</script>\n",
    "</head>\n",
    "<body>\n",
    "    <div id=\"animals\">\n",
    "    <p>고양이</p> <p>강아지</p> <p>고라니</p> <p>원숭이</p> </div>\n",
    "</body>"
   ]
  },
  {
   "cell_type": "code",
   "execution_count": 12,
   "metadata": {},
   "outputs": [
    {
     "data": {
      "text/html": [
       "<head>\n",
       "<title> Document</title>\n",
       "<script src=\"http://code.jquery.com/jquery-3.2.1.js\"></script>\n",
       "<style>\n",
       ".important {\n",
       "    font-weight: bold;\n",
       "    font-size: xx-large;}\n",
       ".blue {\n",
       "    color: blue;}\n",
       "</style>\n",
       "<script>\n",
       "$(document).ready(function(){\n",
       "    $('#chg_style>button').click(function(){\n",
       "        $('#chg_style h1, h2, p').addClass('blue');\n",
       "        $('#chg_style div').addClass('important')\n",
       "    });\t\n",
       "});\n",
       "</script>\n",
       "</head>\n",
       "<body>\n",
       "    <div id=\"chg_style\">\n",
       "    <h1>Heading 1</h1>\n",
       "    <h2>Heading 2</h2>\n",
       "    <p>This is a paragraph.</p>\n",
       "    <p>This is another paragraph.</p>\n",
       "    <div>This is some important text!</div><br>\n",
       "    <button>Add classes to elements</button>\n",
       "    </div>\n",
       "</body>"
      ],
      "text/plain": [
       "<IPython.core.display.HTML object>"
      ]
     },
     "metadata": {},
     "output_type": "display_data"
    }
   ],
   "source": [
    "%%html\n",
    "<head>\n",
    "<title> Document</title>\n",
    "<script src=\"http://code.jquery.com/jquery-3.2.1.js\"></script>\n",
    "<style>\n",
    ".important {\n",
    "    font-weight: bold;\n",
    "    font-size: xx-large;}\n",
    ".blue {\n",
    "    color: blue;}\n",
    "</style>\n",
    "<script>\n",
    "$(document).ready(function(){\n",
    "    $('#chg_style>button').click(function(){\n",
    "        $('#chg_style h1, h2, p').addClass('blue');\n",
    "        $('#chg_style div').addClass('important')\n",
    "    });\t\n",
    "});\n",
    "</script>\n",
    "</head>\n",
    "<body>\n",
    "    <div id=\"chg_style\">\n",
    "    <h1>Heading 1</h1>\n",
    "    <h2>Heading 2</h2>\n",
    "    <p>This is a paragraph.</p>\n",
    "    <p>This is another paragraph.</p>\n",
    "    <div>This is some important text!</div><br>\n",
    "    <button>Add classes to elements</button>\n",
    "    </div>\n",
    "</body>"
   ]
  },
  {
   "cell_type": "markdown",
   "metadata": {},
   "source": [
    "<br>\n",
    "## <strong>4. jQuery 를 활용한 Mouse Events\n",
    "1. <strong>animate( properties, speed, easing, callback )</strong> : 요소를 이동시켜준다\n",
    "     1. <strong>properties</strong> : 속성\n",
    "     1. <strong>speed</strong> : 진행 시간 milliseconds  또는 slow, normal, fast 문자열\n",
    "     1. <strong>easing</strong> : 애니메이션이 어떻게 진행될지를 제어하는 기능을 제공하는 선택사항\n",
    "     1. <strong>callback</strong> : 애니메이션이 끝나고 실행되는 메소드\n",
    "1. <strong>.attr()</strong> : 요소의 속성을 반환\n",
    "1. <strong>.mouseover()</strong> : 대상에서  마우스 커서가 움직였을 때\n",
    "1. <strong>.mouseout()</strong> :대상에서 마우스가 벗어 났을 때\n",
    "1. <strong>.mouseup()</strong> :마우스 버튼을 놓는 순간\n",
    "1. <strong>.mousedown()</strong> :마우스 버튼을 누른 순간\n",
    "1. <strong>.mousemove()</strong> :대상에서  마우스 커서가 움직였을 때\n",
    "1. <strong>.mouseenter()</strong> : 요소에서 마우스를 클리할 때 \n",
    "1. <strong>.mouseleave()</strong> : 요소에서 마우스가 떠났을 때"
   ]
  },
  {
   "cell_type": "code",
   "execution_count": 13,
   "metadata": {},
   "outputs": [
    {
     "data": {
      "text/html": [
       "<head>\n",
       "<title>Document</title>\n",
       "<script src=\"http://code.jquery.com/jquery-3.2.1.js\"></script>\n",
       "<script>\n",
       "    $(function() {\n",
       "        $('#animation>button.first').click(function() {\n",
       "            $('#animation>p').animate({\n",
       "                marginLeft:\"200px\",\n",
       "                fontSize:\"50px\",\n",
       "            }, 1000);\n",
       "        });\n",
       "        $('#animation>button.second').click(function() {\n",
       "            $('#animation>p').animate({\n",
       "                marginLeft:\"\",\n",
       "                fontSize:\"12px\",\n",
       "            }, 1000);\n",
       "        });\n",
       "    });\n",
       "</script>\n",
       "</head>\n",
       "<body>\n",
       "    <div id=\"animation\">\n",
       "    <p>좋은 하루 되세요</p>\n",
       "    <button class=\"first\">출발</button>\n",
       "    <button class=\"second\">도착</button></div>\n",
       "</body>"
      ],
      "text/plain": [
       "<IPython.core.display.HTML object>"
      ]
     },
     "metadata": {},
     "output_type": "display_data"
    }
   ],
   "source": [
    "%%html\n",
    "<head>\n",
    "<title>Document</title>\n",
    "<script src=\"http://code.jquery.com/jquery-3.2.1.js\"></script>\n",
    "<script>\n",
    "    $(function() {\n",
    "        $('#animation>button.first').click(function() {\n",
    "            $('#animation>p').animate({\n",
    "                marginLeft:\"200px\",\n",
    "                fontSize:\"50px\",\n",
    "            }, 1000);\n",
    "        });\n",
    "        $('#animation>button.second').click(function() {\n",
    "            $('#animation>p').animate({\n",
    "                marginLeft:\"\",\n",
    "                fontSize:\"12px\",\n",
    "            }, 1000);\n",
    "        });\n",
    "    });\n",
    "</script>\n",
    "</head>\n",
    "<body>\n",
    "    <div id=\"animation\">\n",
    "    <p>좋은 하루 되세요</p>\n",
    "    <button class=\"first\">출발</button>\n",
    "    <button class=\"second\">도착</button></div>\n",
    "</body>"
   ]
  },
  {
   "cell_type": "code",
   "execution_count": 14,
   "metadata": {},
   "outputs": [
    {
     "data": {
      "text/html": [
       "<head>\n",
       "    <meta charset=\"UTF-8\">\n",
       "    <title> .mouseover() 를 활용한 마우스 이벤트 </title>\n",
       "    <script src=\"http://code.jquery.com/jquery-3.2.1.js\"></script>\n",
       "    <script>\n",
       "    $(document).ready(function() {\n",
       "        $('#coffee>img').mouseover(function() {  // .mouseover() : 대상에서 마우스 커서가 움직였을 때 이벤트를 실행\n",
       "            $(this).attr('src', 'https://globalassets.starbucks.com/assets/2a4807223b53455b89f792b5e25ce89e.jpg');\n",
       "        })                                       // { block } 사이의 ';' 를 제거하면 $('#coffee>img') 를 공유한다\n",
       "        .mouseout(function() {\n",
       "            $(this).attr('src', 'http://www.eatouteatwell.com/wp-content/uploads/2010/10/cup-of-latte.jpg?x33491');\n",
       "        });\n",
       "    });\n",
       "    </script>\n",
       "</head>\n",
       "<body>\n",
       "    <div id = \"coffee\">\n",
       "    <img src = \"http://www.eatouteatwell.com/wp-content/uploads/2010/10/cup-of-latte.jpg?x33491\"></div>\n",
       "</body>"
      ],
      "text/plain": [
       "<IPython.core.display.HTML object>"
      ]
     },
     "metadata": {},
     "output_type": "display_data"
    }
   ],
   "source": [
    "%%html\n",
    "<head>\n",
    "    <meta charset=\"UTF-8\">\n",
    "    <title> .mouseover() 를 활용한 마우스 이벤트 </title>\n",
    "    <script src=\"http://code.jquery.com/jquery-3.2.1.js\"></script>\n",
    "    <script>\n",
    "    $(document).ready(function() {\n",
    "        $('#coffee>img').mouseover(function() {  // .mouseover() : 대상에서 마우스 커서가 움직였을 때 이벤트를 실행\n",
    "            $(this).attr('src', 'https://globalassets.starbucks.com/assets/2a4807223b53455b89f792b5e25ce89e.jpg');\n",
    "        })                                       // { block } 사이의 ';' 를 제거하면 $('#coffee>img') 를 공유한다\n",
    "        .mouseout(function() {\n",
    "            $(this).attr('src', 'http://www.eatouteatwell.com/wp-content/uploads/2010/10/cup-of-latte.jpg?x33491');\n",
    "        });\n",
    "    });\n",
    "    </script>\n",
    "</head>\n",
    "<body>\n",
    "    <div id = \"coffee\">\n",
    "    <img src = \"http://www.eatouteatwell.com/wp-content/uploads/2010/10/cup-of-latte.jpg?x33491\"></div>\n",
    "</body>"
   ]
  },
  {
   "cell_type": "code",
   "execution_count": 15,
   "metadata": {},
   "outputs": [
    {
     "data": {
      "text/html": [
       "<head>\n",
       "<title> .hover() 를 활용한 마우스 이벤트 : this 등을 활용하면 더 간결한 코드가 가능하다 </title>\n",
       "<script src=\"http://code.jquery.com/jquery-3.2.1.js\"></script>\n",
       "<script>\n",
       "$(document).ready(function() {\n",
       "    $('#coffee2>img').hover(function() {\n",
       "        $(this).attr('src', 'http://www.eatouteatwell.com/wp-content/uploads/2010/10/cup-of-latte.jpg?x33491');\n",
       "    }, function(){\n",
       "        $(this).attr('src', 'https://globalassets.starbucks.com/assets/2a4807223b53455b89f792b5e25ce89e.jpg');\n",
       "    });\n",
       "});\n",
       "</script>\n",
       "</head>\n",
       "<body>\n",
       "    <div id=\"coffee2\">\n",
       "    <img src=\"https://globalassets.starbucks.com/assets/2a4807223b53455b89f792b5e25ce89e.jpg\"></div>\n",
       "</body>"
      ],
      "text/plain": [
       "<IPython.core.display.HTML object>"
      ]
     },
     "metadata": {},
     "output_type": "display_data"
    }
   ],
   "source": [
    "%%html\n",
    "<head>\n",
    "<title> .hover() 를 활용한 마우스 이벤트 : this 등을 활용하면 더 간결한 코드가 가능하다 </title>\n",
    "<script src=\"http://code.jquery.com/jquery-3.2.1.js\"></script>\n",
    "<script>\n",
    "$(document).ready(function() {\n",
    "    $('#coffee2>img').hover(function() {\n",
    "        $(this).attr('src', 'http://www.eatouteatwell.com/wp-content/uploads/2010/10/cup-of-latte.jpg?x33491');\n",
    "    }, function(){\n",
    "        $(this).attr('src', 'https://globalassets.starbucks.com/assets/2a4807223b53455b89f792b5e25ce89e.jpg');\n",
    "    });\n",
    "});\n",
    "</script>\n",
    "</head>\n",
    "<body>\n",
    "    <div id=\"coffee2\">\n",
    "    <img src=\"https://globalassets.starbucks.com/assets/2a4807223b53455b89f792b5e25ce89e.jpg\"></div>\n",
    "</body>"
   ]
  },
  {
   "cell_type": "code",
   "execution_count": 16,
   "metadata": {},
   "outputs": [
    {
     "data": {
      "text/html": [
       "<head>\n",
       "<title> .on('Event', function(){  }) </title>\n",
       "<script src=\"http://code.jquery.com/jquery-3.2.1.js\"></script>\n",
       "<script>\n",
       "$(document).ready(function(){\n",
       "    $('#click_event1').on('mouseenter', function(){   // .mouseenter() 를 함수와 묶음처리\n",
       "        $(this).css(\"background-color\",'lightgray');\n",
       "    });\n",
       "    $('#click_event1').on('mouseleave', function(){   // .mouseleave() 를 함수와 묶음처리\n",
       "        $(this).css(\"background-color\",'lightblue');\n",
       "    });\n",
       "    $('#click_event1').on('click',function(){         // .click() 를 함수와 묶음처리\n",
       "        $(this).css(\"background-color\",'lightyellow');\n",
       "    });\n",
       "}); \n",
       "</script>\n",
       "<body>\n",
       "    <p id = \"click_event1\">Click or move the mouse pointer over this paragraph.</p>\n",
       "</body>"
      ],
      "text/plain": [
       "<IPython.core.display.HTML object>"
      ]
     },
     "metadata": {},
     "output_type": "display_data"
    }
   ],
   "source": [
    "%%html\n",
    "<head>\n",
    "<title> .on('Event', function(){  }) </title>\n",
    "<script src=\"http://code.jquery.com/jquery-3.2.1.js\"></script>\n",
    "<script>\n",
    "$(document).ready(function(){\n",
    "    $('#click_event1').on('mouseenter', function(){   // .mouseenter() 를 함수와 묶음처리\n",
    "        $(this).css(\"background-color\",'lightgray');\n",
    "    });\n",
    "    $('#click_event1').on('mouseleave', function(){   // .mouseleave() 를 함수와 묶음처리\n",
    "        $(this).css(\"background-color\",'lightblue');\n",
    "    });\n",
    "    $('#click_event1').on('click',function(){         // .click() 를 함수와 묶음처리\n",
    "        $(this).css(\"background-color\",'lightyellow');\n",
    "    });\n",
    "}); \n",
    "</script>\n",
    "<body>\n",
    "    <p id = \"click_event1\">Click or move the mouse pointer over this paragraph.</p>\n",
    "</body>"
   ]
  },
  {
   "cell_type": "code",
   "execution_count": 17,
   "metadata": {},
   "outputs": [
    {
     "data": {
      "text/html": [
       "<head>\n",
       "<title> .on('Event', function(){  })  JSON type </title>\n",
       "<script src=\"http://code.jquery.com/jquery-3.2.1.js\"></script>\n",
       "<script>\n",
       "$(document).ready(function(){\n",
       "    $('#text>p').on({   mouseenter : function(){\n",
       "                $(this).css(\"background-color\",'lightgray');\n",
       "               }, mouseleave : function(){\n",
       "                $(this).css(\"background-color\",'lightblue');\n",
       "               }, click : function(){\n",
       "                $(this).css(\"background-color\",'lightyellow');\n",
       "               }\n",
       "     });\n",
       "});\n",
       "</script>\n",
       "<body>\n",
       "    <div id=\"text\">\n",
       "    <p id=\"click_event2\">Click or move the mouse pointer over this paragraph.</p></div>\n",
       "</body>"
      ],
      "text/plain": [
       "<IPython.core.display.HTML object>"
      ]
     },
     "metadata": {},
     "output_type": "display_data"
    }
   ],
   "source": [
    "%%html\n",
    "<head>\n",
    "<title> .on('Event', function(){  })  JSON type </title>\n",
    "<script src=\"http://code.jquery.com/jquery-3.2.1.js\"></script>\n",
    "<script>\n",
    "$(document).ready(function(){\n",
    "    $('#text>p').on({   mouseenter : function(){\n",
    "                $(this).css(\"background-color\",'lightgray');\n",
    "               }, mouseleave : function(){\n",
    "                $(this).css(\"background-color\",'lightblue');\n",
    "               }, click : function(){\n",
    "                $(this).css(\"background-color\",'lightyellow');\n",
    "               }\n",
    "     });\n",
    "});\n",
    "</script>\n",
    "<body>\n",
    "    <div id=\"text\">\n",
    "    <p id=\"click_event2\">Click or move the mouse pointer over this paragraph.</p></div>\n",
    "</body>"
   ]
  },
  {
   "cell_type": "code",
   "execution_count": 18,
   "metadata": {},
   "outputs": [
    {
     "data": {
      "text/html": [
       "<head>\n",
       "<title> jQuery 구문을 Chain 형식으로 서술하기 </title>\n",
       "<script src=\"http://code.jquery.com/jquery-3.2.1.js\"></script>\n",
       "<script>\n",
       "$(document).ready(function(){\n",
       "    $(\"#jQChain>button\").click(function(){      // (실행조건)\n",
       "        $('#jQChain>#p1').css(\"color\",\"red\")    // (실행내용) 1.style 변경\n",
       "                .slideUp(1000)                  //          2.slide UP/Down\n",
       "                .slideDown(1000);\n",
       "    });\n",
       "});\n",
       "</script>\n",
       "</head>\n",
       "<body>\n",
       "<div id = \"jQChain\">\n",
       "    <p id=\"p1\">jQuery is fun!!</p>\n",
       "    <button>Click me</button></div>\n",
       "</body>\n",
       "</html>"
      ],
      "text/plain": [
       "<IPython.core.display.HTML object>"
      ]
     },
     "metadata": {},
     "output_type": "display_data"
    }
   ],
   "source": [
    "%%html\n",
    "<head>\n",
    "<title> jQuery 구문을 Chain 형식으로 서술하기 </title>\n",
    "<script src=\"http://code.jquery.com/jquery-3.2.1.js\"></script>\n",
    "<script>\n",
    "$(document).ready(function(){\n",
    "    $(\"#jQChain>button\").click(function(){      // (실행조건)\n",
    "        $('#jQChain>#p1').css(\"color\",\"red\")    // (실행내용) 1.style 변경\n",
    "                .slideUp(1000)                  //          2.slide UP/Down\n",
    "                .slideDown(1000);\n",
    "    });\n",
    "});\n",
    "</script>\n",
    "</head>\n",
    "<body>\n",
    "<div id = \"jQChain\">\n",
    "    <p id=\"p1\">jQuery is fun!!</p>\n",
    "    <button>Click me</button></div>\n",
    "</body>\n",
    "</html>"
   ]
  },
  {
   "cell_type": "markdown",
   "metadata": {},
   "source": [
    "<br>\n",
    "## <strong>5. jQuery 를 활용한 KeyBoard Events\n",
    "1. <strong>.keyup() </strong> : 키보드서 손을 <strong>떼어냈을 때</strong> 실행\n",
    "1. <strong>.keydown()</strong> : 키보드를 <strong>눌렀을 때</strong> 한번 만 실행\n",
    "1. <strong>.keypress()</strong> : <strong>키 입력 시 발생</strong>, 키보드를 누르고 있을 때 계속 실행됨\n",
    "1. <strong>.each(function){&nbsp;&nbsp;&nbsp;}</strong> : .each()는 요소가 여럿일떄 <strong>개별 객체마다 함수를 실행</strong> (반복작업에서 빠져나오려면 <strong>return false</strong>를 사용)"
   ]
  },
  {
   "cell_type": "code",
   "execution_count": 19,
   "metadata": {},
   "outputs": [
    {
     "data": {
      "text/html": [
       "<head>\n",
       "<title> input 박스에서 이벤트 구현하기 (keyBoard 이벤트 중심으로) </title>\n",
       "<script src=\"http://code.jquery.com/jquery-3.2.1.js\"></script>\n",
       "<script>\n",
       "$(document).ready(function(){\n",
       "    $(\"#key_event>input\").keydown(function(){\n",
       "    \t$('input').css(\"background-color\",\"yellow\");\n",
       "    });\n",
       "    $(\"#key_event>input\").keyup(function(){\n",
       "       $('input').css(\"background-color\",\"green\");\n",
       "    });\n",
       "});\n",
       "</script>\n",
       "</head>\n",
       "<body>\n",
       "<div id=\"key_event\">\n",
       "Enter your name: <input type=\"text\"></div>\n",
       "</body>"
      ],
      "text/plain": [
       "<IPython.core.display.HTML object>"
      ]
     },
     "metadata": {},
     "output_type": "display_data"
    }
   ],
   "source": [
    "%%html\n",
    "<head>\n",
    "<title> input 박스에서 이벤트 구현하기 (keyBoard 이벤트 중심으로) </title>\n",
    "<script src=\"http://code.jquery.com/jquery-3.2.1.js\"></script>\n",
    "<script>\n",
    "$(document).ready(function(){\n",
    "    $(\"#key_event>input\").keydown(function(){\n",
    "    \t$('input').css(\"background-color\",\"yellow\");\n",
    "    });\n",
    "    $(\"#key_event>input\").keyup(function(){\n",
    "       $('input').css(\"background-color\",\"green\");\n",
    "    });\n",
    "});\n",
    "</script>\n",
    "</head>\n",
    "<body>\n",
    "<div id=\"key_event\">\n",
    "Enter your name: <input type=\"text\"></div>\n",
    "</body>"
   ]
  },
  {
   "cell_type": "code",
   "execution_count": 20,
   "metadata": {},
   "outputs": [
    {
     "data": {
      "text/html": [
       "<head>\n",
       "<title> input 박스의 \"사용가능한 아이디\" 확인 </title>\n",
       "<script src=\"http://code.jquery.com/jquery-3.2.1.js\"></script>\n",
       "<script>\n",
       "var id = \"admin\" , in_data = \"\";\n",
       "$().ready(function(){\n",
       "    $('#key_event2').keyup(function(){    //event 를 특정한 뒤\n",
       "        in_data = $('#key_event2').val();\n",
       "        if (id == in_data){       //결과값을 정의한다\n",
       "            $('#confirm_id').html(\"사용할수 없는 아이디 입니다\").css(\"color\",\"red\")\n",
       "        }else{\n",
       "            $('#confirm_id').html(\"가능한 아이디 입니다\").css(\"color\",\"green\")\n",
       "        };\n",
       "    });\n",
       "});\n",
       "</script>\n",
       "</head>\n",
       "<body>\n",
       "    <label>아이디:</label>\n",
       "    <input type=\"text\" id=\"key_event2\">\n",
       "    <span id=\"confirm_id\">아이디를 입력하시오</span>\n",
       "</body>"
      ],
      "text/plain": [
       "<IPython.core.display.HTML object>"
      ]
     },
     "metadata": {},
     "output_type": "display_data"
    }
   ],
   "source": [
    "%%html\n",
    "<head>\n",
    "<title> input 박스의 \"사용가능한 아이디\" 확인 </title>\n",
    "<script src=\"http://code.jquery.com/jquery-3.2.1.js\"></script>\n",
    "<script>\n",
    "var id = \"admin\" , in_data = \"\";\n",
    "$().ready(function(){\n",
    "    $('#key_event2').keyup(function(){    //event 를 특정한 뒤\n",
    "        in_data = $('#key_event2').val();\n",
    "        if (id == in_data){       //결과값을 정의한다\n",
    "            $('#confirm_id').html(\"사용할수 없는 아이디 입니다\").css(\"color\",\"red\")\n",
    "        }else{\n",
    "            $('#confirm_id').html(\"가능한 아이디 입니다\").css(\"color\",\"green\")\n",
    "        };\n",
    "    });\n",
    "});\n",
    "</script>\n",
    "</head>\n",
    "<body>\n",
    "    <label>아이디:</label>\n",
    "    <input type=\"text\" id=\"key_event2\">\n",
    "    <span id=\"confirm_id\">아이디를 입력하시오</span>\n",
    "</body>"
   ]
  },
  {
   "cell_type": "code",
   "execution_count": 21,
   "metadata": {},
   "outputs": [
    {
     "data": {
      "text/html": [
       "<head>\n",
       "<title>Insert title here</title>\n",
       "<style type=\"text/css\">\n",
       "\t.s1{color:red;}\n",
       "\t.s2{color:blue;}\n",
       "\t.s3{color:green;}\n",
       "\t.s4{color:brown;}\n",
       "</style>\n",
       "<script src=\"http://code.jquery.com/jquery-3.2.1.js\"></script>\n",
       "<script>\n",
       "var i = 1;\n",
       "$(document).ready(function(){\n",
       "    $('#palette>p').each(function(){  // .each() : p tag 객체가 여럿일 떄\n",
       "        $(this).addClass('s'+ i);     // css) .s1 .s2.. 클래스를 추가 (i는 객체를 반복시 마다 1씩 증가)\n",
       "        i++;\n",
       "        if (i == 3){                  // 1, 2 까지만 실행 후, 3에선 빠져 나온다\n",
       "            return false;           \n",
       "        }\n",
       "    });\n",
       "});\n",
       "</script>\n",
       "</head>\n",
       "<body>\n",
       "    <div id=\"palette\"><p>빨강</p><p>파랑</p><p>초록</p><p>갈색</p></div>\n",
       "</body>"
      ],
      "text/plain": [
       "<IPython.core.display.HTML object>"
      ]
     },
     "metadata": {},
     "output_type": "display_data"
    }
   ],
   "source": [
    "%%html\n",
    "<head>\n",
    "<title>Insert title here</title>\n",
    "<style type=\"text/css\">\n",
    "\t.s1{color:red;}\n",
    "\t.s2{color:blue;}\n",
    "\t.s3{color:green;}\n",
    "\t.s4{color:brown;}\n",
    "</style>\n",
    "<script src=\"http://code.jquery.com/jquery-3.2.1.js\"></script>\n",
    "<script>\n",
    "var i = 1;\n",
    "$(document).ready(function(){\n",
    "    $('#palette>p').each(function(){  // .each() : p tag 객체가 여럿일 떄\n",
    "        $(this).addClass('s'+ i);     // css) .s1 .s2.. 클래스를 추가 (i는 객체를 반복시 마다 1씩 증가)\n",
    "        i++;\n",
    "        if (i == 3){                  // 1, 2 까지만 실행 후, 3에선 빠져 나온다\n",
    "            return false;           \n",
    "        }\n",
    "    });\n",
    "});\n",
    "</script>\n",
    "</head>\n",
    "<body>\n",
    "    <div id=\"palette\"><p>빨강</p><p>파랑</p><p>초록</p><p>갈색</p></div>\n",
    "</body>"
   ]
  },
  {
   "cell_type": "markdown",
   "metadata": {},
   "source": [
    "<br>\n",
    "## <strong>6. jQuery 를 활용한 JSON 객체 다루기\n",
    "1. <strong>JSON (JavaScript Object Notation)</strong>\n",
    "    1. 인터넷에서 자료를 주고 받을 때 자료를 표현하는 방법이다\n",
    "    2. 자료종류는 제한이 없고, key / value쌍으로 표현 된다\n",
    "    3. C,자바, 자바스크립트 등 많은 언어에서 사용된다\n",
    "1. <strong>JSON 장점</strong>\n",
    "    1. 텍스트로 만들어져 사람과 기계가 읽고 쓰기 쉽다\n",
    "    2. 서로 다른 시스템에서 데이터 교환이 쉽다.\n",
    "    3. 자바스크립트를 사용하는 웹 환경에서 유리하다\n",
    "1. <strong>형식</strong>\n",
    "    1. 객체의 경우 : {\"name\":\"진달래\", \"age\":\"20\"}\n",
    "    1. 배열의 경우 : [{\"name\":\"진달래\", \"age\":\"20\"},{\"name\":\"민들래\", \"age\":\"25\"},{\"name\":\"개나리\", \"age\":\"12\"}]\n",
    "1. <strong>JSON.stringify()</strong> : 자바스크립트 객체를 Json으로 변환\n",
    "1. <strong>JSON.parse()</strong>    : JSON 문자열을 자바스크립트 객체로 변환"
   ]
  },
  {
   "cell_type": "code",
   "execution_count": 22,
   "metadata": {},
   "outputs": [
    {
     "data": {
      "text/html": [
       "<head>\n",
       "<title> jQuery JSON Object 객체 표기법 </title>\n",
       "<script src=\"http://code.jquery.com/jquery-3.2.1.js\"></script>\n",
       "<script>\n",
       "$(document).ready(function(){\n",
       "    var emp={\"name\":\"강호동\",   \"age\":25, \n",
       "             \"tel\":\"111-1111\", \"address\":\"서울\"};\n",
       "    var msg=\"\";\n",
       "    msg += \"이름:\" + emp.name       + \"<br>\"  // 형식) 객체명.key이름 or 객체명['key이름']\n",
       "         + \"나이:\" + emp.age        + \"<br>\"\n",
       "         + \"전화:\" + emp['tel']     + \"<br>\"\n",
       "         + \"주소:\" + emp['address'] + \"<br>\"\n",
       "    $('#result_jq_json').html(msg);    \n",
       "});\n",
       "</script>\n",
       "</head>\n",
       "<body>\n",
       "    <h2>JSON표기법</h2>\n",
       "    <div id=\"result_jq_json\"></div>\n",
       "</body>"
      ],
      "text/plain": [
       "<IPython.core.display.HTML object>"
      ]
     },
     "metadata": {},
     "output_type": "display_data"
    }
   ],
   "source": [
    "%%html\n",
    "<head>\n",
    "<title> jQuery JSON Object 객체 표기법 </title>\n",
    "<script src=\"http://code.jquery.com/jquery-3.2.1.js\"></script>\n",
    "<script>\n",
    "$(document).ready(function(){\n",
    "    var emp={\"name\":\"강호동\",   \"age\":25, \n",
    "             \"tel\":\"111-1111\", \"address\":\"서울\"};\n",
    "    var msg=\"\";\n",
    "    msg += \"이름:\" + emp.name       + \"<br>\"  // 형식) 객체명.key이름 or 객체명['key이름']\n",
    "         + \"나이:\" + emp.age        + \"<br>\"\n",
    "         + \"전화:\" + emp['tel']     + \"<br>\"\n",
    "         + \"주소:\" + emp['address'] + \"<br>\"\n",
    "    $('#result_jq_json').html(msg);    \n",
    "});\n",
    "</script>\n",
    "</head>\n",
    "<body>\n",
    "    <h2>JSON표기법</h2>\n",
    "    <div id=\"result_jq_json\"></div>\n",
    "</body>"
   ]
  },
  {
   "cell_type": "code",
   "execution_count": 23,
   "metadata": {},
   "outputs": [
    {
     "data": {
      "text/html": [
       "<head>\n",
       "<title> Json 배열(Array) 방식으로 입력 </title>\n",
       "<script src=\"http://code.jquery.com/jquery-3.2.1.js\"></script>\n",
       "<script>\n",
       "$(document).ready(function(){\n",
       "    var emp = [{\"name\":\"kim\",  \"age\":30},\n",
       "               {\"name\":\"lee\",  \"age\":40},\n",
       "               {\"name\":\"park\", \"age\":20}];\n",
       "    var msg=\"\";\n",
       "    msg += \"이름 : \" + emp[0].name + \"<br>나이 : \" + emp[0].age + \"<br><br>\";\n",
       "    msg += \"이름 : \" + emp[1].name + \"<br>나이 : \" + emp[1].age + \"<br><br>\";\n",
       "    msg += \"이름 : \" + emp[2].name + \"<br>나이 : \" + emp[2].age;\n",
       "    $(\"#result_array_json\" ).html(msg);\n",
       "});\n",
       "</script></head>\n",
       "<body>\n",
       "<h2> JSON 표기법 </h2>\n",
       "<div id=\"result_array_json\"></div>\n",
       "</body>"
      ],
      "text/plain": [
       "<IPython.core.display.HTML object>"
      ]
     },
     "metadata": {},
     "output_type": "display_data"
    }
   ],
   "source": [
    "%%html\n",
    "<head>\n",
    "<title> Json 배열(Array) 방식으로 입력 </title>\n",
    "<script src=\"http://code.jquery.com/jquery-3.2.1.js\"></script>\n",
    "<script>\n",
    "$(document).ready(function(){\n",
    "    var emp = [{\"name\":\"kim\",  \"age\":30},\n",
    "               {\"name\":\"lee\",  \"age\":40},\n",
    "               {\"name\":\"park\", \"age\":20}];\n",
    "    var msg=\"\";\n",
    "    msg += \"이름 : \" + emp[0].name + \"<br>나이 : \" + emp[0].age + \"<br><br>\";\n",
    "    msg += \"이름 : \" + emp[1].name + \"<br>나이 : \" + emp[1].age + \"<br><br>\";\n",
    "    msg += \"이름 : \" + emp[2].name + \"<br>나이 : \" + emp[2].age;\n",
    "    $(\"#result_array_json\" ).html(msg);\n",
    "});\n",
    "</script></head>\n",
    "<body>\n",
    "<h2> JSON 표기법 </h2>\n",
    "<div id=\"result_array_json\"></div>\n",
    "</body>"
   ]
  },
  {
   "cell_type": "code",
   "execution_count": 24,
   "metadata": {},
   "outputs": [
    {
     "data": {
      "text/html": [
       "<title> input 태그의 아이디 비밀번호에 맞는 사용자 정보 출력하기 </title>\n",
       "<head>\n",
       "<script src=\"http://code.jquery.com/jquery-3.2.1.js\"></script>\n",
       "<script>\n",
       "$(document).ready(function(){\n",
       "    var emp = {\"id\":\"abcd\", \"pw\":\"1234\", \"name\":\"홍길동\", \"point\":\"1250\"};\n",
       "    $('#logon').click(function(){\n",
       "        if (emp.id == $(\"#login_jq>#id\").val() && \n",
       "            emp.pw == $(\"#login_jq>#pw\").val()) {\n",
       "                $('#login_jq>#confirm').html(emp.name + \"님 환영합니다 \" + \n",
       "                            \"<br> 당신의 포인트는 \" + emp.point + \"남았습니다\").css('color','blue')\n",
       "        }else{\n",
       "                $('#login_jq>#confirm').html(\"아이디와 비밀번호가 틀렸습니다\").css('color','red')\t\t\t\n",
       "        };\n",
       "    });\n",
       "});\n",
       "</script>\n",
       "</head>\n",
       "<body>\n",
       "<div id=\"login_jq\">\n",
       "    <label for=\"input\">[로그인 화면]</label><br><br>\n",
       "    <input type=\"text\" id=\"id\"><span>아이디를 입력하시오</span><br>\n",
       "    <input type=\"text\" id=\"pw\"><span>비밀번호를 입력하시오</span><br>\n",
       "    <button id=\"logon\">Login</button><br><br>\n",
       "    <span id=\"confirm\"></span></div>\n",
       "</body>"
      ],
      "text/plain": [
       "<IPython.core.display.HTML object>"
      ]
     },
     "metadata": {},
     "output_type": "display_data"
    }
   ],
   "source": [
    "%%html\n",
    "<title> input 태그의 아이디 비밀번호에 맞는 사용자 정보 출력하기 </title>\n",
    "<head>\n",
    "<script src=\"http://code.jquery.com/jquery-3.2.1.js\"></script>\n",
    "<script>\n",
    "$(document).ready(function(){\n",
    "    var emp = {\"id\":\"abcd\", \"pw\":\"1234\", \"name\":\"홍길동\", \"point\":\"1250\"};\n",
    "    $('#logon').click(function(){\n",
    "        if (emp.id == $(\"#login_jq>#id\").val() && \n",
    "            emp.pw == $(\"#login_jq>#pw\").val()) {\n",
    "                $('#login_jq>#confirm').html(emp.name + \"님 환영합니다 \" + \n",
    "                            \"<br> 당신의 포인트는 \" + emp.point + \"남았습니다\").css('color','blue')\n",
    "        }else{\n",
    "                $('#login_jq>#confirm').html(\"아이디와 비밀번호가 틀렸습니다\").css('color','red')\t\t\t\n",
    "        };\n",
    "    });\n",
    "});\n",
    "</script>\n",
    "</head>\n",
    "<body>\n",
    "<div id=\"login_jq\">\n",
    "    <label for=\"input\">[로그인 화면]</label><br><br>\n",
    "    <input type=\"text\" id=\"id\"><span>아이디를 입력하시오</span><br>\n",
    "    <input type=\"text\" id=\"pw\"><span>비밀번호를 입력하시오</span><br>\n",
    "    <button id=\"logon\">Login</button><br><br>\n",
    "    <span id=\"confirm\"></span></div>\n",
    "</body>"
   ]
  },
  {
   "cell_type": "code",
   "execution_count": 25,
   "metadata": {},
   "outputs": [
    {
     "data": {
      "text/html": [
       "<head>\n",
       "<title> Object 객체를 JSON으로 변환 후 출력 </title>\n",
       "<script src=\"http://code.jquery.com/jquery-3.2.1.js\"></script>\n",
       "<script>\n",
       "$(document).ready(function(){\n",
       "    var emp = {\"id\":\"abcd\", \"pw\":\"1234\", \"name\":\"홍길동\", \"point\":\"1250\"};\n",
       "    $('#log_json>#log').click(function(){\n",
       "        var ob = emp\n",
       "        var ob = JSON.parse(JSON.stringify(emp));  //emp Object를 Json으로 변환 후 출력\n",
       "        $('#log_json>#confirm').html(ob.name + \"<br>\" + ob.point)\n",
       "    })\n",
       "});\n",
       "</script>\n",
       "</head>\n",
       "<body>\n",
       "<div id=\"log_json\">\n",
       "    <button id=\"log\">Login</button><br><br>\n",
       "    <span id=\"confirm\"></span></div>\n",
       "</body>"
      ],
      "text/plain": [
       "<IPython.core.display.HTML object>"
      ]
     },
     "metadata": {},
     "output_type": "display_data"
    }
   ],
   "source": [
    "%%html\n",
    "<head>\n",
    "<title> Object 객체를 JSON으로 변환 후 출력 </title>\n",
    "<script src=\"http://code.jquery.com/jquery-3.2.1.js\"></script>\n",
    "<script>\n",
    "$(document).ready(function(){\n",
    "    var emp = {\"id\":\"abcd\", \"pw\":\"1234\", \"name\":\"홍길동\", \"point\":\"1250\"};\n",
    "    $('#log_json>#log').click(function(){\n",
    "        var ob = emp\n",
    "        var ob = JSON.parse(JSON.stringify(emp));  //emp Object를 Json으로 변환 후 출력\n",
    "        $('#log_json>#confirm').html(ob.name + \"<br>\" + ob.point)\n",
    "    })\n",
    "});\n",
    "</script>\n",
    "</head>\n",
    "<body>\n",
    "<div id=\"log_json\">\n",
    "    <button id=\"log\">Login</button><br><br>\n",
    "    <span id=\"confirm\"></span></div>\n",
    "</body>"
   ]
  },
  {
   "cell_type": "code",
   "execution_count": 26,
   "metadata": {},
   "outputs": [
    {
     "data": {
      "text/html": [
       "<head>\n",
       "<title> jQuery 문법과 JSON </title>\n",
       "<script src=\"http://code.jquery.com/jquery-3.2.1.js\"></script>\n",
       "<script>\n",
       "var num = 0\n",
       "$(document).ready(function(){\n",
       "    $('#Go').click(function() {                    // (실행조건)\"Go\" input button 을 누른경우\n",
       "        num = $('.cbox:checked').length            // class \"cb\" 가 여럿일 떄 반복된 공통속성을 활용\n",
       "        $('#result').html(num + \" 개 선택되었습니다\").css('color','green')\n",
       "    });\n",
       "});\n",
       "</script>\n",
       "</head>\n",
       "<body>\n",
       "<form name=\"form1\">\n",
       "    <input type=\"checkbox\" name=\"chk\" value=\"1\" class=\"cbox\">농구\n",
       "    <input type=\"checkbox\" name=\"chk\" value=\"2\" class=\"cbox\">낚시\n",
       "    <input type=\"checkbox\" name=\"chk\" value=\"3\" class=\"cbox\">여행\n",
       "    <input type=\"checkbox\" name=\"chk\" value=\"4\" class=\"cbox\">바둑\n",
       "    <input type=\"checkbox\" name=\"chk\" value=\"5\" class=\"cbox\">게임\n",
       "    <input type=\"button\" value=\"선택된 취미의 갯수?\" id = \"Go\">\n",
       "</form><br><br>\n",
       "<div id=\"result\"></div>\n",
       "</body>"
      ],
      "text/plain": [
       "<IPython.core.display.HTML object>"
      ]
     },
     "metadata": {},
     "output_type": "display_data"
    }
   ],
   "source": [
    "%%html\n",
    "<head>\n",
    "<title> jQuery 문법과 JSON </title>\n",
    "<script src=\"http://code.jquery.com/jquery-3.2.1.js\"></script>\n",
    "<script>\n",
    "var num = 0\n",
    "$(document).ready(function(){\n",
    "    $('#Go').click(function() {                    // (실행조건)\"Go\" input button 을 누른경우\n",
    "        num = $('.cbox:checked').length            // class \"cb\" 가 여럿일 떄 반복된 공통속성을 활용\n",
    "        $('#result').html(num + \" 개 선택되었습니다\").css('color','green')\n",
    "    });\n",
    "});\n",
    "</script>\n",
    "</head>\n",
    "<body>\n",
    "<form name=\"form1\">\n",
    "    <input type=\"checkbox\" name=\"chk\" value=\"1\" class=\"cbox\">농구\n",
    "    <input type=\"checkbox\" name=\"chk\" value=\"2\" class=\"cbox\">낚시\n",
    "    <input type=\"checkbox\" name=\"chk\" value=\"3\" class=\"cbox\">여행\n",
    "    <input type=\"checkbox\" name=\"chk\" value=\"4\" class=\"cbox\">바둑\n",
    "    <input type=\"checkbox\" name=\"chk\" value=\"5\" class=\"cbox\">게임\n",
    "    <input type=\"button\" value=\"선택된 취미의 갯수?\" id = \"Go\">\n",
    "</form><br><br>\n",
    "<div id=\"result\"></div>\n",
    "</body>"
   ]
  },
  {
   "cell_type": "code",
   "execution_count": 27,
   "metadata": {},
   "outputs": [
    {
     "data": {
      "text/html": [
       "<head>\n",
       "    <title> 자바스크립트 문법으로 체크박스 활성조건 계산하기 </title>\n",
       "<script>\n",
       "function go(){\n",
       "    var cnt=0;                                //카운트변수\n",
       "    var len=document.form1.elements.length;   // 6개  cf) alert(len) 로 확인가능\n",
       "    for(var i=0; i<len; i++){                 // for 0에서 시작 \n",
       "        var ob = document.form1.elements[i];\n",
       "        if(ob.name == \"chk\"){\n",
       "            if(ob.checked){ cnt++; }\n",
       "        }\n",
       "    }\n",
       "    document.getElementById(\"result_chk\").innerHTML = \n",
       "        \"<span style='color:orange;'>\" + cnt + \"개 선택되었습니다</span>\";  \n",
       "}\n",
       "</script>\n",
       "</head>\n",
       "<body>\n",
       "<form name=\"form1\">\n",
       "    <input type=\"checkbox\" name=\"chk\" value=\"1\" class=\"cb\">농구\n",
       "    <input type=\"checkbox\" name=\"chk\" value=\"2\" class=\"cb\">낚시\n",
       "    <input type=\"checkbox\" name=\"chk\" value=\"3\" class=\"cb\">여행\n",
       "    <input type=\"checkbox\" name=\"chk\" value=\"4\" class=\"cb\">바둑\n",
       "    <input type=\"checkbox\" name=\"chk\" value=\"5\" class=\"cb\">게임\n",
       "    <input type=\"button\" value=\"선택된 취미의 갯수?\" onclick=\"go()\">\n",
       "</form><br>\n",
       "<div id=\"result_chk\"></div>\n",
       "</body>\n",
       "</html>"
      ],
      "text/plain": [
       "<IPython.core.display.HTML object>"
      ]
     },
     "metadata": {},
     "output_type": "display_data"
    }
   ],
   "source": [
    "%%html\n",
    "<head>\n",
    "    <title> 자바스크립트 문법으로 체크박스 활성조건 계산하기 </title>\n",
    "<script>\n",
    "function go(){\n",
    "    var cnt=0;                                //카운트변수\n",
    "    var len=document.form1.elements.length;   // 6개  cf) alert(len) 로 확인가능\n",
    "    for(var i=0; i<len; i++){                 // for 0에서 시작 \n",
    "        var ob = document.form1.elements[i];\n",
    "        if(ob.name == \"chk\"){\n",
    "            if(ob.checked){ cnt++; }\n",
    "        }\n",
    "    }\n",
    "    document.getElementById(\"result_chk\").innerHTML = \n",
    "        \"<span style='color:orange;'>\" + cnt + \"개 선택되었습니다</span>\";  \n",
    "}\n",
    "</script>\n",
    "</head>\n",
    "<body>\n",
    "<form name=\"form1\">\n",
    "    <input type=\"checkbox\" name=\"chk\" value=\"1\" class=\"cb\">농구\n",
    "    <input type=\"checkbox\" name=\"chk\" value=\"2\" class=\"cb\">낚시\n",
    "    <input type=\"checkbox\" name=\"chk\" value=\"3\" class=\"cb\">여행\n",
    "    <input type=\"checkbox\" name=\"chk\" value=\"4\" class=\"cb\">바둑\n",
    "    <input type=\"checkbox\" name=\"chk\" value=\"5\" class=\"cb\">게임\n",
    "    <input type=\"button\" value=\"선택된 취미의 갯수?\" onclick=\"go()\">\n",
    "</form><br>\n",
    "<div id=\"result_chk\"></div>\n",
    "</body>\n",
    "</html>"
   ]
  },
  {
   "cell_type": "code",
   "execution_count": 28,
   "metadata": {},
   "outputs": [
    {
     "data": {
      "text/html": [
       "<head>\n",
       "<title> 자바스크립트 문법을 활용한 select Box </title>\n",
       "<script>\n",
       "function go_fruit(){\n",
       "    var sel = document.getElementById(\"sel_fruit2\");\n",
       "    var val = sel.options[sel.selectedIndex].value;\n",
       "    document.getElementById(\"output\").innerHTML = \n",
       "        \"<span style='color:orange;'>\" + val + \"을 선택하셨습니다</sapn>\";\n",
       "}\n",
       "</script>\n",
       "</head>\n",
       "<body>\n",
       "<select onchange=\"go_fruit()\" id=\"sel_fruit2\">\n",
       "    <option>apple</option>\n",
       "    <option>orange</option>\n",
       "    <option>strawberry</option>\n",
       "    <option>melon</option>\n",
       "    <option>kiwi</option>\n",
       "</select>\n",
       "<br>\n",
       "<div id=\"output\"></div>\n",
       "</body>"
      ],
      "text/plain": [
       "<IPython.core.display.HTML object>"
      ]
     },
     "metadata": {},
     "output_type": "display_data"
    }
   ],
   "source": [
    "%%html\n",
    "<head>\n",
    "<title> 자바스크립트 문법을 활용한 select Box </title>\n",
    "<script>\n",
    "function go_fruit(){\n",
    "    var sel = document.getElementById(\"sel_fruit2\");\n",
    "    var val = sel.options[sel.selectedIndex].value;\n",
    "    document.getElementById(\"output\").innerHTML = \n",
    "        \"<span style='color:orange;'>\" + val + \"을 선택하셨습니다</sapn>\";\n",
    "}\n",
    "</script>\n",
    "</head>\n",
    "<body>\n",
    "<select onchange=\"go_fruit()\" id=\"sel_fruit2\">\n",
    "    <option>apple</option>\n",
    "    <option>orange</option>\n",
    "    <option>strawberry</option>\n",
    "    <option>melon</option>\n",
    "    <option>kiwi</option>\n",
    "</select>\n",
    "<br>\n",
    "<div id=\"output\"></div>\n",
    "</body>"
   ]
  },
  {
   "cell_type": "code",
   "execution_count": 29,
   "metadata": {},
   "outputs": [
    {
     "data": {
      "text/html": [
       "<head>\n",
       "<title> jQuery 문법을 사용한 select Box 문법</title>\n",
       "<script src=\"http://code.jquery.com/jquery-3.2.1.js\"></script>\n",
       "<script>\n",
       "var str = '';\n",
       "$(document).ready(function(){\n",
       "    $('#sel_fruit').change(function(){\n",
       "        str = $('#sel_fruit > option:selected').val();\n",
       "        $('#output_fruit').html(str + \" 을 선택하셨습니다\").css(\"color\",\"red\");\n",
       "    });\n",
       "});\n",
       "</script>\n",
       "</head>\n",
       "<body>\n",
       "<select id=\"sel_fruit\">\n",
       "    <option>apple</option>\n",
       "    <option>orange</option>\n",
       "    <option>strawberry</option>\n",
       "    <option>melon</option>\n",
       "    <option>kiwi</option>\n",
       "</select>\n",
       "<br><br>\n",
       "<div id=\"output_fruit\"></div>\n",
       "</body>"
      ],
      "text/plain": [
       "<IPython.core.display.HTML object>"
      ]
     },
     "metadata": {},
     "output_type": "display_data"
    }
   ],
   "source": [
    "%%html\n",
    "<head>\n",
    "<title> jQuery 문법을 사용한 select Box 문법</title>\n",
    "<script src=\"http://code.jquery.com/jquery-3.2.1.js\"></script>\n",
    "<script>\n",
    "var str = '';\n",
    "$(document).ready(function(){\n",
    "    $('#sel_fruit').change(function(){\n",
    "        str = $('#sel_fruit > option:selected').val();\n",
    "        $('#output_fruit').html(str + \" 을 선택하셨습니다\").css(\"color\",\"red\");\n",
    "    });\n",
    "});\n",
    "</script>\n",
    "</head>\n",
    "<body>\n",
    "<select id=\"sel_fruit\">\n",
    "    <option>apple</option>\n",
    "    <option>orange</option>\n",
    "    <option>strawberry</option>\n",
    "    <option>melon</option>\n",
    "    <option>kiwi</option>\n",
    "</select>\n",
    "<br><br>\n",
    "<div id=\"output_fruit\"></div>\n",
    "</body>"
   ]
  },
  {
   "cell_type": "code",
   "execution_count": 30,
   "metadata": {},
   "outputs": [
    {
     "data": {
      "text/html": [
       "<head>\n",
       "    <title> textarea 내부 입력된 글자 숫자 Counting </title>\n",
       "<script src=\"http://code.jquery.com/jquery-3.2.1.js\"></script>\n",
       "<script>\n",
       "$(document).ready(function(){\n",
       "    $('textarea').keyup(function(){\n",
       "        var inputLength = $(this).val().length;\n",
       "        var remain      = 30-inputLength;\n",
       "        $('#key_event_jq>h1').html(remain + '/30');\n",
       "        if(remain < 0){$('#key_event_jq>h1').css(\"color\", \"red\");}\n",
       "        else          {$('#key_event_jq>h1').css(\"color\", \"blue\");}\n",
       "    });\n",
       "});\n",
       "</script>\n",
       "</head>\n",
       "<body>\n",
       "<div id=\"key_event_jq\">\n",
       "    <p>키보드 이벤트 발생</p> <h1>0/30</h1>\n",
       "    <span style=\"color:red;\">good</span>\n",
       "    <textarea rows=\"1\"  cols=\"70\"></textarea></div>\n",
       "</body>"
      ],
      "text/plain": [
       "<IPython.core.display.HTML object>"
      ]
     },
     "metadata": {},
     "output_type": "display_data"
    }
   ],
   "source": [
    "%%html\n",
    "<head>\n",
    "    <title> textarea 내부 입력된 글자 숫자 Counting </title>\n",
    "<script src=\"http://code.jquery.com/jquery-3.2.1.js\"></script>\n",
    "<script>\n",
    "$(document).ready(function(){\n",
    "    $('textarea').keyup(function(){\n",
    "        var inputLength = $(this).val().length;\n",
    "        var remain      = 30-inputLength;\n",
    "        $('#key_event_jq>h1').html(remain + '/30');\n",
    "        if(remain < 0){$('#key_event_jq>h1').css(\"color\", \"red\");}\n",
    "        else          {$('#key_event_jq>h1').css(\"color\", \"blue\");}\n",
    "    });\n",
    "});\n",
    "</script>\n",
    "</head>\n",
    "<body>\n",
    "<div id=\"key_event_jq\">\n",
    "    <p>키보드 이벤트 발생</p> <h1>0/30</h1>\n",
    "    <span style=\"color:red;\">good</span>\n",
    "    <textarea rows=\"1\"  cols=\"70\"></textarea></div>\n",
    "</body>"
   ]
  },
  {
   "cell_type": "code",
   "execution_count": 31,
   "metadata": {
    "scrolled": true
   },
   "outputs": [
    {
     "data": {
      "text/html": [
       "<head>\n",
       "<title>Document</title>\n",
       "<style>\n",
       "    .thumbs {\n",
       "       width:100px; \n",
       "       float:left;\n",
       "    }\n",
       "    .thumbs img {\n",
       "        border:1px solid #ccc;\n",
       "        padding:5px;\n",
       "        margin-bottom:3px;\n",
       "    }\n",
       "    .thumbs img:hover {\n",
       "        border-color:tomato;\n",
       "    }\n",
       "    #mainImg {\n",
       "        border:solid 1px #ccc;\n",
       "        width:500px;\n",
       "        height:290px;\n",
       "        padding:5px;\n",
       "        margin-left:110px;\n",
       "    }\n",
       "</style>\n",
       "<script src=\"http://code.jquery.com/jquery-3.2.1.js\"></script>\n",
       "<script>\n",
       "\t$(function(){\n",
       "\t    $(\".thumbs a\").click(function(){            // 클릭 시\n",
       "\t        var imgPath = $(this).attr(\"href\");     // 클릭한 a태그의 하이퍼링크를 변수저장\n",
       "\t        $(\"#mainImg>img\").attr({src:imgPath})   // 메인 이미지의 주소 속성에 할당\n",
       "\t        .hide()                                 // 기존의 이미지 숨김\n",
       "\t        .fadeIn(3000);                              // 새로운 이미지 fadeIn()\n",
       "\t        return false;                           // <a> 링크로 이동을 금지 \n",
       "\t    });\n",
       "\t});\t\t\n",
       "</script>\n",
       "</head>\n",
       "<body>\n",
       "<div class=\"thumbs\">\n",
       "    <a href=\"http://cdn1us.denofgeek.com/sites/denofgeekus/files/styles/main_wide/public/avengers3_29.jpg?itok=2kolP8Me\" \n",
       "       title=\"Marvel\">\n",
       "        <img src=\"https://orig00.deviantart.net/1f2a/f/2015/156/4/6/lego_marvel_super_heroes_icon_by_ezevig-d8w4h8q.jpg\"/></a>\n",
       "    <a href=\"https://nerdist.com/wp-content/uploads/2017/07/t134wuojkpksj98dfdt6.jpg\" title=\"DC\">\n",
       "        <img src=\"https://rocketdock.com/images/screenshots/DCUO.png\" /></a>\n",
       "    <a href=\"https://i.ytimg.com/vi/AuIfnpsZ1uA/maxresdefault.jpg\" title=\"WB\">\n",
       "        <img src=\"https://78.media.tumblr.com/avatar_98865d2c2aeb_128.pnj\" /></a>\n",
       "</div>\n",
       "<div id=\"mainImg\">\n",
       "<img src=\"http://susicewifilan.net/wp-content/uploads/2014/12/5-biggest-action-movie-heroes.jpg\" alt=\"image\" /></div>\n",
       "</body>\n",
       "</html>"
      ],
      "text/plain": [
       "<IPython.core.display.HTML object>"
      ]
     },
     "metadata": {},
     "output_type": "display_data"
    }
   ],
   "source": [
    "%%html\n",
    "<head>\n",
    "<title>Document</title>\n",
    "<style>\n",
    "    .thumbs { width:100px;  float:left;}\n",
    "    .thumbs img { border        : 1px solid #ccc;\n",
    "                  padding       : 5px;\n",
    "                  margin-bottom : 3px;}\n",
    "    .thumbs img:hover { border-color:tomato;}\n",
    "    #mainImg { border:solid 1px #ccc;\n",
    "               width   : 500px;  height      : 290px;\n",
    "               padding : 5px  ;  margin-left : 110px;}\n",
    "</style>\n",
    "<script src=\"http://code.jquery.com/jquery-3.2.1.js\"></script>\n",
    "<script>\n",
    "    $(function(){\n",
    "        $(\".thumbs a\").click(function(){            // 클릭 시\n",
    "            var imgPath = $(this).attr(\"href\");     // 클릭한 a태그의 하이퍼링크를 변수저장\n",
    "            $(\"#mainImg>img\").attr({src:imgPath})   // 메인 이미지의 주소 속성에 할당\n",
    "            .hide()                                 // 기존의 이미지 숨김\n",
    "            .fadeIn(3000);                          // 새로운 이미지 fadeIn()\n",
    "            return false;                           // <a> 링크로 이동을 금지 \n",
    "        });\n",
    "    });\n",
    "</script>\n",
    "</head>\n",
    "<body>\n",
    "<div class=\"thumbs\">\n",
    "    <a href=\"http://cdn1us.denofgeek.com/sites/denofgeekus/files/styles/main_wide/public/avengers3_29.jpg?itok=2kolP8Me\" \n",
    "       title=\"Marvel\">\n",
    "        <img src=\"https://orig00.deviantart.net/1f2a/f/2015/156/4/6/lego_marvel_super_heroes_icon_by_ezevig-d8w4h8q.jpg\"/></a>\n",
    "    <a href=\"https://nerdist.com/wp-content/uploads/2017/07/t134wuojkpksj98dfdt6.jpg\" title=\"DC\">\n",
    "        <img src=\"https://rocketdock.com/images/screenshots/DCUO.png\" /></a>\n",
    "    <a href=\"https://i.ytimg.com/vi/AuIfnpsZ1uA/maxresdefault.jpg\" title=\"WB\">\n",
    "        <img src=\"https://78.media.tumblr.com/avatar_98865d2c2aeb_128.pnj\" /></a>\n",
    "</div>\n",
    "<div id=\"mainImg\">\n",
    "<img src=\"http://susicewifilan.net/wp-content/uploads/2014/12/5-biggest-action-movie-heroes.jpg\" alt=\"image\" /></div>\n",
    "</body>"
   ]
  }
 ],
 "metadata": {
  "kernelspec": {
   "display_name": "Python 3",
   "language": "python",
   "name": "python3"
  },
  "language_info": {
   "codemirror_mode": {
    "name": "ipython",
    "version": 3
   },
   "file_extension": ".py",
   "mimetype": "text/x-python",
   "name": "python",
   "nbconvert_exporter": "python",
   "pygments_lexer": "ipython3",
   "version": "3.6.3"
  }
 },
 "nbformat": 4,
 "nbformat_minor": 2
}
