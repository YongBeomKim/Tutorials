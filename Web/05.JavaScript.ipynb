{
 "cells": [
  {
   "cell_type": "markdown",
   "metadata": {},
   "source": [
    "# <strong>JavaScript 1일차 수업\n",
    "<br>\n",
    "## <strong>1. SubLime Text 3\n",
    "기본 편집기 (Emmet)\n",
    "\n",
    "<img src=\"https://i.imgur.com/fHuBSKt.png\" width=\"100\" align='left'>"
   ]
  },
  {
   "cell_type": "markdown",
   "metadata": {},
   "source": [
    "### <strong>01 HTML Editor\n",
    "HTML & JS in Sublime Text 3\n",
    "\n",
    "1. <strong> Ctrl + Space </strong> : 확장가능 명령어 등을 확인\n",
    "1. <strong> 기본문법 + Tab </strong> : 축약문법을 Tag로 구현\t\n",
    "1. <strong>ul  &nbsp;&nbsp; li &nbsp;&nbsp;&nbsp;</strong>   : &nbsp; 자손 &nbsp; (&nbsp; 자식/손자 &nbsp;)\n",
    "1. <strong>ul > li*3</strong> : &nbsp; 후손\n",
    "1. <strong>p#xyz &nbsp;&nbsp; </strong>     : &nbsp; # id\n",
    "1. <strong>ul.abc &nbsp;&nbsp;</strong>    : &nbsp; .class"
   ]
  },
  {
   "cell_type": "markdown",
   "metadata": {},
   "source": [
    "<br>\n",
    "## <strong>2. JavaScript 기본\n",
    "Basic Functions\n",
    "### <strong>01 Js Basic\n",
    "<img src=\"https://simplybuiltprod.s3.amazonaws.com/media/53/xfsuUtOj37-pZuAie5zZEg.png\" align='left' width='100'>"
   ]
  },
  {
   "cell_type": "code",
   "execution_count": 1,
   "metadata": {},
   "outputs": [
    {
     "data": {
      "application/javascript": [
       "element.text(10+2*3)"
      ],
      "text/plain": [
       "<IPython.core.display.Javascript object>"
      ]
     },
     "metadata": {},
     "output_type": "display_data"
    }
   ],
   "source": [
    "%%javascript\n",
    "element.text(10+2*3)"
   ]
  },
  {
   "cell_type": "code",
   "execution_count": 2,
   "metadata": {},
   "outputs": [
    {
     "data": {
      "application/javascript": [
       "//document.write(\"<span style='color:red;'>Good Morning</span><Br>\");\n",
       "element.text(\"Hi\\n333\")"
      ],
      "text/plain": [
       "<IPython.core.display.Javascript object>"
      ]
     },
     "metadata": {},
     "output_type": "display_data"
    }
   ],
   "source": [
    "%%javascript\n",
    "//document.write(\"<span style='color:red;'>Good Morning</span><Br>\");\n",
    "element.text(\"Hi\\n333\")"
   ]
  },
  {
   "cell_type": "code",
   "execution_count": 3,
   "metadata": {},
   "outputs": [
    {
     "data": {
      "text/html": [
       "<p id=\"p1\">Hello World!</p>\n",
       "<p id=\"p2\">Hello World!</p>\n",
       "\n",
       "<script>\n",
       "// id tag의 text 스타일 변경\n",
       "document.getElementById(\"p2\").style.color=\"blue\";\n",
       "document.getElementById(\"p2\").style.fontFamily=\"Comic Sans MS\";\n",
       "document.getElementById(\"p2\").style.fontSize=\"50px\";\n",
       "</script>"
      ],
      "text/plain": [
       "<IPython.core.display.HTML object>"
      ]
     },
     "metadata": {},
     "output_type": "display_data"
    }
   ],
   "source": [
    "%%html\n",
    "<p id=\"p1\">Hello World!</p>\n",
    "<p id=\"p2\">Hello World!</p>\n",
    "\n",
    "<script>\n",
    "// id tag의 text 스타일 변경\n",
    "document.getElementById(\"p2\").style.color=\"blue\";\n",
    "document.getElementById(\"p2\").style.fontFamily=\"Comic Sans MS\";\n",
    "document.getElementById(\"p2\").style.fontSize=\"50px\";\n",
    "</script>"
   ]
  },
  {
   "cell_type": "code",
   "execution_count": 4,
   "metadata": {},
   "outputs": [
    {
     "data": {
      "text/html": [
       "<head>\n",
       "    <meta charset=\"UTF-8\">\n",
       "    <title> innerText, innerHTML </title>\n",
       "    <script>\n",
       "    function process1() {\n",
       "        var ob = document.getElementById(\"txt\").value;\n",
       "        document.getElementById(\"view1\").innerText = ob;  // .innerText : text 포맷으로 출력 \n",
       "    }   \n",
       "    function process2() {\n",
       "        var ob = document.getElementById(\"txt\").value;\n",
       "        document.getElementById(\"view1\").innerHTML = ob;  // .innerHTML : HTML 포맷으로 출력\n",
       "    }   \n",
       "    </script>\n",
       "</head>\n",
       "\n",
       "<body>\n",
       "    <input type=\"text\" id=\"txt\" size=\"50\">\n",
       "    <input type=\"button\" value=\"Text 출력1\" onclick=\"process1()\">  <!-- onclick 시 Js함수를 실행 -->\n",
       "    <input type=\"button\" value=\"Html 출력2\" onclick=\"process2()\">\n",
       "    <br><br>\n",
       "    <div id=\"view1\"></div>\n",
       "</body>"
      ],
      "text/plain": [
       "<IPython.core.display.HTML object>"
      ]
     },
     "metadata": {},
     "output_type": "display_data"
    }
   ],
   "source": [
    "%%html\n",
    "<head>\n",
    "    <meta charset=\"UTF-8\">\n",
    "    <title> innerText, innerHTML </title>\n",
    "    <script>\n",
    "    function process1() {\n",
    "        var ob = document.getElementById(\"txt\").value;\n",
    "        document.getElementById(\"view1\").innerText = ob;  // .innerText : text 포맷으로 출력 \n",
    "    }   \n",
    "    function process2() {\n",
    "        var ob = document.getElementById(\"txt\").value;\n",
    "        document.getElementById(\"view1\").innerHTML = ob;  // .innerHTML : HTML 포맷으로 출력\n",
    "    }   \n",
    "    </script>\n",
    "</head>\n",
    "\n",
    "<body>\n",
    "    <input type=\"text\" id=\"txt\" size=\"50\">\n",
    "    <input type=\"button\" value=\"Text 출력1\" onclick=\"process1()\">  <!-- onclick 시 Js함수를 실행 -->\n",
    "    <input type=\"button\" value=\"Html 출력2\" onclick=\"process2()\">\n",
    "    <br><br>\n",
    "    <div id=\"view1\"></div>\n",
    "</body>"
   ]
  },
  {
   "cell_type": "code",
   "execution_count": 5,
   "metadata": {},
   "outputs": [
    {
     "data": {
      "text/html": [
       "<head>\n",
       "    <title>typeof 객체 : 자료형을 출력</title>\n",
       "</head>\n",
       "<body>\n",
       "    <h2>유형</h2>\n",
       "    <p id=\"demo_type\"></p>\n",
       "<script> \n",
       "document.getElementById(\"demo_type\").innerHTML = \n",
       "    typeof \"john\"                + \" : 'john' <br> \" +\n",
       "    typeof 3.14                  + \" : 3.14 <br>\" +\n",
       "    typeof NaN                   + \" : NaN <br>\" +\n",
       "    typeof false                 + \" : false <br>\" +\n",
       "    typeof [1,2,3,4]             + \" : [1,2,3,4] <br>\" +\n",
       "    typeof {name:'john', age:34} + \" : {name:'john', age:34} <br>\" +\n",
       "    typeof new Date()            + \" : new Date() <br>\" +\n",
       "    typeof function () {}        + \" : function () {} <br>\" +\n",
       "    typeof myCar                 + \" : myCar <br>\" +\n",
       "    typeof null;                 + \" : null <br>\"\n",
       "</script>\n",
       "</body>"
      ],
      "text/plain": [
       "<IPython.core.display.HTML object>"
      ]
     },
     "metadata": {},
     "output_type": "display_data"
    }
   ],
   "source": [
    "%%html\n",
    "<head>\n",
    "    <title>typeof 객체 : 자료형을 출력</title>\n",
    "</head>\n",
    "<body>\n",
    "    <h2>유형</h2>\n",
    "    <p id=\"demo_type\"></p>\n",
    "<script> \n",
    "document.getElementById(\"demo_type\").innerHTML = \n",
    "    typeof \"john\"                + \" : 'john' <br> \" +\n",
    "    typeof 3.14                  + \" : 3.14 <br>\" +\n",
    "    typeof NaN                   + \" : NaN <br>\" +\n",
    "    typeof false                 + \" : false <br>\" +\n",
    "    typeof [1,2,3,4]             + \" : [1,2,3,4] <br>\" +\n",
    "    typeof {name:'john', age:34} + \" : {name:'john', age:34} <br>\" +\n",
    "    typeof new Date()            + \" : new Date() <br>\" +\n",
    "    typeof function () {}        + \" : function () {} <br>\" +\n",
    "    typeof myCar                 + \" : myCar <br>\" +\n",
    "    typeof null;                 + \" : null <br>\"\n",
    "</script>\n",
    "</body>"
   ]
  },
  {
   "cell_type": "markdown",
   "metadata": {},
   "source": [
    "### <strong>02 Object : 객체 \\ 익명함수\n",
    "1. <strong>string </strong> : 문자열\n",
    "1. <strong>number </strong> : 숫자 (integer \\ float \\ NaN)\n",
    "1. <strong>boolean</strong> : true / false\n",
    "1. <strong>object </strong> : [<strong>Array</strong>, , ] index 를 갖는 자료형 , { <strong>Object</strong>_name : Object_value , name : value .. } key 값을 임의조정 가능"
   ]
  },
  {
   "cell_type": "code",
   "execution_count": 6,
   "metadata": {},
   "outputs": [
    {
     "data": {
      "text/html": [
       "<head>\n",
       "    <title>자바스크립트 실행 </title>\n",
       "    <script>\n",
       "    // <!--한 줄씩 실행시 ';' 생략 가능\n",
       "    // ex) alert(\"1번 명령 실행\")alert(\"2번 명령 실행\")alert(\"3번 명령 실행\")\n",
       "    </script>\n",
       "</head>\n",
       "\n",
       "<body>\n",
       "    <h2>자바스크립트 메세지호출</h2>\n",
       "    <p id=\"demo1\"></p>\n",
       "<script>\n",
       "    var myObject = {                            // 객체 (object) 선언\n",
       "        firstName : \"KilDong\",                  // 객체의 변수 (variables)\n",
       "        lastName  : \"Hong\",\n",
       "        fullName  : function(){                 // 객체의 함수 (fuction)\n",
       "            return this.firstName + \"  \" + this.lastName;\n",
       "            }\n",
       "        }\n",
       "x = myObject.firstName;                          // 객체 메소드 호출\n",
       "x = myObject.fullName();                         // 객체 메소드 함수(익명함수) 실행\n",
       "document.getElementById(\"demo1\").innerHTML = x;  // Get위치.출력포맷 = 값\n",
       "</script>\n",
       "</body>"
      ],
      "text/plain": [
       "<IPython.core.display.HTML object>"
      ]
     },
     "metadata": {},
     "output_type": "display_data"
    }
   ],
   "source": [
    "%%html\n",
    "<head>\n",
    "    <title>자바스크립트 실행 </title>\n",
    "    <script>\n",
    "    // <!--한 줄씩 실행시 ';' 생략 가능\n",
    "    // ex) alert(\"1번 명령 실행\")alert(\"2번 명령 실행\")alert(\"3번 명령 실행\")\n",
    "    </script>\n",
    "</head>\n",
    "\n",
    "<body>\n",
    "    <h2>자바스크립트 메세지호출</h2>\n",
    "    <p id=\"demo1\"></p>\n",
    "<script>\n",
    "    var myObject = {                            // 객체 (object) 선언\n",
    "        firstName : \"KilDong\",                  // 객체의 변수 (variables)\n",
    "        lastName  : \"Hong\",\n",
    "        fullName  : function(){                 // 객체의 함수 (fuction)\n",
    "            return this.firstName + \"  \" + this.lastName;\n",
    "            }\n",
    "        }\n",
    "x = myObject.firstName;                          // 객체 메소드 호출\n",
    "x = myObject.fullName();                         // 객체 메소드 함수(익명함수) 실행\n",
    "document.getElementById(\"demo1\").innerHTML = x;  // Get위치.출력포맷 = 값\n",
    "</script>\n",
    "</body>"
   ]
  },
  {
   "cell_type": "code",
   "execution_count": 7,
   "metadata": {},
   "outputs": [
    {
     "data": {
      "text/html": [
       "<head>\n",
       "    <title>Insert title here</title>\n",
       "    <script> \n",
       "    score = prompt(\"점수를 입력하세요\", \"점\")    // prompt : 점수를 입력 (60 이상 \"합격\", 미만 \"불합격\")\n",
       "    if (score > 60) {                 \n",
       "        document.getElementById('score').innerText = score + \"은 합격 입니다\";  \n",
       "    } else {\n",
       "        document.getElementById('score').innerText = score + \"은 불합격 입니다\";  \n",
       "    }        \n",
       "    </script>  \n",
       "</head>\n",
       "-- 시험결과 출력 --\n",
       "<p id='score'></p>"
      ],
      "text/plain": [
       "<IPython.core.display.HTML object>"
      ]
     },
     "metadata": {},
     "output_type": "display_data"
    }
   ],
   "source": [
    "%%html\n",
    "<head>\n",
    "    <title>Insert title here</title>\n",
    "    <script> \n",
    "    score = prompt(\"점수를 입력하세요\", \"점\")    // prompt : 점수를 입력 (60 이상 \"합격\", 미만 \"불합격\")\n",
    "    if (score > 60) {                 \n",
    "        document.getElementById('score').innerText = score + \"은 합격 입니다\";  \n",
    "    } else {\n",
    "        document.getElementById('score').innerText = score + \"은 불합격 입니다\";  \n",
    "    }        \n",
    "    </script>  \n",
    "</head>\n",
    "-- 시험결과 출력 --\n",
    "<p id='score'></p>"
   ]
  },
  {
   "cell_type": "code",
   "execution_count": 8,
   "metadata": {},
   "outputs": [
    {
     "data": {
      "text/html": [
       "<body>\n",
       "<p>자바스크립트 객체 만들기</p>\n",
       "<p id=\"demo2\"></p>\n",
       "<script>\n",
       "    var car  = { type: \"Stinger\", year: \"2017\", color: \"white\" };\n",
       "    var html = \"차종 : \" + car.type + \n",
       "               \"\\n출시년도 : \" + car.year + \n",
       "               \"\\n색상\" + car.color\n",
       "    document.getElementById('demo2').innerText = html;  \n",
       "</script> \n",
       "</body>"
      ],
      "text/plain": [
       "<IPython.core.display.HTML object>"
      ]
     },
     "metadata": {},
     "output_type": "display_data"
    }
   ],
   "source": [
    "%%html\n",
    "<body>\n",
    "<p>자바스크립트 객체 만들기</p>\n",
    "<p id=\"demo2\"></p>\n",
    "<script>\n",
    "    var car  = { type: \"Stinger\", year: \"2017\", color: \"white\" };\n",
    "    var html = \"차종 : \" + car.type + \n",
    "               \"\\n출시년도 : \" + car.year + \n",
    "               \"\\n색상\" + car.color\n",
    "    document.getElementById('demo2').innerText = html;  \n",
    "</script> \n",
    "</body>"
   ]
  },
  {
   "cell_type": "code",
   "execution_count": 9,
   "metadata": {},
   "outputs": [
    {
     "data": {
      "text/html": [
       "<head>\n",
       "    <meta charset=\"UTF-8\">\n",
       "</head>\n",
       "\n",
       "<body>\n",
       "<p id=\"demo_maths\"/>\n",
       "<script>\n",
       "    document.getElementById(\"demo_maths\").innerHTML =\n",
       "        Math.pow(8, 2)  + \" : 8^2 지수승 <br/>\" +\n",
       "        Math.random()   + \" : 랜덤(0.0~0.9999) <br/>\" +\n",
       "        Math.floor(4.7) + \" : 4.7의 소숫점 내림 <br/>\" +\n",
       "        Math.ceil(4.4)  + \" : 4.4의 소숫점 올림 <br/>\" +\n",
       "        Math.round(4.7) + \" : 4.7의 소숫점 반올림 <br/>\" +\n",
       "        Math.abs(-4.4)  + \" : -4.4의 절대값 <br/>\" +\n",
       "        Math.sqrt(64)   + \" : 64의 제곱근 <br/>\" ;\n",
       "</script>\n",
       "</body>"
      ],
      "text/plain": [
       "<IPython.core.display.HTML object>"
      ]
     },
     "metadata": {},
     "output_type": "display_data"
    }
   ],
   "source": [
    "%%html\n",
    "<head>\n",
    "    <meta charset=\"UTF-8\">\n",
    "</head>\n",
    "\n",
    "<body>\n",
    "<p id=\"demo_maths\"/>\n",
    "<script>\n",
    "    document.getElementById(\"demo_maths\").innerHTML =\n",
    "        Math.pow(8, 2)  + \" : 8^2 지수승 <br/>\" +\n",
    "        Math.random()   + \" : 랜덤(0.0~0.9999) <br/>\" +\n",
    "        Math.floor(4.7) + \" : 4.7의 소숫점 내림 <br/>\" +\n",
    "        Math.ceil(4.4)  + \" : 4.4의 소숫점 올림 <br/>\" +\n",
    "        Math.round(4.7) + \" : 4.7의 소숫점 반올림 <br/>\" +\n",
    "        Math.abs(-4.4)  + \" : -4.4의 절대값 <br/>\" +\n",
    "        Math.sqrt(64)   + \" : 64의 제곱근 <br/>\" ;\n",
    "</script>\n",
    "</body>"
   ]
  },
  {
   "cell_type": "code",
   "execution_count": 10,
   "metadata": {},
   "outputs": [
    {
     "data": {
      "text/html": [
       "<head>\n",
       "    <title> 문자열 함수 </title>\n",
       "</head>\n",
       "<body>\n",
       "<p id = \"demo_string\"/>\n",
       "<script>\n",
       "var site = \"http://www.naver.com\";\n",
       "var data = new String(\"javascript test\");\n",
       "document.getElementById(\"demo_string\").innerHTML = \n",
       "    data + \" : 'javascript test' <br/>\" +\n",
       "    data.length + \" : 문자열의 길이 <br/>\" +\n",
       "    data.charAt(0) + \" : 문자열의 특정 인텍스 값 <br/>\" +\n",
       "    data.substring(1,3) + \" : 문자열 slicing (1 ~ 3미만 문자열) <br/>\" +\n",
       "    data.substring(4) + \" : 문자열 index <br/>\" + \n",
       "    data.toUpperCase() + \" : 문자열 대문자 <br/>\" +\n",
       "    data.toLowerCase() + \" : 문자열 소문자 <br/>\" +\n",
       "    data.replace(\"test\", \"sample\") + \" : 문자열 바꾸기 <br/>\" +\n",
       "    data.bold() + \" : 문자열 굵게 <br/>\" +\n",
       "    \"네이버\".link(site) + \" : a href 링크 속성으로 연결 <br/>\"; \n",
       "</script>\n",
       "</body>"
      ],
      "text/plain": [
       "<IPython.core.display.HTML object>"
      ]
     },
     "metadata": {},
     "output_type": "display_data"
    }
   ],
   "source": [
    "%%html\n",
    "<head>\n",
    "    <title> 문자열 함수 </title>\n",
    "</head>\n",
    "<body>\n",
    "<p id = \"demo_string\"/>\n",
    "<script>\n",
    "var site = \"http://www.naver.com\";\n",
    "var data = new String(\"javascript test\");\n",
    "document.getElementById(\"demo_string\").innerHTML = \n",
    "    data + \" : 'javascript test' <br/>\" +\n",
    "    data.length + \" : 문자열의 길이 <br/>\" +\n",
    "    data.charAt(0) + \" : 문자열의 특정 인텍스 값 <br/>\" +\n",
    "    data.substring(1,3) + \" : 문자열 slicing (1 ~ 3미만 문자열) <br/>\" +\n",
    "    data.substring(4) + \" : 문자열 index <br/>\" + \n",
    "    data.toUpperCase() + \" : 문자열 대문자 <br/>\" +\n",
    "    data.toLowerCase() + \" : 문자열 소문자 <br/>\" +\n",
    "    data.replace(\"test\", \"sample\") + \" : 문자열 바꾸기 <br/>\" +\n",
    "    data.bold() + \" : 문자열 굵게 <br/>\" +\n",
    "    \"네이버\".link(site) + \" : a href 링크 속성으로 연결 <br/>\"; \n",
    "</script>\n",
    "</body>"
   ]
  },
  {
   "cell_type": "markdown",
   "metadata": {},
   "source": [
    "<br>\n",
    "## <strong>3. 기본연산\n",
    "사칙연산 문법의 활용"
   ]
  },
  {
   "cell_type": "code",
   "execution_count": 11,
   "metadata": {},
   "outputs": [
    {
     "data": {
      "text/html": [
       "<head>\n",
       "<title> 사칙연산의 활용 </title>\n",
       "    <script>\n",
       "    var a = 10, b = 3;  // String 사칙연산 활용\n",
       "    //document.write(\"합:\" + (a + b) + \"<br>\");  \n",
       "    //document.write(\"차:\" + (a - b) + \"<br>\");\n",
       "    //document.write(\"곱:\" + (a * b) + \"<br>\");\n",
       "    //document.write(\"몫:\" + (a / b) + \"<br><br>\");  // 연결하기\n",
       "\n",
       "    var id = \"admin\";\n",
       "    var pw = \"1224\";\n",
       "    if(id==\"admin\" && pw==\"1234\"){     // && : and 조건, || : or 조건\n",
       "    \talert(\"로그인 성공\");            // == : Boolean 판단\n",
       "    }else{\n",
       "    \talert(\"ID 또는 Password 가 일치하지 않습니다\");\n",
       "    }\n",
       "    </script>\n",
       "</head>\n",
       "<body></body>"
      ],
      "text/plain": [
       "<IPython.core.display.HTML object>"
      ]
     },
     "metadata": {},
     "output_type": "display_data"
    }
   ],
   "source": [
    "%%html\n",
    "<head>\n",
    "<title> 사칙연산의 활용 </title>\n",
    "    <script>\n",
    "    var a = 10, b = 3;  // String 사칙연산 활용\n",
    "    //document.write(\"합:\" + (a + b) + \"<br>\");  \n",
    "    //document.write(\"차:\" + (a - b) + \"<br>\");\n",
    "    //document.write(\"곱:\" + (a * b) + \"<br>\");\n",
    "    //document.write(\"몫:\" + (a / b) + \"<br><br>\");  // 연결하기\n",
    "\n",
    "    var id = \"admin\";\n",
    "    var pw = \"1224\";\n",
    "    if(id==\"admin\" && pw==\"1234\"){     // && : and 조건, || : or 조건\n",
    "    \talert(\"로그인 성공\");            // == : Boolean 판단\n",
    "    }else{\n",
    "    \talert(\"ID 또는 Password 가 일치하지 않습니다\");\n",
    "    }\n",
    "    </script>\n",
    "</head>\n",
    "<body></body>"
   ]
  },
  {
   "cell_type": "code",
   "execution_count": 12,
   "metadata": {},
   "outputs": [
    {
     "data": {
      "text/html": [
       "<head>\n",
       "    <title> 익명함수 </title>\n",
       "    <script>  // 익명함수 (객체 안에서 함수처리를 같이한다)\n",
       "    var size = function(bottom, height) {\n",
       "                    return bottom * height;\n",
       "                    }\n",
       "    document.getElementById('tri01').innerText = \"사각형의 넓이 = \" + size(7, 3);\n",
       "    </script>\n",
       "</head>\n",
       "<p id='tri01'></p>"
      ],
      "text/plain": [
       "<IPython.core.display.HTML object>"
      ]
     },
     "metadata": {},
     "output_type": "display_data"
    }
   ],
   "source": [
    "%%html\n",
    "<head>\n",
    "    <title> 익명함수 </title>\n",
    "    <script>  // 익명함수 (객체 안에서 함수처리를 같이한다)\n",
    "    var size = function(bottom, height) {\n",
    "                    return bottom * height;\n",
    "                    }\n",
    "    document.getElementById('tri01').innerText = \"사각형의 넓이 = \" + size(7, 3);\n",
    "    </script>\n",
    "</head>\n",
    "<p id='tri01'></p>"
   ]
  },
  {
   "cell_type": "code",
   "execution_count": 13,
   "metadata": {},
   "outputs": [
    {
     "data": {
      "text/html": [
       "<head>\n",
       "<title> 선언함수 </title>\n",
       "    <script>\n",
       "    function getCubeVolume(bottom, height, depth ){ \n",
       "       return bottom * height * depth;  // 선언함수\n",
       "    }\n",
       "    var shape_volume = function(bottom, height, depth ){ \n",
       "       return bottom * height * depth;  // 익명함수 (가독성이 좋고 코드가 간결)    \n",
       "    }                                   \n",
       "    var bottom = 5, height =3, depth =6;\n",
       "    \n",
       "    document.getElementById('tri02').innerText = \n",
       "            \"직육면체 부피 (선언적 함수) =\" + getCubeVolume(bottom, height, depth); \n",
       "    document.getElementById('tri03').innerText = \n",
       "            \"직육면체 부피 (익명함수) =\" + shape_volume(bottom, height, depth)\n",
       "    </script>\n",
       "</head>\n",
       "<body>\n",
       "<p id='tri02'></p>\n",
       "<p id='tri03'></p>"
      ],
      "text/plain": [
       "<IPython.core.display.HTML object>"
      ]
     },
     "metadata": {},
     "output_type": "display_data"
    }
   ],
   "source": [
    "%%html\n",
    "<head>\n",
    "<title> 선언함수 </title>\n",
    "    <script>\n",
    "    function getCubeVolume(bottom, height, depth ){ \n",
    "       return bottom * height * depth;  // 선언함수\n",
    "    }\n",
    "    var shape_volume = function(bottom, height, depth ){ \n",
    "       return bottom * height * depth;  // 익명함수 (가독성이 좋고 코드가 간결)    \n",
    "    }                                   \n",
    "    var bottom = 5, height =3, depth =6;\n",
    "    \n",
    "    document.getElementById('tri02').innerText = \n",
    "            \"직육면체 부피 (선언적 함수) =\" + getCubeVolume(bottom, height, depth); \n",
    "    document.getElementById('tri03').innerText = \n",
    "            \"직육면체 부피 (익명함수) =\" + shape_volume(bottom, height, depth)\n",
    "    </script>\n",
    "</head>\n",
    "<body>\n",
    "<p id='tri02'></p>\n",
    "<p id='tri03'></p>"
   ]
  },
  {
   "cell_type": "code",
   "execution_count": 14,
   "metadata": {},
   "outputs": [
    {
     "data": {
      "text/html": [
       "<head>\n",
       "    <title> 간단한 계산기 (form 태그 객체의 호출 ) </title>\n",
       "    <script>\n",
       "        function pluscal(){                 // input 태그 사용함수는 head에 위치 (parseInt(), Number() : 문자를 숫자로 변경)         \n",
       "            var a = parseInt(frm.a.value);  // 'name' frm.a.value  : form 태그의 자손을 호출 (문법적 명료!) \n",
       "            var b = parseInt(frm.b.value);  // 'name' frm.b.value  : form 태그의 자손을 호출\n",
       "            frm.rs.value = a + b;           // 'name' frm.rs.value : 결과값을 저장\n",
       "            }\n",
       "    </script>\n",
       "</head>\n",
       "\n",
       "<body>\n",
       "    <form name=\"frm\">\n",
       "        A 값 :  <input type=\"text\" size=\"7\" name=\"a\">&nbsp;&nbsp;\n",
       "        B 값 :  <input type=\"text\" size=\"7\" name=\"b\">&nbsp;&nbsp;\n",
       "        결과 : <input type=\"text\" size=\"7\" name=\"rs\">\n",
       "        <input type=\"button\" name=\"plus\" value=\"더하기\" onclick=\"pluscal()\">\n",
       "    </form>\n",
       "</body>"
      ],
      "text/plain": [
       "<IPython.core.display.HTML object>"
      ]
     },
     "metadata": {},
     "output_type": "display_data"
    }
   ],
   "source": [
    "%%html\n",
    "<head>\n",
    "    <title> 간단한 계산기 (form 태그 객체의 호출 ) </title>\n",
    "    <script>\n",
    "        function pluscal(){                 // input 태그 사용함수는 head에 위치 (parseInt(), Number() : 문자를 숫자로 변경)         \n",
    "            var a = parseInt(frm.a.value);  // 'name' frm.a.value  : form 태그의 자손을 호출 (문법적 명료!) \n",
    "            var b = parseInt(frm.b.value);  // 'name' frm.b.value  : form 태그의 자손을 호출\n",
    "            frm.rs.value = a + b;           // 'name' frm.rs.value : 결과값을 저장\n",
    "            }\n",
    "    </script>\n",
    "</head>\n",
    "\n",
    "<body>\n",
    "    <form name=\"frm\">\n",
    "        A 값 :  <input type=\"text\" size=\"7\" name=\"a\">&nbsp;&nbsp;\n",
    "        B 값 :  <input type=\"text\" size=\"7\" name=\"b\">&nbsp;&nbsp;\n",
    "        결과 : <input type=\"text\" size=\"7\" name=\"rs\">\n",
    "        <input type=\"button\" name=\"plus\" value=\"더하기\" onclick=\"pluscal()\">\n",
    "    </form>\n",
    "</body>"
   ]
  },
  {
   "cell_type": "code",
   "execution_count": 15,
   "metadata": {},
   "outputs": [
    {
     "data": {
      "text/html": [
       "<head>\n",
       "    <title> 간단한 계산기 (getElement 함수를 사용) </title>\n",
       "    <script>\n",
       "        function plusfunc(){\n",
       "            var a = parseInt(document.getElementById(\"a1\").value);\n",
       "            var b = parseInt(document.getElementById(\"b1\").value);\n",
       "            document.getElementById(\"rsult\").value = a + b;\n",
       "        }\n",
       "    </script>\n",
       "</head>\n",
       "<body>\n",
       "    <form name=\"frm\">\n",
       "        A값 :  <input type=\"text\" size=\"7\" id=\"a1\">&nbsp;&nbsp; \n",
       "        B값 :  <input type=\"text\" size=\"7\" id=\"b1\">&nbsp;&nbsp; \n",
       "        결과 : <input type=\"text\" size=\"7\" id=\"rsult\">\n",
       "        <input type=\"button\" name=\"plus\" value=\"더하기\" onclick=\"plusfunc()\">\n",
       "    </form> <!-- 이벤트처리:더하기 버튼을 클릭하면 plusfunc()함수 호출 -->\n",
       "</body>\n",
       "</html> "
      ],
      "text/plain": [
       "<IPython.core.display.HTML object>"
      ]
     },
     "metadata": {},
     "output_type": "display_data"
    }
   ],
   "source": [
    "%%html\n",
    "<head>\n",
    "    <title> 간단한 계산기 (getElement 함수를 사용) </title>\n",
    "    <script>\n",
    "        function plusfunc(){\n",
    "            var a = parseInt(document.getElementById(\"a1\").value);\n",
    "            var b = parseInt(document.getElementById(\"b1\").value);\n",
    "            document.getElementById(\"rsult\").value = a + b;\n",
    "        }\n",
    "    </script>\n",
    "</head>\n",
    "<body>\n",
    "    <form name=\"frm\">\n",
    "        A값 :  <input type=\"text\" size=\"7\" id=\"a1\">&nbsp;&nbsp; \n",
    "        B값 :  <input type=\"text\" size=\"7\" id=\"b1\">&nbsp;&nbsp; \n",
    "        결과 : <input type=\"text\" size=\"7\" id=\"rsult\">\n",
    "        <input type=\"button\" name=\"plus\" value=\"더하기\" onclick=\"plusfunc()\">\n",
    "    </form> <!-- 이벤트처리:더하기 버튼을 클릭하면 plusfunc()함수 호출 -->\n",
    "</body>\n",
    "</html> "
   ]
  },
  {
   "cell_type": "code",
   "execution_count": 16,
   "metadata": {},
   "outputs": [
    {
     "data": {
      "text/html": [
       "<head>\n",
       "    <title> 함수이용하여 객체를 출력 </title>\n",
       "    <script>\n",
       "        function sumfunc(a, b, c){             // .getElenemtById(write) : 본문 <script>의 .write에게 전달\n",
       "            //document.write(\"세수의 합 : \", a+b+c , \"<br>\");\n",
       "            return a + b + c;   }             // return은 1개 객체만 가능\n",
       "    </script>\n",
       "</head>\n",
       "<body>\n",
       "    <script>\n",
       "        sumfunc(2, 3, 5);\n",
       "    </script>\n",
       "</body>"
      ],
      "text/plain": [
       "<IPython.core.display.HTML object>"
      ]
     },
     "metadata": {},
     "output_type": "display_data"
    }
   ],
   "source": [
    "%%html\n",
    "<head>\n",
    "    <title> 함수이용하여 객체를 출력 </title>\n",
    "    <script>\n",
    "        function sumfunc(a, b, c){             // .getElenemtById(write) : 본문 <script>의 .write에게 전달\n",
    "            //document.write(\"세수의 합 : \", a+b+c , \"<br>\");\n",
    "            return a + b + c;   }             // return은 1개 객체만 가능\n",
    "    </script>\n",
    "</head>\n",
    "<body>\n",
    "    <script>\n",
    "        sumfunc(2, 3, 5);\n",
    "    </script>\n",
    "</body>"
   ]
  },
  {
   "cell_type": "markdown",
   "metadata": {},
   "source": [
    "<br>\n",
    "## <strong>4. JS 기본함수\n",
    "기본함수 문법의 Js 활용\n",
    "1. <strong>name</strong> : Page 내부에서 중복사용 가능하며, <strong>Action에 해당하는 페이지로 Tag 파라미터를 전달(Get/Post)</strong>\n",
    "1. <strong>id &nbsp;&nbsp;&nbsp;&nbsp;&nbsp;&nbsp;</strong> : Page에서 <strong>중복 불가능</strong>하며, <strong>JavaScript에서 다루기에 용이</strong>하다"
   ]
  },
  {
   "cell_type": "code",
   "execution_count": 17,
   "metadata": {},
   "outputs": [
    {
     "data": {
      "text/html": [
       "<head>  \n",
       "    <title> switch case 활용 간단 계산기</title>\n",
       "    <script>\n",
       "    function process() {\n",
       "        var x = parseInt(document.getElementById(\"x1\").value);\n",
       "        var y = parseInt(document.getElementById(\"y1\").value);\n",
       "        var op = document.getElementById(\"ope1\").value;\n",
       "        var solValue;\n",
       "        switch (op) {\n",
       "            case \"+\": solValue = x + y; break;\n",
       "            case \"-\": solValue = x - y; break;\n",
       "            case \"*\": solValue = x * y; break;\n",
       "            case \"/\": solValue = x / y; break;\n",
       "            default: alert(\"연산자 오류\");\n",
       "        }\n",
       "        document.getElementById(\"sol1\").value = solValue;\n",
       "    }\n",
       "    </script>\n",
       "</head>\n",
       "<body>\n",
       "    <input type=\"text\" name=\"x\" id=\"x1\" />\n",
       "    <select id=\"ope1\">\n",
       "        <option>선택하세요</option>\n",
       "        <option value=\"+\"> + </option>\n",
       "        <option value=\"-\"> - </option>\n",
       "        <option value=\"*\"> * </option>\n",
       "        <option value=\"/\"> / </option>\n",
       "    </select>\n",
       "    <input type=\"text\" name=\"y\" id=\"y1\" />\n",
       "    <input type=\"button\" value=\"계산하기\" onclick=\"process()\">\n",
       "    <br>\n",
       "    <br> 결과 :\n",
       "    <input type=\"text\" name=\"sol\" id=\"sol1\" />\n",
       "</body>"
      ],
      "text/plain": [
       "<IPython.core.display.HTML object>"
      ]
     },
     "metadata": {},
     "output_type": "display_data"
    }
   ],
   "source": [
    "%%html\n",
    "<head>  \n",
    "    <title> switch case 활용 간단 계산기</title>\n",
    "    <script>\n",
    "    function process() {\n",
    "        var x = parseInt(document.getElementById(\"x1\").value);\n",
    "        var y = parseInt(document.getElementById(\"y1\").value);\n",
    "        var op = document.getElementById(\"ope1\").value;\n",
    "        var solValue;\n",
    "        switch (op) {\n",
    "            case \"+\": solValue = x + y; break;\n",
    "            case \"-\": solValue = x - y; break;\n",
    "            case \"*\": solValue = x * y; break;\n",
    "            case \"/\": solValue = x / y; break;\n",
    "            default: alert(\"연산자 오류\");\n",
    "        }\n",
    "        document.getElementById(\"sol1\").value = solValue;\n",
    "    }\n",
    "    </script>\n",
    "</head>\n",
    "<body>\n",
    "    <input type=\"text\" name=\"x\" id=\"x1\" />\n",
    "    <select id=\"ope1\">\n",
    "        <option>선택하세요</option>\n",
    "        <option value=\"+\"> + </option>\n",
    "        <option value=\"-\"> - </option>\n",
    "        <option value=\"*\"> * </option>\n",
    "        <option value=\"/\"> / </option>\n",
    "    </select>\n",
    "    <input type=\"text\" name=\"y\" id=\"y1\" />\n",
    "    <input type=\"button\" value=\"계산하기\" onclick=\"process()\">\n",
    "    <br>\n",
    "    <br> 결과 :\n",
    "    <input type=\"text\" name=\"sol\" id=\"sol1\" />\n",
    "</body>"
   ]
  },
  {
   "cell_type": "code",
   "execution_count": 18,
   "metadata": {},
   "outputs": [
    {
     "data": {
      "text/html": [
       "<title> switch case 와 else if 를 활용한 판단문</title>\n",
       "<body>\n",
       "    <p id=\"cal2\"></p>\n",
       "    <script>\n",
       "    var grade = \"A\";\n",
       "    var rs = '';\n",
       "    switch (grade) {\n",
       "        case \"A\": rs=\"excellent\";  break;\n",
       "        case \"B\": rs=\"good\";       break;\n",
       "        case \"C\": rs=\"poor\";       break;\n",
       "        default:  rs=\"bad\";\n",
       "    }\n",
       "    if (grade == \"A\")      rs = \"excellent\";\n",
       "    else if (grade == \"B\") rs = \"good\";\n",
       "    else if (grade == \"C\") rs = \"poor\";\n",
       "    else rs = \"bad\";\n",
       "    document.getElementById(\"cal2\").innerHTML = \"당신의 평가 점수는 \" + rs + \"입니다\";\n",
       "    </script>\n",
       "</body>"
      ],
      "text/plain": [
       "<IPython.core.display.HTML object>"
      ]
     },
     "metadata": {},
     "output_type": "display_data"
    }
   ],
   "source": [
    "%%html\n",
    "<title> switch case 와 else if 를 활용한 판단문</title>\n",
    "<body>\n",
    "    <p id=\"cal2\"></p>\n",
    "    <script>\n",
    "    var grade = \"A\";\n",
    "    var rs = '';\n",
    "    switch (grade) {\n",
    "        case \"A\": rs=\"excellent\";  break;\n",
    "        case \"B\": rs=\"good\";       break;\n",
    "        case \"C\": rs=\"poor\";       break;\n",
    "        default:  rs=\"bad\";\n",
    "    }\n",
    "    if (grade == \"A\")      rs = \"excellent\";\n",
    "    else if (grade == \"B\") rs = \"good\";\n",
    "    else if (grade == \"C\") rs = \"poor\";\n",
    "    else rs = \"bad\";\n",
    "    document.getElementById(\"cal2\").innerHTML = \"당신의 평가 점수는 \" + rs + \"입니다\";\n",
    "    </script>\n",
    "</body>"
   ]
  },
  {
   "cell_type": "code",
   "execution_count": 19,
   "metadata": {},
   "outputs": [
    {
     "data": {
      "text/html": [
       "<head>\n",
       "    <title>for 를 활용한 10 ~ 1 연속 출력</title>\n",
       "</head>\n",
       "<p id='rslt1'></p>\n",
       "\n",
       "<body>\n",
       "    <script>\n",
       "    var result = \"\";\n",
       "    for(var i=10 ; i>=1 ; i--){   //cf) for(var i=1;i<=5;i++) 1에서 5까지 1씩 증가\n",
       "        result += (i + \" \");\n",
       "    }   document.getElementById('rslt1').innerText = result\n",
       "    </script>\n",
       "</body>"
      ],
      "text/plain": [
       "<IPython.core.display.HTML object>"
      ]
     },
     "metadata": {},
     "output_type": "display_data"
    }
   ],
   "source": [
    "%%html\n",
    "<head>\n",
    "    <title>for 를 활용한 10 ~ 1 연속 출력</title>\n",
    "</head>\n",
    "<p id='rslt1'></p>\n",
    "\n",
    "<body>\n",
    "    <script>\n",
    "    var result = \"\";\n",
    "    for(var i=10 ; i>=1 ; i--){   //cf) for(var i=1;i<=5;i++) 1에서 5까지 1씩 증가\n",
    "        result += (i + \" \");\n",
    "    }   document.getElementById('rslt1').innerText = result\n",
    "    </script>\n",
    "</body>"
   ]
  },
  {
   "cell_type": "code",
   "execution_count": 20,
   "metadata": {},
   "outputs": [
    {
     "data": {
      "text/html": [
       "<head>\n",
       "    <title> 연속 이미지 출력 </title>\n",
       "</head>\n",
       "<p id='rpic'></p>\n",
       "\n",
       "<body>\n",
       "    <script>\n",
       "    var imgs = \"\";\n",
       "    for(i=1; i<=3; i++) {\n",
       "        imgs += \"<img src='http://www.icon100.com/up/3007/128/Angry-Birds-Star-Wars-2.png'>&nbsp;&nbsp;&nbsp;\";\n",
       "        }\n",
       "    document.getElementById(\"rpic\").innerHTML = imgs\n",
       "    </script>\n",
       "</body>"
      ],
      "text/plain": [
       "<IPython.core.display.HTML object>"
      ]
     },
     "metadata": {},
     "output_type": "display_data"
    }
   ],
   "source": [
    "%%html\n",
    "<head>\n",
    "    <title> 연속 이미지 출력 </title>\n",
    "</head>\n",
    "<p id='rpic'></p>\n",
    "\n",
    "<body>\n",
    "    <script>\n",
    "    var imgs = \"\";\n",
    "    for(i=1; i<=3; i++) {\n",
    "        imgs += \"<img src='http://www.icon100.com/up/3007/128/Angry-Birds-Star-Wars-2.png'>&nbsp;&nbsp;&nbsp;\";\n",
    "        }\n",
    "    document.getElementById(\"rpic\").innerHTML = imgs\n",
    "    </script>\n",
    "</body>"
   ]
  },
  {
   "cell_type": "code",
   "execution_count": 21,
   "metadata": {},
   "outputs": [
    {
     "data": {
      "text/html": [
       "<body>\n",
       "    <p> continue 조건 해당시 건너띄며 계속실행 </p>\n",
       "<p id=\"demo_continue\"></p>\n",
       "<script>\n",
       "    var text = \"\", i = 0;\n",
       "    for (i=0; i<5; i++) {\n",
       "        if (i == 3) { \n",
       "            continue;\n",
       "        }\n",
       "    text += \"The number is \" + i + \"<br>\";\n",
       "    }\n",
       "    document.getElementById(\"demo_continue\").innerHTML = text;\n",
       "</script>\n",
       "</body>"
      ],
      "text/plain": [
       "<IPython.core.display.HTML object>"
      ]
     },
     "metadata": {},
     "output_type": "display_data"
    }
   ],
   "source": [
    "%%html\n",
    "<body>\n",
    "    <p> continue 조건 해당시 건너띄며 계속실행 </p>\n",
    "<p id=\"demo_continue\"></p>\n",
    "<script>\n",
    "    var text = \"\", i = 0;\n",
    "    for (i=0; i<5; i++) {\n",
    "        if (i == 3) { \n",
    "            continue;\n",
    "        }\n",
    "    text += \"The number is \" + i + \"<br>\";\n",
    "    }\n",
    "    document.getElementById(\"demo_continue\").innerHTML = text;\n",
    "</script>\n",
    "</body>"
   ]
  },
  {
   "cell_type": "code",
   "execution_count": 22,
   "metadata": {},
   "outputs": [
    {
     "data": {
      "text/html": [
       "<title> while 함수의 이해 (조건 불충족시 1번도 미실행) </title>\n",
       "<body>\n",
       "<p id='while'/>\n",
       "<script>\n",
       "    var i=1, result = \"\";\n",
       "    while(i<=10){\n",
       "        result += (i + \"  \");\n",
       "        i++;\n",
       "    }\n",
       "    document.getElementById('while').innerHTML = result\n",
       "</script>\n",
       "</body>"
      ],
      "text/plain": [
       "<IPython.core.display.HTML object>"
      ]
     },
     "metadata": {},
     "output_type": "display_data"
    }
   ],
   "source": [
    "%%html\n",
    "<title> while 함수의 이해 (조건 불충족시 1번도 미실행) </title>\n",
    "<body>\n",
    "<p id='while'/>\n",
    "<script>\n",
    "    var i=1, result = \"\";\n",
    "    while(i<=10){\n",
    "        result += (i + \"  \");\n",
    "        i++;\n",
    "    }\n",
    "    document.getElementById('while').innerHTML = result\n",
    "</script>\n",
    "</body>"
   ]
  },
  {
   "cell_type": "code",
   "execution_count": 23,
   "metadata": {},
   "outputs": [
    {
     "data": {
      "text/html": [
       "<title> do while 함수의 이해 (무조건 1번은 실행) </title>\n",
       "<body>\n",
       "<p id='do_while'/>\n",
       "<script>\n",
       "    var score, result;\n",
       "    do{\n",
       "        score = prompt(\"점수를 입력하시오\",\"\");\n",
       "    }\n",
       "    while(score<0 || score>100);\n",
       "    result = \"당신의 점수는 \" + score +\"점 입니다\";\n",
       "    document.getElementById('do_while').innerHTML = result;\n",
       "</script>\n",
       "</body>"
      ],
      "text/plain": [
       "<IPython.core.display.HTML object>"
      ]
     },
     "metadata": {},
     "output_type": "display_data"
    }
   ],
   "source": [
    "%%html\n",
    "<title> do while 함수의 이해 (무조건 1번은 실행) </title>\n",
    "<body>\n",
    "<p id='do_while'/>\n",
    "<script>\n",
    "    var score, result;\n",
    "    do{\n",
    "        score = prompt(\"점수를 입력하시오\",\"\");\n",
    "    }\n",
    "    while(score<0 || score>100);\n",
    "    result = \"당신의 점수는 \" + score +\"점 입니다\";\n",
    "    document.getElementById('do_while').innerHTML = result;\n",
    "</script>\n",
    "</body>"
   ]
  },
  {
   "cell_type": "code",
   "execution_count": 24,
   "metadata": {},
   "outputs": [
    {
     "data": {
      "text/html": [
       "<head>\n",
       "    <title> eval() : 객체를 Js 수식 등으로 변환 </title>\n",
       "<script>\n",
       "    function ex1(){\n",
       "        var s = \"var num = 10\"; eval(s);\n",
       "        alert(num);}                              // 객체를 호출\n",
       "    function ex2(){\n",
       "        var s1 = \"var a = 6\" ; eval(s1); \n",
       "        var s2 = \"var b = 3\" ; eval(s2); \n",
       "        alert(a + b);}                            // 객체간 연산도 가능\n",
       "    function ex3(){\n",
       "        var s = eval(\"({'a':1, 'b':2, 'c':3})\");  // JSON형태\n",
       "        alert(s.b);}                              // JSON의 Key를 통해 Value를 호출\n",
       "</script>\n",
       "</head>\n",
       "<body>\n",
       "    <form name=\"frm\">\n",
       "        <input type=\"button\" onclick=\"ex1()\" value=\"연습1\">&nbsp;&nbsp;\n",
       "        <input type=\"button\" onclick=\"ex2()\" value=\"연습2\">&nbsp;&nbsp;\n",
       "        <input type=\"button\" onclick=\"ex3()\" value=\"연습3\">&nbsp;&nbsp;\n",
       "    </form>\t\n",
       "</body>"
      ],
      "text/plain": [
       "<IPython.core.display.HTML object>"
      ]
     },
     "metadata": {},
     "output_type": "display_data"
    }
   ],
   "source": [
    "%%html\n",
    "<head>\n",
    "    <title> eval() : 객체를 Js 수식 등으로 변환 </title>\n",
    "<script>\n",
    "    function ex1(){\n",
    "        var s = \"var num = 10\"; eval(s);\n",
    "        alert(num);}                              // 객체를 호출\n",
    "    function ex2(){\n",
    "        var s1 = \"var a = 6\" ; eval(s1); \n",
    "        var s2 = \"var b = 3\" ; eval(s2); \n",
    "        alert(a + b);}                            // 객체간 연산도 가능\n",
    "    function ex3(){\n",
    "        var s = eval(\"({'a':1, 'b':2, 'c':3})\");  // JSON형태\n",
    "        alert(s.b);}                              // JSON의 Key를 통해 Value를 호출\n",
    "</script>\n",
    "</head>\n",
    "<body>\n",
    "    <form name=\"frm\">\n",
    "        <input type=\"button\" onclick=\"ex1()\" value=\"연습1\">&nbsp;&nbsp;\n",
    "        <input type=\"button\" onclick=\"ex2()\" value=\"연습2\">&nbsp;&nbsp;\n",
    "        <input type=\"button\" onclick=\"ex3()\" value=\"연습3\">&nbsp;&nbsp;\n",
    "    </form>\t\n",
    "</body>"
   ]
  },
  {
   "cell_type": "markdown",
   "metadata": {},
   "source": [
    "<br>\n",
    "## <strong>5. 배열 자료형( Array) 과 기본함수\n",
    "1. 첫번째 선언방법\n",
    "        배열변수명=new Array();\n",
    "        배열변수명[인덱스]=값;\n",
    "        ex) arr=new Array();\n",
    "            arr[0]=10;\n",
    "            arr[1]=20;  \n",
    "1. 두번째 선언방법\n",
    "        배열변수명=[값,값,값, ...];\n",
    "        ex) arr=[10,20.....];\n",
    "\t\n",
    "1. 세번째 선언방법\n",
    "        배열변수명=new Array( 값, 값, 값, ... );\n",
    "        ex) arr=new Array(10,20,......);"
   ]
  },
  {
   "cell_type": "code",
   "execution_count": 25,
   "metadata": {},
   "outputs": [
    {
     "data": {
      "text/html": [
       "<body>\n",
       "    <h2>Loops 반복문</h2>\n",
       "<p id=\"demo_loop\"></p>\n",
       "    <script>\n",
       "    var cars = [\"BMW\", \"Volvo\", \"Saab\", \"Ford\", \"Fiat\", \"Audi\"];\n",
       "    var text=\"\";\n",
       "    for(var i=0; i<cars.length; i++){\n",
       "        text += cars[i] + \"<br>\";\n",
       "        }\n",
       "    document.getElementById(\"demo_loop\").innerHTML=text;\n",
       "    </script>\n",
       "</body>"
      ],
      "text/plain": [
       "<IPython.core.display.HTML object>"
      ]
     },
     "metadata": {},
     "output_type": "display_data"
    }
   ],
   "source": [
    "%%html\n",
    "<body>\n",
    "    <h2>Loops 반복문</h2>\n",
    "<p id=\"demo_loop\"></p>\n",
    "    <script>\n",
    "    var cars = [\"BMW\", \"Volvo\", \"Saab\", \"Ford\", \"Fiat\", \"Audi\"];\n",
    "    var text=\"\";\n",
    "    for(var i=0; i<cars.length; i++){\n",
    "        text += cars[i] + \"<br>\";\n",
    "        }\n",
    "    document.getElementById(\"demo_loop\").innerHTML=text;\n",
    "    </script>\n",
    "</body>"
   ]
  },
  {
   "cell_type": "code",
   "execution_count": 26,
   "metadata": {},
   "outputs": [
    {
     "data": {
      "text/html": [
       "<body>\n",
       "<h2>JavaScript Array Sort</h2>\n",
       "<button onclick=\"myFunction()\"> Sort 정렬 </button>\n",
       "<p id=\"demo_sort\"></p>\n",
       "<script>\n",
       "    var fruits = [\"Banana\", \"Orange\", \"Apple\", \"Mango\"];\n",
       "    document.getElementById(\"demo_sort\").innerHTML = fruits;\n",
       "    function myFunction() {\n",
       "                 fruits.sort();\n",
       "                 document.getElementById(\"demo_sort\").innerHTML = fruits;\n",
       "    }\n",
       "</script>\n",
       "</body>"
      ],
      "text/plain": [
       "<IPython.core.display.HTML object>"
      ]
     },
     "metadata": {},
     "output_type": "display_data"
    }
   ],
   "source": [
    "%%html\n",
    "<body>\n",
    "<h2>JavaScript Array Sort</h2>\n",
    "<button onclick=\"myFunction()\"> Sort 정렬 </button>\n",
    "<p id=\"demo_sort\"></p>\n",
    "<script>\n",
    "    var fruits = [\"Banana\", \"Orange\", \"Apple\", \"Mango\"];\n",
    "    document.getElementById(\"demo_sort\").innerHTML = fruits;\n",
    "    function myFunction() {\n",
    "                 fruits.sort();\n",
    "                 document.getElementById(\"demo_sort\").innerHTML = fruits;\n",
    "    }\n",
    "</script>\n",
    "</body>"
   ]
  },
  {
   "cell_type": "code",
   "execution_count": 27,
   "metadata": {},
   "outputs": [
    {
     "data": {
      "text/html": [
       "<body>\n",
       "<h2> 배열 (Array)의 Index </h2>\n",
       "<p id=\"demo_array1\"></p>\n",
       "<script>\n",
       "    var fruits, text, i;\n",
       "    fruits = [\"Banana\", \"Orange\", \"Apple\", \"Mango\"]; // index 는 0 ~ 시작한다\n",
       "    fruits[6] = \"Lemon\";                             // 특정위치에 value 를 추가\n",
       "    text = \"\";                                       // 초기화 하지 않으면 undefined 를 맨 앞에 추가\n",
       "    for (i = 0; i < fruits.length; i++) {\n",
       "        text += fruits[i] + \"<br>\";\n",
       "    }\n",
       "    document.getElementById(\"demo_array1\").innerHTML = text;\n",
       "</script>\n",
       "</body>"
      ],
      "text/plain": [
       "<IPython.core.display.HTML object>"
      ]
     },
     "metadata": {},
     "output_type": "display_data"
    }
   ],
   "source": [
    "%%html\n",
    "<body>\n",
    "<h2> 배열 (Array)의 Index </h2>\n",
    "<p id=\"demo_array1\"></p>\n",
    "<script>\n",
    "    var fruits, text, i;\n",
    "    fruits = [\"Banana\", \"Orange\", \"Apple\", \"Mango\"]; // index 는 0 ~ 시작한다\n",
    "    fruits[6] = \"Lemon\";                             // 특정위치에 value 를 추가\n",
    "    text = \"\";                                       // 초기화 하지 않으면 undefined 를 맨 앞에 추가\n",
    "    for (i = 0; i < fruits.length; i++) {\n",
    "        text += fruits[i] + \"<br>\";\n",
    "    }\n",
    "    document.getElementById(\"demo_array1\").innerHTML = text;\n",
    "</script>\n",
    "</body>"
   ]
  },
  {
   "cell_type": "code",
   "execution_count": 28,
   "metadata": {},
   "outputs": [
    {
     "data": {
      "text/html": [
       "<head>\n",
       "    <title>Document</title>\n",
       "    <style type=\"text/css\">\n",
       "        input {background-color:gray; color:white; }\n",
       "    </style>\n",
       "    <script type=\"text/javascript\">\n",
       "        function me1(f){\n",
       "            f.style.backgroundColor=f.value;\n",
       "            }\n",
       "        function me2(f) {\n",
       "            f.style.backgroundColor=\"gray\";\n",
       "            }\n",
       "    </script>\n",
       "</head>\n",
       "\n",
       "<body>\n",
       "<p id='json_array'/>\n",
       "<script>\n",
       "    arr = new Array(\"red\",\"orange\",\"yellow\",\"blue\",\"green\");\n",
       "    for(n=0; n<5; n++){\n",
       "        str = \"<input type='text' value='\" + arr[n] + \n",
       "              \"' onfocus='me1(this)' onblur='me2(this)'>\"\n",
       "            document.getElementById(\"json_array\").innerHTML = str;\n",
       "            }   //this : 사용자가 특정한 객체의 메모리 값 \n",
       "                //onfocus() : 요소위를 선택할  때\n",
       "                //obblur() :  요소를 선택하지 않을 떄 \n",
       "</script>\n",
       "</body>"
      ],
      "text/plain": [
       "<IPython.core.display.HTML object>"
      ]
     },
     "metadata": {},
     "output_type": "display_data"
    }
   ],
   "source": [
    "%%html\n",
    "<head>\n",
    "    <title>Document</title>\n",
    "    <style type=\"text/css\">\n",
    "        input {background-color:gray; color:white; }\n",
    "    </style>\n",
    "    <script type=\"text/javascript\">\n",
    "        function me1(f){\n",
    "            f.style.backgroundColor=f.value;\n",
    "            }\n",
    "        function me2(f) {\n",
    "            f.style.backgroundColor=\"gray\";\n",
    "            }\n",
    "    </script>\n",
    "</head>\n",
    "\n",
    "<body>\n",
    "<p id='json_array'/>\n",
    "<script>\n",
    "    arr = new Array(\"red\",\"orange\",\"yellow\",\"blue\",\"green\");\n",
    "    for(n=0; n<5; n++){\n",
    "        str = \"<input type='text' value='\" + arr[n] + \n",
    "              \"' onfocus='me1(this)' onblur='me2(this)'>\"\n",
    "            document.getElementById(\"json_array\").innerHTML = str;\n",
    "            }   //this : 사용자가 특정한 객체의 메모리 값 \n",
    "                //onfocus() : 요소위를 선택할  때\n",
    "                //obblur() :  요소를 선택하지 않을 떄 \n",
    "</script>\n",
    "</body>"
   ]
  },
  {
   "cell_type": "markdown",
   "metadata": {},
   "source": [
    "<br>\n",
    "## <strong>6. JSON 오브젝트 자료형\n",
    "JavaScript Object Notation"
   ]
  },
  {
   "cell_type": "code",
   "execution_count": 29,
   "metadata": {},
   "outputs": [
    {
     "data": {
      "text/html": [
       "<head>\n",
       "<title> JSON표기법 - 객체 </title>\n",
       "<script>\n",
       "function view() {           // 객체명.key이름 or 객체명['key이름']\n",
       "    var emp={\"name\":\"강호동\",\n",
       "             \"age\":25,\n",
       "             \"tel\":\"111-1111\",\n",
       "             \"addr\":\"jeju\"};\n",
       "    var str=\"\";\n",
       "    str += \"이름:\" + emp.name + \"<br>\"\n",
       "        + \"나이:\" + emp.age + \"<br>\"\n",
       "        + \"전화:\" + emp['tel'] + \"<br>\"\n",
       "        + \"주소:\" + emp['addr'] + \"<br>\";                 \n",
       "    document.getElementById('Json_result').innerHTML=str;\n",
       "}\n",
       "</script>\n",
       "</head>\n",
       "<body onload=\"view()\"> <!-- firefox 에선 지원이 안되나 ㅠㅠ?? Chrome 에선 활성화 됨 -->\n",
       "    <h2>JSON표기법</h2>\n",
       "    <div id=\"Json_result\"></div>  \n",
       "</body>"
      ],
      "text/plain": [
       "<IPython.core.display.HTML object>"
      ]
     },
     "metadata": {},
     "output_type": "display_data"
    }
   ],
   "source": [
    "%%html\n",
    "<head>\n",
    "<title> JSON표기법 - 객체 </title>\n",
    "<script>\n",
    "function view() {           // 객체명.key이름 or 객체명['key이름']\n",
    "    var emp={\"name\":\"강호동\",\n",
    "             \"age\":25,\n",
    "             \"tel\":\"111-1111\",\n",
    "             \"addr\":\"jeju\"};\n",
    "    var str=\"\";\n",
    "    str += \"이름:\" + emp.name + \"<br>\"\n",
    "        + \"나이:\" + emp.age + \"<br>\"\n",
    "        + \"전화:\" + emp['tel'] + \"<br>\"\n",
    "        + \"주소:\" + emp['addr'] + \"<br>\";                 \n",
    "    document.getElementById('Json_result').innerHTML=str;\n",
    "}\n",
    "</script>\n",
    "</head>\n",
    "<body onload=\"view()\"> <!-- firefox 에선 지원이 안되나 ㅠㅠ?? Chrome 에선 활성화 됨 -->\n",
    "    <h2>JSON표기법</h2>\n",
    "    <div id=\"Json_result\"></div>  \n",
    "</body>"
   ]
  },
  {
   "cell_type": "code",
   "execution_count": 30,
   "metadata": {},
   "outputs": [
    {
     "data": {
      "text/html": [
       "<head>\n",
       "<title> JSON Array 객체의 활용 </title>\n",
       "<script>\n",
       "function view(){\n",
       "    var emp = [{\"name\" : \"kim\",\n",
       "                \"age\" : 30},\n",
       "               {\"name\" : \"lee\",\n",
       "                \"age\" : 40},\n",
       "               {\"name\" : \"park\",\n",
       "                \"age\" : 20}];\n",
       "   \tvar msg = \"\" ;\n",
       "   \tmsg += \"이름 : \" + emp[0].name + \"<br>나이 : \" + emp[0].age + \"<br><br>\";\n",
       "   \tmsg += \"이름 : \" + emp[1].name + \"<br>나이 : \" + emp[1].age + \"<br><br>\";\n",
       "   \tmsg += \"이름 : \" + emp[2].name + \"<br>나이 : \" + emp[2].age;\n",
       "   \tdocument.getElementById('result_JSON2').innerHTML = msg ;\n",
       "}\n",
       "</script>\n",
       "</head>\n",
       "<body onload=\"view()\">\n",
       "    <h2> JSON Arrat 객체 표기법 </h2>\n",
       "    <div id=\"result_JSON2\"></div>\n",
       "</body>"
      ],
      "text/plain": [
       "<IPython.core.display.HTML object>"
      ]
     },
     "metadata": {},
     "output_type": "display_data"
    }
   ],
   "source": [
    "%%html\n",
    "<head>\n",
    "<title> JSON Array 객체의 활용 </title>\n",
    "<script>\n",
    "function view(){\n",
    "    var emp = [{\"name\" : \"kim\",\n",
    "                \"age\" : 30},\n",
    "               {\"name\" : \"lee\",\n",
    "                \"age\" : 40},\n",
    "               {\"name\" : \"park\",\n",
    "                \"age\" : 20}];\n",
    "   \tvar msg = \"\" ;\n",
    "   \tmsg += \"이름 : \" + emp[0].name + \"<br>나이 : \" + emp[0].age + \"<br><br>\";\n",
    "   \tmsg += \"이름 : \" + emp[1].name + \"<br>나이 : \" + emp[1].age + \"<br><br>\";\n",
    "   \tmsg += \"이름 : \" + emp[2].name + \"<br>나이 : \" + emp[2].age;\n",
    "   \tdocument.getElementById('result_JSON2').innerHTML = msg ;\n",
    "}\n",
    "</script>\n",
    "</head>\n",
    "<body onload=\"view()\">\n",
    "    <h2> JSON Arrat 객체 표기법 </h2>\n",
    "    <div id=\"result_JSON2\"></div>\n",
    "</body>"
   ]
  },
  {
   "cell_type": "markdown",
   "metadata": {},
   "source": [
    "<br>\n",
    "## <strong>7. Event 실행 (on-이벤트, Document객체)\n",
    "1. <strong>onclick() </strong> : 마우스를 클릭했을 떄 발생하는 이벤트\n",
    "1. <strong>onmouseover</strong> : 마우스가 범위를 접근했을때\n",
    "1. <strong>onmouseout </strong>  : 마우스가 범위를 빠져나왔을때\n",
    "1. <strong>onmousedown</strong> : 마우스를 클릭(눌림)했을때"
   ]
  },
  {
   "cell_type": "code",
   "execution_count": 31,
   "metadata": {},
   "outputs": [
    {
     "data": {
      "text/html": [
       "<body>\n",
       "    <button onclick=\"document.getElementById('demo_click').innerHTML=Date()\">\n",
       "        현재 시간은? </button>\n",
       "    <p id=\"demo_click\"></p>\n",
       "</body>"
      ],
      "text/plain": [
       "<IPython.core.display.HTML object>"
      ]
     },
     "metadata": {},
     "output_type": "display_data"
    }
   ],
   "source": [
    "%%html\n",
    "<body>\n",
    "    <button onclick=\"document.getElementById('demo_click').innerHTML=Date()\">\n",
    "        현재 시간은? </button>\n",
    "    <p id=\"demo_click\"></p>\n",
    "</body>"
   ]
  },
  {
   "cell_type": "code",
   "execution_count": 32,
   "metadata": {},
   "outputs": [
    {
     "data": {
      "text/html": [
       "<head>\n",
       "<title>Insert title here</title>\n",
       "<script>\n",
       "function choice(){\n",
       "    str = \"\";\n",
       "    len = document.forms[\"frm3\"].elements.length; \n",
       "    for(n=0; n<len; n++){\n",
       "        if(document.forms[\"frm3\"].elements[n].checked)\n",
       "            { str +=\"\\n\" +document.forms[\"frm3\"].elements[n].value; }\n",
       "        }\n",
       "    alert(\"[주문메뉴]\\n\"+str);\n",
       "}\n",
       "</script>\n",
       "</head>\n",
       "<body>\n",
       "<form name=\"frm3\">\n",
       "\t<input type=\"checkbox\" id=\"ch1\" checked value=\"라면\">라면\n",
       "\t<input type=\"checkbox\" id=\"ch2\" value=\"떡볶이\">떡볶이\n",
       "\t<input type=\"checkbox\" id=\"ch3\" value=\"순대\">순대\n",
       "\t<input type=\"checkbox\" id=\"ch4\" value=\"김밥\">김밥\n",
       "\t<input type=\"button\" value=\"선택하시오\" onclick=\"choice()\">\n",
       "</form>\n",
       "</body>"
      ],
      "text/plain": [
       "<IPython.core.display.HTML object>"
      ]
     },
     "metadata": {},
     "output_type": "display_data"
    }
   ],
   "source": [
    "%%html\n",
    "<head>\n",
    "<title>Insert title here</title>\n",
    "<script>\n",
    "function choice(){\n",
    "    str = \"\";\n",
    "    len = document.forms[\"frm3\"].elements.length; \n",
    "    for(n=0; n<len; n++){\n",
    "        if(document.forms[\"frm3\"].elements[n].checked)\n",
    "            { str +=\"\\n\" +document.forms[\"frm3\"].elements[n].value; }\n",
    "        }\n",
    "    alert(\"[주문메뉴]\\n\"+str);\n",
    "}\n",
    "</script>\n",
    "</head>\n",
    "<body>\n",
    "<form name=\"frm3\">\n",
    "\t<input type=\"checkbox\" id=\"ch1\" checked value=\"라면\">라면\n",
    "\t<input type=\"checkbox\" id=\"ch2\" value=\"떡볶이\">떡볶이\n",
    "\t<input type=\"checkbox\" id=\"ch3\" value=\"순대\">순대\n",
    "\t<input type=\"checkbox\" id=\"ch4\" value=\"김밥\">김밥\n",
    "\t<input type=\"button\" value=\"선택하시오\" onclick=\"choice()\">\n",
    "</form>\n",
    "</body>"
   ]
  },
  {
   "cell_type": "code",
   "execution_count": 33,
   "metadata": {},
   "outputs": [
    {
     "data": {
      "text/html": [
       "<html>\n",
       "    <style>\n",
       "    #container {\n",
       "        width: 400px;\n",
       "        height: 400px;\n",
       "        position: relative;\n",
       "        background: yellow; }\n",
       "    #animate {\n",
       "        width: 50px;\n",
       "        height: 50px;\n",
       "        position: absolute;\n",
       "        background-color: red; }\n",
       "    </style>\n",
       "<body>\n",
       "<p><button onclick=\"myMove()\">Click Me</button></p>\n",
       "<div id =\"container\">\n",
       "    <div id =\"animate\"></div>\n",
       "</div>\n",
       "<script>\n",
       "    function myMove() {\n",
       "        var elem = document.getElementById(\"animate\");   \n",
       "        var pos = 0;\n",
       "        var id = setInterval(frame, 5);\n",
       "    function frame() {\n",
       "        if (pos == 350) {\n",
       "            clearInterval(id);\n",
       "        } else {\n",
       "            pos++ ; \n",
       "            elem.style.top = pos + 'px'; \n",
       "            elem.style.left = pos + 'px'; \n",
       "        }}}\n",
       "</script>\n",
       "</body>"
      ],
      "text/plain": [
       "<IPython.core.display.HTML object>"
      ]
     },
     "metadata": {},
     "output_type": "display_data"
    }
   ],
   "source": [
    "%%html\n",
    "<html>\n",
    "    <style>\n",
    "    #container {\n",
    "        width: 400px;\n",
    "        height: 400px;\n",
    "        position: relative;\n",
    "        background: yellow; }\n",
    "    #animate {\n",
    "        width: 50px;\n",
    "        height: 50px;\n",
    "        position: absolute;\n",
    "        background-color: red; }\n",
    "    </style>\n",
    "<body>\n",
    "<p><button onclick=\"myMove()\">Click Me</button></p>\n",
    "<div id =\"container\">\n",
    "    <div id =\"animate\"></div>\n",
    "</div>\n",
    "<script>\n",
    "    function myMove() {\n",
    "        var elem = document.getElementById(\"animate\");   \n",
    "        var pos = 0;\n",
    "        var id = setInterval(frame, 5);\n",
    "    function frame() {\n",
    "        if (pos == 350) {\n",
    "            clearInterval(id);\n",
    "        } else {\n",
    "            pos++ ; \n",
    "            elem.style.top = pos + 'px'; \n",
    "            elem.style.left = pos + 'px'; \n",
    "        }}}\n",
    "</script>\n",
    "</body>"
   ]
  },
  {
   "cell_type": "code",
   "execution_count": 34,
   "metadata": {},
   "outputs": [
    {
     "data": {
      "text/html": [
       "<head>\n",
       "<title>확대/축소</title>\n",
       "    <script>\n",
       "    function big(f) {\n",
       "        f.width=f.width*2; }  // 2배 크기로 늘린다\n",
       "    function small(f) {\n",
       "        f.width=f.width/2; }  // 1/2 크기로 줄인다\n",
       "</script>\n",
       "</head>\n",
       "<body>\n",
       "\t<img src=\"http://www.icon100.com/up/3007/128/Angry-Birds-Star-Wars-2.png\"  onmouseover=\"big(this)\"  onmouseout=\"small(this)\">\n",
       "</body>"
      ],
      "text/plain": [
       "<IPython.core.display.HTML object>"
      ]
     },
     "metadata": {},
     "output_type": "display_data"
    }
   ],
   "source": [
    "%%html\n",
    "<head>\n",
    "<title>확대/축소</title>\n",
    "    <script>\n",
    "    function big(f) {\n",
    "        f.width=f.width*2; }  // 2배 크기로 늘린다\n",
    "    function small(f) {\n",
    "        f.width=f.width/2; }  // 1/2 크기로 줄인다\n",
    "</script>\n",
    "</head>\n",
    "<body>\n",
    "\t<img src=\"http://www.icon100.com/up/3007/128/Angry-Birds-Star-Wars-2.png\"  onmouseover=\"big(this)\"  onmouseout=\"small(this)\">\n",
    "</body>"
   ]
  },
  {
   "cell_type": "code",
   "execution_count": 35,
   "metadata": {},
   "outputs": [
    {
     "data": {
      "text/html": [
       "<body>\n",
       "<div onmousedown=\"mDown(this)\" onmouseup=\"mUp(this)\"\n",
       "     style = \"background-color:#D94A38;width:90px;height:20px;padding:40px;\"> Click Me </div>\n",
       "<script>\n",
       "    function mDown(obj) {\n",
       "        obj.style.backgroundColor = \"#1ec5e5\";\n",
       "        obj.innerHTML = \"Release Me\";\n",
       "        }\n",
       "    function mUp(obj) {\n",
       "        obj.style.backgroundColor=\"#D94A38\";\n",
       "        obj.innerHTML=\"Thank You\";\n",
       "        }\n",
       "</script>\n",
       "</body>"
      ],
      "text/plain": [
       "<IPython.core.display.HTML object>"
      ]
     },
     "metadata": {},
     "output_type": "display_data"
    }
   ],
   "source": [
    "%%html\n",
    "<body>\n",
    "<div onmousedown=\"mDown(this)\" onmouseup=\"mUp(this)\"\n",
    "     style = \"background-color:#D94A38;width:90px;height:20px;padding:40px;\"> Click Me </div>\n",
    "<script>\n",
    "    function mDown(obj) {\n",
    "        obj.style.backgroundColor = \"#1ec5e5\";\n",
    "        obj.innerHTML = \"Release Me\";\n",
    "        }\n",
    "    function mUp(obj) {\n",
    "        obj.style.backgroundColor=\"#D94A38\";\n",
    "        obj.innerHTML=\"Thank You\";\n",
    "        }\n",
    "</script>\n",
    "</body>"
   ]
  }
 ],
 "metadata": {
  "kernelspec": {
   "display_name": "Python 3",
   "language": "python",
   "name": "python3"
  },
  "language_info": {
   "codemirror_mode": {
    "name": "ipython",
    "version": 3
   },
   "file_extension": ".py",
   "mimetype": "text/x-python",
   "name": "python",
   "nbconvert_exporter": "python",
   "pygments_lexer": "ipython3",
   "version": "3.6.3"
  }
 },
 "nbformat": 4,
 "nbformat_minor": 2
}
