{
 "cells": [
  {
   "cell_type": "markdown",
   "metadata": {},
   "source": [
    "# <strong>HTML SVG로 그림그리기\n",
    "<br>\n",
    "## <strong> <strong>1. SVG 로 그리는 기본도형<strong>"
   ]
  },
  {
   "cell_type": "code",
   "execution_count": 1,
   "metadata": {},
   "outputs": [
    {
     "data": {
      "text/html": [
       "<h1> rect 태그로 스타일 설정 </h1>\n",
       "<svg>                                   <!-- rx : X축 라운딩, ry : Y축 라운딩 -->\n",
       "    <rect x=\"30\" y=\"20\" width=\"200\" height=\"100\" rx=\"50\" ry=\"100\" />\n",
       "</svg>"
      ],
      "text/plain": [
       "<IPython.core.display.HTML object>"
      ]
     },
     "metadata": {},
     "output_type": "display_data"
    }
   ],
   "source": [
    "%%html\n",
    "<h1> rect 태그로 스타일 설정 </h1>\n",
    "<svg>                                   <!-- rx : X축 라운딩, ry : Y축 라운딩 -->\n",
    "    <rect x=\"30\" y=\"20\" width=\"200\" height=\"100\" rx=\"50\" ry=\"100\" />\n",
    "</svg>"
   ]
  },
  {
   "cell_type": "code",
   "execution_count": 2,
   "metadata": {},
   "outputs": [
    {
     "data": {
      "text/html": [
       "<h1> 패스(직선의 연속) </h1>\n",
       "<svg>\n",
       "    <path d=\"M80,50 L220,90 L280,200  Z\"/>\n",
       "</svg>\n",
       "\n",
       "<!-- 선(Line)\n",
       "M x,y : 시작점  (Move to)\n",
       "L x,y : 선     (Line to)\n",
       "H x  : 가로선\n",
       "V y  : 세로선\n",
       "Z  : 패스닫기(close path) 현 위치부터 시작점까지 직선을 그린다 --> "
      ],
      "text/plain": [
       "<IPython.core.display.HTML object>"
      ]
     },
     "metadata": {},
     "output_type": "display_data"
    }
   ],
   "source": [
    "%%html\n",
    "<h1> 패스(직선의 연속) </h1>\n",
    "<svg>\n",
    "    <path d=\"M80,50 L220,90 L280,200  Z\"/>\n",
    "</svg>\n",
    "\n",
    "<!-- 선(Line)\n",
    "M x,y : 시작점  (Move to)\n",
    "L x,y : 선     (Line to)\n",
    "H x  : 가로선\n",
    "V y  : 세로선\n",
    "Z  : 패스닫기(close path) 현 위치부터 시작점까지 직선을 그린다 --> "
   ]
  },
  {
   "cell_type": "code",
   "execution_count": 3,
   "metadata": {},
   "outputs": [
    {
     "data": {
      "text/html": [
       "<h1> SVG 태그로 스타일 설정 </h1>\n",
       "<!-- 그림을 그릴 영역을 설정 후 그리기 (브라우저 마다 초기값이 설정) -->\n",
       "<svg style=\"border:1px dotted red\">\n",
       "    <rect x=\"30\" y=\"20\" width=\"200\" height=\"100\" />\n",
       "</svg>"
      ],
      "text/plain": [
       "<IPython.core.display.HTML object>"
      ]
     },
     "metadata": {},
     "output_type": "display_data"
    }
   ],
   "source": [
    "%%html\n",
    "<h1> SVG 태그로 스타일 설정 </h1>\n",
    "<!-- 그림을 그릴 영역을 설정 후 그리기 (브라우저 마다 초기값이 설정) -->\n",
    "<svg style=\"border:1px dotted red\">\n",
    "    <rect x=\"30\" y=\"20\" width=\"200\" height=\"100\" />\n",
    "</svg>"
   ]
  },
  {
   "cell_type": "code",
   "execution_count": 4,
   "metadata": {},
   "outputs": [
    {
     "data": {
      "text/html": [
       "<h1> Circle 원</h1> <!-- Chrome 에서는 border 초기값에 의해 도형이 짤린다  -->\n",
       "<svg width=\"400\" height=\"300\" style=\"border : 1px dotted red\">\n",
       "    <circle cx=\"160\" cy=\"120\" r=\"100\" />\n",
       "</svg>"
      ],
      "text/plain": [
       "<IPython.core.display.HTML object>"
      ]
     },
     "metadata": {},
     "output_type": "display_data"
    }
   ],
   "source": [
    "%%html\n",
    "<h1> Circle 원</h1> <!-- Chrome 에서는 border 초기값에 의해 도형이 짤린다  -->\n",
    "<svg width=\"400\" height=\"300\" style=\"border : 1px dotted red\">\n",
    "    <circle cx=\"160\" cy=\"120\" r=\"100\" />\n",
    "</svg>"
   ]
  },
  {
   "cell_type": "code",
   "execution_count": 5,
   "metadata": {},
   "outputs": [
    {
     "data": {
      "text/html": [
       "<h1> 베이지 곡선 </h1>\n",
       "<svg style=\"border:1px solid red\">\n",
       "    <path d=\"M10,110 C80,-100 150,80 300,110\"/>\n",
       "</svg>\n",
       "\n",
       "<!-- 베이지곡선(Curve)\n",
       "M x,y : 시작점\n",
       "C x1 y1, x2 y2, x, y (첫번째 제어점, 두번째 제어점, 끝점x,끝점y) --> "
      ],
      "text/plain": [
       "<IPython.core.display.HTML object>"
      ]
     },
     "metadata": {},
     "output_type": "display_data"
    }
   ],
   "source": [
    "%%html\n",
    "<h1> 베이지 곡선 </h1>\n",
    "<svg style=\"border:1px solid red\">\n",
    "    <path d=\"M10,110 C80,-100 150,80 300,110\"/>\n",
    "</svg>\n",
    "\n",
    "<!-- 베이지곡선(Curve)\n",
    "M x,y : 시작점\n",
    "C x1 y1, x2 y2, x, y (첫번째 제어점, 두번째 제어점, 끝점x,끝점y) --> "
   ]
  },
  {
   "cell_type": "markdown",
   "metadata": {},
   "source": [
    "<br><br>\n",
    "## <strong> <strong>2. SVG Style 설정<strong>"
   ]
  },
  {
   "cell_type": "code",
   "execution_count": 6,
   "metadata": {},
   "outputs": [
    {
     "data": {
      "text/html": [
       "<h1> rect 태스로 스타일 설정</h1>\n",
       "<svg>\n",
       "    <rect x=\"30\" y=\"20\" width=\"200\" height=\"100\" \n",
       "     style=\"fill:red ; stroke:blue ; stroke-width:10px\" />\n",
       "</svg>"
      ],
      "text/plain": [
       "<IPython.core.display.HTML object>"
      ]
     },
     "metadata": {},
     "output_type": "display_data"
    }
   ],
   "source": [
    "%%html\n",
    "<h1> rect 태스로 스타일 설정</h1>\n",
    "<svg>\n",
    "    <rect x=\"30\" y=\"20\" width=\"200\" height=\"100\" \n",
    "     style=\"fill:red ; stroke:blue ; stroke-width:10px\" />\n",
    "</svg>"
   ]
  },
  {
   "cell_type": "code",
   "execution_count": 7,
   "metadata": {},
   "outputs": [
    {
     "data": {
      "text/html": [
       "<style> #box1 rect{ fill:red; stroke:blue; stroke-width:5px;} </style>\n",
       "<body>\n",
       "    <h1> CSS로 스타일 설정</h1>\n",
       "    <svg id=\"box1\">\n",
       "        <rect x=\"30\" y=\"20\" width=\"200\" height=\"100\"/>\n",
       "    </svg>\n",
       "</body>"
      ],
      "text/plain": [
       "<IPython.core.display.HTML object>"
      ]
     },
     "metadata": {},
     "output_type": "display_data"
    }
   ],
   "source": [
    "%%html\n",
    "<style> #box1 rect{ fill:red; stroke:blue; stroke-width:5px;} </style>\n",
    "<body>\n",
    "    <h1> CSS로 스타일 설정</h1>\n",
    "    <svg id=\"box1\">\n",
    "        <rect x=\"30\" y=\"20\" width=\"200\" height=\"100\"/>\n",
    "    </svg>\n",
    "</body>"
   ]
  },
  {
   "cell_type": "code",
   "execution_count": 8,
   "metadata": {},
   "outputs": [
    {
     "data": {
      "text/html": [
       "<style>\n",
       "#boxes rect{fill:red;}\n",
       "#boxes rect#box{ stroke:blue; stroke-width:5px;}\n",
       "</style>\n",
       "<body>\n",
       "    <h1>ID를 사용하여 CSS 스타일 지정</h1>\n",
       "    <svg id=\"boxes\">\n",
       "        <rect x=\"30\" y=\"20\" width=\"200\" height=\"100\" />\n",
       "        <rect x=\"80\" y=\"70\" width=\"200\" height=\"100\" id=\"box\" />\n",
       "    </svg>\n",
       "</body>"
      ],
      "text/plain": [
       "<IPython.core.display.HTML object>"
      ]
     },
     "metadata": {},
     "output_type": "display_data"
    }
   ],
   "source": [
    "%%html\n",
    "<style>\n",
    "#boxes rect{fill:red;}\n",
    "#boxes rect#box{ stroke:blue; stroke-width:5px;}\n",
    "</style>\n",
    "<body>\n",
    "    <h1>ID를 사용하여 CSS 스타일 지정</h1>\n",
    "    <svg id=\"boxes\">\n",
    "        <rect x=\"30\" y=\"20\" width=\"200\" height=\"100\" />\n",
    "        <rect x=\"80\" y=\"70\" width=\"200\" height=\"100\" id=\"box\" />\n",
    "    </svg>\n",
    "</body>"
   ]
  },
  {
   "cell_type": "code",
   "execution_count": 9,
   "metadata": {},
   "outputs": [
    {
     "data": {
      "text/html": [
       "<head>\n",
       "<style>\n",
       "#boxes2 rect{fill:red;}\n",
       "#boxes2 .box{stroke:blue; stroke-width:5px;}\n",
       "</style>\n",
       "</head>\n",
       "<h1>클래스로 CSS 스타일 지정</h1>\n",
       "<svg id=\"boxes2\">\n",
       "    <rect x=\"30\" y=\"20\" width=\"200\" height=\"100\" />\n",
       "    <rect x=\"80\" y=\"70\" width=\"200\" height=\"100\" class=\"box\" />\n",
       "    <rect x=\"130\" y=\"120\" width=\"200\" height=\"100\" class=\"box\" />\n",
       "</svg>"
      ],
      "text/plain": [
       "<IPython.core.display.HTML object>"
      ]
     },
     "metadata": {},
     "output_type": "display_data"
    }
   ],
   "source": [
    "%%html\n",
    "<head>\n",
    "<style>\n",
    "#boxes2 rect{fill:red;}\n",
    "#boxes2 .box{stroke:blue; stroke-width:5px;}\n",
    "</style>\n",
    "</head>\n",
    "<h1>클래스로 CSS 스타일 지정</h1>\n",
    "<svg id=\"boxes2\">\n",
    "    <rect x=\"30\" y=\"20\" width=\"200\" height=\"100\" />\n",
    "    <rect x=\"80\" y=\"70\" width=\"200\" height=\"100\" class=\"box\" />\n",
    "    <rect x=\"130\" y=\"120\" width=\"200\" height=\"100\" class=\"box\" />\n",
    "</svg>"
   ]
  },
  {
   "cell_type": "markdown",
   "metadata": {},
   "source": [
    "<br><br>\n",
    "## <strong> <strong>3. Text tag의 활용<strong>"
   ]
  },
  {
   "cell_type": "code",
   "execution_count": 10,
   "metadata": {},
   "outputs": [
    {
     "data": {
      "text/html": [
       "<h1> 문자 표시 </h1>\n",
       "<svg style=\"border:1px dotted red\">\n",
       "    <text x=\"25\" y=\"80\" style=\"fill:black\">SVG 텍스트 예제</text>\n",
       "</svg>"
      ],
      "text/plain": [
       "<IPython.core.display.HTML object>"
      ]
     },
     "metadata": {},
     "output_type": "display_data"
    }
   ],
   "source": [
    "%%html\n",
    "<h1> 문자 표시 </h1>\n",
    "<svg style=\"border:1px dotted red\">\n",
    "    <text x=\"25\" y=\"80\" style=\"fill:black\">SVG 텍스트 예제</text>\n",
    "</svg>"
   ]
  },
  {
   "cell_type": "code",
   "execution_count": 11,
   "metadata": {},
   "outputs": [
    {
     "data": {
      "text/html": [
       "<h1> 문자 크기 지정 </h1>\n",
       "<svg style=\"border:1px dotted red\">\n",
       "    <text x=\"25\" y=\"80\" font-size=\"24px\" font-weight=\"bold\" style=\"fill:black\">\n",
       "    SVG 텍스트 예제 </text>\n",
       "</svg>"
      ],
      "text/plain": [
       "<IPython.core.display.HTML object>"
      ]
     },
     "metadata": {},
     "output_type": "display_data"
    }
   ],
   "source": [
    "%%html\n",
    "<h1> 문자 크기 지정 </h1>\n",
    "<svg style=\"border:1px dotted red\">\n",
    "    <text x=\"25\" y=\"80\" font-size=\"24px\" font-weight=\"bold\" style=\"fill:black\">\n",
    "    SVG 텍스트 예제 </text>\n",
    "</svg>"
   ]
  },
  {
   "cell_type": "code",
   "execution_count": 12,
   "metadata": {},
   "outputs": [
    {
     "data": {
      "text/html": [
       "<style> #txt text{font-size:50px;} </style>\n",
       "<h1>문자의 글꼴 지정</h1>\n",
       "<svg id=\"txt\">\n",
       "    <text x=\"25\" y=\"40\">SVG 텍스트 예제</text>\n",
       "    <text x=\"25\" y=\"80\" font-family=\"바탕체\" style=\"fill:blue\">SVG 텍스트 예제</text>\n",
       "    <text x=\"25\" y=\"120\" font-family=\"궁서체\" style=\"fill:red\">SVG 텍스트 예제</text>\n",
       "</svg>"
      ],
      "text/plain": [
       "<IPython.core.display.HTML object>"
      ]
     },
     "metadata": {},
     "output_type": "display_data"
    }
   ],
   "source": [
    "%%html\n",
    "<style> #txt text{font-size:50px;} </style>\n",
    "<h1>문자의 글꼴 지정</h1>\n",
    "<svg id=\"txt\">\n",
    "    <text x=\"25\" y=\"40\">SVG 텍스트 예제</text>\n",
    "    <text x=\"25\" y=\"80\" font-family=\"바탕체\" style=\"fill:blue\">SVG 텍스트 예제</text>\n",
    "    <text x=\"25\" y=\"120\" font-family=\"궁서체\" style=\"fill:red\">SVG 텍스트 예제</text>\n",
    "</svg>"
   ]
  },
  {
   "cell_type": "code",
   "execution_count": 13,
   "metadata": {},
   "outputs": [
    {
     "data": {
      "text/html": [
       "<h1> 문자의 위치값 설정 </h1>\n",
       "<svg width = 400>\n",
       "    <rect x=\"200\" y=\"0\" width=\"1\" height=\"160\" style=\"fill:red\" />\n",
       "    <text x=\"200\" y=\"40\" text-anchor=\"start\" style=\"fill:black\">SVG 텍스트 예제</text>\n",
       "    <text x=\"200\" y=\"80\" text-anchor=\"middle\" style=\"fill:black\">SVG 텍스트 예제</text>\n",
       "    <text x=\"200\" y=\"120\" text-anchor=\"end\" style=\"fill:black\">SVG 텍스트 예제</text>\n",
       "</svg>"
      ],
      "text/plain": [
       "<IPython.core.display.HTML object>"
      ]
     },
     "metadata": {},
     "output_type": "display_data"
    }
   ],
   "source": [
    "%%html\n",
    "<h1> 문자의 위치값 설정 </h1>\n",
    "<svg width = 400>\n",
    "    <rect x=\"200\" y=\"0\" width=\"1\" height=\"160\" style=\"fill:red\" />\n",
    "    <text x=\"200\" y=\"40\" text-anchor=\"start\" style=\"fill:black\">SVG 텍스트 예제</text>\n",
    "    <text x=\"200\" y=\"80\" text-anchor=\"middle\" style=\"fill:black\">SVG 텍스트 예제</text>\n",
    "    <text x=\"200\" y=\"120\" text-anchor=\"end\" style=\"fill:black\">SVG 텍스트 예제</text>\n",
    "</svg>"
   ]
  },
  {
   "cell_type": "markdown",
   "metadata": {},
   "source": [
    "<br><br>\n",
    "## <strong> <strong>4. Group Style 설정 및 활용<strong>"
   ]
  },
  {
   "cell_type": "code",
   "execution_count": 14,
   "metadata": {},
   "outputs": [
    {
     "data": {
      "text/html": [
       "<h1>도형 그룹화 및 투명도 설정</h1>\n",
       "<svg>\n",
       "    <g style=\"opacity:0.15\">  <!-- 1  ~ 0(100%투명) -->\n",
       "        <rect x=\"200\" y=\"50\" width=\"100\" height=\"80\" />\n",
       "        <text x=\"200\" y=\"40\" text-anchor=\"start\" style=\"fill:black\">Sample Text</text>\n",
       "    </g>\n",
       "</svg>"
      ],
      "text/plain": [
       "<IPython.core.display.HTML object>"
      ]
     },
     "metadata": {},
     "output_type": "display_data"
    }
   ],
   "source": [
    "%%html\n",
    "<h1>도형 그룹화 및 투명도 설정</h1>\n",
    "<svg>\n",
    "    <g style=\"opacity:0.15\">  <!-- 1  ~ 0(100%투명) -->\n",
    "        <rect x=\"200\" y=\"50\" width=\"100\" height=\"80\" />\n",
    "        <text x=\"200\" y=\"40\" text-anchor=\"start\" style=\"fill:black\">Sample Text</text>\n",
    "    </g>\n",
    "</svg>"
   ]
  },
  {
   "cell_type": "code",
   "execution_count": 15,
   "metadata": {},
   "outputs": [
    {
     "data": {
      "text/html": [
       "<h1>도형의 위치 설정</h1>\n",
       "<svg style=\"border:1px  dotted red\">\n",
       "    <g>\n",
       "        <rect x=\"200\" y=\"50\" width=\"100\" height=\"80\" />\n",
       "        <text x=\"200\" y=\"40\" text-anchor=\"start\" style=\"fill:black\">Sample Text</text>\n",
       "    </g>\n",
       "</svg>"
      ],
      "text/plain": [
       "<IPython.core.display.HTML object>"
      ]
     },
     "metadata": {},
     "output_type": "display_data"
    }
   ],
   "source": [
    "%%html\n",
    "<h1>도형의 위치 설정</h1>\n",
    "<svg style=\"border:1px  dotted red\">\n",
    "    <g>\n",
    "        <rect x=\"200\" y=\"50\" width=\"100\" height=\"80\" />\n",
    "        <text x=\"200\" y=\"40\" text-anchor=\"start\" style=\"fill:black\">Sample Text</text>\n",
    "    </g>\n",
    "</svg>"
   ]
  },
  {
   "cell_type": "code",
   "execution_count": 16,
   "metadata": {},
   "outputs": [
    {
     "data": {
      "text/html": [
       "<h1>도형의 이동</h1>\n",
       "<h2> transform=\"translate(-200,40)\" </h2>\n",
       "<svg style=\"border:1px  dotted red\">\n",
       "    <g transform=\"translate(-200,40)\">\n",
       "        <rect x=\"200\" y=\"50\" width=\"100\" height=\"80\" />\n",
       "        <text x=\"200\" y=\"40\" text-anchor=\"start\" style=\"fill:black\">Sample Text</text>\n",
       "    </g>\n",
       "</svg>"
      ],
      "text/plain": [
       "<IPython.core.display.HTML object>"
      ]
     },
     "metadata": {},
     "output_type": "display_data"
    }
   ],
   "source": [
    "%%html\n",
    "<h1>도형의 이동</h1>\n",
    "<h2> transform=\"translate(-200,40)\" </h2>\n",
    "<svg style=\"border:1px  dotted red\">\n",
    "    <g transform=\"translate(-200,40)\">\n",
    "        <rect x=\"200\" y=\"50\" width=\"100\" height=\"80\" />\n",
    "        <text x=\"200\" y=\"40\" text-anchor=\"start\" style=\"fill:black\">Sample Text</text>\n",
    "    </g>\n",
    "</svg>"
   ]
  },
  {
   "cell_type": "code",
   "execution_count": 17,
   "metadata": {},
   "outputs": [
    {
     "data": {
      "text/html": [
       "<h1>도형 확대</h1>\n",
       "<svg width=\"300\" height=\"300\" style=\"border:1px  dotted red\">\n",
       "    <g transform=\"scale(2.0)\">\n",
       "    <text x=\"20\" y=\"40\" text-anchor=\"start\" style=\"fill:black\"> Sample Text</text>\n",
       "    <rect x=\"20\" y=\"50\" width=\"100\" height=\"80\" />\n",
       "    </g>\n",
       "</svg>"
      ],
      "text/plain": [
       "<IPython.core.display.HTML object>"
      ]
     },
     "metadata": {},
     "output_type": "display_data"
    }
   ],
   "source": [
    "%%html\n",
    "<h1>도형 확대</h1>\n",
    "<svg width=\"300\" height=\"300\" style=\"border:1px  dotted red\">\n",
    "    <g transform=\"scale(2.0)\">\n",
    "    <text x=\"20\" y=\"40\" text-anchor=\"start\" style=\"fill:black\"> Sample Text</text>\n",
    "    <rect x=\"20\" y=\"50\" width=\"100\" height=\"80\" />\n",
    "    </g>\n",
    "</svg>"
   ]
  },
  {
   "cell_type": "code",
   "execution_count": 18,
   "metadata": {},
   "outputs": [
    {
     "data": {
      "text/html": [
       "<svg width=\"500\" , width=\"300\">\n",
       "    <g>\n",
       "        <circle cx=\"55\" cy=\"55\" r=\"45\" style=\"fill:rgb(212,0,0);\" />\n",
       "        <circle cx=\"155\" cy=\"105\" r=\"45\" style=\"fill:rgb(212,0,220);\" />\n",
       "    </g>\n",
       "    <text x=60 y=50 font-size=\"40px\" style=\"fill:rgb(0,210,0)\">Circle Sample</text>\n",
       "</svg>"
      ],
      "text/plain": [
       "<IPython.core.display.HTML object>"
      ]
     },
     "metadata": {},
     "output_type": "display_data"
    }
   ],
   "source": [
    "%%html\n",
    "<svg width=\"500\" , width=\"300\">\n",
    "    <g>\n",
    "        <circle cx=\"55\" cy=\"55\" r=\"45\" style=\"fill:rgb(212,0,0);\" />\n",
    "        <circle cx=\"155\" cy=\"105\" r=\"45\" style=\"fill:rgb(212,0,220);\" />\n",
    "    </g>\n",
    "    <text x=60 y=50 font-size=\"40px\" style=\"fill:rgb(0,210,0)\">Circle Sample</text>\n",
    "</svg>"
   ]
  }
 ],
 "metadata": {
  "kernelspec": {
   "display_name": "Python 3",
   "language": "python",
   "name": "python3"
  },
  "language_info": {
   "codemirror_mode": {
    "name": "ipython",
    "version": 3
   },
   "file_extension": ".py",
   "mimetype": "text/x-python",
   "name": "python",
   "nbconvert_exporter": "python",
   "pygments_lexer": "ipython3",
   "version": "3.6.3"
  }
 },
 "nbformat": 4,
 "nbformat_minor": 2
}
