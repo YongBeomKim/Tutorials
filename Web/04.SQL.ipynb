{
 "cells": [
  {
   "cell_type": "markdown",
   "metadata": {},
   "source": [
    "# <strong> Quants SQL\n",
    "DB 활용 주식분석 (SQL이 보이는 그림책)\n",
    "https://wikidocs.net/5332\n"
   ]
  },
  {
   "cell_type": "markdown",
   "metadata": {},
   "source": [
    "<br>\n",
    "## <strong>1 SQL 생성/입력/수정/삭제\n",
    "### <strong>01 INSERT\n",
    "데이터 입력하기"
   ]
  },
  {
   "cell_type": "code",
   "execution_count": 154,
   "metadata": {},
   "outputs": [
    {
     "data": {
      "text/plain": [
       "[('2017-12-27',)]"
      ]
     },
     "execution_count": 154,
     "metadata": {},
     "output_type": "execute_result"
    }
   ],
   "source": [
    "# SQL 구문을 호충\n",
    "import sqlite3\n",
    "con = sqlite3.connect('./sqlite.db')\n",
    "cursor = con.cursor()\n",
    "cursor.execute(\"SELECT  DATE('now');\")\n",
    "cursor.fetchall()"
   ]
  },
  {
   "cell_type": "code",
   "execution_count": 89,
   "metadata": {},
   "outputs": [],
   "source": [
    "# 1. 컬럼을 생략하고 데이터 입력\n",
    "# INSERT INTO 테이블 VALUES (1열, 2열, 3열)\n",
    "cursor.execute(\"CREATE TABLE tbl_tea (code int, name str, price int);\")\n",
    "cursor.execute(\"INSERT INTO tbl_tea VALUES (1, '녹차', 7000);\")\n",
    "cursor.execute(\"INSERT INTO tbl_tea VALUES (2, '홍차', 8500);\")\n",
    "con.commit()"
   ]
  },
  {
   "cell_type": "code",
   "execution_count": 91,
   "metadata": {},
   "outputs": [
    {
     "data": {
      "text/plain": [
       "[(1, '녹차', 7000), (2, '홍차', 8500)]"
      ]
     },
     "execution_count": 91,
     "metadata": {},
     "output_type": "execute_result"
    }
   ],
   "source": [
    "cursor.execute(\"SELECT * FROM tbl_tea;\")\n",
    "cursor.fetchall()"
   ]
  },
  {
   "cell_type": "code",
   "execution_count": 92,
   "metadata": {},
   "outputs": [
    {
     "data": {
      "text/plain": [
       "[(1, '녹차', 7000), (2, '홍차', 8500), (3, '구기자차', None)]"
      ]
     },
     "execution_count": 92,
     "metadata": {},
     "output_type": "execute_result"
    }
   ],
   "source": [
    "# 2. 특정 컬럼에만(name, code) 값을 입력하기 \n",
    "# PRICE 에는 None/ NULL/ NA 가 입력된다\n",
    "cursor.execute(\"\"\"INSERT INTO   tbl_tea (name,  code) \n",
    "                         VALUES         ('구기자차', 3);\"\"\")\n",
    "cursor.execute(\"SELECT * FROM tbl_tea;\")\n",
    "cursor.fetchall()"
   ]
  },
  {
   "cell_type": "code",
   "execution_count": 155,
   "metadata": {
    "scrolled": false
   },
   "outputs": [
    {
     "data": {
      "text/plain": [
       "[(1, '녹차'), (2, '홍차')]"
      ]
     },
     "execution_count": 155,
     "metadata": {},
     "output_type": "execute_result"
    }
   ],
   "source": [
    "# 3. 테이블 복사\n",
    "# 기존의 테이블 내용을 새로운 테이블로 복붙할 경우\n",
    "cursor.execute(\"\"\"CREATE TABLE   tbl_petlist (id int, name str);\"\"\")\n",
    "cursor.execute(\"\"\"INSERT INTO    tbl_petlist (id, name)    /* 입력대상 테이블 */ \n",
    "                         SELECT              code, name    /* 대상 필드 설정 */\n",
    "                         FROM    tbl_tea;                  /* 복사할 원본 테이블*/\"\"\") \n",
    "cursor.execute(\"SELECT * FROM tbl_petlist;\")\n",
    "cursor.fetchall()"
   ]
  },
  {
   "cell_type": "code",
   "execution_count": 156,
   "metadata": {},
   "outputs": [],
   "source": [
    "con.commit()\n",
    "con.close()"
   ]
  },
  {
   "cell_type": "markdown",
   "metadata": {},
   "source": [
    "### <strong>02 UPDATE\n",
    "등록된 데이터를 수정"
   ]
  },
  {
   "cell_type": "code",
   "execution_count": 96,
   "metadata": {},
   "outputs": [
    {
     "data": {
      "text/plain": [
       "[(1, '녹차'), (2, '고양이'), (3, '구기자차')]"
      ]
     },
     "execution_count": 96,
     "metadata": {},
     "output_type": "execute_result"
    }
   ],
   "source": [
    "# UPDATE() 하나의 값 수정\n",
    "cursor.execute(\"\"\"UPDATE  tbl_petlist  \n",
    "                          SET name = '고양이'  \n",
    "                          WHERE id = 2;\"\"\")\n",
    "cursor.execute(\"SELECT * FROM tbl_petlist;\")\n",
    "cursor.fetchall()"
   ]
  },
  {
   "cell_type": "code",
   "execution_count": 98,
   "metadata": {},
   "outputs": [
    {
     "data": {
      "text/plain": [
       "[(1, '페키니즈'), (2, '고양이'), (3, '마르티즈')]"
      ]
     },
     "execution_count": 98,
     "metadata": {},
     "output_type": "execute_result"
    }
   ],
   "source": [
    "# UPDATE() 여러 값 수정하기\n",
    "cursor.execute(\"\"\"UPDATE  tbl_petlist  \n",
    "                          SET name = '마르티즈'  \n",
    "                          WHERE id >= 3;\"\"\")\n",
    "cursor.execute(\"SELECT * FROM tbl_petlist;\")\n",
    "cursor.fetchall()"
   ]
  },
  {
   "cell_type": "markdown",
   "metadata": {},
   "source": [
    "### <strong>03 DELETE\n",
    "DELETE 등록 데이터 삭제"
   ]
  },
  {
   "cell_type": "code",
   "execution_count": 99,
   "metadata": {},
   "outputs": [
    {
     "data": {
      "text/plain": [
       "[(1, '페키니즈'), (2, '고양이')]"
      ]
     },
     "execution_count": 99,
     "metadata": {},
     "output_type": "execute_result"
    }
   ],
   "source": [
    "# UPDATE() 여러 값 수정하기\n",
    "cursor.execute(\"\"\"DELETE FROM  tbl_petlist  \n",
    "                         WHERE id = 3;\"\"\")  # 대상을 제한\n",
    "cursor.execute(\"SELECT * FROM tbl_petlist;\")\n",
    "cursor.fetchall()"
   ]
  },
  {
   "cell_type": "code",
   "execution_count": 100,
   "metadata": {},
   "outputs": [
    {
     "data": {
      "text/plain": [
       "[]"
      ]
     },
     "execution_count": 100,
     "metadata": {},
     "output_type": "execute_result"
    }
   ],
   "source": [
    "# UPDATE() 모든 데이터 삭제\n",
    "cursor.execute(\"\"\"DELETE FROM tbl_petlist;\"\"\") # 테이블 삭제\n",
    "cursor.execute(\"SELECT * FROM tbl_petlist;\")\n",
    "cursor.fetchall()"
   ]
  },
  {
   "cell_type": "markdown",
   "metadata": {},
   "source": [
    "<br>\n",
    "## <strong>2 SQL 기본조작\n",
    "### <strong>01 SELECT 조건\n",
    "컬럼, 테이블의 모든 데이터 가져오기"
   ]
  },
  {
   "cell_type": "code",
   "execution_count": 8,
   "metadata": {},
   "outputs": [
    {
     "data": {
      "text/html": [
       "<div>\n",
       "<style scoped>\n",
       "    .dataframe tbody tr th:only-of-type {\n",
       "        vertical-align: middle;\n",
       "    }\n",
       "\n",
       "    .dataframe tbody tr th {\n",
       "        vertical-align: top;\n",
       "    }\n",
       "\n",
       "    .dataframe thead th {\n",
       "        text-align: right;\n",
       "    }\n",
       "</style>\n",
       "<table border=\"1\" class=\"dataframe\">\n",
       "  <thead>\n",
       "    <tr style=\"text-align: right;\">\n",
       "      <th></th>\n",
       "      <th>Date</th>\n",
       "      <th>Code</th>\n",
       "      <th>개인</th>\n",
       "      <th>외국인계</th>\n",
       "      <th>기관계</th>\n",
       "      <th>증권</th>\n",
       "      <th>투신</th>\n",
       "      <th>은행</th>\n",
       "      <th>종금</th>\n",
       "      <th>보험</th>\n",
       "      <th>기금</th>\n",
       "      <th>기타</th>\n",
       "    </tr>\n",
       "  </thead>\n",
       "  <tbody>\n",
       "    <tr>\n",
       "      <th>0</th>\n",
       "      <td>2016/05/18</td>\n",
       "      <td>047770.KQ</td>\n",
       "      <td>0.0</td>\n",
       "      <td>0.0</td>\n",
       "      <td>0.0</td>\n",
       "      <td>0.0</td>\n",
       "      <td>0.0</td>\n",
       "      <td>0.0</td>\n",
       "      <td>0.0</td>\n",
       "      <td>0.0</td>\n",
       "      <td>0.0</td>\n",
       "      <td>0.0</td>\n",
       "    </tr>\n",
       "    <tr>\n",
       "      <th>1</th>\n",
       "      <td>2016/05/18</td>\n",
       "      <td>014200.KQ</td>\n",
       "      <td>4678.0</td>\n",
       "      <td>-756.0</td>\n",
       "      <td>0.0</td>\n",
       "      <td>0.0</td>\n",
       "      <td>0.0</td>\n",
       "      <td>0.0</td>\n",
       "      <td>0.0</td>\n",
       "      <td>0.0</td>\n",
       "      <td>0.0</td>\n",
       "      <td>-5100.0</td>\n",
       "    </tr>\n",
       "  </tbody>\n",
       "</table>\n",
       "</div>"
      ],
      "text/plain": [
       "         Date       Code      개인   외국인계  기관계   증권   투신   은행   종금   보험   기금  \\\n",
       "0  2016/05/18  047770.KQ     0.0    0.0  0.0  0.0  0.0  0.0  0.0  0.0  0.0   \n",
       "1  2016/05/18  014200.KQ  4678.0 -756.0  0.0  0.0  0.0  0.0  0.0  0.0  0.0   \n",
       "\n",
       "       기타  \n",
       "0     0.0  \n",
       "1 -5100.0  "
      ]
     },
     "execution_count": 8,
     "metadata": {},
     "output_type": "execute_result"
    }
   ],
   "source": [
    "# 특정 컬럼만 추출 \n",
    "import sqlite3\n",
    "import pandas as pd\n",
    "db = './data/krxStock.db'\n",
    "con = sqlite3.connect(db)\n",
    "\n",
    "# 1. 전체 테이블 불러오기\n",
    "df = pd.read_sql(\"SELECT  *  FROM   stock_trader ;\",con)\n",
    "df.head(2)"
   ]
  },
  {
   "cell_type": "code",
   "execution_count": 11,
   "metadata": {},
   "outputs": [
    {
     "data": {
      "text/html": [
       "<div>\n",
       "<style scoped>\n",
       "    .dataframe tbody tr th:only-of-type {\n",
       "        vertical-align: middle;\n",
       "    }\n",
       "\n",
       "    .dataframe tbody tr th {\n",
       "        vertical-align: top;\n",
       "    }\n",
       "\n",
       "    .dataframe thead th {\n",
       "        text-align: right;\n",
       "    }\n",
       "</style>\n",
       "<table border=\"1\" class=\"dataframe\">\n",
       "  <thead>\n",
       "    <tr style=\"text-align: right;\">\n",
       "      <th></th>\n",
       "      <th>Code</th>\n",
       "      <th>개인</th>\n",
       "      <th>외국인계</th>\n",
       "    </tr>\n",
       "  </thead>\n",
       "  <tbody>\n",
       "    <tr>\n",
       "      <th>0</th>\n",
       "      <td>047770.KQ</td>\n",
       "      <td>0.0</td>\n",
       "      <td>0.0</td>\n",
       "    </tr>\n",
       "    <tr>\n",
       "      <th>1</th>\n",
       "      <td>014200.KQ</td>\n",
       "      <td>4678.0</td>\n",
       "      <td>-756.0</td>\n",
       "    </tr>\n",
       "  </tbody>\n",
       "</table>\n",
       "</div>"
      ],
      "text/plain": [
       "        Code      개인   외국인계\n",
       "0  047770.KQ     0.0    0.0\n",
       "1  014200.KQ  4678.0 -756.0"
      ]
     },
     "execution_count": 11,
     "metadata": {},
     "output_type": "execute_result"
    }
   ],
   "source": [
    "# 2. Code 컬럼 추출\n",
    "df = pd.read_sql(\"\"\"SELECT   Code, 개인, 외국인계    \n",
    "                    FROM     stock_trader ;\"\"\", con)\n",
    "df.head(2)"
   ]
  },
  {
   "cell_type": "code",
   "execution_count": 12,
   "metadata": {},
   "outputs": [
    {
     "data": {
      "text/html": [
       "<div>\n",
       "<style scoped>\n",
       "    .dataframe tbody tr th:only-of-type {\n",
       "        vertical-align: middle;\n",
       "    }\n",
       "\n",
       "    .dataframe tbody tr th {\n",
       "        vertical-align: top;\n",
       "    }\n",
       "\n",
       "    .dataframe thead th {\n",
       "        text-align: right;\n",
       "    }\n",
       "</style>\n",
       "<table border=\"1\" class=\"dataframe\">\n",
       "  <thead>\n",
       "    <tr style=\"text-align: right;\">\n",
       "      <th></th>\n",
       "      <th>Date</th>\n",
       "      <th>Code</th>\n",
       "      <th>개인</th>\n",
       "      <th>외국인계</th>\n",
       "    </tr>\n",
       "  </thead>\n",
       "  <tbody>\n",
       "    <tr>\n",
       "      <th>0</th>\n",
       "      <td>2017/07/07</td>\n",
       "      <td>105560.KS</td>\n",
       "      <td>254904.0</td>\n",
       "      <td>6731165.0</td>\n",
       "    </tr>\n",
       "    <tr>\n",
       "      <th>1</th>\n",
       "      <td>2017/04/05</td>\n",
       "      <td>044180.KQ</td>\n",
       "      <td>-4239124.0</td>\n",
       "      <td>4209824.0</td>\n",
       "    </tr>\n",
       "    <tr>\n",
       "      <th>2</th>\n",
       "      <td>2016/08/03</td>\n",
       "      <td>003450.KS</td>\n",
       "      <td>-6855390.0</td>\n",
       "      <td>4186668.0</td>\n",
       "    </tr>\n",
       "  </tbody>\n",
       "</table>\n",
       "</div>"
      ],
      "text/plain": [
       "         Date       Code         개인       외국인계\n",
       "0  2017/07/07  105560.KS   254904.0  6731165.0\n",
       "1  2017/04/05  044180.KQ -4239124.0  4209824.0\n",
       "2  2016/08/03  003450.KS -6855390.0  4186668.0"
      ]
     },
     "execution_count": 12,
     "metadata": {},
     "output_type": "execute_result"
    }
   ],
   "source": [
    "# 3. 데이터 정렬  (ASC : 오름차순 , DESC : 내림차순)\n",
    "df = pd.read_sql(\"\"\"SELECT     Date, Code, 개인, 외국인계    \n",
    "                    FROM       stock_trader\n",
    "                    ORDER BY   외국인계  DESC ;\"\"\", con)\n",
    "df.head(3)"
   ]
  },
  {
   "cell_type": "code",
   "execution_count": 13,
   "metadata": {},
   "outputs": [
    {
     "data": {
      "text/html": [
       "<div>\n",
       "<style scoped>\n",
       "    .dataframe tbody tr th:only-of-type {\n",
       "        vertical-align: middle;\n",
       "    }\n",
       "\n",
       "    .dataframe tbody tr th {\n",
       "        vertical-align: top;\n",
       "    }\n",
       "\n",
       "    .dataframe thead th {\n",
       "        text-align: right;\n",
       "    }\n",
       "</style>\n",
       "<table border=\"1\" class=\"dataframe\">\n",
       "  <thead>\n",
       "    <tr style=\"text-align: right;\">\n",
       "      <th></th>\n",
       "      <th>날짜</th>\n",
       "      <th>Code</th>\n",
       "      <th>개인</th>\n",
       "      <th>외국인계</th>\n",
       "    </tr>\n",
       "  </thead>\n",
       "  <tbody>\n",
       "    <tr>\n",
       "      <th>0</th>\n",
       "      <td>2017/07/07</td>\n",
       "      <td>105560.KS</td>\n",
       "      <td>254904.0</td>\n",
       "      <td>6731165.0</td>\n",
       "    </tr>\n",
       "    <tr>\n",
       "      <th>1</th>\n",
       "      <td>2017/04/05</td>\n",
       "      <td>044180.KQ</td>\n",
       "      <td>-4239124.0</td>\n",
       "      <td>4209824.0</td>\n",
       "    </tr>\n",
       "  </tbody>\n",
       "</table>\n",
       "</div>"
      ],
      "text/plain": [
       "           날짜       Code         개인       외국인계\n",
       "0  2017/07/07  105560.KS   254904.0  6731165.0\n",
       "1  2017/04/05  044180.KQ -4239124.0  4209824.0"
      ]
     },
     "execution_count": 13,
     "metadata": {},
     "output_type": "execute_result"
    }
   ],
   "source": [
    "# 4. Date as 날짜 : 컬럼명을 바꿔서 출력\n",
    "df = pd.read_sql(\"\"\"SELECT    Date as 날짜, Code, 개인, 외국인계   \n",
    "                    FROM      stock_trader  \n",
    "                    ORDER BY  외국인계  DESC ;\"\"\", con)\n",
    "df.head(2)"
   ]
  },
  {
   "cell_type": "markdown",
   "metadata": {},
   "source": [
    "### <strong>02 WHERE 조건\n",
    "조건을 사용하여 특정 데이터를 호출"
   ]
  },
  {
   "cell_type": "code",
   "execution_count": 14,
   "metadata": {
    "scrolled": true
   },
   "outputs": [
    {
     "data": {
      "text/html": [
       "<div>\n",
       "<style scoped>\n",
       "    .dataframe tbody tr th:only-of-type {\n",
       "        vertical-align: middle;\n",
       "    }\n",
       "\n",
       "    .dataframe tbody tr th {\n",
       "        vertical-align: top;\n",
       "    }\n",
       "\n",
       "    .dataframe thead th {\n",
       "        text-align: right;\n",
       "    }\n",
       "</style>\n",
       "<table border=\"1\" class=\"dataframe\">\n",
       "  <thead>\n",
       "    <tr style=\"text-align: right;\">\n",
       "      <th></th>\n",
       "      <th>Date</th>\n",
       "      <th>Code</th>\n",
       "      <th>개인</th>\n",
       "      <th>외국인계</th>\n",
       "    </tr>\n",
       "  </thead>\n",
       "  <tbody>\n",
       "    <tr>\n",
       "      <th>0</th>\n",
       "      <td>2017/12/26</td>\n",
       "      <td>269620.KQ</td>\n",
       "      <td>2556465</td>\n",
       "      <td>-458298</td>\n",
       "    </tr>\n",
       "    <tr>\n",
       "      <th>1</th>\n",
       "      <td>2017/12/26</td>\n",
       "      <td>189980.KQ</td>\n",
       "      <td>1051</td>\n",
       "      <td>-1092</td>\n",
       "    </tr>\n",
       "    <tr>\n",
       "      <th>2</th>\n",
       "      <td>2017/12/26</td>\n",
       "      <td>033180.KS</td>\n",
       "      <td>-37468</td>\n",
       "      <td>39413</td>\n",
       "    </tr>\n",
       "  </tbody>\n",
       "</table>\n",
       "</div>"
      ],
      "text/plain": [
       "         Date       Code       개인    외국인계\n",
       "0  2017/12/26  269620.KQ  2556465 -458298\n",
       "1  2017/12/26  189980.KQ     1051   -1092\n",
       "2  2017/12/26  033180.KS   -37468   39413"
      ]
     },
     "execution_count": 14,
     "metadata": {},
     "output_type": "execute_result"
    }
   ],
   "source": [
    "# 1. WHERE   Date = '2017/12/26'\n",
    "df = pd.read_sql(\"\"\"SELECT  Date, Code, 개인, 외국인계   \n",
    "                    FROM    stock_trader  \n",
    "                    WHERE   Date = '2017/12/26' ;\"\"\", con)\n",
    "df.head(3)"
   ]
  },
  {
   "cell_type": "code",
   "execution_count": 15,
   "metadata": {},
   "outputs": [
    {
     "data": {
      "text/html": [
       "<div>\n",
       "<style scoped>\n",
       "    .dataframe tbody tr th:only-of-type {\n",
       "        vertical-align: middle;\n",
       "    }\n",
       "\n",
       "    .dataframe tbody tr th {\n",
       "        vertical-align: top;\n",
       "    }\n",
       "\n",
       "    .dataframe thead th {\n",
       "        text-align: right;\n",
       "    }\n",
       "</style>\n",
       "<table border=\"1\" class=\"dataframe\">\n",
       "  <thead>\n",
       "    <tr style=\"text-align: right;\">\n",
       "      <th></th>\n",
       "      <th>Date</th>\n",
       "      <th>Code</th>\n",
       "      <th>개인</th>\n",
       "      <th>외국인계</th>\n",
       "      <th>기관계</th>\n",
       "      <th>증권</th>\n",
       "      <th>투신</th>\n",
       "      <th>은행</th>\n",
       "      <th>종금</th>\n",
       "      <th>보험</th>\n",
       "      <th>기금</th>\n",
       "      <th>기타</th>\n",
       "    </tr>\n",
       "  </thead>\n",
       "  <tbody>\n",
       "    <tr>\n",
       "      <th>0</th>\n",
       "      <td>2017/07/07</td>\n",
       "      <td>105560.KS</td>\n",
       "      <td>254904</td>\n",
       "      <td>6731165</td>\n",
       "      <td>733760</td>\n",
       "      <td>244441</td>\n",
       "      <td>206846</td>\n",
       "      <td>3090</td>\n",
       "      <td>0.0</td>\n",
       "      <td>123542.0</td>\n",
       "      <td>21535.0</td>\n",
       "      <td>-7720355.0</td>\n",
       "    </tr>\n",
       "    <tr>\n",
       "      <th>1</th>\n",
       "      <td>2016/10/06</td>\n",
       "      <td>044180.KQ</td>\n",
       "      <td>1075472</td>\n",
       "      <td>2682607</td>\n",
       "      <td>-4424784</td>\n",
       "      <td>-4424784</td>\n",
       "      <td>0</td>\n",
       "      <td>0</td>\n",
       "      <td>0.0</td>\n",
       "      <td>0.0</td>\n",
       "      <td>0.0</td>\n",
       "      <td>603148.0</td>\n",
       "    </tr>\n",
       "    <tr>\n",
       "      <th>2</th>\n",
       "      <td>2016/06/09</td>\n",
       "      <td>088350.KS</td>\n",
       "      <td>198370</td>\n",
       "      <td>1946050</td>\n",
       "      <td>-2140202</td>\n",
       "      <td>73166</td>\n",
       "      <td>-1626278</td>\n",
       "      <td>0</td>\n",
       "      <td>0.0</td>\n",
       "      <td>-406093.0</td>\n",
       "      <td>14522.0</td>\n",
       "      <td>20.0</td>\n",
       "    </tr>\n",
       "  </tbody>\n",
       "</table>\n",
       "</div>"
      ],
      "text/plain": [
       "         Date       Code       개인     외국인계      기관계       증권       투신    은행  \\\n",
       "0  2017/07/07  105560.KS   254904  6731165   733760   244441   206846  3090   \n",
       "1  2016/10/06  044180.KQ  1075472  2682607 -4424784 -4424784        0     0   \n",
       "2  2016/06/09  088350.KS   198370  1946050 -2140202    73166 -1626278     0   \n",
       "\n",
       "    종금        보험       기금         기타  \n",
       "0  0.0  123542.0  21535.0 -7720355.0  \n",
       "1  0.0       0.0      0.0   603148.0  \n",
       "2  0.0 -406093.0  14522.0       20.0  "
      ]
     },
     "execution_count": 15,
     "metadata": {},
     "output_type": "execute_result"
    }
   ],
   "source": [
    "# 2. WHERE  개인 >= 0  ORDER BY 외국인계  DESC\n",
    "df = pd.read_sql(\"\"\"SELECT  * \n",
    "                    FROM    stock_trader  \n",
    "                    WHERE   개인 >= 0  \n",
    "                        ORDER BY  외국인계  DESC ;\"\"\", con)\n",
    "df.head(3)"
   ]
  },
  {
   "cell_type": "code",
   "execution_count": 16,
   "metadata": {
    "scrolled": true
   },
   "outputs": [
    {
     "data": {
      "text/html": [
       "<div>\n",
       "<style scoped>\n",
       "    .dataframe tbody tr th:only-of-type {\n",
       "        vertical-align: middle;\n",
       "    }\n",
       "\n",
       "    .dataframe tbody tr th {\n",
       "        vertical-align: top;\n",
       "    }\n",
       "\n",
       "    .dataframe thead th {\n",
       "        text-align: right;\n",
       "    }\n",
       "</style>\n",
       "<table border=\"1\" class=\"dataframe\">\n",
       "  <thead>\n",
       "    <tr style=\"text-align: right;\">\n",
       "      <th></th>\n",
       "      <th>Date</th>\n",
       "      <th>Code</th>\n",
       "      <th>개인</th>\n",
       "      <th>외국인계</th>\n",
       "      <th>기관계</th>\n",
       "      <th>증권</th>\n",
       "      <th>투신</th>\n",
       "      <th>은행</th>\n",
       "      <th>종금</th>\n",
       "      <th>보험</th>\n",
       "      <th>기금</th>\n",
       "      <th>기타</th>\n",
       "    </tr>\n",
       "  </thead>\n",
       "  <tbody>\n",
       "    <tr>\n",
       "      <th>0</th>\n",
       "      <td>2017/12/22</td>\n",
       "      <td>004410.KS</td>\n",
       "      <td>-1321667</td>\n",
       "      <td>1336672</td>\n",
       "      <td>593</td>\n",
       "      <td>593</td>\n",
       "      <td>0</td>\n",
       "      <td>0</td>\n",
       "      <td>0.0</td>\n",
       "      <td>0.0</td>\n",
       "      <td>0.0</td>\n",
       "      <td>99.0</td>\n",
       "    </tr>\n",
       "    <tr>\n",
       "      <th>1</th>\n",
       "      <td>2017/12/22</td>\n",
       "      <td>044180.KQ</td>\n",
       "      <td>-492579</td>\n",
       "      <td>995756</td>\n",
       "      <td>3</td>\n",
       "      <td>3</td>\n",
       "      <td>0</td>\n",
       "      <td>0</td>\n",
       "      <td>0.0</td>\n",
       "      <td>0.0</td>\n",
       "      <td>0.0</td>\n",
       "      <td>-500000.0</td>\n",
       "    </tr>\n",
       "    <tr>\n",
       "      <th>2</th>\n",
       "      <td>2017/12/26</td>\n",
       "      <td>035890.KQ</td>\n",
       "      <td>-1436113</td>\n",
       "      <td>634683</td>\n",
       "      <td>545341</td>\n",
       "      <td>372515</td>\n",
       "      <td>173820</td>\n",
       "      <td>0</td>\n",
       "      <td>0.0</td>\n",
       "      <td>3254.0</td>\n",
       "      <td>0.0</td>\n",
       "      <td>264522.0</td>\n",
       "    </tr>\n",
       "  </tbody>\n",
       "</table>\n",
       "</div>"
      ],
      "text/plain": [
       "         Date       Code       개인     외국인계     기관계      증권      투신  은행   종금  \\\n",
       "0  2017/12/22  004410.KS -1321667  1336672     593     593       0   0  0.0   \n",
       "1  2017/12/22  044180.KQ  -492579   995756       3       3       0   0  0.0   \n",
       "2  2017/12/26  035890.KQ -1436113   634683  545341  372515  173820   0  0.0   \n",
       "\n",
       "       보험   기금        기타  \n",
       "0     0.0  0.0      99.0  \n",
       "1     0.0  0.0 -500000.0  \n",
       "2  3254.0  0.0  264522.0  "
      ]
     },
     "execution_count": 16,
     "metadata": {},
     "output_type": "execute_result"
    }
   ],
   "source": [
    "# 3. WHERE  Date >= '2017/12/22'  ORDER BY 외국인계  DESC\n",
    "# 날짜를 기준으로 데이터 추출 (더 빠르더라)\n",
    "df = pd.read_sql(\"\"\"SELECT   *   \n",
    "                    FROM     stock_trader  \n",
    "                    WHERE    Date >= '2017/12/22'  \n",
    "                        ORDER BY  외국인계  DESC ;\"\"\", con)\n",
    "df.head(3)"
   ]
  },
  {
   "cell_type": "markdown",
   "metadata": {},
   "source": [
    "### <strong>03 산술 연산자 \n",
    "수치연산을 활용한다 : +, -, *, /, %(나머지)"
   ]
  },
  {
   "cell_type": "code",
   "execution_count": 9,
   "metadata": {},
   "outputs": [
    {
     "data": {
      "text/html": [
       "<div>\n",
       "<style scoped>\n",
       "    .dataframe tbody tr th:only-of-type {\n",
       "        vertical-align: middle;\n",
       "    }\n",
       "\n",
       "    .dataframe tbody tr th {\n",
       "        vertical-align: top;\n",
       "    }\n",
       "\n",
       "    .dataframe thead th {\n",
       "        text-align: right;\n",
       "    }\n",
       "</style>\n",
       "<table border=\"1\" class=\"dataframe\">\n",
       "  <thead>\n",
       "    <tr style=\"text-align: right;\">\n",
       "      <th></th>\n",
       "      <th>Date</th>\n",
       "      <th>Code</th>\n",
       "      <th>개인</th>\n",
       "      <th>외국인계</th>\n",
       "      <th>국내계</th>\n",
       "    </tr>\n",
       "  </thead>\n",
       "  <tbody>\n",
       "    <tr>\n",
       "      <th>0</th>\n",
       "      <td>2017/10/23</td>\n",
       "      <td>002840.KS</td>\n",
       "      <td>-3800.0</td>\n",
       "      <td>0.0</td>\n",
       "      <td>3800.0</td>\n",
       "    </tr>\n",
       "    <tr>\n",
       "      <th>1</th>\n",
       "      <td>2017/10/23</td>\n",
       "      <td>024850.KQ</td>\n",
       "      <td>21173.0</td>\n",
       "      <td>-21201.0</td>\n",
       "      <td>56.0</td>\n",
       "    </tr>\n",
       "    <tr>\n",
       "      <th>2</th>\n",
       "      <td>2017/10/23</td>\n",
       "      <td>047050.KS</td>\n",
       "      <td>153402.0</td>\n",
       "      <td>-93974.0</td>\n",
       "      <td>-61240.0</td>\n",
       "    </tr>\n",
       "  </tbody>\n",
       "</table>\n",
       "</div>"
      ],
      "text/plain": [
       "         Date       Code        개인     외국인계      국내계\n",
       "0  2017/10/23  002840.KS   -3800.0      0.0   3800.0\n",
       "1  2017/10/23  024850.KQ   21173.0 -21201.0     56.0\n",
       "2  2017/10/23  047050.KS  153402.0 -93974.0 -61240.0"
      ]
     },
     "execution_count": 9,
     "metadata": {},
     "output_type": "execute_result"
    }
   ],
   "source": [
    "# SELECT  (외국인계+기관계) as 세력  : 컬럼의 수식 활용\n",
    "df = pd.read_sql(\"\"\"SELECT   Date, Code, 개인, 외국인계, \n",
    "                             (기관계+증권+투신+은행+기타) as 국내계 \n",
    "                    FROM     stock_trader \n",
    "                    WHERE    Date >= '2017/10/22';\"\"\", con)\n",
    "df.head(3)"
   ]
  },
  {
   "cell_type": "markdown",
   "metadata": {},
   "source": [
    "### <strong>04 비교, 논리 연산자\n",
    "비교 (>, <, >=, <=),  논리(and, or, not, in)"
   ]
  },
  {
   "cell_type": "code",
   "execution_count": 20,
   "metadata": {
    "scrolled": true
   },
   "outputs": [
    {
     "data": {
      "text/html": [
       "<div>\n",
       "<style scoped>\n",
       "    .dataframe tbody tr th:only-of-type {\n",
       "        vertical-align: middle;\n",
       "    }\n",
       "\n",
       "    .dataframe tbody tr th {\n",
       "        vertical-align: top;\n",
       "    }\n",
       "\n",
       "    .dataframe thead th {\n",
       "        text-align: right;\n",
       "    }\n",
       "</style>\n",
       "<table border=\"1\" class=\"dataframe\">\n",
       "  <thead>\n",
       "    <tr style=\"text-align: right;\">\n",
       "      <th></th>\n",
       "      <th>Date</th>\n",
       "      <th>Code</th>\n",
       "      <th>개인</th>\n",
       "      <th>외국인계</th>\n",
       "      <th>기관계</th>\n",
       "      <th>증권</th>\n",
       "      <th>투신</th>\n",
       "      <th>은행</th>\n",
       "      <th>종금</th>\n",
       "      <th>보험</th>\n",
       "      <th>기금</th>\n",
       "      <th>기타</th>\n",
       "    </tr>\n",
       "  </thead>\n",
       "  <tbody>\n",
       "    <tr>\n",
       "      <th>0</th>\n",
       "      <td>2017/10/23</td>\n",
       "      <td>002840.KS</td>\n",
       "      <td>-3800</td>\n",
       "      <td>0</td>\n",
       "      <td>0</td>\n",
       "      <td>0</td>\n",
       "      <td>0</td>\n",
       "      <td>0</td>\n",
       "      <td>0.0</td>\n",
       "      <td>0.0</td>\n",
       "      <td>0.0</td>\n",
       "      <td>3800.0</td>\n",
       "    </tr>\n",
       "    <tr>\n",
       "      <th>1</th>\n",
       "      <td>2017/10/23</td>\n",
       "      <td>032960.KQ</td>\n",
       "      <td>-3290</td>\n",
       "      <td>0</td>\n",
       "      <td>42</td>\n",
       "      <td>42</td>\n",
       "      <td>0</td>\n",
       "      <td>0</td>\n",
       "      <td>0.0</td>\n",
       "      <td>0.0</td>\n",
       "      <td>0.0</td>\n",
       "      <td>3248.0</td>\n",
       "    </tr>\n",
       "    <tr>\n",
       "      <th>2</th>\n",
       "      <td>2017/10/23</td>\n",
       "      <td>065650.KQ</td>\n",
       "      <td>-125106</td>\n",
       "      <td>48545</td>\n",
       "      <td>0</td>\n",
       "      <td>0</td>\n",
       "      <td>0</td>\n",
       "      <td>0</td>\n",
       "      <td>0.0</td>\n",
       "      <td>0.0</td>\n",
       "      <td>0.0</td>\n",
       "      <td>72000.0</td>\n",
       "    </tr>\n",
       "  </tbody>\n",
       "</table>\n",
       "</div>"
      ],
      "text/plain": [
       "         Date       Code      개인   외국인계  기관계  증권  투신  은행   종금   보험   기금  \\\n",
       "0  2017/10/23  002840.KS   -3800      0    0   0   0   0  0.0  0.0  0.0   \n",
       "1  2017/10/23  032960.KQ   -3290      0   42  42   0   0  0.0  0.0  0.0   \n",
       "2  2017/10/23  065650.KQ -125106  48545    0   0   0   0  0.0  0.0  0.0   \n",
       "\n",
       "        기타  \n",
       "0   3800.0  \n",
       "1   3248.0  \n",
       "2  72000.0  "
      ]
     },
     "execution_count": 20,
     "metadata": {},
     "output_type": "execute_result"
    }
   ],
   "source": [
    "# SELECT  WHERE 조건1 AND 조건2  ;\n",
    "df = pd.read_sql(\"\"\"SELECT  *  \n",
    "                    FROM    stock_trader \n",
    "                    WHERE   Date   >= '2017/10/22' AND\n",
    "                            외국인계 >=  0  ;\"\"\",   con)\n",
    "df.head(3)"
   ]
  },
  {
   "cell_type": "code",
   "execution_count": 26,
   "metadata": {
    "scrolled": true
   },
   "outputs": [
    {
     "data": {
      "text/html": [
       "<div>\n",
       "<style scoped>\n",
       "    .dataframe tbody tr th:only-of-type {\n",
       "        vertical-align: middle;\n",
       "    }\n",
       "\n",
       "    .dataframe tbody tr th {\n",
       "        vertical-align: top;\n",
       "    }\n",
       "\n",
       "    .dataframe thead th {\n",
       "        text-align: right;\n",
       "    }\n",
       "</style>\n",
       "<table border=\"1\" class=\"dataframe\">\n",
       "  <thead>\n",
       "    <tr style=\"text-align: right;\">\n",
       "      <th></th>\n",
       "      <th>Date</th>\n",
       "      <th>Code</th>\n",
       "      <th>개인</th>\n",
       "      <th>외국인계</th>\n",
       "      <th>기관계</th>\n",
       "    </tr>\n",
       "  </thead>\n",
       "  <tbody>\n",
       "    <tr>\n",
       "      <th>0</th>\n",
       "      <td>2017/10/23</td>\n",
       "      <td>065650.KQ</td>\n",
       "      <td>-125106</td>\n",
       "      <td>48545</td>\n",
       "      <td>0</td>\n",
       "    </tr>\n",
       "    <tr>\n",
       "      <th>1</th>\n",
       "      <td>2017/10/23</td>\n",
       "      <td>002150.KS</td>\n",
       "      <td>-1793</td>\n",
       "      <td>1925</td>\n",
       "      <td>-17</td>\n",
       "    </tr>\n",
       "    <tr>\n",
       "      <th>2</th>\n",
       "      <td>2017/10/23</td>\n",
       "      <td>052400.KQ</td>\n",
       "      <td>2561</td>\n",
       "      <td>2755</td>\n",
       "      <td>-1442</td>\n",
       "    </tr>\n",
       "  </tbody>\n",
       "</table>\n",
       "</div>"
      ],
      "text/plain": [
       "         Date       Code      개인   외국인계   기관계\n",
       "0  2017/10/23  065650.KQ -125106  48545     0\n",
       "1  2017/10/23  002150.KS   -1793   1925   -17\n",
       "2  2017/10/23  052400.KQ    2561   2755 -1442"
      ]
     },
     "execution_count": 26,
     "metadata": {},
     "output_type": "execute_result"
    }
   ],
   "source": [
    "# SELECT  WHERE 조건1 or 조건2  ;\n",
    "df = pd.read_sql(\"\"\"SELECT   Date, Code, 개인, 외국인계, 기관계  \n",
    "                    FROM     stock_trader \n",
    "                    WHERE    Date >= '2017/10/22' AND \n",
    "                             ((외국인계 % 10) >= 5) ;\"\"\", con)\n",
    "df.head(3)"
   ]
  },
  {
   "cell_type": "markdown",
   "metadata": {},
   "source": [
    "### <strong>05 문자처리 연산자\n",
    "문자 연결 및 비교\n",
    "1. <strong>'%'</strong> : 시작<strong>%</strong>, <strong>%</strong>끝, <strong>%</strong>중간<strong>%</strong>\n",
    "1. <strong>_</strong> : 임의의 1개 문자"
   ]
  },
  {
   "cell_type": "code",
   "execution_count": 35,
   "metadata": {
    "scrolled": true
   },
   "outputs": [
    {
     "data": {
      "text/html": [
       "<div>\n",
       "<style scoped>\n",
       "    .dataframe tbody tr th:only-of-type {\n",
       "        vertical-align: middle;\n",
       "    }\n",
       "\n",
       "    .dataframe tbody tr th {\n",
       "        vertical-align: top;\n",
       "    }\n",
       "\n",
       "    .dataframe thead th {\n",
       "        text-align: right;\n",
       "    }\n",
       "</style>\n",
       "<table border=\"1\" class=\"dataframe\">\n",
       "  <thead>\n",
       "    <tr style=\"text-align: right;\">\n",
       "      <th></th>\n",
       "      <th>Date || Code</th>\n",
       "    </tr>\n",
       "  </thead>\n",
       "  <tbody>\n",
       "    <tr>\n",
       "      <th>0</th>\n",
       "      <td>2017/10/23002840.KS</td>\n",
       "    </tr>\n",
       "    <tr>\n",
       "      <th>1</th>\n",
       "      <td>2017/10/23024850.KQ</td>\n",
       "    </tr>\n",
       "    <tr>\n",
       "      <th>2</th>\n",
       "      <td>2017/10/23047050.KS</td>\n",
       "    </tr>\n",
       "  </tbody>\n",
       "</table>\n",
       "</div>"
      ],
      "text/plain": [
       "          Date || Code\n",
       "0  2017/10/23002840.KS\n",
       "1  2017/10/23024850.KQ\n",
       "2  2017/10/23047050.KS"
      ]
     },
     "execution_count": 35,
     "metadata": {},
     "output_type": "execute_result"
    }
   ],
   "source": [
    "# 1. Date || Code : 두개의 문자열을 합친다\n",
    "df = pd.read_sql(\"\"\"SELECT   Date || Code  \n",
    "                    FROM     stock_trader \n",
    "                    WHERE    Date >= '2017/10/22' ;\"\"\", con)\n",
    "df.head(3)"
   ]
  },
  {
   "cell_type": "code",
   "execution_count": 34,
   "metadata": {
    "scrolled": true
   },
   "outputs": [
    {
     "data": {
      "text/html": [
       "<div>\n",
       "<style scoped>\n",
       "    .dataframe tbody tr th:only-of-type {\n",
       "        vertical-align: middle;\n",
       "    }\n",
       "\n",
       "    .dataframe tbody tr th {\n",
       "        vertical-align: top;\n",
       "    }\n",
       "\n",
       "    .dataframe thead th {\n",
       "        text-align: right;\n",
       "    }\n",
       "</style>\n",
       "<table border=\"1\" class=\"dataframe\">\n",
       "  <thead>\n",
       "    <tr style=\"text-align: right;\">\n",
       "      <th></th>\n",
       "      <th>Date</th>\n",
       "      <th>Code</th>\n",
       "      <th>개인</th>\n",
       "      <th>외국인계</th>\n",
       "      <th>기관계</th>\n",
       "    </tr>\n",
       "  </thead>\n",
       "  <tbody>\n",
       "    <tr>\n",
       "      <th>0</th>\n",
       "      <td>2017/10/23</td>\n",
       "      <td>000910.KS</td>\n",
       "      <td>3185</td>\n",
       "      <td>-3161</td>\n",
       "      <td>-24</td>\n",
       "    </tr>\n",
       "    <tr>\n",
       "      <th>1</th>\n",
       "      <td>2017/10/23</td>\n",
       "      <td>000860.KS</td>\n",
       "      <td>975</td>\n",
       "      <td>353</td>\n",
       "      <td>-1324</td>\n",
       "    </tr>\n",
       "    <tr>\n",
       "      <th>2</th>\n",
       "      <td>2017/10/23</td>\n",
       "      <td>000760.KS</td>\n",
       "      <td>1</td>\n",
       "      <td>0</td>\n",
       "      <td>-1</td>\n",
       "    </tr>\n",
       "  </tbody>\n",
       "</table>\n",
       "</div>"
      ],
      "text/plain": [
       "         Date       Code    개인  외국인계   기관계\n",
       "0  2017/10/23  000910.KS  3185 -3161   -24\n",
       "1  2017/10/23  000860.KS   975   353 -1324\n",
       "2  2017/10/23  000760.KS     1     0    -1"
      ]
     },
     "execution_count": 34,
     "metadata": {},
     "output_type": "execute_result"
    }
   ],
   "source": [
    "# 2. Code  LIKE '000%'  : '000'으로 시작하는 데이터 추출\n",
    "df = pd.read_sql(\"\"\"SELECT  Date, Code      \n",
    "                    FROM    stock_trader \n",
    "                    WHERE   Date  >=   '2017/10/22' AND  \n",
    "                            Code  LIKE '000%';\"\"\", con)\n",
    "df.head(3)"
   ]
  },
  {
   "cell_type": "code",
   "execution_count": 36,
   "metadata": {
    "scrolled": true
   },
   "outputs": [
    {
     "data": {
      "text/html": [
       "<div>\n",
       "<style scoped>\n",
       "    .dataframe tbody tr th:only-of-type {\n",
       "        vertical-align: middle;\n",
       "    }\n",
       "\n",
       "    .dataframe tbody tr th {\n",
       "        vertical-align: top;\n",
       "    }\n",
       "\n",
       "    .dataframe thead th {\n",
       "        text-align: right;\n",
       "    }\n",
       "</style>\n",
       "<table border=\"1\" class=\"dataframe\">\n",
       "  <thead>\n",
       "    <tr style=\"text-align: right;\">\n",
       "      <th></th>\n",
       "      <th>Date</th>\n",
       "      <th>Code</th>\n",
       "    </tr>\n",
       "  </thead>\n",
       "  <tbody>\n",
       "    <tr>\n",
       "      <th>0</th>\n",
       "      <td>2017/10/23</td>\n",
       "      <td>024850.KQ</td>\n",
       "    </tr>\n",
       "    <tr>\n",
       "      <th>1</th>\n",
       "      <td>2017/10/23</td>\n",
       "      <td>256940.KQ</td>\n",
       "    </tr>\n",
       "    <tr>\n",
       "      <th>2</th>\n",
       "      <td>2017/10/23</td>\n",
       "      <td>032960.KQ</td>\n",
       "    </tr>\n",
       "  </tbody>\n",
       "</table>\n",
       "</div>"
      ],
      "text/plain": [
       "         Date       Code\n",
       "0  2017/10/23  024850.KQ\n",
       "1  2017/10/23  256940.KQ\n",
       "2  2017/10/23  032960.KQ"
      ]
     },
     "execution_count": 36,
     "metadata": {},
     "output_type": "execute_result"
    }
   ],
   "source": [
    "# 3. Code  LIKE '%KQ' :   KQ로 끝나는 문자열\n",
    "df = pd.read_sql(\"\"\"SELECT  Date, Code      \n",
    "                    FROM    stock_trader \n",
    "                    WHERE   Date  >=   '2017/10/22' AND  \n",
    "                            Code  LIKE '%KQ';\"\"\", con)\n",
    "df.head(3)"
   ]
  },
  {
   "cell_type": "markdown",
   "metadata": {},
   "source": [
    "### <strong>06 기타 연산자\n",
    "1. <strong>'%'</strong> : 시작<strong>%</strong>, <strong>%</strong>끝, <strong>%</strong>중간<strong>%</strong>\n",
    "1. <strong>_</strong> : 임의의 1개 문자"
   ]
  },
  {
   "cell_type": "code",
   "execution_count": 41,
   "metadata": {
    "scrolled": true
   },
   "outputs": [
    {
     "data": {
      "text/html": [
       "<div>\n",
       "<style scoped>\n",
       "    .dataframe tbody tr th:only-of-type {\n",
       "        vertical-align: middle;\n",
       "    }\n",
       "\n",
       "    .dataframe tbody tr th {\n",
       "        vertical-align: top;\n",
       "    }\n",
       "\n",
       "    .dataframe thead th {\n",
       "        text-align: right;\n",
       "    }\n",
       "</style>\n",
       "<table border=\"1\" class=\"dataframe\">\n",
       "  <thead>\n",
       "    <tr style=\"text-align: right;\">\n",
       "      <th></th>\n",
       "      <th>Date</th>\n",
       "      <th>Code</th>\n",
       "      <th>개인</th>\n",
       "      <th>외국인계</th>\n",
       "      <th>기관계</th>\n",
       "    </tr>\n",
       "  </thead>\n",
       "  <tbody>\n",
       "    <tr>\n",
       "      <th>0</th>\n",
       "      <td>2017/10/23</td>\n",
       "      <td>065650.KQ</td>\n",
       "      <td>-125106</td>\n",
       "      <td>48545</td>\n",
       "      <td>0</td>\n",
       "    </tr>\n",
       "    <tr>\n",
       "      <th>1</th>\n",
       "      <td>2017/10/23</td>\n",
       "      <td>036090.KQ</td>\n",
       "      <td>-27289</td>\n",
       "      <td>24410</td>\n",
       "      <td>72</td>\n",
       "    </tr>\n",
       "    <tr>\n",
       "      <th>2</th>\n",
       "      <td>2017/10/23</td>\n",
       "      <td>072020.KQ</td>\n",
       "      <td>-3431</td>\n",
       "      <td>3431</td>\n",
       "      <td>0</td>\n",
       "    </tr>\n",
       "  </tbody>\n",
       "</table>\n",
       "</div>"
      ],
      "text/plain": [
       "         Date       Code      개인   외국인계  기관계\n",
       "0  2017/10/23  065650.KQ -125106  48545    0\n",
       "1  2017/10/23  036090.KQ  -27289  24410   72\n",
       "2  2017/10/23  072020.KQ   -3431   3431    0"
      ]
     },
     "execution_count": 41,
     "metadata": {},
     "output_type": "execute_result"
    }
   ],
   "source": [
    "# WHERE   외국인계  BETWEEN  100  AND  100000\n",
    "df = pd.read_sql(\"\"\"SELECT   Date, Code, 개인, 외국인계, 기관계   \n",
    "                    FROM     stock_trader \n",
    "                    WHERE    Date    >=  '2017/10/22' AND  \n",
    "                             외국인계  BETWEEN 100 AND 100000;\"\"\", con)\n",
    "df.head(3)"
   ]
  },
  {
   "cell_type": "code",
   "execution_count": 43,
   "metadata": {
    "scrolled": true
   },
   "outputs": [
    {
     "data": {
      "text/html": [
       "<div>\n",
       "<style scoped>\n",
       "    .dataframe tbody tr th:only-of-type {\n",
       "        vertical-align: middle;\n",
       "    }\n",
       "\n",
       "    .dataframe tbody tr th {\n",
       "        vertical-align: top;\n",
       "    }\n",
       "\n",
       "    .dataframe thead th {\n",
       "        text-align: right;\n",
       "    }\n",
       "</style>\n",
       "<table border=\"1\" class=\"dataframe\">\n",
       "  <thead>\n",
       "    <tr style=\"text-align: right;\">\n",
       "      <th></th>\n",
       "      <th>Date</th>\n",
       "      <th>Code</th>\n",
       "      <th>개인</th>\n",
       "      <th>외국인계</th>\n",
       "      <th>기관계</th>\n",
       "    </tr>\n",
       "  </thead>\n",
       "  <tbody>\n",
       "    <tr>\n",
       "      <th>0</th>\n",
       "      <td>2017/10/24</td>\n",
       "      <td>0126</td>\n",
       "      <td>None</td>\n",
       "      <td>None</td>\n",
       "      <td>None</td>\n",
       "    </tr>\n",
       "  </tbody>\n",
       "</table>\n",
       "</div>"
      ],
      "text/plain": [
       "         Date  Code    개인  외국인계   기관계\n",
       "0  2017/10/24  0126  None  None  None"
      ]
     },
     "execution_count": 43,
     "metadata": {},
     "output_type": "execute_result"
    }
   ],
   "source": [
    "# WHERE  WHERE 외국인계 IS NULL / IS NOT NULL  : NULL 값을 확인한다\n",
    "df = pd.read_sql(\"\"\"SELECT  Date, Code, 개인, 외국인계, 기관계   \n",
    "                    FROM    stock_trader \n",
    "                    WHERE   외국인계  IS  NULL;\"\"\", con)\n",
    "df.head(3)"
   ]
  },
  {
   "cell_type": "code",
   "execution_count": 44,
   "metadata": {
    "scrolled": true
   },
   "outputs": [
    {
     "data": {
      "text/html": [
       "<div>\n",
       "<style scoped>\n",
       "    .dataframe tbody tr th:only-of-type {\n",
       "        vertical-align: middle;\n",
       "    }\n",
       "\n",
       "    .dataframe tbody tr th {\n",
       "        vertical-align: top;\n",
       "    }\n",
       "\n",
       "    .dataframe thead th {\n",
       "        text-align: right;\n",
       "    }\n",
       "</style>\n",
       "<table border=\"1\" class=\"dataframe\">\n",
       "  <thead>\n",
       "    <tr style=\"text-align: right;\">\n",
       "      <th></th>\n",
       "      <th>Date</th>\n",
       "      <th>Code</th>\n",
       "      <th>개인</th>\n",
       "      <th>외국인계</th>\n",
       "      <th>기관계</th>\n",
       "    </tr>\n",
       "  </thead>\n",
       "  <tbody>\n",
       "    <tr>\n",
       "      <th>0</th>\n",
       "      <td>2017/10/23</td>\n",
       "      <td>005930.KS</td>\n",
       "      <td>5683</td>\n",
       "      <td>30468</td>\n",
       "      <td>-63060</td>\n",
       "    </tr>\n",
       "    <tr>\n",
       "      <th>1</th>\n",
       "      <td>2017/10/23</td>\n",
       "      <td>000390.KS</td>\n",
       "      <td>-1935</td>\n",
       "      <td>2775</td>\n",
       "      <td>-840</td>\n",
       "    </tr>\n",
       "    <tr>\n",
       "      <th>2</th>\n",
       "      <td>2017/10/24</td>\n",
       "      <td>000390.KS</td>\n",
       "      <td>-4316</td>\n",
       "      <td>4340</td>\n",
       "      <td>-24</td>\n",
       "    </tr>\n",
       "  </tbody>\n",
       "</table>\n",
       "</div>"
      ],
      "text/plain": [
       "         Date       Code    개인   외국인계    기관계\n",
       "0  2017/10/23  005930.KS  5683  30468 -63060\n",
       "1  2017/10/23  000390.KS -1935   2775   -840\n",
       "2  2017/10/24  000390.KS -4316   4340    -24"
      ]
     },
     "execution_count": 44,
     "metadata": {},
     "output_type": "execute_result"
    }
   ],
   "source": [
    "# WHERE  Code  IN/ NOT IN  ('005930.KS', '000390.KS') : 특정 열의 포함여부를 확인\n",
    "df = pd.read_sql(\"\"\"SELECT  Date, Code, 개인, 외국인계, 기관계   \n",
    "                    FROM    stock_trader \n",
    "                    WHERE   Date  >= '2017/10/22' AND  \n",
    "                            Code  IN ('005930.KS', '000390.KS') ;\"\"\", con)\n",
    "df.head(3)"
   ]
  },
  {
   "cell_type": "markdown",
   "metadata": {},
   "source": [
    "<br>\n",
    "## <strong>3 SQL 함수\n",
    "### <strong>01 수치/ 문자 함수\n",
    "소숫점의 연산"
   ]
  },
  {
   "cell_type": "code",
   "execution_count": 17,
   "metadata": {},
   "outputs": [
    {
     "name": "stdout",
     "output_type": "stream",
     "text": [
      "('2016/05/18', '047770.KQ', 1)\n",
      "('2016/05/18', '014200.KQ', 4)\n",
      "('2016/05/18', '009780.KQ', 5)\n",
      "('2016/05/18', '123420.KQ', 5)\n"
     ]
    }
   ],
   "source": [
    "# 1. LENGTH() : 데이터 문자열 길이출력 \n",
    "import sqlite3\n",
    "conn = sqlite3.connect(\"./data/krxStock.db\")\n",
    "cur = conn.cursor()\n",
    "SQL = \"\"\"SELECT   Date, Code, \n",
    "                  LENGTH(개인) AS result    /* LENGTH() : 데이터 문자열 길이출력 */\n",
    "         FROM     stock_trader;\"\"\"\n",
    "cur.execute(SQL)\n",
    "for no, row in enumerate(cur.fetchall()):\n",
    "    if no != 4  : print(row)\n",
    "    elif no == 4: break"
   ]
  },
  {
   "cell_type": "code",
   "execution_count": 20,
   "metadata": {},
   "outputs": [
    {
     "name": "stdout",
     "output_type": "stream",
     "text": [
      "('2016/05/18', '047770.KQ', '4777')\n",
      "('2016/05/18', '014200.KQ', '1420')\n",
      "('2016/05/18', '009780.KQ', '0978')\n",
      "('2016/05/18', '123420.KQ', '2342')\n"
     ]
    }
   ],
   "source": [
    "# SUBSTR/ SUBSTRING (필드명, 왼쪽에서 시작점,  총 가져올 String수)\n",
    "SQL = \"\"\"SELECT   Date, Code,\n",
    "                  SUBSTR (Code,2,4) as result  /* (객체변수, 시작점, 가져올갯수) */\n",
    "         FROM     stock_trader; \"\"\"\n",
    "cur.execute(SQL)\n",
    "for no, row in enumerate(cur.fetchall()):\n",
    "    if no != 4  : print(row)\n",
    "    elif no == 4: break"
   ]
  },
  {
   "cell_type": "code",
   "execution_count": 25,
   "metadata": {},
   "outputs": [
    {
     "name": "stdout",
     "output_type": "stream",
     "text": [
      "('2016/05/18', '047770.kq')\n",
      "('2016/05/18', '014200.kq')\n",
      "('2016/05/18', '009780.kq')\n",
      "('2016/05/18', '123420.kq')\n"
     ]
    }
   ],
   "source": [
    "# LOWER(소문자로 변환), UPPER(대문자로 변환)\n",
    "SQL = \"\"\"SELECT   Date, \n",
    "                  LOWER(Code) as pCode   /* LOWER(소문자로 변환), UPPER(대문자로 변환) */\n",
    "         FROM     stock_trader;\"\"\"\n",
    "cur.execute(SQL)\n",
    "for no, row in enumerate(cur.fetchall()):\n",
    "    if no != 4  : print(row)\n",
    "    elif no == 4: break"
   ]
  },
  {
   "cell_type": "markdown",
   "metadata": {},
   "source": [
    "### <strong>02 날짜 함수\n",
    "날짜를 다루는 함수들\n",
    "https://sqlite.org/lang_datefunc.html  : DB별 함수들이 다름에 유의"
   ]
  },
  {
   "cell_type": "code",
   "execution_count": 2,
   "metadata": {},
   "outputs": [
    {
     "data": {
      "text/plain": [
       "[('2017-12-28',)]"
      ]
     },
     "execution_count": 2,
     "metadata": {},
     "output_type": "execute_result"
    }
   ],
   "source": [
    "# SQL 구문을 호충\n",
    "import sqlite3\n",
    "con = sqlite3.connect('./sqlite.db')\n",
    "cursor = con.cursor()\n",
    "cursor.execute(\"SELECT  DATE('now');\")\n",
    "cursor.fetchall()"
   ]
  },
  {
   "cell_type": "code",
   "execution_count": 3,
   "metadata": {},
   "outputs": [
    {
     "data": {
      "text/plain": [
       "[('2017-12-31',)]"
      ]
     },
     "execution_count": 3,
     "metadata": {},
     "output_type": "execute_result"
    }
   ],
   "source": [
    "# 해당 월의 마지막 날짜를 계산한다 (해당월 다음 월의 1일전의 날짜를 출력)\n",
    "cursor.execute(\"\"\"SELECT  DATE('now', 'start of month',\n",
    "                               '+1 month',\n",
    "                               '-1 day') ;\"\"\")\n",
    "cursor.fetchall()"
   ]
  },
  {
   "cell_type": "code",
   "execution_count": 4,
   "metadata": {},
   "outputs": [
    {
     "data": {
      "text/plain": [
       "[(441528872,)]"
      ]
     },
     "execution_count": 4,
     "metadata": {},
     "output_type": "execute_result"
    }
   ],
   "source": [
    "cursor.execute(\"\"\"SELECT  strftime('%s','now') \n",
    "                        - strftime('%s','2004-01-01 02:34:56');\"\"\" )\n",
    "cursor.fetchall()"
   ]
  },
  {
   "cell_type": "code",
   "execution_count": 5,
   "metadata": {},
   "outputs": [
    {
     "data": {
      "text/plain": [
       "[('2017-10-03',)]"
      ]
     },
     "execution_count": 5,
     "metadata": {},
     "output_type": "execute_result"
    }
   ],
   "source": [
    "# 10월 (1월 + 9월 의 첫번쨰 화요일 출력\n",
    "cursor.execute(\"\"\"SELECT  DATE('now','start of year',\n",
    "                               '+9 months',\n",
    "                               'weekday 2'); \"\"\")\n",
    "cursor.fetchall()"
   ]
  },
  {
   "cell_type": "code",
   "execution_count": 6,
   "metadata": {},
   "outputs": [
    {
     "data": {
      "text/plain": [
       "[(909,)]"
      ]
     },
     "execution_count": 6,
     "metadata": {},
     "output_type": "execute_result"
    }
   ],
   "source": [
    "# %m   : 월 자료의 연산시\n",
    "# %m%d : 월일 자료간 연산시 (9월 09일)\n",
    "# %d   : 일 자료간 연산시\n",
    "cursor.execute(\"\"\"SELECT  strftime('%m%d','2011-10-10') \n",
    "                        - strftime('%m%d','2012-01-01');\"\"\")\n",
    "cursor.fetchall()"
   ]
  },
  {
   "cell_type": "code",
   "execution_count": 145,
   "metadata": {},
   "outputs": [],
   "source": [
    "con.close()"
   ]
  },
  {
   "cell_type": "markdown",
   "metadata": {},
   "source": [
    "### <strong>03 집합함수\n",
    "하나의 '필드'에 대한 연산결과를 집합하여 출력"
   ]
  },
  {
   "cell_type": "code",
   "execution_count": 71,
   "metadata": {},
   "outputs": [
    {
     "data": {
      "text/plain": [
       "[('2017/12/26', '039030.KQ', 1202.990261370832, 110186690, 91594)]"
      ]
     },
     "execution_count": 71,
     "metadata": {},
     "output_type": "execute_result"
    }
   ],
   "source": [
    "# 1. AVG, SUM, COUNT, MAX, MIN \n",
    "import sqlite3\n",
    "conn = sqlite3.connect(\"./data/krxStock.db\")\n",
    "cur = conn.cursor()\n",
    "SQL = \"\"\"SELECT  Date, Code, \n",
    "                 AVG(개인) as average,   /*AVG(필드)   : 필드 값들의 평균 */ \n",
    "                 SUM(개인) as total,     /*SUM(필드)   : 필드 값들의 합계 */\n",
    "                 COUNT(개인) as count    /*COUNT(필드) : 필드 객체 갯수   */\n",
    "          FROM   stock_trader  \n",
    "          WHERE  Date >= '2017/10/22';\"\"\"\n",
    "cur.execute(SQL)\n",
    "cur.fetchall()"
   ]
  },
  {
   "cell_type": "code",
   "execution_count": 76,
   "metadata": {},
   "outputs": [
    {
     "data": {
      "text/plain": [
       "[('2016/08/03', '003450.KS', -6855390, 4186668),\n",
       " ('2017/04/05', '044180.KQ', -4239124, 4209824),\n",
       " ('2017/07/07', '105560.KS', 254904, 6731165)]"
      ]
     },
     "execution_count": 76,
     "metadata": {},
     "output_type": "execute_result"
    }
   ],
   "source": [
    "# HAVING(조건) : Group By 에 조건을 추가\n",
    "SQL = \"\"\"SELECT    Date, Code, 개인, 외국인계\n",
    "         FROM      stock_trader  \n",
    "         GROUP BY  Code   \n",
    "                   HAVING ( MAX( 외국인계 ) > 4000000 );\"\"\"\n",
    "cur.execute(SQL)\n",
    "cur.fetchall()"
   ]
  },
  {
   "cell_type": "code",
   "execution_count": 78,
   "metadata": {},
   "outputs": [
    {
     "data": {
      "text/plain": [
       "[(2000,)]"
      ]
     },
     "execution_count": 78,
     "metadata": {},
     "output_type": "execute_result"
    }
   ],
   "source": [
    "# GROUP BY  Code   HAVING (조건);\n",
    "# 조건을 만족하는 Code들만 출력\n",
    "SQL = \"\"\"SELECT  CAST ('2000-02-02' as DATETIME);\"\"\" # DATETIME 포맷으로 변환한다\n",
    "cur.execute(SQL)\n",
    "cur.fetchall()"
   ]
  },
  {
   "cell_type": "code",
   "execution_count": 79,
   "metadata": {},
   "outputs": [
    {
     "name": "stdout",
     "output_type": "stream",
     "text": [
      "('2017/10/23', 2017, '002840.KS', -3800, 0)\n",
      "('2017/10/23', 2017, '024850.KQ', 21173, -21201)\n",
      "('2017/10/23', 2017, '047050.KS', 153402, -93974)\n",
      "('2017/10/23', 2017, '256940.KQ', -99, -300)\n"
     ]
    }
   ],
   "source": [
    "# GROUP BY  Code   HAVING (조건);\n",
    "# 조건을 만족하는 Code들만 출력\n",
    "SQL = \"\"\"SELECT  Date  as  moonjay,  \n",
    "                 CAST(Date  AS  DATETIME)  as nalzz,\n",
    "                 Code, 개인, 외국인계\n",
    "         FROM    stock_trader  \n",
    "         WHERE   Date >= '2017/10/22';\"\"\"\n",
    "cur.execute(SQL)\n",
    "for no, row in enumerate(cur.fetchall()):\n",
    "    if no != 4  : print(row)\n",
    "    elif no == 4: br"
   ]
  },
  {
   "cell_type": "markdown",
   "metadata": {},
   "source": [
    "<br>\n",
    "## <strong>4 Sub Query\n",
    "<strong>서브쿼리</strong> : SELECT 내부에 SELECT를 사용"
   ]
  },
  {
   "cell_type": "code",
   "execution_count": 128,
   "metadata": {},
   "outputs": [],
   "source": [
    "# 특정 컬럼만 추출 \n",
    "import sqlite3\n",
    "import pandas as pd\n",
    "db = './data/krxStock.db'\n",
    "con = sqlite3.connect(db)"
   ]
  },
  {
   "cell_type": "code",
   "execution_count": 129,
   "metadata": {},
   "outputs": [
    {
     "data": {
      "text/html": [
       "<div>\n",
       "<style scoped>\n",
       "    .dataframe tbody tr th:only-of-type {\n",
       "        vertical-align: middle;\n",
       "    }\n",
       "\n",
       "    .dataframe tbody tr th {\n",
       "        vertical-align: top;\n",
       "    }\n",
       "\n",
       "    .dataframe thead th {\n",
       "        text-align: right;\n",
       "    }\n",
       "</style>\n",
       "<table border=\"1\" class=\"dataframe\">\n",
       "  <thead>\n",
       "    <tr style=\"text-align: right;\">\n",
       "      <th></th>\n",
       "      <th>Date</th>\n",
       "      <th>Code</th>\n",
       "      <th>개인</th>\n",
       "      <th>외국인계</th>\n",
       "      <th>기관계</th>\n",
       "    </tr>\n",
       "  </thead>\n",
       "  <tbody>\n",
       "    <tr>\n",
       "      <th>0</th>\n",
       "      <td>2017/11/22</td>\n",
       "      <td>056090.KQ</td>\n",
       "      <td>8428</td>\n",
       "      <td>-3045</td>\n",
       "      <td>-5383</td>\n",
       "    </tr>\n",
       "    <tr>\n",
       "      <th>1</th>\n",
       "      <td>2017/11/22</td>\n",
       "      <td>259630.KQ</td>\n",
       "      <td>38228</td>\n",
       "      <td>2413</td>\n",
       "      <td>-8754</td>\n",
       "    </tr>\n",
       "    <tr>\n",
       "      <th>2</th>\n",
       "      <td>2017/11/22</td>\n",
       "      <td>196700.KQ</td>\n",
       "      <td>3756</td>\n",
       "      <td>-2959</td>\n",
       "      <td>-780</td>\n",
       "    </tr>\n",
       "  </tbody>\n",
       "</table>\n",
       "</div>"
      ],
      "text/plain": [
       "         Date       Code     개인  외국인계   기관계\n",
       "0  2017/11/22  056090.KQ   8428 -3045 -5383\n",
       "1  2017/11/22  259630.KQ  38228  2413 -8754\n",
       "2  2017/11/22  196700.KQ   3756 -2959  -780"
      ]
     },
     "execution_count": 129,
     "metadata": {},
     "output_type": "execute_result"
    }
   ],
   "source": [
    "# 1. WHERE 에서 '서브쿼리문' 사용 : SELECT AVG(외국인계) FROM stock_trader\n",
    "df = pd.read_sql(\"\"\"SELECT  Date, Code, 개인, 외국인계, 기관계\n",
    "                    FROM    stock_trader \n",
    "                    WHERE   Date >= '2017/11/22'  AND\n",
    "                            개인  >= (SELECT  AVG(외국인계) \n",
    "                                     FROM    stock_trader) ;\"\"\", con)\n",
    "df.head(3)"
   ]
  },
  {
   "cell_type": "code",
   "execution_count": 110,
   "metadata": {},
   "outputs": [
    {
     "data": {
      "text/html": [
       "<div>\n",
       "<style scoped>\n",
       "    .dataframe tbody tr th:only-of-type {\n",
       "        vertical-align: middle;\n",
       "    }\n",
       "\n",
       "    .dataframe tbody tr th {\n",
       "        vertical-align: top;\n",
       "    }\n",
       "\n",
       "    .dataframe thead th {\n",
       "        text-align: right;\n",
       "    }\n",
       "</style>\n",
       "<table border=\"1\" class=\"dataframe\">\n",
       "  <thead>\n",
       "    <tr style=\"text-align: right;\">\n",
       "      <th></th>\n",
       "      <th>Date</th>\n",
       "      <th>Code</th>\n",
       "      <th>개인</th>\n",
       "      <th>외국인계</th>\n",
       "      <th>기관계</th>\n",
       "      <th>ETC</th>\n",
       "    </tr>\n",
       "  </thead>\n",
       "  <tbody>\n",
       "    <tr>\n",
       "      <th>0</th>\n",
       "      <td>2016/08/31</td>\n",
       "      <td>000020.KS</td>\n",
       "      <td>92620</td>\n",
       "      <td>-8611</td>\n",
       "      <td>4309</td>\n",
       "      <td>-88518.0</td>\n",
       "    </tr>\n",
       "    <tr>\n",
       "      <th>1</th>\n",
       "      <td>2017/07/21</td>\n",
       "      <td>000030.KS</td>\n",
       "      <td>167963</td>\n",
       "      <td>676830</td>\n",
       "      <td>-346369</td>\n",
       "      <td>-499192.0</td>\n",
       "    </tr>\n",
       "    <tr>\n",
       "      <th>2</th>\n",
       "      <td>2017/09/11</td>\n",
       "      <td>000040.KS</td>\n",
       "      <td>280910</td>\n",
       "      <td>102024</td>\n",
       "      <td>-167410</td>\n",
       "      <td>-215624.0</td>\n",
       "    </tr>\n",
       "  </tbody>\n",
       "</table>\n",
       "</div>"
      ],
      "text/plain": [
       "         Date       Code      개인    외국인계     기관계       ETC\n",
       "0  2016/08/31  000020.KS   92620   -8611    4309  -88518.0\n",
       "1  2017/07/21  000030.KS  167963  676830 -346369 -499192.0\n",
       "2  2017/09/11  000040.KS  280910  102024 -167410 -215624.0"
      ]
     },
     "execution_count": 110,
     "metadata": {},
     "output_type": "execute_result"
    }
   ],
   "source": [
    "# 2. HAVING 에서 '서브쿼리문' 사용\n",
    "# HAVING MIN(기타) < (SELECT AVG(외국인계) FROM stock_trader)\n",
    "# 기타의 최소값이, 외국인 평균보다 큰 데이터를 CODE별 모음\n",
    "df = pd.read_sql(\"\"\"SELECT      Date, Code, 개인, 외국인계, 기관계, MIN(기타) as ETC\n",
    "                    FROM        stock_trader \n",
    "                    GROUP BY    Code\n",
    "                                HAVING  MIN(기타) < (SELECT  AVG(외국인계) \n",
    "                                                    FROM    stock_trader);\"\"\", con)\n",
    "df.head(3)"
   ]
  },
  {
   "cell_type": "code",
   "execution_count": 125,
   "metadata": {},
   "outputs": [
    {
     "data": {
      "text/html": [
       "<div>\n",
       "<style scoped>\n",
       "    .dataframe tbody tr th:only-of-type {\n",
       "        vertical-align: middle;\n",
       "    }\n",
       "\n",
       "    .dataframe tbody tr th {\n",
       "        vertical-align: top;\n",
       "    }\n",
       "\n",
       "    .dataframe thead th {\n",
       "        text-align: right;\n",
       "    }\n",
       "</style>\n",
       "<table border=\"1\" class=\"dataframe\">\n",
       "  <thead>\n",
       "    <tr style=\"text-align: right;\">\n",
       "      <th></th>\n",
       "      <th>Date</th>\n",
       "      <th>Code</th>\n",
       "      <th>개인</th>\n",
       "      <th>외국인계</th>\n",
       "      <th>기관계</th>\n",
       "    </tr>\n",
       "  </thead>\n",
       "  <tbody>\n",
       "    <tr>\n",
       "      <th>0</th>\n",
       "      <td>2016/08/03</td>\n",
       "      <td>003450.KS</td>\n",
       "      <td>-6855390</td>\n",
       "      <td>4186668</td>\n",
       "      <td>3285520</td>\n",
       "    </tr>\n",
       "    <tr>\n",
       "      <th>1</th>\n",
       "      <td>2017/04/05</td>\n",
       "      <td>044180.KQ</td>\n",
       "      <td>-4239124</td>\n",
       "      <td>4209824</td>\n",
       "      <td>114</td>\n",
       "    </tr>\n",
       "    <tr>\n",
       "      <th>2</th>\n",
       "      <td>2017/07/07</td>\n",
       "      <td>105560.KS</td>\n",
       "      <td>254904</td>\n",
       "      <td>6731165</td>\n",
       "      <td>733760</td>\n",
       "    </tr>\n",
       "    <tr>\n",
       "      <th>3</th>\n",
       "      <td>2017/08/14</td>\n",
       "      <td>044180.KQ</td>\n",
       "      <td>-4187182</td>\n",
       "      <td>4014190</td>\n",
       "      <td>0</td>\n",
       "    </tr>\n",
       "  </tbody>\n",
       "</table>\n",
       "</div>"
      ],
      "text/plain": [
       "         Date       Code       개인     외국인계      기관계\n",
       "0  2016/08/03  003450.KS -6855390  4186668  3285520\n",
       "1  2017/04/05  044180.KQ -4239124  4209824      114\n",
       "2  2017/07/07  105560.KS   254904  6731165   733760\n",
       "3  2017/08/14  044180.KQ -4187182  4014190        0"
      ]
     },
     "execution_count": 125,
     "metadata": {},
     "output_type": "execute_result"
    }
   ],
   "source": [
    "# 3. FROM 절에서 '서브쿼리문' 사용\n",
    "# FROM (SELECT * FROM  stock_trader  WHERE  외국인계 >=4000000) 에서 데이터 추출\n",
    "df = pd.read_sql(\"\"\"SELECT Date, Code, 개인, 외국인계, 기관계\n",
    "                    FROM   (SELECT  * \n",
    "                            FROM    stock_trader  \n",
    "                            WHERE   외국인계 >=4000000) AS c_price;\"\"\", con)\n",
    "df"
   ]
  },
  {
   "cell_type": "code",
   "execution_count": null,
   "metadata": {},
   "outputs": [],
   "source": [
    "# 4. SUBQUERY를 INSERT/ UPDATE/ DELETE에 응용\n",
    "# 01. INSERT : tbl_results 쿼리결과를 tbl_advance 에 입력\n",
    "\"\"\"INSERT  INTO  tbl_advance  \n",
    "   SELECT  * \n",
    "   FROM    tbl_results\n",
    "   WHERE   point1 + point2 >  (SELECT  AVG(point1 + point2)  \n",
    "                               FROM    tbl_results)\"\"\""
   ]
  },
  {
   "cell_type": "code",
   "execution_count": null,
   "metadata": {},
   "outputs": [],
   "source": [
    "# 02. UPDATE : \n",
    "\"\"\"UPDATE  tbl_allowance  \n",
    "   SET     total    = (overtime + travel)\n",
    "   WHERE   overtime + travel < (SELECT  MAX(overtime) \n",
    "                                FROM    tbl_allowance;)\"\"\""
   ]
  },
  {
   "cell_type": "code",
   "execution_count": null,
   "metadata": {},
   "outputs": [],
   "source": [
    "# 03. DELETE : WHERE 조건쿼리 결과를 삭제\n",
    "\"\"\"DELETE  \n",
    "   FROM    tbl_allowance  \n",
    "   WHERE   travel > (SELECT  AVG(travel)  \n",
    "                     FROM    tbl_allowance  \n",
    "                     WHERE   overtime >= 40000);\"\"\""
   ]
  },
  {
   "cell_type": "markdown",
   "metadata": {},
   "source": [
    "<br>\n",
    "## <strong>5 복잡한 SQL 데이터 조작\n",
    "<strong>JOIN</strong> : Cross/ INNer/ Outer\n",
    "\n",
    "<img src=\"http://kirillpavlov.com/images/join-types.png\" width=600 align='left'>"
   ]
  },
  {
   "cell_type": "markdown",
   "metadata": {},
   "source": [
    "### <strong>01 교차조인 : 합집합\n",
    "<strong>'서브쿼리 결과'</strong>를 사용하여, <strong>'메인쿼리 결과'</strong>를 가져온다"
   ]
  },
  {
   "cell_type": "code",
   "execution_count": 136,
   "metadata": {},
   "outputs": [
    {
     "data": {
      "text/html": [
       "<div>\n",
       "<style scoped>\n",
       "    .dataframe tbody tr th:only-of-type {\n",
       "        vertical-align: middle;\n",
       "    }\n",
       "\n",
       "    .dataframe tbody tr th {\n",
       "        vertical-align: top;\n",
       "    }\n",
       "\n",
       "    .dataframe thead th {\n",
       "        text-align: right;\n",
       "    }\n",
       "</style>\n",
       "<table border=\"1\" class=\"dataframe\">\n",
       "  <thead>\n",
       "    <tr style=\"text-align: right;\">\n",
       "      <th></th>\n",
       "      <th>code</th>\n",
       "      <th>name</th>\n",
       "      <th>price</th>\n",
       "      <th>Date</th>\n",
       "      <th>Open</th>\n",
       "      <th>High</th>\n",
       "      <th>Low</th>\n",
       "      <th>Close</th>\n",
       "      <th>Adj Close</th>\n",
       "      <th>Volume</th>\n",
       "    </tr>\n",
       "  </thead>\n",
       "  <tbody>\n",
       "    <tr>\n",
       "      <th>0</th>\n",
       "      <td>1</td>\n",
       "      <td>녹차</td>\n",
       "      <td>7000</td>\n",
       "      <td>2000-02-11 00:00:00</td>\n",
       "      <td>29300.0</td>\n",
       "      <td>30800.0</td>\n",
       "      <td>28350.0</td>\n",
       "      <td>30800.0</td>\n",
       "      <td>22649.746094</td>\n",
       "      <td>332800.0</td>\n",
       "    </tr>\n",
       "    <tr>\n",
       "      <th>1</th>\n",
       "      <td>1</td>\n",
       "      <td>녹차</td>\n",
       "      <td>7000</td>\n",
       "      <td>2000-02-14 00:00:00</td>\n",
       "      <td>33000.0</td>\n",
       "      <td>34450.0</td>\n",
       "      <td>28500.0</td>\n",
       "      <td>34450.0</td>\n",
       "      <td>25333.888672</td>\n",
       "      <td>1518600.0</td>\n",
       "    </tr>\n",
       "    <tr>\n",
       "      <th>2</th>\n",
       "      <td>2</td>\n",
       "      <td>홍차</td>\n",
       "      <td>8500</td>\n",
       "      <td>2000-02-11 00:00:00</td>\n",
       "      <td>29300.0</td>\n",
       "      <td>30800.0</td>\n",
       "      <td>28350.0</td>\n",
       "      <td>30800.0</td>\n",
       "      <td>22649.746094</td>\n",
       "      <td>332800.0</td>\n",
       "    </tr>\n",
       "    <tr>\n",
       "      <th>3</th>\n",
       "      <td>2</td>\n",
       "      <td>홍차</td>\n",
       "      <td>8500</td>\n",
       "      <td>2000-02-14 00:00:00</td>\n",
       "      <td>33000.0</td>\n",
       "      <td>34450.0</td>\n",
       "      <td>28500.0</td>\n",
       "      <td>34450.0</td>\n",
       "      <td>25333.888672</td>\n",
       "      <td>1518600.0</td>\n",
       "    </tr>\n",
       "  </tbody>\n",
       "</table>\n",
       "</div>"
      ],
      "text/plain": [
       "   code name  price                 Date     Open     High      Low    Close  \\\n",
       "0     1   녹차   7000  2000-02-11 00:00:00  29300.0  30800.0  28350.0  30800.0   \n",
       "1     1   녹차   7000  2000-02-14 00:00:00  33000.0  34450.0  28500.0  34450.0   \n",
       "2     2   홍차   8500  2000-02-11 00:00:00  29300.0  30800.0  28350.0  30800.0   \n",
       "3     2   홍차   8500  2000-02-14 00:00:00  33000.0  34450.0  28500.0  34450.0   \n",
       "\n",
       "      Adj Close     Volume  \n",
       "0  22649.746094   332800.0  \n",
       "1  25333.888672  1518600.0  \n",
       "2  22649.746094   332800.0  \n",
       "3  25333.888672  1518600.0  "
      ]
     },
     "execution_count": 136,
     "metadata": {},
     "output_type": "execute_result"
    }
   ],
   "source": [
    "# 원본  CROSS JOIN  대상\n",
    "con = sqlite3.connect('./sqlite.db')\n",
    "df = pd.read_sql(\"\"\"SELECT      *  \n",
    "                    FROM        tbl_tea  /* 원본 */ \n",
    "                    CROSS JOIN  test;    /* 대상 */\"\"\", con)\n",
    "df"
   ]
  },
  {
   "cell_type": "code",
   "execution_count": 133,
   "metadata": {
    "scrolled": true
   },
   "outputs": [
    {
     "data": {
      "text/html": [
       "<div>\n",
       "<style scoped>\n",
       "    .dataframe tbody tr th:only-of-type {\n",
       "        vertical-align: middle;\n",
       "    }\n",
       "\n",
       "    .dataframe tbody tr th {\n",
       "        vertical-align: top;\n",
       "    }\n",
       "\n",
       "    .dataframe thead th {\n",
       "        text-align: right;\n",
       "    }\n",
       "</style>\n",
       "<table border=\"1\" class=\"dataframe\">\n",
       "  <thead>\n",
       "    <tr style=\"text-align: right;\">\n",
       "      <th></th>\n",
       "      <th>code</th>\n",
       "      <th>name</th>\n",
       "      <th>price</th>\n",
       "      <th>Date</th>\n",
       "      <th>Open</th>\n",
       "      <th>High</th>\n",
       "      <th>Low</th>\n",
       "      <th>Close</th>\n",
       "      <th>Adj Close</th>\n",
       "      <th>Volume</th>\n",
       "    </tr>\n",
       "  </thead>\n",
       "  <tbody>\n",
       "    <tr>\n",
       "      <th>0</th>\n",
       "      <td>1</td>\n",
       "      <td>녹차</td>\n",
       "      <td>7000</td>\n",
       "      <td>2000-02-11 00:00:00</td>\n",
       "      <td>29300.0</td>\n",
       "      <td>30800.0</td>\n",
       "      <td>28350.0</td>\n",
       "      <td>30800.0</td>\n",
       "      <td>22649.746094</td>\n",
       "      <td>332800.0</td>\n",
       "    </tr>\n",
       "    <tr>\n",
       "      <th>1</th>\n",
       "      <td>1</td>\n",
       "      <td>녹차</td>\n",
       "      <td>7000</td>\n",
       "      <td>2000-02-14 00:00:00</td>\n",
       "      <td>33000.0</td>\n",
       "      <td>34450.0</td>\n",
       "      <td>28500.0</td>\n",
       "      <td>34450.0</td>\n",
       "      <td>25333.888672</td>\n",
       "      <td>1518600.0</td>\n",
       "    </tr>\n",
       "    <tr>\n",
       "      <th>2</th>\n",
       "      <td>2</td>\n",
       "      <td>홍차</td>\n",
       "      <td>8500</td>\n",
       "      <td>2000-02-11 00:00:00</td>\n",
       "      <td>29300.0</td>\n",
       "      <td>30800.0</td>\n",
       "      <td>28350.0</td>\n",
       "      <td>30800.0</td>\n",
       "      <td>22649.746094</td>\n",
       "      <td>332800.0</td>\n",
       "    </tr>\n",
       "    <tr>\n",
       "      <th>3</th>\n",
       "      <td>2</td>\n",
       "      <td>홍차</td>\n",
       "      <td>8500</td>\n",
       "      <td>2000-02-14 00:00:00</td>\n",
       "      <td>33000.0</td>\n",
       "      <td>34450.0</td>\n",
       "      <td>28500.0</td>\n",
       "      <td>34450.0</td>\n",
       "      <td>25333.888672</td>\n",
       "      <td>1518600.0</td>\n",
       "    </tr>\n",
       "  </tbody>\n",
       "</table>\n",
       "</div>"
      ],
      "text/plain": [
       "   code name  price                 Date     Open     High      Low    Close  \\\n",
       "0     1   녹차   7000  2000-02-11 00:00:00  29300.0  30800.0  28350.0  30800.0   \n",
       "1     1   녹차   7000  2000-02-14 00:00:00  33000.0  34450.0  28500.0  34450.0   \n",
       "2     2   홍차   8500  2000-02-11 00:00:00  29300.0  30800.0  28350.0  30800.0   \n",
       "3     2   홍차   8500  2000-02-14 00:00:00  33000.0  34450.0  28500.0  34450.0   \n",
       "\n",
       "      Adj Close     Volume  \n",
       "0  22649.746094   332800.0  \n",
       "1  25333.888672  1518600.0  \n",
       "2  22649.746094   332800.0  \n",
       "3  25333.888672  1518600.0  "
      ]
     },
     "execution_count": 133,
     "metadata": {},
     "output_type": "execute_result"
    }
   ],
   "source": [
    "# Simple 테이블 결합\n",
    "# SELECT   컬럼   FROM   원본 , 대상\n",
    "df = pd.read_sql(\"\"\"SELECT   * \n",
    "                    FROM     tbl_tea, test;\"\"\", con)\n",
    "df"
   ]
  },
  {
   "cell_type": "markdown",
   "metadata": {},
   "source": [
    "### <strong>02 내부조인 : 교집합\n",
    "<strong>'서브쿼리 결과'</strong>를 사용하여, <strong>'메인쿼리 결과'</strong>를 가져온다"
   ]
  },
  {
   "cell_type": "code",
   "execution_count": 161,
   "metadata": {},
   "outputs": [
    {
     "data": {
      "text/html": [
       "<div>\n",
       "<style scoped>\n",
       "    .dataframe tbody tr th:only-of-type {\n",
       "        vertical-align: middle;\n",
       "    }\n",
       "\n",
       "    .dataframe tbody tr th {\n",
       "        vertical-align: top;\n",
       "    }\n",
       "\n",
       "    .dataframe thead th {\n",
       "        text-align: right;\n",
       "    }\n",
       "</style>\n",
       "<table border=\"1\" class=\"dataframe\">\n",
       "  <thead>\n",
       "    <tr style=\"text-align: right;\">\n",
       "      <th></th>\n",
       "      <th>id</th>\n",
       "      <th>name</th>\n",
       "      <th>code</th>\n",
       "      <th>name</th>\n",
       "      <th>price</th>\n",
       "    </tr>\n",
       "  </thead>\n",
       "  <tbody>\n",
       "    <tr>\n",
       "      <th>0</th>\n",
       "      <td>1</td>\n",
       "      <td>녹차</td>\n",
       "      <td>1</td>\n",
       "      <td>녹차</td>\n",
       "      <td>7000</td>\n",
       "    </tr>\n",
       "    <tr>\n",
       "      <th>1</th>\n",
       "      <td>2</td>\n",
       "      <td>홍차</td>\n",
       "      <td>2</td>\n",
       "      <td>홍차</td>\n",
       "      <td>8500</td>\n",
       "    </tr>\n",
       "  </tbody>\n",
       "</table>\n",
       "</div>"
      ],
      "text/plain": [
       "   id name  code name  price\n",
       "0   1   녹차     1   녹차   7000\n",
       "1   2   홍차     2   홍차   8500"
      ]
     },
     "execution_count": 161,
     "metadata": {},
     "output_type": "execute_result"
    }
   ],
   "source": [
    "# INNER JOIN 객체간 연결\n",
    "import pandas as pd\n",
    "con = sqlite3.connect('./sqlite.db')\n",
    "df = pd.read_sql(\"\"\"SELECT  * \n",
    "                    FROM    tbl_petlist\n",
    "                    INNER   JOIN  tbl_tea  \n",
    "                            ON    id = code ;\"\"\", con); df"
   ]
  },
  {
   "cell_type": "code",
   "execution_count": 163,
   "metadata": {},
   "outputs": [
    {
     "data": {
      "text/html": [
       "<div>\n",
       "<style scoped>\n",
       "    .dataframe tbody tr th:only-of-type {\n",
       "        vertical-align: middle;\n",
       "    }\n",
       "\n",
       "    .dataframe tbody tr th {\n",
       "        vertical-align: top;\n",
       "    }\n",
       "\n",
       "    .dataframe thead th {\n",
       "        text-align: right;\n",
       "    }\n",
       "</style>\n",
       "<table border=\"1\" class=\"dataframe\">\n",
       "  <thead>\n",
       "    <tr style=\"text-align: right;\">\n",
       "      <th></th>\n",
       "      <th>id</th>\n",
       "      <th>name</th>\n",
       "      <th>code</th>\n",
       "      <th>name</th>\n",
       "      <th>price</th>\n",
       "    </tr>\n",
       "  </thead>\n",
       "  <tbody>\n",
       "    <tr>\n",
       "      <th>0</th>\n",
       "      <td>1</td>\n",
       "      <td>녹차</td>\n",
       "      <td>1</td>\n",
       "      <td>녹차</td>\n",
       "      <td>7000</td>\n",
       "    </tr>\n",
       "    <tr>\n",
       "      <th>1</th>\n",
       "      <td>2</td>\n",
       "      <td>홍차</td>\n",
       "      <td>2</td>\n",
       "      <td>홍차</td>\n",
       "      <td>8500</td>\n",
       "    </tr>\n",
       "  </tbody>\n",
       "</table>\n",
       "</div>"
      ],
      "text/plain": [
       "   id name  code name  price\n",
       "0   1   녹차     1   녹차   7000\n",
       "1   2   홍차     2   홍차   8500"
      ]
     },
     "execution_count": 163,
     "metadata": {},
     "output_type": "execute_result"
    }
   ],
   "source": [
    "# INNER JOIN 객체간 연결 2\n",
    "df = pd.read_sql(\"\"\"SELECT   * \n",
    "                    FROM     tbl_petlist\n",
    "                    INNER   JOIN  tbl_tea  \n",
    "                            ON    tbl_tea.code = tbl_petlist.id;\"\"\", con); df"
   ]
  },
  {
   "cell_type": "markdown",
   "metadata": {},
   "source": [
    "### <strong>03 외부 조인\n",
    "<strong>내부조인과 일치하지 않아도 가져올 수 있다"
   ]
  },
  {
   "cell_type": "code",
   "execution_count": 167,
   "metadata": {},
   "outputs": [
    {
     "data": {
      "text/html": [
       "<div>\n",
       "<style scoped>\n",
       "    .dataframe tbody tr th:only-of-type {\n",
       "        vertical-align: middle;\n",
       "    }\n",
       "\n",
       "    .dataframe tbody tr th {\n",
       "        vertical-align: top;\n",
       "    }\n",
       "\n",
       "    .dataframe thead th {\n",
       "        text-align: right;\n",
       "    }\n",
       "</style>\n",
       "<table border=\"1\" class=\"dataframe\">\n",
       "  <thead>\n",
       "    <tr style=\"text-align: right;\">\n",
       "      <th></th>\n",
       "      <th>id</th>\n",
       "      <th>name</th>\n",
       "      <th>code</th>\n",
       "      <th>name</th>\n",
       "      <th>price</th>\n",
       "    </tr>\n",
       "  </thead>\n",
       "  <tbody>\n",
       "    <tr>\n",
       "      <th>0</th>\n",
       "      <td>1</td>\n",
       "      <td>녹차</td>\n",
       "      <td>1</td>\n",
       "      <td>녹차</td>\n",
       "      <td>7000</td>\n",
       "    </tr>\n",
       "    <tr>\n",
       "      <th>1</th>\n",
       "      <td>2</td>\n",
       "      <td>홍차</td>\n",
       "      <td>2</td>\n",
       "      <td>홍차</td>\n",
       "      <td>8500</td>\n",
       "    </tr>\n",
       "  </tbody>\n",
       "</table>\n",
       "</div>"
      ],
      "text/plain": [
       "   id name  code name  price\n",
       "0   1   녹차     1   녹차   7000\n",
       "1   2   홍차     2   홍차   8500"
      ]
     },
     "execution_count": 167,
     "metadata": {},
     "output_type": "execute_result"
    }
   ],
   "source": [
    "# LEFT JOIN  : 'tbl_petlist'을 기준으로 조인\n",
    "# RIGHT JOIN : 'tbl_tea'을 기준으로 조인\n",
    "# FULL JOIN  : 전체 외부조인\n",
    "df = pd.read_sql(\"\"\"SELECT   * \n",
    "                    FROM     tbl_petlist\n",
    "                    LEFT     JOIN  tbl_tea  \n",
    "                             ON    tbl_tea.code = tbl_petlist.id;\"\"\", con) ;df"
   ]
  },
  {
   "cell_type": "markdown",
   "metadata": {},
   "source": [
    "### <strong>04 WHERE절 외부 조인\n",
    "<strong>WHERE 절로 JOIN을 활용"
   ]
  },
  {
   "cell_type": "code",
   "execution_count": 176,
   "metadata": {},
   "outputs": [
    {
     "data": {
      "text/html": [
       "<div>\n",
       "<style scoped>\n",
       "    .dataframe tbody tr th:only-of-type {\n",
       "        vertical-align: middle;\n",
       "    }\n",
       "\n",
       "    .dataframe tbody tr th {\n",
       "        vertical-align: top;\n",
       "    }\n",
       "\n",
       "    .dataframe thead th {\n",
       "        text-align: right;\n",
       "    }\n",
       "</style>\n",
       "<table border=\"1\" class=\"dataframe\">\n",
       "  <thead>\n",
       "    <tr style=\"text-align: right;\">\n",
       "      <th></th>\n",
       "      <th>id</th>\n",
       "      <th>name</th>\n",
       "      <th>code</th>\n",
       "      <th>name</th>\n",
       "      <th>price</th>\n",
       "    </tr>\n",
       "  </thead>\n",
       "  <tbody>\n",
       "    <tr>\n",
       "      <th>0</th>\n",
       "      <td>1</td>\n",
       "      <td>녹차</td>\n",
       "      <td>1</td>\n",
       "      <td>녹차</td>\n",
       "      <td>7000</td>\n",
       "    </tr>\n",
       "    <tr>\n",
       "      <th>1</th>\n",
       "      <td>2</td>\n",
       "      <td>홍차</td>\n",
       "      <td>2</td>\n",
       "      <td>홍차</td>\n",
       "      <td>8500</td>\n",
       "    </tr>\n",
       "  </tbody>\n",
       "</table>\n",
       "</div>"
      ],
      "text/plain": [
       "   id name  code name  price\n",
       "0   1   녹차     1   녹차   7000\n",
       "1   2   홍차     2   홍차   8500"
      ]
     },
     "execution_count": 176,
     "metadata": {},
     "output_type": "execute_result"
    }
   ],
   "source": [
    "df = pd.read_sql(\"\"\"SELECT   * \n",
    "                    FROM     tbl_petlist, tbl_tea  \n",
    "                    WHERE    tbl_tea.code = tbl_petlist.id;\"\"\", con) ;df"
   ]
  },
  {
   "cell_type": "markdown",
   "metadata": {},
   "source": [
    "### <strong>05 VIEW의 작성\n",
    "viw_temp2 : VIEW를 제작 (임시 Template를 작성한다)"
   ]
  },
  {
   "cell_type": "code",
   "execution_count": 181,
   "metadata": {},
   "outputs": [
    {
     "data": {
      "text/plain": [
       "[]"
      ]
     },
     "execution_count": 181,
     "metadata": {},
     "output_type": "execute_result"
    }
   ],
   "source": [
    "# 1. VIEW 의 생성\n",
    "con = sqlite3.connect('./sqlite.db')\n",
    "cur = con.cursor()\n",
    "SQL = \"\"\"CREATE  VIEW  viw_temp2  AS  \n",
    "         SELECT  name, price  \n",
    "         FROM    tbl_tea  \n",
    "         WHERE   code = 1;\"\"\"\n",
    "cur.execute(SQL)\n",
    "cur.fetchall()  # VIEW를 제작하면 별도로 출력되는 것은 없다"
   ]
  },
  {
   "cell_type": "code",
   "execution_count": null,
   "metadata": {},
   "outputs": [],
   "source": [
    "# 2. VIEW 의 등록/ 수정/ 삭제\n",
    "SQL_ = \"\"\"INSERT INTO   viw_temp (name, price) \n",
    "                 VALUES ('오미자차', 8500);\"\"\" # VIEW 등록\n",
    "\n",
    "SQL  = \"\"\"UPDATE viw_temp               \n",
    "                 SET    name = '둥글레차'  \n",
    "                 WHERE  price = 7000 ;\"\"\"    # VIEW 수정\n",
    "SQL_ = \"\"\"DELETE FROM   viw_temp\n",
    "                 WHERE  price = 7000 ;;\"\"\"   # VIEW 삭제\n",
    "cur.execute(SQL)\n",
    "cur.fetchall()  # VIEW를 제작하면 별도로 출력되는 것은 없다"
   ]
  },
  {
   "cell_type": "code",
   "execution_count": 184,
   "metadata": {},
   "outputs": [
    {
     "data": {
      "text/plain": [
       "[]"
      ]
     },
     "execution_count": 184,
     "metadata": {},
     "output_type": "execute_result"
    }
   ],
   "source": [
    "# 3. VIEW 객체 삭제하기\n",
    "SQL  = \"\"\"DROP VIEW  viw_temp;\"\"\"    # VIEW 삭제\n",
    "cur.execute(SQL)\n",
    "cur.fetchall()  # VIEW를 제작하면 별도로 출력되는 것은 없다"
   ]
  },
  {
   "cell_type": "code",
   "execution_count": 184,
   "metadata": {},
   "outputs": [
    {
     "data": {
      "text/plain": [
       "[]"
      ]
     },
     "execution_count": 184,
     "metadata": {},
     "output_type": "execute_result"
    }
   ],
   "source": [
    "# 4. VIEW 삭제 확인하기\n",
    "SQL  = \"\"\"DROP VIEW  viw_temp;\"\"\"    # VIEW 삭제\n",
    "cur.execute(SQL)\n",
    "cur.fetchall()  # VIEW를 제작하면 별도로 출력되는 것은 없다"
   ]
  },
  {
   "cell_type": "markdown",
   "metadata": {},
   "source": [
    "### <strong>06 집합 연산자\n",
    "합집합, 교집합, 차집합을 계산"
   ]
  },
  {
   "cell_type": "code",
   "execution_count": 191,
   "metadata": {},
   "outputs": [
    {
     "data": {
      "text/html": [
       "<div>\n",
       "<style scoped>\n",
       "    .dataframe tbody tr th:only-of-type {\n",
       "        vertical-align: middle;\n",
       "    }\n",
       "\n",
       "    .dataframe tbody tr th {\n",
       "        vertical-align: top;\n",
       "    }\n",
       "\n",
       "    .dataframe thead th {\n",
       "        text-align: right;\n",
       "    }\n",
       "</style>\n",
       "<table border=\"1\" class=\"dataframe\">\n",
       "  <thead>\n",
       "    <tr style=\"text-align: right;\">\n",
       "      <th></th>\n",
       "      <th>name</th>\n",
       "      <th>id</th>\n",
       "    </tr>\n",
       "  </thead>\n",
       "  <tbody>\n",
       "    <tr>\n",
       "      <th>0</th>\n",
       "      <td>녹차</td>\n",
       "      <td>1</td>\n",
       "    </tr>\n",
       "    <tr>\n",
       "      <th>1</th>\n",
       "      <td>녹차</td>\n",
       "      <td>7000</td>\n",
       "    </tr>\n",
       "    <tr>\n",
       "      <th>2</th>\n",
       "      <td>홍차</td>\n",
       "      <td>2</td>\n",
       "    </tr>\n",
       "    <tr>\n",
       "      <th>3</th>\n",
       "      <td>홍차</td>\n",
       "      <td>8500</td>\n",
       "    </tr>\n",
       "  </tbody>\n",
       "</table>\n",
       "</div>"
      ],
      "text/plain": [
       "  name    id\n",
       "0   녹차     1\n",
       "1   녹차  7000\n",
       "2   홍차     2\n",
       "3   홍차  8500"
      ]
     },
     "execution_count": 191,
     "metadata": {},
     "output_type": "execute_result"
    }
   ],
   "source": [
    "# 수직병합 : 중복되는 자료를 삭제한 나머지를 결합한다\n",
    "SQL  = \"\"\"SELECT  name, id     \n",
    "          FROM    tbl_petlist\n",
    "          UNION\n",
    "          SELECT  name, price  \n",
    "          FROM    tbl_tea;\"\"\"\n",
    "df = pd.read_sql(SQL, con); df"
   ]
  },
  {
   "cell_type": "code",
   "execution_count": 194,
   "metadata": {},
   "outputs": [
    {
     "data": {
      "text/html": [
       "<div>\n",
       "<style scoped>\n",
       "    .dataframe tbody tr th:only-of-type {\n",
       "        vertical-align: middle;\n",
       "    }\n",
       "\n",
       "    .dataframe tbody tr th {\n",
       "        vertical-align: top;\n",
       "    }\n",
       "\n",
       "    .dataframe thead th {\n",
       "        text-align: right;\n",
       "    }\n",
       "</style>\n",
       "<table border=\"1\" class=\"dataframe\">\n",
       "  <thead>\n",
       "    <tr style=\"text-align: right;\">\n",
       "      <th></th>\n",
       "      <th>name</th>\n",
       "      <th>id</th>\n",
       "    </tr>\n",
       "  </thead>\n",
       "  <tbody>\n",
       "    <tr>\n",
       "      <th>0</th>\n",
       "      <td>녹차</td>\n",
       "      <td>1</td>\n",
       "    </tr>\n",
       "    <tr>\n",
       "      <th>1</th>\n",
       "      <td>홍차</td>\n",
       "      <td>2</td>\n",
       "    </tr>\n",
       "    <tr>\n",
       "      <th>2</th>\n",
       "      <td>녹차</td>\n",
       "      <td>7000</td>\n",
       "    </tr>\n",
       "    <tr>\n",
       "      <th>3</th>\n",
       "      <td>홍차</td>\n",
       "      <td>8500</td>\n",
       "    </tr>\n",
       "  </tbody>\n",
       "</table>\n",
       "</div>"
      ],
      "text/plain": [
       "  name    id\n",
       "0   녹차     1\n",
       "1   홍차     2\n",
       "2   녹차  7000\n",
       "3   홍차  8500"
      ]
     },
     "execution_count": 194,
     "metadata": {},
     "output_type": "execute_result"
    }
   ],
   "source": [
    "# 수직병합 : 중복되어도 반복하여 결합한다\n",
    "SQL  = \"\"\"SELECT  name, id \n",
    "          FROM    tbl_petlist\n",
    "          UNION   ALL\n",
    "          SELECT  name, price  \n",
    "          FROM    tbl_tea;\"\"\"\n",
    "df = pd.read_sql(SQL, con); df"
   ]
  },
  {
   "cell_type": "markdown",
   "metadata": {},
   "source": [
    "### <strong>07 한정 술어\n",
    "<strong>SubQuery</strong> 결과를 비교조건으로 사용시\n",
    "1. ALL : 모든값과 비교한다\n",
    "1. EXISTS : 하나라도 있으면 TRUE를 출력\n",
    "1. ANY : 아무 값과 일치한다"
   ]
  },
  {
   "cell_type": "code",
   "execution_count": 198,
   "metadata": {},
   "outputs": [],
   "source": [
    "# SQLite3 에서는 ALL이 Syntex 오류를 발생\n",
    "SQL  = \"\"\"SELECT  code, name, price    \n",
    "          FROM    tbl_tea\n",
    "          WHERE   price > ALL (SELECT  price \n",
    "                               FROM    tbl_tea\n",
    "                               WHERE   name  LIKE '%녹%');\"\"\"\n",
    "#df = pd.read_sql(SQL, con); df"
   ]
  },
  {
   "cell_type": "markdown",
   "metadata": {},
   "source": [
    "<br>\n",
    "## <strong>6 테이블의 구조 바꾸기\n",
    "### <strong>01 열 구성 변경하기"
   ]
  },
  {
   "cell_type": "code",
   "execution_count": null,
   "metadata": {},
   "outputs": [],
   "source": [
    "# 1. 컬럼의 추가\n",
    "import sqlite3\n",
    "con = sqlite3.connect('./sqlite.db')\n",
    "cur = con.cursor()\n",
    "SQL = \"\"\"ALTER  TABLE test             /* 수정할 테이블을 정의 */ \n",
    "         ADD          id  VARCHAR(10)  /* 추가컬럼 정의*/ ;\"\"\" \n",
    "cur.execute(SQL)"
   ]
  },
  {
   "cell_type": "code",
   "execution_count": 6,
   "metadata": {},
   "outputs": [
    {
     "data": {
      "text/plain": [
       "<sqlite3.Cursor at 0x7f7c44213730>"
      ]
     },
     "execution_count": 6,
     "metadata": {},
     "output_type": "execute_result"
    }
   ],
   "source": [
    "# 2. 컬럼의 추가 : 기본값 설정\n",
    "SQL = \"\"\"ALTER  TABLE  test                /* 수정할 테이블을 정의 */ \n",
    "         ADD           id_val  VARCHAR(10)\n",
    "         DEFAULT      'test';              /* 추가컬럼 기본값 정의*/\"\"\" \n",
    "cur.execute(SQL)"
   ]
  },
  {
   "cell_type": "code",
   "execution_count": null,
   "metadata": {},
   "outputs": [],
   "source": [
    "# 3. 컬럼의 삭제는 불가능\n",
    "# SQLite3 는 Structure의 변경을 어렵게 설계되어 컬럼만 삭제는 불가능하다. )\n",
    "# 컬럼명을 변경한 새로운 테이블을 생성 후 복사를 한다\n",
    "# https://blog.xojo.com/2013/12/04/renaming-columns-in-sqlite-tables/\n",
    "# https://stackoverflow.com/questions/8442147/how-to-delete-or-add-column-in-sqlite\n",
    "SQL = \"\"\"ALTER  TABLE   test     /* 수정할 테이블을 정의 */ \n",
    "         DROP   COLUMN  id_val  /* 추가컬럼 기본값 정의*/;\"\"\" \n",
    "# cur.execute(SQL)"
   ]
  },
  {
   "cell_type": "markdown",
   "metadata": {},
   "source": [
    "### <strong>02 테이블, 열 이름 변경하기\n",
    "기존의 테이블과 열의 이름을 변경한다"
   ]
  },
  {
   "cell_type": "code",
   "execution_count": null,
   "metadata": {},
   "outputs": [],
   "source": [
    "# 1. 컬럼의 삭제 (SQLite3 는 Structure의 변경을 어렵게 설계되어 컬럼만 삭제는 불가능하다. )\n",
    "SQL = \"\"\"ALTER  TABLE   test     /* 수정할 테이블을 정의 */ \n",
    "         DROP   COLUMN  id_val  /* 추가컬럼 기본값 정의*/;\"\"\" \n",
    "# cur.execute(SQL)"
   ]
  },
  {
   "cell_type": "code",
   "execution_count": 13,
   "metadata": {},
   "outputs": [
    {
     "data": {
      "text/plain": [
       "<sqlite3.Cursor at 0x7f7c44213730>"
      ]
     },
     "execution_count": 13,
     "metadata": {},
     "output_type": "execute_result"
    }
   ],
   "source": [
    "# 2. 테이블의 이름 변경\n",
    "SQL = \"\"\"ALTER  TABLE  'test' \n",
    "         RENAME TO     'stock';\"\"\"\n",
    "cur.execute(SQL)"
   ]
  },
  {
   "cell_type": "code",
   "execution_count": null,
   "metadata": {},
   "outputs": [],
   "source": []
  }
 ],
 "metadata": {
  "kernelspec": {
   "display_name": "Python 3",
   "language": "python",
   "name": "python3"
  },
  "language_info": {
   "codemirror_mode": {
    "name": "ipython",
    "version": 3
   },
   "file_extension": ".py",
   "mimetype": "text/x-python",
   "name": "python",
   "nbconvert_exporter": "python",
   "pygments_lexer": "ipython3",
   "version": "3.6.3"
  }
 },
 "nbformat": 4,
 "nbformat_minor": 2
}
