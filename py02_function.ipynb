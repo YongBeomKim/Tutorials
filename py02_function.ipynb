{
 "cells": [
  {
   "cell_type": "markdown",
   "id": "02d718a7-f3a0-41cc-a3fd-1aa6a9907ec4",
   "metadata": {},
   "source": [
    "# **Python Book2**\n",
    "**[효율적 개발로 이끄는 파이썬 실천기술 Jupyter Notebook](https://nbviewer.org/github/Jpub/fulfillPython/tree/main/)**\n",
    "\n",
    "<!-- ![](../data/cover.jpg) -->\n",
    "<img src=\"http://image.kyobobook.co.kr/images/book/xlarge/872/x9791190665872.jpg\" width=\"150\" height=\"150\" />"
   ]
  },
  {
   "cell_type": "markdown",
   "id": "1240cacf-71f9-4157-a6d2-3fd9d1811c79",
   "metadata": {},
   "source": [
    "## **Chapter 8 내장 함수와 특수한 메서드**\n",
    "## **1 이터러블 객체를 받는 함수**\n",
    "### 01 **<span style=\"color:orange\">zip(), zip_longest()</span>**\n",
    "- ZIP : 가장 짧을 객체에 맞춰서 짝을 정의한다\n",
    "- ZIP_LONGEST() : 가장 긴 객체에 맞춰서 짝을 정의한다"
   ]
  },
  {
   "cell_type": "code",
   "execution_count": 1,
   "id": "09359387-a5a4-434e-909e-90b952b1ddc9",
   "metadata": {},
   "outputs": [
    {
     "name": "stdout",
     "output_type": "stream",
     "text": [
      "<zip object at 0x7fcbee42c840>\n"
     ]
    },
    {
     "data": {
      "text/plain": [
       "[(1, 4), (2, 5), (3, 6)]"
      ]
     },
     "execution_count": 1,
     "metadata": {},
     "output_type": "execute_result"
    }
   ],
   "source": [
    "x = [1, 2, 3]\n",
    "y = [4, 5, 6]\n",
    "\n",
    "iterator_items = zip(x, y)\n",
    "print(iterator_items)\n",
    "list(iterator_items)"
   ]
  },
  {
   "cell_type": "code",
   "execution_count": 2,
   "id": "1f7f8b95-f672-4e03-b400-a3024972dcf0",
   "metadata": {},
   "outputs": [
    {
     "name": "stdout",
     "output_type": "stream",
     "text": [
      "<itertools.zip_longest object at 0x7fcbee3da9f0>\n"
     ]
    },
    {
     "data": {
      "text/plain": [
       "[(1, 4, 8), (2, 5, 9), (3, 6, 0), (0, 7, 0)]"
      ]
     },
     "execution_count": 2,
     "metadata": {},
     "output_type": "execute_result"
    }
   ],
   "source": [
    "x = [1, 2, 3]\n",
    "y = [4, 5, 6, 7]\n",
    "z = [8, 9]\n",
    "\n",
    "from itertools import zip_longest\n",
    "iterator_items = zip_longest(x,y,z, fillvalue=0)\n",
    "print(iterator_items)\n",
    "list(iterator_items)"
   ]
  },
  {
   "cell_type": "markdown",
   "id": "4de28f7b-07dc-47a8-bcef-af490b28964f",
   "metadata": {},
   "source": [
    "### 02 **<span style=\"color:orange\">.sort(), sorted(), filter()</span>**\n",
    "- **.sort() :** 자신 객체를 정렬한다\n",
    "- **sorted() :** 이터러블 엘리먼트를 정렬한다"
   ]
  },
  {
   "cell_type": "code",
   "execution_count": 3,
   "id": "048b2ab9-f09e-4eda-923c-ff4d460700fc",
   "metadata": {},
   "outputs": [
    {
     "data": {
      "text/plain": [
       "[1, 2, 3, 4, 5]"
      ]
     },
     "execution_count": 3,
     "metadata": {},
     "output_type": "execute_result"
    }
   ],
   "source": [
    "x = [1, 4, 3, 5, 2]\n",
    "y = [1, 4, 3, 5, 2]\n",
    "x.sort()\n",
    "x"
   ]
  },
  {
   "cell_type": "code",
   "execution_count": 4,
   "id": "e9a6b845-5af1-44f8-ac57-77a11e244d6c",
   "metadata": {},
   "outputs": [
    {
     "data": {
      "text/plain": [
       "[5, 4, 3, 2, 1]"
      ]
     },
     "execution_count": 4,
     "metadata": {},
     "output_type": "execute_result"
    }
   ],
   "source": [
    "sorted(y, reverse=True)"
   ]
  },
  {
   "cell_type": "code",
   "execution_count": 5,
   "id": "5fa0c274-ac96-40d4-affb-407ec5f90b6c",
   "metadata": {},
   "outputs": [
    {
     "name": "stdout",
     "output_type": "stream",
     "text": [
      "<filter object at 0x7fcbec35d760>\n"
     ]
    },
    {
     "data": {
      "text/plain": [
       "[4, 5]"
      ]
     },
     "execution_count": 5,
     "metadata": {},
     "output_type": "execute_result"
    }
   ],
   "source": [
    "x = (1, 4, 3, 5, 2)\n",
    "filterd_x = filter(lambda i: i > 3, x)\n",
    "print(filterd_x)\n",
    "list(filterd_x)"
   ]
  },
  {
   "cell_type": "code",
   "execution_count": 6,
   "id": "27485c0c-990c-45b4-8d7d-2d5cb2a0c7e3",
   "metadata": {},
   "outputs": [
    {
     "data": {
      "text/plain": [
       "[{'word': 'book', 'count': 2},\n",
       " {'word': 'python', 'count': 3},\n",
       " {'word': 'practice', 'count': 3}]"
      ]
     },
     "execution_count": 6,
     "metadata": {},
     "output_type": "execute_result"
    }
   ],
   "source": [
    "# 딕셔너리 값을 사용한 정렬\n",
    "counts = [\n",
    "    {'word': 'python', 'count': 3},\n",
    "    {'word': 'practice', 'count': 3},\n",
    "    {'word': 'book', 'count': 2},\n",
    "]\n",
    "\n",
    "# itemgetter의 동작을 확인\n",
    "from operator import itemgetter\n",
    "sorted(counts, key=itemgetter('count'))"
   ]
  },
  {
   "cell_type": "markdown",
   "id": "008c95f1-c1dc-4976-8e44-f6864e71e3dd",
   "metadata": {},
   "source": [
    "## **Chapter 9 파이썬의 독특한 기능들**\n",
    "## **1 제너레이터**\n",
    "**Generator** 는 `for` 반복문 등에서 활용하는 이터러블 객체 입니다\n",
    "- <span style=\"color:orange\">list(), tuple()</span> 은 모든 엘리먼트를 메모리에 저장 합니다\n",
    "- 반면 Generator 는 무한히 반환하는 경우에도 중복하여 메모리를 차지하지 않습니다\n",
    "\n",
    "### 01 **함수로 제너레이터 구현**"
   ]
  },
  {
   "cell_type": "code",
   "execution_count": 7,
   "id": "051d82eb-bf71-4c54-a2ab-c0463ecd6f91",
   "metadata": {},
   "outputs": [
    {
     "name": "stdout",
     "output_type": "stream",
     "text": [
      "<generator object gen_function at 0x7fcbec3795f0>\n"
     ]
    }
   ],
   "source": [
    "def gen_function(n):\n",
    "    print('start')\n",
    "    while n:\n",
    "        print(f'yield: {n}')\n",
    "        yield n\n",
    "        n -= 1\n",
    "\n",
    "# 제너레이터 이터레이터를 출력한다\n",
    "gen = gen_function(2)\n",
    "print(gen)"
   ]
  },
  {
   "cell_type": "code",
   "execution_count": 8,
   "id": "21eacfc8-1928-4a50-8574-04fb79185a4e",
   "metadata": {},
   "outputs": [
    {
     "name": "stdout",
     "output_type": "stream",
     "text": [
      "start\n",
      "yield: 2\n"
     ]
    },
    {
     "data": {
      "text/plain": [
       "2"
      ]
     },
     "execution_count": 8,
     "metadata": {},
     "output_type": "execute_result"
    }
   ],
   "source": [
    "# 내장함수 next() 에 전달하면 __next__() 메서드를 실행한다\n",
    "# StopIteration 예외를 출력 할 때까지 반복한다\n",
    "next(gen)"
   ]
  },
  {
   "cell_type": "markdown",
   "id": "e7283a15-dfc0-4398-b977-6ca03fcd7c2a",
   "metadata": {},
   "source": [
    "### 02 **식으로 제너레이터 구현**"
   ]
  },
  {
   "cell_type": "code",
   "execution_count": 9,
   "id": "d4850185-ca19-44ae-a503-20a48e4e07de",
   "metadata": {},
   "outputs": [
    {
     "data": {
      "text/plain": [
       "[1, 4, 9, 16, 25]"
      ]
     },
     "execution_count": 9,
     "metadata": {},
     "output_type": "execute_result"
    }
   ],
   "source": [
    "x = [1, 2, 3, 4, 5]\n",
    "list_comprehension = [i**2  for i in x]\n",
    "list_comprehension"
   ]
  },
  {
   "cell_type": "code",
   "execution_count": 10,
   "id": "12a08fc9-3bf5-44ea-8233-397a37b96803",
   "metadata": {},
   "outputs": [
    {
     "data": {
      "text/plain": [
       "<generator object <genexpr> at 0x7fcbec379740>"
      ]
     },
     "execution_count": 10,
     "metadata": {},
     "output_type": "execute_result"
    }
   ],
   "source": [
    "# 제너레이터 식을 활용하여 동일한 기능 구현하기\n",
    "generator_items = (i**2   for i in x)\n",
    "generator_items # 결과값이 필요 할 때까지 연산을 하지 않는다"
   ]
  },
  {
   "cell_type": "code",
   "execution_count": 11,
   "id": "544d4432-2877-4452-aec7-10124ba77b67",
   "metadata": {},
   "outputs": [
    {
     "data": {
      "text/plain": [
       "[1, 4, 9, 16, 25]"
      ]
     },
     "execution_count": 11,
     "metadata": {},
     "output_type": "execute_result"
    }
   ],
   "source": [
    "list(generator_items)"
   ]
  },
  {
   "cell_type": "markdown",
   "id": "f88305d8-0e49-4a78-9bee-39e9e0846310",
   "metadata": {},
   "source": [
    "### 03 **<span style=\"color:orange\">yield from</span> 수식**\n",
    "서브 제너레이터로 처리를 이첩하기"
   ]
  },
  {
   "cell_type": "code",
   "execution_count": 12,
   "id": "61a7e438-dd66-45fb-a77a-15173664ab77",
   "metadata": {},
   "outputs": [
    {
     "name": "stdout",
     "output_type": "stream",
     "text": [
      "<generator object chain at 0x7fcbec379a50>\n"
     ]
    },
    {
     "data": {
      "text/plain": [
       "'p , y , t , h , o , n , b , o , o , k , q , u , a , n , t , a , n , a , y , s , i , s'"
      ]
     },
     "execution_count": 12,
     "metadata": {},
     "output_type": "execute_result"
    }
   ],
   "source": [
    "def chain(iterables):\n",
    "    for iterable in iterables:\n",
    "        yield from (v for v in iterable)\n",
    "        # for v in iterable:\n",
    "        #     yield v\n",
    "\n",
    "iterables = ('python', 'book', 'quant', 'anaysis')\n",
    "print(chain(iterables))\n",
    "\" , \".join(list(chain(iterables)))"
   ]
  },
  {
   "cell_type": "markdown",
   "id": "a02c4d22-e30a-42fe-97a1-253ea9e7dcbd",
   "metadata": {
    "tags": []
   },
   "source": [
    "## **1-2 제너레이터 이용시 주의점**\n",
    "list(), tuple() 과 동일한 방식으로 구현이 대부분 가능하지만 몇가지 제한이 있습니다.\n",
    "- `len()` 을 사용할 수 없다"
   ]
  },
  {
   "cell_type": "code",
   "execution_count": 13,
   "id": "8800b9a1-7bf4-46da-9aac-aa2b4a0d79e6",
   "metadata": {},
   "outputs": [
    {
     "name": "stdout",
     "output_type": "stream",
     "text": [
      "[(1, 5), (2, 4), (3, 3), (4, 2), (5, 1)]\n",
      "<filter object at 0x7fcbec37d2e0>\n"
     ]
    },
    {
     "data": {
      "text/plain": [
       "[5, 3, 1]"
      ]
     },
     "execution_count": 13,
     "metadata": {},
     "output_type": "execute_result"
    }
   ],
   "source": [
    "def gen(n):\n",
    "    while n:\n",
    "        yield n\n",
    "        n -= 1\n",
    "\n",
    "# zip() 함수에 `리스트` 와 `제너레이터` 동시에 전달\n",
    "x = [1,2,3,4,5]\n",
    "print([i   for i in zip(x, gen(5))])\n",
    "\n",
    "odd = filter(lambda x :x % 2 == 1, gen(5))\n",
    "print(odd)\n",
    "[_ for _ in odd]"
   ]
  },
  {
   "cell_type": "code",
   "execution_count": 14,
   "id": "b6b37afb-e5f3-4597-b2aa-298b7dff48a3",
   "metadata": {},
   "outputs": [
    {
     "name": "stdout",
     "output_type": "stream",
     "text": [
      "object of type 'generator' has no len()\n"
     ]
    },
    {
     "data": {
      "text/plain": [
       "5"
      ]
     },
     "execution_count": 14,
     "metadata": {},
     "output_type": "execute_result"
    }
   ],
   "source": [
    "try:\n",
    "    len(gen(5))\n",
    "except Exception as e:\n",
    "    print(e) # ... PRINT THE ERROR MESSAGE\n",
    "    \n",
    "# 이럴땐, 제너레이터를 list() 객체로 변환 한 뒤에 적용 하면 됩니다\n",
    "# 단 리스트 크기에 따라 메모리에 부담이 될 수 있습니다\n",
    "len(list(gen(5)))"
   ]
  },
  {
   "cell_type": "code",
   "execution_count": 15,
   "id": "ad0ae293-6df7-40e0-80aa-931fa519c75d",
   "metadata": {},
   "outputs": [
    {
     "data": {
      "text/plain": [
       "[4, 3, 2, 1]"
      ]
     },
     "execution_count": 15,
     "metadata": {},
     "output_type": "execute_result"
    }
   ],
   "source": [
    "list_nums = list(gen(4))\n",
    "list_nums"
   ]
  },
  {
   "cell_type": "markdown",
   "id": "09d0ef3b-fccc-41a9-b27e-c50922fa19cf",
   "metadata": {
    "tags": []
   },
   "source": [
    "## **1-3 제너레이터 적용예제**\n",
    "읽기 -> 변환 -> 쓰기의 과정을 단계적 실행하여, 메모리에 부담을 주지않습니다"
   ]
  },
  {
   "cell_type": "code",
   "execution_count": 16,
   "id": "c144c906-1f0f-4c5f-87aa-cb399ac7c509",
   "metadata": {},
   "outputs": [],
   "source": [
    "# 파일을 한 행씩 읽는다\n",
    "def reader(src):\n",
    "    with open(src) as f:\n",
    "        for line in f:\n",
    "            yield line\n",
    "            \n",
    "## 행 단위로 실행\n",
    "def convert(line):\n",
    "    return line.upper()\n",
    "\n",
    "# 읽기 -> 변환 -> 쓰기를 한 행씩 실행\n",
    "def write(dest, reader):\n",
    "    with open(dest, 'w') as f:\n",
    "        for line in reader:\n",
    "            f.write(convert(line))\n",
    "\n",
    "# write('dest.text', reader('src.txt'))"
   ]
  },
  {
   "cell_type": "markdown",
   "id": "d865a658-d822-40e0-bf6f-c82aa323240c",
   "metadata": {
    "tags": []
   },
   "source": [
    "## **2 데코레이터**\n",
    "- 함수나 클래스 앞, 뒤에서 연산내용을 추가 할 수 있습니다\n",
    "\n",
    "### 01 **데코레이터 예시**\n",
    "- **<span style=\"color:orange\">lru_cache</span>** : 함수 실행결과가 메모리에 있으면 캐시로 호출한다"
   ]
  },
  {
   "cell_type": "code",
   "execution_count": 17,
   "id": "18686318-281f-4332-8a6a-3f2b61767d6d",
   "metadata": {},
   "outputs": [
    {
     "name": "stdout",
     "output_type": "stream",
     "text": [
      "3\n",
      "CPU times: user 1.72 ms, sys: 30 µs, total: 1.75 ms\n",
      "Wall time: 3.02 s\n"
     ]
    }
   ],
   "source": [
    "from functools import lru_cache\n",
    "from time import sleep\n",
    "\n",
    "# 최근 호출한 인수와 결과를 최대 32회까지 캐쉬\n",
    "@lru_cache(maxsize=32)\n",
    "def heavy_funcion(n):\n",
    "    sleep(3)  # 무거운 처리 시뮬레이션\n",
    "    return n + 1\n",
    "\n",
    "%time print(heavy_funcion(2))"
   ]
  },
  {
   "cell_type": "code",
   "execution_count": 18,
   "id": "8bfcd9da-5c58-457c-af81-74babfb16648",
   "metadata": {},
   "outputs": [
    {
     "name": "stdout",
     "output_type": "stream",
     "text": [
      "CPU times: user 2 µs, sys: 0 ns, total: 2 µs\n",
      "Wall time: 3.1 µs\n"
     ]
    },
    {
     "data": {
      "text/plain": [
       "3"
      ]
     },
     "execution_count": 18,
     "metadata": {},
     "output_type": "execute_result"
    }
   ],
   "source": [
    "# cache 를 실행하는 경우, 바로 결과를 출력한다\n",
    "%time heavy_funcion(2)"
   ]
  },
  {
   "cell_type": "code",
   "execution_count": 19,
   "id": "fa04996f-570a-4c2b-8adf-0871404c4e05",
   "metadata": {},
   "outputs": [
    {
     "name": "stdout",
     "output_type": "stream",
     "text": [
      "Fruit(name='apple', price=128)\n",
      "\u001b[31mcannot assign to field 'price'\u001b[0m\n"
     ]
    }
   ],
   "source": [
    "from dataclasses import dataclass\n",
    "@dataclass(frozen=True)\n",
    "class Fruit:\n",
    "    name: str  # 타입 힌트를 붙여 속성을 정의\n",
    "    price: int = 0  # 초기값도 지정\n",
    "\n",
    "# __init__()나 __repr__()가 추가되어 있음\n",
    "apple = Fruit(name='apple', price=128)\n",
    "print(apple)\n",
    "\n",
    "# frozen=True  읽기전용 오류를 출력\n",
    "try:\n",
    "    apple.price = 256  \n",
    "except Exception as e:\n",
    "    import termcolor  # termcolor.COLORS\n",
    "    print(termcolor.colored(e, 'red'))"
   ]
  },
  {
   "cell_type": "markdown",
   "id": "147a55d8-c06d-43b4-8136-2d56683a5b97",
   "metadata": {
    "tags": []
   },
   "source": [
    "### 02 **데코레이터 구현**\n",
    "- 원칙적 데코레이너는 **<span style=\"color:orange\">인자를 전달하지 않고, 호출하는 상황</span>** 만 가정한다"
   ]
  },
  {
   "cell_type": "code",
   "execution_count": 20,
   "id": "cd556097-4ace-4acc-845d-a7cb5c2f87dd",
   "metadata": {},
   "outputs": [
    {
     "name": "stdout",
     "output_type": "stream",
     "text": [
      "deco1 called\n",
      "wrapper \n",
      "********************\n",
      "before exec\n",
      "exec\n",
      "after exec\n"
     ]
    },
    {
     "data": {
      "text/plain": [
       "1"
      ]
     },
     "execution_count": 20,
     "metadata": {},
     "output_type": "execute_result"
    }
   ],
   "source": [
    "# 데커레이트 함수를 받음\n",
    "def deco1(f):\n",
    "    print('deco1 called')\n",
    "    def wrapper():\n",
    "        print('before exec')\n",
    "        v = f()  # 원래 함수를 실행\n",
    "        print('after exec')\n",
    "        return v\n",
    "    return wrapper\n",
    "\n",
    "\n",
    "# 데커레이터 함수 정의 시 실행됨\n",
    "@deco1\n",
    "def func():\n",
    "    print('exec')\n",
    "    return 1\n",
    "\n",
    "# deco1(func)의 결과로 대체되어 있음\n",
    "print(func.__name__, \"\\n\" + \"*\"*20)\n",
    "func()"
   ]
  },
  {
   "cell_type": "markdown",
   "id": "80d6f4ec-c6dc-483c-86e9-7362f1d1e7e5",
   "metadata": {
    "tags": []
   },
   "source": [
    "### 03 **인자를 활용 가능한 데코레이터 구현**\n",
    "- <b><span style=\"color:orange\"> \\*args, **kwargs</span></b> 를 사용하면, 데코레이터에서 인자들을 함수로 전달한다"
   ]
  },
  {
   "cell_type": "code",
   "execution_count": 21,
   "id": "a3899f3f-fa6f-41c3-8a09-545dd885908a",
   "metadata": {},
   "outputs": [
    {
     "name": "stdout",
     "output_type": "stream",
     "text": [
      "before exec\n",
      "exec\n",
      "after exec\n"
     ]
    },
    {
     "data": {
      "text/plain": [
       "(1, 2)"
      ]
     },
     "execution_count": 21,
     "metadata": {},
     "output_type": "execute_result"
    }
   ],
   "source": [
    "def deco2(f):\n",
    "    # 새로운 함수가 인수를 받음\n",
    "    def wrapper(*args, **kwargs):\n",
    "        print('before exec')\n",
    "        # 인수를 전달해 원래 함수를 실행\n",
    "        v = f(*args, **kwargs)\n",
    "        print('after exec')\n",
    "        return v\n",
    "    return wrapper\n",
    "\n",
    "@deco2\n",
    "def func(x, y):\n",
    "    print('exec')\n",
    "    return x, y\n",
    "\n",
    "func(1, 2)"
   ]
  },
  {
   "cell_type": "markdown",
   "id": "10ea2965-78fe-490f-8bb6-94496e969630",
   "metadata": {
    "tags": []
   },
   "source": [
    "### 04 **데코레이터 자신이 변수를 받을 때**\n",
    "- <b><span style=\"color:orange\"> \\*args, **kwargs</span></b> 를 사용하면, 데코레이터에서 인자들을 함수로 전달한다"
   ]
  },
  {
   "cell_type": "code",
   "execution_count": 22,
   "id": "54252890-13da-4f58-8315-d40a146106d5",
   "metadata": {},
   "outputs": [
    {
     "name": "stdout",
     "output_type": "stream",
     "text": [
      "before exec 3\n",
      "exec\n",
      "after exec 3\n"
     ]
    },
    {
     "data": {
      "text/plain": [
       "(1, 2)"
      ]
     },
     "execution_count": 22,
     "metadata": {},
     "output_type": "execute_result"
    }
   ],
   "source": [
    "# 인수 z를 받음\n",
    "def deco3(z):\n",
    "    \n",
    "    def _deco3(f): # deco2()와 동일한 구조\n",
    "        def wrapper(*args, **kwargs):\n",
    "            # 여기 에서도 z 참조 가능하다\n",
    "            print('before exec', z)\n",
    "            v = f(*args, **kwargs)\n",
    "            print('after exec', z)\n",
    "            return v\n",
    "        return wrapper\n",
    "\n",
    "    return _deco3  # 데커레이터 반환\n",
    "\n",
    "# deco3(z=3)의 반환값이 데커레이터의 실체에게 전달, \n",
    "# func = deco3(z=3)(func) 와 동일하다 \n",
    "@deco3(z=3)\n",
    "def func(x, y):\n",
    "    print('exec')\n",
    "    return x, y\n",
    "\n",
    "# z에 전달한 값은 유지되고 있음\n",
    "func(1, 2)"
   ]
  },
  {
   "cell_type": "markdown",
   "id": "905f8964-2a7c-4675-b17b-af8f00859abe",
   "metadata": {
    "tags": []
   },
   "source": [
    "### 05 **여러 데코레이터를 병렬로 적용**\n",
    "안쪽 데코레이터를 바깥쪽 데코레이터가 감싼다"
   ]
  },
  {
   "cell_type": "code",
   "execution_count": 23,
   "id": "fb60f962-e8a6-4b0b-a870-04fe22904a02",
   "metadata": {},
   "outputs": [
    {
     "name": "stdout",
     "output_type": "stream",
     "text": [
      "before exec 4\n",
      "before exec 3\n",
      "exec\n",
      "after exec 3\n",
      "after exec 4\n"
     ]
    },
    {
     "data": {
      "text/plain": [
       "(1, 2)"
      ]
     },
     "execution_count": 23,
     "metadata": {},
     "output_type": "execute_result"
    }
   ],
   "source": [
    "@deco3(z=4)\n",
    "@deco3(z=3)\n",
    "def func(x, y):\n",
    "    print('exec')\n",
    "    return x, y\n",
    "\n",
    "func(1, 2)"
   ]
  },
  {
   "cell_type": "markdown",
   "id": "0fe9320a-c67b-4b68-91d8-78e698d1f19e",
   "metadata": {
    "tags": []
   },
   "source": [
    "### 06 **functools.wraps()로 데커레이터 결함 해결**\n",
    "- 위 처럼 데코레이터 함수를 감싸는 방식으로 작성을 하면 디버깅 난이도가 높아 집니다\n",
    "- 실전에서는 아래와 같이 `wraps()` 함수를 사용합니다"
   ]
  },
  {
   "cell_type": "code",
   "execution_count": 24,
   "id": "fab21896-6350-41bd-9f17-88aab0acc0ee",
   "metadata": {},
   "outputs": [
    {
     "data": {
      "text/plain": [
       "('func', 'func입니다')"
      ]
     },
     "execution_count": 24,
     "metadata": {},
     "output_type": "execute_result"
    }
   ],
   "source": [
    "from functools import wraps\n",
    "def deco4(f):\n",
    "    @wraps(f)  # 원래 함수를 인수로 받는 데커레이터\n",
    "    def wrapper(*args, **kwargs):\n",
    "        print('before exec')\n",
    "        v = f(*args, **kwargs)\n",
    "        print('after exec')\n",
    "        return v\n",
    "    return wrapper\n",
    "\n",
    "@deco4\n",
    "def func():\n",
    "    \"\"\"func입니다\"\"\"\n",
    "    print('exec')\n",
    "\n",
    "func.__name__, func.__doc__"
   ]
  },
  {
   "cell_type": "code",
   "execution_count": 25,
   "id": "df47adf2-6452-4ce6-869b-922e1bb599c1",
   "metadata": {},
   "outputs": [
    {
     "name": "stdout",
     "output_type": "stream",
     "text": [
      "Args from Decorator is : 1\n",
      "go Python\n"
     ]
    }
   ],
   "source": [
    "# decorator 의 인자를 받는 함수로 1번 더 감싸야 한다\n",
    "from functools import wraps\n",
    "def check_with_arg(test):\n",
    "    def decorator(f):\n",
    "        @wraps(f)\n",
    "        def wrapper(*args, **kwargs):\n",
    "            print(f\"Args from Decorator is : {test}\")\n",
    "            result = f(*args, **kwargs)\n",
    "            return result\n",
    "        return wrapper\n",
    "    return decorator\n",
    "\n",
    "@check_with_arg(test=1)\n",
    "def testing(test):\n",
    "    print(test)\n",
    "\n",
    "testing(\"go Python\")"
   ]
  },
  {
   "cell_type": "markdown",
   "id": "50d8701f-ee45-4ff1-82a7-0668ed4639d3",
   "metadata": {
    "tags": []
   },
   "source": [
    "### 07 **데코레이터 Example**\n",
    "- 위 처럼 데코레이터 함수를 감싸는 방식으로 작성을 하면 디버깅 난이도가 높아 집니다\n",
    "- 실전에서는 아래와 같이 `wraps()` 함수를 사용합니다"
   ]
  },
  {
   "cell_type": "code",
   "execution_count": 26,
   "id": "888bba0a-22a9-4a70-b72f-b305f455e9dc",
   "metadata": {},
   "outputs": [
    {
     "name": "stdout",
     "output_type": "stream",
     "text": [
      "func: 0.031409263610839844\n"
     ]
    },
    {
     "data": {
      "text/plain": [
       "'func(1000000)=499,999,500,000'"
      ]
     },
     "execution_count": 26,
     "metadata": {},
     "output_type": "execute_result"
    }
   ],
   "source": [
    "from functools import wraps\n",
    "import time\n",
    "def elapsed_time(f):\n",
    "    @wraps(f)\n",
    "    def wrapper(*args, **kwargs):\n",
    "        start = time.time()\n",
    "        v = f(*args, **kwargs)\n",
    "        print(f\"{f.__name__}: {time.time() - start}\")\n",
    "        return v\n",
    "    return wrapper\n",
    "\n",
    "# 0부터 n-1까지의 총합을 계산하는 함수\n",
    "@elapsed_time\n",
    "def func(n):\n",
    "    return sum(i for i in range(n))\n",
    "\n",
    "# func() 실행 결과 표시\n",
    "# f-string에서 콤마(,）로 구분해 여러값을 지정\n",
    "f'{func(1000000)=:,}'"
   ]
  },
  {
   "cell_type": "markdown",
   "id": "06bf3847-4cc5-40b5-9322-edbdcb041cce",
   "metadata": {
    "tags": []
   },
   "source": [
    "## **3 콘텍스트 관리자**\n",
    "- `with` 문에 대응하는 객체를 콘텍스트 관리자라고 합니다\n",
    "\n",
    "### 01 **콘텍스트 관리자 예시**\n",
    "`__enter__()` 반환값이 **as** 키워드에 전달된다"
   ]
  },
  {
   "cell_type": "code",
   "execution_count": 27,
   "id": "a3c48707-256a-4200-bd27-cf34a936e6bd",
   "metadata": {},
   "outputs": [
    {
     "name": "stdout",
     "output_type": "stream",
     "text": [
      "Process 1\n",
      "1\n",
      "Process 2\n"
     ]
    }
   ],
   "source": [
    "class ContextManager:\n",
    "    def __enter__(self):\n",
    "        return 1\n",
    "    def __exit__(self, exc_type, exc_value, traceback):\n",
    "        pass\n",
    "\n",
    "print(\"Process 1\")\n",
    "with ContextManager() as f:\n",
    "    print(f)\n",
    "\n",
    "# as 키워드 생략\n",
    "print(\"Process 2\")\n",
    "with ContextManager():\n",
    "    pass"
   ]
  },
  {
   "cell_type": "markdown",
   "id": "1175f290-ce16-47c0-a225-68134a16f01c",
   "metadata": {},
   "source": [
    "### 02 **데코레이터 활용한 구현**\n",
    "`contextlib.contextmanager` 를 활용한 구현"
   ]
  },
  {
   "cell_type": "code",
   "execution_count": 1,
   "id": "1da53480-3b36-4d25-abef-efdb22e11f47",
   "metadata": {},
   "outputs": [
    {
     "name": "stdout",
     "output_type": "stream",
     "text": [
      "__enter__ was called\n",
      "{'x': 1, 'y': 2}\n",
      "__exit__ was called\n",
      "{'x': 1, 'y': 2, 'z': 3}\n"
     ]
    }
   ],
   "source": [
    "from contextlib import contextmanager\n",
    "\n",
    "@contextmanager\n",
    "def point(**kwargs):\n",
    "    print('__enter__ was called')\n",
    "    value = kwargs # dict 파라미터 객체\n",
    "    try:\n",
    "        # 전처리 : value 를 as 키워드에 전달\n",
    "        yield value # 아래부터는 후처리\n",
    "    except Exception as e:\n",
    "        print(e) \n",
    "        raise # 에러를 호출됨\n",
    "    finally:\n",
    "        print('__exit__ was called')\n",
    "        print(value)\n",
    "\n",
    "with point(x=1, y=2) as p:\n",
    "    print(p)\n",
    "    p['z'] = 3"
   ]
  },
  {
   "cell_type": "markdown",
   "id": "3471a796-34a7-4f25-9df5-f4c0f3cf28b0",
   "metadata": {},
   "source": [
    "### 03 **콘텍스트 관리자 예제**\n",
    "`contextlib.contextmanager` 를 활용한 구현"
   ]
  },
  {
   "cell_type": "code",
   "execution_count": 29,
   "id": "3eb068e9-3f6a-49ff-877a-1d41d924e3e8",
   "metadata": {},
   "outputs": [
    {
     "name": "stderr",
     "output_type": "stream",
     "text": [
      "before: info log\n",
      "inside the block: info log\n",
      "inside the block: debug log\n",
      "after: info log\n"
     ]
    }
   ],
   "source": [
    "import logging\n",
    "from contextlib import contextmanager\n",
    "\n",
    "logger = logging.getLogger(__name__)\n",
    "logger.addHandler(logging.StreamHandler())\n",
    "\n",
    "# 기본값이 INFO 레벨이므로, DEBUG 레벨 로그는 무시됨\n",
    "logger.setLevel(logging.INFO)\n",
    "\n",
    "@contextmanager\n",
    "def debug_context():\n",
    "    level = logger.level\n",
    "    try:\n",
    "        # 로깅 레벨을 변경함\n",
    "        logger.setLevel(logging.DEBUG)\n",
    "        yield\n",
    "    finally:\n",
    "        # 원래 로깅 레벨로 되돌림\n",
    "        logger.setLevel(level)\n",
    "\n",
    "def main():\n",
    "    logger.info('before: info log')\n",
    "    logger.debug('before: debug log')\n",
    "\n",
    "    # DEBUG 로그를 볼 때의 처리를 with 문 블록 안에서 실행함\n",
    "    with debug_context():\n",
    "        logger.info('inside the block: info log')\n",
    "        logger.debug('inside the block: debug log')\n",
    "\n",
    "    logger.info('after: info log')\n",
    "    logger.debug('after: debug log')\n",
    "\n",
    "if __name__ == '__main__':\n",
    "    main()"
   ]
  },
  {
   "cell_type": "markdown",
   "id": "2203b748-7bda-42c0-a8c0-ce5689f2f83d",
   "metadata": {
    "tags": []
   },
   "source": [
    "## **4 디스크립터**\n",
    "`descriptor` 기능은 속성 처리를 클래스로 전달한다\n",
    "\n",
    "### 01 **디스크립터 예시**\n",
    "`@property` 데코레이터가 디스크립터로 구현되어 있다\n",
    "- **Data Descriptor** : `__set__()` 이나 `__delete__()` 하나 또는 둘 모두 갖는 경우 `ex) @property`\n",
    "- **Non Data Descriptor** : `__get__()` 만 갖고 있는 경우 `ex) function`"
   ]
  },
  {
   "cell_type": "code",
   "execution_count": 30,
   "id": "e0ef0169-e023-497f-9d13-8781976f609f",
   "metadata": {},
   "outputs": [
    {
     "data": {
      "text/plain": [
       "'__class__ , __delattr__ , __delete__ , __dir__ , __doc__ , __eq__ , __format__ , __ge__ , __get__ , __getattribute__ , __gt__ , __hash__ , __init__ , __init_subclass__ , __isabstractmethod__ , __le__ , __lt__ , __ne__ , __new__ , __reduce__ , __reduce_ex__ , __repr__ , __set__ , __setattr__ , __sizeof__ , __str__ , __subclasshook__ , deleter , fdel , fget , fset , getter , setter'"
      ]
     },
     "execution_count": 30,
     "metadata": {},
     "output_type": "execute_result"
    }
   ],
   "source": [
    "# 디스크립터가 가진 메서드가 정의되어 있음\n",
    "\" , \".join(dir(property()))"
   ]
  },
  {
   "cell_type": "markdown",
   "id": "ebf01e03-448f-42d7-867f-d91c95e9aa15",
   "metadata": {
    "tags": []
   },
   "source": [
    "### 02 **`__set__()` 디스크립터 구현**\n",
    "**Data Descriptor**\n",
    "- `__set_name__()` : 디스크립터를 사용하는 **<span style=\"color:orange\">클래스 객체</span>** 와 **<span style=\"color:orange\">속성 딕셔너리</span>** 를 전달 합니다\n",
    "- `__set__()` : `Memory <==` 대입 시 호출\n",
    "- `__get__()` : `Memory ==>` 취득 시 호출\n",
    "- 디스크립터를 사용하는 클래스에서는, **<span style=\"color:orange\">인스턴스</span>** 를 **<span style=\"color:orange\">클래스 변수</span>** 로 사용 합니다"
   ]
  },
  {
   "cell_type": "code",
   "execution_count": 31,
   "id": "4e852b2c-d4da-486a-bab4-49c63913e2c2",
   "metadata": {},
   "outputs": [
    {
     "name": "stdout",
     "output_type": "stream",
     "text": [
      "__set_name__ was called\n",
      "owner=<class '__main__.Book'>, name='title'\n"
     ]
    }
   ],
   "source": [
    "class TextField:\n",
    "\n",
    "    def __set_name__(self, owner, name):\n",
    "        print(f'__set_name__ was called')\n",
    "        print(f'{owner=}, {name=}')\n",
    "        self.name = name\n",
    "        \n",
    "    def __set__(self, instance, value):\n",
    "        print('__set__ was called')\n",
    "        if not isinstance(value, str):\n",
    "            raise AttributeError('must be str')\n",
    "        # .표기법이 아닌 속성 딕셔너리를 사용해 저장\n",
    "        instance.__dict__[self.name] = value\n",
    "\n",
    "    def __get__(self, instance, owner):\n",
    "        print('__get__ was called')\n",
    "        return instance.__dict__[self.name]\n",
    "\n",
    "class Book:\n",
    "    title = TextField()"
   ]
  },
  {
   "cell_type": "code",
   "execution_count": 32,
   "id": "731bdaf6-7059-4972-8c7c-3ee8d13f16f8",
   "metadata": {},
   "outputs": [
    {
     "name": "stdout",
     "output_type": "stream",
     "text": [
      "__set__ was called\n"
     ]
    }
   ],
   "source": [
    "book = Book()\n",
    "# `Memory <==` 대입 시 호출 __set__()\n",
    "book.title = 'Python Practice Book'"
   ]
  },
  {
   "cell_type": "code",
   "execution_count": 33,
   "id": "becdcc02-07c8-48bc-bc06-7d9de58ac5d8",
   "metadata": {},
   "outputs": [
    {
     "name": "stdout",
     "output_type": "stream",
     "text": [
      "__get__ was called\n"
     ]
    },
    {
     "data": {
      "text/plain": [
       "'Python Practice Book'"
      ]
     },
     "execution_count": 33,
     "metadata": {},
     "output_type": "execute_result"
    }
   ],
   "source": [
    "# `Memory ==>` 취득 시에는 __get__()\n",
    "book.title"
   ]
  },
  {
   "cell_type": "code",
   "execution_count": 34,
   "id": "6fb83c38-99fe-4578-b03a-cee1c95373da",
   "metadata": {},
   "outputs": [
    {
     "name": "stdout",
     "output_type": "stream",
     "text": [
      "__set__ was called\n"
     ]
    }
   ],
   "source": [
    "# 다른 인스턴스를 작성해서 대입\n",
    "notebook = Book()\n",
    "notebook.title = 'Notebook'"
   ]
  },
  {
   "cell_type": "code",
   "execution_count": 35,
   "id": "f5714fe4-9c07-4d2c-8b09-7eb4fa778871",
   "metadata": {},
   "outputs": [
    {
     "name": "stdout",
     "output_type": "stream",
     "text": [
      "__get__ was called\n",
      "__get__ was called\n"
     ]
    },
    {
     "data": {
      "text/plain": [
       "('Python Practice Book', 'Notebook')"
      ]
     },
     "execution_count": 35,
     "metadata": {},
     "output_type": "execute_result"
    }
   ],
   "source": [
    "# 각 데이터를 유지하고 있음\n",
    "book.title, notebook.title"
   ]
  },
  {
   "cell_type": "code",
   "execution_count": 36,
   "id": "324356e7-7dd0-4bee-a2e0-6eeac940d669",
   "metadata": {},
   "outputs": [
    {
     "name": "stdout",
     "output_type": "stream",
     "text": [
      "__set__ was called\n",
      "must be str\n"
     ]
    }
   ],
   "source": [
    "# 문자열 이외는 대입할 수 없음\n",
    "try:\n",
    "    book.title = 123\n",
    "except Exception as e:\n",
    "    print(e)"
   ]
  },
  {
   "cell_type": "markdown",
   "id": "03ab3adf-9d90-4c9e-b1bb-9534aa1d4080",
   "metadata": {
    "tags": []
   },
   "source": [
    "### 03 **`__get__()` 디스크립터 구현**\n",
    "**Non Data Descriptor** 또는 **Non override descriptor** 라고 한다\n",
    "- 인스턴스 변수보다 중요도가 낮아서, 이름이 중복되면, `__get__()` 포함한 **<span style=\"color:orange\">인스턴스는 호출하지 않는다</span>**\n",
    "- 비데이터 디스크립너틑 속성 대입시 동작을 하지 않는다"
   ]
  },
  {
   "cell_type": "code",
   "execution_count": 37,
   "id": "04ac6711-3868-44ec-b520-a0ac83291036",
   "metadata": {},
   "outputs": [
    {
     "name": "stdout",
     "output_type": "stream",
     "text": [
      "__set_name__ was called\n",
      "owner=<class '__main__.Book'>, name='title'\n",
      "__get__ was called\n"
     ]
    },
    {
     "data": {
      "text/plain": [
       "'Python Practice Book'"
      ]
     },
     "execution_count": 37,
     "metadata": {},
     "output_type": "execute_result"
    }
   ],
   "source": [
    "# __get__()만 있다면 비데이터 디스크립터\n",
    "class TextField:\n",
    "\n",
    "    def __init__(self, value):\n",
    "        if not isinstance(value, str):\n",
    "            raise AttributeError('must be str')\n",
    "        self.value = value\n",
    "\n",
    "    def __set_name__(self, owner, name):\n",
    "        print(f'__set_name__ was called')\n",
    "        print(f'{owner=}, {name=}')\n",
    "        self.name = name\n",
    "\n",
    "    def __get__(self, instance, owner):\n",
    "        print('__get__ was called')\n",
    "        return self.value\n",
    "\n",
    "class Book:\n",
    "    title = TextField('Python Practice Book')\n",
    "\n",
    "book = Book()\n",
    "book.title     # 대입 전에는 __get__() 호출"
   ]
  },
  {
   "cell_type": "code",
   "execution_count": 38,
   "id": "e017612a-26d3-46a4-9092-f3a45e79f621",
   "metadata": {},
   "outputs": [
    {
     "data": {
      "text/plain": [
       "'Book'"
      ]
     },
     "execution_count": 38,
     "metadata": {},
     "output_type": "execute_result"
    }
   ],
   "source": [
    "book.title = 'Book' # 대입하면 인스턴스 변수가 된다\n",
    "book.title          # 인스턴스 변수가 있으면 __get__()은 호출되지 않음"
   ]
  },
  {
   "cell_type": "markdown",
   "id": "2d86f9fa-ec85-4b9b-ae6e-7dbe2f032d97",
   "metadata": {
    "tags": []
   },
   "source": [
    "### 04 **디스크립터 예시**\n",
    "- ` @LazyProperty` 는 비데이터 디스크립터로 `__get__()` 안에서 원래 함수를 실행한다\n",
    "- 실행 겨로가를 인스턴스 딕셔너리에 저장하여 인스턴스 변수를 정의한다\n",
    "- 두 번째 이후부터는 인스턴스 변수가 정의되어 있어서 `__get__()` 을 호출하지 않는다"
   ]
  },
  {
   "cell_type": "code",
   "execution_count": 39,
   "id": "d7f715be-0545-4402-8059-9fe41f4d5c88",
   "metadata": {},
   "outputs": [
    {
     "name": "stdout",
     "output_type": "stream",
     "text": [
      "calculate the price\n"
     ]
    },
    {
     "data": {
      "text/plain": [
       "2178"
      ]
     },
     "execution_count": 39,
     "metadata": {},
     "output_type": "execute_result"
    }
   ],
   "source": [
    "class LazyProperty:\n",
    "\n",
    "    def __init__(self, func):\n",
    "        self.func = func\n",
    "        self.name = func.__name__\n",
    "\n",
    "    def __get__(self, instance, owner):\n",
    "        if not instance: # 클래스 변수로 엑세스될 때\n",
    "            return self\n",
    "\n",
    "        v = self.func(instance) # self.func는 함수로 명시적으로 인스턴스를 전달\n",
    "        instance.__dict__[self.name] = v\n",
    "        return v\n",
    "\n",
    "TAX_RATE = 1.10\n",
    "\n",
    "class Book:\n",
    "\n",
    "    def __init__(self, raw_price):\n",
    "        self.raw_price = raw_price\n",
    "    \n",
    "    @LazyProperty\n",
    "    def price(self):\n",
    "        print('calculate the price')\n",
    "        return int(self.raw_price * TAX_RATE)\n",
    "\n",
    "book = Book(1980)\n",
    "book.price"
   ]
  }
 ],
 "metadata": {
  "kernelspec": {
   "display_name": "Python 3 (ipykernel)",
   "language": "python",
   "name": "python3"
  },
  "language_info": {
   "codemirror_mode": {
    "name": "ipython",
    "version": 3
   },
   "file_extension": ".py",
   "mimetype": "text/x-python",
   "name": "python",
   "nbconvert_exporter": "python",
   "pygments_lexer": "ipython3",
   "version": "3.8.10"
  }
 },
 "nbformat": 4,
 "nbformat_minor": 5
}
