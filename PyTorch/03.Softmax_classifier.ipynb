{
 "cells": [
  {
   "cell_type": "markdown",
   "metadata": {},
   "source": [
    "# Pytorch tutorial 3"
   ]
  },
  {
   "cell_type": "markdown",
   "metadata": {},
   "source": [
    "## Softmax classifier\n",
    "One Hot Encoding...."
   ]
  },
  {
   "cell_type": "code",
   "execution_count": 1,
   "metadata": {},
   "outputs": [
    {
     "data": {
      "text/plain": [
       "<torch._C.Generator at 0x7f6d000460d8>"
      ]
     },
     "execution_count": 1,
     "metadata": {},
     "output_type": "execute_result"
    }
   ],
   "source": [
    "import torch\n",
    "from torch.autograd import Variable\n",
    "torch.manual_seed(777)"
   ]
  },
  {
   "cell_type": "code",
   "execution_count": 2,
   "metadata": {
    "collapsed": true
   },
   "outputs": [],
   "source": [
    "x_data = [[1, 2, 1, 1], [2, 1, 3, 2], [3, 1, 3, 4], [4, 1, 5, 5],\n",
    "          [1, 7, 5, 5], [1, 2, 5, 6], [1, 6, 6, 6], [1, 7, 7, 7]]\n",
    "y_data = [[0, 0, 1], [0, 0, 1], [0, 0, 1], [0, 1, 0],\n",
    "          [0, 1, 0], [0, 1, 0], [1, 0, 0], [1, 0, 0]]  # 0번 index : 1, 1번 index : 1, 2번 index : 1 (3가지 해답만 존재)"
   ]
  },
  {
   "cell_type": "markdown",
   "metadata": {},
   "source": [
    "    텐서플로의 경우\n",
    "    X = tf.placeholder(\"float\", [None, 4])\n",
    "    Y = tf.placeholder(\"float\", [None, 3])  # One Hot Encoding\n",
    "    nb_classes = 3"
   ]
  },
  {
   "cell_type": "code",
   "execution_count": 3,
   "metadata": {
    "collapsed": true
   },
   "outputs": [],
   "source": [
    "X = Variable(torch.Tensor(x_data))\n",
    "Y = Variable(torch.Tensor(y_data))  # One Hot Encoding\n",
    "nb_classes = 3"
   ]
  },
  {
   "cell_type": "markdown",
   "metadata": {},
   "source": [
    "    [텐서플로] : 함수를 정의하면, 아래서 받아서 연관함수를 정의하고, 또 받아서 연관함수를.... (bottom up 방식)\n",
    "\n",
    "    hypothesis = tf.nn.softmax(tf.matmul(X, W) + b)\n",
    "    cost = tf.reduce_mean(-tf.reduce_sum(Y * tf.log(hypothesis), axis=1))\n",
    "    optimizer = tf.train.GradientDescentOptimizer(learning_rate=0.1).minimize(cost)"
   ]
  },
  {
   "cell_type": "code",
   "execution_count": 4,
   "metadata": {
    "collapsed": true
   },
   "outputs": [],
   "source": [
    "# 개별 함수를 개별 정의 후, model에서 연결이 용이 (top down 방식)\n",
    "softmax = torch.nn.Softmax()\n",
    "linear = torch.nn.Linear(4, nb_classes, bias=True)\n",
    "model = torch.nn.Sequential(linear, softmax)\n",
    "optimizer = torch.optim.SGD(model.parameters(), lr=0.1)"
   ]
  },
  {
   "cell_type": "markdown",
   "metadata": {},
   "source": [
    "    # Cross entropy cost/loss\n",
    "    # [tensorflow] tf.reduce_mean(-tf.reduce_sum(Y * tf.log(hypothesis), axis=1))\n",
    "    # [pytorch]    torch.sum(-Y * torch.log(hypothesis) , 1).mean()"
   ]
  },
  {
   "cell_type": "code",
   "execution_count": 5,
   "metadata": {},
   "outputs": [
    {
     "name": "stdout",
     "output_type": "stream",
     "text": [
      "step :  0 cost : [ 3.88193607]\n",
      "step :  400 cost : [ 0.5211699]\n",
      "step :  800 cost : [ 0.33575076]\n",
      "step :  1200 cost : [ 0.22303778]\n",
      "step :  1600 cost : [ 0.18638299]\n",
      "step :  2000 cost : [ 0.15975267]\n"
     ]
    }
   ],
   "source": [
    "for step in range(2001):\n",
    "    optimizer.zero_grad()\n",
    "    hypothesis = model(X)\n",
    "    cost = -Y * torch.log(hypothesis)\n",
    "    cost = torch.sum(cost, 1).mean()\n",
    "    cost.backward()\n",
    "    optimizer.step()\n",
    "    if step % 400 == 0:\n",
    "        print('step : ', step, 'cost :', cost.data.numpy())"
   ]
  },
  {
   "cell_type": "markdown",
   "metadata": {},
   "source": [
    "#### Testing & One-hot encoding 1\n",
    "[[1, 11, 7, 9]] tensor 데이터로 model 을 Test ---> Y^ = 1 로 예측"
   ]
  },
  {
   "cell_type": "code",
   "execution_count": 6,
   "metadata": {},
   "outputs": [
    {
     "data": {
      "text/plain": [
       "(Variable containing:\n",
       "  0.9917\n",
       " [torch.FloatTensor of size 1x1], Variable containing:\n",
       "  1\n",
       " [torch.LongTensor of size 1x1])"
      ]
     },
     "execution_count": 6,
     "metadata": {},
     "output_type": "execute_result"
    }
   ],
   "source": [
    "a = model(Variable(torch.Tensor([[1, 11, 7, 9]])))\n",
    "torch.max(a, 1)#[0].data.numpy()"
   ]
  },
  {
   "cell_type": "code",
   "execution_count": 7,
   "metadata": {},
   "outputs": [
    {
     "data": {
      "text/plain": [
       "Variable containing:\n",
       " 0.9917\n",
       "[torch.FloatTensor of size 1x1]"
      ]
     },
     "execution_count": 7,
     "metadata": {},
     "output_type": "execute_result"
    }
   ],
   "source": [
    "torch.max(a, 1)[0]#.data.numpy()"
   ]
  },
  {
   "cell_type": "code",
   "execution_count": 8,
   "metadata": {},
   "outputs": [
    {
     "data": {
      "text/plain": [
       "Variable containing:\n",
       " 1\n",
       "[torch.LongTensor of size 1x1]"
      ]
     },
     "execution_count": 8,
     "metadata": {},
     "output_type": "execute_result"
    }
   ],
   "source": [
    "torch.max(a, 1)[1]#.data.numpy()"
   ]
  },
  {
   "cell_type": "code",
   "execution_count": 9,
   "metadata": {},
   "outputs": [
    {
     "data": {
      "text/plain": [
       "array([[ 0.991687]], dtype=float32)"
      ]
     },
     "execution_count": 9,
     "metadata": {},
     "output_type": "execute_result"
    }
   ],
   "source": [
    "torch.max(a, 1)[0].data.numpy()"
   ]
  },
  {
   "cell_type": "code",
   "execution_count": 10,
   "metadata": {},
   "outputs": [
    {
     "data": {
      "text/plain": [
       "array([[1]])"
      ]
     },
     "execution_count": 10,
     "metadata": {},
     "output_type": "execute_result"
    }
   ],
   "source": [
    "torch.max(a, 1)[1].data.numpy()"
   ]
  },
  {
   "cell_type": "code",
   "execution_count": 11,
   "metadata": {},
   "outputs": [
    {
     "data": {
      "text/plain": [
       "(array([[  8.30345508e-03,   9.91687000e-01,   9.57232714e-06]], dtype=float32),\n",
       " array([[1]]))"
      ]
     },
     "execution_count": 11,
     "metadata": {},
     "output_type": "execute_result"
    }
   ],
   "source": [
    "a.data.numpy(), torch.max(a, 1)[1].data.numpy()"
   ]
  },
  {
   "cell_type": "markdown",
   "metadata": {},
   "source": [
    "#### Testing & One-hot encoding 2\n",
    "[[1, 3, 4, 3]] tensor 데이터로 model 을 Test  ---> Y^ = 0 로 예측"
   ]
  },
  {
   "cell_type": "code",
   "execution_count": 12,
   "metadata": {},
   "outputs": [
    {
     "data": {
      "text/plain": [
       "(array([[ 0.82575417,  0.15875565,  0.01549017]], dtype=float32), array([[0]]))"
      ]
     },
     "execution_count": 12,
     "metadata": {},
     "output_type": "execute_result"
    }
   ],
   "source": [
    "b = model(Variable(torch.Tensor([[1, 3, 4, 3]])))\n",
    "b.data.numpy(), torch.max(b, 1)[1].data.numpy()"
   ]
  },
  {
   "cell_type": "markdown",
   "metadata": {},
   "source": [
    "#### Testing & One-hot encoding 3\n",
    "[[1, 1, 0, 1]] tensor 데이터로 model 을 Test  ---> Y^ = 2 로 예측"
   ]
  },
  {
   "cell_type": "code",
   "execution_count": 13,
   "metadata": {},
   "outputs": [
    {
     "data": {
      "text/plain": [
       "(array([[  1.63065614e-08,   3.70370341e-04,   9.99629617e-01]], dtype=float32),\n",
       " array([[2]]))"
      ]
     },
     "execution_count": 13,
     "metadata": {},
     "output_type": "execute_result"
    }
   ],
   "source": [
    "c = model(Variable(torch.Tensor([[1, 1, 0, 1]])))\n",
    "c.data.numpy(), torch.max(c, 1)[1].data.numpy()"
   ]
  },
  {
   "cell_type": "markdown",
   "metadata": {},
   "source": [
    "#### Testing & One-hot encoding 1\n",
    "test1, test2, test3 tensor 데이터를 model 에 함께 Test"
   ]
  },
  {
   "cell_type": "code",
   "execution_count": 14,
   "metadata": {},
   "outputs": [
    {
     "data": {
      "text/plain": [
       "(array([[  8.30345508e-03,   9.91687000e-01,   9.57232714e-06],\n",
       "        [  8.25754166e-01,   1.58755645e-01,   1.54901687e-02],\n",
       "        [  1.63065614e-08,   3.70370341e-04,   9.99629617e-01]], dtype=float32),\n",
       " array([[1],\n",
       "        [0],\n",
       "        [2]]))"
      ]
     },
     "execution_count": 14,
     "metadata": {},
     "output_type": "execute_result"
    }
   ],
   "source": [
    "all = model(Variable(torch.Tensor([[1, 11, 7, 9], [1, 3, 4, 3], [1, 1, 0, 1]])))\n",
    "all.data.numpy(), torch.max(all, 1)[1].data.numpy()"
   ]
  },
  {
   "cell_type": "markdown",
   "metadata": {},
   "source": [
    "## Softmax classifier\n",
    "데이터로 동물 식별하기...."
   ]
  },
  {
   "cell_type": "code",
   "execution_count": 15,
   "metadata": {},
   "outputs": [
    {
     "data": {
      "text/plain": [
       "<torch._C.Generator at 0x7f6d000460d8>"
      ]
     },
     "execution_count": 15,
     "metadata": {},
     "output_type": "execute_result"
    }
   ],
   "source": [
    "import torch\n",
    "from torch.autograd import Variable\n",
    "import numpy as np\n",
    "torch.manual_seed(777)  # for reproducibility"
   ]
  },
  {
   "cell_type": "code",
   "execution_count": 16,
   "metadata": {},
   "outputs": [
    {
     "name": "stdout",
     "output_type": "stream",
     "text": [
      "[[ 1.  0.  0.  1.  0.  0.  1.  1.  1.  1.  0.  0.  4.  0.  0.  1.]\n",
      " [ 0.  0.  1.  0.  1.  0.  0.  0.  0.  1.  0.  0.  6.  0.  0.  0.]\n",
      " [ 0.  0.  1.  0.  0.  1.  1.  1.  1.  0.  0.  1.  0.  1.  0.  1.]\n",
      " [ 0.  0.  1.  0.  0.  0.  0.  0.  1.  1.  0.  0.  4.  1.  0.  1.]]\n",
      "x_data : (101, 16) \n",
      "\n",
      " y_data set : {0.0, 1.0, 2.0, 3.0, 4.0, 5.0, 6.0} \n",
      "y_data : (101, 1)\n"
     ]
    }
   ],
   "source": [
    "# Predicting animal type based on various features\n",
    "xy = np.loadtxt('./Lecture/data-04-zoo.csv', delimiter=',', dtype=np.float32)\n",
    "x_data = xy[:, 0:-1]\n",
    "y_data = xy[:, [-1]]\n",
    "print(x_data[::30])\n",
    "print('x_data :', x_data.shape,'\\n\\n',\n",
    "      'y_data set :',set([i[0] for i in y_data]), '\\ny_data :' , y_data.shape, )\n",
    "\n",
    "nb_classes = 7  # 0 ~ 6  ( 총 7개 동물로 분류된 데이터)"
   ]
  },
  {
   "cell_type": "code",
   "execution_count": 17,
   "metadata": {},
   "outputs": [
    {
     "name": "stdout",
     "output_type": "stream",
     "text": [
      "one_hot \n",
      "    1     0     0     0     0     0     0\n",
      "    0     1     0     0     0     0     0\n",
      "    0     0     0     0     0     1     0\n",
      "    0     0     0     1     0     0     0\n",
      "    0     0     1     0     0     0     0\n",
      "    0     1     0     0     0     0     0\n",
      "[torch.FloatTensor of size 6x7]\n",
      "\n"
     ]
    }
   ],
   "source": [
    "# one hot encoding (0~6 의 숫자로 되어있는 'y_data'를   'One Hot Encoding 포맷'으로 변환)\n",
    "X = Variable(torch.from_numpy(x_data))\n",
    "Y = Variable(torch.from_numpy(y_data))\n",
    "\n",
    "Y_one_hot = torch.zeros(Y.size()[0], nb_classes)  # [0,0,0,0,0,0] 배경 데이터 만들기\n",
    "Y_one_hot.scatter_(1, Y.long().data, 1)           # 1 ~ 6 데이터에 해당 위치에 1을 찍는다\n",
    "Y_one_hot = Variable(Y_one_hot)\n",
    "print(\"one_hot\", Y_one_hot.data[::20])"
   ]
  },
  {
   "cell_type": "code",
   "execution_count": 18,
   "metadata": {
    "collapsed": true
   },
   "outputs": [],
   "source": [
    "softmax = torch.nn.Softmax()\n",
    "model = torch.nn.Linear(16, nb_classes, bias=True)  # 독립변수 데이터 : 16 컬럼, 출력변수 : nb_classes(one-hot encoding) \n",
    "\n",
    "# Cross entropy cost/loss\n",
    "criterion = torch.nn.CrossEntropyLoss()    # Softmax is internally computed.\n",
    "optimizer = torch.optim.SGD(model.parameters(), lr=0.1)"
   ]
  },
  {
   "cell_type": "code",
   "execution_count": 19,
   "metadata": {},
   "outputs": [
    {
     "name": "stdout",
     "output_type": "stream",
     "text": [
      "Step:     0\tLoss: 1.971\tAcc: 5.94%\n",
      "Step:   400\tLoss: 0.211\tAcc: 95.05%\n",
      "Step:   800\tLoss: 0.125\tAcc: 99.01%\n",
      "Step:  1200\tLoss: 0.089\tAcc: 100.00%\n",
      "Step:  1600\tLoss: 0.069\tAcc: 100.00%\n",
      "Step:  2000\tLoss: 0.056\tAcc: 100.00%\n"
     ]
    }
   ],
   "source": [
    "# 학습모델 만들기\n",
    "for step in range(2001):\n",
    "    optimizer.zero_grad()\n",
    "    hypothesis = model(X)\n",
    "    # Label has to be 1D LongTensor\n",
    "    cost = criterion(hypothesis, Y.long().view(-1))\n",
    "    cost.backward()\n",
    "    optimizer.step()\n",
    "    prediction = torch.max(softmax(hypothesis), 1)[1].float()\n",
    "    correct_prediction = (prediction.data == Y.data)\n",
    "    accuracy = correct_prediction.float().mean()\n",
    "\n",
    "    if step % 400 == 0:\n",
    "        print(\"Step: {:5}\\tLoss: {:.3f}\\tAcc: {:.2%}\".format(step, cost.data[0], accuracy))"
   ]
  },
  {
   "cell_type": "code",
   "execution_count": 20,
   "metadata": {},
   "outputs": [
    {
     "name": "stdout",
     "output_type": "stream",
     "text": [
      "[True] Prediction: 0 True Y: 0\n",
      "[True] Prediction: 6 True Y: 6\n",
      "[True] Prediction: 1 True Y: 1\n",
      "[True] Prediction: 0 True Y: 0\n",
      "[True] Prediction: 3 True Y: 3\n",
      "[True] Prediction: 1 True Y: 1\n",
      "[True] Prediction: 0 True Y: 0\n",
      "[True] Prediction: 0 True Y: 0\n",
      "[True] Prediction: 2 True Y: 2\n",
      "[True] Prediction: 0 True Y: 0\n",
      "[True] Prediction: 2 True Y: 2\n",
      "[True] Prediction: 1 True Y: 1\n",
      "[True] Prediction: 2 True Y: 2\n",
      "[True] Prediction: 5 True Y: 5\n"
     ]
    }
   ],
   "source": [
    "# 학습한 모델을 테스트 해보자 (거의 대부분 일치한 결과가 도출)\n",
    "pred = torch.max(softmax(hypothesis), 1)[1].float(); i = 0\n",
    "for p, y in zip(pred, Y): \n",
    "    i += 1\n",
    "    if i % 7 == 0:\n",
    "        print(\"[{}] Prediction: {} True Y: {}\".format(bool(p.data[0] == y.data[0]), p.data.int()[0], y.data.int()[0]))"
   ]
  },
  {
   "cell_type": "code",
   "execution_count": 22,
   "metadata": {
    "scrolled": true
   },
   "outputs": [
    {
     "name": "stdout",
     "output_type": "stream",
     "text": [
      "0\n",
      "5000\n",
      "10000\n",
      "15000\n",
      "20000\n",
      "25000\n",
      "30000\n"
     ]
    }
   ],
   "source": [
    "pred = torch.max(softmax(hypothesis), 1)[1].float()\n",
    "for i in range(30002):\n",
    "    if i % 5000 == 0:\n",
    "        print(i)\n",
    "    for p, y in zip(pred, Y): \n",
    "        if p.data[0] != y.data[0]:\n",
    "            print(\"[{}] Prediction: {} True Y: {}\".format(bool(p.data[0] == y.data[0]), p.data.int()[0], y.data.int()[0]))"
   ]
  },
  {
   "cell_type": "code",
   "execution_count": null,
   "metadata": {
    "collapsed": true
   },
   "outputs": [],
   "source": []
  },
  {
   "cell_type": "code",
   "execution_count": null,
   "metadata": {
    "collapsed": true
   },
   "outputs": [],
   "source": []
  }
 ],
 "metadata": {
  "kernelspec": {
   "display_name": "Python 3",
   "language": "python",
   "name": "python3"
  },
  "language_info": {
   "codemirror_mode": {
    "name": "ipython",
    "version": 3
   },
   "file_extension": ".py",
   "mimetype": "text/x-python",
   "name": "python",
   "nbconvert_exporter": "python",
   "pygments_lexer": "ipython3",
   "version": "3.6.1"
  }
 },
 "nbformat": 4,
 "nbformat_minor": 2
}
