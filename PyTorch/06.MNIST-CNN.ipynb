{
 "cells": [
  {
   "cell_type": "markdown",
   "metadata": {},
   "source": [
    "# Pytorch Tutorial 6"
   ]
  },
  {
   "cell_type": "markdown",
   "metadata": {},
   "source": [
    "## CNN algorithem 1\n",
    "MNIST (2 conv / 1 fc)   : cpu 41 min"
   ]
  },
  {
   "cell_type": "code",
   "execution_count": 1,
   "metadata": {
    "collapsed": true
   },
   "outputs": [],
   "source": [
    "# parameters\n",
    "from time import time\n",
    "learning_rate = 0.001\n",
    "training_epochs = 15\n",
    "batch_size = 100\n",
    "t0 = time()"
   ]
  },
  {
   "cell_type": "code",
   "execution_count": 2,
   "metadata": {},
   "outputs": [
    {
     "data": {
      "text/plain": [
       "<torch._C.Generator at 0x7fd88414d108>"
      ]
     },
     "execution_count": 2,
     "metadata": {},
     "output_type": "execute_result"
    }
   ],
   "source": [
    "import torch\n",
    "from torch.autograd import Variable\n",
    "import torchvision.datasets as dsets\n",
    "import torchvision.transforms as transforms\n",
    "import torch.nn.init\n",
    "torch.manual_seed(777)  # reproducibility"
   ]
  },
  {
   "cell_type": "code",
   "execution_count": 3,
   "metadata": {
    "collapsed": true
   },
   "outputs": [],
   "source": [
    "# MNIST dataset\n",
    "mnist_train = dsets.MNIST(root='MNIST_data/', train=True, transform=transforms.ToTensor(), download=True)\n",
    "mnist_test = dsets.MNIST(root='MNIST_data/', train=False, transform=transforms.ToTensor(), download=True)\n",
    "# dataset loader\n",
    "data_loader = torch.utils.data.DataLoader(dataset=mnist_train,batch_size=batch_size, shuffle=True)"
   ]
  },
  {
   "cell_type": "markdown",
   "metadata": {},
   "source": [
    "    L1 ImgIn shape=(?, 28, 28, 1)\n",
    "       Conv     -> (?, 28, 28, 32)\n",
    "       Pool     -> (?, 14, 14, 32)\n",
    "    L2 ImgIn shape=(?, 14, 14, 32)\n",
    "       Conv      ->(?, 14, 14, 64)\n",
    "       Pool      ->(?, 7, 7, 64)\n",
    "    Final FC 7x7x64 inputs -> 10 outputs\n"
   ]
  },
  {
   "cell_type": "code",
   "execution_count": 4,
   "metadata": {
    "collapsed": true
   },
   "outputs": [],
   "source": [
    "# CNN Model (2 conv layers - 1 fully connected 를 활용)\n",
    "class CNN(torch.nn.Module):\n",
    "    def __init__(self):\n",
    "        super(CNN, self).__init__()\n",
    "        self.layer1 = torch.nn.Sequential(\n",
    "            torch.nn.Conv2d(1, 32, kernel_size=3, stride=1, padding=1),\n",
    "            torch.nn.ReLU(),\n",
    "            torch.nn.MaxPool2d(kernel_size=2, stride=2))\n",
    "        self.layer2 = torch.nn.Sequential(\n",
    "            torch.nn.Conv2d(32, 64, kernel_size=3, stride=1, padding=1),\n",
    "            torch.nn.ReLU(),\n",
    "            torch.nn.MaxPool2d(kernel_size=2, stride=2))\n",
    "        self.fc = torch.nn.Linear(7 * 7 * 64, 10, bias=True)\n",
    "        torch.nn.init.xavier_uniform(self.fc.weight)\n",
    "\n",
    "    def forward(self, x):\n",
    "        out = self.layer1(x)\n",
    "        out = self.layer2(out)\n",
    "        out = out.view(out.size(0), -1)   # Flatten them for FC\n",
    "        out = self.fc(out)\n",
    "        return out"
   ]
  },
  {
   "cell_type": "code",
   "execution_count": null,
   "metadata": {
    "collapsed": true
   },
   "outputs": [],
   "source": [
    "# CNN model 을 실행\n",
    "model = CNN()\n",
    "# define cost/loss & optimizer\n",
    "criterion = torch.nn.CrossEntropyLoss()    # Softmax is internally computed.\n",
    "optimizer = torch.optim.Adam(model.parameters(), lr=learning_rate)"
   ]
  },
  {
   "cell_type": "code",
   "execution_count": null,
   "metadata": {},
   "outputs": [
    {
     "name": "stdout",
     "output_type": "stream",
     "text": [
      "Learning started. It takes sometime.\n"
     ]
    }
   ],
   "source": [
    "# 학습모델 생성하기\n",
    "print('Learning started. It takes sometime.')\n",
    "for epoch in range(training_epochs):\n",
    "    avg_cost = 0\n",
    "    total_batch = len(mnist_train) // batch_size\n",
    "    \n",
    "    for i, (batch_xs, batch_ys) in enumerate(data_loader):\n",
    "        X = Variable(batch_xs)    # image is already size of (28x28), no reshape\n",
    "        Y = Variable(batch_ys)    # label is not one-hot encoded\n",
    "        optimizer.zero_grad()\n",
    "        hypothesis = model(X)\n",
    "        cost = criterion(hypothesis, Y)\n",
    "        cost.backward()\n",
    "        optimizer.step()\n",
    "        avg_cost += cost.data / total_batch\n",
    "    print(\"[Epoch: {:>4}] cost = {:>.9}\".format(epoch + 1, avg_cost[0]))\n",
    "print('Learning Finished!')"
   ]
  },
  {
   "cell_type": "code",
   "execution_count": null,
   "metadata": {},
   "outputs": [],
   "source": [
    "# 학습모델 테스트 및 정확도 측정\n",
    "model.eval()    # set the model to evaluation mode (dropout=False)\n",
    "X_test = Variable(mnist_test.test_data.view(len(mnist_test), 1, 28, 28).float())\n",
    "Y_test = Variable(mnist_test.test_labels)\n",
    "\n",
    "prediction = model(X_test)\n",
    "correct_prediction = (torch.max(prediction.data, 1)[1] == Y_test.data)\n",
    "accuracy = correct_prediction.float().mean()\n",
    "print('Accuracy:', accuracy)\n",
    "print(int(time()-t0)//60, 'min', int(time()-t0)%60, 'sec')"
   ]
  },
  {
   "cell_type": "markdown",
   "metadata": {},
   "source": [
    "## CNN algorithem 2\n",
    "MNIST Deep Learning (3 conv / 2 fc)"
   ]
  },
  {
   "cell_type": "code",
   "execution_count": null,
   "metadata": {
    "collapsed": true
   },
   "outputs": [],
   "source": [
    "# parameters \n",
    "learning_rate = 0.001\n",
    "training_epochs = 15\n",
    "batch_size = 100\n",
    "keep_prob = 0.7\n",
    "t0 = time()"
   ]
  },
  {
   "cell_type": "markdown",
   "metadata": {},
   "source": [
    "    L1 ImgIn shape=(?, 28, 28, 1)\n",
    "       Conv     -> (?, 28, 28, 32)\n",
    "       Pool     -> (?, 14, 14, 32)\n",
    "\n",
    "    L2 ImgIn shape=(?, 14, 14, 32)\n",
    "       Conv      ->(?, 14, 14, 64)\n",
    "       Pool      ->(?, 7, 7, 64)\n",
    "\n",
    "    L3 ImgIn shape=(?, 7, 7, 64)\n",
    "       Conv      ->(?, 7, 7, 128)\n",
    "       Pool      ->(?, 4, 4, 128)\n",
    "    L4 FC 4x4x128 inputs -> 625 outputs\n",
    "    L5 Final FC 625 inputs -> 10 outputs  "
   ]
  },
  {
   "cell_type": "code",
   "execution_count": null,
   "metadata": {
    "collapsed": true
   },
   "outputs": [],
   "source": [
    "# CNN Model (3 conv layers - 2 fully connected 를 활용)\n",
    "class CNN(torch.nn.Module):\n",
    "    def __init__(self):\n",
    "        super(CNN, self).__init__()\n",
    "        self.layer1 = torch.nn.Sequential(\n",
    "            torch.nn.Conv2d(1, 32, kernel_size=3, stride=1, padding=1),\n",
    "            torch.nn.ReLU(),\n",
    "            torch.nn.MaxPool2d(kernel_size=2, stride=2),\n",
    "            torch.nn.Dropout(p=1 - keep_prob))\n",
    "        self.layer2 = torch.nn.Sequential(\n",
    "            torch.nn.Conv2d(32, 64, kernel_size=3, stride=1, padding=1),\n",
    "            torch.nn.ReLU(),\n",
    "            torch.nn.MaxPool2d(kernel_size=2, stride=2),\n",
    "            torch.nn.Dropout(p=1 - keep_prob))\n",
    "        self.layer3 = torch.nn.Sequential(\n",
    "            torch.nn.Conv2d(64, 128, kernel_size=3, stride=1, padding=1),\n",
    "            torch.nn.ReLU(),\n",
    "            torch.nn.MaxPool2d(kernel_size=2, stride=2, padding=1),\n",
    "            torch.nn.Dropout(p=1 - keep_prob))\n",
    "        self.fc1 = torch.nn.Linear(4 * 4 * 128, 625, bias=True)\n",
    "        torch.nn.init.xavier_uniform(self.fc1.weight)\n",
    "        self.layer4 = torch.nn.Sequential(\n",
    "            self.fc1,\n",
    "            torch.nn.ReLU(),\n",
    "            torch.nn.Dropout(p=1 - keep_prob))\n",
    "        self.fc2 = torch.nn.Linear(625, 10, bias=True)\n",
    "        torch.nn.init.xavier_uniform(self.fc2.weight)\n",
    "\n",
    "    def forward(self, x):\n",
    "        out = self.layer1(x)\n",
    "        out = self.layer2(out)\n",
    "        out = self.layer3(out)\n",
    "        out = out.view(out.size(0), -1)   # Flatten them for FC\n",
    "        out = self.fc1(out)\n",
    "        out = self.fc2(out)\n",
    "        return out"
   ]
  },
  {
   "cell_type": "code",
   "execution_count": null,
   "metadata": {
    "collapsed": true
   },
   "outputs": [],
   "source": [
    "# instantiate CNN model\n",
    "model = CNN()\n",
    "\n",
    "# define cost/loss & optimizer\n",
    "criterion = torch.nn.CrossEntropyLoss()    # Softmax is internally computed.\n",
    "optimizer = torch.optim.Adam(model.parameters(), lr=learning_rate)"
   ]
  },
  {
   "cell_type": "code",
   "execution_count": null,
   "metadata": {},
   "outputs": [],
   "source": [
    "# 학습모델 만들기\n",
    "print('Learning started. It takes sometime.')\n",
    "for epoch in range(training_epochs):\n",
    "    avg_cost = 0\n",
    "    total_batch = len(mnist_train) // batch_size\n",
    "\n",
    "    for i, (batch_xs, batch_ys) in enumerate(data_loader):\n",
    "        X = Variable(batch_xs)    # image is already size of (28x28), no reshape\n",
    "        Y = Variable(batch_ys)    # label is not one-hot encoded\n",
    "        optimizer.zero_grad()\n",
    "        hypothesis = model(X)\n",
    "        cost = criterion(hypothesis, Y)\n",
    "        cost.backward()\n",
    "        optimizer.step()\n",
    "        avg_cost += cost.data / total_batch\n",
    "    print(\"[Epoch: {:>4}] cost = {:>.9}\".format(epoch + 1, avg_cost[0]))\n",
    "print('Learning Finished!')"
   ]
  },
  {
   "cell_type": "code",
   "execution_count": null,
   "metadata": {
    "collapsed": true
   },
   "outputs": [],
   "source": [
    "# 학습모델 테스트 및 정확도 측정\n",
    "model.eval()    # set the model to evaluation mode (dropout=False)\n",
    "X_test = Variable(mnist_test.test_data.view(len(mnist_test), 1, 28, 28).float())\n",
    "Y_test = Variable(mnist_test.test_labels)\n",
    "\n",
    "prediction = model(X_test)\n",
    "correct_prediction = (torch.max(prediction.data, 1)[1] == Y_test.data)\n",
    "accuracy = correct_prediction.float().mean()\n",
    "print('Accuracy:', accuracy)\n",
    "print(int(time()-t0)//60, 'min', int(time()-t0)%60, 'sec')"
   ]
  },
  {
   "cell_type": "markdown",
   "metadata": {},
   "source": [
    "## CNN algorithem 3\n",
    "MNIST Deep Learning - Class 모델을 활용"
   ]
  },
  {
   "cell_type": "code",
   "execution_count": null,
   "metadata": {
    "collapsed": true
   },
   "outputs": [],
   "source": [
    "# parameters\n",
    "learning_rate = 0.001\n",
    "training_epochs = 15\n",
    "batch_size = 100\n",
    "t0 = time()"
   ]
  },
  {
   "cell_type": "markdown",
   "metadata": {},
   "source": [
    "    (클래스 내부서 정의) dropout (keep_prob) rate  0.7~0.5 on training, but should be 1\n",
    "    L1 ImgIn shape=(?, 28, 28, 1)\n",
    "       Conv     -> (?, 28, 28, 32)\n",
    "       Pool     -> (?, 14, 14, 32)\n",
    "    L2 ImgIn shape=(?, 14, 14, 32)\n",
    "       Conv      ->(?, 14, 14, 64)\n",
    "       Pool      ->(?, 7, 7, 64)\n",
    "    L3 ImgIn shape=(?, 7, 7, 64)\n",
    "       Conv      ->(?, 7, 7, 128)\n",
    "       Pool      ->(?, 4, 4, 128)\n",
    "    L4 FC 4x4x128 inputs -> 625 outputs\n",
    "    L5 Final FC 625 inputs -> 10 outputs"
   ]
  },
  {
   "cell_type": "code",
   "execution_count": null,
   "metadata": {
    "collapsed": true
   },
   "outputs": [],
   "source": [
    "# CNN Model\n",
    "class CNN(torch.nn.Module):\n",
    "    def __init__(self):\n",
    "        super(CNN, self).__init__()\n",
    "        self._build_net()\n",
    "    def _build_net(self):\n",
    "        self.keep_prob = 0.7\n",
    "        self.layer1 = torch.nn.Sequential(\n",
    "            torch.nn.Conv2d(1, 32, kernel_size=3, stride=1, padding=1),\n",
    "            torch.nn.ReLU(),\n",
    "            torch.nn.MaxPool2d(kernel_size=2, stride=2),\n",
    "            torch.nn.Dropout(p=1 - self.keep_prob))\n",
    "        self.layer2 = torch.nn.Sequential(\n",
    "            torch.nn.Conv2d(32, 64, kernel_size=3, stride=1, padding=1),\n",
    "            torch.nn.ReLU(),\n",
    "            torch.nn.MaxPool2d(kernel_size=2, stride=2),\n",
    "            torch.nn.Dropout(p=1 - self.keep_prob))\n",
    "        self.layer3 = torch.nn.Sequential(\n",
    "            torch.nn.Conv2d(64, 128, kernel_size=3, stride=1, padding=1),\n",
    "            torch.nn.ReLU(),\n",
    "            torch.nn.MaxPool2d(kernel_size=2, stride=2, padding=1),\n",
    "            torch.nn.Dropout(p=1 - self.keep_prob))\n",
    "        self.keep_prob = 0.5\n",
    "        self.fc1 = torch.nn.Linear(4 * 4 * 128, 625, bias=True)\n",
    "        torch.nn.init.xavier_uniform(self.fc1.weight)\n",
    "        # L4 FC 4x4x128 inputs -> 625 outputs\n",
    "        self.layer4 = torch.nn.Sequential(\n",
    "            self.fc1,\n",
    "            torch.nn.ReLU(),\n",
    "            torch.nn.Dropout(p=1 - self.keep_prob))\n",
    "        # L5 Final FC 625 inputs -> 10 outputs\n",
    "        self.fc2 = torch.nn.Linear(625, 10, bias=True)\n",
    "        torch.nn.init.xavier_uniform(self.fc2.weight)\n",
    "        # define cost/loss & optimizer\n",
    "        self.criterion = torch.nn.CrossEntropyLoss()    # Softmax is internally computed.\n",
    "        self.optimizer = torch.optim.Adam(self.parameters(), lr=learning_rate)\n",
    "\n",
    "    def forward(self, x):\n",
    "        out = self.layer1(x)\n",
    "        out = self.layer2(out)\n",
    "        out = self.layer3(out)\n",
    "        out = out.view(out.size(0), -1)   # Flatten them for FC\n",
    "        out = self.fc1(out)\n",
    "        out = self.fc2(out)\n",
    "        return out\n",
    "\n",
    "    def predict(self, x):\n",
    "        self.eval()\n",
    "        return self.forward(x)\n",
    "\n",
    "    def get_accuracy(self, x, y):\n",
    "        prediction = self.predict(x)\n",
    "        correct_prediction = (torch.max(prediction.data, 1)[1] == y.data)\n",
    "        self.accuracy = correct_prediction.float().mean()\n",
    "        return self.accuracy\n",
    "\n",
    "    def train_model(self, x, y):\n",
    "        self.train()\n",
    "        self.optimizer.zero_grad()\n",
    "        hypothesis = self.forward(x)\n",
    "        self.cost = self.criterion(hypothesis, y)\n",
    "        self.cost.backward()\n",
    "        self.optimizer.step()\n",
    "        return self.cost"
   ]
  },
  {
   "cell_type": "code",
   "execution_count": null,
   "metadata": {
    "collapsed": true
   },
   "outputs": [],
   "source": [
    "# instantiate CNN model\n",
    "model = CNN()\n",
    "\n",
    "# 학습모델 만들기\n",
    "print('Learning started. It takes sometime.')\n",
    "for epoch in range(training_epochs):\n",
    "    avg_cost = 0\n",
    "    total_batch = len(mnist_train) // batch_size\n",
    "\n",
    "    for i, (batch_xs, batch_ys) in enumerate(data_loader):\n",
    "        X = Variable(batch_xs)    # image is already size of (28x28), no reshape\n",
    "        Y = Variable(batch_ys)    # label is not one-hot encoded\n",
    "        cost = model.train_model(X, Y)\n",
    "        avg_cost += cost.data / total_batch\n",
    "    print(\"[Epoch: {:>4}] cost = {:>.9}\".format(epoch + 1, avg_cost[0]))\n",
    "print('Learning Finished!')"
   ]
  },
  {
   "cell_type": "code",
   "execution_count": null,
   "metadata": {
    "collapsed": true
   },
   "outputs": [],
   "source": [
    "# 학습모델 테스트 및 정확도 측정\n",
    "X_test = Variable(mnist_test.test_data.view(len(mnist_test), 1, 28, 28).float())\n",
    "Y_test = Variable(mnist_test.test_labels)\n",
    "print('Accuracy:', model.get_accuracy(X_test, Y_test))\n",
    "print(int(time()-t0)//60, 'min', int(time()-t0)%60, 'sec')"
   ]
  },
  {
   "cell_type": "code",
   "execution_count": null,
   "metadata": {
    "collapsed": true
   },
   "outputs": [],
   "source": []
  },
  {
   "cell_type": "code",
   "execution_count": null,
   "metadata": {
    "collapsed": true
   },
   "outputs": [],
   "source": []
  },
  {
   "cell_type": "code",
   "execution_count": null,
   "metadata": {
    "collapsed": true
   },
   "outputs": [],
   "source": []
  }
 ],
 "metadata": {
  "kernelspec": {
   "display_name": "Python 3",
   "language": "python",
   "name": "python3"
  },
  "language_info": {
   "codemirror_mode": {
    "name": "ipython",
    "version": 3
   },
   "file_extension": ".py",
   "mimetype": "text/x-python",
   "name": "python",
   "nbconvert_exporter": "python",
   "pygments_lexer": "ipython3",
   "version": "3.6.1"
  }
 },
 "nbformat": 4,
 "nbformat_minor": 2
}
