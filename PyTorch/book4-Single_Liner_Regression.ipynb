{
 "cells": [
  {
   "cell_type": "markdown",
   "metadata": {},
   "source": [
    "# 제4절 Single Linear Regression"
   ]
  },
  {
   "cell_type": "markdown",
   "metadata": {},
   "source": [
    "## 사례 1"
   ]
  },
  {
   "cell_type": "markdown",
   "metadata": {},
   "source": [
    "#### Single Linear Regression 1\n",
    "by pytorch"
   ]
  },
  {
   "cell_type": "code",
   "execution_count": 1,
   "metadata": {
    "collapsed": true
   },
   "outputs": [],
   "source": [
    "import numpy as np\n",
    "number_of_points = 500"
   ]
  },
  {
   "cell_type": "code",
   "execution_count": 2,
   "metadata": {
    "collapsed": true
   },
   "outputs": [],
   "source": [
    "# x 축과 y 축의 두 리스트를 초기화 한다.\n",
    "x_point , y_point = [], []"
   ]
  },
  {
   "cell_type": "code",
   "execution_count": 3,
   "metadata": {
    "collapsed": true
   },
   "outputs": [],
   "source": [
    "# 선형관계를 정의하는 weight 와 bias 의 상수 값을 임의로 지정한다\n",
    "w = 0.22\n",
    "b = 0.78"
   ]
  },
  {
   "cell_type": "code",
   "execution_count": 4,
   "metadata": {
    "collapsed": true
   },
   "outputs": [],
   "source": [
    "for i in range(number_of_points):\n",
    "    x = np.random.normal(0, 0.5)\n",
    "    y = w * x + b + np.random.normal(0,0.1)\n",
    "    x_point.append([x])\n",
    "    y_point.append([y])"
   ]
  },
  {
   "cell_type": "code",
   "execution_count": 5,
   "metadata": {},
   "outputs": [
    {
     "data": {
      "image/png": "[encoded data removed]",
      "text/plain": [
       "<matplotlib.figure.Figure at 0x7f49bc1a6160>"
      ]
     },
     "metadata": {},
     "output_type": "display_data"
    }
   ],
   "source": [
    "%matplotlib inline\n",
    "import matplotlib.pyplot as plt\n",
    "plt.plot(x_point, y_point, 'o', label = \"Input Data\")\n",
    "plt.legend()\n",
    "plt.show()"
   ]
  },
  {
   "cell_type": "code",
   "execution_count": 6,
   "metadata": {
    "collapsed": true
   },
   "outputs": [],
   "source": [
    "import torch\n",
    "import torch.nn as nn\n",
    "from torch.autograd import Variable"
   ]
  },
  {
   "cell_type": "code",
   "execution_count": 7,
   "metadata": {},
   "outputs": [],
   "source": [
    "# X 와 Y 를 정의한다\n",
    "# x_point, y_point 위에서 생성한 데이터를 사용한다\n",
    "X = Variable(torch.Tensor(x_point))\n",
    "Y = Variable(torch.Tensor(y_point))"
   ]
  },
  {
   "cell_type": "code",
   "execution_count": 8,
   "metadata": {
    "collapsed": true
   },
   "outputs": [],
   "source": [
    "# 가설함수를 정의 : Y = XW + b\n",
    "model = nn.Linear(1,1,bias = True)\n",
    "# Cost 함수를 정의 (평균제곱오차)\n",
    "criterion = nn.MSELoss()\n",
    "# learning rate 와 최적화 모델을 정의한다\n",
    "optimizer = torch.optim.SGD(model.parameters(),lr = 0.01)"
   ]
  },
  {
   "cell_type": "code",
   "execution_count": 12,
   "metadata": {},
   "outputs": [
    {
     "name": "stdout",
     "output_type": "stream",
     "text": [
      "0 [ 0.00947106] [[ 0.22959417]] [ 0.79009211]\n",
      "1000 [ 0.00947106] [[ 0.22959417]] [ 0.79009211]\n",
      "2000 [ 0.00947106] [[ 0.22959417]] [ 0.79009211]\n",
      "3000 [ 0.00947106] [[ 0.22959417]] [ 0.79009211]\n",
      "4000 [ 0.00947106] [[ 0.22959417]] [ 0.79009211]\n",
      "5000 [ 0.00947106] [[ 0.22959417]] [ 0.79009211]\n",
      "6000 [ 0.00947106] [[ 0.22959417]] [ 0.79009211]\n",
      "7000 [ 0.00947106] [[ 0.22959417]] [ 0.79009211]\n",
      "8000 [ 0.00947106] [[ 0.22959417]] [ 0.79009211]\n",
      "9000 [ 0.00947106] [[ 0.22959417]] [ 0.79009211]\n",
      "10000 [ 0.00947106] [[ 0.22959417]] [ 0.79009211]\n"
     ]
    }
   ],
   "source": [
    "# 학습모델 만들기\n",
    "for step in range(10001):\n",
    "    optimizer.zero_grad()\n",
    "    hypothesis = model(X)            # 가설함수 정의\n",
    "    cost = criterion(hypothesis, Y)  # cost함수 정의\n",
    "    cost.backward()                  # cost backward 를 실행\n",
    "    optimizer.step()                 # 최적화 단계를 실행\n",
    "\n",
    "    if step % 1000 == 0:\n",
    "        print(step,\n",
    "        cost.data.numpy(),\n",
    "        model.weight.data.numpy(),\n",
    "        model.bias.data.numpy() )  # .numpy() - array 객체로 value만 출력한다"
   ]
  },
  {
   "cell_type": "markdown",
   "metadata": {},
   "source": [
    "#### Single Linear Regression 2\n",
    "by pytorch"
   ]
  },
  {
   "cell_type": "code",
   "execution_count": 13,
   "metadata": {
    "collapsed": true
   },
   "outputs": [],
   "source": [
    "# 관련 라이브러리를 불러온다\n",
    "import numpy as np\n",
    "import torch\n",
    "import torch.nn as nn\n",
    "import torch.optim as optim\n",
    "import torch.nn.init as init\n",
    "from torch.autograd import Variable"
   ]
  },
  {
   "cell_type": "code",
   "execution_count": 14,
   "metadata": {
    "collapsed": true
   },
   "outputs": [],
   "source": [
    "# 데이터를 생성한다.\n",
    "num_data = 1000\n",
    "num_epoch = 1000\n",
    "noise = init.normal(torch.FloatTensor(num_data,1),std=0.2)\n",
    "x = init.uniform(torch.Tensor(num_data,1),-10,10)\n",
    "y = 2*x+3\n",
    "y_noise = 2*(x+noise)+3"
   ]
  },
  {
   "cell_type": "code",
   "execution_count": 15,
   "metadata": {
    "collapsed": true
   },
   "outputs": [],
   "source": [
    "# 선형모델을 정의\n",
    "model = nn.Linear(1,1)\n",
    "output = model(Variable(x))\n",
    "# loss function 및 optimizer 를 정의\n",
    "loss_func = nn.L1Loss()\n",
    "optimizer = optim.SGD(model.parameters(),lr=0.01)"
   ]
  },
  {
   "cell_type": "code",
   "execution_count": 16,
   "metadata": {},
   "outputs": [
    {
     "name": "stdout",
     "output_type": "stream",
     "text": [
      "0 [ 6.98669147] [[ 0.80574739]] [-0.96700054]\n",
      "100 [ 3.11842537] [[ 1.73617041]] [-0.08264828]\n",
      "200 [ 2.12326336] [[ 1.84725344]] [ 0.90868282]\n",
      "300 [ 1.13030028] [[ 1.96015513]] [ 1.89867032]\n",
      "400 [ 0.39413339] [[ 1.99931192]] [ 2.7375226]\n",
      "500 [ 0.32142475] [[ 1.99937642]] [ 2.97494245]\n",
      "600 [ 0.32011783] [[ 1.99802148]] [ 3.00500441]\n",
      "700 [ 0.32011247] [[ 1.99799109]] [ 3.00664663]\n",
      "800 [ 0.3201125] [[ 1.99833286]] [ 3.00746775]\n",
      "900 [ 0.32011169] [[ 1.99820232]] [ 3.00824881]\n"
     ]
    }
   ],
   "source": [
    "# 학습모델 생성\n",
    "loss_arr =[]\n",
    "label = Variable(y_noise)\n",
    "for i in range(num_epoch):\n",
    "    output = model(Variable(x))\n",
    "    optimizer.zero_grad()\n",
    "    loss = loss_func(output,label)\n",
    "    loss.backward()\n",
    "    optimizer.step()\n",
    "    if i % 100 == 0:\n",
    "        print(i, loss.data.numpy(),\n",
    "            model.weight.data.numpy(),\n",
    "            model.bias.data.numpy())"
   ]
  },
  {
   "cell_type": "code",
   "execution_count": 19,
   "metadata": {},
   "outputs": [
    {
     "name": "stdout",
     "output_type": "stream",
     "text": [
      "1 :  [[ 5.00660467]]\n",
      "2 :  [[ 7.00504112]]\n",
      "3,4 :  [[  9.0034771 ]\n",
      " [ 11.00191307]]\n"
     ]
    }
   ],
   "source": [
    "# 학습 모델을 테스트 한다\n",
    "predicted = model(Variable(torch.Tensor([[1]])))\n",
    "print('1 : ' , predicted.data.numpy())\n",
    "predicted = model(Variable(torch.Tensor([[2]])))\n",
    "print('2 : ', predicted.data.numpy())\n",
    "predicted = model(Variable(torch.Tensor([[3], [4]])))\n",
    "print('3,4 : ', predicted.data.numpy())"
   ]
  },
  {
   "cell_type": "code",
   "execution_count": null,
   "metadata": {
    "collapsed": true
   },
   "outputs": [],
   "source": []
  },
  {
   "cell_type": "code",
   "execution_count": null,
   "metadata": {
    "collapsed": true
   },
   "outputs": [],
   "source": []
  },
  {
   "cell_type": "code",
   "execution_count": null,
   "metadata": {
    "collapsed": true
   },
   "outputs": [],
   "source": []
  }
 ],
 "metadata": {
  "kernelspec": {
   "display_name": "Python 3",
   "language": "python",
   "name": "python3"
  },
  "language_info": {
   "codemirror_mode": {
    "name": "ipython",
    "version": 3
   },
   "file_extension": ".py",
   "mimetype": "text/x-python",
   "name": "python",
   "nbconvert_exporter": "python",
   "pygments_lexer": "ipython3",
   "version": "3.6.1"
  }
 },
 "nbformat": 4,
 "nbformat_minor": 2
}
