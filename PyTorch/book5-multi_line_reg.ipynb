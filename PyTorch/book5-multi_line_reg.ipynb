{
 "cells": [
  {
   "cell_type": "markdown",
   "metadata": {},
   "source": [
    "# 제 5 절 다변량 선형함수 (multi variable liner regression)"
   ]
  },
  {
   "cell_type": "markdown",
   "metadata": {},
   "source": [
    "## Case1\n",
    "x,y 데이터를 직접 입력하는 경우"
   ]
  },
  {
   "cell_type": "code",
   "execution_count": 1,
   "metadata": {},
   "outputs": [
    {
     "data": {
      "text/plain": [
       "<torch._C.Generator at 0x7ff78c7d30d8>"
      ]
     },
     "execution_count": 1,
     "metadata": {},
     "output_type": "execute_result"
    }
   ],
   "source": [
    "import torch\n",
    "import torch.nn as nn\n",
    "from torch.autograd import Variable\n",
    "torch.manual_seed(777)"
   ]
  },
  {
   "cell_type": "markdown",
   "metadata": {},
   "source": [
    "    텐서플로의 경우 W와 b의 형식을 정의하고, 크기값도 맞춰야 한다\n",
    "    W = tf.Variable(tf.random_normal([4, nb_classes]), name='weight')\n",
    "    b = tf.Variable(tf.random_normal([nb_classes]), name='bias')"
   ]
  },
  {
   "cell_type": "code",
   "execution_count": 2,
   "metadata": {
    "collapsed": true
   },
   "outputs": [],
   "source": [
    "x_data = [[73., 80., 75.], [93., 88., 93.],[89., 91., 90.], [96., 98., 100.], [73., 66., 70.]]\n",
    "y_data = [[152.], [185.], [180.], [196.], [142.]]\n",
    "X = Variable(torch.Tensor(x_data))\n",
    "Y = Variable(torch.Tensor(y_data))"
   ]
  },
  {
   "cell_type": "code",
   "execution_count": 3,
   "metadata": {
    "collapsed": true
   },
   "outputs": [],
   "source": [
    "# nn.Linear() : 선형회귀식 모형을 정의 (in feature : 1, out_feature : 1)\n",
    "# Input  : 숫자 (N, in features) - element  x\n",
    "# Output : 숫자 (N, out features) - 예측결과 ^y\n",
    "model = nn.Linear(3,1,bias = True) \n",
    "\n",
    "# weight :   out_features x in_features\n",
    "# bias   :   the learnable bias of the module of shape (out_features)\n",
    "# Our hypothesis : Y = 3 W + bias\n",
    "criterion = nn.MSELoss()\n",
    "# 최적화 함수 정의\n",
    "optimizer = torch.optim.SGD(model.parameters() ,lr = 0.0001)"
   ]
  },
  {
   "cell_type": "code",
   "execution_count": 4,
   "metadata": {},
   "outputs": [
    {
     "name": "stdout",
     "output_type": "stream",
     "text": [
      "0 Cost:  [ 44984.64453125] \n",
      "Prediction:\n",
      " [[-33.21160889]\n",
      " [-43.98809052]\n",
      " [-41.19184113]\n",
      " [-45.09777451]\n",
      " [-34.4379921 ]]\n",
      "50 Cost:  [ inf] \n",
      "Prediction:\n",
      " [[ -7.19851526e+28]\n",
      " [ -8.65207714e+28]\n",
      " [ -8.52503982e+28]\n",
      " [ -9.28355482e+28]\n",
      " [ -6.59935652e+28]]\n",
      "100 Cost:  [ nan] \n",
      "Prediction:\n",
      " [[ nan]\n",
      " [ nan]\n",
      " [ nan]\n",
      " [ nan]\n",
      " [ nan]]\n",
      "150 Cost:  [ nan] \n",
      "Prediction:\n",
      " [[ nan]\n",
      " [ nan]\n",
      " [ nan]\n",
      " [ nan]\n",
      " [ nan]]\n",
      "200 Cost:  [ nan] \n",
      "Prediction:\n",
      " [[ nan]\n",
      " [ nan]\n",
      " [ nan]\n",
      " [ nan]\n",
      " [ nan]]\n",
      "250 Cost:  [ nan] \n",
      "Prediction:\n",
      " [[ nan]\n",
      " [ nan]\n",
      " [ nan]\n",
      " [ nan]\n",
      " [ nan]]\n",
      "300 Cost:  [ nan] \n",
      "Prediction:\n",
      " [[ nan]\n",
      " [ nan]\n",
      " [ nan]\n",
      " [ nan]\n",
      " [ nan]]\n",
      "350 Cost:  [ nan] \n",
      "Prediction:\n",
      " [[ nan]\n",
      " [ nan]\n",
      " [ nan]\n",
      " [ nan]\n",
      " [ nan]]\n",
      "400 Cost:  [ nan] \n",
      "Prediction:\n",
      " [[ nan]\n",
      " [ nan]\n",
      " [ nan]\n",
      " [ nan]\n",
      " [ nan]]\n",
      "450 Cost:  [ nan] \n",
      "Prediction:\n",
      " [[ nan]\n",
      " [ nan]\n",
      " [ nan]\n",
      " [ nan]\n",
      " [ nan]]\n",
      "500 Cost:  [ nan] \n",
      "Prediction:\n",
      " [[ nan]\n",
      " [ nan]\n",
      " [ nan]\n",
      " [ nan]\n",
      " [ nan]]\n"
     ]
    }
   ],
   "source": [
    "for step in range(501):\n",
    "    optimizer.zero_grad()\n",
    "    hypothesis = model(X)  # 가설함수 적용\n",
    "    cost = criterion(hypothesis, Y)\n",
    "    cost.backward()\n",
    "    optimizer.step()\n",
    "    if step % 500 == 0:\n",
    "        print(step, \"Cost: \", cost.data.numpy(),\n",
    "                    \"\\nPrediction:\\n\", hypothesis.data.numpy())"
   ]
  },
  {
   "cell_type": "code",
   "execution_count": 5,
   "metadata": {},
   "outputs": [
    {
     "name": "stdout",
     "output_type": "stream",
     "text": [
      "[[ nan]]\n"
     ]
    }
   ],
   "source": [
    "# 학습모델 검증\n",
    "predicted = model(Variable(torch.Tensor([[73., 80., 75.]])))\n",
    "print(predicted.data.numpy())"
   ]
  },
  {
   "cell_type": "markdown",
   "metadata": {},
   "source": [
    "## Case 2\n",
    "x,y 데이터를 csv에서 불러오는 경우"
   ]
  },
  {
   "cell_type": "code",
   "execution_count": null,
   "metadata": {
    "collapsed": true
   },
   "outputs": [],
   "source": []
  },
  {
   "cell_type": "code",
   "execution_count": null,
   "metadata": {
    "collapsed": true
   },
   "outputs": [],
   "source": []
  },
  {
   "cell_type": "code",
   "execution_count": null,
   "metadata": {
    "collapsed": true
   },
   "outputs": [],
   "source": []
  },
  {
   "cell_type": "code",
   "execution_count": null,
   "metadata": {
    "collapsed": true
   },
   "outputs": [],
   "source": []
  }
 ],
 "metadata": {
  "kernelspec": {
   "display_name": "Python 3",
   "language": "python",
   "name": "python3"
  },
  "language_info": {
   "codemirror_mode": {
    "name": "ipython",
    "version": 3
   },
   "file_extension": ".py",
   "mimetype": "text/x-python",
   "name": "python",
   "nbconvert_exporter": "python",
   "pygments_lexer": "ipython3",
   "version": "3.6.1"
  }
 },
 "nbformat": 4,
 "nbformat_minor": 2
}
