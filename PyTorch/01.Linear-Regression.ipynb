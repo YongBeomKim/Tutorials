{
 "cells": [
  {
   "cell_type": "markdown",
   "metadata": {},
   "source": [
    "# Pytorch Turorual 01"
   ]
  },
  {
   "cell_type": "markdown",
   "metadata": {},
   "source": [
    "## Linear Regression"
   ]
  },
  {
   "cell_type": "code",
   "execution_count": 1,
   "metadata": {
    "collapsed": true
   },
   "outputs": [],
   "source": [
    "import torch\n",
    "from torch import nn\n",
    "from torch.autograd import Variable"
   ]
  },
  {
   "cell_type": "code",
   "execution_count": 2,
   "metadata": {},
   "outputs": [
    {
     "data": {
      "text/plain": [
       "<torch._C.Generator at 0x7fea241780d8>"
      ]
     },
     "execution_count": 2,
     "metadata": {},
     "output_type": "execute_result"
    }
   ],
   "source": [
    "# 반복실행시 난수가 일정한 패턴을 유지하도록 설정\n",
    "torch.manual_seed(777)"
   ]
  },
  {
   "cell_type": "code",
   "execution_count": 3,
   "metadata": {
    "collapsed": true
   },
   "outputs": [],
   "source": [
    "# X, Y tensor 데이터 정의\n",
    "x_train = [[1],[2],[3]]\n",
    "y_train = [[1],[2],[3]]\n",
    "X = Variable(torch.Tensor(x_train))\n",
    "Y = Variable(torch.Tensor(x_train))"
   ]
  },
  {
   "cell_type": "code",
   "execution_count": 4,
   "metadata": {
    "collapsed": true
   },
   "outputs": [],
   "source": [
    "# 선형회귀식 모형을 정의 (in feature : 1, out_feature : 1)\n",
    "\n",
    "# Input  : 숫자 (N, in features) - element  x\n",
    "# Output : 숫자 (N, out features) - 예측결과 ^y\n",
    "\n",
    "# weight :   out_features x in_features\n",
    "# bias   :   the learnable bias of the module of shape (out_features)\n",
    "\n",
    "# in 1개, out 1개 : weight 1개 (in 1 * out 1), bias : 1개(out 1개)\n",
    "model = nn.Linear(1,1,bias=True)  "
   ]
  },
  {
   "cell_type": "markdown",
   "metadata": {},
   "source": [
    "    텐서플로의 경우 W와 b의 형식을 정의하고, 크기값도 맞춰야 한다\n",
    "    W = tf.Variable(tf.random_normal([4, nb_classes]), name='weight')\n",
    "    b = tf.Variable(tf.random_normal([nb_classes]), name='bias')"
   ]
  },
  {
   "cell_type": "code",
   "execution_count": 5,
   "metadata": {
    "collapsed": true
   },
   "outputs": [],
   "source": [
    "# http://pytorch.org/docs/master/nn.html\n",
    "# cost 판단 함수 : 평균제곱 오차 ( Mean Squared Error )\n",
    "# torch.nn.MSELoss(size_average=True)\n",
    "criterion = nn.MSELoss()   \n",
    "\n",
    "# Minimize :  Stochastic Gradient Descent (확률 활용 경사타고 내려가는 알고리즘)\n",
    "# Learning Rate (경사타고내려가는 알고리즘의 학습단위) : 0.01\n",
    "optimizer = torch.optim.SGD(model.parameters(), lr=0.01)"
   ]
  },
  {
   "cell_type": "markdown",
   "metadata": {},
   "source": [
    "    .data  : 매개변수(ex> X,Y) , 함수객체(ex> cost) 뒤에 '.data'만 붙이면 내용을 바로 확인할 수 있다.\n",
    "\n",
    "    [텐서플로] - tf.Session.run() 함수를 통해서만 학습 내용이 연산 및 확인가능\n",
    "    with tf.Session() as sess:\n",
    "        sess.run(tf.global_variables_initializer())\n",
    "\n",
    "        for step in range(2001):\n",
    "            sess.run(optimizer, feed_dict={X: x_data, Y: y_data})"
   ]
  },
  {
   "cell_type": "code",
   "execution_count": 6,
   "metadata": {},
   "outputs": [
    {
     "name": "stdout",
     "output_type": "stream",
     "text": [
      "0 [ 11.50258541] [[-0.54821908]] [ 0.35482842]\n",
      "400 [ 0.01583316] [[ 0.85420775]] [ 0.33142003]\n",
      "800 [ 0.00230861] [[ 0.94432938]] [ 0.12655248]\n",
      "1200 [ 0.00033662] [[ 0.97874218]] [ 0.048324]\n",
      "1600 [  4.90814709e-05] [[ 0.99188274]] [ 0.01845242]\n",
      "2000 [  7.15674241e-06] [[ 0.99690038]] [ 0.00704613]\n"
     ]
    }
   ],
   "source": [
    "# 학습모델 만들기\n",
    "for step in range(2001):\n",
    "    optimizer.zero_grad() # 학습 시작시 마다 기울기값 찾는 함수를 초기화\n",
    "    \n",
    "    # 지정한 가설로 학습시작\n",
    "    hypothesis = model(X) # X (input data) 를 가설모형에 Fit 한다\n",
    "    cost = criterion(hypothesis, X)  # 학습결과 평균제곱 오차값 cost를 연산\n",
    "    cost.backward()       # 위 forward 연산 후, backward() cost를 연산   ( 텐서플로에 비해 추가 )\n",
    "    optimizer.step()\n",
    "    \n",
    "    if step % 400 == 0:\n",
    "        # 텐서플로는 출력 함수 결과가, 개별 인자와 tuple로 연결되어서 지정\n",
    "        # pytorch 는 출력객체가 이미 특정이 되어 있어, 그 객체명만 그대로 지정하면 원하는 결과를 도출용이\n",
    "        # (tensorflow에 비해 상당부분 생략)\n",
    "        print(step,  cost.data.numpy(), model.weight.data.numpy(), model.bias.data.numpy())    "
   ]
  },
  {
   "cell_type": "code",
   "execution_count": 7,
   "metadata": {},
   "outputs": [
    {
     "data": {
      "text/plain": [
       "array([[ 4.99154806]], dtype=float32)"
      ]
     },
     "execution_count": 7,
     "metadata": {},
     "output_type": "execute_result"
    }
   ],
   "source": [
    "# 학습모델이 잘 결과가 나왔는지를 Testing\n",
    "predicted = model(Variable(torch.Tensor([[5]])))\n",
    "predicted.data.numpy()"
   ]
  },
  {
   "cell_type": "code",
   "execution_count": 8,
   "metadata": {},
   "outputs": [
    {
     "data": {
      "text/plain": [
       "array([[ 2.49929714]], dtype=float32)"
      ]
     },
     "execution_count": 8,
     "metadata": {},
     "output_type": "execute_result"
    }
   ],
   "source": [
    "predicted = model(Variable(torch.Tensor([[2.5]])))\n",
    "predicted.data.numpy()"
   ]
  },
  {
   "cell_type": "code",
   "execution_count": 9,
   "metadata": {},
   "outputs": [
    {
     "data": {
      "text/plain": [
       "array([[ 1.5023967 ],\n",
       "       [ 3.49619746]], dtype=float32)"
      ]
     },
     "execution_count": 9,
     "metadata": {},
     "output_type": "execute_result"
    }
   ],
   "source": [
    "predicted = model(Variable(torch.Tensor([[1.5],[3.5]])))\n",
    "predicted.data.numpy()"
   ]
  },
  {
   "cell_type": "markdown",
   "metadata": {},
   "source": [
    "## Multi-variable Linear Regression (다항회귀식)"
   ]
  },
  {
   "cell_type": "code",
   "execution_count": 10,
   "metadata": {},
   "outputs": [
    {
     "data": {
      "text/plain": [
       "<torch._C.Generator at 0x7fea241780d8>"
      ]
     },
     "execution_count": 10,
     "metadata": {},
     "output_type": "execute_result"
    }
   ],
   "source": [
    "import torch\n",
    "import torch.nn as nn\n",
    "from torch.autograd import Variable\n",
    "torch.manual_seed(777)   # for reproducibility"
   ]
  },
  {
   "cell_type": "code",
   "execution_count": 11,
   "metadata": {},
   "outputs": [
    {
     "name": "stdout",
     "output_type": "stream",
     "text": [
      "      0     1      2\n",
      "0  73.0  80.0   75.0\n",
      "1  93.0  88.0   93.0\n",
      "2  89.0  91.0   90.0\n",
      "3  96.0  98.0  100.0\n",
      "4  73.0  66.0   70.0 \n",
      "        0\n",
      "0  152.0\n",
      "1  185.0\n",
      "2  180.0\n",
      "3  196.0\n",
      "4  142.0\n"
     ]
    }
   ],
   "source": [
    "# X, Y tensor 데이터 정의\n",
    "x_data = [[73., 80., 75.], [93., 88., 93.],\n",
    "          [89., 91., 90.], [96., 98., 100.], [73., 66., 70.]]\n",
    "y_data = [[152.], [185.], [180.], [196.], [142.]]\n",
    "\n",
    "X = Variable(torch.Tensor(x_data))\n",
    "Y = Variable(torch.Tensor(y_data))\n",
    "\n",
    "import pandas as pd\n",
    "x = pd.DataFrame(x_data); y = pd.DataFrame(y_data); print(x,'\\n', y)"
   ]
  },
  {
   "cell_type": "code",
   "execution_count": 12,
   "metadata": {
    "collapsed": true
   },
   "outputs": [],
   "source": [
    "# 가설세우기 X1w + X2w + X3w +b\n",
    "model = nn.Linear(3, 1, bias=True)\n",
    "# cost criterion\n",
    "criterion = nn.MSELoss()\n",
    "# Minimize\n",
    "optimizer = torch.optim.SGD(model.parameters(), lr=1e-5)"
   ]
  },
  {
   "cell_type": "code",
   "execution_count": 13,
   "metadata": {},
   "outputs": [
    {
     "name": "stdout",
     "output_type": "stream",
     "text": [
      "0 Cost:  [ 44984.64453125] \n",
      "Prediction: [[-33.21160889]\n",
      " [-43.98809052]\n",
      " [-41.19184113]\n",
      " [-45.09777451]\n",
      " [-34.4379921 ]]\n",
      "400 Cost:  [ 6.08452511] \n",
      "Prediction: [[ 154.57562256]\n",
      " [ 182.45509338]\n",
      " [ 181.54379272]\n",
      " [ 197.4908905 ]\n",
      " [ 138.4354248 ]]\n",
      "800 Cost:  [ 4.96428204] \n",
      "Prediction: [[ 154.2260437 ]\n",
      " [ 182.69555664]\n",
      " [ 181.43769836]\n",
      " [ 197.40606689]\n",
      " [ 138.75782776]]\n",
      "1200 Cost:  [ 4.0617342] \n",
      "Prediction: [[ 153.91270447]\n",
      " [ 182.91117859]\n",
      " [ 181.3427124 ]\n",
      " [ 197.32936096]\n",
      " [ 139.04754639]]\n",
      "1600 Cost:  [ 3.33450747] \n",
      "Prediction: [[ 153.63189697]\n",
      " [ 183.10449219]\n",
      " [ 181.25769043]\n",
      " [ 197.25993347]\n",
      " [ 139.30792236]]\n",
      "2000 Cost:  [ 2.74844885] \n",
      "Prediction: [[ 153.38027954]\n",
      " [ 183.27778625]\n",
      " [ 181.18159485]\n",
      " [ 197.197052  ]\n",
      " [ 139.54196167]]\n"
     ]
    }
   ],
   "source": [
    "# Train the model\n",
    "for step in range(2001):\n",
    "    optimizer.zero_grad()\n",
    "    # Our hypothesis\n",
    "    hypothesis = model(X)\n",
    "    cost = criterion(hypothesis, Y)\n",
    "    cost.backward()\n",
    "    optimizer.step()\n",
    "\n",
    "    if step % 400 == 0:\n",
    "        print(step, \"Cost: \", cost.data.numpy(), \"\\nPrediction:\", hypothesis.data.numpy())"
   ]
  },
  {
   "cell_type": "code",
   "execution_count": 14,
   "metadata": {},
   "outputs": [
    {
     "name": "stdout",
     "output_type": "stream",
     "text": [
      "73., 80., 75. 의 경우 [[ 153.37968445]]\n"
     ]
    }
   ],
   "source": [
    "# 학습모델 검증\n",
    "predicted = model(Variable(torch.Tensor([[73., 80., 75.]])))\n",
    "print('73., 80., 75. 의 경우', predicted.data.numpy())"
   ]
  },
  {
   "cell_type": "markdown",
   "metadata": {},
   "source": [
    "## 파일을 활용하는 Linear Regression"
   ]
  },
  {
   "cell_type": "code",
   "execution_count": 15,
   "metadata": {},
   "outputs": [
    {
     "data": {
      "text/plain": [
       "<torch._C.Generator at 0x7fea241780d8>"
      ]
     },
     "execution_count": 15,
     "metadata": {},
     "output_type": "execute_result"
    }
   ],
   "source": [
    "import torch\n",
    "import torch.nn as nn\n",
    "from torch.autograd import Variable\n",
    "import numpy as np\n",
    "torch.manual_seed(777)   # for reproducibility"
   ]
  },
  {
   "cell_type": "code",
   "execution_count": 16,
   "metadata": {},
   "outputs": [
    {
     "name": "stdout",
     "output_type": "stream",
     "text": [
      "x_data Shape :  (25, 3) \n",
      " [[ 73.  80.  75.]\n",
      " [ 53.  46.  55.]\n",
      " [ 69.  70.  73.]\n",
      " [ 93.  89.  96.]\n",
      " [ 82.  86.  90.]] \n",
      "x_data  Length : 25\n",
      "\n",
      "y_data Shape :  (25, 1) \n",
      " [[ 152.]\n",
      " [ 101.]\n",
      " [ 141.]\n",
      " [ 192.]\n",
      " [ 177.]] \n",
      "\n",
      "data type : <class 'numpy.ndarray'>\n"
     ]
    }
   ],
   "source": [
    "xy = np.loadtxt('./Lecture/data-01-test-score.csv', delimiter=',', dtype=np.float32)\n",
    "x_data = xy[:, 0:-1]\n",
    "y_data = xy[:, [-1]]\n",
    "\n",
    "# Make sure the shape and data are OK\n",
    "print(\"x_data Shape : \", x_data.shape,'\\n', x_data[::5],'\\nx_data  Length :', len(x_data))\n",
    "print(\"\\ny_data Shape : \", y_data.shape,'\\n', y_data[::5], '\\n\\ndata type :', type(x_data))"
   ]
  },
  {
   "cell_type": "code",
   "execution_count": 17,
   "metadata": {
    "collapsed": true
   },
   "outputs": [],
   "source": [
    "# Pytorch 인식 가능한 형식변환 및 가설과 검증함수를 정의\n",
    "x_data = Variable(torch.from_numpy(x_data))\n",
    "y_data = Variable(torch.from_numpy(y_data))\n",
    "# Our hypothesis XW+b\n",
    "model = nn.Linear(3, 1, bias=True)\n",
    "# cost criterion\n",
    "criterion = nn.MSELoss()\n",
    "# Minimize\n",
    "optimizer = torch.optim.SGD(model.parameters(), lr=1e-5)"
   ]
  },
  {
   "cell_type": "code",
   "execution_count": 18,
   "metadata": {},
   "outputs": [
    {
     "name": "stdout",
     "output_type": "stream",
     "text": [
      "0 Cost:  [ 40526.734375] \n",
      "Prediction:\n",
      " [[-33.21160889]\n",
      " [-26.37543106]\n",
      " [-32.84194946]\n",
      " [-44.50363922]\n",
      " [-39.22988129]]\n",
      "400 Cost:  [ 13.55295181] \n",
      "Prediction:\n",
      " [[ 155.51713562]\n",
      " [ 102.11494446]\n",
      " [ 143.29823303]\n",
      " [ 186.67991638]\n",
      " [ 175.20796204]]\n",
      "800 Cost:  [ 11.30837631] \n",
      "Prediction:\n",
      " [[ 155.08659363]\n",
      " [ 102.61421204]\n",
      " [ 143.39726257]\n",
      " [ 186.99023438]\n",
      " [ 175.37065125]]\n",
      "1200 Cost:  [ 9.73517418] \n",
      "Prediction:\n",
      " [[ 154.72688293]\n",
      " [ 103.03137207]\n",
      " [ 143.48040771]\n",
      " [ 187.2495575 ]\n",
      " [ 175.50772095]]\n",
      "1600 Cost:  [ 8.63248825] \n",
      "Prediction:\n",
      " [[ 154.42637634]\n",
      " [ 103.37986755]\n",
      " [ 143.55021667]\n",
      " [ 187.4662323 ]\n",
      " [ 175.62330627]]\n",
      "2000 Cost:  [ 7.85959053] \n",
      "Prediction:\n",
      " [[ 154.1754303 ]\n",
      " [ 103.67093658]\n",
      " [ 143.60884094]\n",
      " [ 187.64724731]\n",
      " [ 175.72076416]]\n"
     ]
    }
   ],
   "source": [
    "# Train the model\n",
    "for step in range(2001):\n",
    "    optimizer.zero_grad()\n",
    "    # Our hypothesis\n",
    "    hypothesis = model(x_data)\n",
    "    cost = criterion(hypothesis, y_data)\n",
    "    cost.backward()\n",
    "    optimizer.step()\n",
    "\n",
    "    if step % 400 == 0:\n",
    "        print(step, \"Cost: \", cost.data.numpy()[::5], \n",
    "              \"\\nPrediction:\\n\", hypothesis.data.numpy()[::5])"
   ]
  },
  {
   "cell_type": "code",
   "execution_count": 19,
   "metadata": {},
   "outputs": [
    {
     "name": "stdout",
     "output_type": "stream",
     "text": [
      "Your score will be  [[ 181.31016541]]\n",
      "Other scores will be  [[ 173.9997406 ]\n",
      " [ 179.72221375]]\n"
     ]
    }
   ],
   "source": [
    "# Ask my score\n",
    "print(\"Your score will be \", model(Variable(torch.Tensor([[100, 70, 101]]))).data.numpy())\n",
    "print(\"Other scores will be \", model(Variable(torch.Tensor([[60, 70, 110], [90, 100, 80]]))).data.numpy())"
   ]
  },
  {
   "cell_type": "code",
   "execution_count": null,
   "metadata": {
    "collapsed": true
   },
   "outputs": [],
   "source": []
  }
 ],
 "metadata": {
  "kernelspec": {
   "display_name": "Python 3",
   "language": "python",
   "name": "python3"
  },
  "language_info": {
   "codemirror_mode": {
    "name": "ipython",
    "version": 3
   },
   "file_extension": ".py",
   "mimetype": "text/x-python",
   "name": "python",
   "nbconvert_exporter": "python",
   "pygments_lexer": "ipython3",
   "version": "3.6.1"
  }
 },
 "nbformat": 4,
 "nbformat_minor": 2
}
