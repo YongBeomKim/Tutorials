{
 "cells": [
  {
   "cell_type": "markdown",
   "id": "096cfb84-3601-4263-8871-e4be7a4f37e5",
   "metadata": {
    "tags": []
   },
   "source": [
    "# Setting InI\n",
    "## 1 Creating InI"
   ]
  },
  {
   "cell_type": "code",
   "execution_count": 2,
   "id": "04aed3d8-6036-4f1a-a82b-4b496443699b",
   "metadata": {},
   "outputs": [],
   "source": [
    "import configparser\n",
    "config = configparser.ConfigParser()\n",
    "\n",
    "# 'DEFAULT'\n",
    "config['DEFAULT'] = {\n",
    "    'ServerAliveInterval': '45',\n",
    "    'Compression': 'yes',\n",
    "    'CompressionLevel': '9'}\n",
    "config['DEFAULT']['ForwardX11'] = 'yes'\n",
    "\n",
    "# 'bitbucket.org'\n",
    "config['bitbucket.org'] = {}\n",
    "config['bitbucket.org']['User'] = 'hg'\n",
    "\n",
    "# 'topsecret.server.com'\n",
    "config['topsecret.server.com'] = {}\n",
    "topsecret = config['topsecret.server.com']\n",
    "topsecret['Port'] = '50022'     # mutates the parser\n",
    "topsecret['ForwardX11'] = 'no'  # same here\n",
    "\n",
    "# Save Files\n",
    "with open('example.ini', 'w') as configfile:\n",
    "    config.write(configfile)"
   ]
  },
  {
   "cell_type": "markdown",
   "id": "e9ef6a1f-d8a8-4e90-a0f5-5932e7dc2afd",
   "metadata": {},
   "source": [
    "## 2 Read InI"
   ]
  },
  {
   "cell_type": "code",
   "execution_count": 6,
   "id": "c13a5487-ef71-4da3-b363-2571b39b1d1b",
   "metadata": {},
   "outputs": [
    {
     "name": "stdout",
     "output_type": "stream",
     "text": [
      "['bitbucket.org', 'topsecret.server.com']\n",
      "yes\n"
     ]
    },
    {
     "data": {
      "text/plain": [
       "'django-insecure-a2@bz#xcoo4&l6kfwnnrcdnu-6009u%cgs7ns254220gfuv5(h'"
      ]
     },
     "execution_count": 6,
     "metadata": {},
     "output_type": "execute_result"
    }
   ],
   "source": [
    "import configparser\n",
    "config = configparser.ConfigParser()\n",
    "config.read('example.ini')\n",
    "\n",
    "# DEFAULT 는 별도 sections 으로 출력되진 않음\n",
    "print(config.sections()) \n",
    "print(config['DEFAULT']['Compression'])\n",
    "config['DEFAULT']['key']"
   ]
  },
  {
   "cell_type": "code",
   "execution_count": 3,
   "id": "7d175824-69f6-4b75-aa1c-ccb9f08d826e",
   "metadata": {},
   "outputs": [
    {
     "name": "stdout",
     "output_type": "stream",
     "text": [
      "no\n",
      "50022\n"
     ]
    },
    {
     "data": {
      "text/plain": [
       "['user',\n",
       " 'serveraliveinterval',\n",
       " 'compression',\n",
       " 'compressionlevel',\n",
       " 'forwardx11']"
      ]
     },
     "execution_count": 3,
     "metadata": {},
     "output_type": "execute_result"
    }
   ],
   "source": [
    "topsecret = config['topsecret.server.com']\n",
    "print(topsecret['ForwardX11'])\n",
    "print(topsecret['Port'])\n",
    "[key  for key in config['bitbucket.org']]"
   ]
  },
  {
   "cell_type": "markdown",
   "id": "1e971070-a3d5-4d7c-9709-7ad72c4ac816",
   "metadata": {},
   "source": [
    "##  Setting for Django"
   ]
  },
  {
   "cell_type": "code",
   "execution_count": 40,
   "id": "7639f4da-042e-46af-8c5f-0098f4aea49e",
   "metadata": {},
   "outputs": [],
   "source": [
    "file = 'settings.ini'\n",
    "import configparser\n",
    "# ConfigParser.InterpolationSyntaxError\n",
    "# https://stackoverflow.com/questions/14340366/configparser-and-string-with\n",
    "config = configparser.ConfigParser(interpolation=None)\n",
    "\n",
    "# default\n",
    "SECRET_KEY = \"django-insecure-a2@bz#xcoo4&l6kfwnnrcdnu-6009u%cgs7ns254220gfuv5(h\"\n",
    "config['DJANGO'] = {}\n",
    "config['DJANGO']['SECRET_KEY'] = SECRET_KEY\n",
    "\n",
    "# psql1\n",
    "config['PSQL1'] = {}\n",
    "psql = config['PSQL1']\n",
    "psql['ENGINE'] = 'django.db.backends.postgresql'\n",
    "psql['NAME'] = 'stock'     # mutates the parser\n",
    "psql['USER'] = 'python'    # same here\n",
    "psql['PASSWORD'] = 'django'\n",
    "psql['HOST'] = '127.0.0.1'\n",
    "psql['PORT'] = '5432'\n",
    "\n",
    "# Save Files\n",
    "with open(file, 'w') as configfile:\n",
    "    config.write(configfile)"
   ]
  },
  {
   "cell_type": "code",
   "execution_count": 48,
   "id": "6fb13e6f-e8c3-405a-86d3-721c76474cbe",
   "metadata": {},
   "outputs": [
    {
     "data": {
      "text/plain": [
       "['DJANGO', 'PSQL1']"
      ]
     },
     "execution_count": 48,
     "metadata": {},
     "output_type": "execute_result"
    }
   ],
   "source": [
    "# Python Setting\n",
    "import configparser\n",
    "config = configparser.ConfigParser(interpolation=None)\n",
    "config.read(file)\n",
    "config.sections()"
   ]
  },
  {
   "cell_type": "code",
   "execution_count": 47,
   "id": "7e348453-f26d-44cc-ba60-98d7c26a2dec",
   "metadata": {},
   "outputs": [
    {
     "name": "stdout",
     "output_type": "stream",
     "text": [
      "django-insecure-a2@bz#xcoo4&l6kfwnnrcdnu-6009u%cgs7ns254220gfuv5(h\n"
     ]
    },
    {
     "data": {
      "text/plain": [
       "{'ENGINE': 'django.db.backends.postgresql',\n",
       " 'NAME': 'stock',\n",
       " 'USER': 'python',\n",
       " 'PASSWORD': 'django',\n",
       " 'HOST': '127.0.0.1',\n",
       " 'PORT': '5432'}"
      ]
     },
     "execution_count": 47,
     "metadata": {},
     "output_type": "execute_result"
    }
   ],
   "source": [
    "# print(config.sections()) \n",
    "SECRET_KEY = config['DJANGO']['secret_key']\n",
    "print(SECRET_KEY)\n",
    "{key.upper(): config['PSQL1'][key]  for key in config['PSQL1']}\n",
    "# PSQL = config['PSQL1']\n",
    "# {key.upper(): PSQL[key]  for key in config['PSQL1']}"
   ]
  }
 ],
 "metadata": {
  "kernelspec": {
   "display_name": "Python 3 (ipykernel)",
   "language": "python",
   "name": "python3"
  },
  "language_info": {
   "codemirror_mode": {
    "name": "ipython",
    "version": 3
   },
   "file_extension": ".py",
   "mimetype": "text/x-python",
   "name": "python",
   "nbconvert_exporter": "python",
   "pygments_lexer": "ipython3",
   "version": "3.8.10"
  }
 },
 "nbformat": 4,
 "nbformat_minor": 5
}
