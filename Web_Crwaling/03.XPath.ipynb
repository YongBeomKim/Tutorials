{
 "cells": [
  {
   "cell_type": "markdown",
   "metadata": {},
   "source": [
    "# XPath\n",
    "<p>XPath 는 'query language'로써 XML의 nodes 들을 선택하는데 용이하다.</p></br>\n",
    "<p>모든 HTML 문서는 XML 형식으로 작성되므로  webscraping 을 할 때 유용한 문법이다 </p></br>\n",
    "-https://www.youtube.com/watch?v=btfc_d2rJKk (영어원문 동영상 강의)\n",
    "\n",
    "-http://nbviewer.jupyter.org/github/TwistedHardware/mltutorial/blob/master/notebooks/quick_tips/4.%20XPath.ipynb (원문)"
   ]
  },
  {
   "cell_type": "code",
   "execution_count": 1,
   "metadata": {
    "collapsed": true
   },
   "outputs": [],
   "source": [
    "import requests\n",
    "from lxml.html import tostring, fromstring, HTMLParser"
   ]
  },
  {
   "cell_type": "code",
   "execution_count": 2,
   "metadata": {},
   "outputs": [
    {
     "data": {
      "text/html": [
       "<html>\n",
       "  <body>\n",
       "    <h1>내가 가장 자주쓰는 Python Librarires</h1>\n",
       "    <ul>\n",
       "      <li>넘파이 Numpy</li>\n",
       "      <li>판다스 Pandas</li>\n",
       "      <li>리퀘스트 requests</li>\n",
       "    </ul>\n",
       "  </body>\n",
       "</html>"
      ],
      "text/plain": [
       "<IPython.core.display.HTML object>"
      ]
     },
     "metadata": {},
     "output_type": "display_data"
    }
   ],
   "source": [
    "%%HTML\n",
    "<html>\n",
    "  <body>\n",
    "    <h1>내가 가장 자주쓰는 Python Librarires</h1>\n",
    "    <ul>\n",
    "      <li>넘파이 Numpy</li>\n",
    "      <li>판다스 Pandas</li>\n",
    "      <li>리퀘스트 requests</li>\n",
    "    </ul>\n",
    "  </body>\n",
    "</html>"
   ]
  },
  {
   "cell_type": "markdown",
   "metadata": {},
   "source": [
    "## Load HTML Code\n",
    "cell number 2 에 작성한 `html_code`를 lxml 문법을 활용해서 크롤링 하자"
   ]
  },
  {
   "cell_type": "code",
   "execution_count": 3,
   "metadata": {},
   "outputs": [
    {
     "data": {
      "text/plain": [
       "\"get_ipython().run_cell_magic('HTML', '', '<html>\\\\n  <body>\\\\n    <h1>내가 가장 자주쓰는 Python Librarires</h1>\\\\n    <ul>\\\\n      <li>넘파이 Numpy</li>\\\\n      <li>판다스 Pandas</li>\\\\n      <li>리퀘스트 requests</li>\\\\n    </ul>\\\\n  </body>\\\\n</html>')\""
      ]
     },
     "execution_count": 3,
     "metadata": {},
     "output_type": "execute_result"
    }
   ],
   "source": [
    "html_code = In[2]\n",
    "html_code"
   ]
  },
  {
   "cell_type": "code",
   "execution_count": 4,
   "metadata": {},
   "outputs": [
    {
     "name": "stdout",
     "output_type": "stream",
     "text": [
      "<html>\n",
      "  <body>\n",
      "    <h1>내가 가장 자주쓰는 Python Librarires</h1>\n",
      "    <ul>\n",
      "      <li>넘파이 Numpy</li>\n",
      "      <li>판다스 Pandas</li>\n",
      "      <li>리퀘스트 requests</li>\n",
      "    </ul>\n",
      "  </body>\n",
      "</html>\n"
     ]
    }
   ],
   "source": [
    "# \\n 줄바꿈의 특수 문자들이 \\\\n으로 바뀐걸 \\n으로 되돌리기\n",
    "html_code = html_code[42:-2].replace(\"\\\\n\",\"\\n\")\n",
    "print(html_code)"
   ]
  },
  {
   "cell_type": "code",
   "execution_count": 5,
   "metadata": {},
   "outputs": [
    {
     "data": {
      "text/plain": [
       "<Element html at 0x7f2e60d37278>"
      ]
     },
     "execution_count": 5,
     "metadata": {},
     "output_type": "execute_result"
    }
   ],
   "source": [
    "# str ==> Lxml 포맷으로 변환한다.\n",
    "doc = fromstring(html_code)\n",
    "doc"
   ]
  },
  {
   "cell_type": "markdown",
   "metadata": {},
   "source": [
    "# Using xpath to find nodes in a document"
   ]
  },
  {
   "cell_type": "markdown",
   "metadata": {},
   "source": [
    "## 1. Reading `<h1>` tag\n",
    "forward slashes / : \\`/\\`로 문서 root 부터 일치하는 경로의 자료를 크롤링"
   ]
  },
  {
   "cell_type": "markdown",
   "metadata": {},
   "source": [
    "#### Basic Xpath 사용법\n",
    "step by step"
   ]
  },
  {
   "cell_type": "code",
   "execution_count": 6,
   "metadata": {},
   "outputs": [
    {
     "data": {
      "text/plain": [
       "<Element h1 at 0x7f2e60d21f98>"
      ]
     },
     "execution_count": 6,
     "metadata": {},
     "output_type": "execute_result"
    }
   ],
   "source": [
    "# inner html만 잘라내기 (/ 루트부터 경로를 지정 to HTML Slicing)\n",
    "title = doc.xpath(\"/html/body/h1\")[0]\n",
    "title"
   ]
  },
  {
   "cell_type": "code",
   "execution_count": 7,
   "metadata": {},
   "outputs": [
    {
     "data": {
      "text/plain": [
       "'내가 가장 자주쓰는 Python Librarires'"
      ]
     },
     "execution_count": 7,
     "metadata": {},
     "output_type": "execute_result"
    }
   ],
   "source": [
    "# Slicing 결과중 text만 출력\n",
    "title.text"
   ]
  },
  {
   "cell_type": "code",
   "execution_count": 8,
   "metadata": {},
   "outputs": [
    {
     "data": {
      "text/plain": [
       "'h1'"
      ]
     },
     "execution_count": 8,
     "metadata": {},
     "output_type": "execute_result"
    }
   ],
   "source": [
    "title.tag"
   ]
  },
  {
   "cell_type": "code",
   "execution_count": 9,
   "metadata": {},
   "outputs": [
    {
     "data": {
      "text/plain": [
       "{}"
      ]
     },
     "execution_count": 9,
     "metadata": {},
     "output_type": "execute_result"
    }
   ],
   "source": [
    "title.attrib"
   ]
  },
  {
   "cell_type": "markdown",
   "metadata": {},
   "source": [
    "#### Basic Xpath 사용법 2\n",
    "text() 함수를 Xpath 경로에 포함해서 불러오기"
   ]
  },
  {
   "cell_type": "code",
   "execution_count": 10,
   "metadata": {},
   "outputs": [
    {
     "data": {
      "text/plain": [
       "'내가 가장 자주쓰는 Python Librarires'"
      ]
     },
     "execution_count": 10,
     "metadata": {},
     "output_type": "execute_result"
    }
   ],
   "source": [
    "title = doc.xpath(\"/html/body/h1/text()\")[0]\n",
    "title"
   ]
  },
  {
   "cell_type": "markdown",
   "metadata": {},
   "source": [
    "#### 크롤링 가능한 객체가 여럿인 경우\n",
    "xpath 는 항상 [List 객체]를 출력한다 (위 경우 1개도 list 포맷으로 출력)\n",
    "\n",
    "문법에 맞는 객체가 없으면 [] 빈 list 객체를 출력한다"
   ]
  },
  {
   "cell_type": "code",
   "execution_count": 11,
   "metadata": {},
   "outputs": [
    {
     "data": {
      "text/plain": [
       "[<Element li at 0x7f2e60d378b8>,\n",
       " <Element li at 0x7f2e60d37908>,\n",
       " <Element li at 0x7f2e60d37958>]"
      ]
     },
     "execution_count": 11,
     "metadata": {},
     "output_type": "execute_result"
    }
   ],
   "source": [
    "# Xpath와 일치하는 객체가 3개 발견되었다.\n",
    "item_list = doc.xpath(\"/html/body/ul/li\")\n",
    "item_list"
   ]
  },
  {
   "cell_type": "code",
   "execution_count": 12,
   "metadata": {},
   "outputs": [
    {
     "data": {
      "text/plain": [
       "['넘파이 Numpy', '판다스 Pandas', '리퀘스트 requests']"
      ]
     },
     "execution_count": 12,
     "metadata": {},
     "output_type": "execute_result"
    }
   ],
   "source": [
    "# 호출 가능한 3개 객체를 `text()` 문법으로 호출하기\n",
    "doc = fromstring(html_code)\n",
    "item_list = doc.xpath(\"/html/body/ul/li/text()\")\n",
    "item_list"
   ]
  },
  {
   "cell_type": "markdown",
   "metadata": {},
   "source": [
    "## 2. Tag selector 를 활용한 크롤링 (모든 경로를 활용하지 않는다)\n",
    "Double forward slash `//` : 문서 어디에 있는지를 구분하지 않고, 일치하는 객체를 크롤링 한다 "
   ]
  },
  {
   "cell_type": "code",
   "execution_count": 13,
   "metadata": {},
   "outputs": [
    {
     "data": {
      "text/plain": [
       "['넘파이 Numpy', '판다스 Pandas', '리퀘스트 requests']"
      ]
     },
     "execution_count": 13,
     "metadata": {},
     "output_type": "execute_result"
    }
   ],
   "source": [
    "doc = fromstring(html_code)\n",
    "item_list = doc.xpath(\"//li/text()\")  # \"/html/body/ul/li/text()\" 를 생략한 일부분의 입력만으로 출력가능\n",
    "item_list"
   ]
  },
  {
   "cell_type": "markdown",
   "metadata": {},
   "source": [
    "#### Selecting one result\n",
    "/html/body/ul/li/text()\n",
    "\n",
    "/html/body/ul/li[1]/text()   : [index] index 숫자를 활용하여 해당순번의 객체를 크롤링 \n",
    "\n",
    "\\*\\*Notice\\*\\* : index 번호는 1부터 시작한다!!"
   ]
  },
  {
   "cell_type": "code",
   "execution_count": 14,
   "metadata": {},
   "outputs": [
    {
     "data": {
      "text/plain": [
       "['넘파이 Numpy']"
      ]
     },
     "execution_count": 14,
     "metadata": {},
     "output_type": "execute_result"
    }
   ],
   "source": [
    "doc = fromstring(html_code)\n",
    "item_list = doc.xpath(\"/html/body/ul/li[1]/text()\")\n",
    "item_list"
   ]
  },
  {
   "cell_type": "markdown",
   "metadata": {},
   "source": [
    "# Attributes selector\n",
    "\n",
    "두개의 `<h1>` tags 에 각기 다른 css 가 정의된 객체들을 구별 가능하다"
   ]
  },
  {
   "cell_type": "code",
   "execution_count": 15,
   "metadata": {},
   "outputs": [
    {
     "data": {
      "text/html": [
       "<html>\n",
       "  <body>\n",
       "    <h1 class=\"text-muted\">내가 가장 선호하는 라이브러리 Favorite Python Librarires</h1>\n",
       "    <ul class=\"nav nav-pills nav-stacked\">\n",
       "      <li role=\"presentation\"><a href=\"http://www.numpy.org/\">넘파이 Numpy</a></li>\n",
       "      <li role=\"presentation\"><a href=\"http://pandas.pydata.org/\">판다스 Pandas</a></li>\n",
       "      <li role=\"presentation\"><a href=\"http://python-requests.org/\">리퀘스트 requests</a></li>\n",
       "    </ul>\n",
       "    <h1 class=\"text-success\">Favorite JS Librarires</h1>\n",
       "    <ul class=\"nav nav-tabs\">\n",
       "      <li role=\"presentation\"><a href=\"http://getbootstrap.com/\">부트스트랩 Bootstrap</a></li>\n",
       "      <li role=\"presentation\"><a href=\"https://jquery.com/\">제이쿼리 jQuery</a></li>\n",
       "      <li role=\"presentation\"><a href=\"http://d3js.org/\">d3.js</a></li>\n",
       "    </ul>\n",
       "</html>"
      ],
      "text/plain": [
       "<IPython.core.display.HTML object>"
      ]
     },
     "metadata": {},
     "output_type": "display_data"
    }
   ],
   "source": [
    "%%HTML\n",
    "<html>\n",
    "  <body>\n",
    "    <h1 class=\"text-muted\">내가 가장 선호하는 라이브러리 Favorite Python Librarires</h1>\n",
    "    <ul class=\"nav nav-pills nav-stacked\">\n",
    "      <li role=\"presentation\"><a href=\"http://www.numpy.org/\">넘파이 Numpy</a></li>\n",
    "      <li role=\"presentation\"><a href=\"http://pandas.pydata.org/\">판다스 Pandas</a></li>\n",
    "      <li role=\"presentation\"><a href=\"http://python-requests.org/\">리퀘스트 requests</a></li>\n",
    "    </ul>\n",
    "    <h1 class=\"text-success\">Favorite JS Librarires</h1>\n",
    "    <ul class=\"nav nav-tabs\">\n",
    "      <li role=\"presentation\"><a href=\"http://getbootstrap.com/\">부트스트랩 Bootstrap</a></li>\n",
    "      <li role=\"presentation\"><a href=\"https://jquery.com/\">제이쿼리 jQuery</a></li>\n",
    "      <li role=\"presentation\"><a href=\"http://d3js.org/\">d3.js</a></li>\n",
    "    </ul>\n",
    "</html>"
   ]
  },
  {
   "cell_type": "code",
   "execution_count": 16,
   "metadata": {},
   "outputs": [
    {
     "name": "stdout",
     "output_type": "stream",
     "text": [
      "<html>\n",
      "  <body>\n",
      "    <h1 class=\"text-muted\">내가 가장 선호하는 라이브러리 Favorite Python Librarires</h1>\n",
      "    <ul class=\"nav nav-pills nav-stacked\">\n",
      "      <li role=\"presentation\"><a href=\"http://www.numpy.org/\">넘파이 Numpy</a></li>\n",
      "      <li role=\"presentation\"><a href=\"http://pandas.pydata.org/\">판다스 Pandas</a></li>\n",
      "      <li role=\"presentation\"><a href=\"http://python-requests.org/\">리퀘스트 requests</a></li>\n",
      "    </ul>\n",
      "    <h1 class=\"text-success\">Favorite JS Librarires</h1>\n",
      "    <ul class=\"nav nav-tabs\">\n",
      "      <li role=\"presentation\"><a href=\"http://getbootstrap.com/\">부트스트랩 Bootstrap</a></li>\n",
      "      <li role=\"presentation\"><a href=\"https://jquery.com/\">제이쿼리 jQuery</a></li>\n",
      "      <li role=\"presentation\"><a href=\"http://d3js.org/\">d3.js</a></li>\n",
      "    </ul>\n",
      "</html>\n"
     ]
    }
   ],
   "source": [
    "html_code = In[15]\n",
    "html_code = html_code[42:-2].replace(\"\\\\n\",\"\\n\")\n",
    "print(html_code)"
   ]
  },
  {
   "cell_type": "code",
   "execution_count": 17,
   "metadata": {},
   "outputs": [
    {
     "data": {
      "text/plain": [
       "<Element html at 0x7f2e60cc0598>"
      ]
     },
     "execution_count": 17,
     "metadata": {},
     "output_type": "execute_result"
    }
   ],
   "source": [
    "doc = fromstring(html_code)\n",
    "doc"
   ]
  },
  {
   "cell_type": "code",
   "execution_count": 18,
   "metadata": {},
   "outputs": [
    {
     "data": {
      "text/plain": [
       "'내가 가장 선호하는 라이브러리 Favorite Python Librarires'"
      ]
     },
     "execution_count": 18,
     "metadata": {},
     "output_type": "execute_result"
    }
   ],
   "source": [
    "title = doc.xpath(\"/html/body/h1[@class='text-muted']/text()\")[0]\n",
    "title"
   ]
  },
  {
   "cell_type": "markdown",
   "metadata": {
    "collapsed": true
   },
   "source": [
    "## 1. `contains()` 함수 활용하기\n",
    "Xpath 내부의 [index] 리스트 문법에서, [ index ] 내부에 `contains()`함수를 활용하면 \n",
    "\n",
    "\"full class for selection\" 또는 \"one of the classed only used\"를 사용 가능하다 "
   ]
  },
  {
   "cell_type": "code",
   "execution_count": 19,
   "metadata": {},
   "outputs": [
    {
     "data": {
      "text/plain": [
       "['넘파이 Numpy', '판다스 Pandas', '리퀘스트 requests']"
      ]
     },
     "execution_count": 19,
     "metadata": {},
     "output_type": "execute_result"
    }
   ],
   "source": [
    "item_list = doc.xpath(\"/html/body/ul[contains(@class,'nav-stacked')]/li/a/text()\")\n",
    "item_list"
   ]
  },
  {
   "cell_type": "markdown",
   "metadata": {},
   "source": [
    "## 2. Returning attributes\n",
    "\n",
    "태그 내부의 '속성'값 (ex)`<a>` 태그 `href`속성의 ...link..값) 만 호출가능\n",
    "\n",
    "/text() 함수 없이도 value만 호출된다"
   ]
  },
  {
   "cell_type": "code",
   "execution_count": 20,
   "metadata": {},
   "outputs": [
    {
     "data": {
      "text/plain": [
       "['http://www.numpy.org/',\n",
       " 'http://pandas.pydata.org/',\n",
       " 'http://python-requests.org/']"
      ]
     },
     "execution_count": 20,
     "metadata": {},
     "output_type": "execute_result"
    }
   ],
   "source": [
    "item_list = doc.xpath(\"/html/body/ul[contains(@class,'nav-stacked')]/li/a/@href\")\n",
    "item_list"
   ]
  },
  {
   "cell_type": "markdown",
   "metadata": {},
   "source": [
    "# Web Site 에 적용해보기\n",
    "\n",
    "Read the list of languages with 1M+ articles on http://www.wikipedia.org/"
   ]
  },
  {
   "cell_type": "code",
   "execution_count": 21,
   "metadata": {},
   "outputs": [],
   "source": [
    "response = requests.get(\"http://www.wikipedia.org\")\n",
    "doc = fromstring(response.content, parser=HTMLParser(encoding=\"utf-8\"))"
   ]
  },
  {
   "cell_type": "code",
   "execution_count": 22,
   "metadata": {},
   "outputs": [
    {
     "data": {
      "text/plain": [
       "['Deutsch',\n",
       " 'English',\n",
       " 'Español',\n",
       " 'Français',\n",
       " 'Italiano',\n",
       " 'Nederlands',\n",
       " '日本語',\n",
       " 'Polski',\n",
       " 'Русский',\n",
       " 'Sinugboanong Binisaya',\n",
       " 'Svenska',\n",
       " 'Tiếng Việt',\n",
       " 'Winaray']"
      ]
     },
     "execution_count": 22,
     "metadata": {},
     "output_type": "execute_result"
    }
   ],
   "source": [
    "lang_list = doc.xpath(\"//div[@class='langlist langlist-large hlist'][1]/ul/li/a/text()\")\n",
    "lang_list"
   ]
  },
  {
   "cell_type": "code",
   "execution_count": null,
   "metadata": {
    "collapsed": true
   },
   "outputs": [],
   "source": []
  },
  {
   "cell_type": "code",
   "execution_count": null,
   "metadata": {
    "collapsed": true
   },
   "outputs": [],
   "source": []
  },
  {
   "cell_type": "code",
   "execution_count": null,
   "metadata": {
    "collapsed": true
   },
   "outputs": [],
   "source": []
  },
  {
   "cell_type": "code",
   "execution_count": null,
   "metadata": {
    "collapsed": true
   },
   "outputs": [],
   "source": []
  }
 ],
 "metadata": {
  "kernelspec": {
   "display_name": "Python 3",
   "language": "python",
   "name": "python3"
  },
  "language_info": {
   "codemirror_mode": {
    "name": "ipython",
    "version": 3
   },
   "file_extension": ".py",
   "mimetype": "text/x-python",
   "name": "python",
   "nbconvert_exporter": "python",
   "pygments_lexer": "ipython3",
   "version": "3.6.1"
  }
 },
 "nbformat": 4,
 "nbformat_minor": 1
}
