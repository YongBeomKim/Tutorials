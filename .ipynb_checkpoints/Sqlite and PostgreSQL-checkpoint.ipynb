{
 "cells": [
  {
   "cell_type": "markdown",
   "metadata": {
    "collapsed": true
   },
   "source": [
    "# SQL"
   ]
  },
  {
   "cell_type": "markdown",
   "metadata": {},
   "source": [
    "## PostgreSQL\n",
    "python 과 호환성이 좋고, enterprize성능도 무료로 구현이 가능"
   ]
  },
  {
   "cell_type": "markdown",
   "metadata": {
    "collapsed": true
   },
   "source": [
    "### 1 PostgresSql 접속하기\n",
    "'DB-table' 과 'password'를 설정 후 에야 안정적인 접속이 가능"
   ]
  },
  {
   "cell_type": "code",
   "execution_count": 1,
   "metadata": {
    "collapsed": true
   },
   "outputs": [],
   "source": [
    "# Psql 서버 DB에 접속하기\n",
    "import psycopg2\n",
    "con = psycopg2.connect(\"dbname='테이블' user='postgres' password='암호' host='localhost'\")\n",
    "cursor = con.cursor()"
   ]
  },
  {
   "cell_type": "code",
   "execution_count": 2,
   "metadata": {
    "collapsed": true
   },
   "outputs": [],
   "source": [
    "# 테이블 생성 (Excel 의 Sheet 생성)\n",
    "# cursor.execute(\"create Table KAKAO (Data text, Open int, High int, Low int, Close int, Volumn int)\")\n",
    "# 내용 2줄을 추가한다 (SQL 문법 언어를 String으로 입력) - 문법검사는 비활성화\n",
    "# cursor.execute(\"INSERT INTO KAKAO Values('16.06.03', 97000, 98600, 96900, 98000, 321405)\")\n",
    "# cursor.execute(\"INSERT INTO KAKAO Values('16.06.02', 95000, 94600, 91900, 96000, 121405)\")"
   ]
  },
  {
   "cell_type": "code",
   "execution_count": 3,
   "metadata": {},
   "outputs": [
    {
     "data": {
      "text/plain": [
       "('16.06.03', 97000, 98600, 96900, 98000, 321405)"
      ]
     },
     "execution_count": 3,
     "metadata": {},
     "output_type": "execute_result"
    }
   ],
   "source": [
    "# Row 단위로 데이터 호출 (자료를 1줄씩 불러온다)\n",
    "cursor.execute(\"SELECT * From KAKAO\")\n",
    "cursor.fetchone()"
   ]
  },
  {
   "cell_type": "code",
   "execution_count": 4,
   "metadata": {},
   "outputs": [
    {
     "data": {
      "text/plain": [
       "[('16.06.03', 97000, 98600, 96900, 98000, 321405),\n",
       " ('16.06.02', 95000, 94600, 91900, 96000, 121405),\n",
       " ('16.06.03', 97000, 98600, 96900, 98000, 321405),\n",
       " ('16.06.02', 95000, 94600, 91900, 96000, 121405),\n",
       " ('16.06.03', 97000, 98600, 96900, 98000, 321405),\n",
       " ('16.06.02', 95000, 94600, 91900, 96000, 121405)]"
      ]
     },
     "execution_count": 4,
     "metadata": {},
     "output_type": "execute_result"
    }
   ],
   "source": [
    "# Row 단위로 데이터 호출 (자료를 1줄씩 불러온다)\n",
    "cursor.execute(\"SELECT * From KAKAO\")\n",
    "cursor.fetchall()"
   ]
  },
  {
   "cell_type": "code",
   "execution_count": 5,
   "metadata": {
    "collapsed": true
   },
   "outputs": [],
   "source": [
    "con.commit()\n",
    "con.close()"
   ]
  },
  {
   "cell_type": "markdown",
   "metadata": {},
   "source": [
    "# SQLite3\n",
    "뇌를 자극하는 파이썬 3 - SQL 기본문법"
   ]
  },
  {
   "cell_type": "markdown",
   "metadata": {},
   "source": [
    "## 1 Table 만들고 지우기\n",
    "Schema 를 활용하여 Excel 의 Sheet 생성 및 삭제"
   ]
  },
  {
   "cell_type": "code",
   "execution_count": 6,
   "metadata": {
    "collapsed": true,
    "scrolled": false
   },
   "outputs": [],
   "source": [
    "import sqlite3\n",
    "con = sqlite3.connect(\":memory:\")\n",
    "cur = con.cursor()"
   ]
  },
  {
   "cell_type": "code",
   "execution_count": 7,
   "metadata": {},
   "outputs": [
    {
     "data": {
      "text/plain": [
       "<sqlite3.Cursor at 0x7f825c507b90>"
      ]
     },
     "execution_count": 7,
     "metadata": {},
     "output_type": "execute_result"
    }
   ],
   "source": [
    "# Table (WorkBook) 만들기\n",
    "# Create Table <테이블>  (컬럼 컬럼형식, 컬럼 컬럼형식....);  --> 테이블의 구조를 Schema(스키마)라고 한다\n",
    "# 개별 '컬럼'을 '필드'로 DB에서는 지칭한다\n",
    "cur.execute(\"CREATE TABLE PHONEBOOK (NAME char(32), PHONE char(32), EMAIL char(64));\")"
   ]
  },
  {
   "cell_type": "code",
   "execution_count": 8,
   "metadata": {},
   "outputs": [
    {
     "data": {
      "text/plain": [
       "<sqlite3.Cursor at 0x7f825c507b90>"
      ]
     },
     "execution_count": 8,
     "metadata": {},
     "output_type": "execute_result"
    }
   ],
   "source": [
    "# Table 삭제하기\n",
    "cur.execute(\"Drop Table PHONEBOOK;\")"
   ]
  },
  {
   "cell_type": "code",
   "execution_count": 9,
   "metadata": {
    "collapsed": true
   },
   "outputs": [],
   "source": [
    "cur.close()"
   ]
  },
  {
   "cell_type": "markdown",
   "metadata": {},
   "source": [
    "## 2 Record 추가하기\n",
    "Excel 의 Cell에 입력 편집하기"
   ]
  },
  {
   "cell_type": "code",
   "execution_count": 10,
   "metadata": {
    "collapsed": true
   },
   "outputs": [],
   "source": [
    "import sqlite3\n",
    "con = sqlite3.connect(\":memory:\")\n",
    "cur = con.cursor()"
   ]
  },
  {
   "cell_type": "code",
   "execution_count": 11,
   "metadata": {
    "scrolled": false
   },
   "outputs": [
    {
     "data": {
      "text/plain": [
       "<sqlite3.Cursor at 0x7f825c507c00>"
      ]
     },
     "execution_count": 11,
     "metadata": {},
     "output_type": "execute_result"
    }
   ],
   "source": [
    "# EMAIL char(64) Primary key : 식별용 기본키로 중복여부 유효성 검사를 한다\n",
    "cur.execute(\"CREATE TABLE PHONEBOOK (NAME char(32), PHONE char(32), EMAIL char(64) Primary key);\")"
   ]
  },
  {
   "cell_type": "code",
   "execution_count": 12,
   "metadata": {},
   "outputs": [
    {
     "data": {
      "text/plain": [
       "<sqlite3.Cursor at 0x7f825c507c00>"
      ]
     },
     "execution_count": 12,
     "metadata": {},
     "output_type": "execute_result"
    }
   ],
   "source": [
    "cur.execute(\"Insert into PHONEBOOK (NAME, PHONE, EMAIL) values('박신혜', '021-1223-2312', 'shinkye@gmail.com');\")\n",
    "cur.execute(\"Insert into PHONEBOOK (NAME, PHONE, EMAIL) values('김범수', '021-4555-2424', 'visual@gmail.com');\")\n",
    "cur.execute(\"Insert into PHONEBOOK (NAME, PHONE, EMAIL) values('이무기', '026-4213-8712', 'Dragonbaby@gmail.com');\")"
   ]
  },
  {
   "cell_type": "code",
   "execution_count": 13,
   "metadata": {
    "collapsed": true,
    "scrolled": true
   },
   "outputs": [],
   "source": [
    "# EMAIL Primary key : 유효성 검사로 오류를 인식\n",
    "# cur.execute(\"Insert into PHONEBOOK (NAME, PHONE, EMAIL) values('김신혜', '026-543-612', 'Dragonbaby@gmail.com');\")"
   ]
  },
  {
   "cell_type": "markdown",
   "metadata": {},
   "source": [
    "## 3 Select 레코드 조회\n",
    "select <컬럼/필드>  from  <테이블>"
   ]
  },
  {
   "cell_type": "code",
   "execution_count": 14,
   "metadata": {},
   "outputs": [
    {
     "data": {
      "text/plain": [
       "[('박신혜',), ('김범수',), ('이무기',)]"
      ]
     },
     "execution_count": 14,
     "metadata": {},
     "output_type": "execute_result"
    }
   ],
   "source": [
    "cur.execute(\"select NAME from PHONEBOOK;\")\n",
    "[data  for data in cur]  # for 반복문으로 풀어야 내용을 볼 수 있다"
   ]
  },
  {
   "cell_type": "code",
   "execution_count": 15,
   "metadata": {},
   "outputs": [
    {
     "data": {
      "text/plain": [
       "[('박신혜', '021-1223-2312'), ('김범수', '021-4555-2424'), ('이무기', '026-4213-8712')]"
      ]
     },
     "execution_count": 15,
     "metadata": {},
     "output_type": "execute_result"
    }
   ],
   "source": [
    "cur.execute(\"select NAME, PHONE  from PHONEBOOK;\")\n",
    "[data  for data in cur]"
   ]
  },
  {
   "cell_type": "code",
   "execution_count": 16,
   "metadata": {},
   "outputs": [
    {
     "data": {
      "text/plain": [
       "[('박신혜', '021-1223-2312', 'shinkye@gmail.com'),\n",
       " ('김범수', '021-4555-2424', 'visual@gmail.com'),\n",
       " ('이무기', '026-4213-8712', 'Dragonbaby@gmail.com')]"
      ]
     },
     "execution_count": 16,
     "metadata": {},
     "output_type": "execute_result"
    }
   ],
   "source": [
    "# 모든 Field를 조회하고 싶을땐 '*'를 활용한다\n",
    "cur.execute(\"select * from PHONEBOOK;\")\n",
    "[data  for data in cur]"
   ]
  },
  {
   "cell_type": "markdown",
   "metadata": {},
   "source": [
    "## 4 Where 특정 조건의 레코드에 대해서 작업\n",
    "select 로 조회시 '특정조건에 해당하는 값'만 출력하고 싶을 떄"
   ]
  },
  {
   "cell_type": "code",
   "execution_count": 17,
   "metadata": {},
   "outputs": [
    {
     "data": {
      "text/plain": [
       "[('박신혜', '021-1223-2312', 'shinkye@gmail.com')]"
      ]
     },
     "execution_count": 17,
     "metadata": {},
     "output_type": "execute_result"
    }
   ],
   "source": [
    "# select 문에 where 조건을 추가\n",
    "cur.execute(\"select * from PHONEBOOK  where NAME = '박신혜';\")\n",
    "[data  for data in cur]"
   ]
  },
  {
   "cell_type": "code",
   "execution_count": 18,
   "metadata": {},
   "outputs": [
    {
     "data": {
      "text/plain": [
       "[('박신혜', '021-1223-2312', 'shinkye@gmail.com'),\n",
       " ('김범수', '021-4555-2424', 'visual@gmail.com')]"
      ]
     },
     "execution_count": 18,
     "metadata": {},
     "output_type": "execute_result"
    }
   ],
   "source": [
    "# select 문 where 에 like 'string' : str 첫부분 일부만 일치하는 경우를 찾아서 출력\n",
    "cur.execute(\"select * from PHONEBOOK  where PHONE like '021%';\")\n",
    "[data  for data in cur]"
   ]
  },
  {
   "cell_type": "markdown",
   "metadata": {},
   "source": [
    "## 5 Order By 조회 결과의 정렬\n",
    "select 결과가 여러개의 레코드로 구성된 경우, 특정 기준으로 정렬한다"
   ]
  },
  {
   "cell_type": "code",
   "execution_count": 19,
   "metadata": {},
   "outputs": [
    {
     "data": {
      "text/plain": [
       "[('김범수', '021-4555-2424', 'visual@gmail.com'),\n",
       " ('박신혜', '021-1223-2312', 'shinkye@gmail.com'),\n",
       " ('이무기', '026-4213-8712', 'Dragonbaby@gmail.com')]"
      ]
     },
     "execution_count": 19,
     "metadata": {},
     "output_type": "execute_result"
    }
   ],
   "source": [
    "# order by ASC (Ascend: 올라가다, 오름차순 정렬)\n",
    "# order by DESC (Descend: 경사지다 , 내림차순 정렬)\n",
    "\n",
    "cur.execute(\"select * from PHONEBOOK order by NAME ASC;\")\n",
    "[data  for data in cur]"
   ]
  },
  {
   "cell_type": "markdown",
   "metadata": {},
   "source": [
    "## 6 Update 레코드 수정\n",
    "이미 존재하는 레코드(sheet)의 특정 field 를 수정\n",
    "\n",
    "UPDATE <필드/컬럼> set <필드1> = <데이터1>, <필드2> = <데이터2> , ...  where [조건]"
   ]
  },
  {
   "cell_type": "code",
   "execution_count": 20,
   "metadata": {},
   "outputs": [
    {
     "data": {
      "text/plain": [
       "<sqlite3.Cursor at 0x7f825c507c00>"
      ]
     },
     "execution_count": 20,
     "metadata": {},
     "output_type": "execute_result"
    }
   ],
   "source": [
    "cur.execute(\"update PHONEBOOK set PHONE = '011-2222-3333', EMAIL = 'Dragon@gmail.com' where NAME = '이무기';\")"
   ]
  },
  {
   "cell_type": "code",
   "execution_count": 21,
   "metadata": {},
   "outputs": [
    {
     "data": {
      "text/plain": [
       "[('박신혜', '021-1223-2312', 'shinkye@gmail.com'),\n",
       " ('김범수', '021-4555-2424', 'visual@gmail.com'),\n",
       " ('이무기', '011-2222-3333', 'Dragon@gmail.com')]"
      ]
     },
     "execution_count": 21,
     "metadata": {},
     "output_type": "execute_result"
    }
   ],
   "source": [
    "cur.execute(\"select * from PHONEBOOK;\")\n",
    "[data  for data in cur]"
   ]
  },
  {
   "cell_type": "code",
   "execution_count": 22,
   "metadata": {},
   "outputs": [
    {
     "data": {
      "text/plain": [
       "[('박신혜', '011-2222-3333', 'shinkye@gmail.com'),\n",
       " ('김범수', '011-2222-3333', 'visual@gmail.com'),\n",
       " ('이무기', '011-2222-3333', 'Dragon@gmail.com')]"
      ]
     },
     "execution_count": 22,
     "metadata": {},
     "output_type": "execute_result"
    }
   ],
   "source": [
    "# Where 절과 꼭 함께 사용해야 한다.\n",
    "# Where 를 사용하지 않으면 모든 레코드가 변경된다\n",
    "cur.execute(\"update PHONEBOOK set PHONE = '011-2222-3333';\")\n",
    "cur.execute(\"select * from PHONEBOOK;\")\n",
    "[data  for data in cur]"
   ]
  },
  {
   "cell_type": "markdown",
   "metadata": {},
   "source": [
    "## 7 Delete 레코드의 삭제\n",
    "어느 레코드를 삭제할 것인지 Where 만 지정하면 된다\n",
    "\n",
    "DELETE from <테이블> where <조건>"
   ]
  },
  {
   "cell_type": "code",
   "execution_count": 23,
   "metadata": {},
   "outputs": [
    {
     "data": {
      "text/plain": [
       "[('박신혜', '011-2222-3333', 'shinkye@gmail.com'),\n",
       " ('김범수', '011-2222-3333', 'visual@gmail.com')]"
      ]
     },
     "execution_count": 23,
     "metadata": {},
     "output_type": "execute_result"
    }
   ],
   "source": [
    "cur.execute(\"Delete from PHONEBOOK Where EMAIL = 'Dragon@gmail.com';\")\n",
    "cur.execute(\"select * from PHONEBOOK;\")\n",
    "[data  for data in cur]"
   ]
  },
  {
   "cell_type": "code",
   "execution_count": 24,
   "metadata": {
    "collapsed": true
   },
   "outputs": [],
   "source": [
    "cur.close()  # cursor Closed\n",
    "con.close()  # SQLite Connector Closed"
   ]
  },
  {
   "cell_type": "markdown",
   "metadata": {},
   "source": [
    "# SQLite3\n",
    "파이썬 알고리즘 트레이딩 - Python , Pandas 연계"
   ]
  },
  {
   "cell_type": "markdown",
   "metadata": {},
   "source": [
    "## 1 DB 연결 및 생성\n",
    "sqlite3"
   ]
  },
  {
   "cell_type": "code",
   "execution_count": 25,
   "metadata": {},
   "outputs": [
    {
     "name": "stdout",
     "output_type": "stream",
     "text": [
      "<class 'sqlite3.Connection'>\n"
     ]
    }
   ],
   "source": [
    "import sqlite3\n",
    "con = sqlite3.connect('./sqlite.db')\n",
    "sqlite3.collections # DB 파일을 생성한다\n",
    "print(type(con))"
   ]
  },
  {
   "cell_type": "code",
   "execution_count": 26,
   "metadata": {
    "collapsed": true
   },
   "outputs": [],
   "source": [
    "# Cursor - SQL 연결 매개채\n",
    "con = sqlite3.connect('./sqlite.db')\n",
    "cursor = con.cursor()"
   ]
  },
  {
   "cell_type": "code",
   "execution_count": 27,
   "metadata": {},
   "outputs": [
    {
     "data": {
      "text/plain": [
       "<sqlite3.Cursor at 0x7f825c507e30>"
      ]
     },
     "execution_count": 27,
     "metadata": {},
     "output_type": "execute_result"
    }
   ],
   "source": [
    "# 테이블 생성 (Excel 의 Sheet 생성)\n",
    "cursor.execute(\"create Table KAKAO (Data text, Open int, High int, Low int, Close int, Volumn int)\")\n",
    "# 내용 2줄을 추가한다 (SQL 문법 언어를 String으로 입력) - 문법검사는 비활성화\n",
    "cursor.execute(\"INSERT INTO KAKAO Values('16.06.03', 97000, 98600, 96900, 98000, 321405)\")\n",
    "cursor.execute(\"INSERT INTO KAKAO Values('16.06.02', 95000, 94600, 91900, 96000, 121405)\")"
   ]
  },
  {
   "cell_type": "code",
   "execution_count": 28,
   "metadata": {
    "collapsed": true
   },
   "outputs": [],
   "source": [
    "# 지금까지 수정한 내용을 DB에 반영하고 연결을 닫는다.\n",
    "# (saving from Python to Sqlite)\n",
    "con.commit()\n",
    "con.close()"
   ]
  },
  {
   "cell_type": "markdown",
   "metadata": {},
   "source": [
    "## 2 Cursor 2 - 데이터 불러오기\n",
    "SQL 명령을 전달하는 객체"
   ]
  },
  {
   "cell_type": "code",
   "execution_count": 29,
   "metadata": {},
   "outputs": [
    {
     "data": {
      "text/plain": [
       "('16.06.03', 97000, 98600, 96900, 98000, 321405)"
      ]
     },
     "execution_count": 29,
     "metadata": {},
     "output_type": "execute_result"
    }
   ],
   "source": [
    "# SQL 구문을 호충\n",
    "import sqlite3\n",
    "con = sqlite3.connect('./sqlite.db')\n",
    "cursor = con.cursor()\n",
    "# Row 단위로 데이터 호출 (자료를 1줄씩 불러온다)\n",
    "cursor.execute(\"SELECT * From KAKAO\")\n",
    "cursor.fetchone()"
   ]
  },
  {
   "cell_type": "code",
   "execution_count": 30,
   "metadata": {},
   "outputs": [
    {
     "data": {
      "text/plain": [
       "[('16.06.02', 95000, 94600, 91900, 96000, 121405)]"
      ]
     },
     "execution_count": 30,
     "metadata": {},
     "output_type": "execute_result"
    }
   ],
   "source": [
    "# 해당 table 의 전체자료 불러오기\n",
    "# 위 1줄을 이미 불러온 상태여서 다음 줄 부터만 불러온다\n",
    "cursor.fetchall()"
   ]
  },
  {
   "cell_type": "code",
   "execution_count": 31,
   "metadata": {},
   "outputs": [
    {
     "data": {
      "text/plain": [
       "[('16.06.03', 97000, 98600, 96900, 98000, 321405),\n",
       " ('16.06.02', 95000, 94600, 91900, 96000, 121405)]"
      ]
     },
     "execution_count": 31,
     "metadata": {},
     "output_type": "execute_result"
    }
   ],
   "source": [
    "# Row 전체를 불러오기\n",
    "# 테이블 커서를 초기화 (맨 위로 회귀하기 위해서 다시 불러온다)\n",
    "cursor.execute(\"SELECT * From KAKAO\") \n",
    "cursor.fetchall()"
   ]
  },
  {
   "cell_type": "code",
   "execution_count": 32,
   "metadata": {
    "collapsed": true
   },
   "outputs": [],
   "source": [
    "# 지금까지 수정한 내용을 DB에 반영하고 연결을 닫는다.\n",
    "# (saving from Python to Sqlite)\n",
    "con.commit()\n",
    "con.close()"
   ]
  },
  {
   "cell_type": "markdown",
   "metadata": {},
   "source": [
    "## 3 Indexing and Slicing\n",
    "데이터 가공하기"
   ]
  },
  {
   "cell_type": "code",
   "execution_count": 33,
   "metadata": {},
   "outputs": [
    {
     "data": {
      "text/plain": [
       "(97000, 98600, 96900, 98000, 321405)"
      ]
     },
     "execution_count": 33,
     "metadata": {},
     "output_type": "execute_result"
    }
   ],
   "source": [
    "con = sqlite3.connect('./sqlite.db')\n",
    "cursor = con.cursor()\n",
    "\n",
    "# Row 전체를 불러온 뒤 indexing\n",
    "# 한 테이블의 데이터를 자유자재로 타루기에 용이하다\n",
    "cursor.execute(\"SELECT * From KAKAO\") # 테이블 커서를 초기화 (맨 위로 회귀)\n",
    "kakao = cursor.fetchall()\n",
    "kakao[0][0]  # [row] [column]  # 전체 테이블 내용을 선별해서 호출\n",
    "\n",
    "kakao[0][1:] # 해당 객체를 반복적으로 활용시에 용이 (위에선 cursor위치별 데이터가 다름에 비해 편리하다)\n",
    "             # 단 메모리에 데이터를 모두 올리고 사용하는 것이여서, table 이 큰 경우에는 무리가 있을 수 있다."
   ]
  },
  {
   "cell_type": "markdown",
   "metadata": {},
   "source": [
    "## 4 With Pandas \n",
    "by sqlite3\n",
    "- https://stackoverflow.com/questions/24189150/pandas-writing-dataframe-to-other-postgresql-schema"
   ]
  },
  {
   "cell_type": "code",
   "execution_count": 34,
   "metadata": {},
   "outputs": [
    {
     "data": {
      "text/html": [
       "<div>\n",
       "<table border=\"1\" class=\"dataframe\">\n",
       "  <thead>\n",
       "    <tr style=\"text-align: right;\">\n",
       "      <th></th>\n",
       "      <th>col0</th>\n",
       "      <th>col1</th>\n",
       "      <th>col2</th>\n",
       "    </tr>\n",
       "  </thead>\n",
       "  <tbody>\n",
       "    <tr>\n",
       "      <th>0</th>\n",
       "      <td>1</td>\n",
       "      <td>10</td>\n",
       "      <td>100</td>\n",
       "    </tr>\n",
       "    <tr>\n",
       "      <th>1</th>\n",
       "      <td>2</td>\n",
       "      <td>20</td>\n",
       "      <td>200</td>\n",
       "    </tr>\n",
       "    <tr>\n",
       "      <th>2</th>\n",
       "      <td>3</td>\n",
       "      <td>30</td>\n",
       "      <td>300</td>\n",
       "    </tr>\n",
       "    <tr>\n",
       "      <th>3</th>\n",
       "      <td>4</td>\n",
       "      <td>40</td>\n",
       "      <td>400</td>\n",
       "    </tr>\n",
       "  </tbody>\n",
       "</table>\n",
       "</div>"
      ],
      "text/plain": [
       "   col0  col1  col2\n",
       "0     1    10   100\n",
       "1     2    20   200\n",
       "2     3    30   300\n",
       "3     4    40   400"
      ]
     },
     "execution_count": 34,
     "metadata": {},
     "output_type": "execute_result"
    }
   ],
   "source": [
    "import pandas as pd\n",
    "raw_data = {'col0':[1,2,3,4], 'col1':[10,20,30,40], 'col2':[100,200,300,400]}\n",
    "df = pd.DataFrame(raw_data); df"
   ]
  },
  {
   "cell_type": "code",
   "execution_count": 35,
   "metadata": {
    "collapsed": true
   },
   "outputs": [],
   "source": [
    "# DataFrame 을 SQlite3 에 저장하기\n",
    "# DataFrame.to_sql('테이블이름', cursor)\n",
    "import sqlite3\n",
    "con = sqlite3.connect(\"./sqlite.db\")\n",
    "df.to_sql('DataFrame',con)  # Pandas 에서 바로 연결되어서 저장\n",
    "con.commit()\n",
    "con.close()"
   ]
  },
  {
   "cell_type": "code",
   "execution_count": 36,
   "metadata": {},
   "outputs": [
    {
     "data": {
      "text/html": [
       "<div>\n",
       "<table border=\"1\" class=\"dataframe\">\n",
       "  <thead>\n",
       "    <tr style=\"text-align: right;\">\n",
       "      <th></th>\n",
       "      <th>Data</th>\n",
       "      <th>Open</th>\n",
       "      <th>High</th>\n",
       "      <th>Low</th>\n",
       "      <th>Close</th>\n",
       "      <th>Volumn</th>\n",
       "    </tr>\n",
       "  </thead>\n",
       "  <tbody>\n",
       "    <tr>\n",
       "      <th>0</th>\n",
       "      <td>16.06.03</td>\n",
       "      <td>97000</td>\n",
       "      <td>98600</td>\n",
       "      <td>96900</td>\n",
       "      <td>98000</td>\n",
       "      <td>321405</td>\n",
       "    </tr>\n",
       "    <tr>\n",
       "      <th>1</th>\n",
       "      <td>16.06.02</td>\n",
       "      <td>95000</td>\n",
       "      <td>94600</td>\n",
       "      <td>91900</td>\n",
       "      <td>96000</td>\n",
       "      <td>121405</td>\n",
       "    </tr>\n",
       "  </tbody>\n",
       "</table>\n",
       "</div>"
      ],
      "text/plain": [
       "       Data   Open   High    Low  Close  Volumn\n",
       "0  16.06.03  97000  98600  96900  98000  321405\n",
       "1  16.06.02  95000  94600  91900  96000  121405"
      ]
     },
     "execution_count": 36,
     "metadata": {},
     "output_type": "execute_result"
    }
   ],
   "source": [
    "# Reading  Data\n",
    "con = sqlite3.connect(\"./sqlite.db\")\n",
    "df = pd.read_sql(\"Select * from KAKAO\", con, index_col=None)\n",
    "df  # Index 값이 추가된 테이블이 생성"
   ]
  },
  {
   "cell_type": "code",
   "execution_count": 37,
   "metadata": {},
   "outputs": [
    {
     "data": {
      "text/html": [
       "<div>\n",
       "<table border=\"1\" class=\"dataframe\">\n",
       "  <thead>\n",
       "    <tr style=\"text-align: right;\">\n",
       "      <th></th>\n",
       "      <th>index</th>\n",
       "      <th>col0</th>\n",
       "      <th>col1</th>\n",
       "      <th>col2</th>\n",
       "    </tr>\n",
       "  </thead>\n",
       "  <tbody>\n",
       "    <tr>\n",
       "      <th>0</th>\n",
       "      <td>0</td>\n",
       "      <td>1</td>\n",
       "      <td>10</td>\n",
       "      <td>100</td>\n",
       "    </tr>\n",
       "    <tr>\n",
       "      <th>1</th>\n",
       "      <td>1</td>\n",
       "      <td>2</td>\n",
       "      <td>20</td>\n",
       "      <td>200</td>\n",
       "    </tr>\n",
       "    <tr>\n",
       "      <th>2</th>\n",
       "      <td>2</td>\n",
       "      <td>3</td>\n",
       "      <td>30</td>\n",
       "      <td>300</td>\n",
       "    </tr>\n",
       "    <tr>\n",
       "      <th>3</th>\n",
       "      <td>3</td>\n",
       "      <td>4</td>\n",
       "      <td>40</td>\n",
       "      <td>400</td>\n",
       "    </tr>\n",
       "  </tbody>\n",
       "</table>\n",
       "</div>"
      ],
      "text/plain": [
       "   index  col0  col1  col2\n",
       "0      0     1    10   100\n",
       "1      1     2    20   200\n",
       "2      2     3    30   300\n",
       "3      3     4    40   400"
      ]
     },
     "execution_count": 37,
     "metadata": {},
     "output_type": "execute_result"
    }
   ],
   "source": [
    "df = pd.read_sql(\"Select * from DataFrame\", con, index_col=None)\n",
    "df  # Index 값이 추가된 테이블이 생성"
   ]
  },
  {
   "cell_type": "code",
   "execution_count": 38,
   "metadata": {
    "collapsed": true
   },
   "outputs": [],
   "source": [
    "con.commit()\n",
    "con.close()"
   ]
  },
  {
   "cell_type": "markdown",
   "metadata": {},
   "source": [
    "## 5 Sqlite with Stock Data\n",
    "by Pandas_datareader"
   ]
  },
  {
   "cell_type": "code",
   "execution_count": 39,
   "metadata": {
    "collapsed": true
   },
   "outputs": [],
   "source": [
    "from pandas_datareader import get_data_google\n",
    "df = get_data_google(\"KRX:005930\", '2010-1-1', '2017-7-10')\n",
    "# Write Sqlite3\n",
    "con = sqlite3.connect('./sqlite.db')\n",
    "df.to_sql('samsung', con, if_exists = 'replace') # 기존 자료를 지우고 새롭게 저장"
   ]
  },
  {
   "cell_type": "code",
   "execution_count": 40,
   "metadata": {},
   "outputs": [
    {
     "name": "stdout",
     "output_type": "stream",
     "text": [
      "                          Open       High        Low      Close  Volume\n",
      "Date                                                                   \n",
      "2017-07-04 00:00:00  2358000.0  2370000.0  2345000.0  2350000.0  157562\n",
      "2017-07-05 00:00:00  2341000.0  2384000.0  2339000.0  2379000.0  194505\n",
      "2017-07-06 00:00:00  2400000.0  2405000.0  2386000.0  2403000.0  210773\n",
      "2017-07-07 00:00:00  2387000.0  2406000.0  2381000.0  2393000.0  160473\n",
      "2017-07-10 00:00:00  2425000.0  2445000.0  2416000.0  2433000.0  211575\n"
     ]
    }
   ],
   "source": [
    "# if_exists = \n",
    "# fail: (기존 자료가 있으면 저장하지 않는다) If table exists, do nothing.\n",
    "# replace: (지우고 새롭게 저장) If table exists, drop it, recreate it, and insert data.\n",
    "# append: (내용을 추가) If table exists, insert data. Create if does not exist.\n",
    "\n",
    "# Read Sqlite3\n",
    "read_df = pd.read_sql(\"select * from 'samsung'\",con , index_col='Date')\n",
    "print(read_df.tail(5))"
   ]
  },
  {
   "cell_type": "code",
   "execution_count": 41,
   "metadata": {},
   "outputs": [
    {
     "name": "stdout",
     "output_type": "stream",
     "text": [
      "                          Open       High        Low      Close  Volume\n",
      "Date                                                                   \n",
      "2017-06-23 00:00:00  2380000.0  2389000.0  2371000.0  2381000.0  172622\n",
      "2017-06-26 00:00:00  2376000.0  2418000.0  2376000.0  2414000.0  160857\n",
      "2017-06-27 00:00:00  2411000.0  2420000.0  2395000.0  2415000.0  187532\n",
      "2017-06-28 00:00:00  2380000.0  2400000.0  2378000.0  2385000.0  188156\n",
      "2017-06-29 00:00:00  2402000.0  2416000.0  2397000.0  2397000.0  159859\n",
      "2017-06-30 00:00:00  2375000.0  2381000.0  2355000.0  2377000.0  234972\n",
      "2017-07-03 00:00:00  2375000.0  2389000.0  2356000.0  2361000.0  135870\n",
      "2017-07-04 00:00:00  2358000.0  2370000.0  2345000.0  2350000.0  157562\n",
      "2017-07-05 00:00:00  2341000.0  2384000.0  2339000.0  2379000.0  194505\n",
      "2017-07-06 00:00:00  2400000.0  2405000.0  2386000.0  2403000.0  210773\n",
      "2017-07-07 00:00:00  2387000.0  2406000.0  2381000.0  2393000.0  160473\n",
      "2017-07-10 00:00:00  2425000.0  2445000.0  2416000.0  2433000.0  211575\n",
      "2017-06-12 00:00:00  2271000.0  2280000.0  2257000.0  2269000.0  217181\n",
      "2017-06-13 00:00:00  2257000.0  2281000.0  2257000.0  2270000.0  167722\n",
      "2017-06-14 00:00:00  2290000.0  2303000.0  2262000.0  2268000.0  194743\n"
     ]
    }
   ],
   "source": [
    "from pandas_datareader import get_data_google\n",
    "df = get_data_google(\"KRX:005930\", '2017-6-10', '2017-6-14')\n",
    "\n",
    "# Overwriting Sqlite3\n",
    "con = sqlite3.connect('./sqlite.db')\n",
    "df.to_sql('samsung', con, if_exists = 'append')\n",
    "\n",
    "# Read Sqlite3\n",
    "read_df = pd.read_sql(\"select * from 'samsung'\",con , index_col='Date')\n",
    "print(read_df.tail(15))"
   ]
  },
  {
   "cell_type": "code",
   "execution_count": 42,
   "metadata": {
    "collapsed": true
   },
   "outputs": [],
   "source": [
    "con.execute(\"Drop Table KAKAO;\")\n",
    "con.execute(\"Drop Table samsung;\")\n",
    "con.execute(\"Drop Table DataFrame;\")\n",
    "con.commit()\n",
    "con.close()"
   ]
  },
  {
   "cell_type": "markdown",
   "metadata": {},
   "source": [
    "# SQLite3\n",
    "파이썬 3.6 프로그래밍 - Class 객체 응용"
   ]
  },
  {
   "cell_type": "markdown",
   "metadata": {},
   "source": [
    "## 1 Instroduction\n",
    "Sqlite3"
   ]
  },
  {
   "cell_type": "code",
   "execution_count": 43,
   "metadata": {
    "collapsed": true
   },
   "outputs": [],
   "source": [
    "import sqlite3\n",
    "#con = sqlite3.connect(\"./test.db\") # 물리적 파일과 연결\n",
    "con = sqlite3.connect(\":memory:\") # 메모리상에서 작업, 속도가 빠르다\n",
    "cur = con.cursor() # 연결커서를 생성"
   ]
  },
  {
   "cell_type": "code",
   "execution_count": 44,
   "metadata": {},
   "outputs": [
    {
     "data": {
      "text/plain": [
       "<sqlite3.Cursor at 0x7f822ff2d420>"
      ]
     },
     "execution_count": 44,
     "metadata": {},
     "output_type": "execute_result"
    }
   ],
   "source": [
    "cur.execute(\"CREATE TABLE PhoneBook(Name text, PhoneNum text);\")\n",
    "cur.execute(\"INSERT INTO PhoneBook VALUES('Derick', '010-1234-5678');\")\n",
    "cur.execute(\"SELECT * FROM PhoneBook;\")"
   ]
  },
  {
   "cell_type": "code",
   "execution_count": 45,
   "metadata": {},
   "outputs": [
    {
     "data": {
      "text/plain": [
       "('Derick', '010-1234-5678')"
      ]
     },
     "execution_count": 45,
     "metadata": {},
     "output_type": "execute_result"
    }
   ],
   "source": [
    "# cursor 위치 다음의 모든 데이터 1줄 데이터 불러오기\n",
    "cur.fetchone()"
   ]
  },
  {
   "cell_type": "code",
   "execution_count": 46,
   "metadata": {},
   "outputs": [
    {
     "data": {
      "text/plain": [
       "[]"
      ]
     },
     "execution_count": 46,
     "metadata": {},
     "output_type": "execute_result"
    }
   ],
   "source": [
    "# cursor 위치 다음의 모든 데이터 2줄 불러오기\n",
    "cur.fetchmany(2)"
   ]
  },
  {
   "cell_type": "code",
   "execution_count": 47,
   "metadata": {},
   "outputs": [
    {
     "data": {
      "text/plain": [
       "[]"
      ]
     },
     "execution_count": 47,
     "metadata": {},
     "output_type": "execute_result"
    }
   ],
   "source": [
    "# cursor 위치 및의 모든 데이터 불러오기\n",
    "cur.fetchall()"
   ]
  },
  {
   "cell_type": "code",
   "execution_count": 48,
   "metadata": {
    "collapsed": true
   },
   "outputs": [],
   "source": [
    "for row in cur:\n",
    "    print(row)"
   ]
  },
  {
   "cell_type": "markdown",
   "metadata": {},
   "source": [
    "## 2 Trasaction\n",
    "Sqlite3"
   ]
  },
  {
   "cell_type": "code",
   "execution_count": 49,
   "metadata": {},
   "outputs": [
    {
     "name": "stdout",
     "output_type": "stream",
     "text": [
      "[('Derick', '010-1234-5678')]\n"
     ]
    }
   ],
   "source": [
    "import sqlite3\n",
    "con = sqlite3.connect(\"./test.db\")\n",
    "cur = con.cursor()\n",
    "cur.execute(\"CREATE TABLE PhoneBook(Name text, PhoneNum text);\")\n",
    "cur.execute(\"INSERT INTO PhoneBook VALUES('Derick', '010-1234-5678');\")\n",
    "cur.execute(\"SELECT * FROM PhoneBook;\")\n",
    "print(cur.fetchall())"
   ]
  },
  {
   "cell_type": "code",
   "execution_count": 50,
   "metadata": {},
   "outputs": [
    {
     "name": "stdout",
     "output_type": "stream",
     "text": [
      "[]\n"
     ]
    }
   ],
   "source": [
    "import sqlite3\n",
    "con = sqlite3.connect(\"./test.db\")\n",
    "cur = con.cursor()\n",
    "cur.execute(\"SELECT * FROM PhoneBook;\")\n",
    "print(cur.fetchall())"
   ]
  },
  {
   "cell_type": "code",
   "execution_count": 51,
   "metadata": {
    "collapsed": true
   },
   "outputs": [],
   "source": [
    "# DB는 논리작업으로 '명령과 처리'가 동시에 실행되어야 한다\n",
    "# 따라서 이를 Transaction으로 묶어서 두 개 작업을 하나의 연산처럼 '성공'과 '실패'로 판별한다\n",
    "# 1 Transaction의 시작 --> 2 명령 --> 3 처리 --> Transaction Commit 을 Rollback\n",
    "# Transaction 내 변경된 사향은 DB에 반영되어 저장하거나, rollback으로 복원이 가능\n",
    "# 마치 블록체인의 처리과정과 유사한 절차로 보인다"
   ]
  },
  {
   "cell_type": "code",
   "execution_count": 52,
   "metadata": {
    "collapsed": true
   },
   "outputs": [],
   "source": [
    "import sqlite3\n",
    "con = sqlite3.connect(\"./commit.db\")\n",
    "cur = con.cursor()\n",
    "cur.execute(\"CREATE TABLE PhoneBook(Name text, PhoneNum text);\")\n",
    "cur.execute(\"INSERT INTO PhoneBook VALUES('Derick', '010-1234-5678');\")\n",
    "con.commit() # commit을 완료"
   ]
  },
  {
   "cell_type": "code",
   "execution_count": 53,
   "metadata": {},
   "outputs": [
    {
     "data": {
      "text/plain": [
       "<sqlite3.Cursor at 0x7f822ef99810>"
      ]
     },
     "execution_count": 53,
     "metadata": {},
     "output_type": "execute_result"
    }
   ],
   "source": [
    "cur.execute(\"INSERT INTO PhoneBook VALUES('DSP', '010-1234-5678');\")\n",
    "cur.execute(\"INSERT INTO PhoneBook VALUES('Sangjung', '010-5670-2343');\")\n",
    "cur.execute(\"INSERT INTO PhoneBook VALUES('Tom', '010-543-5432');\")"
   ]
  },
  {
   "cell_type": "code",
   "execution_count": 54,
   "metadata": {
    "collapsed": true
   },
   "outputs": [],
   "source": [
    "# 매번 DB작업의 반영을 확인하기 위해 con.commit() 를 하지 않고\n",
    "# con.isolation_level = None  # 는 '자동커밋모드'로 설정이 가능하다"
   ]
  },
  {
   "cell_type": "code",
   "execution_count": 55,
   "metadata": {},
   "outputs": [
    {
     "name": "stdout",
     "output_type": "stream",
     "text": [
      "[('Derick', '010-1234-5678'), ('DSP', '010-1234-5678'), ('Sangjung', '010-5670-2343'), ('Tom', '010-543-5432')]\n"
     ]
    }
   ],
   "source": [
    "# import sqlite3\n",
    "# con = sqlite3.connect(\"./commit.db\")\n",
    "# cur = con.cursor()\n",
    "cur.execute(\"SELECT * FROM PhoneBook;\")\n",
    "print(cur.fetchall())"
   ]
  },
  {
   "cell_type": "markdown",
   "metadata": {},
   "source": [
    "## 3 레코드 정렬과 사용자 정렬함수\n",
    "정렬조건에 따라 결과 집합을 생성해야 할 경우"
   ]
  },
  {
   "cell_type": "code",
   "execution_count": 56,
   "metadata": {},
   "outputs": [
    {
     "data": {
      "text/plain": [
       "[('DSP', '010-1234-5678'),\n",
       " ('Derick', '010-1234-5678'),\n",
       " ('Sangjung', '010-5670-2343'),\n",
       " ('Tom', '010-543-5432')]"
      ]
     },
     "execution_count": 56,
     "metadata": {},
     "output_type": "execute_result"
    }
   ],
   "source": [
    "# Name 필드를 알파벳 순으로 정렬\n",
    "cur.execute(\"SELECT * From PhoneBook Order BY name\")\n",
    "[r for r in cur]"
   ]
  },
  {
   "cell_type": "code",
   "execution_count": 57,
   "metadata": {},
   "outputs": [
    {
     "data": {
      "text/plain": [
       "[('Tom', '010-543-5432'),\n",
       " ('Sangjung', '010-5670-2343'),\n",
       " ('Derick', '010-1234-5678'),\n",
       " ('DSP', '010-1234-5678')]"
      ]
     },
     "execution_count": 57,
     "metadata": {},
     "output_type": "execute_result"
    }
   ],
   "source": [
    "# Name 필드를 알파벳 역순으로 정렬\n",
    "cur.execute(\"SELECT * From PhoneBook Order BY name DESC\")\n",
    "[r for r in cur]"
   ]
  },
  {
   "cell_type": "code",
   "execution_count": 58,
   "metadata": {
    "collapsed": true
   },
   "outputs": [],
   "source": [
    "# 대소문자 구별없이 정렬하는 함수를 정의\n",
    "def OrderFunc(str1, str2):\n",
    "    s1 = str1.upper()\n",
    "    s2 = str2.upper()\n",
    "    return (s1>s2) - (s1 < s2)"
   ]
  },
  {
   "cell_type": "code",
   "execution_count": 59,
   "metadata": {},
   "outputs": [
    {
     "data": {
      "text/plain": [
       "['Derick', 'DSP', 'Sangjung', 'Tom']"
      ]
     },
     "execution_count": 59,
     "metadata": {},
     "output_type": "execute_result"
    }
   ],
   "source": [
    "# SQL 구분에서 호출할 이름과 함수를 등록\n",
    "con.create_collation('myordering', OrderFunc)\n",
    "\n",
    "# QL 구문에서 정렬 규칙을 지정\n",
    "cur.execute(\"Select Name from PhoneBook Order by name COLLATE myordering\")\n",
    "[r[0]  for r in cur]"
   ]
  },
  {
   "cell_type": "markdown",
   "metadata": {},
   "source": [
    "## 4 SQLite3 내부집계 함수\n",
    "Sqlite 내장집계 함수"
   ]
  },
  {
   "cell_type": "code",
   "execution_count": 60,
   "metadata": {
    "collapsed": true
   },
   "outputs": [],
   "source": [
    "# abs() 절대값 , length() 문자열 길이 \n",
    "# lower(), upper(), min(x,y..), max(x,y..), random(*) 임의의 정수를 반환\n",
    "# count(x) Null이 아닌 튜플의 갯수를 반한,        sum() 필드 인자의 합을 반환"
   ]
  },
  {
   "cell_type": "code",
   "execution_count": 61,
   "metadata": {
    "collapsed": true
   },
   "outputs": [],
   "source": [
    "import sqlite3\n",
    "con = sqlite3.connect(\":memory:\")\n",
    "cur = con.cursor()"
   ]
  },
  {
   "cell_type": "code",
   "execution_count": 62,
   "metadata": {},
   "outputs": [
    {
     "data": {
      "text/plain": [
       "<sqlite3.Cursor at 0x7f822ef99b20>"
      ]
     },
     "execution_count": 62,
     "metadata": {},
     "output_type": "execute_result"
    }
   ],
   "source": [
    "cur.execute(\"CREATE TABLE PhoneBook(Name text, Age integer);\")\n",
    "list = (('Tom', 24),('Derick',30), ('Peter',53), ('Jane',29))\n",
    "cur.executemany(\"INSERT INTO PhoneBook VALUES(?, ?);\", list)"
   ]
  },
  {
   "cell_type": "code",
   "execution_count": 63,
   "metadata": {},
   "outputs": [
    {
     "name": "stdout",
     "output_type": "stream",
     "text": [
      "== length(), upper(), lower() ==\n",
      "[(3, 'TOM', 'tom'), (6, 'DERICK', 'derick'), (5, 'PETER', 'peter'), (4, 'JANE', 'jane')]\n"
     ]
    }
   ],
   "source": [
    "# 문자열 길이/ 대문자/ 소문자\n",
    "cur.execute(\"SELECT length(Name), upper(Name), lower(Name) FROM PhoneBook\")\n",
    "print(\"== length(), upper(), lower() ==\")\n",
    "print([r for r in cur])"
   ]
  },
  {
   "cell_type": "code",
   "execution_count": 64,
   "metadata": {},
   "outputs": [
    {
     "name": "stdout",
     "output_type": "stream",
     "text": [
      "== max(), min(), sum() ==\n",
      "[(53, 24, 136)]\n"
     ]
    }
   ],
   "source": [
    "# 최대값, 최소값 합계를 출력\n",
    "cur.execute(\"SELECT max(Age), min(Age), sum(Age) FROM PhoneBook\")\n",
    "print(\"== max(), min(), sum() ==\")\n",
    "print([r for r in cur])"
   ]
  },
  {
   "cell_type": "code",
   "execution_count": 65,
   "metadata": {},
   "outputs": [
    {
     "name": "stdout",
     "output_type": "stream",
     "text": [
      "== count(*), random(*) ==\n",
      "[(4, 621638799601997018)]\n"
     ]
    }
   ],
   "source": [
    "# record 갯수, 임의의 값을 출력\n",
    "cur.execute(\"SELECT count(*), random(*) FROM PhoneBook\")\n",
    "print(\"== count(*), random(*) ==\")\n",
    "print([r for r in cur])"
   ]
  },
  {
   "cell_type": "code",
   "execution_count": 66,
   "metadata": {
    "collapsed": true
   },
   "outputs": [],
   "source": [
    "cur.execute(\"Drop TABLE PhoneBook;\")\n",
    "cur.close()\n",
    "con.close()"
   ]
  },
  {
   "cell_type": "markdown",
   "metadata": {},
   "source": [
    "## 5 사용자정의 집계 함수\n",
    "con.create_aggregate() 를 활용"
   ]
  },
  {
   "cell_type": "code",
   "execution_count": 67,
   "metadata": {
    "collapsed": true
   },
   "outputs": [],
   "source": [
    "class Average:\n",
    "    def __init__(self): # 연산을 위한 객체 초기화\n",
    "        self.sum = 0\n",
    "        self.cnt = 0\n",
    "\n",
    "    def step(self, value):\n",
    "        self.sum += value  # 입력값 reduce_sum\n",
    "        self.cnt += 1      # count 를 증가\n",
    "\n",
    "    def finalize(self):    # reduce_sum 의 평균을 반환\n",
    "        return self.sum / self.cnt"
   ]
  },
  {
   "cell_type": "code",
   "execution_count": 68,
   "metadata": {
    "collapsed": true
   },
   "outputs": [],
   "source": [
    "import sqlite3\n",
    "con = sqlite3.connect(\":memory:\")\n",
    "cur = con.cursor()"
   ]
  },
  {
   "cell_type": "code",
   "execution_count": 69,
   "metadata": {},
   "outputs": [
    {
     "data": {
      "text/plain": [
       "<sqlite3.Cursor at 0x7f822ef99c70>"
      ]
     },
     "execution_count": 69,
     "metadata": {},
     "output_type": "execute_result"
    }
   ],
   "source": [
    "cur.execute(\"CREATE TABLE User(Name text, Age int);\")"
   ]
  },
  {
   "cell_type": "code",
   "execution_count": 70,
   "metadata": {},
   "outputs": [
    {
     "name": "stdout",
     "output_type": "stream",
     "text": [
      "24.666666666666668\n"
     ]
    }
   ],
   "source": [
    "list = (('Tom', '16'), ('DSP', '33'), ('Derick', '25'))\n",
    "cur.executemany(\"INSERT INTO User VALUES(?, ?);\", list)\n",
    "con.create_aggregate(\"avg\", 1, Average)\n",
    "cur.execute(\"SELECT avg(Age) FROM User\")\n",
    "print(cur.fetchone()[0])"
   ]
  },
  {
   "cell_type": "markdown",
   "metadata": {},
   "source": [
    "## 6 자료형\n",
    "NULL, INTEGER, REAL(float), TEXT(str,bytes), BLOB(buffer)"
   ]
  },
  {
   "cell_type": "markdown",
   "metadata": {},
   "source": [
    "### 01 자료형 확인\n",
    "Python, Sql 자료형 형식을 교차적용"
   ]
  },
  {
   "cell_type": "code",
   "execution_count": 71,
   "metadata": {
    "collapsed": true
   },
   "outputs": [],
   "source": [
    "import sqlite3\n",
    "con = sqlite3.connect(\":memory:\")\n",
    "cur = con.cursor()"
   ]
  },
  {
   "cell_type": "code",
   "execution_count": 72,
   "metadata": {},
   "outputs": [
    {
     "data": {
      "text/plain": [
       "<sqlite3.Cursor at 0x7f822ef600a0>"
      ]
     },
     "execution_count": 72,
     "metadata": {},
     "output_type": "execute_result"
    }
   ],
   "source": [
    "cur.execute(\"Create Table tbl_1(Name TEXT, Age INTEGER, Money REAL);\") # SQL 방식으로 테이블 생성\n",
    "cur.execute(\"Create Table tbl_2(Name str, Age int, Money float)\")      # Python 방식으로 테이블 생성"
   ]
  },
  {
   "cell_type": "code",
   "execution_count": 73,
   "metadata": {},
   "outputs": [
    {
     "data": {
      "text/plain": [
       "<sqlite3.Cursor at 0x7f822ef600a0>"
      ]
     },
     "execution_count": 73,
     "metadata": {},
     "output_type": "execute_result"
    }
   ],
   "source": [
    "cur.execute(\"Insert into tbl_1 Values('Tiger',25, 123.45);\")\n",
    "cur.execute(\"Insert into tbl_2 Values('Tiger',25, 123.45);\")"
   ]
  },
  {
   "cell_type": "markdown",
   "metadata": {},
   "source": [
    "### 02 사용자정의 자료형\n",
    "입력과 조회시 객체에 대해 정의를 할 내용이 많아서 번거로움을 class로 극복"
   ]
  },
  {
   "cell_type": "code",
   "execution_count": 74,
   "metadata": {
    "collapsed": true
   },
   "outputs": [],
   "source": [
    "class Point(object):\n",
    "    def __init__(self, x, y):\n",
    "        self.x, self.y = x, y\n",
    "\n",
    "    def __repr__(self):  # Point 객체의 내용을 출력\n",
    "        return \"Point(%f, %f)\" % (self.x, self.y)"
   ]
  },
  {
   "cell_type": "code",
   "execution_count": 75,
   "metadata": {
    "collapsed": true
   },
   "outputs": [],
   "source": [
    "# class객체 --> SQLite3\n",
    "def PointAdapter(point):\n",
    "    return \"%f:%f\" % (point.x, point.y)\n",
    "\n",
    "# SQLite3 객체 --> class\n",
    "def PointConverter(s):\n",
    "    #x, y = list(map(float, s.decode().split(\",\")))\n",
    "    x, y = list(map(float, s.decode().split(\":\")))\n",
    "    return Point(x, y)"
   ]
  },
  {
   "cell_type": "code",
   "execution_count": 76,
   "metadata": {
    "collapsed": true
   },
   "outputs": [],
   "source": [
    "import sqlite3\n",
    "sqlite3.register_adapter(Point, PointAdapter)       # (파이썬 자료, 변환함수)\n",
    "sqlite3.register_converter(\"point\", PointConverter) # (SQLite 자료, 변환함수)\n",
    "\n",
    "p = Point(4, -3.2)\n",
    "p2 = Point(-1.4, 6.2)"
   ]
  },
  {
   "cell_type": "code",
   "execution_count": 77,
   "metadata": {},
   "outputs": [
    {
     "data": {
      "text/plain": [
       "<sqlite3.Cursor at 0x7f822ef60180>"
      ]
     },
     "execution_count": 77,
     "metadata": {},
     "output_type": "execute_result"
    }
   ],
   "source": [
    "con = sqlite3.connect(\":memory:\", detect_types=sqlite3.PARSE_DECLTYPES)\n",
    "cur = con.cursor()\n",
    "cur.execute(\"create table test(p point)\")\n",
    "cur.execute(\"insert into test values (?)\", (p, ))\n",
    "cur.execute(\"insert into test(p) values (?)\", (p2,))"
   ]
  },
  {
   "cell_type": "code",
   "execution_count": 78,
   "metadata": {
    "collapsed": true
   },
   "outputs": [],
   "source": [
    "# TypeError: 'tuple' object is not callable 오류가 발생\n",
    "# cur.execute(\"select * from test;\")\n",
    "# print([r[0] for r in cur])\n",
    "cur.close()\n",
    "con.close()"
   ]
  },
  {
   "cell_type": "markdown",
   "metadata": {},
   "source": [
    "## 7 DB Dump 만들기\n",
    "con.iterdump() DB이동 및 백업을 위한 추출"
   ]
  },
  {
   "cell_type": "code",
   "execution_count": 79,
   "metadata": {
    "collapsed": true
   },
   "outputs": [],
   "source": [
    "import sqlite3\n",
    "con = sqlite3.connect(\":memory:\")\n",
    "cur = con.cursor()"
   ]
  },
  {
   "cell_type": "code",
   "execution_count": 80,
   "metadata": {},
   "outputs": [
    {
     "data": {
      "text/plain": [
       "<sqlite3.Cursor at 0x7f822ef601f0>"
      ]
     },
     "execution_count": 80,
     "metadata": {},
     "output_type": "execute_result"
    }
   ],
   "source": [
    "cur.execute(\"CREATE TABLE PhoneBook(Name text, PhoneNum text);\")\n",
    "cur.execute(\"INSERT INTO PhoneBook VALUES('Derick', '010-1234-5678');\")\n",
    "list = (('Tom', '010-543-5432'), ('DSP', '010-123-1234'))\n",
    "cur.executemany(\"INSERT INTO PhoneBook VALUES(?, ?);\", list)"
   ]
  },
  {
   "cell_type": "code",
   "execution_count": 81,
   "metadata": {},
   "outputs": [
    {
     "name": "stdout",
     "output_type": "stream",
     "text": [
      "BEGIN TRANSACTION;\n",
      "CREATE TABLE PhoneBook(Name text, PhoneNum text);\n",
      "INSERT INTO \"PhoneBook\" VALUES('Derick','010-1234-5678');\n",
      "INSERT INTO \"PhoneBook\" VALUES('Tom','010-543-5432');\n",
      "INSERT INTO \"PhoneBook\" VALUES('DSP','010-123-1234');\n",
      "COMMIT;\n"
     ]
    }
   ],
   "source": [
    "for l in con.iterdump():\n",
    "    print(l)"
   ]
  },
  {
   "cell_type": "markdown",
   "metadata": {},
   "source": [
    "## 8 Terminal에서 SQLite3 관리하기\n",
    "con.iterdump() DB이동 및 백업을 위한 추출"
   ]
  },
  {
   "cell_type": "code",
   "execution_count": 82,
   "metadata": {},
   "outputs": [
    {
     "name": "stdout",
     "output_type": "stream",
     "text": [
      "pysqlite의 command 프로그램입니다.\n",
      "특수 명령어를 알고 싶으시면 '.help;'를 입력하세요.\n",
      "SQL 구문은 ';'으로 끝나야 합니다.\n",
      "프로그램을 종료합니다. 야옹~\n"
     ]
    }
   ],
   "source": [
    "# SQLite3 편집기 만들기\n",
    "import sqlite3, sys, re\n",
    "\n",
    "# 데이터베이스 경로 설정\n",
    "if len(sys.argv) == 2:\n",
    "    path = sys.argv[1]\n",
    "else:\n",
    "    path = \":memory:\"\n",
    "\n",
    "con = sqlite3.connect(path)\n",
    "con.isolation_level = None\n",
    "cur = con.cursor()\n",
    "buffer = \"\"\n",
    "\n",
    "def PrintIntro():\n",
    "    \"프로그램 소개 메시지\"\n",
    "    print(\"pysqlite의 command 프로그램입니다.\")\n",
    "    print(\"특수 명령어를 알고 싶으시면 '.help;'를 입력하세요.\")\n",
    "    print(\"SQL 구문은 ';'으로 끝나야 합니다.\")\n",
    "\n",
    "def PrintHelp():\n",
    "    \"도움말\"\n",
    "    print(\".dump\\t\\t데이터베이스의 내용을 덤프합니다.\")\n",
    "\n",
    "def SQLDump(con, file=None):\n",
    "    \"데이터베이스 내용 덤프\"\n",
    "    if file != None:\n",
    "        f = open(file, \"w\")\n",
    "    else:\n",
    "        f = sys.stdout\n",
    "\n",
    "    for l in con.iterdump():\n",
    "        f.write(\"{0}\\n\".format(l))\n",
    "\n",
    "    if f != sys.stdout:\n",
    "        f.close()\n",
    "\n",
    "PrintIntro()\n",
    "\n",
    "# while True:\n",
    "#     line = input(\"pysqlite>> \")\n",
    "#     if buffer == \"\" and line == \"\": break\n",
    "#     buffer += line\n",
    "\n",
    "#     if sqlite3.complete_statement(buffer):\n",
    "#         buffer = buffer.strip()\n",
    "#         if buffer[0]==\".\":\n",
    "#             cmd = re.sub('[ ;]', ' ', buffer).split()\n",
    "#             if cmd[0] == '.help':\n",
    "#                 PrintHelp()\n",
    "#             elif cmd[0] == '.dump':\n",
    "#                 if len(cmd) == 2:\n",
    "#                     SQLDump(con, cmd[1])\n",
    "#                 else:\n",
    "#                     SQLDump(con)\n",
    "#         else:\n",
    "#             try:\n",
    "#                 buffer = buffer.strip()\n",
    "#                 cur.execute(buffer)\n",
    "\n",
    "#                 if buffer.lstrip().upper().startswith(\"SELECT\"):\n",
    "#                     print(cur.fetchall())\n",
    "#             except sqlite3.Error as e:\n",
    "#                 print(\"Error: \", e.args[0])\n",
    "#             else:\n",
    "#                 print(\"구문이 성공적으로 수행되었습니다.\")\n",
    "#         buffer=\"\"\n",
    "con.close()\n",
    "print(\"프로그램을 종료합니다. 야옹~\")"
   ]
  }
 ],
 "metadata": {
  "kernelspec": {
   "display_name": "Python 3",
   "language": "python",
   "name": "python3"
  },
  "language_info": {
   "codemirror_mode": {
    "name": "ipython",
    "version": 3
   },
   "file_extension": ".py",
   "mimetype": "text/x-python",
   "name": "python",
   "nbconvert_exporter": "python",
   "pygments_lexer": "ipython3",
   "version": "3.6.1"
  }
 },
 "nbformat": 4,
 "nbformat_minor": 2
}
