{
 "cells": [
  {
   "cell_type": "markdown",
   "id": "e88e141b-adb0-45be-9820-3a80deb40bf2",
   "metadata": {},
   "source": [
    "# 파이썬에서 타입선언\n",
    "타입 검사를 위해서는 별도의 `Mypy` 모듈을 사용해야만 가능 합니다.\n",
    "\n",
    "## **1 [DataClasses](https://python.flowdas.com/library/dataclasses.html)**"
   ]
  },
  {
   "cell_type": "code",
   "execution_count": 1,
   "id": "41bfd93c-000c-49ef-8faf-3d4cafa471b6",
   "metadata": {},
   "outputs": [
    {
     "data": {
      "text/plain": [
       "InventoryItem(name='django', price=200, quantity=1)"
      ]
     },
     "execution_count": 1,
     "metadata": {},
     "output_type": "execute_result"
    }
   ],
   "source": [
    "from dataclasses import dataclass\n",
    "@dataclass\n",
    "class InventoryItem:\n",
    "    name: str\n",
    "    price: int\n",
    "    quantity: int = 1\n",
    "    \n",
    "    def cost(self) -> float:\n",
    "        return self.price * self.quantity\n",
    "\n",
    "InventoryItem(name='django', price=200)"
   ]
  },
  {
   "cell_type": "code",
   "execution_count": 2,
   "id": "60871dea-26d4-4157-90b9-ca86d46868bf",
   "metadata": {},
   "outputs": [
    {
     "data": {
      "text/plain": [
       "400"
      ]
     },
     "execution_count": 2,
     "metadata": {},
     "output_type": "execute_result"
    }
   ],
   "source": [
    "item = InventoryItem(name='django', price=200, quantity=2)\n",
    "item.cost()"
   ]
  },
  {
   "cell_type": "code",
   "execution_count": 3,
   "id": "78f2bb67-06de-4232-87e1-b216afac31e1",
   "metadata": {},
   "outputs": [
    {
     "data": {
      "text/plain": [
       "__main__.InventoryItem"
      ]
     },
     "execution_count": 3,
     "metadata": {},
     "output_type": "execute_result"
    }
   ],
   "source": [
    "try:\n",
    "    InventoryItem(name=300, price=200, quantity=2)\n",
    "except Exception as E:\n",
    "    print(E)\n",
    "InventoryItem"
   ]
  },
  {
   "cell_type": "markdown",
   "id": "835845ee-f9ce-46c4-874e-e79658626e59",
   "metadata": {},
   "source": [
    "## **2 Typing**"
   ]
  },
  {
   "cell_type": "code",
   "execution_count": 4,
   "id": "1f1dec53-d9c0-4161-8e77-5f49a9f3298c",
   "metadata": {},
   "outputs": [
    {
     "data": {
      "text/plain": [
       "[1, 2, 3, 'Python', 1]"
      ]
     },
     "execution_count": 4,
     "metadata": {},
     "output_type": "execute_result"
    }
   ],
   "source": [
    "from typing import List\n",
    "nums: List[int] = [1,2,3]\n",
    "\n",
    "try:\n",
    "    nums.append('Python')\n",
    "except Exception as E:\n",
    "    print(E)\n",
    "    \n",
    "nums.append(1)\n",
    "nums"
   ]
  },
  {
   "cell_type": "code",
   "execution_count": 5,
   "id": "b0591ad3-cd64-4012-ae11-c109211af69a",
   "metadata": {},
   "outputs": [
    {
     "name": "stdout",
     "output_type": "stream",
     "text": [
      "list indices must be integers or slices, not str\n"
     ]
    }
   ],
   "source": [
    "try:\n",
    "    nums['append'] = 'Python'\n",
    "except Exception as E:\n",
    "    print(E)"
   ]
  },
  {
   "cell_type": "code",
   "execution_count": 6,
   "id": "ecbbc06e-e8fb-43b4-bd81-f66e112be905",
   "metadata": {},
   "outputs": [
    {
     "data": {
      "text/plain": [
       "{'KR': 'South Korea', 'US': 'United States', 'CN': 'China'}"
      ]
     },
     "execution_count": 6,
     "metadata": {},
     "output_type": "execute_result"
    }
   ],
   "source": [
    "from typing import Dict\n",
    "countries: Dict[str, str] = {\"KR\": \"South Korea\", \"US\": \"United States\", \"CN\": \"China\"}\n",
    "countries"
   ]
  },
  {
   "cell_type": "code",
   "execution_count": 7,
   "id": "dc3c86fb-0d64-43fc-9e30-05c8cdc9c13f",
   "metadata": {},
   "outputs": [
    {
     "data": {
      "text/plain": [
       "10"
      ]
     },
     "execution_count": 7,
     "metadata": {},
     "output_type": "execute_result"
    }
   ],
   "source": [
    "from typing import Final\n",
    "TIME_OUT: Final[int] = 10\n",
    "TIME_OUT"
   ]
  },
  {
   "cell_type": "code",
   "execution_count": 8,
   "id": "61e41470-45e1-41e8-8bc7-1d4108a14c2b",
   "metadata": {},
   "outputs": [
    {
     "data": {
      "text/plain": [
       "(3, 'Dale', True)"
      ]
     },
     "execution_count": 8,
     "metadata": {},
     "output_type": "execute_result"
    }
   ],
   "source": [
    "from typing import Tuple\n",
    "user: Tuple[int, str, bool] = (3, \"Dale\", True)\n",
    "user"
   ]
  },
  {
   "cell_type": "code",
   "execution_count": 9,
   "id": "65a49cf1-488b-4220-8fe3-f93dc761f206",
   "metadata": {},
   "outputs": [
    {
     "data": {
      "text/plain": [
       "{'A', 'B', 'C'}"
      ]
     },
     "execution_count": 9,
     "metadata": {},
     "output_type": "execute_result"
    }
   ],
   "source": [
    "from typing import Set\n",
    "chars: Set[str] = {\"A\", \"B\", \"C\"}\n",
    "chars"
   ]
  },
  {
   "cell_type": "code",
   "execution_count": 10,
   "id": "d06e3c7c-651b-43c9-a80f-2d70c6635a7f",
   "metadata": {},
   "outputs": [
    {
     "name": "stdout",
     "output_type": "stream",
     "text": [
      "Hi, Dale!\n",
      "Hi, Dale!\n"
     ]
    }
   ],
   "source": [
    "from typing import Union\n",
    "\n",
    "def toString(num: Union[int, float]) -> str:\n",
    "    return str(num)\n",
    "\n",
    "from typing import Callable\n",
    "\n",
    "def repeat(greet: Callable[[str], str], name: str, times: int = 2) -> None:\n",
    "    for _ in range(times):\n",
    "        print(greet(name))\n",
    "\n",
    "# InLine 방식으로 타입 선언함수를 객체 설정에 적용\n",
    "greet: Callable[[str], str] = lambda name: f\"Hi, {name}!\"\n",
    "repeat(greet, \"Dale\")"
   ]
  },
  {
   "cell_type": "code",
   "execution_count": 11,
   "id": "1fbee2ec-3818-4fe1-a9d1-e2ceacd07670",
   "metadata": {},
   "outputs": [
    {
     "name": "stdout",
     "output_type": "stream",
     "text": [
      "Hi, Dale!\n",
      "Hi, Dale!\n"
     ]
    }
   ],
   "source": [
    "from typing import Iterable, List\n",
    "\n",
    "def toStrings(nums: Iterable[int]) -> List[str]:\n",
    "    return [str(x) for x in nums]\n",
    "\n",
    "# InLine 방식으로 타입 선언함수를 객체 설정에 적용\n",
    "greet: Callable[[str], str] = lambda name: f\"Hi, {name}!\"\n",
    "repeat(greet, \"Dale\")"
   ]
  },
  {
   "cell_type": "markdown",
   "id": "ab64788c-ae77-4f5a-a024-e555ec7f909a",
   "metadata": {},
   "source": [
    "## **2 [PyDantic](https://pydantic-docs.helpmanual.io/usage/dataclasses/)**\n",
    "앞에서는 별도 오류메세지 출력이 없지만 `PyDantic` 을 사용하면 오류를 출력 합니다"
   ]
  },
  {
   "cell_type": "code",
   "execution_count": 12,
   "id": "bf15a097-6ca8-4c60-9baa-0ada401090dd",
   "metadata": {},
   "outputs": [
    {
     "data": {
      "text/plain": [
       "_Pydantic_X_49892560(z=3, y=2, x=1)"
      ]
     },
     "execution_count": 12,
     "metadata": {},
     "output_type": "execute_result"
    }
   ],
   "source": [
    "import dataclasses\n",
    "import pydantic\n",
    "\n",
    "@dataclasses.dataclass\n",
    "class Z:\n",
    "    z: int\n",
    "\n",
    "@dataclasses.dataclass\n",
    "class Y(Z):\n",
    "    y: int = 0    \n",
    "    \n",
    "@pydantic.dataclasses.dataclass\n",
    "class X(Y):\n",
    "    x: int = 0\n",
    "\n",
    "foo = X(x=b'1', y='2', z='3')\n",
    "foo"
   ]
  },
  {
   "cell_type": "code",
   "execution_count": 13,
   "id": "1d0b9635-113a-439f-9858-f537650ddb31",
   "metadata": {},
   "outputs": [
    {
     "name": "stdout",
     "output_type": "stream",
     "text": [
      "1 validation error for X\n",
      "z\n",
      "  value is not a valid integer (type=type_error.integer)\n"
     ]
    }
   ],
   "source": [
    "try:\n",
    "    X(z='python')\n",
    "except pydantic.ValidationError as E:\n",
    "    print(E)"
   ]
  }
 ],
 "metadata": {
  "kernelspec": {
   "display_name": "Python 3 (ipykernel)",
   "language": "python",
   "name": "python3"
  },
  "language_info": {
   "codemirror_mode": {
    "name": "ipython",
    "version": 3
   },
   "file_extension": ".py",
   "mimetype": "text/x-python",
   "name": "python",
   "nbconvert_exporter": "python",
   "pygments_lexer": "ipython3",
   "version": "3.8.10"
  }
 },
 "nbformat": 4,
 "nbformat_minor": 5
}
